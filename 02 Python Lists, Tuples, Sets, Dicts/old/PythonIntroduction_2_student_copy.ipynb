{
 "cells": [
  {
   "attachments": {
    "pythonLogo.png": {
     "image/png": "[encoded data removed]"
    }
   },
   "cell_type": "markdown",
   "metadata": {
    "slideshow": {
     "slide_type": "slide"
    }
   },
   "source": [
    "![pythonLogo.png](attachment:pythonLogo.png)\n",
    "# Introduction to the Python language - Part 2 #\n",
    "\n",
    "### R. Mather May, 2020 ###\n",
    "\n",
    "## This section is concerned with the manipulation of Lists, Tuples and Strings. It may contain interactive code with errors for you to repair. At the end there is also <font color=\"red\">a logbook exercise for you to complete</font> ##\n",
    "\n",
    "### Sequences ###\n",
    "\n",
    "- these are ordered collections and include **Lists, Tuples** and **Strings**\n",
    "- but not **Sets** because these are unordered\n",
    "- the following code cells illustrate how sequences can be manipulated \n",
    " - ... fix the bugs (if any) to reveal the correct output ...\n",
    " - ... read the comments and 'print()' text carefully to understand the mechanisms being illustrated :)\n"
   ]
  },
  {
   "cell_type": "markdown",
   "metadata": {
    "slideshow": {
     "slide_type": "slide"
    }
   },
   "source": [
    "## Python Sequences ##\n",
    "\n",
    "- A <font color=\"red\">sequence</font> is a zero-indexed ‘array’ of things e.g. lists, tuples, strings\n",
    "- To access an item use ... <font color=\"red\">name[index]</font> e.g. print(tp[2]+st[2])\n",
    "- Can split using ... <font color=\"red\">name[start:stop]</font>, e.g. tp[2:4] \n",
    "- Can –ve index from other end e.g. ls[-3:-1] \n",
    "- Extract last items e.g. ls[-2:]\n",
    "- Extract first items e.g. ls[:2]\n",
    "- Remember lists are mutable (tuples are not!), so come with ‘methods’ e.g. ... <font color=\"red\">ls.remove(), ls.append(), ls.index(),  ls.extend(),  ls.count(), ls.insert(index, item)</font>\n",
    "- … and oddly a function for length of array ... <font color=\"red\">len(ls)</font> ... why not ls.length()? \n",
    "- To get help on available methods associated with a ‘class’ use ... <font color=\"red\">dir()</font> ... e.g. <font color=\"red\">dir(list)</font>\n",
    "- String formatting wraps strings as objects in which placeholders may be inserted using {}, e.g. ... <font color=\"red\">print(\"{0}@{1}.com\".format(name,\"example\"))</font>  "
   ]
  },
  {
   "cell_type": "code",
   "execution_count": 2,
   "metadata": {
    "slideshow": {
     "slide_type": "slide"
    },
    "vscode": {
     "languageId": "python"
    }
   },
   "outputs": [
    {
     "name": "stdout",
     "output_type": "stream",
     "text": [
      "['Tues', 'Tue', 'Wed', 'Thu', 'Fri', 'Sat', 'Sun']\n",
      "('Mon', 'Tue', 'Wed', 'Thu', 'Fri', 'Sat', 'Sun')\n",
      "Friday\n"
     ]
    }
   ],
   "source": [
    "# SEQUENCES - LISTS (variable ls), TUPLES (variable tp) & STRINGS (variable st)\n",
    "ls = [\"Tues\",\"Tue\",\"Wed\",\"Thu\",\"Fri\",\"Sat\",\"Sun\"]\n",
    "print(ls)\n",
    "tp = (\"Mon\",\"Tue\",\"Wed\",\"Thu\",\"Fri\",\"Sat\",\"Sun\")\n",
    "print(tp)\n",
    "st = \"Friday\"\n",
    "print(st)"
   ]
  },
  {
   "cell_type": "code",
   "execution_count": 2,
   "metadata": {
    "slideshow": {
     "slide_type": "slide"
    },
    "vscode": {
     "languageId": "python"
    }
   },
   "outputs": [
    {
     "name": "stdout",
     "output_type": "stream",
     "text": [
      "To access 3rd item of list _list use ... ls[2] ... =  Wed\n",
      "Assign item to new variable e.g. ls[2]=third_day ... \n",
      "Variable third_day =  Wed\n",
      "Can concatenate two items and print simultaneously ... e.g. print(tp[2]+st[2]) ... => Wedi ... \n",
      "Wedi\n"
     ]
    }
   ],
   "source": [
    "# ACCESSING SEQUENCE ITEMS WITH INDEXING\n",
    "ls = [\"Mon\",\"Tue\",\"Wed\",\"Thu\",\"Fri\",\"Sat\",\"Sun\"]\n",
    "tp = (\"Mon\",\"Tue\",\"Wed\",\"Thu\",\"Fri\",\"Sat\",\"Sun\")\n",
    "st = \"Friday\"\n",
    "\n",
    "print(\"To access 3rd item of list _list use ... ls[2] ... = \", ls[2])\n",
    "print(\"Assign item to new variable e.g. ls[2]=third_day ... \")\n",
    "third_day=ls[2]\n",
    "print(\"Variable third_day = \",third_day)\n",
    "print(\"Can concatenate two items and print simultaneously ... e.g. print(tp[2]+st[2]) ... => Wedi ... \")\n",
    "print(tp[2] + st[2])"
   ]
  },
  {
   "cell_type": "code",
   "execution_count": 3,
   "metadata": {
    "slideshow": {
     "slide_type": "slide"
    },
    "vscode": {
     "languageId": "python"
    }
   },
   "outputs": [
    {
     "name": "stdout",
     "output_type": "stream",
     "text": [
      "E.g. for ls[2:4] ...  ['Wed', 'Thu']\n",
      "E.g. for tp[2:4] ...  ('Wed', 'Thu')\n",
      "E.g. for st[2:4] ...  id\n"
     ]
    }
   ],
   "source": [
    "# SPLITTING SEQUENCES - Syntax is ... sequence[start:stop]\n",
    "ls = [\"Mon\",\"Tue\",\"Wed\",\"Thu\",\"Fri\",\"Sat\",\"Sun\"]\n",
    "tp = (\"Mon\",\"Tue\",\"Wed\",\"Thu\",\"Fri\",\"Sat\",\"Sun\")\n",
    "st = \"Friday\"\n",
    "\n",
    "print(\"E.g. for ls[2:4] ... \", ls[2:4])\n",
    "print(\"E.g. for tp[2:4] ... \", tp[2:4])\n",
    "print(\"E.g. for st[2:4] ... \", st[2:4])"
   ]
  },
  {
   "cell_type": "code",
   "execution_count": 4,
   "metadata": {
    "slideshow": {
     "slide_type": "slide"
    },
    "vscode": {
     "languageId": "python"
    }
   },
   "outputs": [
    {
     "name": "stdout",
     "output_type": "stream",
     "text": [
      "End of ls is ls[-1] ... is ... Sun\n",
      "To negative slice e.g. ls[-3:-1] ... is ... ['Fri', 'Sat']\n",
      "To shorthand slice last two items e.g. ls[-2:]  ... is ... ['Sat', 'Sun']\n",
      "To shorthand slice first two items e.g. ls[2:]  ... is ... ['Mon', 'Tue']\n"
     ]
    }
   ],
   "source": [
    "# NEGATIVE INDEXING / SHORTHAND SLICING - Allows access from end of sequence where -1 = end of sequence\"\n",
    "ls = [\"Mon\",\"Tue\",\"Wed\",\"Thu\",\"Fri\",\"Sat\",\"Sun\"]\n",
    "\n",
    "print(\"End of ls is ls[-1] ... is ...\", ls[-1])\n",
    "print(\"To negative slice e.g. ls[-3:-1] ... is ...\", ls[-3:-1])\n",
    "print(\"To shorthand slice last two items e.g. ls[-2:]  ... is ...\", ls[-2:])\n",
    "print(\"To shorthand slice first two items e.g. ls[2:]  ... is ...\", ls[:2])"
   ]
  },
  {
   "cell_type": "code",
   "execution_count": 5,
   "metadata": {
    "slideshow": {
     "slide_type": "slide"
    },
    "vscode": {
     "languageId": "python"
    }
   },
   "outputs": [
    {
     "name": "stdout",
     "output_type": "stream",
     "text": [
      "Use dot notation to call method ... ls.remove('Sun')\n",
      "List ls after ls.remove('Sun') is ...  ['Mon', 'Tue', 'Wed', 'Thu', 'Fri', 'Sat']\n",
      "List ls after ls.append('Sun') is ...  ['Mon', 'Tue', 'Wed', 'Thu', 'Fri', 'Sat', 'Sun']\n",
      "The index of an item ... ls.index('Wed') is ...  2\n",
      "List ls after EXTENDING with ls.extend(['Mon', 'Tue']) is ...  ['Mon', 'Tue', 'Wed', 'Thu', 'Fri', 'Sat', 'Sun', 'Mon', 'Tue']\n",
      "To count the occurences of an item ... ls.count('Tue') is ...  2\n",
      "To count all items ... use the len function ... len(ls) ... is ...  9\n",
      "Can insert item using ls.insert(index, item). E.g. ls.insert(-2, 'Sun+1') ...  ['Mon', 'Tue', 'Wed', 'Thu', 'Fri', 'Sat', 'Sun', 'Sun+1', 'Mon', 'Tue']\n"
     ]
    }
   ],
   "source": [
    "# WORKING WITH LISTS - LISTS ARE OBJECTS WITH METHODS - e.g. .remove, .append, .extend, . insert\n",
    "ls = [\"Mon\",\"Tue\",\"Wed\",\"Thu\",\"Fri\",\"Sat\",\"Sun\"]\n",
    "\n",
    "print(\"Use dot notation to call method ... ls.remove('Sun')\")\n",
    "ls.remove(\"Sun\")\n",
    "print(\"List ls after ls.remove('Sun') is ... \", ls)\n",
    "ls.append(\"Sun\")\n",
    "print(\"List ls after ls.append('Sun') is ... \", ls)\n",
    "print(\"The index of an item ... ls.index('Wed') is ... \", ls.index(\"Wed\"))\n",
    "ls.extend(['Mon', 'Tue'])\n",
    "print(\"List ls after EXTENDING with ls.extend(['Mon', 'Tue']) is ... \", ls)\n",
    "print(\"To count the occurences of an item ... ls.count('Tue') is ... \", ls.count('Tue'))\n",
    "print(\"To count all items ... use the len function ... len(ls) ... is ... \", len(ls))\n",
    "ls.insert(-2, 'Sun+1')\n",
    "print(\"Can insert item using ls.insert(index, item). E.g. ls.insert(-2, 'Sun+1') ... \", ls)"
   ]
  },
  {
   "cell_type": "code",
   "execution_count": 6,
   "metadata": {
    "slideshow": {
     "slide_type": "slide"
    },
    "vscode": {
     "languageId": "python"
    }
   },
   "outputs": [
    {
     "name": "stdout",
     "output_type": "stream",
     "text": [
      "To obtain a list of all list methods use dir(list)\n",
      "['__add__', '__class__', '__contains__', '__delattr__', '__delitem__', '__dir__', '__doc__', '__eq__', '__format__', '__ge__', '__getattribute__', '__getitem__', '__gt__', '__hash__', '__iadd__', '__imul__', '__init__', '__init_subclass__', '__iter__', '__le__', '__len__', '__lt__', '__mul__', '__ne__', '__new__', '__reduce__', '__reduce_ex__', '__repr__', '__reversed__', '__rmul__', '__setattr__', '__setitem__', '__sizeof__', '__str__', '__subclasshook__', 'append', 'clear', 'copy', 'count', 'extend', 'index', 'insert', 'pop', 'remove', 'reverse', 'sort']\n"
     ]
    }
   ],
   "source": [
    "# THE dir() FUNCTION - returns all properties and methods of an object\n",
    "ls = [\"Mon\",\"Tue\",\"Wed\",\"Thu\",\"Fri\",\"Sat\",\"Sun\"]\n",
    "\n",
    "print(\"To obtain a list of all list methods use dir(list)\")\n",
    "print(dir(list))"
   ]
  },
  {
   "cell_type": "code",
   "execution_count": 7,
   "metadata": {
    "slideshow": {
     "slide_type": "slide"
    },
    "vscode": {
     "languageId": "python"
    }
   },
   "outputs": [
    {
     "name": "stdout",
     "output_type": "stream",
     "text": [
      "End of string example from ... ext=file[-4:] ... is ...  .txt\n",
      "can use 'format(...)' to insert values in curly brace placeholders ... John@example.com\n"
     ]
    }
   ],
   "source": [
    "# WORKING WITH STRINGS\n",
    "file=\"File.txt\"\n",
    "ext=file[-4:]\n",
    "print(\"End of string example from ... ext=file[-4:] ... is ... \", ext)\n",
    "name=\"John\"\n",
    "print(\"can use 'format(...)' to insert values in curly brace placeholders ...\", \"{0}@{1}.com\".format(name,\"example\"))"
   ]
  },
  {
   "cell_type": "code",
   "execution_count": 8,
   "metadata": {
    "slideshow": {
     "slide_type": "slide"
    },
    "vscode": {
     "languageId": "python"
    }
   },
   "outputs": [
    {
     "name": "stdout",
     "output_type": "stream",
     "text": [
      "li[-1][0:5] gives ...  Green\n"
     ]
    }
   ],
   "source": [
    "# WORKED EXAMPLE 1 - index and splitting in one step\n",
    "li = [\"USA\",\"Mexico\",\"Canada\",\"Greenland\"]\n",
    "print(\"li[-1][0:5] gives ... \", li[-1][0:5])"
   ]
  },
  {
   "cell_type": "code",
   "execution_count": 9,
   "metadata": {
    "slideshow": {
     "slide_type": "slide"
    },
    "vscode": {
     "languageId": "python"
    }
   },
   "outputs": [
    {
     "name": "stdout",
     "output_type": "stream",
     "text": [
      "Formatting a string ...  A week has 7 days, the longest month has 31, while the longest Julian year has 365\n"
     ]
    }
   ],
   "source": [
    "# WORKED EXAMPLE 2 - formatting a string\n",
    "ls =[7, 31, 365]\n",
    "print(\"Formatting a string ... \", \"A week has {0} days, the longest month has {1}, while the longest Julian year has {2}\".format(ls[0],ls[1],ls[2]))"
   ]
  },
  {
   "cell_type": "markdown",
   "metadata": {
    "slideshow": {
     "slide_type": "slide"
    }
   },
   "source": [
    "## <font color=\"red\">Logbook Exercise 2</font> ##\n",
    "\n",
    "Create a 'code' cell below. In this do the following:\n",
    "\n",
    "- line 1 - Use a comment to title your exercise - e.g. \"Unit 2 Exercise\" \n",
    "- line 2 - create a list ... li = [\"USA\",\"Mexico\",\"Canada\"]\n",
    "- line 3 - append \"Greenland\" to the list\n",
    "- l4 - print the list to de,monstrate that Greenland is attached\n",
    "- l5 - remove \"Greenland\"\n",
    "- l6 - print the list to de,monstrate that Greenland is removed\n",
    "- l7 - insert \"Greenland\" at the beginning of the list\n",
    "- l8 - print the resul of l7\n",
    "- l9 - shorthand slice the list to extract the first two items - simultaneausly print the output\n",
    "- l10 - use a negative index to extract the second to last item - simultaneausly print the output\n",
    "- l11 - use a splitting sequence to extract the middle two items - simultaneausly print the output\n",
    "\n",
    "An example of fully described printed output is presented below (some clues here also)\n",
    "Don't worry of your text output is different - it is the contents of the list that matter\n",
    "\n",
    "```\n",
    "li.append('Greenland') gives ...  ['USA', 'Mexico', 'Canada', 'Greenland']\n",
    "li.remove('Greenland') gives ...  ['USA', 'Mexico', 'Canada']\n",
    "li.insert(0,'Greenland') gives ...  ['Greenland', 'USA', 'Mexico', 'Canada']\n",
    "li[:2] gives ...  ['Greenland', 'USA']\n",
    "li[-2] gives ...  Mexico\n",
    "li[1:3] gives ...  ['USA', 'Mexico']\n",
    "```"
   ]
  },
  {
   "cell_type": "code",
   "execution_count": null,
   "metadata": {
    "slideshow": {
     "slide_type": "slide"
    },
    "vscode": {
     "languageId": "python"
    }
   },
   "outputs": [],
   "source": []
  },
  {
   "cell_type": "markdown",
   "metadata": {
    "slideshow": {
     "slide_type": "slide"
    }
   },
   "source": [
    "# References & Learning Resources#\n",
    "\n",
    " - W3Schools - there are many online resources for Python but the Python tutorial at https://www.w3schools.com/python/ is thorough, progressive, interactive and free. If you complete the main tutorial (skip the bits on installing Python as we will be using Ancaconda/Jupyter) the later sections on **\"File Handling\"**, **\"NumPy\"** and **\"Machine Learning\"** are also relevant. The **\"Exercises\"** and **\"Quiz\"** sections are also worthwhile activities for consolidating knowledge.\n",
    " - **Phillips, D. (2015). Python 3 object-oriented programming. Packt Publishing Ltd.** Although a 3rd edition has been released the 2nd edition is still pretty much up-to-date  and seems to be widely available in PDF format. As an added bonus this covers Design Patterns in some detail.\n",
    " - **https://www.learnpython.org/** is another comprehensive and intercative resource\n",
    " - **https://docs.python.org/3.7/tutorial/** is Python's own text-based tutorial. Despite the seemingly daunting number of sub-sections, it can be consumed in a fairly short time and manages to be both concise and comprehensive.\n",
    " - **Think Python 2e** is an excellent in-depth and free version of the O'Reilly hardcopy by Allen B. Downey and is available here ... https://greenteapress.com/wp/think-python-2e/\n",
    " - I have also adapted examples from *Learn Python In A Day: The Ultimate Crash Course To Learning The Basics Of Python In No Time* by *Acodemy* but this is out of print and is only mentioned for completeness."
   ]
  }
 ],
 "metadata": {
  "celltoolbar": "Slideshow",
  "kernelspec": {
   "display_name": "Python 3 (ipykernel)",
   "language": "python",
   "name": "python3"
  },
  "vscode": {
   "interpreter": {
    "hash": "31f2aee4e71d21fbe5cf8b01ff0e069b9275f58929596ceb00d14d90e3e16cd6"
   }
  }
 },
 "nbformat": 4,
 "nbformat_minor": 4
}
