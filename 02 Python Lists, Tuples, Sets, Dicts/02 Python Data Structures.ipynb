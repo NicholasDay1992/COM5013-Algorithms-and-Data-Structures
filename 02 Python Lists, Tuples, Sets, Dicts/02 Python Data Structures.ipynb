{
  "cells": [
    {
      "cell_type": "markdown",
      "id": "1eba3b72",
      "metadata": {
        "id": "1eba3b72"
      },
      "source": [
        "# 02 Python Data Structures\n"
      ]
    },
    {
      "cell_type": "markdown",
      "id": "104769f3",
      "metadata": {},
      "source": [
        "## Plan for the Lecture:\n",
        "\n",
        "1. Concept of a Data Structure\n",
        "\n",
        "2. Array and Strings\n",
        "\n",
        "3. Lists \n",
        "\n",
        "4. Tuples \n",
        "\n",
        "5. Sets\n",
        "\n",
        "6. Dictionaries"
      ]
    },
    {
      "cell_type": "markdown",
      "id": "3ec7f7f9",
      "metadata": {},
      "source": [
        "## 1.0 Concept of a Data Structure\n",
        "\n",
        "* Unlike a variable which stores one value at a time, a data structure is built to store a collection of values. \n",
        "\n",
        "* Indexed structures allow for random access (RAM) – can locate an item by the index location. An array and vector allow for this.  \n",
        "\n",
        "* Non-indexed structures (or referenced) structures, on the other hand, are navigated sequentially. For example, a stream of data from the keyboard or from a file, or a linked list in which each node has a pointer the next in the sequence.\n",
        "\n"
      ]
    },
    {
      "cell_type": "markdown",
      "id": "c1b24d4f",
      "metadata": {},
      "source": [
        "## 1.1 Applications of Data Structures\n",
        "\n",
        "* The performance of typical operations (insert, delete, search and sort) vary across the structures. \n",
        "\n",
        "* Big O notation (complexity): constant, linear, polynomial, linearithmic, quadratic etc. \n",
        "\n",
        "* Path finding algorithms (search / navigation).\n",
        "\n",
        "* Computer vision (representation of media as numbers).\n"
      ]
    },
    {
      "cell_type": "markdown",
      "id": "e73585cd",
      "metadata": {},
      "source": [
        "## 2.0 Array \n",
        "\n",
        "* The items in an array are called elements.\n",
        "\n",
        "* We specify how many elements an array will have when we declare the size of the array (if ‘fixed-size’), unlike flexible sized collections (e.g. ArrayList in Java).\n",
        "\n",
        "* Elements are numbered and can referred to by number inside the `[ ]` is called the index. This is used when data is input and output.\n",
        "\n",
        "* Can only store data if it matches the type the array is declared with.\n",
        "\n"
      ]
    },
    {
      "cell_type": "markdown",
      "id": "79a86422",
      "metadata": {},
      "source": [
        "## 2.1 Strings are an Array (or in Python, an str list)\n",
        "\n",
        "* A String (str) object is an immutable array of characters. \n",
        "\n",
        "* Each character has a numbered position in the array (index):\n",
        "\n",
        "* We can make use of functions to be able to perform operations on the string.\n",
        "\n"
      ]
    },
    {
      "cell_type": "code",
      "execution_count": 1,
      "id": "918dc6ae",
      "metadata": {},
      "outputs": [],
      "source": [
        "name = \"Nick\""
      ]
    },
    {
      "cell_type": "code",
      "execution_count": 4,
      "id": "e6a189eb",
      "metadata": {},
      "outputs": [
        {
          "data": {
            "text/plain": [
              "'c'"
            ]
          },
          "execution_count": 4,
          "metadata": {},
          "output_type": "execute_result"
        }
      ],
      "source": [
        "name[2]"
      ]
    },
    {
      "cell_type": "code",
      "execution_count": 5,
      "id": "891b7600",
      "metadata": {},
      "outputs": [
        {
          "name": "stdout",
          "output_type": "stream",
          "text": [
            "[0] : N\n",
            "[1] : i\n",
            "[2] : c\n",
            "[3] : k\n"
          ]
        }
      ],
      "source": [
        "i = 0\n",
        "for x in name: \n",
        "    print(\"[\" + str(i) + \"]\" + \" : \" + str(x))\n",
        "    i += 1"
      ]
    },
    {
      "cell_type": "code",
      "execution_count": 7,
      "id": "7a01f263",
      "metadata": {},
      "outputs": [
        {
          "name": "stdout",
          "output_type": "stream",
          "text": [
            "[ 0 ]  :  N\n",
            "[ 1 ]  :  i\n",
            "[ 2 ]  :  c\n",
            "[ 3 ]  :  k\n"
          ]
        }
      ],
      "source": [
        "i = 0\n",
        "for x in name: \n",
        "    print(\"[\", i, \"]\", \" : \", x)\n",
        "    i += 1"
      ]
    },
    {
      "cell_type": "code",
      "execution_count": 8,
      "id": "a28fc426",
      "metadata": {},
      "outputs": [
        {
          "data": {
            "text/plain": [
              "'N'"
            ]
          },
          "execution_count": 8,
          "metadata": {},
          "output_type": "execute_result"
        }
      ],
      "source": [
        "name[0]"
      ]
    },
    {
      "cell_type": "code",
      "execution_count": 9,
      "id": "cc8ff8e8",
      "metadata": {},
      "outputs": [
        {
          "data": {
            "text/plain": [
              "'k'"
            ]
          },
          "execution_count": 9,
          "metadata": {},
          "output_type": "execute_result"
        }
      ],
      "source": [
        "name[3]"
      ]
    },
    {
      "cell_type": "markdown",
      "id": "2b82c1b7",
      "metadata": {},
      "source": [
        "## 2.2 The `dir` of methods"
      ]
    },
    {
      "cell_type": "code",
      "execution_count": 10,
      "id": "67dc765f",
      "metadata": {},
      "outputs": [
        {
          "data": {
            "text/plain": [
              "['__add__',\n",
              " '__class__',\n",
              " '__contains__',\n",
              " '__delattr__',\n",
              " '__dir__',\n",
              " '__doc__',\n",
              " '__eq__',\n",
              " '__format__',\n",
              " '__ge__',\n",
              " '__getattribute__',\n",
              " '__getitem__',\n",
              " '__getnewargs__',\n",
              " '__gt__',\n",
              " '__hash__',\n",
              " '__init__',\n",
              " '__init_subclass__',\n",
              " '__iter__',\n",
              " '__le__',\n",
              " '__len__',\n",
              " '__lt__',\n",
              " '__mod__',\n",
              " '__mul__',\n",
              " '__ne__',\n",
              " '__new__',\n",
              " '__reduce__',\n",
              " '__reduce_ex__',\n",
              " '__repr__',\n",
              " '__rmod__',\n",
              " '__rmul__',\n",
              " '__setattr__',\n",
              " '__sizeof__',\n",
              " '__str__',\n",
              " '__subclasshook__',\n",
              " 'capitalize',\n",
              " 'casefold',\n",
              " 'center',\n",
              " 'count',\n",
              " 'encode',\n",
              " 'endswith',\n",
              " 'expandtabs',\n",
              " 'find',\n",
              " 'format',\n",
              " 'format_map',\n",
              " 'index',\n",
              " 'isalnum',\n",
              " 'isalpha',\n",
              " 'isascii',\n",
              " 'isdecimal',\n",
              " 'isdigit',\n",
              " 'isidentifier',\n",
              " 'islower',\n",
              " 'isnumeric',\n",
              " 'isprintable',\n",
              " 'isspace',\n",
              " 'istitle',\n",
              " 'isupper',\n",
              " 'join',\n",
              " 'ljust',\n",
              " 'lower',\n",
              " 'lstrip',\n",
              " 'maketrans',\n",
              " 'partition',\n",
              " 'removeprefix',\n",
              " 'removesuffix',\n",
              " 'replace',\n",
              " 'rfind',\n",
              " 'rindex',\n",
              " 'rjust',\n",
              " 'rpartition',\n",
              " 'rsplit',\n",
              " 'rstrip',\n",
              " 'split',\n",
              " 'splitlines',\n",
              " 'startswith',\n",
              " 'strip',\n",
              " 'swapcase',\n",
              " 'title',\n",
              " 'translate',\n",
              " 'upper',\n",
              " 'zfill']"
            ]
          },
          "execution_count": 10,
          "metadata": {},
          "output_type": "execute_result"
        }
      ],
      "source": [
        "dir(str)"
      ]
    },
    {
      "cell_type": "code",
      "execution_count": 11,
      "id": "7021809b",
      "metadata": {},
      "outputs": [
        {
          "data": {
            "text/plain": [
              "2"
            ]
          },
          "execution_count": 11,
          "metadata": {},
          "output_type": "execute_result"
        }
      ],
      "source": [
        "name.find('c')"
      ]
    },
    {
      "cell_type": "code",
      "execution_count": 12,
      "id": "2aa2ab17",
      "metadata": {},
      "outputs": [
        {
          "data": {
            "text/plain": [
              "-1"
            ]
          },
          "execution_count": 12,
          "metadata": {},
          "output_type": "execute_result"
        }
      ],
      "source": [
        "name.find('C')"
      ]
    },
    {
      "cell_type": "code",
      "execution_count": 13,
      "id": "93dc58c4",
      "metadata": {},
      "outputs": [
        {
          "data": {
            "text/plain": [
              "'nick'"
            ]
          },
          "execution_count": 13,
          "metadata": {},
          "output_type": "execute_result"
        }
      ],
      "source": [
        "name.lower()"
      ]
    },
    {
      "cell_type": "code",
      "execution_count": 14,
      "id": "43183532",
      "metadata": {},
      "outputs": [
        {
          "data": {
            "text/plain": [
              "'NICK'"
            ]
          },
          "execution_count": 14,
          "metadata": {},
          "output_type": "execute_result"
        }
      ],
      "source": [
        "name.upper()"
      ]
    },
    {
      "cell_type": "markdown",
      "id": "2a9e354f",
      "metadata": {},
      "source": [
        "## 3. Lists `[ ]`\n",
        "\n",
        "* A list in Python does use the subscript operator `[ ]` typically associated with an array. Elements in this list are also indexed.\n",
        "\n",
        "* The list will maintain a pointer (reference) to objects, rather the integer values (remember Python types are classes).\n",
        "\n",
        "* Lists in python are resizable, unlike static arrays which are fixed.\n",
        "\n",
        "* Python lists can store elements of different types, whereas arrays are declared to store values of one type.\n"
      ]
    },
    {
      "cell_type": "code",
      "execution_count": 15,
      "id": "9045400c",
      "metadata": {},
      "outputs": [
        {
          "data": {
            "text/plain": [
              "[1, 2.25, 'Nick', 'N', True]"
            ]
          },
          "execution_count": 15,
          "metadata": {},
          "output_type": "execute_result"
        }
      ],
      "source": [
        "l = [1,2.25,\"Nick\",\"N\",True]\n",
        "l"
      ]
    },
    {
      "cell_type": "code",
      "execution_count": 16,
      "id": "c7ad067e",
      "metadata": {},
      "outputs": [
        {
          "data": {
            "text/plain": [
              "[1, 2, 3, 4, 5, 6]"
            ]
          },
          "execution_count": 16,
          "metadata": {},
          "output_type": "execute_result"
        }
      ],
      "source": [
        "l = [1,2,3,4,5,6]\n",
        "l"
      ]
    },
    {
      "cell_type": "code",
      "execution_count": 17,
      "id": "55fe606b",
      "metadata": {},
      "outputs": [
        {
          "data": {
            "text/plain": [
              "1"
            ]
          },
          "execution_count": 17,
          "metadata": {},
          "output_type": "execute_result"
        }
      ],
      "source": [
        "l[0]"
      ]
    },
    {
      "cell_type": "code",
      "execution_count": 18,
      "id": "c972039a",
      "metadata": {},
      "outputs": [
        {
          "data": {
            "text/plain": [
              "6"
            ]
          },
          "execution_count": 18,
          "metadata": {},
          "output_type": "execute_result"
        }
      ],
      "source": [
        "l[-1]"
      ]
    },
    {
      "cell_type": "code",
      "execution_count": 19,
      "id": "a6e5eeb9",
      "metadata": {},
      "outputs": [
        {
          "data": {
            "text/plain": [
              "5"
            ]
          },
          "execution_count": 19,
          "metadata": {},
          "output_type": "execute_result"
        }
      ],
      "source": [
        "l[-2]"
      ]
    },
    {
      "cell_type": "code",
      "execution_count": 20,
      "id": "2f53610f",
      "metadata": {},
      "outputs": [
        {
          "data": {
            "text/plain": [
              "[1, 2, 3, 4, 5, 6]"
            ]
          },
          "execution_count": 20,
          "metadata": {},
          "output_type": "execute_result"
        }
      ],
      "source": [
        "l"
      ]
    },
    {
      "cell_type": "code",
      "execution_count": 21,
      "id": "78df89ed",
      "metadata": {},
      "outputs": [
        {
          "data": {
            "text/plain": [
              "[3, 4, 5]"
            ]
          },
          "execution_count": 21,
          "metadata": {},
          "output_type": "execute_result"
        }
      ],
      "source": [
        "l[2:5]"
      ]
    },
    {
      "cell_type": "code",
      "execution_count": 22,
      "id": "a12c8033",
      "metadata": {},
      "outputs": [
        {
          "data": {
            "text/plain": [
              "list"
            ]
          },
          "execution_count": 22,
          "metadata": {},
          "output_type": "execute_result"
        }
      ],
      "source": [
        "type(l)"
      ]
    },
    {
      "cell_type": "code",
      "execution_count": 23,
      "id": "f0223eb3",
      "metadata": {},
      "outputs": [
        {
          "data": {
            "text/plain": [
              "['__add__',\n",
              " '__class__',\n",
              " '__class_getitem__',\n",
              " '__contains__',\n",
              " '__delattr__',\n",
              " '__delitem__',\n",
              " '__dir__',\n",
              " '__doc__',\n",
              " '__eq__',\n",
              " '__format__',\n",
              " '__ge__',\n",
              " '__getattribute__',\n",
              " '__getitem__',\n",
              " '__gt__',\n",
              " '__hash__',\n",
              " '__iadd__',\n",
              " '__imul__',\n",
              " '__init__',\n",
              " '__init_subclass__',\n",
              " '__iter__',\n",
              " '__le__',\n",
              " '__len__',\n",
              " '__lt__',\n",
              " '__mul__',\n",
              " '__ne__',\n",
              " '__new__',\n",
              " '__reduce__',\n",
              " '__reduce_ex__',\n",
              " '__repr__',\n",
              " '__reversed__',\n",
              " '__rmul__',\n",
              " '__setattr__',\n",
              " '__setitem__',\n",
              " '__sizeof__',\n",
              " '__str__',\n",
              " '__subclasshook__',\n",
              " 'append',\n",
              " 'clear',\n",
              " 'copy',\n",
              " 'count',\n",
              " 'extend',\n",
              " 'index',\n",
              " 'insert',\n",
              " 'pop',\n",
              " 'remove',\n",
              " 'reverse',\n",
              " 'sort']"
            ]
          },
          "execution_count": 23,
          "metadata": {},
          "output_type": "execute_result"
        }
      ],
      "source": [
        "dir(list)"
      ]
    },
    {
      "cell_type": "code",
      "execution_count": 24,
      "id": "734ca2d6",
      "metadata": {},
      "outputs": [
        {
          "data": {
            "text/plain": [
              "[1, 2, 3, 4, 5, 6, 7]"
            ]
          },
          "execution_count": 24,
          "metadata": {},
          "output_type": "execute_result"
        }
      ],
      "source": [
        "l.append(7)\n",
        "l"
      ]
    },
    {
      "cell_type": "code",
      "execution_count": 25,
      "id": "5fc103ca",
      "metadata": {},
      "outputs": [
        {
          "data": {
            "text/plain": [
              "[1, 2, 3, 4, 5, 6]"
            ]
          },
          "execution_count": 25,
          "metadata": {},
          "output_type": "execute_result"
        }
      ],
      "source": [
        "l.remove(7)\n",
        "l"
      ]
    },
    {
      "cell_type": "markdown",
      "id": "9b6ced46",
      "metadata": {},
      "source": [
        "## 4. Tuples in Python `( )`\n",
        "\n",
        "* We’ve seen that a Python list is indexed and can store elements of different types (heterogeneity) \n",
        "\n",
        "* Tuples are constant (immutable) – once they are declared, they cannot be reassigned. \n",
        "\n",
        "* A list is declared with `[ ]` whereas the tuple is declared with `( )`\n",
        "\n",
        "* We can still refer to elements in a tuple via the `[ ]` \n"
      ]
    },
    {
      "cell_type": "code",
      "execution_count": 26,
      "id": "5c1eb4d8",
      "metadata": {},
      "outputs": [
        {
          "data": {
            "text/plain": [
              "(1, 2, 3, 4, 5, 6)"
            ]
          },
          "execution_count": 26,
          "metadata": {},
          "output_type": "execute_result"
        }
      ],
      "source": [
        "t = (1,2,3,4,5,6)\n",
        "t"
      ]
    },
    {
      "cell_type": "code",
      "execution_count": 28,
      "id": "5f9a7f4d",
      "metadata": {},
      "outputs": [
        {
          "data": {
            "text/plain": [
              "3"
            ]
          },
          "execution_count": 28,
          "metadata": {},
          "output_type": "execute_result"
        }
      ],
      "source": [
        "t[2]"
      ]
    },
    {
      "cell_type": "code",
      "execution_count": 30,
      "id": "effe2260",
      "metadata": {},
      "outputs": [
        {
          "ename": "TypeError",
          "evalue": "'tuple' object does not support item assignment",
          "output_type": "error",
          "traceback": [
            "\u001b[0;31m---------------------------------------------------------------------------\u001b[0m",
            "\u001b[0;31mTypeError\u001b[0m                                 Traceback (most recent call last)",
            "Cell \u001b[0;32mIn [30], line 1\u001b[0m\n\u001b[0;32m----> 1\u001b[0m t[\u001b[38;5;241m0\u001b[39m] \u001b[38;5;241m=\u001b[39m \u001b[38;5;241m5\u001b[39m\n",
            "\u001b[0;31mTypeError\u001b[0m: 'tuple' object does not support item assignment"
          ]
        }
      ],
      "source": [
        "t[0] = 5"
      ]
    },
    {
      "cell_type": "code",
      "execution_count": 31,
      "id": "79f7e94f",
      "metadata": {},
      "outputs": [
        {
          "data": {
            "text/plain": [
              "tuple"
            ]
          },
          "execution_count": 31,
          "metadata": {},
          "output_type": "execute_result"
        }
      ],
      "source": [
        "type(t)"
      ]
    },
    {
      "cell_type": "code",
      "execution_count": 32,
      "id": "1f7936fb",
      "metadata": {},
      "outputs": [
        {
          "data": {
            "text/plain": [
              "['__add__',\n",
              " '__class__',\n",
              " '__class_getitem__',\n",
              " '__contains__',\n",
              " '__delattr__',\n",
              " '__dir__',\n",
              " '__doc__',\n",
              " '__eq__',\n",
              " '__format__',\n",
              " '__ge__',\n",
              " '__getattribute__',\n",
              " '__getitem__',\n",
              " '__getnewargs__',\n",
              " '__gt__',\n",
              " '__hash__',\n",
              " '__init__',\n",
              " '__init_subclass__',\n",
              " '__iter__',\n",
              " '__le__',\n",
              " '__len__',\n",
              " '__lt__',\n",
              " '__mul__',\n",
              " '__ne__',\n",
              " '__new__',\n",
              " '__reduce__',\n",
              " '__reduce_ex__',\n",
              " '__repr__',\n",
              " '__rmul__',\n",
              " '__setattr__',\n",
              " '__sizeof__',\n",
              " '__str__',\n",
              " '__subclasshook__',\n",
              " 'count',\n",
              " 'index']"
            ]
          },
          "execution_count": 32,
          "metadata": {},
          "output_type": "execute_result"
        }
      ],
      "source": [
        "dir(tuple)"
      ]
    },
    {
      "cell_type": "code",
      "execution_count": 35,
      "id": "2ead6f15",
      "metadata": {},
      "outputs": [],
      "source": [
        "t1 = (1,1,1,1,1,2,2,2,2,2,2,2,2,2,3,3,3,3,3,3)"
      ]
    },
    {
      "cell_type": "code",
      "execution_count": 36,
      "id": "7f3797bc",
      "metadata": {},
      "outputs": [
        {
          "data": {
            "text/plain": [
              "9"
            ]
          },
          "execution_count": 36,
          "metadata": {},
          "output_type": "execute_result"
        }
      ],
      "source": [
        "t1.count(2)"
      ]
    },
    {
      "cell_type": "code",
      "execution_count": 38,
      "id": "7222be16",
      "metadata": {},
      "outputs": [
        {
          "data": {
            "text/plain": [
              "(1, 2, 3, 4, 5, 6)"
            ]
          },
          "execution_count": 38,
          "metadata": {},
          "output_type": "execute_result"
        }
      ],
      "source": [
        "t"
      ]
    },
    {
      "cell_type": "code",
      "execution_count": 37,
      "id": "698b5fa8",
      "metadata": {},
      "outputs": [
        {
          "data": {
            "text/plain": [
              "4"
            ]
          },
          "execution_count": 37,
          "metadata": {},
          "output_type": "execute_result"
        }
      ],
      "source": [
        "t.index(5)"
      ]
    },
    {
      "cell_type": "markdown",
      "id": "2cf034f4",
      "metadata": {},
      "source": [
        "## 4.1 Tuples vs Lists \n",
        "\n",
        "* Tuples are immutable (constant) – once they are declared, they cannot be reassigned. \n",
        "\n",
        "* A list is mutable – elements can be reassigned. \n",
        "\n",
        "* A list is declared with `[ ]` whereas the tuple is declared with `( )`\n",
        "\n",
        "* We can refer to elements in both a list and tuple via the `[ ]` \n"
      ]
    },
    {
      "cell_type": "markdown",
      "id": "40f3dbe0",
      "metadata": {},
      "source": [
        "## 5.0 Sets in Python `{ }`\n",
        "\n",
        "* Sets in mathematics refer to a set of distinct numbers – there are no duplicates.\n",
        "\n",
        "* Whilst one may try and assign multiple instances of the same value, the Python set only stores one instance of this value.\n",
        "\n",
        "* Casting data to a set is a useful way to remove duplicates!\n",
        "\n",
        "* Sets are declared with the `{ }`\n",
        "\n",
        "* Sets are mutable (can change)\n"
      ]
    },
    {
      "cell_type": "code",
      "execution_count": 39,
      "id": "4d43eb33",
      "metadata": {},
      "outputs": [
        {
          "data": {
            "text/plain": [
              "{1, 2, 3, 4, 5, 6}"
            ]
          },
          "execution_count": 39,
          "metadata": {},
          "output_type": "execute_result"
        }
      ],
      "source": [
        "s = {1,2,3,4,5,6}\n",
        "s"
      ]
    },
    {
      "cell_type": "code",
      "execution_count": 40,
      "id": "912314c8",
      "metadata": {},
      "outputs": [
        {
          "data": {
            "text/plain": [
              "{1, 2, 3, 4, 5, 6, 7}"
            ]
          },
          "execution_count": 40,
          "metadata": {},
          "output_type": "execute_result"
        }
      ],
      "source": [
        "s.add(7)\n",
        "s"
      ]
    },
    {
      "cell_type": "code",
      "execution_count": 41,
      "id": "969b5f2c",
      "metadata": {},
      "outputs": [
        {
          "data": {
            "text/plain": [
              "{1, 2, 3, 4, 5, 6}"
            ]
          },
          "execution_count": 41,
          "metadata": {},
          "output_type": "execute_result"
        }
      ],
      "source": [
        "s.remove(7)\n",
        "s"
      ]
    },
    {
      "cell_type": "code",
      "execution_count": 44,
      "id": "893f0c77",
      "metadata": {},
      "outputs": [
        {
          "data": {
            "text/plain": [
              "{1, 2, 3, 4, 5, 6}"
            ]
          },
          "execution_count": 44,
          "metadata": {},
          "output_type": "execute_result"
        }
      ],
      "source": [
        "s = {1,2,3,4,5,6,1,2,3,4,5,6}\n",
        "s"
      ]
    },
    {
      "cell_type": "code",
      "execution_count": 42,
      "id": "4cd0259f",
      "metadata": {},
      "outputs": [
        {
          "data": {
            "text/plain": [
              "{1, 2, 3, 4, 5, 6}"
            ]
          },
          "execution_count": 42,
          "metadata": {},
          "output_type": "execute_result"
        }
      ],
      "source": [
        "l = [1,1,2,2,3,3,4,4,5,5,6,6]\n",
        "s = set(l)\n",
        "s"
      ]
    },
    {
      "cell_type": "markdown",
      "id": "6ccbb7be",
      "metadata": {},
      "source": [
        "## 5.1 Set Theory \n",
        "\n",
        "* Intersect ` A & B `\n",
        "\n",
        "* Union ` A | B `\n",
        "\n",
        "* Difference ` A - B `"
      ]
    },
    {
      "cell_type": "markdown",
      "id": "539a5ec7",
      "metadata": {},
      "source": [
        "## 5.1.1 Set Intersect"
      ]
    },
    {
      "cell_type": "code",
      "execution_count": 43,
      "id": "37640096",
      "metadata": {},
      "outputs": [
        {
          "data": {
            "text/plain": [
              "{4, 5, 6}"
            ]
          },
          "execution_count": 43,
          "metadata": {},
          "output_type": "execute_result"
        }
      ],
      "source": [
        "s1 = {1,2,3,4,5,6}\n",
        "s2 = {4,5,6,7,8,9}\n",
        "s1 & s2\n"
      ]
    },
    {
      "cell_type": "markdown",
      "id": "6f45633e",
      "metadata": {},
      "source": [
        "## 5.1.2 Set Union"
      ]
    },
    {
      "cell_type": "code",
      "execution_count": 47,
      "id": "c22ef447",
      "metadata": {},
      "outputs": [
        {
          "data": {
            "text/plain": [
              "{1, 2, 3, 4, 5, 6, 7, 8, 9}"
            ]
          },
          "execution_count": 47,
          "metadata": {},
          "output_type": "execute_result"
        }
      ],
      "source": [
        "s1 = {1,2,3,4,5,6}\n",
        "s2 = {4,5,6,7,8,9}\n",
        "s1 | s2\n"
      ]
    },
    {
      "cell_type": "markdown",
      "id": "a63d8e52",
      "metadata": {},
      "source": [
        "## 5.1.3 Set Difference"
      ]
    },
    {
      "cell_type": "code",
      "execution_count": 48,
      "id": "b1beac39",
      "metadata": {},
      "outputs": [
        {
          "data": {
            "text/plain": [
              "{1, 2, 3}"
            ]
          },
          "execution_count": 48,
          "metadata": {},
          "output_type": "execute_result"
        }
      ],
      "source": [
        "s1 = {1,2,3,4,5,6}\n",
        "s2 = {4,5,6,7,8,9}\n",
        "s1 - s2"
      ]
    },
    {
      "cell_type": "code",
      "execution_count": 49,
      "id": "d2ce4385",
      "metadata": {},
      "outputs": [
        {
          "data": {
            "text/plain": [
              "{7, 8, 9}"
            ]
          },
          "execution_count": 49,
          "metadata": {},
          "output_type": "execute_result"
        }
      ],
      "source": [
        "s1 = {1,2,3,4,5,6}\n",
        "s2 = {4,5,6,7,8,9}\n",
        "s2 - s1"
      ]
    },
    {
      "cell_type": "markdown",
      "id": "cdc73ecd",
      "metadata": {},
      "source": [
        "## 6.0 Dictionaries `{ k : v}`\n",
        "\n",
        "* An English Dictionary would allow us to look up the definition of a word. We search the word to locate the definition. \n",
        "\n",
        "* In Python, we specify a key (word) to be able to get a value (definition). \n",
        "\n",
        "* Similar to an associative array, or a Map in Java.\n",
        "\n",
        "* Like Set, Dictionaries also use the `{ }` but they feature : for a key and value pair  `{ k : v }`\n"
      ]
    },
    {
      "cell_type": "code",
      "execution_count": 44,
      "id": "9cdec5dc",
      "metadata": {},
      "outputs": [
        {
          "data": {
            "text/plain": [
              "{'USA': 200, 'UK': 200, 'EU': 200}"
            ]
          },
          "execution_count": 44,
          "metadata": {},
          "output_type": "execute_result"
        }
      ],
      "source": [
        "d = {\"USA\": 200, \"UK\": 200, \"EU\": 200}\n",
        "d\n"
      ]
    },
    {
      "cell_type": "code",
      "execution_count": 51,
      "id": "2b5c9642",
      "metadata": {},
      "outputs": [
        {
          "data": {
            "text/plain": [
              "200"
            ]
          },
          "execution_count": 51,
          "metadata": {},
          "output_type": "execute_result"
        }
      ],
      "source": [
        "d = {\"USA\": 200, \"UK\": 200, \"EU\": 200}\n",
        "d[\"UK\"]\n"
      ]
    },
    {
      "cell_type": "code",
      "execution_count": 52,
      "id": "e9afa2d5",
      "metadata": {},
      "outputs": [
        {
          "ename": "KeyError",
          "evalue": "'uk'",
          "output_type": "error",
          "traceback": [
            "\u001b[0;31m---------------------------------------------------------------------------\u001b[0m",
            "\u001b[0;31mKeyError\u001b[0m                                  Traceback (most recent call last)",
            "Cell \u001b[0;32mIn [52], line 2\u001b[0m\n\u001b[1;32m      1\u001b[0m d \u001b[38;5;241m=\u001b[39m {\u001b[38;5;124m\"\u001b[39m\u001b[38;5;124mUSA\u001b[39m\u001b[38;5;124m\"\u001b[39m: \u001b[38;5;241m200\u001b[39m, \u001b[38;5;124m\"\u001b[39m\u001b[38;5;124mUK\u001b[39m\u001b[38;5;124m\"\u001b[39m: \u001b[38;5;241m200\u001b[39m, \u001b[38;5;124m\"\u001b[39m\u001b[38;5;124mEU\u001b[39m\u001b[38;5;124m\"\u001b[39m: \u001b[38;5;241m200\u001b[39m}\n\u001b[0;32m----> 2\u001b[0m d[\u001b[38;5;124m\"\u001b[39m\u001b[38;5;124muk\u001b[39m\u001b[38;5;124m\"\u001b[39m]\n",
            "\u001b[0;31mKeyError\u001b[0m: 'uk'"
          ]
        }
      ],
      "source": [
        "d = {\"USA\": 200, \"UK\": 200, \"EU\": 200}\n",
        "d[\"uk\"]\n"
      ]
    },
    {
      "cell_type": "markdown",
      "id": "d2943d52",
      "metadata": {},
      "source": [
        "## 6.4 Append"
      ]
    },
    {
      "cell_type": "code",
      "execution_count": 45,
      "id": "1d7be8ab",
      "metadata": {},
      "outputs": [
        {
          "data": {
            "text/plain": [
              "{'USA': 200, 'UK': 200, 'EU': 200, 'Asia': 300}"
            ]
          },
          "execution_count": 45,
          "metadata": {},
          "output_type": "execute_result"
        }
      ],
      "source": [
        "d = {\"USA\": 200, \"UK\": 200, \"EU\": 200}\n",
        "d[\"Asia\"] = 300\n",
        "d\n"
      ]
    },
    {
      "cell_type": "markdown",
      "id": "9157c9d6",
      "metadata": {},
      "source": [
        "## 6.5 Remove"
      ]
    },
    {
      "cell_type": "code",
      "execution_count": 46,
      "id": "a4ccae47",
      "metadata": {},
      "outputs": [
        {
          "data": {
            "text/plain": [
              "{'USA': 200, 'UK': 200, 'EU': 200}"
            ]
          },
          "execution_count": 46,
          "metadata": {},
          "output_type": "execute_result"
        }
      ],
      "source": [
        "d = {\"USA\": 200, \"UK\": 200, \"EU\": 200, \"Asia\": 30}\n",
        "del d[\"Asia\"]\n",
        "d\n"
      ]
    },
    {
      "cell_type": "code",
      "execution_count": 55,
      "id": "355b59d5",
      "metadata": {},
      "outputs": [
        {
          "data": {
            "text/plain": [
              "dict"
            ]
          },
          "execution_count": 55,
          "metadata": {},
          "output_type": "execute_result"
        }
      ],
      "source": [
        "type(d)"
      ]
    },
    {
      "cell_type": "code",
      "execution_count": 47,
      "id": "0f9152aa",
      "metadata": {},
      "outputs": [
        {
          "data": {
            "text/plain": [
              "['__class__',\n",
              " '__class_getitem__',\n",
              " '__contains__',\n",
              " '__delattr__',\n",
              " '__delitem__',\n",
              " '__dir__',\n",
              " '__doc__',\n",
              " '__eq__',\n",
              " '__format__',\n",
              " '__ge__',\n",
              " '__getattribute__',\n",
              " '__getitem__',\n",
              " '__gt__',\n",
              " '__hash__',\n",
              " '__init__',\n",
              " '__init_subclass__',\n",
              " '__ior__',\n",
              " '__iter__',\n",
              " '__le__',\n",
              " '__len__',\n",
              " '__lt__',\n",
              " '__ne__',\n",
              " '__new__',\n",
              " '__or__',\n",
              " '__reduce__',\n",
              " '__reduce_ex__',\n",
              " '__repr__',\n",
              " '__reversed__',\n",
              " '__ror__',\n",
              " '__setattr__',\n",
              " '__setitem__',\n",
              " '__sizeof__',\n",
              " '__str__',\n",
              " '__subclasshook__',\n",
              " 'clear',\n",
              " 'copy',\n",
              " 'fromkeys',\n",
              " 'get',\n",
              " 'items',\n",
              " 'keys',\n",
              " 'pop',\n",
              " 'popitem',\n",
              " 'setdefault',\n",
              " 'update',\n",
              " 'values']"
            ]
          },
          "execution_count": 47,
          "metadata": {},
          "output_type": "execute_result"
        }
      ],
      "source": [
        "dir(dict)"
      ]
    },
    {
      "cell_type": "code",
      "execution_count": 57,
      "id": "9e8856bf",
      "metadata": {},
      "outputs": [
        {
          "name": "stdout",
          "output_type": "stream",
          "text": [
            "dict_keys(['USA', 'UK', 'EU'])\n",
            "dict_values([200, 200, 200])\n"
          ]
        }
      ],
      "source": [
        "d = {\"USA\": 200, \"UK\": 200, \"EU\": 200}\n",
        "print( d.keys() )\n",
        "print( d.values() )\n"
      ]
    },
    {
      "cell_type": "markdown",
      "id": "7274d3c9",
      "metadata": {},
      "source": [
        "## Summary \n",
        "\n",
        "* You can distinguish between the key collections by the pairs of brackets used: \n",
        "\n",
        "| Structure | Brackets | Characteristics |\n",
        "| ----------- | ----------- | --------- |\n",
        "| Lists |\t`[ , ]` | mutable |\n",
        "| Tuples |\t`( , )` | immutable | \n",
        "| Sets |\t`{ , }`  | unique values (no duplicates) |\n",
        "| Dict | `{k : v}` | key and value pairs |\n"
      ]
    },
    {
      "cell_type": "markdown",
      "id": "d49c92cf",
      "metadata": {},
      "source": [
        "## Exercise (bringing OOP and Types together)\n",
        "\n",
        "Either use your Student class you created previously `student.py`, or create one afresh here.\n",
        "\n",
        "Create a dictionary of modules where module codes are keys and student objects are values. For additional practice create a `module.py` class and create objects naming them by BNU's module code convention (e.g. `COM4008` and `COM5013`). Then store these module objects as keys, which associate with student objects as values.\n"
      ]
    },
    {
      "cell_type": "code",
      "execution_count": null,
      "id": "07e1a1d3",
      "metadata": {},
      "outputs": [],
      "source": [
        "# Using the student.py and/or module.py file(s), write your solution here or in a dedicated py file.\n"
      ]
    },
    {
      "cell_type": "markdown",
      "id": "567ec9d4",
      "metadata": {},
      "source": [
        "## Exercise \n",
        "\n",
        "Consider which data structure ('list', 'tuple', 'set', 'dict') would be the most appropriate to store marks for each student for a particular module as per above. \n",
        "\n",
        "Should these marks be added to the module dictionary above, or should you create something separate? Or would it be better to store these module marks in each student object? If so, which data structure would you use?\n",
        "\n",
        "Have a think...\n",
        "\n",
        "Extension: would a particular design be easier for producing statistics for each module? For example: how many students took the module, minimum mark, maximum mark, average mark etc"
      ]
    },
    {
      "cell_type": "code",
      "execution_count": null,
      "id": "b7cf5aaf",
      "metadata": {},
      "outputs": [],
      "source": [
        "# Using the student.py and/or module.py file(s), write your solution here or in a dedicated py file.\n"
      ]
    },
    {
      "cell_type": "markdown",
      "id": "c0aece91",
      "metadata": {},
      "source": [
        "## Exercise \n",
        "\n",
        "Write a function to find the mode (most frequent) number of a given Python list. \n",
        "\n",
        "Generate a list of 50 random numbers between 0-9 and test your function.\n"
      ]
    },
    {
      "cell_type": "code",
      "execution_count": null,
      "id": "39aad048",
      "metadata": {},
      "outputs": [],
      "source": [
        "# Write your solution here."
      ]
    },
    {
      "cell_type": "markdown",
      "id": "ce07dd43",
      "metadata": {},
      "source": [
        "## Exercise\n",
        "Write one function which will return the intersection of two sets passed in. Write another function which will return the union of two sets passed in."
      ]
    },
    {
      "cell_type": "code",
      "execution_count": null,
      "id": "288d86ed",
      "metadata": {},
      "outputs": [],
      "source": [
        "# Write your solution here."
      ]
    },
    {
      "cell_type": "markdown",
      "id": "201b2eb7",
      "metadata": {},
      "source": [
        "## Exercise \n",
        "\n",
        "Write a function that will rotate any given list by a specified given number of positions $n$. \n",
        "\n",
        "For example: if you had the list `[6, 7, 8, 9, 10]` and this was required to be rotated by 2 positions, the output would be `[8, 9, 10, 6, 7]`. "
      ]
    },
    {
      "cell_type": "code",
      "execution_count": null,
      "id": "7775693d",
      "metadata": {},
      "outputs": [],
      "source": [
        "# Write your solution here."
      ]
    },
    {
      "cell_type": "markdown",
      "id": "3c72ab33",
      "metadata": {},
      "source": [
        "## Exercise \n",
        "\n",
        "Write a function that flattens a nested list of arbitrary depth.\n",
        "\n",
        "If the Input was a nested list, e.g., `[1, [2, 3], [[4, 5]], 6]`. The output would be a flattened list, e.g., `[1, 2, 3, 4, 5, 6]`."
      ]
    },
    {
      "cell_type": "code",
      "execution_count": null,
      "id": "c9324416",
      "metadata": {},
      "outputs": [],
      "source": [
        "# Write your solution here."
      ]
    },
    {
      "cell_type": "markdown",
      "id": "416e9cdb",
      "metadata": {},
      "source": [
        "## Exercise \n",
        "\n",
        "Write a function that checks whether one set is a subset of another."
      ]
    },
    {
      "cell_type": "code",
      "execution_count": null,
      "id": "800dabb4",
      "metadata": {},
      "outputs": [],
      "source": [
        "# Write your solution here."
      ]
    },
    {
      "cell_type": "markdown",
      "id": "2db6c45a",
      "metadata": {},
      "source": [
        "## Exercise\n",
        "\n",
        "Given a list of tuple pairs, swap the elements in each tuple.\n",
        "\n",
        "`swap_tuples([(1, 2), (3, 4), (5, 6)])`  # Output: `[(2, 1), (4, 3), (6, 5)]`"
      ]
    },
    {
      "cell_type": "code",
      "execution_count": null,
      "id": "34face3c",
      "metadata": {},
      "outputs": [],
      "source": [
        "# Write your solution here."
      ]
    },
    {
      "cell_type": "markdown",
      "id": "2d61eb59",
      "metadata": {},
      "source": [
        "## Exercise \n",
        "\n",
        "Write a function that takes a list of words and groups them by their first letter into a dictionary.\n",
        "\n",
        "For example: `[\"apple\", \"banana\", \"cherry\", \"avocado\", \"blueberry\"]` would be organised as a dictionary: `{'a': [\"apple\", \"avocado\"], 'b': [\"banana\", \"blueberry\"], 'c': [\"cherry\"]}`."
      ]
    },
    {
      "cell_type": "code",
      "execution_count": null,
      "id": "0f65e225",
      "metadata": {},
      "outputs": [],
      "source": [
        "# Write your solution here."
      ]
    },
    {
      "cell_type": "markdown",
      "id": "2a06f950",
      "metadata": {},
      "source": [
        "## Exercise \n",
        "\n",
        "Given a list of strings, group all the anagrams together.\n",
        "Use a dictionary to store sorted words as keys and group the original words."
      ]
    },
    {
      "cell_type": "code",
      "execution_count": null,
      "id": "b6d8869b",
      "metadata": {},
      "outputs": [],
      "source": [
        "# Write your solution here."
      ]
    },
    {
      "cell_type": "markdown",
      "id": "ef5fd230",
      "metadata": {},
      "source": [
        "## Exercise \n",
        "\n",
        "Write a function that merges two dictionaries. If a key appears in both, sum their values.\n",
        "\n",
        "Example: Two dictionaries, e.g., `{'a': 1, 'b': 2}` and `{'b': 3, 'c': 4}` would become a merged dictionary: `{'a': 1, 'b': 5, 'c': 4}`."
      ]
    },
    {
      "cell_type": "code",
      "execution_count": null,
      "id": "b247b4fb",
      "metadata": {},
      "outputs": [],
      "source": [
        "# Write your solution here."
      ]
    },
    {
      "cell_type": "markdown",
      "id": "1b1c454f",
      "metadata": {},
      "source": [
        "## Exercise \n",
        "\n",
        "Write a function that inverts a dictionary - the keys become values and the values become keys. If you have duplicate keys, group associated values in a list.\n",
        "\n",
        "Extension: is there a way to do this without any temporary storage? "
      ]
    },
    {
      "cell_type": "code",
      "execution_count": null,
      "id": "88e8ae92",
      "metadata": {},
      "outputs": [],
      "source": [
        "# Write your solution here."
      ]
    },
    {
      "cell_type": "markdown",
      "id": "3348a142",
      "metadata": {},
      "source": [
        "## Exercise: \n",
        "Given two strings, write a function to decide if one is a permutation of the other. "
      ]
    },
    {
      "cell_type": "code",
      "execution_count": null,
      "id": "4b2daa46",
      "metadata": {},
      "outputs": [],
      "source": [
        "# Write your solution here."
      ]
    },
    {
      "cell_type": "markdown",
      "id": "916f5fd5",
      "metadata": {},
      "source": [
        "## Exercise\n",
        "Given a string $s$ and a non-empty string $p$, find all the start indices of $p$’s anagrams in $s$.\n",
        "\n",
        "` find_anagrams(\"cbaebabacd\", \"abc\")  # [0, 6] `  \n",
        "  ` find_anagrams(\"abab\", \"ab\")         # [0, 1, 2]`"
      ]
    },
    {
      "cell_type": "code",
      "execution_count": null,
      "id": "586df439",
      "metadata": {},
      "outputs": [],
      "source": [
        "# Wrtite your solution here."
      ]
    },
    {
      "cell_type": "markdown",
      "id": "5861f62c",
      "metadata": {},
      "source": [
        "## Exercise (LCS)\n",
        "\n",
        "You are given a list of integers, and your task is to find the longest subsequence of consecutive integers within the list. A subsequence is a sequence that can be derived from another sequence by deleting some or no elements without changing the order of the remaining elements. \n",
        "\n",
        "Write a Python function to solve this problem. Your function should return the longest consecutive subsequence found in the original list.\n",
        "\n",
        "For example, given the input list: ``` [4, 2, 8, 5, 6, 7, 11, 12, 10]```\n",
        "\n",
        "The longest consecutive subsequence is: ``` [4, 5, 6, 7, 8] ```\n"
      ]
    },
    {
      "cell_type": "code",
      "execution_count": 185,
      "id": "ddf7677c",
      "metadata": {
        "id": "ddf7677c"
      },
      "outputs": [
        {
          "name": "stdout",
          "output_type": "stream",
          "text": [
            "[4, 5, 6, 7, 8]\n"
          ]
        }
      ],
      "source": [
        "def longest_consecutive_subsequence(numbers):\n",
        "    #write your solution here\n",
        "    ...\n",
        "    #write your solution above\n",
        "\n",
        "\n",
        "numbers = [4, 2, 8, 5, 6, 7, 11, 12, 10]\n",
        "result = longest_consecutive_subsequence(numbers)\n",
        "print(result)  "
      ]
    }
  ],
  "metadata": {
    "colab": {
      "provenance": []
    },
    "kernelspec": {
      "display_name": "Python 3",
      "language": "python",
      "name": "python3"
    },
    "language_info": {
      "codemirror_mode": {
        "name": "ipython",
        "version": 3
      },
      "file_extension": ".py",
      "mimetype": "text/x-python",
      "name": "python",
      "nbconvert_exporter": "python",
      "pygments_lexer": "ipython3",
      "version": "3.9.6"
    }
  },
  "nbformat": 4,
  "nbformat_minor": 5
}
