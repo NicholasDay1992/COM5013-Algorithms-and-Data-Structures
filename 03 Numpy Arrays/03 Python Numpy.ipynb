{
 "cells": [
  {
   "cell_type": "markdown",
   "metadata": {},
   "source": [
    "# 03 Numpy \n"
   ]
  },
  {
   "cell_type": "markdown",
   "metadata": {},
   "source": [
    "## Plan for this lecture\n",
    "\n",
    "1. Numpy Introduction \n",
    "\n",
    "2. Contrast Array and Python List \n",
    "\n",
    "3. Exercises"
   ]
  },
  {
   "cell_type": "markdown",
   "metadata": {},
   "source": [
    "## Introduction to Numpy \n",
    "\n",
    "![numpy_logo](https://upload.wikimedia.org/wikipedia/commons/thumb/3/31/NumPy_logo_2020.svg/320px-NumPy_logo_2020.svg.png)\n",
    "* Numerical Python (NumPy) is a package full of methods that can perform useful operations on data.  \n",
    "\n",
    "* NumPy provides a convenient API (Application Programmable Interface) that provides a way to ‘interface’ with / operate on data. \n",
    "\n",
    "* It reintroduces types which is more coding but more efficient way to search/sort/store data than the ‘loosely’ typed nature of Python that we’ve seen so far. \n",
    "\n",
    "* More documentation available at: https://numpy.org \n"
   ]
  },
  {
   "cell_type": "markdown",
   "metadata": {},
   "source": [
    "## Numpy Arrays vs Python List\n",
    "\n",
    "* NumPy arrays are different to Python Lists. \n",
    "\n",
    "* NumPy arrays reintroduce the ‘typed’ nature of more ‘verbose’ languages (C, C++, Java), where everything is explicitly typed. \n",
    "\n",
    "* NumPy arrays operate like arrays from C and Java where they declared to store data of one type (only integers), unlike Python and JS, which can store data of different types. \n",
    "\n",
    "* NumPy arrays therefore data is ‘cast’ – floating point numbers to integers, or in some cases – an error is produced (strings to integers)."
   ]
  },
  {
   "cell_type": "markdown",
   "metadata": {},
   "source": [
    "## Getting started with Numpy\n",
    "\n",
    "* You'll either need to install this if you're in VSC. \n",
    "\n",
    "* OR if you're in Anaconda or Google Colab, you should have access to Numpy already... just need to import it."
   ]
  },
  {
   "cell_type": "markdown",
   "metadata": {},
   "source": [
    "`pip install numpy`\n",
    "\n",
    "`python3 -m pip install -U numpy --user`"
   ]
  },
  {
   "cell_type": "code",
   "execution_count": 4,
   "metadata": {},
   "outputs": [
    {
     "data": {
      "text/plain": [
       "<module 'numpy' from '/Users/nick/Library/Python/3.9/lib/python/site-packages/numpy/__init__.py'>"
      ]
     },
     "execution_count": 4,
     "metadata": {},
     "output_type": "execute_result"
    }
   ],
   "source": [
    "import numpy as np \n",
    "np"
   ]
  },
  {
   "cell_type": "code",
   "execution_count": 76,
   "metadata": {},
   "outputs": [
    {
     "data": {
      "text/plain": [
       "array([1, 2, 3, 4, 5, 6])"
      ]
     },
     "execution_count": 76,
     "metadata": {},
     "output_type": "execute_result"
    }
   ],
   "source": [
    "a = np.array([1,2,3,4,5,6]) \n",
    "a\n"
   ]
  },
  {
   "cell_type": "markdown",
   "metadata": {},
   "source": [
    "## Upcasting to floating points\n",
    "\n",
    "Notice below how one floating point number will upcast all the integers to floats"
   ]
  },
  {
   "cell_type": "code",
   "execution_count": 77,
   "metadata": {},
   "outputs": [
    {
     "data": {
      "text/plain": [
       "array([3.14, 2.  , 3.  , 4.  , 5.  ])"
      ]
     },
     "execution_count": 77,
     "metadata": {},
     "output_type": "execute_result"
    }
   ],
   "source": [
    "a = np.array([3.14,2,3,4,5]) \n",
    "a\n"
   ]
  },
  {
   "cell_type": "code",
   "execution_count": 78,
   "metadata": {},
   "outputs": [
    {
     "data": {
      "text/plain": [
       "array([1., 2., 3.], dtype=float32)"
      ]
     },
     "execution_count": 78,
     "metadata": {},
     "output_type": "execute_result"
    }
   ],
   "source": [
    "a = np.array([1,2,3],dtype='float32')\n",
    "a\n"
   ]
  },
  {
   "cell_type": "markdown",
   "metadata": {},
   "source": [
    "## 2-Dimensions!"
   ]
  },
  {
   "cell_type": "code",
   "execution_count": 79,
   "metadata": {},
   "outputs": [
    {
     "data": {
      "text/plain": [
       "array([[1, 2, 3],\n",
       "       [4, 5, 6]])"
      ]
     },
     "execution_count": 79,
     "metadata": {},
     "output_type": "execute_result"
    }
   ],
   "source": [
    "a = np.array([[1,2,3],[4,5,6]]) \n",
    "a\n"
   ]
  },
  {
   "cell_type": "markdown",
   "metadata": {},
   "source": [
    "## Array functions"
   ]
  },
  {
   "cell_type": "code",
   "execution_count": 80,
   "metadata": {},
   "outputs": [
    {
     "data": {
      "text/plain": [
       "array([0, 1, 2])"
      ]
     },
     "execution_count": 80,
     "metadata": {},
     "output_type": "execute_result"
    }
   ],
   "source": [
    "a = np.arange(3) \n",
    "a\n"
   ]
  },
  {
   "cell_type": "code",
   "execution_count": 81,
   "metadata": {},
   "outputs": [
    {
     "data": {
      "text/plain": [
       "array([0, 1, 2, 3, 4, 5, 6, 7, 8, 9])"
      ]
     },
     "execution_count": 81,
     "metadata": {},
     "output_type": "execute_result"
    }
   ],
   "source": [
    "a = np.arange(10) \n",
    "a\n"
   ]
  },
  {
   "cell_type": "code",
   "execution_count": 32,
   "metadata": {},
   "outputs": [
    {
     "data": {
      "text/plain": [
       "array([0., 0., 0., 0., 0., 0., 0., 0., 0., 0.])"
      ]
     },
     "execution_count": 32,
     "metadata": {},
     "output_type": "execute_result"
    }
   ],
   "source": [
    "np.zeros(10)"
   ]
  },
  {
   "cell_type": "code",
   "execution_count": 31,
   "metadata": {},
   "outputs": [
    {
     "data": {
      "text/plain": [
       "array([1., 1., 1., 1., 1., 1., 1., 1., 1.])"
      ]
     },
     "execution_count": 31,
     "metadata": {},
     "output_type": "execute_result"
    }
   ],
   "source": [
    "np.ones(10)"
   ]
  },
  {
   "cell_type": "code",
   "execution_count": 82,
   "metadata": {},
   "outputs": [
    {
     "data": {
      "text/plain": [
       "array([[1., 1.],\n",
       "       [1., 1.],\n",
       "       [1., 1.]])"
      ]
     },
     "execution_count": 82,
     "metadata": {},
     "output_type": "execute_result"
    }
   ],
   "source": [
    "a = np.ones((3, 2)) \n",
    "a\n"
   ]
  },
  {
   "cell_type": "code",
   "execution_count": 83,
   "metadata": {},
   "outputs": [
    {
     "data": {
      "text/plain": [
       "array([[5, 5],\n",
       "       [5, 5]])"
      ]
     },
     "execution_count": 83,
     "metadata": {},
     "output_type": "execute_result"
    }
   ],
   "source": [
    "a = np.full((2, 2), 5) \n",
    "a\n"
   ]
  },
  {
   "cell_type": "code",
   "execution_count": 84,
   "metadata": {},
   "outputs": [
    {
     "data": {
      "text/plain": [
       "array([[7, 7, 7],\n",
       "       [7, 7, 7],\n",
       "       [7, 7, 7]])"
      ]
     },
     "execution_count": 84,
     "metadata": {},
     "output_type": "execute_result"
    }
   ],
   "source": [
    "a = np.full((3, 3), 7) \n",
    "a\n"
   ]
  },
  {
   "cell_type": "code",
   "execution_count": 30,
   "metadata": {},
   "outputs": [
    {
     "data": {
      "text/plain": [
       "array([[1., 0., 0.],\n",
       "       [0., 1., 0.],\n",
       "       [0., 0., 1.]])"
      ]
     },
     "execution_count": 30,
     "metadata": {},
     "output_type": "execute_result"
    }
   ],
   "source": [
    "np.eye(3)"
   ]
  },
  {
   "cell_type": "markdown",
   "metadata": {},
   "source": [
    "## Random"
   ]
  },
  {
   "cell_type": "code",
   "execution_count": 85,
   "metadata": {},
   "outputs": [
    {
     "data": {
      "text/plain": [
       "array([[0.64254536, 0.71292754],\n",
       "       [0.27729644, 0.96306581]])"
      ]
     },
     "execution_count": 85,
     "metadata": {},
     "output_type": "execute_result"
    }
   ],
   "source": [
    "a = np.random.random((2,2)) \n",
    "a\n"
   ]
  },
  {
   "cell_type": "code",
   "execution_count": 86,
   "metadata": {},
   "outputs": [
    {
     "data": {
      "text/plain": [
       "array([0, 1])"
      ]
     },
     "execution_count": 86,
     "metadata": {},
     "output_type": "execute_result"
    }
   ],
   "source": [
    "a = np.random.randint((2,2)) \n",
    "a\n"
   ]
  },
  {
   "cell_type": "code",
   "execution_count": 87,
   "metadata": {},
   "outputs": [
    {
     "data": {
      "text/plain": [
       "array([1, 1, 1, 1, 0, 1, 0, 0, 1, 0])"
      ]
     },
     "execution_count": 87,
     "metadata": {},
     "output_type": "execute_result"
    }
   ],
   "source": [
    "a = np.random.randint(2, size=10) \n",
    "a\n"
   ]
  },
  {
   "cell_type": "code",
   "execution_count": 88,
   "metadata": {},
   "outputs": [
    {
     "data": {
      "text/plain": [
       "array([[1, 0],\n",
       "       [1, 1]])"
      ]
     },
     "execution_count": 88,
     "metadata": {},
     "output_type": "execute_result"
    }
   ],
   "source": [
    "a = np.random.randint(2, size=(2,2)) \n",
    "a\n"
   ]
  },
  {
   "cell_type": "code",
   "execution_count": 89,
   "metadata": {},
   "outputs": [
    {
     "data": {
      "text/plain": [
       "array([[1, 0],\n",
       "       [1, 0],\n",
       "       [1, 0]])"
      ]
     },
     "execution_count": 89,
     "metadata": {},
     "output_type": "execute_result"
    }
   ],
   "source": [
    "a = np.random.randint(2, size=(3,2)) \n",
    "a\n"
   ]
  },
  {
   "cell_type": "code",
   "execution_count": 90,
   "metadata": {},
   "outputs": [
    {
     "data": {
      "text/plain": [
       "array([[0, 1, 0],\n",
       "       [1, 1, 0]])"
      ]
     },
     "execution_count": 90,
     "metadata": {},
     "output_type": "execute_result"
    }
   ],
   "source": [
    "a = np.random.randint(2, size=(2,3)) \n",
    "a\n"
   ]
  },
  {
   "cell_type": "code",
   "execution_count": 91,
   "metadata": {},
   "outputs": [
    {
     "data": {
      "text/plain": [
       "array([[1, 2, 2],\n",
       "       [1, 2, 1],\n",
       "       [0, 2, 1]])"
      ]
     },
     "execution_count": 91,
     "metadata": {},
     "output_type": "execute_result"
    }
   ],
   "source": [
    "a = np.random.randint(3, size=(3,3)) \n",
    "a\n"
   ]
  },
  {
   "cell_type": "code",
   "execution_count": 92,
   "metadata": {},
   "outputs": [
    {
     "data": {
      "text/plain": [
       "array([[8, 0, 1],\n",
       "       [3, 7, 6],\n",
       "       [8, 2, 8]])"
      ]
     },
     "execution_count": 92,
     "metadata": {},
     "output_type": "execute_result"
    }
   ],
   "source": [
    "a = np.random.randint(9, size=(3,3)) \n",
    "a\n"
   ]
  },
  {
   "cell_type": "code",
   "execution_count": 93,
   "metadata": {},
   "outputs": [
    {
     "data": {
      "text/plain": [
       "array([[[5, 4, 6],\n",
       "        [6, 6, 6],\n",
       "        [4, 8, 4]],\n",
       "\n",
       "       [[2, 6, 8],\n",
       "        [4, 4, 6],\n",
       "        [7, 8, 0]],\n",
       "\n",
       "       [[0, 8, 5],\n",
       "        [4, 7, 3],\n",
       "        [2, 7, 1]]])"
      ]
     },
     "execution_count": 93,
     "metadata": {},
     "output_type": "execute_result"
    }
   ],
   "source": [
    "a = np.random.randint(9, size=(3,3,3))\n",
    "a\n"
   ]
  },
  {
   "cell_type": "code",
   "execution_count": 94,
   "metadata": {},
   "outputs": [
    {
     "data": {
      "text/plain": [
       "array([0. , 0.1, 0.2, 0.3, 0.4, 0.5, 0.6, 0.7, 0.8, 0.9, 1. ])"
      ]
     },
     "execution_count": 94,
     "metadata": {},
     "output_type": "execute_result"
    }
   ],
   "source": [
    "a = np.linspace(0, 1, 11)\n",
    "a\n"
   ]
  },
  {
   "cell_type": "markdown",
   "metadata": {},
   "source": [
    "## Array attributes"
   ]
  },
  {
   "cell_type": "code",
   "execution_count": 95,
   "metadata": {},
   "outputs": [
    {
     "name": "stdout",
     "output_type": "stream",
     "text": [
      "size: 9\n",
      "shape: (3, 3)\n",
      "dimensions: 2\n"
     ]
    }
   ],
   "source": [
    "a = np.random.randint(9, size=(3,3))\n",
    "print(\"size:\", a.size)\n",
    "print(\"shape:\", a.shape)\n",
    "print(\"dimensions:\", a.ndim)\n"
   ]
  },
  {
   "cell_type": "code",
   "execution_count": 96,
   "metadata": {},
   "outputs": [
    {
     "name": "stdout",
     "output_type": "stream",
     "text": [
      "size: 27\n",
      "shape: (3, 3, 3)\n",
      "dimensions: 3\n"
     ]
    }
   ],
   "source": [
    "a = np.random.randint(9, size=(3,3,3))\n",
    "print(\"size:\", a.size)\n",
    "print(\"shape:\", a.shape)\n",
    "print(\"dimensions:\", a.ndim)"
   ]
  },
  {
   "cell_type": "markdown",
   "metadata": {},
   "source": [
    "## Array slicing `[ : ]`\n",
    "\n",
    "* `array_name[ start : stop : interval]`"
   ]
  },
  {
   "cell_type": "code",
   "execution_count": 97,
   "metadata": {},
   "outputs": [
    {
     "data": {
      "text/plain": [
       "array([0, 1, 2, 3, 4, 5, 6, 7, 8, 9])"
      ]
     },
     "execution_count": 97,
     "metadata": {},
     "output_type": "execute_result"
    }
   ],
   "source": [
    "a = np.arange(10)\n",
    "a\n"
   ]
  },
  {
   "cell_type": "code",
   "execution_count": 101,
   "metadata": {},
   "outputs": [
    {
     "name": "stdout",
     "output_type": "stream",
     "text": [
      "3\n"
     ]
    }
   ],
   "source": [
    "print(a[3])\n"
   ]
  },
  {
   "cell_type": "code",
   "execution_count": 102,
   "metadata": {},
   "outputs": [
    {
     "data": {
      "text/plain": [
       "array([0, 1, 2])"
      ]
     },
     "execution_count": 102,
     "metadata": {},
     "output_type": "execute_result"
    }
   ],
   "source": [
    "a[:3]\n"
   ]
  },
  {
   "cell_type": "code",
   "execution_count": 103,
   "metadata": {},
   "outputs": [
    {
     "data": {
      "text/plain": [
       "array([3, 4, 5, 6, 7, 8, 9])"
      ]
     },
     "execution_count": 103,
     "metadata": {},
     "output_type": "execute_result"
    }
   ],
   "source": [
    "a[3:]\n"
   ]
  },
  {
   "cell_type": "code",
   "execution_count": 104,
   "metadata": {},
   "outputs": [
    {
     "data": {
      "text/plain": [
       "array([3, 4, 5])"
      ]
     },
     "execution_count": 104,
     "metadata": {},
     "output_type": "execute_result"
    }
   ],
   "source": [
    "a[3:6]\n"
   ]
  },
  {
   "cell_type": "markdown",
   "metadata": {},
   "source": [
    "Steps/intervals of 2:"
   ]
  },
  {
   "cell_type": "code",
   "execution_count": 105,
   "metadata": {},
   "outputs": [
    {
     "data": {
      "text/plain": [
       "array([3, 5])"
      ]
     },
     "execution_count": 105,
     "metadata": {},
     "output_type": "execute_result"
    }
   ],
   "source": [
    "a[3:6:2]\n"
   ]
  },
  {
   "cell_type": "markdown",
   "metadata": {},
   "source": [
    "Mutiples of 3"
   ]
  },
  {
   "cell_type": "code",
   "execution_count": 106,
   "metadata": {},
   "outputs": [
    {
     "data": {
      "text/plain": [
       "array([0, 3, 6, 9])"
      ]
     },
     "execution_count": 106,
     "metadata": {},
     "output_type": "execute_result"
    }
   ],
   "source": [
    "a[::3]\n"
   ]
  },
  {
   "cell_type": "markdown",
   "metadata": {},
   "source": [
    "## Row and Col access"
   ]
  },
  {
   "cell_type": "code",
   "execution_count": 107,
   "metadata": {},
   "outputs": [
    {
     "data": {
      "text/plain": [
       "array([[2, 0, 5],\n",
       "       [5, 2, 3],\n",
       "       [6, 1, 1]])"
      ]
     },
     "execution_count": 107,
     "metadata": {},
     "output_type": "execute_result"
    }
   ],
   "source": [
    "a = np.random.randint(9, size=(3,3)) \n",
    "a\n"
   ]
  },
  {
   "cell_type": "markdown",
   "metadata": {},
   "source": [
    "All of the first column (column 0) - displayed in a one-dimensional form"
   ]
  },
  {
   "cell_type": "code",
   "execution_count": 112,
   "metadata": {},
   "outputs": [
    {
     "data": {
      "text/plain": [
       "array([2, 5, 6])"
      ]
     },
     "execution_count": 112,
     "metadata": {},
     "output_type": "execute_result"
    }
   ],
   "source": [
    "a[:,0]\n"
   ]
  },
  {
   "cell_type": "markdown",
   "metadata": {},
   "source": [
    "All of the first row (row 0)"
   ]
  },
  {
   "cell_type": "code",
   "execution_count": 113,
   "metadata": {},
   "outputs": [
    {
     "data": {
      "text/plain": [
       "array([2, 0, 5])"
      ]
     },
     "execution_count": 113,
     "metadata": {},
     "output_type": "execute_result"
    }
   ],
   "source": [
    "a[0,:]\n"
   ]
  },
  {
   "cell_type": "markdown",
   "metadata": {},
   "source": [
    "All of the second row (row 1)"
   ]
  },
  {
   "cell_type": "code",
   "execution_count": 114,
   "metadata": {},
   "outputs": [
    {
     "data": {
      "text/plain": [
       "array([5, 2, 3])"
      ]
     },
     "execution_count": 114,
     "metadata": {},
     "output_type": "execute_result"
    }
   ],
   "source": [
    "a[1,:]\n"
   ]
  },
  {
   "cell_type": "markdown",
   "metadata": {},
   "source": [
    "## Iteration vs Vectorisation?\n",
    "\n",
    "* NumPy leverages vectorization, allowing operations to be performed on entire arrays without explicit Python loops. These operations are implemented in optimized C and Fortran code under the hood.\n",
    "\n",
    "* Python Lists require explicit loops or list comprehensions for element-wise operations, which are executed in the slower Python interpreter.\n"
   ]
  },
  {
   "cell_type": "code",
   "execution_count": 40,
   "metadata": {},
   "outputs": [],
   "source": [
    "import numpy as np\n",
    "import time\n",
    "import timeit\n",
    "\n",
    "# Define the size of the data structures\n",
    "size = 1000000\n",
    "\n",
    "# Create a Python list and a NumPy array with the same elements\n",
    "py_list = list(range(size))\n",
    "np_array = np.arange(size)"
   ]
  },
  {
   "cell_type": "code",
   "execution_count": 41,
   "metadata": {},
   "outputs": [
    {
     "name": "stdout",
     "output_type": "stream",
     "text": [
      "Python List Addition Time: 0.035337 seconds\n"
     ]
    }
   ],
   "source": [
    "def list_addition(py_list):\n",
    "    return [x + 1 for x in py_list]\n",
    "\n",
    "# Time the list addition\n",
    "start_time = time.time()\n",
    "list_result = list_addition(py_list)\n",
    "py_add_time = time.time() - start_time\n",
    "print(f\"Python List Addition Time: {py_add_time:.6f} seconds\")"
   ]
  },
  {
   "cell_type": "code",
   "execution_count": 42,
   "metadata": {},
   "outputs": [
    {
     "name": "stdout",
     "output_type": "stream",
     "text": [
      "NumPy Array Addition Time: 0.007479 seconds\n"
     ]
    }
   ],
   "source": [
    "def numpy_addition(np_array):\n",
    "    return np_array + 1\n",
    "\n",
    "# Time the NumPy addition\n",
    "start_time = time.time()\n",
    "array_result = numpy_addition(np_array)\n",
    "np_add_time = time.time() - start_time\n",
    "print(f\"NumPy Array Addition Time: {np_add_time:.6f} seconds\")"
   ]
  },
  {
   "cell_type": "code",
   "execution_count": 43,
   "metadata": {},
   "outputs": [
    {
     "name": "stdout",
     "output_type": "stream",
     "text": [
      "Python List Multiplication Time: 0.032827 seconds\n"
     ]
    }
   ],
   "source": [
    "def list_multiplication(py_list):\n",
    "    return [x * 2 for x in py_list]\n",
    "\n",
    "# Time the list multiplication\n",
    "start_time = time.time()\n",
    "list_mul_result = list_multiplication(py_list)\n",
    "py_mul_time = time.time() - start_time\n",
    "print(f\"Python List Multiplication Time: {py_mul_time:.6f} seconds\")"
   ]
  },
  {
   "cell_type": "code",
   "execution_count": 45,
   "metadata": {},
   "outputs": [
    {
     "name": "stdout",
     "output_type": "stream",
     "text": [
      "NumPy Array Multiplication Time: 0.003948 seconds\n"
     ]
    }
   ],
   "source": [
    "def numpy_multiplication(np_array):\n",
    "    return np_array * 2\n",
    "\n",
    "# Time the NumPy multiplication\n",
    "start_time = time.time()\n",
    "array_mul_result = numpy_multiplication(np_array)\n",
    "np_mul_time = time.time() - start_time\n",
    "print(f\"NumPy Array Multiplication Time: {np_mul_time:.6f} seconds\")"
   ]
  },
  {
   "cell_type": "code",
   "execution_count": 46,
   "metadata": {},
   "outputs": [
    {
     "name": "stdout",
     "output_type": "stream",
     "text": [
      "Python List Sum and Mean Time: 0.015815 seconds\n"
     ]
    }
   ],
   "source": [
    "def list_sum(py_list):\n",
    "    return sum(py_list)\n",
    "\n",
    "def list_mean(py_list):\n",
    "    return sum(py_list) / len(py_list)\n",
    "\n",
    "# Time the list sum and mean\n",
    "start_time = time.time()\n",
    "list_sum_result = list_sum(py_list)\n",
    "list_mean_result = list_mean(py_list)\n",
    "py_agg_time = time.time() - start_time\n",
    "print(f\"Python List Sum and Mean Time: {py_agg_time:.6f} seconds\")"
   ]
  },
  {
   "cell_type": "code",
   "execution_count": 47,
   "metadata": {},
   "outputs": [
    {
     "name": "stdout",
     "output_type": "stream",
     "text": [
      "NumPy Array Sum and Mean Time: 0.007957 seconds\n"
     ]
    }
   ],
   "source": [
    "def numpy_sum(np_array):\n",
    "    return np.sum(np_array)\n",
    "\n",
    "def numpy_mean(np_array):\n",
    "    return np.mean(np_array)\n",
    "\n",
    "# Time the NumPy sum and mean\n",
    "start_time = time.time()\n",
    "array_sum_result = numpy_sum(np_array)\n",
    "array_mean_result = numpy_mean(np_array)\n",
    "np_agg_time = time.time() - start_time\n",
    "print(f\"NumPy Array Sum and Mean Time: {np_agg_time:.6f} seconds\")"
   ]
  },
  {
   "cell_type": "markdown",
   "metadata": {},
   "source": [
    "Use NumPy Arrays When:\n",
    "* Performing numerical computations on large datasets.\n",
    "* Needing to leverage vectorized operations for performance.\n",
    "* Requiring efficient memory usage.\n",
    "\n",
    "Use Python Lists When:\n",
    "* Dealing with heterogeneous data types.\n",
    "* Performing operations that require dynamic resizing.\n",
    "* Managing data that doesn’t require intensive numerical computations."
   ]
  },
  {
   "cell_type": "markdown",
   "metadata": {},
   "source": [
    "## Types \n",
    "\n",
    "* NumPy Arrays are homogeneous, meaning all elements are of the same data type. This uniformity allows for more efficient storage and computation.\n",
    "\n",
    "* Python Lists are heterogeneous, capable of storing elements of different data types, which adds overhead to manage type information."
   ]
  },
  {
   "cell_type": "markdown",
   "metadata": {},
   "source": [
    "## Contiguous memory allocation? \n",
    "\n",
    "* NumPy Arrays store data in contiguous blocks of memory, which enhances cache performance and allows for more efficient access and manipulation.\n",
    "\n",
    "* Python Lists, on the other hand, store references to objects scattered throughout memory, leading to slower access times, especially for large datasets.\n",
    "\n",
    "* NumPy arrays are generally faster and more efficient for numerical operations compared to Python lists, primarily due to their contiguous memory layout and vectorized operations implemented in optimized C code. "
   ]
  },
  {
   "cell_type": "code",
   "execution_count": 35,
   "metadata": {},
   "outputs": [
    {
     "name": "stdout",
     "output_type": "stream",
     "text": [
      "Element 0: 10, Memory Address: 4300778064\n",
      "Element 1: 20, Memory Address: 4300778384\n",
      "Element 2: 30, Memory Address: 4300778704\n",
      "Element 3: 40, Memory Address: 4300779024\n",
      "Element 4: 50, Memory Address: 4300779344\n"
     ]
    }
   ],
   "source": [
    "py_list = [10, 20, 30, 40, 50]\n",
    "\n",
    "# Print memory addresses of list elements\n",
    "for i, element in enumerate(py_list):\n",
    "    print(f\"Element {i}: {element}, Memory Address: {id(element)}\")"
   ]
  },
  {
   "cell_type": "code",
   "execution_count": 23,
   "metadata": {},
   "outputs": [],
   "source": [
    "np_arr = np.array([10,20,30,40,50])"
   ]
  },
  {
   "cell_type": "code",
   "execution_count": 28,
   "metadata": {},
   "outputs": [
    {
     "name": "stdout",
     "output_type": "stream",
     "text": [
      "NumPy array memory address: 5687035680\n"
     ]
    }
   ],
   "source": [
    "base_address = np_arr.__array_interface__['data'][0]\n",
    "\n",
    "# Check memory address of the first element in the array\n",
    "print(\"NumPy array memory address:\", base_address)"
   ]
  },
  {
   "cell_type": "code",
   "execution_count": 29,
   "metadata": {},
   "outputs": [
    {
     "data": {
      "text/plain": [
       "dtype('int64')"
      ]
     },
     "execution_count": 29,
     "metadata": {},
     "output_type": "execute_result"
    }
   ],
   "source": [
    "np_arr.dtype"
   ]
  },
  {
   "cell_type": "code",
   "execution_count": 31,
   "metadata": {},
   "outputs": [
    {
     "name": "stdout",
     "output_type": "stream",
     "text": [
      "8\n"
     ]
    }
   ],
   "source": [
    "element_size = np_arr.itemsize\n",
    "print(element_size)"
   ]
  },
  {
   "cell_type": "markdown",
   "metadata": {},
   "source": [
    "* 64 bits = 8 bytes"
   ]
  },
  {
   "cell_type": "code",
   "execution_count": 32,
   "metadata": {},
   "outputs": [
    {
     "name": "stdout",
     "output_type": "stream",
     "text": [
      "Element 0: 10, Memory Address: 5687035680\n",
      "Element 1: 20, Memory Address: 5687035688\n",
      "Element 2: 30, Memory Address: 5687035696\n",
      "Element 3: 40, Memory Address: 5687035704\n",
      "Element 4: 50, Memory Address: 5687035712\n"
     ]
    }
   ],
   "source": [
    "\n",
    "for i in range(len(np_arr)):\n",
    "    element_address = base_address + i * element_size\n",
    "    print(f\"Element {i}: {np_arr[i]}, Memory Address: {element_address}\")"
   ]
  },
  {
   "cell_type": "markdown",
   "metadata": {},
   "source": [
    "* 64 bit = 8 bytes \n",
    "\n",
    "* Therefore the addresses are 8 bytes apart. "
   ]
  },
  {
   "cell_type": "markdown",
   "metadata": {},
   "source": [
    "## Differences in memory usage\n",
    "\n",
    "* Numpy built on C language"
   ]
  },
  {
   "cell_type": "code",
   "execution_count": 41,
   "metadata": {},
   "outputs": [],
   "source": [
    "import numpy as np \n",
    "import sys"
   ]
  },
  {
   "cell_type": "code",
   "execution_count": 34,
   "metadata": {},
   "outputs": [
    {
     "name": "stdout",
     "output_type": "stream",
     "text": [
      "Space taken by tuple = 8024  bytes\n",
      "Space taken by list = 8040  bytes\n",
      "Space taken by NumPy array = 8128  bytes\n"
     ]
    }
   ],
   "source": [
    "tuple_ex = tuple(range(1000))\n",
    "list_ex = list(range(1000))\n",
    "numpy_ex = np.array([range(1000)])\n",
    "print(\"Space taken by tuple =\",tuple_ex.__sizeof__(),\" bytes\")\n",
    "print(\"Space taken by list =\",list_ex.__sizeof__(),\" bytes\")\n",
    "print(\"Space taken by NumPy array =\",numpy_ex.__sizeof__(),\" bytes\")"
   ]
  },
  {
   "cell_type": "code",
   "execution_count": 40,
   "metadata": {},
   "outputs": [],
   "source": [
    "a = np.array([1,2,3,4,5])"
   ]
  },
  {
   "cell_type": "code",
   "execution_count": 26,
   "metadata": {},
   "outputs": [
    {
     "data": {
      "text/plain": [
       "numpy.int64"
      ]
     },
     "execution_count": 26,
     "metadata": {},
     "output_type": "execute_result"
    }
   ],
   "source": [
    "type(a[3])"
   ]
  },
  {
   "cell_type": "code",
   "execution_count": 28,
   "metadata": {},
   "outputs": [
    {
     "data": {
      "text/plain": [
       "8"
      ]
     },
     "execution_count": 28,
     "metadata": {},
     "output_type": "execute_result"
    }
   ],
   "source": [
    "a[3].nbytes"
   ]
  },
  {
   "cell_type": "code",
   "execution_count": 32,
   "metadata": {},
   "outputs": [
    {
     "data": {
      "text/plain": [
       "5"
      ]
     },
     "execution_count": 32,
     "metadata": {},
     "output_type": "execute_result"
    }
   ],
   "source": [
    "a.size"
   ]
  },
  {
   "cell_type": "code",
   "execution_count": 33,
   "metadata": {},
   "outputs": [
    {
     "data": {
      "text/plain": [
       "40"
      ]
     },
     "execution_count": 33,
     "metadata": {},
     "output_type": "execute_result"
    }
   ],
   "source": [
    "a.nbytes"
   ]
  },
  {
   "cell_type": "code",
   "execution_count": 37,
   "metadata": {},
   "outputs": [],
   "source": [
    "py_l = [1,2,3,4,5]"
   ]
  },
  {
   "cell_type": "code",
   "execution_count": 36,
   "metadata": {},
   "outputs": [
    {
     "data": {
      "text/plain": [
       "int"
      ]
     },
     "execution_count": 36,
     "metadata": {},
     "output_type": "execute_result"
    }
   ],
   "source": [
    "type(py_l[3])"
   ]
  },
  {
   "cell_type": "code",
   "execution_count": 49,
   "metadata": {},
   "outputs": [
    {
     "data": {
      "text/plain": [
       "28"
      ]
     },
     "execution_count": 49,
     "metadata": {},
     "output_type": "execute_result"
    }
   ],
   "source": [
    "sys.getsizeof(py_l[3])"
   ]
  },
  {
   "cell_type": "code",
   "execution_count": 50,
   "metadata": {},
   "outputs": [
    {
     "data": {
      "text/plain": [
       "120"
      ]
     },
     "execution_count": 50,
     "metadata": {},
     "output_type": "execute_result"
    }
   ],
   "source": [
    "sys.getsizeof(py_l)"
   ]
  },
  {
   "cell_type": "code",
   "execution_count": 56,
   "metadata": {},
   "outputs": [
    {
     "data": {
      "text/plain": [
       "3"
      ]
     },
     "execution_count": 56,
     "metadata": {},
     "output_type": "execute_result"
    }
   ],
   "source": [
    "py_l[3].bit_length()"
   ]
  },
  {
   "cell_type": "code",
   "execution_count": 63,
   "metadata": {},
   "outputs": [],
   "source": [
    "py_l = [123456789,12]"
   ]
  },
  {
   "cell_type": "code",
   "execution_count": 64,
   "metadata": {},
   "outputs": [
    {
     "data": {
      "text/plain": [
       "27"
      ]
     },
     "execution_count": 64,
     "metadata": {},
     "output_type": "execute_result"
    }
   ],
   "source": [
    "py_l[0].bit_length()"
   ]
  },
  {
   "cell_type": "code",
   "execution_count": 38,
   "metadata": {},
   "outputs": [
    {
     "data": {
      "text/plain": [
       "2"
      ]
     },
     "execution_count": 38,
     "metadata": {},
     "output_type": "execute_result"
    }
   ],
   "source": [
    "py_l[1].bit_length()"
   ]
  },
  {
   "cell_type": "code",
   "execution_count": 39,
   "metadata": {},
   "outputs": [
    {
     "name": "stdout",
     "output_type": "stream",
     "text": [
      "Memory size of Python list: 8000056 bytes\n",
      "Memory size of NumPy array: 8000000 bytes\n"
     ]
    }
   ],
   "source": [
    "import numpy as np\n",
    "import sys\n",
    "\n",
    "# a. Create structures\n",
    "size = 1000000\n",
    "py_list = list(range(size))\n",
    "np_array = np.arange(size)\n",
    "\n",
    "# b. Check memory usage\n",
    "print(\"Memory size of Python list:\", sys.getsizeof(py_list), \"bytes\")\n",
    "print(\"Memory size of NumPy array:\", np_array.nbytes, \"bytes\")"
   ]
  },
  {
   "cell_type": "code",
   "execution_count": 21,
   "metadata": {},
   "outputs": [
    {
     "name": "stdout",
     "output_type": "stream",
     "text": [
      "NumPy - Sum: 500008.33116532874 Mean: 0.5000083311653287 Std Dev: 0.28875364043318225\n",
      "NumPy Aggregation Time: 0.005028247833251953 seconds\n",
      "Python List - Sum: 500008.33116533293 Mean: 0.5000083311653329 Std Dev: 0.28875378481011077\n",
      "Python List Aggregation Time: 1.0715599060058594 seconds\n"
     ]
    }
   ],
   "source": [
    "import numpy as np\n",
    "import statistics\n",
    "import time\n",
    "\n",
    "# Create a NumPy array and a Python list\n",
    "data_size = 1000000\n",
    "np_array = np.random.rand(data_size)\n",
    "py_list = np_array.tolist()\n",
    "\n",
    "# a. NumPy aggregation\n",
    "start_time = time.time()\n",
    "np_sum = np_array.sum()\n",
    "np_mean = np_array.mean()\n",
    "np_std = np_array.std()\n",
    "np_time = time.time() - start_time\n",
    "print(\"NumPy - Sum:\", np_sum, \"Mean:\", np_mean, \"Std Dev:\", np_std)\n",
    "print(\"NumPy Aggregation Time:\", np_time, \"seconds\")\n",
    "\n",
    "# b. Python list aggregation\n",
    "start_time = time.time()\n",
    "py_sum = sum(py_list)\n",
    "py_mean = py_sum / len(py_list)\n",
    "py_std = statistics.stdev(py_list)\n",
    "py_time = time.time() - start_time\n",
    "print(\"Python List - Sum:\", py_sum, \"Mean:\", py_mean, \"Std Dev:\", py_std)\n",
    "print(\"Python List Aggregation Time:\", py_time, \"seconds\")"
   ]
  },
  {
   "cell_type": "code",
   "execution_count": 22,
   "metadata": {},
   "outputs": [
    {
     "name": "stdout",
     "output_type": "stream",
     "text": [
      "Combined with np.concatenate: [1 2 3 4 5 6]\n",
      "Data type: int64\n",
      "List extended with NumPy array: [4, 5, 6, np.int64(1), np.int64(2), np.int64(3)]\n",
      "Data types in extended list: [<class 'int'>, <class 'int'>, <class 'int'>, <class 'numpy.int64'>, <class 'numpy.int64'>, <class 'numpy.int64'>]\n"
     ]
    }
   ],
   "source": [
    "import numpy as np\n",
    "\n",
    "# a. NumPy array and Python list\n",
    "np_array = np.array([1, 2, 3])\n",
    "py_list = [4, 5, 6]\n",
    "\n",
    "# Concatenate using np.concatenate\n",
    "combined = np.concatenate((np_array, py_list))\n",
    "print(\"Combined with np.concatenate:\", combined)\n",
    "print(\"Data type:\", combined.dtype)\n",
    "\n",
    "# Alternative: Extend the list with array\n",
    "py_list_extended = py_list.copy()\n",
    "py_list_extended.extend(np_array)\n",
    "print(\"List extended with NumPy array:\", py_list_extended)\n",
    "print(\"Data types in extended list:\", [type(x) for x in py_list_extended])"
   ]
  },
  {
   "cell_type": "markdown",
   "metadata": {},
   "source": [
    "## Exercise \n",
    "\n",
    "Compare `list.range()` function with `np.arange()`. Create both a Python list and a numpy array with values `[0,1,2,3,4,5,6,7,8,9]`. Remember to `import numpy as np` (if you haven't run any code cells above)."
   ]
  },
  {
   "cell_type": "code",
   "execution_count": null,
   "metadata": {},
   "outputs": [],
   "source": []
  },
  {
   "cell_type": "markdown",
   "metadata": {},
   "source": [
    "## Exercise \n",
    "\n",
    "Create a one-dimensional numpy array of 50 random integers between 0-9. Furthemore, specify the integers to be of `numpy.int8` type to save space. Check to see whether the elements are stored 1 byte apart (8 bits)."
   ]
  },
  {
   "cell_type": "code",
   "execution_count": null,
   "metadata": {},
   "outputs": [],
   "source": []
  },
  {
   "cell_type": "markdown",
   "metadata": {},
   "source": [
    "## Exercise \n",
    "\n",
    "Perform element-wise operations the numpy array. For example, add 5 to each of the elements. Now compare this with the same approach applied to the Python list. Do they operate in the same way? "
   ]
  },
  {
   "cell_type": "code",
   "execution_count": 5,
   "metadata": {},
   "outputs": [],
   "source": [
    "import numpy as np\n",
    "\n",
    "np_array = np.arange(10)\n",
    "np_array_plus_5 = np_array + 5\n",
    "\n",
    "py_list = list(range(10))\n",
    "py_list_plus_5 = [x + 5 for x in py_list]\n"
   ]
  },
  {
   "cell_type": "code",
   "execution_count": 6,
   "metadata": {},
   "outputs": [
    {
     "data": {
      "text/plain": [
       "array([ 5,  6,  7,  8,  9, 10, 11, 12, 13, 14])"
      ]
     },
     "execution_count": 6,
     "metadata": {},
     "output_type": "execute_result"
    }
   ],
   "source": [
    "np_array_plus_5"
   ]
  },
  {
   "cell_type": "code",
   "execution_count": 7,
   "metadata": {},
   "outputs": [
    {
     "data": {
      "text/plain": [
       "[5, 6, 7, 8, 9, 10, 11, 12, 13, 14]"
      ]
     },
     "execution_count": 7,
     "metadata": {},
     "output_type": "execute_result"
    }
   ],
   "source": [
    "py_list_plus_5"
   ]
  },
  {
   "cell_type": "code",
   "execution_count": 19,
   "metadata": {},
   "outputs": [
    {
     "name": "stdout",
     "output_type": "stream",
     "text": [
      "Python List Addition Time: 0.0452427864074707\n",
      "NumPy Array Addition Time: 0.0036542415618896484\n",
      "Python List Multiplication Time: 0.03597521781921387\n",
      "NumPy Array Multiplication Time: 0.0010449886322021484\n"
     ]
    }
   ],
   "source": [
    "import numpy as np\n",
    "import time\n",
    "\n",
    "# a. Create large structures\n",
    "size = 1000000\n",
    "py_list = list(range(size))\n",
    "np_array = np.arange(size)\n",
    "\n",
    "# Define another list and array for operations\n",
    "py_list2 = list(range(size))\n",
    "np_array2 = np.arange(size)\n",
    "\n",
    "# b. Element-wise addition\n",
    "start_time = time.time()\n",
    "py_list_sum = [x + y for x, y in zip(py_list, py_list2)]\n",
    "py_add_time = time.time() - start_time\n",
    "print(\"Python List Addition Time:\", py_add_time)\n",
    "\n",
    "start_time = time.time()\n",
    "np_sum = np_array + np_array2\n",
    "np_add_time = time.time() - start_time\n",
    "print(\"NumPy Array Addition Time:\", np_add_time)\n",
    "\n",
    "# c. Element-wise multiplication\n",
    "start_time = time.time()\n",
    "py_list_mul = [x * y for x, y in zip(py_list, py_list2)]\n",
    "py_mul_time = time.time() - start_time\n",
    "print(\"Python List Multiplication Time:\", py_mul_time)\n",
    "\n",
    "start_time = time.time()\n",
    "np_mul = np_array * np_array2\n",
    "np_mul_time = time.time() - start_time\n",
    "print(\"NumPy Array Multiplication Time:\", np_mul_time)"
   ]
  },
  {
   "cell_type": "markdown",
   "metadata": {},
   "source": [
    "## Exercise \n",
    "\n",
    "Now create a one dimensional numpy array with 64 elements. Initialise these to empty characters (empty `str` in Python). Then `reshape` this one-dimensional array into an 8 x 8 two-dimensional array.  "
   ]
  },
  {
   "cell_type": "code",
   "execution_count": 54,
   "metadata": {},
   "outputs": [],
   "source": [
    "chess = np.full(64, \" \")"
   ]
  },
  {
   "cell_type": "code",
   "execution_count": 55,
   "metadata": {},
   "outputs": [
    {
     "data": {
      "text/plain": [
       "array([' ', ' ', ' ', ' ', ' ', ' ', ' ', ' ', ' ', ' ', ' ', ' ', ' ',\n",
       "       ' ', ' ', ' ', ' ', ' ', ' ', ' ', ' ', ' ', ' ', ' ', ' ', ' ',\n",
       "       ' ', ' ', ' ', ' ', ' ', ' ', ' ', ' ', ' ', ' ', ' ', ' ', ' ',\n",
       "       ' ', ' ', ' ', ' ', ' ', ' ', ' ', ' ', ' ', ' ', ' ', ' ', ' ',\n",
       "       ' ', ' ', ' ', ' ', ' ', ' ', ' ', ' ', ' ', ' ', ' ', ' '],\n",
       "      dtype='<U1')"
      ]
     },
     "execution_count": 55,
     "metadata": {},
     "output_type": "execute_result"
    }
   ],
   "source": [
    "chess"
   ]
  },
  {
   "cell_type": "code",
   "execution_count": 56,
   "metadata": {},
   "outputs": [
    {
     "data": {
      "text/plain": [
       "array([[' ', ' ', ' ', ' ', ' ', ' ', ' ', ' '],\n",
       "       [' ', ' ', ' ', ' ', ' ', ' ', ' ', ' '],\n",
       "       [' ', ' ', ' ', ' ', ' ', ' ', ' ', ' '],\n",
       "       [' ', ' ', ' ', ' ', ' ', ' ', ' ', ' '],\n",
       "       [' ', ' ', ' ', ' ', ' ', ' ', ' ', ' '],\n",
       "       [' ', ' ', ' ', ' ', ' ', ' ', ' ', ' '],\n",
       "       [' ', ' ', ' ', ' ', ' ', ' ', ' ', ' '],\n",
       "       [' ', ' ', ' ', ' ', ' ', ' ', ' ', ' ']], dtype='<U1')"
      ]
     },
     "execution_count": 56,
     "metadata": {},
     "output_type": "execute_result"
    }
   ],
   "source": [
    "chess.reshape((8,8))"
   ]
  },
  {
   "cell_type": "markdown",
   "metadata": {},
   "source": [
    "## Scenario Exercise - Chess Board\n",
    "\n",
    "<img src=\"https://lh3.googleusercontent.com/proxy/REMapHsJd3Wf2rVl5OLw8tYsjEJRcDeOqlh2io-YvuIboUZXn_1flhYeuiKDGXpfkr4ADD_2DBXlpp6bEkA-j7ueo1AP12ijDeVhLZXhudwGEM6gJ67QikCgccSmyk7sBL0\" alt=\"knight_chess\" width=\"250\"> \n",
    "\n",
    "Write a function that would move a knight chess piece to a given space on a chess board. Remember that knights move in an L shape. Two spaces then one space. \n",
    "\n",
    "To simulate this, add a 'K' character to any position in your 8 x 8 two-dimensional array, and apply your function. \n",
    "\n",
    "To start with, choose one of combinations and focus on getting this right. Then start to add more combinations. Perhaps you could let the user select which grid coordinate they want to move to?\n"
   ]
  },
  {
   "cell_type": "code",
   "execution_count": null,
   "metadata": {},
   "outputs": [],
   "source": []
  },
  {
   "cell_type": "markdown",
   "metadata": {},
   "source": [
    "## Extension: Web Chess\n",
    "\n",
    "Can you draw this chess board in Flask, using your 8 x 8 numpy array?"
   ]
  },
  {
   "cell_type": "markdown",
   "metadata": {},
   "source": [
    "#### 4. Create an array of 10 fives"
   ]
  },
  {
   "cell_type": "code",
   "execution_count": 4,
   "metadata": {
    "collapsed": false
   },
   "outputs": [
    {
     "data": {
      "text/plain": [
       "array([ 5.,  5.,  5.,  5.,  5.,  5.,  5.,  5.,  5.,  5.])"
      ]
     },
     "execution_count": 4,
     "metadata": {},
     "output_type": "execute_result"
    }
   ],
   "source": []
  },
  {
   "cell_type": "markdown",
   "metadata": {},
   "source": [
    "#### 6. Create an array of all the even integers from 10 to 50"
   ]
  },
  {
   "cell_type": "code",
   "execution_count": 6,
   "metadata": {
    "collapsed": false
   },
   "outputs": [
    {
     "data": {
      "text/plain": [
       "array([10, 12, 14, 16, 18, 20, 22, 24, 26, 28, 30, 32, 34, 36, 38, 40, 42,\n",
       "       44, 46, 48, 50])"
      ]
     },
     "execution_count": 6,
     "metadata": {},
     "output_type": "execute_result"
    }
   ],
   "source": []
  },
  {
   "cell_type": "markdown",
   "metadata": {},
   "source": [
    "#### 7. Create a 3x3 matrix with values ranging from 0 to 8"
   ]
  },
  {
   "cell_type": "code",
   "execution_count": 7,
   "metadata": {
    "collapsed": false
   },
   "outputs": [
    {
     "data": {
      "text/plain": [
       "array([[0, 1, 2],\n",
       "       [3, 4, 5],\n",
       "       [6, 7, 8]])"
      ]
     },
     "execution_count": 7,
     "metadata": {},
     "output_type": "execute_result"
    }
   ],
   "source": []
  },
  {
   "cell_type": "markdown",
   "metadata": {},
   "source": [
    "#### 10. Use NumPy to generate an array of 25 random numbers"
   ]
  },
  {
   "cell_type": "code",
   "execution_count": 33,
   "metadata": {
    "collapsed": false
   },
   "outputs": [
    {
     "data": {
      "text/plain": [
       "array([ 1.32031013,  1.6798602 , -0.42985892, -1.53116655,  0.85753232,\n",
       "        0.87339938,  0.35668636, -1.47491157,  0.15349697,  0.99530727,\n",
       "       -0.94865451, -1.69174783,  1.57525349, -0.70615234,  0.10991879,\n",
       "       -0.49478947,  1.08279872,  0.76488333, -2.3039931 ,  0.35401124,\n",
       "       -0.45454399, -0.64754649, -0.29391671,  0.02339861,  0.38272124])"
      ]
     },
     "execution_count": 33,
     "metadata": {},
     "output_type": "execute_result"
    }
   ],
   "source": []
  },
  {
   "cell_type": "code",
   "execution_count": 38,
   "metadata": {
    "collapsed": false
   },
   "outputs": [
    {
     "data": {
      "text/plain": [
       "array([[ 1,  2,  3,  4,  5],\n",
       "       [ 6,  7,  8,  9, 10],\n",
       "       [11, 12, 13, 14, 15],\n",
       "       [16, 17, 18, 19, 20],\n",
       "       [21, 22, 23, 24, 25]])"
      ]
     },
     "execution_count": 38,
     "metadata": {},
     "output_type": "execute_result"
    }
   ],
   "source": [
    "mat = np.arange(1,26).reshape(5,5)\n",
    "mat"
   ]
  },
  {
   "cell_type": "markdown",
   "metadata": {},
   "source": [
    "## Exercise 4: \n",
    "\n",
    "Without using any functions provided by libraries (e.g. `reverse()`), implement a function that will reverse the contents of an array. \n"
   ]
  },
  {
   "cell_type": "code",
   "execution_count": null,
   "metadata": {},
   "outputs": [],
   "source": []
  },
  {
   "cell_type": "markdown",
   "metadata": {},
   "source": [
    "## Exercise 7: \n",
    "Given an image represented by an NxN matrix, where each pixel in the image is 4 bytes, write a function to rotate the image by 90 degrees. \n",
    "\n",
    "Extension: Can you do this in place? (without additional data structures)"
   ]
  },
  {
   "cell_type": "code",
   "execution_count": null,
   "metadata": {},
   "outputs": [],
   "source": []
  },
  {
   "cell_type": "markdown",
   "metadata": {},
   "source": [
    "## Exercise \n",
    "\n",
    "Write an algorithm such that if an element in an MxN matrix is 0, its entire row and column are set to 0. "
   ]
  },
  {
   "cell_type": "code",
   "execution_count": null,
   "metadata": {},
   "outputs": [],
   "source": []
  }
 ],
 "metadata": {
  "kernelspec": {
   "display_name": "Python 3",
   "language": "python",
   "name": "python3"
  },
  "language_info": {
   "codemirror_mode": {
    "name": "ipython",
    "version": 3
   },
   "file_extension": ".py",
   "mimetype": "text/x-python",
   "name": "python",
   "nbconvert_exporter": "python",
   "pygments_lexer": "ipython3",
   "version": "3.9.6"
  }
 },
 "nbformat": 4,
 "nbformat_minor": 0
}
