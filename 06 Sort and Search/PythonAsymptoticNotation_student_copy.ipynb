{
 "cells": [
  {
   "attachments": {
    "pythonLogo.png": {
     "image/png": "[encoded data removed]"
    }
   },
   "cell_type": "markdown",
   "metadata": {
    "slideshow": {
     "slide_type": "slide"
    }
   },
   "source": [
    "![pythonLogo.png](attachment:pythonLogo.png)\n",
    "# Asymptotic Notation #\n",
    "\n",
    "### Examples from Codeacademy + Commentary by ND - September 2022 ###\n",
    "\n",
    "## This section introduces Asymptotic notation and Computational Complexity. It contains interactive code (there may be some errors for you to repair) and a multiple choice quiz. At the end there is also <font color=\"red\">a logbook exercise for you to complete</font>  ##\n",
    "\n",
    "\n",
    "\n",
    "\n"
   ]
  },
  {
   "cell_type": "markdown",
   "metadata": {},
   "source": [
    "# Asymptotic complexity (Algorithmic Complexity)\n",
    "#### Taken from Cormen et al. (2022) book 'Algorithms'\n",
    "Asymptotic complexity, often referred to as algorithmic complexity, is a way to analyse and describe the efficiency of an algorithm in terms of how its runtime or resource usage grows relative to the size of the input data. It provides a mathematical of measuring an algorithm's performance by how it scales for large input sizes. The most commonly used notations for asymptotic complexity are Big O, Big Theta, and Big Omega:\n",
    " \n",
    "* Big O notation describes the asymptotic upper bound – grows no faster than this rate O(n) – no more than linear time\n",
    "* Big Omega Ω describes the asymptotic lower bound – grows at least as fast as this rate Ω(n) – at least linear time\n",
    "* Big Theta Θ describes the asymptotically tight bounds – grows precisely at a certain rate Θ(n) – exactly linear time"
   ]
  },
  {
   "cell_type": "markdown",
   "metadata": {
    "slideshow": {
     "slide_type": "slide"
    }
   },
   "source": [
    "\n",
    "# Algorithmic Common Runtimes #\n",
    "The common algorithmic runtimes from fastest to slowest are:\n",
    "\n",
    "- constant: <em>O</em>(1)\n",
    "- logarithmic: <em>O</em>(log n)\n",
    "- linear: <em>O</em>(n)\n",
    "- linearithmic <em>O</em>(n log n)\n",
    "- polynomial: <em>O</em>(n^2)\n",
    "- exponential: <em>O</em>(2^n)\n",
    "- factorial: <em>O</em>(n!)"
   ]
  },
  {
   "cell_type": "markdown",
   "metadata": {},
   "source": [
    "\n",
    "![bigo](https://cdn-media-1.freecodecamp.org/images/1*KfZYFUT2OKfjekJlCeYvuQ.jpeg)"
   ]
  },
  {
   "cell_type": "code",
   "execution_count": null,
   "metadata": {},
   "outputs": [],
   "source": [
    "## Codeacademy \n",
    "\n",
    "\n",
    "def half(N):\n",
    "  count = 0\n",
    "  while N > 1:\n",
    "    N = N//2\n",
    "    count += 1\n",
    "  return count"
   ]
  },
  {
   "cell_type": "code",
   "execution_count": null,
   "metadata": {},
   "outputs": [],
   "source": [
    "## Codeacadeny \n",
    "\n",
    "# O(N) runtime \n",
    "def find_max(linked_list):\n",
    "  current = linked_list.get_head_node()\n",
    "  maximum = current.get_value()\n",
    "  while current.get_next_node():\n",
    "    current = current.get_next_node()\n",
    "    val = current.get_value()\n",
    "    if val > maximum:\n",
    "      maximum = val\n",
    "  return maximum"
   ]
  },
  {
   "cell_type": "markdown",
   "metadata": {},
   "source": [
    "# Swap"
   ]
  },
  {
   "cell_type": "code",
   "execution_count": null,
   "metadata": {},
   "outputs": [],
   "source": [
    "def swap(arr, left_pos, right_pos):\n",
    "  temp = arr[left_pos]\n",
    "  arr[left_pos] = arr[right_pos]\n",
    "  arr[right_pos] = temp"
   ]
  },
  {
   "cell_type": "markdown",
   "metadata": {},
   "source": [
    "# Bubble Sort\n",
    "Bubble sort works by swapping pairs of elements in an array. To sort in ascending order (smallest to largest), then the larger values have to be moved further down the end of the list, and the small values are then moved to the start of the list.\n",
    "Bubble sort has to keep iterating over the list so that this occurs.\n",
    "\n",
    "![bubble](https://upload.wikimedia.org/wikipedia/commons/5/54/Sorting_bubblesort_anim.gif)"
   ]
  },
  {
   "cell_type": "code",
   "execution_count": 1,
   "metadata": {},
   "outputs": [
    {
     "name": "stdout",
     "output_type": "stream",
     "text": [
      "PRE SORT: [9, 8, 7, 6, 5, 4, 3, 2, 1]\n",
      "PRE-OPTIMIZED ITERATION COUNT: 72\n",
      "POST-OPTIMIZED ITERATION COUNT: 36\n",
      "POST SORT: [1, 2, 3, 4, 5, 6, 7, 8, 9]\n"
     ]
    }
   ],
   "source": [
    "nums = [9, 8, 7, 6, 5, 4, 3, 2, 1]\n",
    "print(\"PRE SORT: {0}\".format(nums))\n",
    "\n",
    "def swap(arr, index_1, index_2):\n",
    "  temp = arr[index_1]\n",
    "  arr[index_1] = arr[index_2]\n",
    "  arr[index_2] = temp\n",
    "\n",
    "def bubble_sort_unoptimized(arr):\n",
    "  iteration_count = 0\n",
    "  for el in arr:\n",
    "    for index in range(len(arr) - 1):\n",
    "      iteration_count += 1\n",
    "      if arr[index] > arr[index + 1]:\n",
    "        swap(arr, index, index + 1)\n",
    "\n",
    "  print(\"PRE-OPTIMIZED ITERATION COUNT: {0}\".format(iteration_count))\n",
    "\n",
    "def bubble_sort_optimized(arr):\n",
    "  iteration_count = 0\n",
    "  for i in range(len(arr)):\n",
    "    # iterate through unplaced elements\n",
    "    for idx in range(len(arr) - i - 1):\n",
    "      iteration_count += 1\n",
    "      if arr[idx] > arr[idx + 1]:\n",
    "        # replacement for swap function\n",
    "        arr[idx], arr[idx + 1] = arr[idx + 1], arr[idx]\n",
    "        \n",
    "  print(\"POST-OPTIMIZED ITERATION COUNT: {0}\".format(iteration_count))\n",
    "\n",
    "bubble_sort_unoptimized(nums.copy())\n",
    "bubble_sort_optimized(nums)\n",
    "print(\"POST SORT: {0}\".format(nums))"
   ]
  },
  {
   "cell_type": "markdown",
   "metadata": {},
   "source": [
    "# Merge Sort\n",
    "Merge Sort is a divide and conquer algorithm. It consists of two parts:\n",
    "\n",
    "1) splitting the original list into smaller sorted lists recursively until there is only 1 element in the list,\n",
    "2) merging back the presorted 1-element lists into 2-element lists, 4-element lists, and so on recursively.\n",
    "\n",
    "The merging portion is iterative and takes 2 sublists. The first element of the left sublist is compared to the first element of the right sublist. If it is smaller, it is added to a new sorted list, and removed from the left sublist. If it is bigger, the first element of the right sublist is added instead to the sorted list and then removed from the right sublist. This is repeated until either the left or right sublist is empty. The remaining non-empty sublist is appended to the sorted list.\n",
    "\n",
    "The Merge Sort algorithm is divided into two parts. The first part repeatedly splits the input list into smaller lists to eventually produce single-element lists. The best, worst and average runtime for this part is Θ(log N). The second part repeatedly merges and sorts the single-element lists to twice its size until the original input size is achieved. The best, worst and average runtime for this part is Θ(N). Therefore, the combined runtime is Θ(N log N).\n",
    "\n",
    "![mergesort](https://i0.wp.com/blog.shahadmahmud.com/wp-content/uploads/2020/04/ms2.gif?resize=960%2C540&ssl=1)\n"
   ]
  },
  {
   "cell_type": "code",
   "execution_count": 2,
   "metadata": {},
   "outputs": [
    {
     "name": "stdout",
     "output_type": "stream",
     "text": [
      "[125, 264, 356, 455, 569, 746, 895, 949]\n",
      "[19, 113, 180, 201, 202, 268, 276, 318, 370, 373, 391, 403, 534, 543, 571, 595, 624, 677, 717, 770, 787, 795, 975]\n",
      "[147, 151, 380, 387, 439, 542, 585, 743, 820, 860, 865, 924]\n"
     ]
    }
   ],
   "source": [
    "def merge_sort(items):\n",
    "  if len(items) <= 1:\n",
    "    return items\n",
    "\n",
    "  middle_index = len(items) // 2\n",
    "  left_split = items[:middle_index]\n",
    "  right_split = items[middle_index:]\n",
    "\n",
    "  left_sorted = merge_sort(left_split)\n",
    "  right_sorted = merge_sort(right_split)\n",
    "\n",
    "  return merge(left_sorted, right_sorted)\n",
    "\n",
    "def merge(left, right):\n",
    "  result = []\n",
    "\n",
    "  while (left and right):\n",
    "    if left[0] < right[0]:\n",
    "      result.append(left[0])\n",
    "      left.pop(0)\n",
    "    else:\n",
    "      result.append(right[0])\n",
    "      right.pop(0)\n",
    "\n",
    "  if left:\n",
    "    result += left\n",
    "  if right:\n",
    "    result += right\n",
    "\n",
    "  return result\n",
    "\n",
    "unordered_list1 = [356, 746, 264, 569, 949, 895, 125, 455]\n",
    "unordered_list2 = [787, 677, 391, 318, 543, 717, 180, 113, 795, 19, 202, 534, 201, 370, 276, 975, 403, 624, 770, 595, 571, 268, 373]\n",
    "unordered_list3 = [860, 380, 151, 585, 743, 542, 147, 820, 439, 865, 924, 387]\n",
    "\n",
    "ordered_list1 = merge_sort(unordered_list1)\n",
    "ordered_list2 = merge_sort(unordered_list2)\n",
    "ordered_list3 = merge_sort(unordered_list3)\n",
    "\n",
    "print(ordered_list1)\n",
    "print(ordered_list2)\n",
    "print(ordered_list3)"
   ]
  },
  {
   "cell_type": "markdown",
   "metadata": {},
   "source": [
    "# Quicksort\n",
    "Quicksort’s performance can be inefficient when the algorithm encounters imbalanced partitions. The worst case scenario is if the first or last element is always the partition point for an array or sub-array. In this case, one side of the partition will contain all the elements. This makes the recursive stack deeper, resulting in O(N^2) runtime.\n",
    "Quick Sort General\n",
    "Quicksort is a method for sorting an array by repeatedly partitioning it into sub-arrays by:\n",
    "\n",
    "- Selecting an element from the current array. This element is called the pivot element, and in our implementation we used the mid element.\n",
    "- Comparing every element in the array to the pivot element, swap the elements into sides greater than and less than. The partition point in the array is where we guarantee everything before is less and everything after is greater than.\n",
    "- Repeating this process on the sub-arrays separated by the partition point. Do this until a sub-array contains a single element. When the partitioning and swapping are done, the arrays are sorted from smallest to largest.\n",
    "\n",
    "The worst case runtime for quicksort is O(N^2) and the average runtime for quicksort is O(N logN). The worst case runtime is so unusual that the quicksort algorithm is typically referred to as O(N logN)“\n",
    "\n",
    "![quicksort](https://upload.wikimedia.org/wikipedia/commons/6/6a/Sorting_quicksort_anim.gif)\n"
   ]
  },
  {
   "cell_type": "code",
   "execution_count": 3,
   "metadata": {},
   "outputs": [
    {
     "name": "stdout",
     "output_type": "stream",
     "text": [
      "PRE SORT:  [3, 7, 8, 4, 1, 2, 5, 6]\n",
      "Running quicksort on [3, 7, 8, 4, 1, 2, 5, 6]\n",
      "Selected pivot 4\n",
      "Swapping 3 with 4\n",
      "Swapping 1 with 4\n",
      "Swapping 2 with 4\n",
      "[3, 1, 2, 4, 7, 8, 5, 6] successfully partitioned\n",
      "Running quicksort on [3, 1, 2]\n",
      "Selected pivot 3\n",
      "Swapping 2 with 3\n",
      "Swapping 1 with 3\n",
      "[2, 1, 3] successfully partitioned\n",
      "Running quicksort on [2, 1]\n",
      "Selected pivot 1\n",
      "[1, 2] successfully partitioned\n",
      "Running quicksort on [7, 8, 5, 6]\n",
      "Selected pivot 7\n",
      "Swapping 6 with 7\n",
      "Swapping 5 with 7\n",
      "[6, 5, 7, 8] successfully partitioned\n",
      "Running quicksort on [6, 5]\n",
      "Selected pivot 5\n",
      "[5, 6] successfully partitioned\n",
      "None\n",
      "POST SORT:  [1, 2, 3, 4, 5, 6, 7, 8]\n"
     ]
    }
   ],
   "source": [
    "from random import randrange, shuffle\n",
    "\n",
    "def quicksort(list, start, end):\n",
    "  # this portion of list has been sorted\n",
    "  if start >= end:\n",
    "    return\n",
    "  print(\"Running quicksort on {0}\".format(list[start: end + 1]))\n",
    "  # select random element to be pivot\n",
    "  pivot_idx = randrange(start, end + 1)\n",
    "  pivot_element = list[pivot_idx]\n",
    "  print(\"Selected pivot {0}\".format(pivot_element))\n",
    "  # swap random element with last element in sub-lists\n",
    "  list[end], list[pivot_idx] = list[pivot_idx], list[end]\n",
    "\n",
    "  # tracks all elements which should be to left (lesser than) pivot\n",
    "  less_than_pointer = start\n",
    "  \n",
    "  for i in range(start, end):\n",
    "    # we found an element out of place\n",
    "    if list[i] < pivot_element:\n",
    "      # swap element to the right-most portion of lesser elements\n",
    "      print(\"Swapping {0} with {1}\".format(list[i], pivot_element))\n",
    "      list[i], list[less_than_pointer] = list[less_than_pointer], list[i]\n",
    "      # tally that we have one more lesser element\n",
    "      less_than_pointer += 1\n",
    "  # move pivot element to the right-most portion of lesser elements\n",
    "  list[end], list[less_than_pointer] = list[less_than_pointer], list[end]\n",
    "  print(\"{0} successfully partitioned\".format(list[start: end + 1]))\n",
    "  # recursively sort left and right sub-lists\n",
    "  quicksort(list, start, less_than_pointer - 1)\n",
    "  quicksort(list, less_than_pointer + 1, end)\n",
    "\n",
    "\n",
    "list = [5,3,1,7,4,6,2,8]\n",
    "shuffle(list)\n",
    "print(\"PRE SORT: \", list)\n",
    "print(quicksort(list, 0, len(list) -1))\n",
    "print(\"POST SORT: \", list)\n"
   ]
  },
  {
   "cell_type": "markdown",
   "metadata": {},
   "source": [
    "# Linear Search\n",
    "Linear search can be used to search for the smallest or largest value in an unsorted list rather than searching for a match. It can do so by keeping track of the largest (or smallest) value and updating as necessary as the algorithm iterates through the dataset."
   ]
  },
  {
   "cell_type": "code",
   "execution_count": null,
   "metadata": {},
   "outputs": [],
   "source": [
    "number_list = [ 10, 14, 19, 26, 27, 31, 33, 35, 42, 44]\n",
    "target_number = 33\n",
    "\n",
    "def linear_search(search_list, target_value):\n",
    "  for idx in range(len(search_list)):\n",
    "    if search_list[idx] == target_value:\n",
    "      return idx\n",
    "  raise ValueError(\"{0} not in list\".format(target_value))\n",
    "\n",
    "\n",
    "try:\n",
    "  # Call the function below...\n",
    "  result = linear_search(number_list, target_number)\n",
    "  print(result)\n",
    "  linear_search(number_list, 100)\n",
    "except ValueError as error_message:\n",
    "  print(\"{0}\".format(error_message))"
   ]
  },
  {
   "cell_type": "markdown",
   "metadata": {},
   "source": [
    "# Finding Duplicates"
   ]
  },
  {
   "cell_type": "code",
   "execution_count": 4,
   "metadata": {},
   "outputs": [
    {
     "name": "stdout",
     "output_type": "stream",
     "text": [
      "[0, 5]\n"
     ]
    }
   ],
   "source": [
    "# Search list and target value\n",
    "tour_locations = [ \"New York City\", \"Los Angeles\", \"Bangkok\", \"Istanbul\", \"London\", \"New York City\", \"Toronto\"]\n",
    "target_city = \"New York City\"\n",
    "\n",
    "#Linear Search Algorithm\n",
    "def linear_search(search_list, target_value):\n",
    "  matches = []\n",
    "  for idx in range(len(search_list)):\n",
    "    if search_list[idx] == target_value:\n",
    "      matches.append(idx)\n",
    "  if matches:\n",
    "    return matches\n",
    "  else:\n",
    "    raise ValueError(\"{0} not in list\".format(target_value))\n",
    "\n",
    "#Function call\n",
    "tour_stops = linear_search(tour_locations, target_city)\n",
    "print(tour_stops)\n"
   ]
  },
  {
   "cell_type": "markdown",
   "metadata": {},
   "source": [
    "# Finding the Maximum Value\n",
    "In this algorithm we look at each item in turn and update the maximum if a number looked at is greater than the one stored."
   ]
  },
  {
   "cell_type": "code",
   "execution_count": null,
   "metadata": {},
   "outputs": [],
   "source": [
    "# Search list\n",
    "test_scores = [88, 93, 75, 100, 80, 67, 71, 92, 90, 83]\n",
    "\n",
    "\n",
    "#Linear Search Algorithm\n",
    "def linear_search(search_list):\n",
    "  maximum_score_index = None\n",
    "  for idx in range(len(search_list)):\n",
    "    if not maximum_score_index or search_list[idx] > search_list[maximum_score_index]:\n",
    "      maximum_score_index = idx\n",
    "  return maximum_score_index\n",
    "\n",
    "# Function call\n",
    "highest_score = linear_search(test_scores)\n",
    "\n",
    "#Prints out the highest score in the list\n",
    "print(highest_score)\n"
   ]
  },
  {
   "cell_type": "markdown",
   "metadata": {},
   "source": [
    "# Finding index position"
   ]
  },
  {
   "cell_type": "code",
   "execution_count": null,
   "metadata": {},
   "outputs": [],
   "source": [
    "# A list of the ingredients for tuna sushi\n",
    "recipe = [\"nori\", \"tuna\", \"soy sauce\", \"sushi rice\"]\n",
    "target_ingredient = \"soy sauce\"\n",
    "\n",
    "def linear_search(search_list, target_value):\n",
    "  for idx in range(len(search_list)):\n",
    "    if search_list[idx] == target_value:\n",
    "      return idx\n",
    "  raise ValueError(\"{0} not in list\".format(target_value))\n",
    "\n",
    "print(linear_search(recipe, target_ingredient))"
   ]
  },
  {
   "cell_type": "markdown",
   "metadata": {},
   "source": [
    "# Recursive Binary Search\n",
    "\n",
    "The other approach is to utilise a 'divide and conquer' approach to split the list in half each iteration. It requires a sorted list. If the value is less than the middle, then it will be in the first half of the list. \n",
    "\n",
    "![Binarysearchvslinear](https://blog.penjee.com/wp-content/uploads/2015/04/binary-and-linear-search-animations.gif)\n",
    "\n",
    "Recursion is when a block of code calls itself. It does so until a base (end) case is specified.\n",
    "The recursive calls are 'stacked' on top of each other, and when a condition is met (either the item found or run out of memory), the stacked calls are then executed.\n",
    "\n",
    "Exceeding the size of the stack is known as 'stack overflow'\n"
   ]
  },
  {
   "cell_type": "code",
   "execution_count": 2,
   "metadata": {},
   "outputs": [
    {
     "name": "stdout",
     "output_type": "stream",
     "text": [
      "value not found\n",
      "(2, 15)\n"
     ]
    }
   ],
   "source": [
    "# define binary_search()\n",
    "def binary_search(sorted_list, target):\n",
    "  if not sorted_list:\n",
    "    return 'value not found'\n",
    "  mid_idx = len(sorted_list)//2    # floor division\n",
    "  mid_val = sorted_list[mid_idx]\n",
    "  return mid_idx, mid_val\n",
    "\n",
    "\n",
    "# For testing:\n",
    "sorted_values = [13, 14, 15, 16, 17]\n",
    "print(binary_search([], 42))\n",
    "print(binary_search(sorted_values, 42))"
   ]
  },
  {
   "cell_type": "code",
   "execution_count": 1,
   "metadata": {},
   "outputs": [
    {
     "name": "stdout",
     "output_type": "stream",
     "text": [
      "value not found\n",
      "None\n",
      "2\n"
     ]
    }
   ],
   "source": [
    "# define binary_search()\n",
    "def binary_search(sorted_list, target):\n",
    "  if not sorted_list:\n",
    "    return 'value not found'\n",
    "  mid_idx = len(sorted_list)//2    # floor division\n",
    "  mid_val = sorted_list[mid_idx]\n",
    "  if mid_val == target:\n",
    "    return mid_idx\n",
    "\n",
    "# For testing:\n",
    "sorted_values = [13, 14, 15, 16, 17]\n",
    "print(binary_search([], 42))\n",
    "print(binary_search(sorted_values, 42))\n",
    "print(binary_search(sorted_values, 15))"
   ]
  },
  {
   "cell_type": "code",
   "execution_count": 5,
   "metadata": {},
   "outputs": [
    {
     "name": "stdout",
     "output_type": "stream",
     "text": [
      "3\n"
     ]
    }
   ],
   "source": [
    "# define binary_search()\n",
    "def binary_search(sorted_list, target):\n",
    "  if not sorted_list:\n",
    "    return 'value not found'\n",
    "  mid_idx = len(sorted_list)//2   # floor division\n",
    "  mid_val = sorted_list[mid_idx]\n",
    "  if mid_val == target:\n",
    "    return mid_idx\n",
    "  if mid_val > target:\n",
    "    left_half = sorted_list[:mid_idx]\n",
    "    return binary_search(left_half, target)\n",
    "  if mid_val < target:\n",
    "    right_half = sorted_list[mid_idx+1:]\n",
    "    result = binary_search(right_half, target)\n",
    "    if result == \"value not found\":\n",
    "      return result\n",
    "    else:\n",
    "      return result + mid_idx + 1\n",
    "# For testing:\n",
    "sorted_values = [13, 14, 15, 16, 17]\n",
    "print(binary_search(sorted_values, 16))"
   ]
  },
  {
   "cell_type": "code",
   "execution_count": 6,
   "metadata": {},
   "outputs": [
    {
     "name": "stdout",
     "output_type": "stream",
     "text": [
      "element 288 is located at index 4\n"
     ]
    }
   ],
   "source": [
    "def binary_search(sorted_list, left_pointer, right_pointer, target):\n",
    "  # this condition indicates we've reached an empty \"sub-list\"\n",
    "  if left_pointer >= right_pointer:\n",
    "    return \"value not found\"\n",
    "\t\n",
    "  # We calculate the middle index from the pointers now\n",
    "  mid_idx = (left_pointer + right_pointer) // 2    # floor division\n",
    "  mid_val = sorted_list[mid_idx]\n",
    "\n",
    "  if mid_val == target:\n",
    "    return mid_idx\n",
    "  if mid_val > target:\n",
    "    # we reduce the sub-list by passing in a new right_pointer\n",
    "    return binary_search(sorted_list, left_pointer, mid_idx, target)\n",
    "  if mid_val < target:\n",
    "    # we reduce the sub-list by passing in a new left_pointer\n",
    "    return binary_search(sorted_list, mid_idx + 1, right_pointer, target)\n",
    "  \n",
    "values = [77, 80, 102, 123, 288, 300, 540]\n",
    "start_of_values = 0\n",
    "end_of_values = len(values)\n",
    "result = binary_search(values, start_of_values, end_of_values, 288)\n",
    "\n",
    "print(\"element {0} is located at index {1}\".format(288, result))"
   ]
  },
  {
   "cell_type": "markdown",
   "metadata": {},
   "source": [
    "# Iterative Binary Search\n",
    "\n",
    "The other approach is to utilise a 'divide and conquer' approach to split the list in half each iteration. It requires a sorted list. If the value is less than the middle, then it will be in the first half of the list. This process is then applied iteratively to cut the list in half each time until the value is found.  "
   ]
  },
  {
   "cell_type": "code",
   "execution_count": 7,
   "metadata": {},
   "outputs": [
    {
     "name": "stdout",
     "output_type": "stream",
     "text": [
      "4\n",
      "Value not in list\n",
      "3\n",
      "Value not in list\n",
      "1\n"
     ]
    }
   ],
   "source": [
    "def binary_search(sorted_list, target):\n",
    "  left_pointer = 0\n",
    "  right_pointer = len(sorted_list)\n",
    "  \n",
    "  # fill in the condition for the while loop\n",
    "  while left_pointer < right_pointer:\n",
    "    # calculate the middle index using the two pointers\n",
    "    mid_idx = (left_pointer + right_pointer) // 2  # floor division\n",
    "    mid_val = sorted_list[mid_idx]\n",
    "    if mid_val == target:\n",
    "      return mid_idx\n",
    "    if target < mid_val:\n",
    "      # set the right_pointer to the appropriate value\n",
    "      right_pointer = mid_idx\n",
    "    if target > mid_val:\n",
    "      # set the left_pointer to the appropriate value\n",
    "      left_pointer = mid_idx + 1\n",
    "  \n",
    "  return \"Value not in list\"\n",
    "\n",
    "# test cases\n",
    "print(binary_search([5,6,7,8,9], 9))\n",
    "print(binary_search([5,6,7,8,9], 10))\n",
    "print(binary_search([5,6,7,8,9], 8))\n",
    "print(binary_search([5,6,7,8,9], 4))\n",
    "print(binary_search([5,6,7,8,9], 6))"
   ]
  },
  {
   "cell_type": "markdown",
   "metadata": {
    "slideshow": {
     "slide_type": "slide"
    }
   },
   "source": [
    "## <font color=\"red\">Logbook Exercise 7</font> ##\n",
    "\n",
    "Insert a 'code' cell below. In this do the following:\n",
    "\n",
    "- 1 - Write a function that uses a random number generator to populate a list with values between 0 and 9. Return the populated array and print to screen. \n",
    "e.g: [7, 5, 1, 4, 9, 2, 6, 8, 0, 9]\n",
    "- 2 - Now pass this array to the Bubble Sort method and print out the list to check it has been sorted.\n",
    "- 3 - Now call the linear search function to check that you can find a number that has been randomly chosen within your list.\n",
    "- 4 - Apply the binary search function to check that it can find the same value. \n",
    "- 5 - Now reuse the function you wrote in step 1 and scale the size to 50,000 integers. DO NOT attempt to print the individual numbers to screen, but do check that the size of the array is 50,000 elements (hint: use the len() method)\n",
    "- 6 - Now time how long it takes to run the bubble sort algorithm. Start the timer in the statement before calling the OPTIMISED bubble_sort method. Then stop the timer in the statement after the bubble_sort() method call. Output how long it took. \n",
    "- 7 - Now generate a new unsorted list of 50,000 integers with values ranging from 0-9, and time how long it takes to sort using the OPTIMISED version of the Bubble sort algorithm. Output the time to the screen and compare against the UNOPTIMISED version.\n",
    "- 8 - Now generate a new unsorted list of 50,000 integers with values ranging from 0-9, and time how long it takes to sort using the Merge Sort algorithm. Output the time to the screen and compare against the optimised and unoptimised bubble sort algorithms. \n",
    "- 9 - Now that you have sorted the array of 50,000 integers. Change the value of the last element of the data structure (49999) to the value 999. e.g. list[49999] = 999. Time how long it takes for the Binary Search method to find this 999 value. Also time how long it takes the Linear Search algorithm to find this 999 value at the end of the data structure. Output these times to the screen and observe if or how they differ.\n"
   ]
  },
  {
   "cell_type": "code",
   "execution_count": 11,
   "metadata": {},
   "outputs": [
    {
     "data": {
      "text/plain": [
       "[4, 3, 8, 1, 0, 7, 6, 4, 3, 9]"
      ]
     },
     "execution_count": 11,
     "metadata": {},
     "output_type": "execute_result"
    }
   ],
   "source": []
  },
  {
   "cell_type": "markdown",
   "metadata": {
    "slideshow": {
     "slide_type": "slide"
    }
   },
   "source": [
    "# References & Learning Resources#\n",
    "\n",
    " - W3Schools - there are many online resources for Python but the Python tutorial at https://www.w3schools.com/python/ is thorough, progressive, interactive and free. If you complete the main tutorial (skip the bits on installing Python as we will be using Ancaconda/Jupyter) the later sections on **\"File Handling\"**, **\"NumPy\"** and **\"Machine Learning\"** are also relevant. The **\"Exercises\"** and **\"Quiz\"** sections are also worthwhile activities for consolidating knowledge.\n",
    " - **Phillips, D. (2015). Python 3 object-oriented programming. Packt Publishing Ltd.** Although a 3rd edition has been released the 2nd edition is still pretty much up-to-date  and seems to be widely available in PDF format. As an added bonus this covers Design Patterns in some detail.\n",
    " - **https://www.learnpython.org/** is another comprehensive and intercative resource\n",
    " - **https://docs.python.org/3.7/tutorial/** is Python's own text-based tutorial. Despite the seemingly daunting number of sub-sections, it can be consumed in a fairly short time and manages to be both concise and comprehensive.\n",
    " - **Think Python 2e** is an excellent in-depth and free version of the O'Reilly hardcopy by Allen B. Downey and is available here ... https://greenteapress.com/wp/think-python-2e/\n",
    " - https://www.sololearn.com/ - great for mobile learning on the go ... free! Recommended by JJ\n",
    " - I have also adapted examples from *Learn Python In A Day: The Ultimate Crash Course To Learning The Basics Of Python In No Time* by *Acodemy* but this is out of print and is only mentioned for completeness."
   ]
  }
 ],
 "metadata": {
  "celltoolbar": "Slideshow",
  "kernelspec": {
   "display_name": "Python 3.9.12 ('base')",
   "language": "python",
   "name": "python3"
  },
  "language_info": {
   "codemirror_mode": {
    "name": "ipython",
    "version": 3
   },
   "file_extension": ".py",
   "mimetype": "text/x-python",
   "name": "python",
   "nbconvert_exporter": "python",
   "pygments_lexer": "ipython3",
   "version": "3.9.12"
  },
  "vscode": {
   "interpreter": {
    "hash": "c24ecc2928a1df641fb89905a028e959d05eac4f79c1af53f0bb766b01409011"
   }
  }
 },
 "nbformat": 4,
 "nbformat_minor": 4
}
