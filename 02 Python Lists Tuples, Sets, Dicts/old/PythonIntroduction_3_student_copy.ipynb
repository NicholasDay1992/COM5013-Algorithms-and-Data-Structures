{
 "cells": [
  {
   "attachments": {
    "pythonLogo.png": {
     "image/png": "[encoded data removed]"
    }
   },
   "cell_type": "markdown",
   "metadata": {
    "slideshow": {
     "slide_type": "slide"
    }
   },
   "source": [
    "![pythonLogo.png](attachment:pythonLogo.png)\n",
    "# Introduction to the Python language - Part 3 #  \n",
    "\n",
    "### R. Mather May, 2020 ###\n",
    "\n",
    "## This section is concerned with the manipulation of Sets and Dictionaries. It may contain interactive code with errors for you to repair. At the end there is also <font color=\"red\">a logbook exercise for you to complete</font> ##"
   ]
  },
  {
   "cell_type": "markdown",
   "metadata": {},
   "source": [
    "## Python Collections - Sets & Dictionaries ##\n",
    "\n",
    "- Python Compund types consist of Sequences (Lists, Tuples and Strings) and Collections (<font color=\"red\">Sets</font> and <font color=\"red\">Dictionaries</font>)\n",
    "- A <font color=\"red\">{set}</font> is a collection of unique, unordered and non-indexed items\n",
    "- Therefore we can use the <font color=\"red\">set()</font> function to remove duplicate items from lists … <font color=\"red\">set(list)</font>\n",
    "- To find the intersect of two sets … <font color=\"red\">set1 & set2</font>\n",
    "- To find items  unique to set 1 … <font color=\"red\">set1 - set2</font>\n",
    "- To find the union of both sets  … <font color=\"red\">set1 | set2</font>\n",
    "- Can also add and remove items with <font color=\"red\">set.add(\"key\")</font> and <font color=\"red\">set.remove(\"key\")</font>\n",
    "- A <font color=\"red\"> {dictionary} </font> is an associative array of key-value pairs\n",
    "- Keys and values are seperated by a colon and pairs are separated by commas, for example ...\n",
    "- <font color=\"red\">table={\"10A\":\"John Smith\",\"10B\":\"Jack Smith\",\"10C\":\"George Smith\"}</font>\n",
    "- To add an item to a dictionary ... <font color=\"red\">table[\"10D\"]=\"Gunnar Smith\"</font>\n",
    "- to delete and item ... <font color=\"red\">del table[\"10D\"]</font>\n",
    "- To output keys ... <font color=\"red\">table.keys()</font> \n",
    "- To output values … <font color=\"red\">table.values()</font>"
   ]
  },
  {
   "cell_type": "code",
   "execution_count": 1,
   "metadata": {
    "slideshow": {
     "slide_type": "slide"
    },
    "vscode": {
     "languageId": "python"
    }
   },
   "outputs": [
    {
     "name": "stdout",
     "output_type": "stream",
     "text": [
      "{'10C', '10B', '10D', '10A'}\n",
      "{'10C', '10B', '10D', '10A'}\n",
      "['10A', '10B', '10C', '10D', '10A', '10A', '10B', '10C', '10D', '10A', '10A', '10B', '10C', '10D', '10A']\n",
      "{'10C', '10B', '10D', '10A'}\n"
     ]
    }
   ],
   "source": [
    "# SETS ... collections of unique, unordered and non-indexed items\n",
    "# An example of a SET ... \n",
    "IDs = {\"10A\",\"10B\",\"10C\",\"10D\"}\n",
    "print(IDs)\n",
    "# Duplicate items are automatically removed from sets ... \n",
    "IDs = {\"10A\",\"10B\",\"10C\",\"10D\",\"10A\"}\n",
    "print(IDs)\n",
    "# Sets are great for removing duplicates from lists ... \"\n",
    "identities=[\"10A\",\"10B\",\"10C\",\"10D\",\"10A\",\"10A\",\"10B\",\"10C\",\"10D\",\"10A\",\"10A\",\"10B\",\"10C\",\"10D\",\"10A\"]\n",
    "print(identities)\n",
    "identities=set(identities)\n",
    "print(identities)"
   ]
  },
  {
   "cell_type": "code",
   "execution_count": 2,
   "metadata": {
    "slideshow": {
     "slide_type": "slide"
    },
    "vscode": {
     "languageId": "python"
    }
   },
   "outputs": [
    {
     "name": "stdout",
     "output_type": "stream",
     "text": [
      "To find the intersection of two sets do ... id1 & id2 ... which is ...  {'10C'}\n",
      "To find items that are unique to id1 (not in id2) do ... id1 - id2 ... which is ...  {'10A', '10B'}\n",
      "To find the union of both sets (in id2 & id2) do ... id1 | id2 ... which is ...  {'10D', '10E', '10B', '10C', '10A'}\n",
      "sets are mutable so can add ... id1.add('10X') ...  {'10X', '10C', '10B', '10A'}\n",
      "... and remove ... id1.remove('10X') ...  {'10C', '10B', '10A'}\n"
     ]
    }
   ],
   "source": [
    "# WORKING WITH SETS\n",
    "id1={\"10A\",\"10B\",\"10C\"}\n",
    "id2={\"10C\",\"10D\",\"10E\"}\n",
    "print(\"To find the intersection of two sets do ... id1 & id2 ... which is ... \", id1 & id2)\n",
    "print(\"To find items that are unique to id1 (not in id2) do ... id1 - id2 ... which is ... \", id1 - id2)\n",
    "print(\"To find the union of both sets (in id2 & id2) do ... id1 | id2 ... which is ... \", id1 | id2)\n",
    "id1.add('10X')\n",
    "print(\"sets are mutable so can add ... id1.add('10X') ... \", id1 )\n",
    "id1.remove('10X')\n",
    "print(\"... and remove ... id1.remove('10X') ... \", id1 )"
   ]
  },
  {
   "cell_type": "code",
   "execution_count": 3,
   "metadata": {
    "vscode": {
     "languageId": "python"
    }
   },
   "outputs": [
    {
     "name": "stdout",
     "output_type": "stream",
     "text": [
      "Use dir(set) for a full list of methods ...  ['__and__', '__class__', '__contains__', '__delattr__', '__dir__', '__doc__', '__eq__', '__format__', '__ge__', '__getattribute__', '__gt__', '__hash__', '__iand__', '__init__', '__init_subclass__', '__ior__', '__isub__', '__iter__', '__ixor__', '__le__', '__len__', '__lt__', '__ne__', '__new__', '__or__', '__rand__', '__reduce__', '__reduce_ex__', '__repr__', '__ror__', '__rsub__', '__rxor__', '__setattr__', '__sizeof__', '__str__', '__sub__', '__subclasshook__', '__xor__', 'add', 'clear', 'copy', 'difference', 'difference_update', 'discard', 'intersection', 'intersection_update', 'isdisjoint', 'issubset', 'issuperset', 'pop', 'remove', 'symmetric_difference', 'symmetric_difference_update', 'union', 'update']\n"
     ]
    }
   ],
   "source": [
    "# THE dir() FUNCTION - returns all properties and methods of an object - here demonstrated with a set\n",
    "print(\"Use dir(set) for a full list of methods ... \", dir(set))"
   ]
  },
  {
   "cell_type": "code",
   "execution_count": 4,
   "metadata": {
    "slideshow": {
     "slide_type": "slide"
    },
    "vscode": {
     "languageId": "python"
    }
   },
   "outputs": [
    {
     "name": "stdout",
     "output_type": "stream",
     "text": [
      "{'10A': 'John Smith', '10B': 'Jack Smith', '10C': 'George Smith'}\n",
      "The value corresponding to key 10B is ... Jack Smith\n",
      "To add another key-value pair ... table[\"10D\"]=\"Gunnar Smith\" \n",
      "{'10A': 'John Smith', '10B': 'Jack Smith', '10C': 'George Smith', '10D': 'Gunnar Smith'}\n",
      "To remove it ... del table[\"10D\"] \n",
      "{'10A': 'John Smith', '10B': 'Jack Smith', '10C': 'George Smith'}\n",
      "To output keys use ... table.keys() ... dict_keys(['10A', '10B', '10C'])\n",
      "To output values use ... table.values() ... dict_values(['John Smith', 'Jack Smith', 'George Smith'])\n"
     ]
    }
   ],
   "source": [
    "# WORKING WITH DICTIONARIES ... which are essentially associative array of KEYS-VALUE pairs\n",
    "table={\"10A\":\"John Smith\",\"10B\":\"Jack Smith\",\"10C\":\"George Smith\"}\n",
    "print(table)\n",
    "print(\"The value corresponding to key 10B is ...\", table[\"10B\"])\n",
    "print(\"To add another key-value pair ... table[\\\"10D\\\"]=\\\"Gunnar Smith\\\" \")\n",
    "table[\"10D\"]=\"Gunnar Smith\"\n",
    "print(table)\n",
    "print(\"To remove it ... del table[\\\"10D\\\"] \")\n",
    "del table[\"10D\"]\n",
    "print(table)\n",
    "\n",
    "# Dictionaries are very useful for lookup values ... e.g. a vocabulary program\n",
    "print(\"To output keys use ... table.keys() ...\", table.keys())\n",
    "print(\"To output values use ... table.values() ...\", table.values())"
   ]
  },
  {
   "cell_type": "code",
   "execution_count": 5,
   "metadata": {
    "slideshow": {
     "slide_type": "slide"
    },
    "vscode": {
     "languageId": "python"
    }
   },
   "outputs": [
    {
     "name": "stdout",
     "output_type": "stream",
     "text": [
      "Here are keys directly from the dictionary dict_keys(['Human Resources', 'Sales', 'R&D'])\n",
      "Here are values directly from the dictionary dict_values([3, 5, 4])\n",
      "Here are keys from the list ['Human Resources', 'Sales', 'R&D']\n",
      "Here are values from the list [3, 5, 4]\n"
     ]
    }
   ],
   "source": [
    "# WORKED EXAMPLE 1 - accessing keys & values and storing dictionary keys & values as lists\n",
    "departments={\"Human Resources\":3, \"Sales\":5, \"R&D\":4}\n",
    "print(\"Here are keys directly from the dictionary\", departments.keys())\n",
    "print(\"Here are values directly from the dictionary\", departments.values())\n",
    "# Creating and using separate lists of keys & values\n",
    "keys = list(departments.keys())\n",
    "values = list(departments.values())\n",
    "print(\"Here are keys from the list\", keys)\n",
    "print(\"Here are values from the list\", values)\n",
    "\n",
    "\n"
   ]
  },
  {
   "cell_type": "code",
   "execution_count": 6,
   "metadata": {
    "slideshow": {
     "slide_type": "slide"
    },
    "vscode": {
     "languageId": "python"
    }
   },
   "outputs": [
    {
     "name": "stdout",
     "output_type": "stream",
     "text": [
      "{3, 4, 5, 6, 7}\n",
      "Using count method to double-check only one occurrence of 5 ... no occurrences = 1\n"
     ]
    }
   ],
   "source": [
    "# WORKED EXAMPLE 2 - sets, lists and removing duplicate values\n",
    "# Create a set ... this should remove the duplicate 5 at the end of the collection\n",
    "s={3,4,5,6,7,5}\n",
    "print(s)\n",
    "l = list(s)\n",
    "print(\"Using count method to double-check only one occurrence of 5 ... no occurrences =\", l.count(5))"
   ]
  },
  {
   "cell_type": "code",
   "execution_count": 7,
   "metadata": {
    "slideshow": {
     "slide_type": "slide"
    },
    "vscode": {
     "languageId": "python"
    }
   },
   "outputs": [
    {
     "name": "stdout",
     "output_type": "stream",
     "text": [
      "[20, 25, 30]\n",
      "[20, 25, 30, 40]\n",
      "The sum of all li values is ... 115\n",
      "The sum of all di values is ... 115\n",
      "The sum of ... d[0]+d[3] ... is ...  40\n"
     ]
    }
   ],
   "source": [
    "# WORKED EXAMPLE 3 - working with dictionary values \n",
    "di={\"Mon\":20, \"Tue\":25, \"Thu\":30}\n",
    "# Store all the dictionary values in a list\n",
    "li=list(di.values())\n",
    "print(li)\n",
    "# Add another key \"Wed\" and assign value \"40\"\n",
    "di[\"Wed\"]=40\n",
    "# Update the list with the new value\n",
    "li=list(di.values())\n",
    "print(li)\n",
    "# Sum all values in both list and dictionary \n",
    "print(\"The sum of all li values is ...\", li[0]+li[1]+li[2]+li[3])\n",
    "print(\"The sum of all di values is ...\", di[\"Mon\"]+di[\"Tue\"]+di[\"Wed\"]+di[\"Thu\"])\n",
    "# Create another dictionary with numeric keys then add some values\n",
    "d={0:10,1:20,2:20,3:30}\n",
    "print(\"The sum of ... d[0]+d[3] ... is ... \", d[0]+d[3])"
   ]
  },
  {
   "cell_type": "markdown",
   "metadata": {},
   "source": [
    "## <font color=\"red\">Logbook Exercise 3</font> ##\n",
    "\n",
    "Create a 'code' cell below. In this do the following:\n",
    "- on the first line create the following set ... a=[0,1,2,3,4,5,6,7,8,9,10] \n",
    "- on the second line create the following set ... b=[0,5,10,15,20,25]\n",
    "- on the third line create the following dictionary ... topscores={\"Jo\":999, \"Sue\":987, \"Tara\":960; \"Mike\":870}\n",
    "- use a combination of print() and type() methods to produce the following output\n",
    "\n",
    "```\n",
    "list a is ...  [0, 1, 2, 3, 4, 5, 6, 7, 8, 9, 10]\n",
    "list b is ...  [0, 5, 10, 15, 20, 25]\n",
    "The type of a is now ... <class 'list'>\n",
    "```\n",
    "\n",
    "- on the next 2 lines convert list a and b to sets using set()\n",
    "- on the following lines use a combination of print(), type() and set notaion (e.g. 'a & b', 'a | b', 'b-a') to obtain the following output\n",
    "\n",
    "```\n",
    "set a is ...  {0, 1, 2, 3, 4, 5, 6, 7, 8, 9, 10}\n",
    "set b is ...  {0, 5, 10, 15, 20, 25}\n",
    "The type of a is now ... <class 'set'>\n",
    "Intersect of a and b is [0, 10, 5]\n",
    "Union of a and b is [0, 1, 2, 3, 4, 5, 6, 7, 8, 9, 10, 15, 20, 25]\n",
    "Items unique to set b are {25, 20, 15}\n",
    "```\n",
    "\n",
    "- on the next 2 lines use print(), '.keys()' and '.values()' methods to obtain the following output \n",
    "\n",
    "```\n",
    "topscores dictionary keys are dict_keys(['Jo', 'Sue', 'Tara', 'Mike'])\n",
    "topscores dictionary values are dict_values([999, 987, 960, 870])\n",
    "```"
   ]
  },
  {
   "cell_type": "markdown",
   "metadata": {
    "slideshow": {
     "slide_type": "slide"
    }
   },
   "source": [
    "# References & Learning Resources#\n",
    "\n",
    " - W3Schools - there are many online resources for Python but the Python tutorial at https://www.w3schools.com/python/ is thorough, progressive, interactive and free. If you complete the main tutorial (skip the bits on installing Python as we will be using Ancaconda/Jupyter) the later sections on **\"File Handling\"**, **\"NumPy\"** and **\"Machine Learning\"** are also relevant. The **\"Exercises\"** and **\"Quiz\"** sections are also worthwhile activities for consolidating knowledge.\n",
    " - **Phillips, D. (2015). Python 3 object-oriented programming. Packt Publishing Ltd.** Although a 3rd edition has been released the 2nd edition is still pretty much up-to-date  and seems to be widely available in PDF format. As an added bonus this covers Design Patterns in some detail.\n",
    " - **https://www.learnpython.org/** is another comprehensive and intercative resource\n",
    " - **https://docs.python.org/3.7/tutorial/** is Python's own text-based tutorial. Despite the seemingly daunting number of sub-sections, it can be consumed in a fairly short time and manages to be both concise and comprehensive.\n",
    " - **Think Python 2e** is an excellent in-depth and free version of the O'Reilly hardcopy by Allen B. Downey and is available here ... https://greenteapress.com/wp/think-python-2e/\n",
    " - I have also adapted examples from *Learn Python In A Day: The Ultimate Crash Course To Learning The Basics Of Python In No Time* by *Acodemy* but this is out of print and is only mentioned for completeness."
   ]
  }
 ],
 "metadata": {
  "celltoolbar": "Slideshow",
  "kernelspec": {
   "display_name": "Python 3 (ipykernel)",
   "language": "python",
   "name": "python3"
  }
 },
 "nbformat": 4,
 "nbformat_minor": 4
}
