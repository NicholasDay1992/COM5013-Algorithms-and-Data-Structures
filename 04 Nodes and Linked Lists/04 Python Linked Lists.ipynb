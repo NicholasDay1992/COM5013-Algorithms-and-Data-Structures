{
 "cells": [
  {
   "cell_type": "markdown",
   "metadata": {
    "slideshow": {
     "slide_type": "slide"
    }
   },
   "source": [
    "<!-- ![pythonLogo.png](https://www.python.org/static/community_logos/python-powered-w-200x80.png) -->\n",
    "# 04 Linked Lists "
   ]
  },
  {
   "cell_type": "markdown",
   "metadata": {},
   "source": [
    "## Plan for the Lecture \n",
    "\n",
    "* Referenced structures vs indexed structures\n",
    "\n",
    "* Singly Linked List \n",
    "\n",
    "* Doubly Linked List"
   ]
  },
  {
   "cell_type": "markdown",
   "metadata": {
    "slideshow": {
     "slide_type": "slide"
    }
   },
   "source": [
    "# Linked Lists #\n",
    "\n",
    "* A linked list exhibits different behaviour to the indexed python `list` we've seen before. \n",
    "\n",
    "* Python's `list`, the `numpy.array` (and others such as Java's ArrayList) store values at numbered positions (indexes). \n",
    "\n",
    "* But a linked list is a referenced (non-indexed structure). \n",
    "\n",
    "* We cannot directly access a value stored at position 7 in a linked list. Instead, we have to iterate through the nodes \n",
    "\n"
   ]
  },
  {
   "cell_type": "markdown",
   "metadata": {},
   "source": [
    "## Linking node objects together \n",
    "\n",
    "* The term node comes from networking: a node in a network.\n",
    "\n",
    "* Here, a node is a class that 'wraps' around values. Later this could be objects of an named entity (e.g. `Student` objects)\n",
    "\n",
    "* In a linked list, a node has to store the reference to the `next` node in the list.\n",
    "\n",
    "* We'll also utilise nodes in trees and graphs in later notebooks. \n"
   ]
  },
  {
   "cell_type": "markdown",
   "metadata": {},
   "source": [
    "## Illustration of a Linked List\n",
    "\n",
    "![LinkedLists.png](https://media.geeksforgeeks.org/wp-content/cdn-uploads/gq/2013/03/Linkedlist.png)"
   ]
  },
  {
   "cell_type": "markdown",
   "metadata": {},
   "source": [
    "## The `Node` class \n",
    "\n",
    "* We're going to apply OOP principles to write a `Node` class, and later the `LinkedList` class.\n",
    "\n",
    "* `self.value` is going to store the value representing the essential data. \n",
    "\n",
    "* `self.next` is going to store the memory address of the `next` node in the chain / list.  "
   ]
  },
  {
   "cell_type": "code",
   "execution_count": 1,
   "metadata": {},
   "outputs": [],
   "source": [
    "class Node:\n",
    "    def __init__(self, value, next_node=None):\n",
    "        self.value = value\n",
    "        self.next_node = next_node\n",
    "    \n",
    "    def get_value(self):\n",
    "        return self.value\n",
    "    \n",
    "    def get_next_node(self):\n",
    "        return self.next_node\n",
    "    \n",
    "    def set_next_node(self, next_node):\n",
    "        self.next_node = next_node"
   ]
  },
  {
   "cell_type": "code",
   "execution_count": 2,
   "metadata": {},
   "outputs": [
    {
     "name": "stdout",
     "output_type": "stream",
     "text": [
      "44\n"
     ]
    }
   ],
   "source": [
    "my_node = Node(44)\n",
    "print(my_node.get_value())"
   ]
  },
  {
   "cell_type": "code",
   "execution_count": 4,
   "metadata": {},
   "outputs": [
    {
     "name": "stdout",
     "output_type": "stream",
     "text": [
      "None\n"
     ]
    }
   ],
   "source": [
    "print(my_node.get_next_node())"
   ]
  },
  {
   "cell_type": "code",
   "execution_count": 5,
   "metadata": {},
   "outputs": [],
   "source": [
    "my_node.set_next_node(Node(50))\n",
    "\n",
    "# my_node.next_node = Node(50)"
   ]
  },
  {
   "cell_type": "code",
   "execution_count": 6,
   "metadata": {},
   "outputs": [
    {
     "data": {
      "text/plain": [
       "<__main__.Node at 0x1095e8dc0>"
      ]
     },
     "execution_count": 6,
     "metadata": {},
     "output_type": "execute_result"
    }
   ],
   "source": [
    "my_node.get_next_node()"
   ]
  },
  {
   "cell_type": "code",
   "execution_count": 7,
   "metadata": {},
   "outputs": [
    {
     "data": {
      "text/plain": [
       "50"
      ]
     },
     "execution_count": 7,
     "metadata": {},
     "output_type": "execute_result"
    }
   ],
   "source": [
    "my_node.get_next_node().get_value()"
   ]
  },
  {
   "cell_type": "code",
   "execution_count": 9,
   "metadata": {},
   "outputs": [
    {
     "name": "stdout",
     "output_type": "stream",
     "text": [
      "None\n"
     ]
    }
   ],
   "source": [
    "print(my_node.get_next_node().get_next_node())"
   ]
  },
  {
   "cell_type": "code",
   "execution_count": 8,
   "metadata": {},
   "outputs": [
    {
     "ename": "AttributeError",
     "evalue": "'NoneType' object has no attribute 'get_value'",
     "output_type": "error",
     "traceback": [
      "\u001b[0;31m---------------------------------------------------------------------------\u001b[0m",
      "\u001b[0;31mAttributeError\u001b[0m                            Traceback (most recent call last)",
      "Cell \u001b[0;32mIn [8], line 1\u001b[0m\n\u001b[0;32m----> 1\u001b[0m my_node\u001b[38;5;241m.\u001b[39mget_next_node()\u001b[38;5;241m.\u001b[39mget_next_node()\u001b[38;5;241m.\u001b[39mget_value()\n",
      "\u001b[0;31mAttributeError\u001b[0m: 'NoneType' object has no attribute 'get_value'"
     ]
    }
   ],
   "source": [
    "my_node.get_next_node().get_next_node().get_value()"
   ]
  },
  {
   "cell_type": "code",
   "execution_count": 11,
   "metadata": {},
   "outputs": [
    {
     "name": "stdout",
     "output_type": "stream",
     "text": [
      "A\n",
      "B\n",
      "C\n"
     ]
    }
   ],
   "source": [
    "node_a = Node(\"A\")\n",
    "node_b = Node(\"B\")\n",
    "node_c = Node(\"C\")\n",
    "\n",
    "node_a.set_next_node(node_b)\n",
    "node_b.set_next_node(node_c)\n",
    "\n",
    "node_a_data = node_a.get_value()\n",
    "node_b_data = node_a.get_next_node().get_value()\n",
    "node_c_data = node_b.get_next_node().get_value()\n",
    "\n",
    "print(node_a_data)\n",
    "print(node_b_data)\n",
    "print(node_c_data)"
   ]
  },
  {
   "cell_type": "code",
   "execution_count": 12,
   "metadata": {},
   "outputs": [
    {
     "name": "stdout",
     "output_type": "stream",
     "text": [
      "A -> B -> C\n"
     ]
    }
   ],
   "source": [
    "print(node_a_data, \"->\", node_b_data, \"->\", node_c_data)"
   ]
  },
  {
   "cell_type": "markdown",
   "metadata": {},
   "source": [
    "## (Singly) LinkedList Class - printing out the list\n",
    "\n",
    "* A singly linked list means that nodes only 'point' in one direction. Typically, one node points to the next node.\n",
    "\n",
    "* By contrast, a doubly linked list has a reference to the next node, and the previous node. \n",
    "\n",
    "* Below, we add several nodes to an instance of the LinkedList class. Pay attention to the order in which the nodes are added/inserted.\n",
    "\n",
    "![linkedtraversal](https://findtodaysnotes.wordpress.com/wp-content/uploads/2024/02/link14.gif?w=760)"
   ]
  },
  {
   "cell_type": "markdown",
   "metadata": {},
   "source": [
    "Let's build a loop that prints the list"
   ]
  },
  {
   "cell_type": "code",
   "execution_count": 13,
   "metadata": {},
   "outputs": [
    {
     "name": "stdout",
     "output_type": "stream",
     "text": [
      "A\n",
      "B\n",
      "C\n"
     ]
    }
   ],
   "source": [
    "head = node_a  # first\n",
    "current = head # current is going to change\n",
    "\n",
    "while current != None: \n",
    "    print(current.get_value())\n",
    "    current = current.next_node"
   ]
  },
  {
   "cell_type": "code",
   "execution_count": 15,
   "metadata": {},
   "outputs": [
    {
     "name": "stdout",
     "output_type": "stream",
     "text": [
      "A -> B -> C -> None\n"
     ]
    }
   ],
   "source": [
    "head = node_a  # first\n",
    "current = head # current is going to change\n",
    "\n",
    "while current != None: \n",
    "    print(current.get_value(), end = \" -> \")\n",
    "    current = current.next_node\n",
    "    \n",
    "print(None) ## finish with null pointer"
   ]
  },
  {
   "cell_type": "markdown",
   "metadata": {},
   "source": [
    "Great, now let's put this functionality in a `LinkedList` class that will manage the CRUD operations such as: \n",
    "\n",
    "* prepend (start-of-list)\n",
    "\n",
    "* append (end-of-list)\n",
    "\n",
    "* insert (mid-list)\n",
    "\n",
    "* find\n",
    "\n",
    "* print \n",
    "\n",
    "* remove (anywhere in the list)"
   ]
  },
  {
   "cell_type": "code",
   "execution_count": 16,
   "metadata": {},
   "outputs": [],
   "source": [
    "class Node:\n",
    "    def __init__(self, value, next_node=None):\n",
    "        self.value = value\n",
    "        self.next_node = next_node\n",
    "    \n",
    "    def get_value(self):\n",
    "        return self.value\n",
    "    \n",
    "    def get_next_node(self):\n",
    "        return self.next_node\n",
    "    \n",
    "    def set_next_node(self, next_node):\n",
    "        self.next_node = next_node"
   ]
  },
  {
   "cell_type": "code",
   "execution_count": 17,
   "metadata": {},
   "outputs": [],
   "source": [
    "class LinkedList:\n",
    "    def __init__(self, value=None):\n",
    "        self.head_node = Node(value)\n",
    "        \n",
    "    def get_head_node(self):\n",
    "        return self.head_node\n",
    "    \n",
    "    def prepend(self, new_value):\n",
    "        new_node = Node(new_value)\n",
    "        new_node.set_next_node(self.head_node)\n",
    "        self.head_node = new_node\n",
    "    \n",
    "    def stringify_list(self):\n",
    "        string_list = \"\"\n",
    "        current_node = self.get_head_node()\n",
    "        while current_node:    # == True\n",
    "            if current_node.get_value() != None:\n",
    "                string_list += str(current_node.get_value()) + \"\\n\"\n",
    "            current_node = current_node.get_next_node()\n",
    "        return string_list\n",
    "\n",
    "    def print(self):\n",
    "        \"\"\" Our linked print algorithm that we wrote above! \"\"\"\n",
    "        head = self.head_node  # first\n",
    "        current = head # current is going to change\n",
    "\n",
    "        while current != None: \n",
    "            print(current.get_value(), end = \" -> \")\n",
    "            current = current.next_node\n",
    "        \n",
    "        print(None) ## finish with null pointer"
   ]
  },
  {
   "cell_type": "code",
   "execution_count": 18,
   "metadata": {},
   "outputs": [
    {
     "name": "stdout",
     "output_type": "stream",
     "text": [
      "90\n",
      "5675\n",
      "70\n",
      "5\n",
      "\n"
     ]
    }
   ],
   "source": [
    "ll = LinkedList(5) # 5 would be the head node\n",
    "\n",
    "ll.prepend(70)\n",
    "ll.prepend(5675)\n",
    "ll.prepend(90)\n",
    "print(ll.stringify_list())"
   ]
  },
  {
   "cell_type": "code",
   "execution_count": 19,
   "metadata": {},
   "outputs": [
    {
     "name": "stdout",
     "output_type": "stream",
     "text": [
      "90 -> 5675 -> 70 -> 5 -> None\n"
     ]
    }
   ],
   "source": [
    "ll.print()"
   ]
  },
  {
   "cell_type": "markdown",
   "metadata": {},
   "source": [
    "Great!  \n",
    "So, we have prepend (add at the start)... what about append?  \n",
    "Could we leverage what the print logic to get to the end of the list? "
   ]
  },
  {
   "cell_type": "code",
   "execution_count": 20,
   "metadata": {},
   "outputs": [
    {
     "name": "stdout",
     "output_type": "stream",
     "text": [
      "A -> B -> C -> None\n"
     ]
    }
   ],
   "source": [
    "head = node_a  # first\n",
    "current = head # current is going to change\n",
    "\n",
    "while current != None: \n",
    "    print(current.get_value(), end = \" -> \")\n",
    "    current = current.next_node\n",
    "    \n",
    "print(None) ## finish with null pointer"
   ]
  },
  {
   "cell_type": "markdown",
   "metadata": {},
   "source": [
    "So, therefore we need to stop at C in this example (the penultimate - if you count None/Null), and set C's `next_node` to be the new_node to be appended. "
   ]
  },
  {
   "cell_type": "code",
   "execution_count": 21,
   "metadata": {},
   "outputs": [],
   "source": [
    "def append(new_node):\n",
    "    head = node_a # first\n",
    "    current = head # current is going to change\n",
    "\n",
    "    # we need to loop to the last node in the list (before None)\n",
    "    while current.next_node != None: \n",
    "        current = current.next_node\n",
    "    \n",
    "    print(current.get_value()) #for checking purposes - remove once checked\n",
    "    \n",
    "    current.set_next_node(new_node) # the append statement!"
   ]
  },
  {
   "cell_type": "code",
   "execution_count": 22,
   "metadata": {},
   "outputs": [
    {
     "name": "stdout",
     "output_type": "stream",
     "text": [
      "C\n"
     ]
    }
   ],
   "source": [
    "node_d = Node(\"D\")\n",
    "append(node_d)"
   ]
  },
  {
   "cell_type": "markdown",
   "metadata": {},
   "source": [
    "Great, we landed on C, so now we can set its (current's) `next_node` to be the new_node (D in this example)"
   ]
  },
  {
   "cell_type": "code",
   "execution_count": 23,
   "metadata": {},
   "outputs": [
    {
     "name": "stdout",
     "output_type": "stream",
     "text": [
      "A -> B -> C -> D -> None\n"
     ]
    }
   ],
   "source": [
    "head = node_a  # first\n",
    "current = head # current is going to change\n",
    "\n",
    "while current != None: \n",
    "    print(current.get_value(), end = \" -> \")\n",
    "    current = current.next_node\n",
    "    \n",
    "print(None) ## finish with null pointer"
   ]
  },
  {
   "cell_type": "markdown",
   "metadata": {},
   "source": [
    "Great, looks like our append algorithm worked!   \n",
    "\n",
    "We'll see later, that there is an easier way to do this (and more efficient for longer lists).   \n",
    "Like we had a pointer/reference for head, we'll create a pointer/reference for tail (the end of the list)!"
   ]
  },
  {
   "cell_type": "markdown",
   "metadata": {},
   "source": [
    "# Removing a node from a linked list\n",
    "\n",
    "Remember that a linked list is not an indexed structure. So we first have to iterate to find the item we want to remove. Iteration is linear time. But once we have located the node to be removed, we can change the 'pointer'. Rather than the pointing to the node to be removed, we can instead point to the next node after the one to be removed.\n",
    "\n",
    " x - > R -> y  \n",
    "   x ->       y\n",
    "\n",
    "With indexed structures, we could directly access a value within the structure (constant time access). BUT, we would then have to shift the remaining items, if we did not want empty locations within our list.\n",
    "\n",
    "![removal_mid_list](https://assets.digitalocean.com/articles/alligator/js/linked-lists-implementation/linked-list-remove.gif)"
   ]
  },
  {
   "cell_type": "code",
   "execution_count": 25,
   "metadata": {},
   "outputs": [],
   "source": [
    "class LinkedList:\n",
    "    def __init__(self, value=None):\n",
    "        self.head_node = Node(value)\n",
    "        \n",
    "    def get_head_node(self):\n",
    "        return self.head_node\n",
    "    \n",
    "    def prepend(self, new_value):\n",
    "        new_node = Node(new_value)\n",
    "        new_node.set_next_node(self.head_node)\n",
    "        self.head_node = new_node\n",
    "    \n",
    "    def append(self, new_value):\n",
    "        \"\"\" Our append algorithm that we wrote above! \"\"\"\n",
    "        new_node = Node(new_value)\n",
    "        \n",
    "        head = self.head_node # first\n",
    "        current = head # current is going to change\n",
    "\n",
    "        # we need to loop to the last node in the list (before None)\n",
    "        while current.next_node != None: \n",
    "            current = current.next_node\n",
    "    \n",
    "        # print(current.get_value()) #for checking purposes - remove once checked\n",
    "        current.set_next_node(new_node) # the append statement!\n",
    "    \n",
    "    def stringify_list(self):\n",
    "        string_list = \"\"\n",
    "        current_node = self.get_head_node()\n",
    "        while current_node:    # == True\n",
    "            if current_node.get_value() != None:\n",
    "                string_list += str(current_node.get_value()) + \"\\n\"\n",
    "            current_node = current_node.get_next_node()\n",
    "        return string_list\n",
    "\n",
    "    def print(self):\n",
    "        \"\"\" Our linked print algorithm that we wrote above! \"\"\"\n",
    "        head = self.head_node  # first\n",
    "        current = head # current is going to change\n",
    "\n",
    "        while current != None: \n",
    "            print(current.get_value(), end = \" -> \")\n",
    "            current = current.next_node\n",
    "        \n",
    "        print(None) ## finish with null pointer\n",
    "        \n",
    "# REMOVE ALGORITHM     \n",
    "    def remove_node(self, value_to_remove):\n",
    "        current_node = self.get_head_node()\n",
    "        if current_node.get_value() == value_to_remove:\n",
    "            self.head_node = current_node.get_next_node()\n",
    "        else:\n",
    "            while current_node:   # == True\n",
    "                next_node = current_node.get_next_node()\n",
    "                if next_node.get_value() == value_to_remove:\n",
    "                    current_node.set_next_node(next_node.get_next_node())\n",
    "                    current_node = None\n",
    "                else:\n",
    "                    current_node = next_node"
   ]
  },
  {
   "cell_type": "code",
   "execution_count": 26,
   "metadata": {},
   "outputs": [
    {
     "name": "stdout",
     "output_type": "stream",
     "text": [
      "90 -> 5675 -> 70 -> 5 -> None\n"
     ]
    }
   ],
   "source": [
    "ll = LinkedList(5)\n",
    "ll.prepend(70)\n",
    "ll.prepend(5675)\n",
    "ll.prepend(90)\n",
    "ll.print()\n"
   ]
  },
  {
   "cell_type": "code",
   "execution_count": 27,
   "metadata": {},
   "outputs": [
    {
     "name": "stdout",
     "output_type": "stream",
     "text": [
      "Now removing node 70 to check mid-list removal:\n",
      "90 -> 5675 -> 5 -> None\n"
     ]
    }
   ],
   "source": [
    "print(\"Now removing node 70 to check mid-list removal:\")\n",
    "ll.remove_node(70)\n",
    "ll.print()"
   ]
  },
  {
   "cell_type": "code",
   "execution_count": 28,
   "metadata": {},
   "outputs": [
    {
     "name": "stdout",
     "output_type": "stream",
     "text": [
      "90 -> 5675 -> 5 -> 100 -> None\n"
     ]
    }
   ],
   "source": [
    "ll.append(100)\n",
    "ll.print()"
   ]
  },
  {
   "cell_type": "code",
   "execution_count": 29,
   "metadata": {},
   "outputs": [
    {
     "name": "stdout",
     "output_type": "stream",
     "text": [
      "Now removing node 100 to check end-list removal:\n",
      "90 -> 5675 -> 5 -> None\n"
     ]
    }
   ],
   "source": [
    "print(\"Now removing node 100 to check end-list removal:\")\n",
    "ll.remove_node(100)\n",
    "ll.print()"
   ]
  },
  {
   "cell_type": "code",
   "execution_count": 30,
   "metadata": {},
   "outputs": [
    {
     "name": "stdout",
     "output_type": "stream",
     "text": [
      "Now removing node 100 to check start-list removal:\n",
      "5675 -> 5 -> None\n"
     ]
    }
   ],
   "source": [
    "print(\"Now removing node 100 to check start-list removal:\")\n",
    "ll.remove_node(90)\n",
    "ll.print()"
   ]
  },
  {
   "cell_type": "code",
   "execution_count": 31,
   "metadata": {},
   "outputs": [
    {
     "name": "stdout",
     "output_type": "stream",
     "text": [
      "Check prepend still works\n",
      "10 -> 5675 -> 5 -> None\n"
     ]
    }
   ],
   "source": [
    "print(\"Check prepend still works\")\n",
    "ll.prepend(10)\n",
    "ll.print()"
   ]
  },
  {
   "cell_type": "markdown",
   "metadata": {},
   "source": [
    "# Insert a node mid-list\n",
    "\n",
    "* First find the location to insert (the node BEFORE) - which will point to NEW\n",
    "\n",
    "* Second, make sure that the AFTER (which contains the rest of the list) will be pointed to by NEW's next.  BEFORE -> NEW -> AFTER \n",
    "\n",
    "* Then make the BEFORE -> next point to NEW  \n",
    "\n",
    "![insertmid](https://assets.digitalocean.com/articles/alligator/js/linked-lists-implementation/linked-list-insert.gif)"
   ]
  },
  {
   "cell_type": "markdown",
   "metadata": {},
   "source": [
    "Let's simulate this with our earlier example"
   ]
  },
  {
   "cell_type": "code",
   "execution_count": 32,
   "metadata": {},
   "outputs": [],
   "source": [
    "node_a = Node(\"A\")\n",
    "node_b = Node(\"B\")\n",
    "node_c = Node(\"C\")\n",
    "node_d = Node(\"D\")\n",
    "\n",
    "node_a.set_next_node(node_b)\n",
    "node_b.set_next_node(node_c)\n",
    "node_c.set_next_node(node_d)"
   ]
  },
  {
   "cell_type": "code",
   "execution_count": 33,
   "metadata": {},
   "outputs": [
    {
     "name": "stdout",
     "output_type": "stream",
     "text": [
      "A -> B -> C -> D -> None\n"
     ]
    }
   ],
   "source": [
    "head = node_a  # first\n",
    "current = head # current is going to change\n",
    "\n",
    "while current != None: \n",
    "    print(current.get_value(), end = \" -> \")\n",
    "    current = current.next_node\n",
    "    \n",
    "print(None) ## finish with null pointer"
   ]
  },
  {
   "cell_type": "markdown",
   "metadata": {},
   "source": [
    "Now, let's overwrite the `next` of B, so that it bypasses C and links to D.  \n",
    "Then we can write an algorithm to add C mid-list"
   ]
  },
  {
   "cell_type": "code",
   "execution_count": 34,
   "metadata": {},
   "outputs": [],
   "source": [
    "node_b.set_next_node(node_d)"
   ]
  },
  {
   "cell_type": "code",
   "execution_count": 35,
   "metadata": {},
   "outputs": [
    {
     "data": {
      "text/plain": [
       "'D'"
      ]
     },
     "execution_count": 35,
     "metadata": {},
     "output_type": "execute_result"
    }
   ],
   "source": [
    "node_b.get_next_node().get_value()"
   ]
  },
  {
   "cell_type": "markdown",
   "metadata": {},
   "source": [
    "Notice that the B.next = D, which means that we've routed past C"
   ]
  },
  {
   "cell_type": "code",
   "execution_count": 36,
   "metadata": {},
   "outputs": [
    {
     "name": "stdout",
     "output_type": "stream",
     "text": [
      "A -> B -> D -> None\n"
     ]
    }
   ],
   "source": [
    "head = node_a  # first\n",
    "current = head # current is going to change\n",
    "\n",
    "while current != None: \n",
    "    print(current.get_value(), end = \" -> \")\n",
    "    current = current.next_node\n",
    "    \n",
    "print(None) ## finish with null pointer"
   ]
  },
  {
   "cell_type": "markdown",
   "metadata": {},
   "source": [
    "In our case, to know where to insert C mid-list, we'll assume that our mid-list insert will follow alphabetical order.  \n",
    "Therefore, let's convert the letters to ascii (numbers) so we can easily evaluate where to insert mid-list. \n",
    "\n",
    "Below are two ways to do this - there are likely more. "
   ]
  },
  {
   "cell_type": "code",
   "execution_count": 37,
   "metadata": {},
   "outputs": [
    {
     "name": "stdout",
     "output_type": "stream",
     "text": [
      "[65]\n",
      "[66]\n"
     ]
    }
   ],
   "source": [
    "a = node_a.get_value()\n",
    "print(list(a.encode('ascii')))\n",
    "\n",
    "b = node_b.get_value()\n",
    "print(list(b.encode('ascii')))"
   ]
  },
  {
   "cell_type": "code",
   "execution_count": 38,
   "metadata": {},
   "outputs": [
    {
     "name": "stdout",
     "output_type": "stream",
     "text": [
      "65\n",
      "66\n"
     ]
    }
   ],
   "source": [
    "a = node_a.get_value()\n",
    "print(ord(a))\n",
    "\n",
    "b = node_b.get_value()\n",
    "print(ord(b))"
   ]
  },
  {
   "cell_type": "markdown",
   "metadata": {},
   "source": [
    "Now that we've got the numerical values for these characters, let's work towards a evaluation of alphabetical order:"
   ]
  },
  {
   "cell_type": "code",
   "execution_count": 39,
   "metadata": {},
   "outputs": [
    {
     "name": "stdout",
     "output_type": "stream",
     "text": [
      "True\n"
     ]
    }
   ],
   "source": [
    "if ord(b) == ord(a) + 1: \n",
    "    print(True)\n",
    "else:\n",
    "    print(False)"
   ]
  },
  {
   "cell_type": "code",
   "execution_count": 40,
   "metadata": {},
   "outputs": [
    {
     "name": "stdout",
     "output_type": "stream",
     "text": [
      "False\n"
     ]
    }
   ],
   "source": [
    "if ord(node_d.get_value()) == ord(node_b.get_value()) + 1: \n",
    "    print(True)\n",
    "else:\n",
    "    print(False)"
   ]
  },
  {
   "cell_type": "code",
   "execution_count": 42,
   "metadata": {},
   "outputs": [
    {
     "name": "stdout",
     "output_type": "stream",
     "text": [
      "A -> B -> C -> D -> None\n"
     ]
    }
   ],
   "source": [
    "new_node = node_c # Node(\"C\")\n",
    "\n",
    "head = node_a  # first\n",
    "current = head # current is going to change\n",
    "\n",
    "while current != None: \n",
    "    print(current.get_value(), end = \" -> \")\n",
    "    \n",
    "    # check to see if in alphabetical order\n",
    "    if current.get_next_node() != None: # to prevent NoneType error\n",
    "        if ord(current.next_node.get_value()) != ord(current.get_value()) + 1: \n",
    "            current.set_next_node(new_node)\n",
    "        \n",
    "    #current.set_next_node(new_node)  \n",
    "    current = current.next_node\n",
    "    \n",
    "print(None) ## finish with null pointer"
   ]
  },
  {
   "cell_type": "code",
   "execution_count": 43,
   "metadata": {},
   "outputs": [
    {
     "name": "stdout",
     "output_type": "stream",
     "text": [
      "A -> B -> C -> D -> None\n"
     ]
    }
   ],
   "source": [
    "head = node_a  # first\n",
    "current = head # current is going to change\n",
    "\n",
    "while current != None: \n",
    "    print(current.get_value(), end = \" -> \")\n",
    "    current = current.next_node\n",
    "    \n",
    "print(None) ## finish with null pointer"
   ]
  },
  {
   "cell_type": "markdown",
   "metadata": {},
   "source": [
    "* Looks good! Perhaps try this for another example to see if this continues to work for all cases? \n",
    "\n",
    "* You may be asked to implement this mid-list insert functionality as one of your exercises! \n",
    "\n",
    "* Consider the criteria for inserting - whether this is in sorted numerical order, alphabetical order, or some other criteria.\n",
    "\n",
    "* Is it possible to implement a mid-list function which covers all/most types of data?"
   ]
  },
  {
   "cell_type": "markdown",
   "metadata": {},
   "source": [
    "# Doubly Linked List\n",
    "\n",
    "* A doubly linked list has a reference for the `next_node` in the list, as well as the `previous` node. \n",
    "\n",
    "* You can easily `append` by maintaining a `tail` pointer as well as `prepend` with `head` pointer to the start of the list.\n",
    "\n",
    "* To implement this additional sequencing, we need to make the following amendments to our functions."
   ]
  },
  {
   "cell_type": "markdown",
   "metadata": {},
   "source": [
    "![doubly_linked](https://miro.medium.com/v2/resize:fit:615/1*5wRMqVjLatOGX88VrZgacA.jpeg)"
   ]
  },
  {
   "cell_type": "markdown",
   "metadata": {},
   "source": [
    "## We need to update the `Node` class to manage `prev_node`"
   ]
  },
  {
   "cell_type": "code",
   "execution_count": 44,
   "metadata": {},
   "outputs": [],
   "source": [
    "class Node:\n",
    "    def __init__(self, value, next_node=None, prev_node=None):\n",
    "        self.value = value\n",
    "        self.next_node = next_node\n",
    "        self.prev_node = prev_node\n",
    "    \n",
    "    def get_value(self):\n",
    "        return self.value\n",
    "    \n",
    "    def get_next_node(self):\n",
    "        return self.next_node\n",
    "    \n",
    "    def set_next_node(self, next_node):\n",
    "        self.next_node = next_node\n",
    "    \n",
    "    def set_prev_node(self, prev_node):\n",
    "        self.prev_node = prev_node\n",
    "    \n",
    "    def get_prev_node(self):\n",
    "        return self.prev_node"
   ]
  },
  {
   "cell_type": "markdown",
   "metadata": {},
   "source": [
    "# The `append()` method (DoublyLinkedList)\n",
    "\n",
    "* A Python `DoublyLinkedList` class can implement `append()` for adding new data to the tail of the list. \n",
    "\n",
    "* The `append()` method takes a single `new_value` argument. It uses `new_value` to create a new Node object which it adds to the tail of the list (`tail_node`)."
   ]
  },
  {
   "cell_type": "code",
   "execution_count": 45,
   "metadata": {},
   "outputs": [],
   "source": [
    "def append(self, new_value):\n",
    "    new_tail = Node(new_value)\n",
    "    current_tail = self.tail_node\n",
    "    \n",
    "    if current_tail.next_node == None:\n",
    "        self.tail_node.next_node = new_tail\n",
    "        new_tail.prev_node = current_tail\n",
    "    \n",
    "    if self.head_node.next_node == None: #update head_node's next \n",
    "        self.head_node.next_node = new_tail\n",
    "    \n",
    "    self.tail_node = new_tail\n",
    "    \n",
    "    if self.head_node == None: \n",
    "        self.head_node == new_tail"
   ]
  },
  {
   "cell_type": "code",
   "execution_count": 46,
   "metadata": {},
   "outputs": [],
   "source": [
    "class DoublyLinkedList: \n",
    "    def __init__(self, value=None):\n",
    "        self.head_node = Node(value)\n",
    "        self.tail_node = Node(value) # the first node will be both head and tail\n",
    "    \n",
    "    def append(self, new_value):\n",
    "        new_tail = Node(new_value)\n",
    "        current_tail = self.tail_node\n",
    "        \n",
    "        if current_tail.next_node == None:\n",
    "            self.tail_node.next_node = new_tail\n",
    "            new_tail.prev_node = current_tail\n",
    "        \n",
    "        if self.head_node.next_node == None: #update head_node's next \n",
    "            self.head_node.next_node = new_tail\n",
    "        \n",
    "        self.tail_node = new_tail\n",
    "        \n",
    "        if self.head_node == None: \n",
    "            self.head_node == new_tail"
   ]
  },
  {
   "cell_type": "markdown",
   "metadata": {},
   "source": [
    "# The `prepend()` method (DoublyLinkedList)\n",
    "\n",
    "* A Python `DoublyLinkedList` class can implement `prepend()` for adding new data to the head of the list. \n",
    "\n",
    "* The `append()` method takes a single `new_value` argument. It uses `new_value` to create a new Node object which it adds to the head of the list (`head_node`)."
   ]
  },
  {
   "cell_type": "code",
   "execution_count": 47,
   "metadata": {},
   "outputs": [],
   "source": [
    "def prepend(self, new_value):\n",
    "    new_head = Node(new_value)\n",
    "    current_head = self.head_node\n",
    "\n",
    "    if current_head.prev_node == None:\n",
    "        self.head_node.prev_node = new_head\n",
    "        new_head.next_node = current_head\n",
    "    \n",
    "    if self.tail_node.prev_node == None: #update tail_node's prev only on init\n",
    "        self.tail_node.prev_node = new_head\n",
    "    \n",
    "    self.head_node = new_head\n",
    "\n",
    "    if self.tail_node == None:\n",
    "        self.tail_node = new_head"
   ]
  },
  {
   "cell_type": "code",
   "execution_count": 54,
   "metadata": {},
   "outputs": [],
   "source": [
    "class DoublyLinkedList: \n",
    "    def __init__(self, value=None):\n",
    "        self.head_node = Node(value)\n",
    "        self.tail_node = Node(value) #Node(value) # the first node will be both head and tail\n",
    "    \n",
    "    def append(self, new_value):\n",
    "        new_tail = Node(new_value)\n",
    "        current_tail = self.tail_node\n",
    "        \n",
    "        if current_tail.next_node == None:\n",
    "            self.tail_node.next_node = new_tail\n",
    "            new_tail.prev_node = current_tail\n",
    "        \n",
    "        if self.head_node.next_node == None: #update head_node's next \n",
    "            self.head_node.next_node = new_tail\n",
    "        \n",
    "        self.tail_node = new_tail\n",
    "        \n",
    "        if self.head_node == None: \n",
    "            self.head_node == new_tail\n",
    "    \n",
    "    def prepend(self, new_value):\n",
    "        new_head = Node(new_value)\n",
    "        current_head = self.head_node\n",
    "\n",
    "        if current_head.prev_node == None:\n",
    "            self.head_node.prev_node = new_head\n",
    "            new_head.next_node = current_head\n",
    "        \n",
    "        if self.tail_node.prev_node == None: #update tail_node's prev only on init\n",
    "            self.tail_node.prev_node = new_head\n",
    "\n",
    "        self.head_node = new_head\n",
    "\n",
    "        if self.tail_node == None:\n",
    "            self.tail_node = new_head"
   ]
  },
  {
   "cell_type": "code",
   "execution_count": 55,
   "metadata": {},
   "outputs": [
    {
     "data": {
      "text/plain": [
       "5"
      ]
     },
     "execution_count": 55,
     "metadata": {},
     "output_type": "execute_result"
    }
   ],
   "source": [
    "dll = DoublyLinkedList(5)\n",
    "\n",
    "dll.head_node.get_value()"
   ]
  },
  {
   "cell_type": "code",
   "execution_count": 56,
   "metadata": {},
   "outputs": [
    {
     "data": {
      "text/plain": [
       "5"
      ]
     },
     "execution_count": 56,
     "metadata": {},
     "output_type": "execute_result"
    }
   ],
   "source": [
    "dll.tail_node.get_value()"
   ]
  },
  {
   "cell_type": "code",
   "execution_count": 57,
   "metadata": {},
   "outputs": [],
   "source": [
    "dll.append(10)"
   ]
  },
  {
   "cell_type": "code",
   "execution_count": 58,
   "metadata": {},
   "outputs": [
    {
     "data": {
      "text/plain": [
       "5"
      ]
     },
     "execution_count": 58,
     "metadata": {},
     "output_type": "execute_result"
    }
   ],
   "source": [
    "dll.head_node.get_value()"
   ]
  },
  {
   "cell_type": "code",
   "execution_count": 59,
   "metadata": {},
   "outputs": [
    {
     "data": {
      "text/plain": [
       "10"
      ]
     },
     "execution_count": 59,
     "metadata": {},
     "output_type": "execute_result"
    }
   ],
   "source": [
    "dll.tail_node.get_value()"
   ]
  },
  {
   "cell_type": "code",
   "execution_count": 60,
   "metadata": {},
   "outputs": [],
   "source": [
    "dll.prepend(0)"
   ]
  },
  {
   "cell_type": "code",
   "execution_count": 61,
   "metadata": {},
   "outputs": [
    {
     "name": "stdout",
     "output_type": "stream",
     "text": [
      "0\n",
      "5\n",
      "10\n"
     ]
    }
   ],
   "source": [
    "print(dll.head_node.get_value())\n",
    "print(dll.head_node.next_node.get_value())\n",
    "print(dll.tail_node.get_value())"
   ]
  },
  {
   "cell_type": "markdown",
   "metadata": {},
   "source": [
    "Let's add our `print()` method from our (singly) `LinkedList` class to our new `DoublyLinkedLlist` class "
   ]
  },
  {
   "cell_type": "code",
   "execution_count": 62,
   "metadata": {},
   "outputs": [],
   "source": [
    "class DoublyLinkedList: \n",
    "    def __init__(self, value=None):\n",
    "        self.head_node = Node(value)\n",
    "        self.tail_node = Node(value) #Node(value) # the first node will be both head and tail\n",
    "    \n",
    "    def append(self, new_value):\n",
    "        new_tail = Node(new_value)\n",
    "        current_tail = self.tail_node\n",
    "        \n",
    "        if current_tail.next_node == None:\n",
    "            self.tail_node.next_node = new_tail\n",
    "            new_tail.prev_node = current_tail\n",
    "        \n",
    "        if self.head_node.next_node == None: #update head_node's next only on init\n",
    "            self.head_node.next_node = new_tail\n",
    "        \n",
    "        self.tail_node = new_tail\n",
    "        \n",
    "        if self.head_node == None: \n",
    "            self.head_node == new_tail\n",
    "    \n",
    "    def prepend(self, new_value):\n",
    "        new_head = Node(new_value)\n",
    "        current_head = self.head_node\n",
    "\n",
    "        if current_head.prev_node == None:\n",
    "            self.head_node.prev_node = new_head\n",
    "            new_head.next_node = current_head\n",
    "        \n",
    "        if self.tail_node.prev_node == None: #update tail_node's prev only on init\n",
    "            self.tail_node.prev_node = new_head\n",
    "        \n",
    "        self.head_node = new_head\n",
    "\n",
    "        if self.tail_node == None:\n",
    "            self.tail_node = new_head\n",
    "            \n",
    "    def print(self):\n",
    "        \"\"\" Our linked print algorithm that we wrote above! \"\"\"\n",
    "        head = self.head_node  # first\n",
    "        current = head # current is going to change\n",
    "\n",
    "        while current != None: \n",
    "            print(current.get_value(), end = \" -> \")\n",
    "            current = current.next_node\n",
    "        \n",
    "        print(None) ## finish with null pointer"
   ]
  },
  {
   "cell_type": "code",
   "execution_count": 63,
   "metadata": {},
   "outputs": [],
   "source": [
    "dll = DoublyLinkedList(0)\n",
    "dll.append(5)\n",
    "dll.append(10)"
   ]
  },
  {
   "cell_type": "code",
   "execution_count": 64,
   "metadata": {},
   "outputs": [
    {
     "data": {
      "text/plain": [
       "0"
      ]
     },
     "execution_count": 64,
     "metadata": {},
     "output_type": "execute_result"
    }
   ],
   "source": [
    "dll.head_node.get_value()"
   ]
  },
  {
   "cell_type": "code",
   "execution_count": 65,
   "metadata": {},
   "outputs": [
    {
     "name": "stdout",
     "output_type": "stream",
     "text": [
      "5\n"
     ]
    }
   ],
   "source": [
    "b = dll.head_node.get_next_node().get_value()\n",
    "print(b)"
   ]
  },
  {
   "cell_type": "code",
   "execution_count": 66,
   "metadata": {},
   "outputs": [
    {
     "data": {
      "text/plain": [
       "10"
      ]
     },
     "execution_count": 66,
     "metadata": {},
     "output_type": "execute_result"
    }
   ],
   "source": [
    "dll.tail_node.get_value()"
   ]
  },
  {
   "cell_type": "code",
   "execution_count": 67,
   "metadata": {},
   "outputs": [
    {
     "name": "stdout",
     "output_type": "stream",
     "text": [
      "0 -> 5 -> 10 -> None\n"
     ]
    }
   ],
   "source": [
    "dll.print()"
   ]
  },
  {
   "cell_type": "markdown",
   "metadata": {},
   "source": [
    "Question: do we need to update something here though? \n",
    "  \n",
    "Exercise: can you write a reverse print function, which prints from the tail back to the head? "
   ]
  },
  {
   "cell_type": "markdown",
   "metadata": {},
   "source": [
    "# The `remove_tail()` method (DoublyLinkedList)\n",
    "\n",
    "* A Python `DoublyLinkedList` class can implement a `remove_tail()` method for removing the tail of the list. \n",
    "\n",
    "* The `remove_tail()` method takes no arguments. It removes and returns the tail of the list, and sets the tail’s `prev_node` as the new tail."
   ]
  },
  {
   "cell_type": "code",
   "execution_count": 70,
   "metadata": {},
   "outputs": [],
   "source": [
    "def remove_tail(self):\n",
    "    removed_tail = self.tail_node\n",
    "    \n",
    "    if removed_tail == None: \n",
    "        return None\n",
    "    \n",
    "    self.tail_node = removed_tail.get_prev_node()\n",
    "    \n",
    "    if self.tail_node != None: \n",
    "        self.tail_node.set_next_node(None)\n",
    "    \n",
    "    if removed_tail == self.head_node:\n",
    "        self.remove_head()\n",
    "        \n",
    "    return removed_tail.get_value()"
   ]
  },
  {
   "cell_type": "code",
   "execution_count": 71,
   "metadata": {},
   "outputs": [],
   "source": [
    "class DoublyLinkedList: \n",
    "    def __init__(self, value=None):\n",
    "        self.head_node = Node(value)\n",
    "        self.tail_node = Node(value) #Node(value) # the first node will be both head and tail\n",
    "    \n",
    "    def append(self, new_value):\n",
    "        new_tail = Node(new_value)\n",
    "        current_tail = self.tail_node\n",
    "        \n",
    "        if current_tail.next_node == None:\n",
    "            self.tail_node.next_node = new_tail\n",
    "            new_tail.prev_node = current_tail\n",
    "        \n",
    "        if self.head_node.next_node == None: #update head_node's next only on init\n",
    "            self.head_node.next_node = new_tail\n",
    "        \n",
    "        self.tail_node = new_tail\n",
    "        \n",
    "        if self.head_node == None: \n",
    "            self.head_node == new_tail\n",
    "    \n",
    "    def prepend(self, new_value):\n",
    "        new_head = Node(new_value)\n",
    "        current_head = self.head_node\n",
    "\n",
    "        if current_head.prev_node == None:\n",
    "            self.head_node.prev_node = new_head\n",
    "            new_head.next_node = current_head\n",
    "        \n",
    "        if self.tail_node.prev_node == None: #update tail_node's prev only on init\n",
    "            self.tail_node.prev_node = new_head\n",
    "        \n",
    "        self.head_node = new_head\n",
    "\n",
    "        if self.tail_node == None:\n",
    "            self.tail_node = new_head\n",
    "            \n",
    "    def print(self):\n",
    "        \"\"\" Our linked print algorithm that we wrote above! \"\"\"\n",
    "        head = self.head_node  # first\n",
    "        current = head # current is going to change\n",
    "\n",
    "        while current != None: \n",
    "            print(current.get_value(), end = \" -> \")\n",
    "            current = current.next_node\n",
    "        \n",
    "        print(None) ## finish with null pointer\n",
    "    \n",
    "    def remove_tail(self):\n",
    "        removed_tail = self.tail_node\n",
    "        \n",
    "        if removed_tail == None: \n",
    "            return None\n",
    "        \n",
    "        self.tail_node = removed_tail.get_prev_node()\n",
    "        \n",
    "        if self.tail_node != None: \n",
    "            self.tail_node.set_next_node(None)\n",
    "        \n",
    "        if removed_tail == self.head_node:\n",
    "            self.remove_head()\n",
    "            \n",
    "        return removed_tail.get_value()"
   ]
  },
  {
   "cell_type": "code",
   "execution_count": 72,
   "metadata": {},
   "outputs": [],
   "source": [
    "dll = DoublyLinkedList(0)\n",
    "dll.append(5)\n",
    "dll.append(10)"
   ]
  },
  {
   "cell_type": "code",
   "execution_count": 73,
   "metadata": {},
   "outputs": [
    {
     "data": {
      "text/plain": [
       "10"
      ]
     },
     "execution_count": 73,
     "metadata": {},
     "output_type": "execute_result"
    }
   ],
   "source": [
    "dll.tail_node.get_value()"
   ]
  },
  {
   "cell_type": "code",
   "execution_count": null,
   "metadata": {},
   "outputs": [],
   "source": [
    "dll.print()"
   ]
  },
  {
   "cell_type": "code",
   "execution_count": 74,
   "metadata": {},
   "outputs": [
    {
     "data": {
      "text/plain": [
       "10"
      ]
     },
     "execution_count": 74,
     "metadata": {},
     "output_type": "execute_result"
    }
   ],
   "source": [
    "dll.remove_tail()"
   ]
  },
  {
   "cell_type": "code",
   "execution_count": 75,
   "metadata": {},
   "outputs": [
    {
     "name": "stdout",
     "output_type": "stream",
     "text": [
      "0 -> 5 -> None\n"
     ]
    }
   ],
   "source": [
    "dll.print()"
   ]
  },
  {
   "cell_type": "markdown",
   "metadata": {},
   "source": [
    "# The `remove_head()` method (DoublyLinkedList)\n",
    "\n",
    "* A Python `DoublyLinkedList` class can implement a `remove_head()` method for removing the head of the list.\n",
    "\n",
    "* The `remove_head()` takes no arguments. It removes and returns the head of the list, and sets the head’s `next_node` as the new head."
   ]
  },
  {
   "cell_type": "code",
   "execution_count": 76,
   "metadata": {},
   "outputs": [],
   "source": [
    "def remove_head(self):\n",
    "    removed_head = self.head_node\n",
    "    \n",
    "    if removed_head == None:\n",
    "        return None\n",
    "    \n",
    "    self.head_node = removed_head.get_next_node()\n",
    "    \n",
    "    if self.head_node != None: \n",
    "        self.head_node.set_prev_node(None)\n",
    "    \n",
    "    if removed_head == self.tail_node:\n",
    "        self.remove_tail()\n",
    "        \n",
    "    return removed_head.get_value()"
   ]
  },
  {
   "cell_type": "code",
   "execution_count": 77,
   "metadata": {},
   "outputs": [],
   "source": [
    "class DoublyLinkedList: \n",
    "    def __init__(self, value=None):\n",
    "        self.head_node = Node(value)\n",
    "        self.tail_node = Node(value) #Node(value) # the first node will be both head and tail\n",
    "    \n",
    "    def append(self, new_value):\n",
    "        new_tail = Node(new_value)\n",
    "        current_tail = self.tail_node\n",
    "        \n",
    "        if current_tail.next_node == None:\n",
    "            self.tail_node.next_node = new_tail\n",
    "            new_tail.prev_node = current_tail\n",
    "        \n",
    "        if self.head_node.next_node == None: #update head_node's next only on init\n",
    "            self.head_node.next_node = new_tail\n",
    "        \n",
    "        self.tail_node = new_tail\n",
    "        \n",
    "        if self.head_node == None: \n",
    "            self.head_node == new_tail\n",
    "    \n",
    "    def prepend(self, new_value):\n",
    "        new_head = Node(new_value)\n",
    "        current_head = self.head_node\n",
    "\n",
    "        if current_head.prev_node == None:\n",
    "            self.head_node.prev_node = new_head\n",
    "            new_head.next_node = current_head\n",
    "        \n",
    "        if self.tail_node.prev_node == None: #update tail_node's prev only on init\n",
    "            self.tail_node.prev_node = new_head\n",
    "        \n",
    "        self.head_node = new_head\n",
    "\n",
    "        if self.tail_node == None:\n",
    "            self.tail_node = new_head\n",
    "            \n",
    "    def print(self):\n",
    "        \"\"\" Our linked print algorithm that we wrote above! \"\"\"\n",
    "        head = self.head_node  # first\n",
    "        current = head # current is going to change\n",
    "\n",
    "        while current != None: \n",
    "            print(current.get_value(), end = \" -> \")\n",
    "            current = current.next_node\n",
    "        \n",
    "        print(None) ## finish with null pointer\n",
    "    \n",
    "    def remove_tail(self):\n",
    "        removed_tail = self.tail_node\n",
    "        \n",
    "        if removed_tail == None: \n",
    "            return None\n",
    "        \n",
    "        self.tail_node = removed_tail.get_prev_node()\n",
    "        \n",
    "        if self.tail_node != None: \n",
    "            self.tail_node.set_next_node(None)\n",
    "        \n",
    "        if removed_tail == self.head_node:\n",
    "            self.remove_head()\n",
    "            \n",
    "        return removed_tail.get_value()\n",
    "    \n",
    "    def remove_head(self):\n",
    "        removed_head = self.head_node\n",
    "        \n",
    "        if removed_head == None:\n",
    "            return None\n",
    "        \n",
    "        self.head_node = removed_head.get_next_node()\n",
    "        \n",
    "        if self.head_node != None: \n",
    "            self.head_node.set_prev_node(None)\n",
    "        \n",
    "        if removed_head == self.tail_node:\n",
    "            self.remove_tail()\n",
    "            \n",
    "        return removed_head.get_value()"
   ]
  },
  {
   "cell_type": "code",
   "execution_count": 78,
   "metadata": {},
   "outputs": [],
   "source": [
    "dll = DoublyLinkedList(0)\n",
    "dll.append(5)\n",
    "dll.append(10)"
   ]
  },
  {
   "cell_type": "code",
   "execution_count": 79,
   "metadata": {},
   "outputs": [
    {
     "name": "stdout",
     "output_type": "stream",
     "text": [
      "0 -> 5 -> 10 -> None\n"
     ]
    }
   ],
   "source": [
    "dll.print()"
   ]
  },
  {
   "cell_type": "code",
   "execution_count": 80,
   "metadata": {},
   "outputs": [
    {
     "data": {
      "text/plain": [
       "0"
      ]
     },
     "execution_count": 80,
     "metadata": {},
     "output_type": "execute_result"
    }
   ],
   "source": [
    "dll.remove_head()"
   ]
  },
  {
   "cell_type": "code",
   "execution_count": 81,
   "metadata": {},
   "outputs": [
    {
     "name": "stdout",
     "output_type": "stream",
     "text": [
      "5 -> 10 -> None\n"
     ]
    }
   ],
   "source": [
    "dll.print()"
   ]
  },
  {
   "cell_type": "markdown",
   "metadata": {},
   "source": [
    "# The `remove_by_value()` method (DoublyLinkedList)\n",
    "\n",
    "* A Python `DoublyLinkedList` class can implement a `remove_by_value()` method that takes `value_to_remove` as an argument and returns the node that matches `value_to_remove`, or `None` if no match exists. \n",
    "\n",
    "* If the node exists, `remove_by_value()` removes it from the list and correctly resets the pointers of its surrounding nodes."
   ]
  },
  {
   "cell_type": "markdown",
   "metadata": {},
   "source": [
    "![doubly_removal](https://media.geeksforgeeks.org/wp-content/uploads/20200318150826/ezgif.com-gif-maker1.gif)"
   ]
  },
  {
   "cell_type": "code",
   "execution_count": 83,
   "metadata": {},
   "outputs": [],
   "source": [
    "def remove_by_value(self, value_to_remove):\n",
    "    node_to_remove = None\n",
    "    current_node = self.head_node\n",
    "    \n",
    "    while current_node != None: \n",
    "        if current_node.get_value() == value_to_remove:\n",
    "            node_to_remove = current_node\n",
    "            break\n",
    "        \n",
    "        current_node =current_node.get_next_node()\n",
    "        \n",
    "    if node_to_remove == None:\n",
    "        return None\n",
    "    \n",
    "    if node_to_remove == self.head_node:\n",
    "        self.remove_head()\n",
    "    elif node_to_remove == self.tail_node:\n",
    "        self.remove_tail()\n",
    "    else:\n",
    "            next_node = node_to_remove.next_node\n",
    "            print(next_node.get_value())\n",
    "            #next_node = node_to_remove.get_next_node()\n",
    "            #prev_node = node_to_remove.get_prev_node()\n",
    "            prev_node = node_to_remove.prev_node\n",
    "            print(prev_node.get_value())\n",
    "            \n",
    "            self.tail_node.set_prev_node(prev_node) # so this works for named references, but what about mid list? \n",
    "            #next_node.prev_node = prev_node\n",
    "            #prev_node.next_node = next_node\n",
    "            self.head_node.set_next_node(next_node) # so this works for named references, but what about mid list? \n",
    "            \n",
    "    return node_to_remove    "
   ]
  },
  {
   "cell_type": "code",
   "execution_count": 84,
   "metadata": {},
   "outputs": [],
   "source": [
    "class DoublyLinkedList: \n",
    "    def __init__(self, value=None):\n",
    "        self.head_node = Node(value)\n",
    "        self.tail_node = Node(value) #Node(value) # the first node will be both head and tail\n",
    "    \n",
    "    def append(self, new_value):\n",
    "        new_tail = Node(new_value)\n",
    "        current_tail = self.tail_node\n",
    "        \n",
    "        if current_tail.next_node == None:\n",
    "            self.tail_node.next_node = new_tail\n",
    "            new_tail.prev_node = current_tail\n",
    "        \n",
    "        if self.head_node.next_node == None: #update head_node's next only on init\n",
    "            self.head_node.next_node = new_tail\n",
    "        \n",
    "        self.tail_node = new_tail\n",
    "        \n",
    "        if self.head_node == None: \n",
    "            self.head_node == new_tail\n",
    "    \n",
    "    def prepend(self, new_value):\n",
    "        new_head = Node(new_value)\n",
    "        current_head = self.head_node\n",
    "\n",
    "        if current_head.prev_node == None:\n",
    "            self.head_node.prev_node = new_head\n",
    "            new_head.next_node = current_head\n",
    "        \n",
    "        if self.tail_node.prev_node == None: #update tail_node's prev only on init\n",
    "            self.tail_node.prev_node = new_head\n",
    "        \n",
    "        self.head_node = new_head\n",
    "\n",
    "        if self.tail_node == None:\n",
    "            self.tail_node = new_head\n",
    "            \n",
    "    def print(self):\n",
    "        \"\"\" Our linked print algorithm that we wrote above! \"\"\"\n",
    "        head = self.head_node  # first\n",
    "        current = head # current is going to change\n",
    "\n",
    "        while current != None: \n",
    "            print(current.get_value(), end = \" -> \")\n",
    "            current = current.next_node\n",
    "        \n",
    "        print(None) ## finish with null pointer\n",
    "    \n",
    "    def remove_tail(self):\n",
    "        removed_tail = self.tail_node\n",
    "        \n",
    "        if removed_tail == None: \n",
    "            return None\n",
    "        \n",
    "        self.tail_node = removed_tail.get_prev_node()\n",
    "        \n",
    "        if self.tail_node != None: \n",
    "            self.tail_node.set_next_node(None)\n",
    "        \n",
    "        if removed_tail == self.head_node:\n",
    "            self.remove_head()\n",
    "            \n",
    "        return removed_tail.get_value()\n",
    "    \n",
    "    def remove_head(self):\n",
    "        removed_head = self.head_node\n",
    "        \n",
    "        if removed_head == None:\n",
    "            return None\n",
    "        \n",
    "        self.head_node = removed_head.get_next_node()\n",
    "        \n",
    "        if self.head_node != None: \n",
    "            self.head_node.set_prev_node(None)\n",
    "        \n",
    "        if removed_head == self.tail_node:\n",
    "            self.remove_tail()\n",
    "            \n",
    "        return removed_head.get_value()\n",
    "    \n",
    "    def remove_by_value(self, value_to_remove):\n",
    "        node_to_remove = None\n",
    "        current_node = self.head_node\n",
    "        \n",
    "        while current_node != None: \n",
    "            if current_node.get_value() == value_to_remove:\n",
    "                node_to_remove = current_node\n",
    "                break\n",
    "            \n",
    "            current_node =current_node.get_next_node()\n",
    "            \n",
    "        if node_to_remove == None:\n",
    "            return None\n",
    "        \n",
    "        if node_to_remove == self.head_node:\n",
    "            self.remove_head()\n",
    "        elif node_to_remove == self.tail_node:\n",
    "            self.remove_tail()\n",
    "        else:\n",
    "            \n",
    "            next_node = node_to_remove.next_node\n",
    "            print(next_node.get_value())\n",
    "            #next_node = node_to_remove.get_next_node()\n",
    "            #prev_node = node_to_remove.get_prev_node()\n",
    "            prev_node = node_to_remove.prev_node\n",
    "            print(prev_node.get_value())\n",
    "            \n",
    "            self.tail_node.set_prev_node(prev_node) # so this works for named references, but what about mid list? \n",
    "            #next_node.prev_node = prev_node\n",
    "            #prev_node.next_node = next_node\n",
    "            self.head_node.set_next_node(next_node) # so this works for named references, but what about mid list? \n",
    "            \n",
    "        return node_to_remove    "
   ]
  },
  {
   "cell_type": "code",
   "execution_count": 85,
   "metadata": {},
   "outputs": [],
   "source": [
    "dll = DoublyLinkedList(0)\n",
    "dll.append(5)\n",
    "dll.append(10)"
   ]
  },
  {
   "cell_type": "code",
   "execution_count": 86,
   "metadata": {},
   "outputs": [
    {
     "name": "stdout",
     "output_type": "stream",
     "text": [
      "0 -> 5 -> 10 -> None\n"
     ]
    }
   ],
   "source": [
    "dll.print()"
   ]
  },
  {
   "cell_type": "code",
   "execution_count": 87,
   "metadata": {},
   "outputs": [
    {
     "name": "stdout",
     "output_type": "stream",
     "text": [
      "10\n",
      "0\n"
     ]
    },
    {
     "data": {
      "text/plain": [
       "5"
      ]
     },
     "execution_count": 87,
     "metadata": {},
     "output_type": "execute_result"
    }
   ],
   "source": [
    "dll.remove_by_value(5).get_value()"
   ]
  },
  {
   "cell_type": "code",
   "execution_count": 88,
   "metadata": {},
   "outputs": [
    {
     "name": "stdout",
     "output_type": "stream",
     "text": [
      "0 -> 10 -> None\n"
     ]
    }
   ],
   "source": [
    "dll.print()"
   ]
  },
  {
   "cell_type": "markdown",
   "metadata": {},
   "source": [
    "So this code works for named references, but how would you adapt this for any node in longer lists?"
   ]
  },
  {
   "cell_type": "markdown",
   "metadata": {},
   "source": [
    "# Summary of the `DoublyLinkedList` \n",
    "A `DoublyLinkedList` class in Python has the following functionality:\n",
    "\n",
    "- A constructor `__init__()` with `head_node` and `tail_node` properties\n",
    "- An `prepend()` method to add new nodes to the head\n",
    "- An `append()` method to add new nodes to the tail\n",
    "- A `remove_head()` method to remove the head node\n",
    "- A `remove_tail()` method to remove the tail node\n",
    "- A `remove_by_value()` method to remove a node that matches the `value_to_remove` passed in"
   ]
  },
  {
   "cell_type": "markdown",
   "metadata": {},
   "source": [
    "## Exercise \n",
    "\n",
    "Move the `Node` class to a `node.py` file, and assemble the (singly) `LinkedList` methods above into class located in an `linkedlist.py` file. \n",
    "Either instantiate an object of your linked list class in the code cell below in this `.ipynb` file or in a `main.py` file. \n",
    "\n",
    "Your `Node` class should contain an attribute that wraps around a piece of data (a `str` or an `int` value). Then create an object of your `LinkedList` class, which you will add/insert/prepend/append with `Node` objects. Then print the contents of this linked list to check the `Node` objects have been added successfully. \n",
    "\n",
    "Remember that in both locations you'll need to `import` the class (uppercase) `from` the python file.\n",
    "\n",
    "e.g. `from node import Node`\n",
    "\n",
    "Extension: How would you amend your linked list to store objects of your `Student` class, rather than the `Node` class?\n"
   ]
  },
  {
   "cell_type": "code",
   "execution_count": null,
   "metadata": {},
   "outputs": [],
   "source": [
    "# Write your solution here or in .py files\n"
   ]
  },
  {
   "cell_type": "markdown",
   "metadata": {},
   "source": [
    "## Exercise: \n",
    "\n",
    "Compare the behaviour of your (singly) Linked List class, with the elementary Python list `[ ]`\n",
    "\n",
    "Populate your linkedlist with the same values stored in the `list` below, and summarise the key differences for performing basic operations: \n",
    "* prepend and append\n",
    "* remove\n",
    "* mid-list insert and removal\n",
    "* find/search/element access"
   ]
  },
  {
   "cell_type": "code",
   "execution_count": null,
   "metadata": {},
   "outputs": [],
   "source": [
    "l = [1,2,3,4,5,6,7,8,9,10]\n",
    "\n",
    "# Write your solution here or in a .py file"
   ]
  },
  {
   "cell_type": "markdown",
   "metadata": {},
   "source": [
    "## Exercise \n",
    "\n",
    "Generate a (singly) linked list of either 20 randomly generated integers (1-20) or 20 randomly generated single characters (a-z) \n",
    "\n",
    "If you had to find a `str` or an `int` value in this list, how would you go about this? Write an function to find 'by-value' and return the node object (memory address). \n",
    "\n",
    "Extension: if you had to return all instances of the same value from your function, how would you do this? \n",
    "\n",
    "Extension: What is run time of your algorithm in Big O Notation? (If you're not sure, don't worry, there is a session on Big O Notation and asymptotic complexity soon!)"
   ]
  },
  {
   "cell_type": "code",
   "execution_count": null,
   "metadata": {},
   "outputs": [],
   "source": [
    "# Write your solution here or in a .py file\n"
   ]
  },
  {
   "cell_type": "markdown",
   "metadata": {},
   "source": [
    "## Exercise \n",
    "\n",
    "Now write a `DoublyLinkedList` class in a `doublylinkedlist.py` file. \n",
    "\n",
    "Assign 50 randomly generated integers (between 0-9) to this doubly linked list.  \n",
    "Also assign 50 randomly generated integers (between 0-9) to a Python `list`.\n",
    "\n",
    "Now print both the first five integers and the last five integers of both the doubly linked list and your Python `list`"
   ]
  },
  {
   "cell_type": "code",
   "execution_count": null,
   "metadata": {},
   "outputs": [],
   "source": [
    "# Write your solution here or in a .py file\n"
   ]
  },
  {
   "cell_type": "markdown",
   "metadata": {},
   "source": [
    "## Exercise \n",
    "\n",
    "In a doubly linked list, which is the quickest way to locate and return the middle node? \n",
    "\n",
    "Note: for simplicity, remove one node from the doubly linked list of 50 nodes in the previous exercise, so you have a size that is an odd number (49: 0-48) will give you a defined middle element (24) with 24 elements each side (0-23 = 24 inc.) and (25-48 = 24 inc.)."
   ]
  },
  {
   "cell_type": "code",
   "execution_count": null,
   "metadata": {},
   "outputs": [],
   "source": [
    "# Write your solution here or in a .py file\n"
   ]
  },
  {
   "cell_type": "markdown",
   "metadata": {},
   "source": [
    "## Exercise \n",
    "\n",
    "Once you've found the middle node, write a function which will safely remove (delete) this middle element from list, without disrupting the rest of the list. Print the middle ten elements of the list before and after removal to ensure that the list is maintained. "
   ]
  },
  {
   "cell_type": "code",
   "execution_count": null,
   "metadata": {},
   "outputs": [],
   "source": [
    "# Write your solution here or in a .py file\n"
   ]
  },
  {
   "cell_type": "markdown",
   "metadata": {},
   "source": [
    "## Exercise \n",
    "\n",
    "Write a print method for a `DoublyLinkedList` that prints the list in reverse order. Start at the tail and print out the previous nodes in sequence pointing to the head node. "
   ]
  },
  {
   "cell_type": "code",
   "execution_count": null,
   "metadata": {},
   "outputs": [],
   "source": [
    "# Write your solution here or in a .py file\n"
   ]
  },
  {
   "cell_type": "markdown",
   "metadata": {},
   "source": [
    "## Exercise \n",
    "\n",
    "Create a (singly) linked list with consecutive values that ascend from 1 to 10 (one value in each of the 9 nodes). Write an algorithm that sorts these so that the even numbers appear at the start of the list, and the odd numbers are linked at the end of the list. \n",
    "\n",
    "Extension: now randomly generate a new list full of random values from 1-20 and sort these so even numbers appear before odd numbers. "
   ]
  },
  {
   "cell_type": "code",
   "execution_count": null,
   "metadata": {},
   "outputs": [],
   "source": [
    "# Write your solution here or in a .py file\n"
   ]
  },
  {
   "cell_type": "markdown",
   "metadata": {},
   "source": [
    "## Exercise \n",
    "\n",
    "So, you've been able to reverse a Python `list` and a `numpy.array` (if you've attempted this - well done!). Now write an algorithm that can reverse the contents of a doubly linked list. "
   ]
  },
  {
   "cell_type": "code",
   "execution_count": null,
   "metadata": {},
   "outputs": [],
   "source": [
    "# Write your solution here or in a .py file\n"
   ]
  },
  {
   "cell_type": "markdown",
   "metadata": {},
   "source": [
    "## Exercise \n",
    "\n",
    "Implement a circular doubly linked list, where the head and tail of the list point to each other. As you add to the start (prepend) and end of the list (append), check that the circular nature of the linked list is preserved. How would you prevent infinite cycles when printing the list? "
   ]
  },
  {
   "cell_type": "code",
   "execution_count": null,
   "metadata": {},
   "outputs": [],
   "source": [
    "# Write your solution here or in a .py file\n"
   ]
  },
  {
   "cell_type": "markdown",
   "metadata": {},
   "source": [
    "## Scenario exercise: Model a playlist \n",
    "\n",
    "For this exercise, simulate a playlist (e.g. a YouTube playlist or a Spotify playlist) in which users can: \n",
    "\n",
    "* add media both to the start of the list or the end of the list \n",
    "* rearrange items within the playlist. \n",
    "* remove items from the playlist without affecting the rest of the list. \n",
    "* find items in the playlist (search by value)\n",
    "\n",
    "You could simulate this with creating a `Song` class or a `Video` class, with attributes that represent metadata (`track_title`, `artist`, `play_duration`, `date_published` etc). Then you can create objects of this class which can be added to your linked list playlist. \n",
    "\n",
    "In `.ipynb` files, you should be able to embed YouTube videos with the following code, placing the unique URL to the `YouTubeVideo()` function: \n",
    "```\n",
    "from IPython.display import YouTubeVideo\n",
    "YouTubeVideo('1j_HxD4iLn8') # pass the unique URL ID as a str\n",
    "```\n",
    "\n",
    "You may also want to check out `Spotipy` at https://spotipy.readthedocs.io/en/2.24.0/ to get access to spotify data.  \n",
    "   \n",
    "`pip install spotipy --upgrade`"
   ]
  },
  {
   "cell_type": "code",
   "execution_count": null,
   "metadata": {},
   "outputs": [],
   "source": [
    "# Write your solution here or in a .py file\n"
   ]
  }
 ],
 "metadata": {
  "celltoolbar": "Slideshow",
  "kernelspec": {
   "display_name": "Python 3",
   "language": "python",
   "name": "python3"
  },
  "language_info": {
   "codemirror_mode": {
    "name": "ipython",
    "version": 3
   },
   "file_extension": ".py",
   "mimetype": "text/x-python",
   "name": "python",
   "nbconvert_exporter": "python",
   "pygments_lexer": "ipython3",
   "version": "3.9.6"
  }
 },
 "nbformat": 4,
 "nbformat_minor": 4
}
