{
 "cells": [
  {
   "cell_type": "markdown",
   "metadata": {
    "slideshow": {
     "slide_type": "slide"
    }
   },
   "source": [
    "<!-- ![pythonLogo.png](https://www.python.org/static/community_logos/python-powered-w-200x80.png) -->\n",
    "# 04 Linked Lists "
   ]
  },
  {
   "cell_type": "markdown",
   "metadata": {},
   "source": [
    "## Plan for the Lecture \n",
    "\n",
    "* Linked List theory \n",
    "\n",
    "* Comparison with Arrays / Numpy arrays\n",
    "\n",
    "* Exercises"
   ]
  },
  {
   "cell_type": "markdown",
   "metadata": {
    "slideshow": {
     "slide_type": "slide"
    }
   },
   "source": [
    "## This section introduces Nodes and Linked Lists.  ##\n",
    "\n",
    "\n",
    "![LinkedLists.png](https://media.geeksforgeeks.org/wp-content/cdn-uploads/gq/2013/03/Linkedlist.png)"
   ]
  },
  {
   "cell_type": "markdown",
   "metadata": {
    "slideshow": {
     "slide_type": "slide"
    }
   },
   "source": [
    "# Nodes and Linked Lists #\n",
    "\n",
    "A linked list is different to the indexed lists we've seen before. ArrayList, List and Array store values at numbered positions (indexes). But a linked list is not indexed. We cannot directly access a value stored at position 7 in a linked list. Instead, we have to iterate through the nodes \n",
    "\n",
    "So what are nodes? \n",
    "- The term node comes from networking: a node in a network.\n",
    "- Here, a node is a class that 'wraps' around one or two values. \n",
    "- In a linked list, a node has to store the reference to the next node in the list.\n",
    "- We'll also utilise nodes in trees and graphs later in the module too.\n"
   ]
  },
  {
   "cell_type": "markdown",
   "metadata": {},
   "source": [
    "# Node class #"
   ]
  },
  {
   "cell_type": "code",
   "execution_count": 1,
   "metadata": {},
   "outputs": [
    {
     "name": "stdout",
     "output_type": "stream",
     "text": [
      "44\n"
     ]
    }
   ],
   "source": [
    "class Node:\n",
    "  def __init__(self, value, next_node=None):\n",
    "    self.value = value\n",
    "    self.next_node = next_node\n",
    "    \n",
    "  def get_value(self):\n",
    "    return self.value\n",
    "  \n",
    "  def get_next_node(self):\n",
    "    return self.next_node\n",
    "  \n",
    "  def set_next_node(self, next_node):\n",
    "    self.next_node = next_node\n",
    "    \n",
    "my_node = Node(44)\n",
    "print(my_node.get_value())"
   ]
  },
  {
   "cell_type": "markdown",
   "metadata": {},
   "source": [
    "# Further on Node class"
   ]
  },
  {
   "cell_type": "code",
   "execution_count": 2,
   "metadata": {},
   "outputs": [
    {
     "name": "stdout",
     "output_type": "stream",
     "text": [
      "enjoys spending time in movie lots\n",
      "has a penchant for hoarding snacks\n"
     ]
    }
   ],
   "source": [
    "## Codeacademy\n",
    "\n",
    "class Node:\n",
    "  def __init__(self, value, link_node=None):\n",
    "    self.value = value\n",
    "    self.link_node = link_node\n",
    "    \n",
    "  def set_link_node(self, link_node):\n",
    "    self.link_node = link_node\n",
    "    \n",
    "  def get_link_node(self):\n",
    "    return self.link_node\n",
    "  \n",
    "  def get_value(self):\n",
    "    return self.value\n",
    "\n",
    "# Add your code below:\n",
    "yacko = Node(\"likes to yak\")\n",
    "wacko = Node(\"has a penchant for hoarding snacks\")\n",
    "dot = Node(\"enjoys spending time in movie lots\")\n",
    "\n",
    "dot.set_link_node(wacko)\n",
    "yacko.set_link_node(dot)\n",
    "\n",
    "dots_data = yacko.get_link_node().get_value()\n",
    "wackos_data = dot.get_link_node().get_value()\n",
    "\n",
    "print(dots_data)\n",
    "print(wackos_data)"
   ]
  },
  {
   "cell_type": "markdown",
   "metadata": {},
   "source": [
    "# (Singly) LinkedList Class - printing out the list\n",
    "\n",
    "A singly linked list means that nodes only 'point' in one direction. Typically, one node points to the next node.\n",
    "By contrast, a doubly linked list has a reference to the next node, and the previous node. \n",
    "\n",
    "Below, we add several nodes to an instance of the LinkedList class. Pay attention to the order in which the nodes are added/inserted.\n",
    "\n",
    "![linkedtraversal](https://findtodaysnotes.wordpress.com/wp-content/uploads/2024/02/link14.gif?w=760)"
   ]
  },
  {
   "cell_type": "code",
   "execution_count": 3,
   "metadata": {},
   "outputs": [
    {
     "name": "stdout",
     "output_type": "stream",
     "text": [
      "90\n",
      "5675\n",
      "70\n",
      "5\n",
      "\n"
     ]
    }
   ],
   "source": [
    "# We'll be using our Node class\n",
    "class Node:\n",
    "  def __init__(self, value, next_node=None):\n",
    "    self.value = value\n",
    "    self.next_node = next_node\n",
    "    \n",
    "  def get_value(self):\n",
    "    return self.value\n",
    "  \n",
    "  def get_next_node(self):\n",
    "    return self.next_node\n",
    "  \n",
    "  def set_next_node(self, next_node):\n",
    "    self.next_node = next_node\n",
    "\n",
    "# Our LinkedList class\n",
    "class LinkedList:\n",
    "  def __init__(self, value=None):\n",
    "    self.head_node = Node(value)\n",
    "  \n",
    "  def get_head_node(self):\n",
    "    return self.head_node\n",
    "  \n",
    "# Add your insert_beginning and stringify_list methods below:\n",
    "\n",
    "  def insert_beginning(self, new_value):\n",
    "    new_node = Node(new_value)\n",
    "    new_node.set_next_node(self.head_node)\n",
    "    self.head_node = new_node\n",
    "    \n",
    "  def stringify_list(self):\n",
    "    string_list = \"\"\n",
    "    current_node = self.get_head_node()\n",
    "    while current_node:\n",
    "      if current_node.get_value() != None:\n",
    "        string_list += str(current_node.get_value()) + \"\\n\"\n",
    "      current_node = current_node.get_next_node()\n",
    "    return string_list\n",
    "  \n",
    "\n",
    "# Test your code by uncommenting the statements below - did your list print to the terminal?\n",
    "ll = LinkedList(5)\n",
    "ll.insert_beginning(70)\n",
    "ll.insert_beginning(5675)\n",
    "ll.insert_beginning(90)\n",
    "print(ll.stringify_list())"
   ]
  },
  {
   "cell_type": "markdown",
   "metadata": {},
   "source": [
    "# Removing a node from a linked list\n",
    "\n",
    "Remember that a linked list is not an indexed structure. So we first have to iterate to find the item we want to remove. Iteration is linear time. But once we have located the node to be removed, we can change the 'pointer'. Rather than the pointing to the node to be removed, we can instead point to the next node after the one to be removed.\n",
    "\n",
    " x - > R -> y  \n",
    "   x ->       y\n",
    "\n",
    "With indexed structures, we could directly access a value within the structure (constant time access). BUT, we would then have to shift the remaining items, if we did not want empty locations within our list."
   ]
  },
  {
   "cell_type": "code",
   "execution_count": 4,
   "metadata": {},
   "outputs": [
    {
     "name": "stdout",
     "output_type": "stream",
     "text": [
      "90\n",
      "5675\n",
      "70\n",
      "5\n",
      "\n",
      "Now removing node 70:\n",
      "90\n",
      "5675\n",
      "5\n",
      "\n"
     ]
    }
   ],
   "source": [
    "## Codeacademy \n",
    "\n",
    " # We'll be using our Node class\n",
    "class Node:\n",
    "  def __init__(self, value, next_node=None):\n",
    "    self.value = value\n",
    "    self.next_node = next_node\n",
    "    \n",
    "  def get_value(self):\n",
    "    return self.value\n",
    "  \n",
    "  def get_next_node(self):\n",
    "    return self.next_node\n",
    "  \n",
    "  def set_next_node(self, next_node):\n",
    "    self.next_node = next_node\n",
    "\n",
    "# Our LinkedList class\n",
    "class LinkedList:\n",
    "  def __init__(self, value=None):\n",
    "    self.head_node = Node(value)\n",
    "  \n",
    "  def get_head_node(self):\n",
    "    return self.head_node\n",
    "  \n",
    "  def insert_beginning(self, new_value):\n",
    "    new_node = Node(new_value)\n",
    "    new_node.set_next_node(self.head_node)\n",
    "    self.head_node = new_node\n",
    "    \n",
    "  def stringify_list(self):\n",
    "    string_list = \"\"\n",
    "    current_node = self.get_head_node()\n",
    "    while current_node:\n",
    "      if current_node.get_value() != None:\n",
    "        string_list += str(current_node.get_value()) + \"\\n\"\n",
    "      current_node = current_node.get_next_node()\n",
    "    return string_list\n",
    "  \n",
    "  # Define your remove_node method below:\n",
    "  def remove_node(self, value_to_remove):\n",
    "    current_node = self.get_head_node()\n",
    "    if current_node.get_value() == value_to_remove:\n",
    "      self.head_node = current_node.get_next_node()\n",
    "    else:\n",
    "      while current_node:\n",
    "        next_node = current_node.get_next_node()\n",
    "        if next_node.get_value() == value_to_remove:\n",
    "          current_node.set_next_node(next_node.get_next_node())\n",
    "          current_node = None\n",
    "        else:\n",
    "          current_node = next_node\n",
    "\n",
    "ll = LinkedList(5)\n",
    "ll.insert_beginning(70)\n",
    "ll.insert_beginning(5675)\n",
    "ll.insert_beginning(90)\n",
    "print(ll.stringify_list())\n",
    "print(\"Now removing node 70:\")\n",
    "ll.remove_node(70)\n",
    "print(ll.stringify_list())"
   ]
  },
  {
   "cell_type": "markdown",
   "metadata": {},
   "source": [
    "# Insert a node mid-list\n",
    "- First find the location to insert (the node BEFORE) - which will point to NEW\n",
    "- Second, make sure that the AFTER (which contains the rest of the list) will be pointed to by NEW's next.  BEFORE -> NEW -> AFTER \n",
    "- Then make the BEFORE -> next point to NEW  \n",
    "\n",
    "![insertmid](https://assets.digitalocean.com/articles/alligator/js/linked-lists-implementation/linked-list-insert.gif)"
   ]
  },
  {
   "cell_type": "markdown",
   "metadata": {},
   "source": [
    "# Doubly Linked List\n",
    "\n",
    "As previously mentioned, a doubly linked list has a reference for the next node in the list, as well as the previous node. \n",
    "\n",
    "To implement this additional sequencing, we need to make the following amendments to our functions."
   ]
  },
  {
   "cell_type": "markdown",
   "metadata": {},
   "source": [
    "# Add to the tail\n",
    "A Python DoublyLinkedList class can implement an .add_to_tail() instance method for adding new data to the tail of the list. .add_to_tail() takes a single new_value argument. It uses new_value to create a new Node which it adds to the tail of the list."
   ]
  },
  {
   "cell_type": "code",
   "execution_count": null,
   "metadata": {},
   "outputs": [],
   "source": [
    "def add_to_tail(self, new_value):\n",
    "    new_tail = Node(new_value)\n",
    "    current_tail = self.tail_node\n",
    "\n",
    "    if current_tail != None:\n",
    "      current_tail.set_next_node(new_tail)\n",
    "      new_tail.set_prev_node(current_tail)\n",
    "\n",
    "    self.tail_node = new_tail\n",
    "\n",
    "    if self.head_node == None:\n",
    "      self.head_node = new_tail"
   ]
  },
  {
   "cell_type": "markdown",
   "metadata": {},
   "source": [
    "# Adding to the Head\n",
    "A Python DoublyLinkedList class can implement an .add_to_head() instance method for adding new data to the head of the list. .add_to_head() takes a single new_value argument. It uses new_value to create a new Node which it adds to the head of the list."
   ]
  },
  {
   "cell_type": "code",
   "execution_count": null,
   "metadata": {},
   "outputs": [],
   "source": [
    "def add_to_head(self, new_value):\n",
    "    new_head = Node(new_value)\n",
    "    current_head = self.head_node\n",
    "\n",
    "    if current_head != None:\n",
    "      current_head.set_prev_node(new_head)\n",
    "      new_head.set_next_node(current_head)\n",
    "\n",
    "    self.head_node = new_head\n",
    "\n",
    "    if self.tail_node == None:\n",
    "      self.tail_node = new_head"
   ]
  },
  {
   "cell_type": "markdown",
   "metadata": {},
   "source": [
    "# Removing the Tail\n",
    "A Python DoublyLinkedList class can implement a .remove_tail() instance method for removing the head of the list. .remove_tail() takes no arguments. It removes and returns the tail of the list, and sets the tail’s previous node as the new tail."
   ]
  },
  {
   "cell_type": "code",
   "execution_count": null,
   "metadata": {},
   "outputs": [],
   "source": [
    "def remove_tail(self):\n",
    "    removed_tail = self.tail_node\n",
    "\n",
    "    if removed_tail == None:\n",
    "      return None\n",
    "\n",
    "    self.tail_node = removed_tail.get_prev_node()\n",
    "\n",
    "    if self.tail_node != None:\n",
    "      self.tail_node.set_next_node(None)\n",
    "\n",
    "    if removed_tail == self.head_node:\n",
    "      self.remove_head()\n",
    "\n",
    "    return removed_tail.get_value()\n"
   ]
  },
  {
   "cell_type": "markdown",
   "metadata": {},
   "source": [
    "# Removing the Head\n",
    "\n",
    "A Python DoublyLinkedList class can implement a .remove_head() instance method for removing the head of the list. .remove_head() takes no arguments. It removes and returns the head of the list, and sets the head’s next node as the new head."
   ]
  },
  {
   "cell_type": "code",
   "execution_count": null,
   "metadata": {},
   "outputs": [],
   "source": [
    "def remove_head(self):\n",
    "    removed_head = self.head_node\n",
    "\n",
    "    if removed_head == None:\n",
    "      return None\n",
    "\n",
    "    self.head_node = removed_head.get_next_node()\n",
    "\n",
    "    if self.head_node != None:\n",
    "      self.head_node.set_prev_node(None)\n",
    "\n",
    "    if removed_head == self.tail_node:\n",
    "      self.remove_tail()\n",
    "\n",
    "    return removed_head.get_value()"
   ]
  },
  {
   "cell_type": "markdown",
   "metadata": {},
   "source": [
    "# Removing by Value\n",
    "A Python DoublyLinkedList class can implement a .remove_by_value() instance method that takes value_to_remove as an argument and returns the node that matches value_to_remove, or None if no match exists. If the node exists, .remove_by_value() removes it from the list and correctly resets the pointers of its surrounding nodes."
   ]
  },
  {
   "cell_type": "code",
   "execution_count": null,
   "metadata": {},
   "outputs": [],
   "source": [
    "def remove_by_value(self, value_to_remove):\n",
    "    node_to_remove = None\n",
    "    current_node = self.head_node\n",
    "\n",
    "    while current_node != None:\n",
    "      if current_node.get_value() == value_to_remove:\n",
    "        node_to_remove = current_node\n",
    "        break\n",
    "\n",
    "      current_node = current_node.get_next_node()\n",
    "\n",
    "    if node_to_remove == None:\n",
    "      return None\n",
    "\n",
    "    if node_to_remove == self.head_node:\n",
    "      self.remove_head()\n",
    "    elif node_to_remove == self.tail_node:\n",
    "      self.remove_tail()\n",
    "    else:\n",
    "      next_node = node_to_remove.get_next_node()\n",
    "      prev_node = node_to_remove.get_prev_node()\n",
    "      next_node.set_prev_node(prev_node)\n",
    "      prev_node.set_next_node(next_node)\n",
    "\n",
    "    return node_to_remove"
   ]
  },
  {
   "cell_type": "markdown",
   "metadata": {},
   "source": [
    "# Constructor\n",
    "A Python DoublyLinkedList class constructor should store:\n",
    "\n",
    "A head_node property to store the head of the list\n",
    "A tail_node property to store the tail of the list\n",
    "The head_node and tail_node are set to None as their defaults."
   ]
  },
  {
   "cell_type": "code",
   "execution_count": null,
   "metadata": {},
   "outputs": [],
   "source": [
    "class DoublyLinkedList:\n",
    "  def __init__(self):\n",
    "    self.head_node = None\n",
    "    self.tail_node = None"
   ]
  },
  {
   "cell_type": "markdown",
   "metadata": {},
   "source": [
    "# Updated Node Class\n",
    "Doubly linked lists in Python utilize an updated Node class that has a pointer to the previous node. This comes with additional setter and getter methods for accessing and updating the previous node."
   ]
  },
  {
   "cell_type": "code",
   "execution_count": null,
   "metadata": {},
   "outputs": [],
   "source": [
    "class Node:\n",
    "  def __init__(self, value, next_node=None, prev_node=None):\n",
    "    self.value = value\n",
    "    self.next_node = next_node\n",
    "    self.prev_node = prev_node\n",
    "    \n",
    "  def set_next_node(self, next_node):\n",
    "    self.next_node = next_node\n",
    "    \n",
    "  def get_next_node(self):\n",
    "    return self.next_node\n",
    "\n",
    "  def set_prev_node(self, prev_node):\n",
    "    self.prev_node = prev_node\n",
    "    \n",
    "  def get_prev_node(self):\n",
    "    return self.prev_node\n",
    "  \n",
    "  def get_value(self):\n",
    "    return self.value"
   ]
  },
  {
   "cell_type": "markdown",
   "metadata": {},
   "source": [
    "# Updated Doubly Linked List Overview \n",
    "A DoublyLinkedList class in Python has the following functionality:\n",
    "\n",
    "- A constructor with head_node and tail_node properties\n",
    "- An .add_to_head() method to add new nodes to the head\n",
    "- An .add_to_tail() method to add new nodes to the tail\n",
    "- A .remove_head() method to remove the head node\n",
    "- A .remove_tail() method to remove the tail node\n",
    "- A .remove_by_value() method to remove a node that matches the value_to_remove passed in"
   ]
  },
  {
   "cell_type": "code",
   "execution_count": null,
   "metadata": {},
   "outputs": [],
   "source": [
    "class DoublyLinkedList:\n",
    "  def __init__(self):\n",
    "    self.head_node = None\n",
    "    self.tail_node = None\n",
    "\n",
    "  \n",
    "  def add_to_head(self, new_value):\n",
    "    new_head = Node(new_value)\n",
    "    current_head = self.head_node\n",
    "\n",
    "    if current_head != None:\n",
    "      current_head.set_prev_node(new_head)\n",
    "      new_head.set_next_node(current_head)\n",
    "\n",
    "    self.head_node = new_head\n",
    "\n",
    "    if self.tail_node == None:\n",
    "      self.tail_node = new_head\n",
    "\n",
    "\n",
    "  def add_to_tail(self, new_value):\n",
    "    new_tail = Node(new_value)\n",
    "    current_tail = self.tail_node\n",
    "\n",
    "    if current_tail != None:\n",
    "      current_tail.set_next_node(new_tail)\n",
    "      new_tail.set_prev_node(current_tail)\n",
    "\n",
    "    self.tail_node = new_tail\n",
    "\n",
    "    if self.head_node == None:\n",
    "      self.head_node = new_tail\n",
    "\n",
    "\n",
    "  def remove_head(self):\n",
    "    removed_head = self.head_node\n",
    "\n",
    "    if removed_head == None:\n",
    "      return None\n",
    "\n",
    "    self.head_node = removed_head.get_next_node()\n",
    "\n",
    "    if self.head_node != None:\n",
    "      self.head_node.set_prev_node(None)\n",
    "\n",
    "    if removed_head == self.tail_node:\n",
    "      self.remove_tail()\n",
    "\n",
    "    return removed_head.get_value()\n",
    "\n",
    "\n",
    "  def remove_tail(self):\n",
    "    removed_tail = self.tail_node\n",
    "\n",
    "    if removed_tail == None:\n",
    "      return None\n",
    "\n",
    "    self.tail_node = removed_tail.get_prev_node()\n",
    "\n",
    "    if self.tail_node != None:\n",
    "      self.tail_node.set_next_node(None)\n",
    "\n",
    "    if removed_tail == self.head_node:\n",
    "      self.remove_head()\n",
    "\n",
    "    return removed_tail.get_value()\n",
    "\n",
    "\n",
    "  def remove_by_value(self, value_to_remove):\n",
    "    node_to_remove = None\n",
    "    current_node = self.head_node\n",
    "\n",
    "    while current_node != None:\n",
    "      if current_node.get_value() == value_to_remove:\n",
    "        node_to_remove = current_node\n",
    "        break\n",
    "\n",
    "      current_node = current_node.get_next_node()\n",
    "\n",
    "    if node_to_remove == None:\n",
    "      return None\n",
    "\n",
    "    if node_to_remove == self.head_node:\n",
    "      self.remove_head()\n",
    "    elif node_to_remove == self.tail_node:\n",
    "      self.remove_tail()\n",
    "    else:\n",
    "      next_node = node_to_remove.get_next_node()\n",
    "      prev_node = node_to_remove.get_prev_node()\n",
    "      next_node.set_prev_node(prev_node)\n",
    "      prev_node.set_next_node(next_node)\n",
    "\n",
    "    return node_to_remove"
   ]
  },
  {
   "cell_type": "markdown",
   "metadata": {
    "slideshow": {
     "slide_type": "slide"
    }
   },
   "source": [
    "## Exercises\n",
    "\n",
    "Insert a 'code' cell below. In this do the following:\n",
    "\n",
    "- 1 - Define a Node class and a (singly) LinkedList class.\n",
    "- 2 - Now create five instances (objects) of the Node class and 'add' them to an instance of the LinkedList. Print this data to the screen to check that the node objects have been added correctly from.\n",
    "- 3 - Write a search method. If you're not sure where to start, have a look at the remove method given to you. Check that a node can be found (print an appropriate message to the screen). Also check that a message is displayed when you search for a node that is not in the list.  \n",
    "- 4 - Test that you can remove both the start of the list and a node in the middle of the list. Print before and after to check that this works.\n",
    "- 5 - Now add another attribute to the Node class. Remove all the older nodes still remaining in the list, and add new node objects with values for this new attribute. \n",
    "- 6 - Now amend (or overload if necessary) the exisiting search method so that you can search for nodes via either of the two attributes. Test that this works as expected.  \n",
    "- 7 - Notice that you have an 'insert_beginning' function in the LinkedList class, which 'prepends' a new node to the start of the list. Now write an 'insert_end' function that will 'append' a new node to the end of the list. \n",
    "- 8 - now add additional node instances to the list and check that adds them to the end of the list, rather than at the start of the list.\n",
    "- 9 - Implement the updates suggested to modify the singly linked list to be a doubly linked list. Don't forget to update the insert_end method from the previous point! Check that you can navigate back and forth in the doubly linked list.\n",
    "\n",
    "\n",
    "C++ EXERCISES: \n",
    "\n",
    "/*\n",
    "* Exercise 1: Vectors vs arrays\n",
    "* Create a primitive array of 50 integers. Populate the array with 50 randomly generated values (between the range of 1 to 100). \n",
    "* Rather than printing each of the 50 integers, print either the last five values or the total and average of the 50 random values.\n",
    "* \n",
    "* Extension 1: Now replicate this with the STL array. Remember to uncomment the 'include array' above.\n",
    "* Extension 2: Now replicate this with an STL vector. Likewise, remember to uncomment the 'include vector' statement above.\n",
    "* Extension 3: Use an iterator to traverse the vector. \n",
    "* Question: Is it possible apply an iterator to the STL array too? If so, are there any advantages to applying an iterator here?\n",
    "*/\n",
    "\n",
    "\n",
    "/*\n",
    "* Exercise 2: \n",
    "* Complete the Link class implementation below, replacing the comments with C++ code.\n",
    "* then in the exercise2() function underneath, create three link instances with integer data. \n",
    "* print this data to the screen via each Link's print function to check that the instances have been created correctly. \n",
    "*/\n",
    "\n",
    "\n",
    "/*\n",
    "* Exercise 3: \n",
    "* Now complete the LinkedList class below, implementing the prepend (add to the head of the list), find and display functions.\n",
    "* Test these functions work by adding five Link instances to an instance (object) of the LinkedList.\n",
    "* \n",
    "* Extension 1: Write an append function (add to the tail of the list). \n",
    "* Extension 2: Also overload the prepend and append functions to allow integer data values to be passed in \n",
    "*              and then 'wrapped' in a Link instance before being added to the Linked List. \n",
    "* Extension 3: Write the delete function that will delete a given node 'by-value'.\n",
    "*              Test this by deleting the start of the list, mid-list and end of the list. \n",
    "*/\n",
    "\n",
    "\n",
    "\n",
    "/* \n",
    "* Exercise 4:  \n",
    "* Now amend your LinkedList class and your Link class to behave as a 'doubly-linked list'.\n",
    "* You're advised to add a 'tail' pointer to the LinkedList class (if not already), and a 'previous' pointer into your Link class.\n",
    "* Amend the prepend/append (insert) methods to also manage 'previous'. Likewise the delete method.\n",
    "* \n",
    "* Extension: Consider if you can amend your find function to traverse the list\n",
    "*            both forwards and backwards simultaneously, from the head and tail of the list respectively.\n",
    "*/\n",
    "\n",
    "\n",
    "One exercise could be: \n",
    "Maybe a comparison between the Python List [] and a manually created Python Linked List?\n"
   ]
  },
  {
   "cell_type": "markdown",
   "metadata": {},
   "source": [
    "## Exercise:\n",
    "\n",
    "Create a Node class. "
   ]
  },
  {
   "cell_type": "code",
   "execution_count": null,
   "metadata": {},
   "outputs": [],
   "source": []
  },
  {
   "cell_type": "markdown",
   "metadata": {},
   "source": [
    "## Exercise:\n",
    "\n"
   ]
  },
  {
   "cell_type": "code",
   "execution_count": null,
   "metadata": {},
   "outputs": [],
   "source": []
  },
  {
   "cell_type": "markdown",
   "metadata": {},
   "source": [
    "## Exercise 3: "
   ]
  },
  {
   "cell_type": "code",
   "execution_count": null,
   "metadata": {},
   "outputs": [],
   "source": []
  },
  {
   "cell_type": "markdown",
   "metadata": {},
   "source": [
    "## Exercise 4: "
   ]
  },
  {
   "cell_type": "code",
   "execution_count": null,
   "metadata": {},
   "outputs": [],
   "source": []
  },
  {
   "cell_type": "markdown",
   "metadata": {},
   "source": [
    "## Exercise 5: Compare the behaviour of your Linked List class, with the Python list [ ]"
   ]
  },
  {
   "cell_type": "code",
   "execution_count": null,
   "metadata": {},
   "outputs": [],
   "source": [
    "l = [1,2,3,4,5,6,7,8,9,10]\n",
    "# Write your solution here."
   ]
  },
  {
   "cell_type": "markdown",
   "metadata": {},
   "source": [
    "## Scenario exercise: Model a playlist \n",
    "\n",
    "For this exercise, simulate a playlist (e.g. a YouTube playlist or a Spotify playlist) in which users can: \n",
    "\n",
    "* add media both to the start of the list or the end of the list \n",
    "* rearrange items within the playlist. \n",
    "* remove items from the playlist without affecting the rest of the list. \n",
    "* find items in the playlist (search by value)\n",
    "\n",
    "You could simulate this with creating a `Song` class or a `Video` class, with attributes that represent metadata (`track_title`, `artist`, `play_duration`, `date_published` etc). Then you can create objects of this class which can be added to your linked list playlist. \n",
    "\n",
    "In ipynb files, you can embed YouTube videos with the following code, placing the unique URL to the `YouTubeVideo()` function: \n",
    "```\n",
    "from IPython.display import YouTubeVideo\n",
    "YouTubeVideo('1j_HxD4iLn8')\n",
    "```\n",
    "\n",
    "You may also want to check out `Spotipy` at https://spotipy.readthedocs.io/en/2.24.0/ to get access to spotify data. \n",
    "`pip install spotipy --upgrade`"
   ]
  },
  {
   "cell_type": "code",
   "execution_count": null,
   "metadata": {},
   "outputs": [],
   "source": []
  }
 ],
 "metadata": {
  "celltoolbar": "Slideshow",
  "kernelspec": {
   "display_name": "Python 3 (ipykernel)",
   "language": "python",
   "name": "python3"
  },
  "language_info": {
   "codemirror_mode": {
    "name": "ipython",
    "version": 3
   },
   "file_extension": ".py",
   "mimetype": "text/x-python",
   "name": "python",
   "nbconvert_exporter": "python",
   "pygments_lexer": "ipython3",
   "version": "3.9.6"
  },
  "vscode": {
   "interpreter": {
    "hash": "31f2aee4e71d21fbe5cf8b01ff0e069b9275f58929596ceb00d14d90e3e16cd6"
   }
  }
 },
 "nbformat": 4,
 "nbformat_minor": 4
}
