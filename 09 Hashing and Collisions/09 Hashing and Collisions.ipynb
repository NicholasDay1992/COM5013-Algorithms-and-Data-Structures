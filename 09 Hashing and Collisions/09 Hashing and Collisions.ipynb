{
 "cells": [
  {
   "cell_type": "markdown",
   "metadata": {},
   "source": [
    "<!--![pythonLogo.png](attachment:pythonLogo.png)-->\n",
    "\n",
    "# 09 Hashing\n"
   ]
  },
  {
   "cell_type": "markdown",
   "metadata": {},
   "source": [
    "## Plan for the Lecture \n",
    "\n",
    "* Introduction to Hashing and ASCII\n",
    "\n",
    "* Hashing algorithms\n",
    "\n",
    "* Collision resolution "
   ]
  },
  {
   "cell_type": "markdown",
   "metadata": {},
   "source": [
    "## Introduction to the process of Hashing \n",
    "\n",
    "* Hashing is the conversion from strings to decimal (or hexedecimal)\n",
    "\n",
    "* Hashing algorithms will produce different representations of a string of characters.\n",
    "\n",
    "* This is applied in encryption services to ensure that data is kept private. \n",
    "\n",
    "* In hash tables / maps - this also allows lookup via strings rather than integer positions. \n",
    "\n",
    "* Python dictionaries (`dicts`) model this principle, allowing us to lookup `values` by string `keys`."
   ]
  },
  {
   "cell_type": "markdown",
   "metadata": {},
   "source": [
    "<img src=\"https://nordvpn.com/wp-content/uploads/blog-infographic-sha-256-1.svg\" alt=\"sha256nordvpn\" width=\"650\"> "
   ]
  },
  {
   "cell_type": "markdown",
   "metadata": {},
   "source": [
    "## ASCII \n",
    "\n",
    "* American Standard Code for Information Interchange (ASCII) originating in the 1960s\n",
    "\n",
    "* It contains the numbers from 0-9, the upper and lower case English letters from A to Z, as well as other symbols and characters from the modern keyboard. \n",
    "\n",
    "* The character sets are still used in modern computers, in HTML, and on the Internet. \n",
    "\n",
    "![ASCII](https://media.geeksforgeeks.org/wp-content/uploads/20240304094301/ASCII-Table.png)"
   ]
  },
  {
   "cell_type": "code",
   "execution_count": 48,
   "metadata": {},
   "outputs": [
    {
     "data": {
      "text/plain": [
       "'A'"
      ]
     },
     "execution_count": 48,
     "metadata": {},
     "output_type": "execute_result"
    }
   ],
   "source": [
    "'A'"
   ]
  },
  {
   "cell_type": "code",
   "execution_count": 43,
   "metadata": {},
   "outputs": [
    {
     "data": {
      "text/plain": [
       "65"
      ]
     },
     "execution_count": 43,
     "metadata": {},
     "output_type": "execute_result"
    }
   ],
   "source": [
    "ord('A')"
   ]
  },
  {
   "cell_type": "code",
   "execution_count": 44,
   "metadata": {},
   "outputs": [
    {
     "data": {
      "text/plain": [
       "97"
      ]
     },
     "execution_count": 44,
     "metadata": {},
     "output_type": "execute_result"
    }
   ],
   "source": [
    "ord('a')"
   ]
  },
  {
   "cell_type": "code",
   "execution_count": 68,
   "metadata": {},
   "outputs": [
    {
     "name": "stdout",
     "output_type": "stream",
     "text": [
      "[65]\n",
      "[66]\n"
     ]
    }
   ],
   "source": [
    "a = 'A'\n",
    "print(list(a.encode('ascii')))\n",
    "\n",
    "b = 'B'\n",
    "print(list(b.encode('ascii')))"
   ]
  },
  {
   "cell_type": "code",
   "execution_count": 66,
   "metadata": {},
   "outputs": [
    {
     "name": "stdout",
     "output_type": "stream",
     "text": [
      "65\n"
     ]
    }
   ],
   "source": [
    "a = 'A'\n",
    "a_decimal = list(a.encode('ascii'))\n",
    "print(a_decimal[0])"
   ]
  },
  {
   "cell_type": "code",
   "execution_count": 67,
   "metadata": {},
   "outputs": [
    {
     "name": "stdout",
     "output_type": "stream",
     "text": [
      "66\n"
     ]
    }
   ],
   "source": [
    "b = 'B'\n",
    "b_decimal = list(b.encode('ascii'))\n",
    "print(b_decimal[0])"
   ]
  },
  {
   "cell_type": "code",
   "execution_count": 45,
   "metadata": {},
   "outputs": [
    {
     "name": "stdout",
     "output_type": "stream",
     "text": [
      "N : 78\n",
      "i : 105\n",
      "c : 99\n",
      "k : 107\n",
      "ASCII sum for Nick = 389\n"
     ]
    }
   ],
   "source": [
    "name = 'Nick'\n",
    "sum = 0\n",
    "for char in name: \n",
    "    print(char, \":\", ord(char))\n",
    "    sum += ord(char)\n",
    "print(\"ASCII sum for\", name, \"=\", sum)"
   ]
  },
  {
   "cell_type": "code",
   "execution_count": 20,
   "metadata": {},
   "outputs": [
    {
     "name": "stdout",
     "output_type": "stream",
     "text": [
      "n : 110\n",
      "i : 105\n",
      "c : 99\n",
      "k : 107\n",
      "ASCII sum for nick = 421\n"
     ]
    }
   ],
   "source": [
    "name = \"nick\"\n",
    "sum = 0\n",
    "for char in name: \n",
    "    print(char, \":\", ord(char))\n",
    "    sum += ord(char)\n",
    "print(\"ASCII sum for\", name, \"=\", sum)"
   ]
  },
  {
   "cell_type": "code",
   "execution_count": 46,
   "metadata": {},
   "outputs": [
    {
     "data": {
      "text/plain": [
       "False"
      ]
     },
     "execution_count": 46,
     "metadata": {},
     "output_type": "execute_result"
    }
   ],
   "source": [
    "\"Nick\" == \"nick\""
   ]
  },
  {
   "cell_type": "code",
   "execution_count": 47,
   "metadata": {},
   "outputs": [
    {
     "data": {
      "text/plain": [
       "True"
      ]
     },
     "execution_count": 47,
     "metadata": {},
     "output_type": "execute_result"
    }
   ],
   "source": [
    "\"Nick\" == \"Nick\""
   ]
  },
  {
   "cell_type": "markdown",
   "metadata": {},
   "source": [
    "## Python dictionaries (`dict`) use hashing\n",
    "\n",
    "* Dictionaries use hashing for their keys to allow efficient lookups, but the values themselves are stored as they are. \n",
    "\n",
    "* The internal hashing of dictionary keys is handled by Python’s hashing mechanism and is not exposed directly."
   ]
  },
  {
   "cell_type": "code",
   "execution_count": 22,
   "metadata": {},
   "outputs": [
    {
     "data": {
      "text/plain": [
       "{'Nick': 56, 'Sam': 67, 'Lucy': 61, 'Tino': 71}"
      ]
     },
     "execution_count": 22,
     "metadata": {},
     "output_type": "execute_result"
    }
   ],
   "source": [
    "d = {\"Nick\" : 56, \"Sam\": 67, \"Lucy\": 61, \"Tino\": 71}\n",
    "d"
   ]
  },
  {
   "cell_type": "code",
   "execution_count": 31,
   "metadata": {},
   "outputs": [
    {
     "data": {
      "text/plain": [
       "56"
      ]
     },
     "execution_count": 31,
     "metadata": {},
     "output_type": "execute_result"
    }
   ],
   "source": [
    "d[\"Nick\"]"
   ]
  },
  {
   "cell_type": "code",
   "execution_count": 42,
   "metadata": {},
   "outputs": [
    {
     "data": {
      "text/plain": [
       "-8040880066191665653"
      ]
     },
     "execution_count": 42,
     "metadata": {},
     "output_type": "execute_result"
    }
   ],
   "source": [
    "hash(\"Nick\")"
   ]
  },
  {
   "cell_type": "code",
   "execution_count": 36,
   "metadata": {},
   "outputs": [
    {
     "name": "stdout",
     "output_type": "stream",
     "text": [
      "{'Nick': -8040880066191665653, 'Sam': -7729753638879594802, 'Lucy': 6614073294121365487, 'Tino': -8816718471250138643}\n"
     ]
    }
   ],
   "source": [
    "hashes = {key: hash(key) for key in d}\n",
    "print(hashes)"
   ]
  },
  {
   "cell_type": "code",
   "execution_count": 38,
   "metadata": {},
   "outputs": [
    {
     "ename": "KeyError",
     "evalue": "8040880066191665653",
     "output_type": "error",
     "traceback": [
      "\u001b[0;31m---------------------------------------------------------------------------\u001b[0m",
      "\u001b[0;31mKeyError\u001b[0m                                  Traceback (most recent call last)",
      "Cell \u001b[0;32mIn [38], line 1\u001b[0m\n\u001b[0;32m----> 1\u001b[0m d[\u001b[38;5;241m8040880066191665653\u001b[39m]\n",
      "\u001b[0;31mKeyError\u001b[0m: 8040880066191665653"
     ]
    }
   ],
   "source": [
    "d[-8040880066191665653]"
   ]
  },
  {
   "cell_type": "markdown",
   "metadata": {},
   "source": [
    "# Hash Maps\n",
    "\n",
    "* Hash Maps allow users to search a data structure via characters instead of integer index positions. \n",
    "\n",
    "* A HashMap is similar to a dictionary - it operates on a key and value pairing. But we can build a HashMap class to manage the 'hashing' function. \n",
    "\n",
    "* The characters (string) are converted to integers by a process of 'hashing'. This hashing function will look up the ASCII value of each character. \n",
    "\n",
    "* Each integer value is then multiplied by its position in the string to achieve a unique number. These are added together to create a large number. \n",
    "\n",
    "* To prevent having to allocate a large number of elements, the modulo sign (%) calculates a smaller number to reduce the size of elements.\n",
    "\n",
    "\n",
    "\n",
    "![hash](https://d18l82el6cdm1i.cloudfront.net/uploads/34EvJ7agjl-hash_table.gif)"
   ]
  },
  {
   "cell_type": "code",
   "execution_count": 69,
   "metadata": {},
   "outputs": [
    {
     "name": "stdout",
     "output_type": "stream",
     "text": [
      "n : 110\n",
      "i : 105\n",
      "c : 99\n",
      "k : 107\n",
      "ASCII sum for nick = 421\n"
     ]
    }
   ],
   "source": [
    "name = \"nick\"\n",
    "sum = 0\n",
    "for char in name: \n",
    "    print(char, \":\", ord(char))\n",
    "    sum += ord(char)\n",
    "print(\"ASCII sum for\", name, \"=\", sum)"
   ]
  },
  {
   "cell_type": "markdown",
   "metadata": {},
   "source": [
    "Does this mean we need an array length of 500 or so, to store at position 421? \n",
    "\n",
    "So how do we adapt the unique ASCII code into a unique position in a structure with fewer positions available? "
   ]
  },
  {
   "cell_type": "code",
   "execution_count": 45,
   "metadata": {},
   "outputs": [],
   "source": [
    "l = [None, None, None, None, None] # empty hash set"
   ]
  },
  {
   "cell_type": "code",
   "execution_count": 46,
   "metadata": {},
   "outputs": [],
   "source": [
    "def hash_function(value):\n",
    "    sum_of_chars = 0\n",
    "    for char in value:\n",
    "        sum_of_chars += ord(char)\n",
    "\n",
    "    return sum_of_chars % len(l)"
   ]
  },
  {
   "cell_type": "code",
   "execution_count": 47,
   "metadata": {},
   "outputs": [
    {
     "data": {
      "text/plain": [
       "1"
      ]
     },
     "execution_count": 47,
     "metadata": {},
     "output_type": "execute_result"
    }
   ],
   "source": [
    "# for the str: 'nick'\n",
    "421 % 5 "
   ]
  },
  {
   "cell_type": "code",
   "execution_count": 43,
   "metadata": {},
   "outputs": [
    {
     "data": {
      "text/plain": [
       "1"
      ]
     },
     "execution_count": 43,
     "metadata": {},
     "output_type": "execute_result"
    }
   ],
   "source": [
    "hash_function(\"nick\")"
   ]
  },
  {
   "cell_type": "code",
   "execution_count": 52,
   "metadata": {},
   "outputs": [
    {
     "data": {
      "text/plain": [
       "[None, 'nick', None, None, 'Nick']"
      ]
     },
     "execution_count": 52,
     "metadata": {},
     "output_type": "execute_result"
    }
   ],
   "source": [
    "l[1] = \"nick\"\n",
    "l"
   ]
  },
  {
   "cell_type": "code",
   "execution_count": 4,
   "metadata": {},
   "outputs": [
    {
     "data": {
      "text/plain": [
       "4"
      ]
     },
     "execution_count": 4,
     "metadata": {},
     "output_type": "execute_result"
    }
   ],
   "source": [
    "# for the str: 'Nick'\n",
    "389 % 5 "
   ]
  },
  {
   "cell_type": "code",
   "execution_count": 50,
   "metadata": {},
   "outputs": [
    {
     "data": {
      "text/plain": [
       "4"
      ]
     },
     "execution_count": 50,
     "metadata": {},
     "output_type": "execute_result"
    }
   ],
   "source": [
    "hash_function(\"Nick\")"
   ]
  },
  {
   "cell_type": "code",
   "execution_count": 53,
   "metadata": {},
   "outputs": [
    {
     "data": {
      "text/plain": [
       "[None, 'nick', None, None, 'Nick']"
      ]
     },
     "execution_count": 53,
     "metadata": {},
     "output_type": "execute_result"
    }
   ],
   "source": [
    "l[4] = \"Nick\"\n",
    "l"
   ]
  },
  {
   "cell_type": "code",
   "execution_count": 55,
   "metadata": {},
   "outputs": [],
   "source": [
    "def contains(name):\n",
    "    index = hash_function(name)\n",
    "    return l[index] == name"
   ]
  },
  {
   "cell_type": "code",
   "execution_count": 56,
   "metadata": {},
   "outputs": [
    {
     "data": {
      "text/plain": [
       "True"
      ]
     },
     "execution_count": 56,
     "metadata": {},
     "output_type": "execute_result"
    }
   ],
   "source": [
    "contains(\"nick\")"
   ]
  },
  {
   "cell_type": "code",
   "execution_count": 65,
   "metadata": {},
   "outputs": [
    {
     "data": {
      "text/plain": [
       "False"
      ]
     },
     "execution_count": 65,
     "metadata": {},
     "output_type": "execute_result"
    }
   ],
   "source": [
    "contains(\"nicks\")"
   ]
  },
  {
   "cell_type": "code",
   "execution_count": 66,
   "metadata": {},
   "outputs": [],
   "source": [
    "def get_index(name):\n",
    "    index = hash_function(name)\n",
    "    if l[index] == name:\n",
    "        return index\n",
    "    else: \n",
    "        return -1"
   ]
  },
  {
   "cell_type": "code",
   "execution_count": 69,
   "metadata": {},
   "outputs": [
    {
     "data": {
      "text/plain": [
       "1"
      ]
     },
     "execution_count": 69,
     "metadata": {},
     "output_type": "execute_result"
    }
   ],
   "source": [
    "get_index(\"nick\")"
   ]
  },
  {
   "cell_type": "code",
   "execution_count": 70,
   "metadata": {},
   "outputs": [
    {
     "data": {
      "text/plain": [
       "-1"
      ]
     },
     "execution_count": 70,
     "metadata": {},
     "output_type": "execute_result"
    }
   ],
   "source": [
    "get_index(\"nicks\")"
   ]
  },
  {
   "cell_type": "code",
   "execution_count": 82,
   "metadata": {},
   "outputs": [],
   "source": [
    "class HashMap: \n",
    "    def __init__(self, array_size):\n",
    "        self.array_size = array_size\n",
    "        self.array = [None for item in range(array_size)]\n",
    "    \n",
    "    def contains(self, name):\n",
    "        index = hash_function(name)\n",
    "        return self.array[index] == name\n",
    "    \n",
    "    def get_index(self, name):\n",
    "        index = hash_function(name)\n",
    "        if self.array[index] == name:\n",
    "            return index\n",
    "        else: \n",
    "            return -1\n",
    "        \n",
    "    def hash_function(self, value):\n",
    "        sum_of_chars = 0\n",
    "        for char in value:\n",
    "            sum_of_chars += ord(char)\n",
    "\n",
    "        return sum_of_chars % self.array_size\n",
    "    \n",
    "    def assign(self, value):\n",
    "        array_index = self.hash_function(value)\n",
    "        self.array[array_index] = value\n",
    "    \n",
    "    def print(self):\n",
    "        for item in range(self.array_size):\n",
    "            print(self.array[item], end = \", \")"
   ]
  },
  {
   "cell_type": "code",
   "execution_count": 83,
   "metadata": {},
   "outputs": [
    {
     "name": "stdout",
     "output_type": "stream",
     "text": [
      "None, nick, None, None, Nick, "
     ]
    }
   ],
   "source": [
    "hash_map = HashMap(5)\n",
    "\n",
    "hash_map.assign(\"nick\")\n",
    "hash_map.assign(\"Nick\")\n",
    "\n",
    "hash_map.print()"
   ]
  },
  {
   "cell_type": "markdown",
   "metadata": {},
   "source": [
    "## Now let's consider a colliding case: "
   ]
  },
  {
   "cell_type": "code",
   "execution_count": 54,
   "metadata": {},
   "outputs": [
    {
     "name": "stdout",
     "output_type": "stream",
     "text": [
      "S : 83\n",
      "a : 97\n",
      "m : 109\n",
      "ASCII sum for Sam = 289\n"
     ]
    }
   ],
   "source": [
    "name = \"Sam\"\n",
    "sum = 0\n",
    "for char in name: \n",
    "    print(char, \":\", ord(char))\n",
    "    sum += ord(char)\n",
    "print(\"ASCII sum for\", name, \"=\", sum)"
   ]
  },
  {
   "cell_type": "code",
   "execution_count": 7,
   "metadata": {},
   "outputs": [
    {
     "data": {
      "text/plain": [
       "4"
      ]
     },
     "execution_count": 7,
     "metadata": {},
     "output_type": "execute_result"
    }
   ],
   "source": [
    "289 % 5 "
   ]
  },
  {
   "cell_type": "code",
   "execution_count": 38,
   "metadata": {},
   "outputs": [
    {
     "data": {
      "text/plain": [
       "4"
      ]
     },
     "execution_count": 38,
     "metadata": {},
     "output_type": "execute_result"
    }
   ],
   "source": [
    "hash_function(\"Sam\")"
   ]
  },
  {
   "cell_type": "markdown",
   "metadata": {},
   "source": [
    "Is there a problem? Do we already have a name stored at position 4? "
   ]
  },
  {
   "cell_type": "code",
   "execution_count": 84,
   "metadata": {},
   "outputs": [
    {
     "name": "stdout",
     "output_type": "stream",
     "text": [
      "None, nick, None, None, Sam, "
     ]
    }
   ],
   "source": [
    "hash_map = HashMap(5)\n",
    "\n",
    "hash_map.assign(\"nick\")\n",
    "hash_map.assign(\"Nick\")\n",
    "hash_map.assign(\"Sam\")\n",
    "\n",
    "hash_map.print()"
   ]
  },
  {
   "cell_type": "markdown",
   "metadata": {},
   "source": [
    "Oh dear... how do we go about resolving this collision? "
   ]
  },
  {
   "cell_type": "markdown",
   "metadata": {},
   "source": [
    "## Handling Collisions\n",
    "\n",
    "With a reduced number of spaces available, hashing methods will return the same remainder for some modulus operations. This means that two (or more) items will be competing for the same element in the data structure.\n",
    "\n",
    "There are regarded to be two approaches to resolving collisions: \n",
    "\n",
    "* <b>Open Addressing</b>\n",
    "\n",
    "* <b>Separate Chaining</b>\n",
    "\n"
   ]
  },
  {
   "cell_type": "markdown",
   "metadata": {},
   "source": [
    "## Handling Collisions - Closed Chaining \n",
    "\n",
    "* Typically involves creating a <b>linked list</b> at the position where elements colide. \n",
    "\n",
    "* This preserves the $O(1)$ element access time, but would require $O(n)$ to navigate the list to find the specific value.\n",
    "\n",
    "* Notice below how a linked list is created at positions which have the same hash:\n",
    "\n",
    "![hash_linked_collision](https://d18l82el6cdm1i.cloudfront.net/uploads/34EvJ7agjl-hash_table.gif)"
   ]
  },
  {
   "cell_type": "markdown",
   "metadata": {},
   "source": [
    "## Let's bring back our Linked List so we can instantiate a new list at a colliding element"
   ]
  },
  {
   "cell_type": "code",
   "execution_count": 91,
   "metadata": {},
   "outputs": [],
   "source": [
    "class Node:\n",
    "    def __init__(self, value, next_node=None):\n",
    "        self.value = value\n",
    "        self.next_node = next_node\n",
    "    \n",
    "    def get_value(self):\n",
    "        return self.value\n",
    "    \n",
    "    def get_next_node(self):\n",
    "        return self.next_node\n",
    "    \n",
    "    def set_next_node(self, next_node):\n",
    "        self.next_node = next_node"
   ]
  },
  {
   "cell_type": "code",
   "execution_count": 92,
   "metadata": {},
   "outputs": [],
   "source": [
    "class LinkedList:\n",
    "    def __init__(self, value=None):\n",
    "        self.head_node = Node(value)\n",
    "        \n",
    "    def get_head_node(self):\n",
    "        return self.head_node\n",
    "    \n",
    "    def prepend(self, new_value):\n",
    "        new_node = Node(new_value)\n",
    "        new_node.set_next_node(self.head_node)\n",
    "        self.head_node = new_node\n",
    "    \n",
    "    def append(self, new_value):\n",
    "        \"\"\" Our append algorithm that we wrote above! \"\"\"\n",
    "        new_node = Node(new_value)\n",
    "        \n",
    "        head = self.head_node # first\n",
    "        current = head # current is going to change\n",
    "\n",
    "        # we need to loop to the last node in the list (before None)\n",
    "        while current.next_node != None: \n",
    "            current = current.next_node\n",
    "    \n",
    "        # print(current.get_value()) #for checking purposes - remove once checked\n",
    "        current.set_next_node(new_node) # the append statement!\n",
    "    \n",
    "    def stringify_list(self):\n",
    "        string_list = \"\"\n",
    "        current_node = self.get_head_node()\n",
    "        while current_node:    # == True\n",
    "            if current_node.get_value() != None:\n",
    "                string_list += str(current_node.get_value()) + \"\\n\"\n",
    "            current_node = current_node.get_next_node()\n",
    "        return string_list\n",
    "\n",
    "    def print(self):\n",
    "        \"\"\" Our linked print algorithm that we wrote above! \"\"\"\n",
    "        head = self.head_node  # first\n",
    "        current = head # current is going to change\n",
    "\n",
    "        while current != None: \n",
    "            print(current.get_value(), end = \" -> \")\n",
    "            current = current.next_node\n",
    "        \n",
    "        print(None) ## finish with null pointer\n",
    "            \n",
    "    def remove_node(self, value_to_remove):\n",
    "        current_node = self.get_head_node()\n",
    "        if current_node.get_value() == value_to_remove:\n",
    "            self.head_node = current_node.get_next_node()\n",
    "        else:\n",
    "            while current_node:   # == True\n",
    "                next_node = current_node.get_next_node()\n",
    "                if next_node.get_value() == value_to_remove:\n",
    "                    current_node.set_next_node(next_node.get_next_node())\n",
    "                    current_node = None\n",
    "                else:\n",
    "                    current_node = next_node"
   ]
  },
  {
   "cell_type": "code",
   "execution_count": 85,
   "metadata": {},
   "outputs": [
    {
     "name": "stdout",
     "output_type": "stream",
     "text": [
      "None, nick, None, None, Nick, "
     ]
    }
   ],
   "source": [
    "hash_map = HashMap(5)\n",
    "\n",
    "hash_map.assign(\"nick\")\n",
    "hash_map.assign(\"Nick\")\n",
    "\n",
    "hash_map.print()"
   ]
  },
  {
   "cell_type": "code",
   "execution_count": 15,
   "metadata": {},
   "outputs": [
    {
     "data": {
      "text/plain": [
       "[None, 'nick', None, None, 'Nick']"
      ]
     },
     "execution_count": 15,
     "metadata": {},
     "output_type": "execute_result"
    }
   ],
   "source": [
    "l"
   ]
  },
  {
   "cell_type": "code",
   "execution_count": 16,
   "metadata": {},
   "outputs": [],
   "source": [
    "l[4] = \"Nick\""
   ]
  },
  {
   "cell_type": "code",
   "execution_count": 17,
   "metadata": {},
   "outputs": [
    {
     "data": {
      "text/plain": [
       "'Nick'"
      ]
     },
     "execution_count": 17,
     "metadata": {},
     "output_type": "execute_result"
    }
   ],
   "source": [
    "l[4]"
   ]
  },
  {
   "cell_type": "code",
   "execution_count": 18,
   "metadata": {},
   "outputs": [
    {
     "data": {
      "text/plain": [
       "4"
      ]
     },
     "execution_count": 18,
     "metadata": {},
     "output_type": "execute_result"
    }
   ],
   "source": [
    "289 % 5 # Sam"
   ]
  },
  {
   "cell_type": "code",
   "execution_count": 19,
   "metadata": {},
   "outputs": [],
   "source": [
    "pos = 289 % 5 # 'Sam'\n",
    "if l[pos] != None: #if already populated\n",
    "    new_ll = LinkedList(l[pos]) #add existing item to a new linked list\n",
    "    new_ll.append(\"Sam\") # append the new node - in this example 'Sam' to the list\n",
    "    l[pos] = new_ll # assign the new linked list at this position\n",
    "    "
   ]
  },
  {
   "cell_type": "code",
   "execution_count": 20,
   "metadata": {},
   "outputs": [
    {
     "name": "stdout",
     "output_type": "stream",
     "text": [
      "Nick -> Sam -> None\n"
     ]
    }
   ],
   "source": [
    "new_ll.print()"
   ]
  },
  {
   "cell_type": "code",
   "execution_count": 21,
   "metadata": {},
   "outputs": [
    {
     "data": {
      "text/plain": [
       "[None, 'nick', None, None, <__main__.LinkedList at 0x109d062b0>]"
      ]
     },
     "execution_count": 21,
     "metadata": {},
     "output_type": "execute_result"
    }
   ],
   "source": [
    "l"
   ]
  },
  {
   "cell_type": "code",
   "execution_count": 22,
   "metadata": {},
   "outputs": [
    {
     "name": "stdout",
     "output_type": "stream",
     "text": [
      "Nick -> Sam -> None\n"
     ]
    }
   ],
   "source": [
    "l[4].print()"
   ]
  },
  {
   "cell_type": "markdown",
   "metadata": {},
   "source": [
    "## HashMap with Closed Chaining: "
   ]
  },
  {
   "cell_type": "code",
   "execution_count": 148,
   "metadata": {},
   "outputs": [],
   "source": [
    "class HashMap: \n",
    "    def __init__(self, array_size):\n",
    "        self.array_size = array_size\n",
    "        self.array = [None for item in range(array_size)]\n",
    "    \n",
    "    def contains(self, name):\n",
    "        index = hash_function(name)\n",
    "        return self.array[index] == name\n",
    "    \n",
    "    def get_index(self, name):\n",
    "        index = hash_function(name)\n",
    "        if self.array[index] == name:\n",
    "            return index\n",
    "        elif isinstance(self.array[index], LinkedList): # check to see if the element is a list\n",
    "            current_node = self.array[index].get_head_node()\n",
    "            while current_node.get_value() != name:    # == True\n",
    "                current_node = current_node.get_next_node()\n",
    "            #return current_node.get_value() # for value \n",
    "            return index # for index\n",
    "        else: \n",
    "            return -1\n",
    "        \n",
    "    def hash_function(self, value):\n",
    "        sum_of_chars = 0\n",
    "        for char in value:\n",
    "            sum_of_chars += ord(char)\n",
    "\n",
    "        return sum_of_chars % self.array_size\n",
    "\n",
    "# AMENDED assign to implement OPEN ADDRESSING:     \n",
    "    def assign(self, value):\n",
    "        array_index = self.hash_function(value)\n",
    "        #self.array[array_index] = value\n",
    "        \n",
    "        if self.array[array_index] != None: #if already populated\n",
    "            new_ll = LinkedList(self.array[array_index]) #add existing item to a new linked list\n",
    "            new_ll.append(value) # append the new node - in this example 'Sam' to the list\n",
    "            self.array[array_index] = new_ll # assign the new linked list at this position\n",
    "        else: \n",
    "            self.array[array_index] = value\n",
    "    \n",
    "    def print(self):\n",
    "        for item in range(self.array_size):\n",
    "            if isinstance(self.array[item], LinkedList): # check to see if the element is a list\n",
    "                self.array[item].print()\n",
    "            else: \n",
    "                print(self.array[item], end = \", \")\n",
    "                \n",
    "    def retrieve(self, value): #\n",
    "        return self.array[get_index(value)]"
   ]
  },
  {
   "cell_type": "code",
   "execution_count": 149,
   "metadata": {},
   "outputs": [
    {
     "name": "stdout",
     "output_type": "stream",
     "text": [
      "None, nick, None, None, Nick -> Sam -> None\n"
     ]
    }
   ],
   "source": [
    "hash_map = HashMap(5)\n",
    "\n",
    "hash_map.assign(\"nick\")\n",
    "hash_map.assign(\"Nick\")\n",
    "hash_map.assign(\"Sam\")\n",
    "\n",
    "hash_map.print()"
   ]
  },
  {
   "cell_type": "code",
   "execution_count": 150,
   "metadata": {},
   "outputs": [
    {
     "data": {
      "text/plain": [
       "4"
      ]
     },
     "execution_count": 150,
     "metadata": {},
     "output_type": "execute_result"
    }
   ],
   "source": [
    "hash_map.get_index(\"Nick\")"
   ]
  },
  {
   "cell_type": "code",
   "execution_count": 151,
   "metadata": {},
   "outputs": [
    {
     "data": {
      "text/plain": [
       "<__main__.LinkedList at 0x1054a6820>"
      ]
     },
     "execution_count": 151,
     "metadata": {},
     "output_type": "execute_result"
    }
   ],
   "source": [
    "hash_map.retrieve(\"Nick\")"
   ]
  },
  {
   "cell_type": "markdown",
   "metadata": {},
   "source": [
    "## Handling Collisions - Open Addressing \n",
    "\n",
    "* The Open Addressing technique works by finding an available space in the data structrue and placing the colliding element in this available space.\n",
    "\n",
    "* Linear Probing \n",
    "\n",
    "* Quadratic Probing \n",
    "\n",
    "* Double Hashing "
   ]
  },
  {
   "cell_type": "markdown",
   "metadata": {},
   "source": [
    "### Linear Probing \n",
    "\n",
    "* Starts with a hash function, then iterates until the next available space. \n",
    "\n",
    "* Best case: only a few iterations after the O(1) hash function. \n",
    "\n",
    "* Worst case: could lead to clustering, due to more collisions (taking other unique hash spaces)"
   ]
  },
  {
   "cell_type": "markdown",
   "metadata": {},
   "source": [
    "\n",
    "<img src=\"https://scaler.com/topics/images/open-hashing.webp\" alt=\"linear_vs_quad\" width=\"650\"> "
   ]
  },
  {
   "cell_type": "markdown",
   "metadata": {},
   "source": [
    "## Linear probing\n"
   ]
  },
  {
   "cell_type": "code",
   "execution_count": null,
   "metadata": {},
   "outputs": [],
   "source": [
    "def assign(self, value):\n",
    "    array_index = self.hash_function(value)\n",
    "    #self.array[array_index] = value\n",
    "    \n",
    "    if self.array[array_index] != None: #if already populated\n",
    "        for i in range (array_index, len(self.array)):\n",
    "            array_index += 1\n",
    "            if array_index == self.array_size: \n",
    "                array_index = 0\n",
    "            if self.array[array_index] != None: #if already populated\n",
    "                pass # skip\n",
    "            else:\n",
    "                self.array[array_index] = value # populate next available space    \n",
    "    else: \n",
    "        self.array[array_index] = value"
   ]
  },
  {
   "cell_type": "code",
   "execution_count": null,
   "metadata": {},
   "outputs": [],
   "source": [
    "class HashMap: \n",
    "    def __init__(self, array_size):\n",
    "        self.array_size = array_size\n",
    "        self.array = [None for item in range(array_size)]\n",
    "    \n",
    "    def contains(self, name):\n",
    "        index = hash_function(name)\n",
    "        return self.array[index] == name\n",
    "    \n",
    "    def get_index(self, name):\n",
    "        index = hash_function(name)\n",
    "        if self.array[index] == name:\n",
    "            return index\n",
    "        elif isinstance(self.array[index], LinkedList): # check to see if the element is a list\n",
    "            current_node = self.array[index].get_head_node()\n",
    "            while current_node.get_value() != name:    # == True\n",
    "                current_node = current_node.get_next_node()\n",
    "            #return current_node.get_value() # for value \n",
    "            return index # for index\n",
    "        else: \n",
    "            return -1\n",
    "        \n",
    "    def hash_function(self, value):\n",
    "        sum_of_chars = 0\n",
    "        for char in value:\n",
    "            sum_of_chars += ord(char)\n",
    "\n",
    "        return sum_of_chars % self.array_size\n",
    "\n",
    "# AMENDED assign to implement LINEAR PROBING:    \n",
    "    def assign(self, value):\n",
    "        array_index = self.hash_function(value)\n",
    "        #self.array[array_index] = value\n",
    "        \n",
    "        if self.array[array_index] != None: #if already populated\n",
    "            for i in range (array_index, len(self.array)):\n",
    "                array_index += 1\n",
    "                if array_index == self.array_size: \n",
    "                    array_index = 0\n",
    "                if self.array[array_index] != None: #if already populated\n",
    "                    pass # skip\n",
    "                else:\n",
    "                    self.array[array_index] = value # populate next available space    \n",
    "        else: \n",
    "            self.array[array_index] = value\n",
    "### need to change this    \n",
    "    def print(self):\n",
    "        for item in range(self.array_size):\n",
    "            if isinstance(self.array[item], LinkedList): # check to see if the element is a list\n",
    "                self.array[item].print()\n",
    "            else: \n",
    "                print(self.array[item], end = \", \")\n",
    "                \n",
    "    def retrieve(self, value): #\n",
    "        return self.array[get_index(value)]"
   ]
  },
  {
   "cell_type": "code",
   "execution_count": 181,
   "metadata": {},
   "outputs": [
    {
     "name": "stdout",
     "output_type": "stream",
     "text": [
      "Sam, nick, None, None, Nick, "
     ]
    }
   ],
   "source": [
    "hash_map = HashMap(5)\n",
    "\n",
    "hash_map.assign(\"nick\")\n",
    "hash_map.assign(\"Nick\")\n",
    "hash_map.assign(\"Sam\")\n",
    "\n",
    "hash_map.print()"
   ]
  },
  {
   "cell_type": "markdown",
   "metadata": {},
   "source": [
    "## Quadratic Probing: \n",
    "\n",
    "* Increasing intervals (1^2, 2^2, 3^3 etc)\n",
    "\n",
    "* Best case: more unique positions - prevents clustering \n",
    "\n",
    "* Worst case: values end up quite far away from their unique hash value. \n",
    "\n",
    "<img src=\"https://scaler.com/topics/images/open-hashing.webp\" alt=\"linear_vs_quad\" width=\"650\"> \n"
   ]
  },
  {
   "cell_type": "markdown",
   "metadata": {},
   "source": [
    "Remember that we've seen quadratic scaling before? \n",
    "\n",
    "* $O(n) \\times O(n) = O(n^2)$"
   ]
  },
  {
   "cell_type": "code",
   "execution_count": 158,
   "metadata": {},
   "outputs": [
    {
     "data": {
      "text/plain": [
       "1"
      ]
     },
     "execution_count": 158,
     "metadata": {},
     "output_type": "execute_result"
    }
   ],
   "source": [
    "1 ** 2"
   ]
  },
  {
   "cell_type": "code",
   "execution_count": 159,
   "metadata": {},
   "outputs": [
    {
     "data": {
      "text/plain": [
       "4"
      ]
     },
     "execution_count": 159,
     "metadata": {},
     "output_type": "execute_result"
    }
   ],
   "source": [
    "2 ** 2"
   ]
  },
  {
   "cell_type": "code",
   "execution_count": 160,
   "metadata": {},
   "outputs": [
    {
     "data": {
      "text/plain": [
       "9"
      ]
     },
     "execution_count": 160,
     "metadata": {},
     "output_type": "execute_result"
    }
   ],
   "source": [
    "3 ** 2"
   ]
  },
  {
   "cell_type": "code",
   "execution_count": 161,
   "metadata": {},
   "outputs": [
    {
     "name": "stdout",
     "output_type": "stream",
     "text": [
      "0\n",
      "1\n",
      "4\n",
      "9\n",
      "16\n",
      "25\n",
      "36\n",
      "49\n",
      "64\n",
      "81\n"
     ]
    }
   ],
   "source": [
    "for i in range (0,10):\n",
    "    print(i ** 2)"
   ]
  },
  {
   "cell_type": "code",
   "execution_count": null,
   "metadata": {},
   "outputs": [],
   "source": [
    "def assign(self, value):\n",
    "    array_index = self.hash_function(value)\n",
    "    #self.array[array_index] = value\n",
    "    \n",
    "    if self.array[array_index] != None: #if already populated\n",
    "        i = 0\n",
    "        while True:\n",
    "            array_index += (i ** 2)\n",
    "            if array_index >= self.array_size: \n",
    "                array_index = array_index % self.array_size\n",
    "            if self.array[array_index] != None: #if already populated\n",
    "                i += 1\n",
    "                pass\n",
    "            else:\n",
    "                break\n",
    "        self.array[array_index] = value # populate next available space    \n",
    "    else: \n",
    "        self.array[array_index] = value"
   ]
  },
  {
   "cell_type": "code",
   "execution_count": 205,
   "metadata": {},
   "outputs": [],
   "source": [
    "class HashMap: \n",
    "    def __init__(self, array_size):\n",
    "        self.array_size = array_size\n",
    "        self.array = [None for item in range(array_size)]\n",
    "    \n",
    "    def contains(self, name):\n",
    "        index = hash_function(name)\n",
    "        return self.array[index] == name\n",
    "    \n",
    "    def get_index(self, name):\n",
    "        index = hash_function(name)\n",
    "        if self.array[index] == name:\n",
    "            return index\n",
    "        elif isinstance(self.array[index], LinkedList): # check to see if the element is a list\n",
    "            current_node = self.array[index].get_head_node()\n",
    "            while current_node.get_value() != name:    # == True\n",
    "                current_node = current_node.get_next_node()\n",
    "            #return current_node.get_value() # for value \n",
    "            return index # for index\n",
    "        else: \n",
    "            return -1\n",
    "        \n",
    "    def hash_function(self, value):\n",
    "        sum_of_chars = 0\n",
    "        for char in value:\n",
    "            sum_of_chars += ord(char)\n",
    "\n",
    "        return sum_of_chars % self.array_size\n",
    "\n",
    "# AMENDED assign to implement LINEAR PROBING:    \n",
    "    def assign(self, value):\n",
    "        array_index = self.hash_function(value)\n",
    "        #self.array[array_index] = value\n",
    "        \n",
    "        if self.array[array_index] != None: #if already populated\n",
    "            i = 0\n",
    "            while True:\n",
    "                array_index += (i ** 2)\n",
    "                if array_index >= self.array_size: \n",
    "                    array_index = array_index % self.array_size\n",
    "                if self.array[array_index] != None: #if already populated\n",
    "                    i += 1\n",
    "                    pass\n",
    "                else:\n",
    "                    break\n",
    "            self.array[array_index] = value # populate next available space    \n",
    "        else: \n",
    "            self.array[array_index] = value\n",
    "### need to change this    \n",
    "    def print(self):\n",
    "        for item in range(self.array_size):\n",
    "            if isinstance(self.array[item], LinkedList): # check to see if the element is a list\n",
    "                self.array[item].print()\n",
    "            else: \n",
    "                print(self.array[item], end = \", \")\n",
    "                \n",
    "    def retrieve(self, value): #\n",
    "        return self.array[get_index(value)]"
   ]
  },
  {
   "cell_type": "code",
   "execution_count": 206,
   "metadata": {},
   "outputs": [
    {
     "name": "stdout",
     "output_type": "stream",
     "text": [
      "Sam, nick, None, None, Nick, "
     ]
    }
   ],
   "source": [
    "hash_map = HashMap(5)\n",
    "\n",
    "hash_map.assign(\"nick\")\n",
    "hash_map.assign(\"Nick\")\n",
    "hash_map.assign(\"Sam\")\n",
    "\n",
    "hash_map.print()"
   ]
  },
  {
   "cell_type": "markdown",
   "metadata": {},
   "source": [
    "## Prime / Double Hashing \n",
    "\n",
    "* Two separate hash functions - to find a unique position. \n",
    "\n",
    "\t1.\tPrimary hash function to determine the initial index.\n",
    "\t\n",
    "\t2.\tSecondary hash function to calculate the “step” size for probing in case of a collision.\n",
    "\n",
    "* The probe sequence for a key  k  is:\n",
    "\n",
    "\t* $\\text{index} = (\\text{primary\\_hash}(k) + i \\times \\text{secondary\\_hash}(k)) \\% \\text{capacity}$\n",
    "\n",
    "* where  i  is the number of times a collision has occurred.\n",
    "\n",
    "* smaller probability of achieving the same hash value across two different functions. \n",
    "\n",
    "<img src=\"https://scaler-topics-articles-md.s3.us-west-2.amazonaws.com/double-hashing-in-data-structure.gif\" alt=\"linear_vs_quad\" width=\"650\"> "
   ]
  },
  {
   "cell_type": "code",
   "execution_count": null,
   "metadata": {},
   "outputs": [],
   "source": [
    "def primary_hash(self, key):\n",
    "    return hash(key) % self.capacity\n",
    "\n",
    "def secondary_hash(self, key):\n",
    "    # Secondary hash function for double hashing\n",
    "    return 1 + (hash(key) % (self.capacity - 2))"
   ]
  },
  {
   "cell_type": "code",
   "execution_count": null,
   "metadata": {},
   "outputs": [],
   "source": [
    "def assign(self, value):\n",
    "    key = self.hash_function(value)\n",
    "    array_index = self.hash_function(value)\n",
    "    #self.array[array_index] = value\n",
    "    \n",
    "    array_index = self.primary_hash(value)\n",
    "    step = self.secondary_hash(value)\n",
    "    i = 0\n",
    "\n",
    "    # Double hashing probe sequence\n",
    "    while self.array[(array_index + i * step) % self.array_size] is not None:\n",
    "        existing_key, _ = self.array[(array_index + i * step) % self.array_size]\n",
    "        if existing_key == key:  # Update existing key\n",
    "            self.array[(array_index + i * step) % self.array_size] = (key, value)\n",
    "            return\n",
    "        i += 1  # Increment probe step\n",
    "\n",
    "    # Insert new key-value pair\n",
    "    self.array[(array_index + i * step) % self.array_size] = (key, value)\n",
    "    self.array_size += 1"
   ]
  },
  {
   "cell_type": "code",
   "execution_count": null,
   "metadata": {},
   "outputs": [],
   "source": []
  },
  {
   "cell_type": "code",
   "execution_count": null,
   "metadata": {},
   "outputs": [],
   "source": [
    "class HashMap: \n",
    "    def __init__(self, array_size):\n",
    "        self.array_size = array_size\n",
    "        self.array = [None for item in range(array_size)]\n",
    "    \n",
    "    def contains(self, name):\n",
    "        index = hash_function(name)\n",
    "        return self.array[index] == name\n",
    "    \n",
    "    def get_index(self, name):\n",
    "        index = hash_function(name)\n",
    "        \n",
    "        if self.array[index] == name:\n",
    "            return index\n",
    "        elif isinstance(self.array[index], LinkedList): # check to see if the element is a list\n",
    "            current_node = self.array[index].get_head_node()\n",
    "            while current_node.get_value() != name:    # == True\n",
    "                current_node = current_node.get_next_node()\n",
    "            #return current_node.get_value() # for value \n",
    "            return index # for index\n",
    "        else: \n",
    "            return -1\n",
    "        \n",
    "    def hash_function(self, value):\n",
    "        sum_of_chars = 0\n",
    "        for char in value:\n",
    "            sum_of_chars += ord(char)\n",
    "\n",
    "        return sum_of_chars % self.array_size\n",
    "\n",
    "# AMENDED assign to implement LINEAR PROBING:    \n",
    "    def assign(self, value):\n",
    "        key = self.hash_function(value)\n",
    "        array_index = self.hash_function(value)\n",
    "        #self.array[array_index] = value\n",
    "        \n",
    "        array_index = self.primary_hash(value)\n",
    "        step = self.secondary_hash(value)\n",
    "        i = 0\n",
    "\n",
    "        # Double hashing probe sequence\n",
    "        while self.array[(array_index + i * step) % self.array_size] is not None:\n",
    "            existing_key, _ = self.array[(array_index + i * step) % self.array_size]\n",
    "            if existing_key == key:  # Update existing key\n",
    "                self.array[(array_index + i * step) % self.array_size] = (key, value)\n",
    "                return\n",
    "            i += 1  # Increment probe step\n",
    "\n",
    "        # Insert new key-value pair\n",
    "        self.array[(array_index + i * step) % self.array_size] = (key, value)\n",
    "        self.array_size += 1\n",
    "        \n",
    "### need to change this    \n",
    "    def print(self):\n",
    "        for item in range(self.array_size):\n",
    "            if isinstance(self.array[item], LinkedList): # check to see if the element is a list\n",
    "                self.array[item].print()\n",
    "            else: \n",
    "                print(self.array[item], end = \", \")\n",
    "                \n",
    "    def retrieve(self, value): #\n",
    "        return self.array[get_index(value)]"
   ]
  },
  {
   "cell_type": "code",
   "execution_count": null,
   "metadata": {},
   "outputs": [],
   "source": [
    "hash_map = HashMap(5)\n",
    "\n",
    "hash_map.assign(\"nick\")\n",
    "hash_map.assign(\"Nick\")\n",
    "hash_map.assign(\"Sam\")\n",
    "\n",
    "hash_map.print()"
   ]
  },
  {
   "cell_type": "markdown",
   "metadata": {},
   "source": [
    "## Summary \n",
    "\n",
    "* Hashing is the process of converting string values to numbers / hex\n",
    "\n",
    "* In a perfect hash map / table, where there are no collisions, lookup can be achieved in constant time $O(1)$\n",
    "\n",
    "* However, in reality, there are likely to be collisions in a structure of small size, and therefore these collisions have to be resolved. \n",
    "\n",
    "* Open addressing - find another free space in the structure \n",
    "\n",
    "* Closed chaining - create a linked list at the colliding space. "
   ]
  },
  {
   "cell_type": "markdown",
   "metadata": {},
   "source": [
    "## Exercise \n",
    "\n",
    "Set up a `HashMap` class with a hashing algorithm. Then instantiate this as a `contacts_list`. Add objects of a `Person` class, in which objects have a `name` and `phone_number` attribute. \n",
    "\n",
    "For each person object, store their position in the `contacts_list` by their `name`. \n",
    "\n",
    "Test that you can retrieve the phone number for the `Person` object, by searching via their `name`."
   ]
  },
  {
   "cell_type": "code",
   "execution_count": null,
   "metadata": {},
   "outputs": [],
   "source": []
  },
  {
   "cell_type": "markdown",
   "metadata": {},
   "source": [
    "## Exercise \n",
    "\n",
    "Now add duplicate names - what do you notice? \n",
    "\n",
    "Find a way to resolve these collisions via the closed chaining. "
   ]
  },
  {
   "cell_type": "code",
   "execution_count": null,
   "metadata": {},
   "outputs": [],
   "source": []
  },
  {
   "cell_type": "markdown",
   "metadata": {},
   "source": [
    "## Exercise\n",
    "\n",
    "Implement Open Addressing with Linear Probing "
   ]
  },
  {
   "cell_type": "code",
   "execution_count": null,
   "metadata": {},
   "outputs": [],
   "source": []
  },
  {
   "cell_type": "markdown",
   "metadata": {},
   "source": [
    "## Exercise \n",
    "\n",
    "Implement Open Addressing with Quadratic Probing "
   ]
  },
  {
   "cell_type": "code",
   "execution_count": null,
   "metadata": {},
   "outputs": [],
   "source": []
  },
  {
   "cell_type": "markdown",
   "metadata": {},
   "source": [
    "## Exercise \n",
    "\n",
    "Implement Open Addressing with Double Hashing"
   ]
  },
  {
   "cell_type": "code",
   "execution_count": null,
   "metadata": {},
   "outputs": [],
   "source": []
  },
  {
   "cell_type": "markdown",
   "metadata": {
    "slideshow": {
     "slide_type": "slide"
    }
   },
   "source": [
    "## Formative Exercises ##\n",
    "\n",
    "Insert a 'code' cell below. In this do the following:\n",
    "\n",
    "- 1 - Now instantiate the HashMap class above. Create a Person class that has attributes for first_name, second_name and phone_number, and appropriate methods that get, set and print values for these attributes. Now instantiate the HashMap class and add Person objects to the HashMap.\n",
    "- 2 - Extend the hash_map class to create a linked list in each element position where there is a collision. A colliding item should be added to the end of a linked list for that index position.\n",
    "\n",
    "\n",
    "\n",
    "* Exercise 1: Set up the hash table\n",
    "* \n",
    "* In Main above, replace the comments with code to set up the hashTable. \n",
    "* Then complete the hash_ function below which uses the 'division method' \n",
    "* to return an unique index value based on the key and tablesize passed in.\n",
    "* Once ready, in main, call the 'getPhoneNumber()' function, which for this example, will act as the 'key' (and value).\n",
    "* Then pass this 'key' to the hash_ function (along with tableSize) to return a unique index in which to store the phone number. \n",
    "* You should then assign the phone number to the hashTable in main at the index returned by hash_.\n",
    "* \n",
    "* Check this has been assigned correctly by uncommenting the call to the hash_ function within the subscript operator of the hashTable. \n",
    "*  \n",
    "*/\n",
    "\n",
    "/*\n",
    "* Exercise 2: String hashing\n",
    "* So now, let's choose a more meaningful key - a string which represents a name of a contact\n",
    "* You should see an overloaded 'hash_()' function below which takes a string as the key, in addition to the tableSize.\n",
    "* In this function, code an algorithm that will formulate a unique index position \n",
    "* based up on the ASCII values of each character in the string key.\n",
    "* Return this unique index and test that you can add a phone number for a name of a person to the HashTable, as well as retrieve it.\n",
    "* \n",
    "* Extension: Try adding a handful of names and phone numbers checking you can retrieve the right number for the right person. \n",
    "*/\n",
    "\n",
    "\n",
    "\n",
    "\n",
    "\n",
    "\n",
    "/*\n",
    "* Exercise 3: Open Addressing with probing techniques \n",
    "* To illustrate a collision, in main above, attempt to hash an identical name. This should return an identical index value.\n",
    "* You should notice that a new random phone number has been assigned, overwriting the previously stored number. \n",
    "* One method to resolve collisions like this would be to use open addressing. \n",
    "* You could amend the two hash functions that you have, or you could code a strategy in a function below, which is then called in both hash_ functions\n",
    "* Try linear, quadratic and prime probing strategies.\n",
    "* \n",
    "* In main, test that you can retrieve the right number for the adjusted position \n",
    "* calculated by the probing strategies.\n",
    "*/\n",
    "\n",
    "\n",
    "/* Exercise 4: Closed chaining \n",
    "* The other approach to resolving collisions could be to create a structured within the hashTable itself. \n",
    "* Now, because we've set up a array of primitive integers, it's not going to take \n",
    "* Therefore, consider how you could set up a wrapper class for your 'HashTable' which makes use of your LinkedList class\n",
    "* or alternatively to a LinkedList, you could use a vector instead. \n",
    "*\n",
    "* Add as many classes and/or functions as you need.  \n",
    "*\n",
    "* Question: what are the benefits and drawbacks of each approach? Which situations are they most suitable? \n",
    "*/\n",
    "\n",
    "\n",
    "\n",
    "![hashseparatechaining](http://algs4.cs.princeton.edu/34hash/images/separate-chaining.png)\n"
   ]
  }
 ],
 "metadata": {
  "celltoolbar": "Slideshow",
  "kernelspec": {
   "display_name": "Python 3",
   "language": "python",
   "name": "python3"
  },
  "language_info": {
   "codemirror_mode": {
    "name": "ipython",
    "version": 3
   },
   "file_extension": ".py",
   "mimetype": "text/x-python",
   "name": "python",
   "nbconvert_exporter": "python",
   "pygments_lexer": "ipython3",
   "version": "3.9.6"
  }
 },
 "nbformat": 4,
 "nbformat_minor": 4
}
