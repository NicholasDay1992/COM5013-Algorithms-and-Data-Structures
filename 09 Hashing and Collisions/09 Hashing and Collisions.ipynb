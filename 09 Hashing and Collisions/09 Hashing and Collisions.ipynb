{
 "cells": [
  {
   "cell_type": "markdown",
   "metadata": {},
   "source": [
    "<!--![pythonLogo.png](attachment:pythonLogo.png)-->\n",
    "\n",
    "# 09 Hashing\n"
   ]
  },
  {
   "cell_type": "markdown",
   "metadata": {},
   "source": [
    "## Plan for the Lecture \n",
    "\n",
    "* Introduction to Hashing and ASCII\n",
    "\n",
    "* Hashing algorithms\n",
    "\n",
    "* Collisions"
   ]
  },
  {
   "cell_type": "code",
   "execution_count": 3,
   "metadata": {},
   "outputs": [
    {
     "data": {
      "text/plain": [
       "65"
      ]
     },
     "execution_count": 3,
     "metadata": {},
     "output_type": "execute_result"
    }
   ],
   "source": [
    "ord('A')"
   ]
  },
  {
   "cell_type": "code",
   "execution_count": 2,
   "metadata": {},
   "outputs": [
    {
     "data": {
      "text/plain": [
       "97"
      ]
     },
     "execution_count": 2,
     "metadata": {},
     "output_type": "execute_result"
    }
   ],
   "source": [
    "ord('a')"
   ]
  },
  {
   "cell_type": "code",
   "execution_count": 19,
   "metadata": {},
   "outputs": [
    {
     "name": "stdout",
     "output_type": "stream",
     "text": [
      "N : 78\n",
      "i : 105\n",
      "c : 99\n",
      "k : 107\n",
      "ASCII sum for Nick = 389\n"
     ]
    }
   ],
   "source": [
    "name = 'Nick'\n",
    "sum = 0\n",
    "for char in name: \n",
    "    print(char, \":\", ord(char))\n",
    "    sum += ord(char)\n",
    "print(\"ASCII sum for\", name, \"=\", sum)"
   ]
  },
  {
   "cell_type": "code",
   "execution_count": 20,
   "metadata": {},
   "outputs": [
    {
     "name": "stdout",
     "output_type": "stream",
     "text": [
      "n : 110\n",
      "i : 105\n",
      "c : 99\n",
      "k : 107\n",
      "ASCII sum for nick = 421\n"
     ]
    }
   ],
   "source": [
    "name = \"nick\"\n",
    "sum = 0\n",
    "for char in name: \n",
    "    print(char, \":\", ord(char))\n",
    "    sum += ord(char)\n",
    "print(\"ASCII sum for\", name, \"=\", sum)"
   ]
  },
  {
   "cell_type": "code",
   "execution_count": 21,
   "metadata": {},
   "outputs": [
    {
     "data": {
      "text/plain": [
       "False"
      ]
     },
     "execution_count": 21,
     "metadata": {},
     "output_type": "execute_result"
    }
   ],
   "source": [
    "\"Nick\" == \"nick\""
   ]
  },
  {
   "cell_type": "code",
   "execution_count": 18,
   "metadata": {},
   "outputs": [
    {
     "data": {
      "text/plain": [
       "True"
      ]
     },
     "execution_count": 18,
     "metadata": {},
     "output_type": "execute_result"
    }
   ],
   "source": [
    "\"Nick\" == \"Nick\""
   ]
  },
  {
   "cell_type": "markdown",
   "metadata": {},
   "source": [
    "## Python dictionaries (`dict`) use hashing\n",
    "\n",
    "* Dictionaries use hashing for their keys to allow efficient lookups, but the values themselves are stored as they are. \n",
    "\n",
    "* The internal hashing of dictionary keys is handled by Python’s hashing mechanism and is not exposed directly."
   ]
  },
  {
   "cell_type": "code",
   "execution_count": 22,
   "metadata": {},
   "outputs": [
    {
     "data": {
      "text/plain": [
       "{'Nick': 56, 'Sam': 67, 'Lucy': 61, 'Tino': 71}"
      ]
     },
     "execution_count": 22,
     "metadata": {},
     "output_type": "execute_result"
    }
   ],
   "source": [
    "d = {\"Nick\" : 56, \"Sam\": 67, \"Lucy\": 61, \"Tino\": 71}\n",
    "d"
   ]
  },
  {
   "cell_type": "code",
   "execution_count": 31,
   "metadata": {},
   "outputs": [
    {
     "data": {
      "text/plain": [
       "56"
      ]
     },
     "execution_count": 31,
     "metadata": {},
     "output_type": "execute_result"
    }
   ],
   "source": [
    "d[\"Nick\"]"
   ]
  },
  {
   "cell_type": "code",
   "execution_count": 42,
   "metadata": {},
   "outputs": [
    {
     "data": {
      "text/plain": [
       "-8040880066191665653"
      ]
     },
     "execution_count": 42,
     "metadata": {},
     "output_type": "execute_result"
    }
   ],
   "source": [
    "hash(\"Nick\")"
   ]
  },
  {
   "cell_type": "code",
   "execution_count": 36,
   "metadata": {},
   "outputs": [
    {
     "name": "stdout",
     "output_type": "stream",
     "text": [
      "{'Nick': -8040880066191665653, 'Sam': -7729753638879594802, 'Lucy': 6614073294121365487, 'Tino': -8816718471250138643}\n"
     ]
    }
   ],
   "source": [
    "hashes = {key: hash(key) for key in d}\n",
    "print(hashes)"
   ]
  },
  {
   "cell_type": "code",
   "execution_count": 38,
   "metadata": {},
   "outputs": [
    {
     "ename": "KeyError",
     "evalue": "8040880066191665653",
     "output_type": "error",
     "traceback": [
      "\u001b[0;31m---------------------------------------------------------------------------\u001b[0m",
      "\u001b[0;31mKeyError\u001b[0m                                  Traceback (most recent call last)",
      "Cell \u001b[0;32mIn [38], line 1\u001b[0m\n\u001b[0;32m----> 1\u001b[0m d[\u001b[38;5;241m8040880066191665653\u001b[39m]\n",
      "\u001b[0;31mKeyError\u001b[0m: 8040880066191665653"
     ]
    }
   ],
   "source": [
    "d[8040880066191665653]"
   ]
  },
  {
   "cell_type": "markdown",
   "metadata": {},
   "source": [
    "# Hash Maps\n",
    "\n",
    "* Hash Maps allow users to search a data structure via characters instead of integer index positions. \n",
    "\n",
    "* A HashMap is similar to a dictionary - it operates on a key and value pairing. But we can build a HashMap class to manage the 'hashing' function. \n",
    "\n",
    "* The characters (string) are converted to integers by a process of 'hashing'. This hashing function will look up the ASCII value of each character. \n",
    "\n",
    "* Each integer value is then multiplied by its position in the string to achieve a unique number. These are added together to create a large number. \n",
    "\n",
    "* To prevent having to allocate a large number of elements, the modulo sign (%) calculates a smaller number to reduce the size of elements.\n",
    "\n",
    "\n",
    "\n",
    "![hash](https://d18l82el6cdm1i.cloudfront.net/uploads/34EvJ7agjl-hash_table.gif)"
   ]
  },
  {
   "cell_type": "code",
   "execution_count": null,
   "metadata": {},
   "outputs": [],
   "source": [
    "class HashMap:\n",
    "  def __init__(self, array_size):\n",
    "    self.array_size = array_size\n",
    "    self.array = [None for item in range(array_size)]\n",
    "\n",
    "  def hash(self, key):\n",
    "    key_bytes = key.encode()\n",
    "    hash_code = sum(key_bytes)\n",
    "    return hash_code\n",
    "\n",
    "  def compressor(self, hash_code):\n",
    "    return hash_code % self.array_size\n",
    "\n",
    "  def assign(self, key, value):\n",
    "    array_index = self.compressor(self.hash(key))\n",
    "    self.array[array_index] = value\n",
    "\n",
    "  def retrieve(self, key):\n",
    "    array_index = self.compressor(self.hash(key))\n",
    "    return self.array[array_index]"
   ]
  },
  {
   "cell_type": "code",
   "execution_count": null,
   "metadata": {},
   "outputs": [],
   "source": [
    "hash_map = HashMap(20)\n",
    "hash_map.assign('gneiss', 'metamorphic')\n",
    "print(hash_map.retrieve('gneiss'))"
   ]
  },
  {
   "cell_type": "markdown",
   "metadata": {},
   "source": [
    "# Handling Collisions - Open Addressing\n",
    "\n",
    "With a reduced number of spaces available, hashing methods will return the same remainder for some modulus operations. This means that two (or more) items will be competing for the same element in the data structure.\n",
    "\n",
    "There are regarded to be two approaches to resolving collisions: \n",
    "- Open Addressing \n",
    "- Separate Chaining\n",
    "\n",
    "The Open Addressing technique works by finding an available space in the data structrue and placing the colliding element in this available space."
   ]
  },
  {
   "cell_type": "code",
   "execution_count": null,
   "metadata": {},
   "outputs": [],
   "source": [
    "class HashMap:\n",
    "  def __init__(self, array_size):\n",
    "    self.array_size = array_size\n",
    "    self.array = [None for item in range(array_size)]\n",
    "\n",
    "  def hash(self, key, count_collisions=0):\n",
    "    key_bytes = key.encode()\n",
    "    hash_code = sum(key_bytes)\n",
    "    return hash_code + count_collisions\n",
    "\n",
    "  def compressor(self, hash_code):\n",
    "    return hash_code % self.array_size\n",
    "\n",
    "  def assign(self, key, value):\n",
    "    array_index = self.compressor(self.hash(key))\n",
    "    current_array_value = self.array[array_index]\n",
    "\n",
    "    if current_array_value is None:\n",
    "      self.array[array_index] = [key, value]\n",
    "      return\n",
    "\n",
    "    if current_array_value[0] == key:\n",
    "      self.array[array_index] = [key, value]\n",
    "      return\n",
    "\n",
    "    # Collision!\n",
    "\n",
    "    number_collisions = 1\n",
    "\n",
    "    while(current_array_value[0] != key):\n",
    "      new_hash_code = self.hash(key, number_collisions)\n",
    "      new_array_index = self.compressor(new_hash_code)\n",
    "      current_array_value = self.array[new_array_index]\n",
    "\n",
    "      if current_array_value is None:\n",
    "        self.array[new_array_index] = [key, value]\n",
    "        return\n",
    "\n",
    "      if current_array_value[0] == key:\n",
    "        self.array[new_array_index] = [key, value]\n",
    "        return\n",
    "\n",
    "      number_collisions += 1\n",
    "\n",
    "    return\n",
    "\n",
    "  def retrieve(self, key):\n",
    "    array_index = self.compressor(self.hash(key))\n",
    "    possible_return_value = self.array[array_index]\n",
    "\n",
    "    if possible_return_value is None:\n",
    "      return None\n",
    "\n",
    "    if possible_return_value[0] == key:\n",
    "      return possible_return_value[1]\n",
    "\n",
    "    retrieval_collisions = 1\n",
    "\n",
    "    while (possible_return_value != key):\n",
    "      new_hash_code = self.hash(key, retrieval_collisions)\n",
    "      retrieving_array_index = self.compressor(new_hash_code)\n",
    "      possible_return_value = self.array[retrieving_array_index]\n",
    "\n",
    "      if possible_return_value is None:\n",
    "        return None\n",
    "\n",
    "      if possible_return_value[0] == key:\n",
    "        return possible_return_value[1]\n",
    "\n",
    "      number_collisions += 1\n",
    "\n",
    "    return"
   ]
  },
  {
   "cell_type": "code",
   "execution_count": null,
   "metadata": {},
   "outputs": [],
   "source": [
    "hash_map = HashMap(15)\n",
    "hash_map.assign('gabbro', 'igneous')\n",
    "hash_map.assign('sandstone', 'sedimentary')\n",
    "hash_map.assign('gneiss', 'metamorphic')\n",
    "print(hash_map.retrieve('gabbro'))\n",
    "print(hash_map.retrieve('sandstone'))\n",
    "print(hash_map.retrieve('gneiss'))"
   ]
  },
  {
   "cell_type": "markdown",
   "metadata": {
    "slideshow": {
     "slide_type": "slide"
    }
   },
   "source": [
    "## Formative Exercises ##\n",
    "\n",
    "Insert a 'code' cell below. In this do the following:\n",
    "\n",
    "- 1 - Now instantiate the HashMap class above. Create a Person class that has attributes for first_name, second_name and phone_number, and appropriate methods that get, set and print values for these attributes. Now instantiate the HashMap class and add Person objects to the HashMap.\n",
    "- 2 - Extend the hash_map class to create a linked list in each element position where there is a collision. A colliding item should be added to the end of a linked list for that index position.\n",
    "\n",
    "\n",
    "C++ EXERCISES to ADAPT: \n",
    "\n",
    "*/\n",
    "\n",
    "* Exercise 1: Set up the hash table\n",
    "* \n",
    "* In Main above, replace the comments with code to set up the hashTable. \n",
    "* Then complete the hash_ function below which uses the 'division method' \n",
    "* to return an unique index value based on the key and tablesize passed in.\n",
    "* Once ready, in main, call the 'getPhoneNumber()' function, which for this example, will act as the 'key' (and value).\n",
    "* Then pass this 'key' to the hash_ function (along with tableSize) to return a unique index in which to store the phone number. \n",
    "* You should then assign the phone number to the hashTable in main at the index returned by hash_.\n",
    "* \n",
    "* Check this has been assigned correctly by uncommenting the call to the hash_ function within the subscript operator of the hashTable. \n",
    "*  \n",
    "*/\n",
    "\n",
    "/*\n",
    "* Exercise 2: String hashing\n",
    "* So now, let's choose a more meaningful key - a string which represents a name of a contact\n",
    "* You should see an overloaded 'hash_()' function below which takes a string as the key, in addition to the tableSize.\n",
    "* In this function, code an algorithm that will formulate a unique index position \n",
    "* based up on the ASCII values of each character in the string key.\n",
    "* Return this unique index and test that you can add a phone number for a name of a person to the HashTable, as well as retrieve it.\n",
    "* \n",
    "* Extension: Try adding a handful of names and phone numbers checking you can retrieve the right number for the right person. \n",
    "*/\n",
    "\n",
    "\n",
    "\n",
    "\n",
    "\n",
    "\n",
    "/*\n",
    "* Exercise 3: Open Addressing with probing techniques \n",
    "* To illustrate a collision, in main above, attempt to hash an identical name. This should return an identical index value.\n",
    "* You should notice that a new random phone number has been assigned, overwriting the previously stored number. \n",
    "* One method to resolve collisions like this would be to use open addressing. \n",
    "* You could amend the two hash functions that you have, or you could code a strategy in a function below, which is then called in both hash_ functions\n",
    "* Try linear, quadratic and prime probing strategies.\n",
    "* \n",
    "* In main, test that you can retrieve the right number for the adjusted position \n",
    "* calculated by the probing strategies.\n",
    "*/\n",
    "\n",
    "\n",
    "/* Exercise 4: Closed chaining \n",
    "* The other approach to resolving collisions could be to create a structured within the hashTable itself. \n",
    "* Now, because we've set up a array of primitive integers, it's not going to take \n",
    "* Therefore, consider how you could set up a wrapper class for your 'HashTable' which makes use of your LinkedList class\n",
    "* or alternatively to a LinkedList, you could use a vector instead. \n",
    "*\n",
    "* Add as many classes and/or functions as you need.  \n",
    "*\n",
    "* Question: what are the benefits and drawbacks of each approach? Which situations are they most suitable? \n",
    "*/\n",
    "\n",
    "\n",
    "\n",
    "![hashseparatechaining](http://algs4.cs.princeton.edu/34hash/images/separate-chaining.png)\n"
   ]
  }
 ],
 "metadata": {
  "celltoolbar": "Slideshow",
  "kernelspec": {
   "display_name": "Python 3",
   "language": "python",
   "name": "python3"
  },
  "language_info": {
   "codemirror_mode": {
    "name": "ipython",
    "version": 3
   },
   "file_extension": ".py",
   "mimetype": "text/x-python",
   "name": "python",
   "nbconvert_exporter": "python",
   "pygments_lexer": "ipython3",
   "version": "3.9.6"
  }
 },
 "nbformat": 4,
 "nbformat_minor": 4
}
