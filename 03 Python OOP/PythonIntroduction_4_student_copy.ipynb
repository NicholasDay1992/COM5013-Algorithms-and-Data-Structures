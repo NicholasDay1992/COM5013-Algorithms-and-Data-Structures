{
 "cells": [
  {
   "attachments": {
    "pythonLogo.png": {
     "image/png": "[encoded data removed]"
    }
   },
   "cell_type": "markdown",
   "metadata": {
    "slideshow": {
     "slide_type": "slide"
    }
   },
   "source": [
    "![pythonLogo.png](attachment:pythonLogo.png)\n",
    "# Introduction to the Python language - Part 4 #  \n",
    "\n",
    "### R. Mather February, 2020 ###\n",
    "\n",
    "## This section is concerned with Conditionals (Selection), Iterations and Custom functions. It may contain interactive code with errors for you to repair. At the end there is also <font color=\"red\">a logbook exercise for you to complete</font> ##"
   ]
  },
  {
   "cell_type": "markdown",
   "metadata": {
    "slideshow": {
     "slide_type": "slide"
    }
   },
   "source": [
    "## Python Conditionals ##\n",
    "\n",
    "- Python offers usual 'if'/'else'/'else if'('elif' in Python) decision structures to select statements depending on if conditions met are true or false\n",
    "- This unit also allows the possibility for dynamic responses to user input\n",
    "- IMPORTANT NOTE - if capturing user number <font color=\"red\">input</font> remember to recast strings to number formats (e.g. using <font color=\"red\">int(...)</font> or <font color=\"red\">float(...)</font>)\n",
    "- Conditionals rely on 'nesting' blocks of code\n",
    "- Curly braces familiar in many C-type syntax languages are not used in Python \n",
    "- Code blocks are instead implemented with colons and <font color=\"red\">consistent indentation</font> - typically a tab indent corresponding to 4 spaces\n",
    "- Python also provides a condensed <font color=\"red\">inline if</font> structure\n",
    "\n",
    "### Aside note - where is the condensed 'switch' statement for multiple else-if conditions? ###\n",
    "- Those coming from other languages may also be looking for a <font color=\"red\">switch</font> statement\n",
    "- Python does not have a 'switch' statement\n",
    "- The official reason is \"You can do this easily enough with a sequence of if... elif... elif... else\"\n",
    "- For more detail read here ... https://docs.python.org/2/faq/design.html#why-isn-t-there-a-switch-or-case-statement-in-python"
   ]
  },
  {
   "cell_type": "code",
   "execution_count": 1,
   "metadata": {
    "slideshow": {
     "slide_type": "slide"
    }
   },
   "outputs": [
    {
     "name": "stdout",
     "output_type": "stream",
     "text": [
      "Enter your age: 2\n",
      "You must wait 14 years before you may drive\n",
      "Enter your age: 2\n",
      "You must wait 14 years before you may drive\n",
      "Enter your age: 2\n",
      "No - You are NOT old enough to drive\n"
     ]
    }
   ],
   "source": [
    "# IF AND IF-ELSE STATEMENTS WITH USER INPUT - note\n",
    "age = int(input(\"Enter your age: \"))\n",
    "if age >=16:\n",
    "    print(\"You are old enough to drive\")\n",
    "else:\n",
    "    print(\"You must wait \"+str(16-age)+\" years before you may drive\")\n",
    "\n",
    "# IF-ELSE 'ELIF' LADDERS\n",
    "age = int(input(\"Enter your age: \"))\n",
    "if age >=16 and age <70:\n",
    "    print(\"You are old enough to drive\")\n",
    "elif age >= 70 and age <100:\n",
    "    print(\"The DVLA will have asked you to renew your license\")\n",
    "elif age > 100:\n",
    "    print(\"Wow ... !!!\")    \n",
    "else:\n",
    "    print(\"You must wait \"+str(16-age)+\" years before you may drive\")\n",
    "\n",
    "# INLINE IF\n",
    "age = int(input(\"Enter your age: \"))\n",
    "license = \"Yes - You are old enough to drive\" if age > 16 else \"No - You are NOT old enough to drive\"\n",
    "print(license)"
   ]
  },
  {
   "cell_type": "code",
   "execution_count": 2,
   "metadata": {
    "slideshow": {
     "slide_type": "slide"
    }
   },
   "outputs": [
    {
     "name": "stdout",
     "output_type": "stream",
     "text": [
      "Variable 'a' is of type ... <class 'str'>\n",
      "Variable 'a' is now of type ... <class 'int'>\n"
     ]
    }
   ],
   "source": [
    "# CONDITIONAL WORKED EXAMPLE 1 - check if a variable is an integer-type and convert it to one if it isn't\n",
    "a=\"7\"\n",
    "print(\"Variable 'a' is of type ...\", type(a))\n",
    "if type(a) != \"int\":\n",
    "    a = int(a)\n",
    "print(\"Variable 'a' is now of type ...\", type(a))"
   ]
  },
  {
   "cell_type": "code",
   "execution_count": 3,
   "metadata": {
    "slideshow": {
     "slide_type": "slide"
    }
   },
   "outputs": [
    {
     "name": "stdout",
     "output_type": "stream",
     "text": [
      "Enter your email address: fred@aol.com\n",
      "You use aol\n"
     ]
    }
   ],
   "source": [
    "# CONDITIONAL WORKED EXAMPLE 2 - check whether a part string sequence exists in a longer user input string\n",
    "email = input(\"Enter your email address: \")\n",
    "if \"gmail\" in email:\n",
    "    print(\"You use gmail\")\n",
    "elif \"aol\" in email:\n",
    "    print(\"You use aol\")\n",
    "elif \"hotmail\" in email:\n",
    "    print(\"You use aol\")\n",
    "elif \"yahoo\" in email:\n",
    "    print(\"You use aol\")\n",
    "else:\n",
    "    print(\"You use some other email service\")"
   ]
  },
  {
   "cell_type": "markdown",
   "metadata": {
    "slideshow": {
     "slide_type": "slide"
    }
   },
   "source": [
    "## Python Iterations (or 'loops') ##\n",
    "\n",
    "- Python offers usual <font color=\"red\">for</font> and <font color=\"red\">while</font> loops and concise <font color=\"red\">list comprehensions</font> for efficiently generating lists\n",
    "- <font color=\"red\">For loops</font> are typically used to repatedly execute a statement for a predefined number of repetitions\n",
    "- <font color=\"red\">While loops</font> repatedly execute statements while a condition remain true\n",
    "- <font color=\"red\">List comprehensions</font> use single line statements to generate lists\n",
    "\n",
    "### Aside note - where is the do-while loop to test a condition *after* a statement has executed? ###\n",
    "- Those coming from other languages may also expect a <font color=\"red\">do-while</font> loop structure\n",
    "- similarly to the 'switch' statement, Python also does not have a 'do-while' structure\n",
    "- The developer of Python (Guido van Rossum) and Łukasz Langa explain ...\n",
    "    - this doesn't \"make the language more elegant or easier to learn\"\n",
    "    - and that the do-while structure is easily implemented using the 'break' statement as follows ...\n",
    "    ```\n",
    "    while True:\n",
    "    >     <code>\n",
    "    >     if condition:\n",
    "    >       break\n",
    "    ```\n",
    "    - For more detail read here ... https://mail.python.org/pipermail/python-ideas/2013-June/021610.html"
   ]
  },
  {
   "cell_type": "code",
   "execution_count": 4,
   "metadata": {
    "slideshow": {
     "slide_type": "slide"
    }
   },
   "outputs": [
    {
     "name": "stdout",
     "output_type": "stream",
     "text": [
      "Mon\n",
      "Tue\n",
      "Wed\n",
      "Thu\n",
      "Fri\n",
      "Sat\n",
      "Sun\n",
      "10\n",
      "12\n",
      "14\n",
      "16\n",
      "18\n",
      "10\n",
      "11\n",
      "12\n",
      "13\n",
      "14\n",
      "15\n",
      "16\n",
      "17\n",
      "18\n",
      "19\n",
      "[10, 11, 12, 13, 14]\n"
     ]
    }
   ],
   "source": [
    "# FOR LOOPS \n",
    "\n",
    "# ... with a list\n",
    "ls=[\"Mon\",\"Tue\",\"Wed\",\"Thu\",\"Fri\",\"Sat\",\"Sun\"]\n",
    "# NOTE: not necessary to declare and initialise 'item' - this is done dynamically and anything will do - try 'fred'!'\n",
    "for item in ls:\n",
    "    print(item)\n",
    "\n",
    "# FOR LOOPS WITH RANGES - range parameters are: start; stop; step - step is optional\n",
    "# ... with the 3rd 'step' parameter\n",
    "for item in range(10,20,2):\n",
    "    print(item)\n",
    "\n",
    "# ... without the 'step' parameter\n",
    "for item in range(10,20):\n",
    "    print(item)\n",
    "\n",
    "# Aside note: can also convert ranges to lists\n",
    "lst=list(range(10,15))\n",
    "print(lst)"
   ]
  },
  {
   "cell_type": "code",
   "execution_count": 5,
   "metadata": {
    "slideshow": {
     "slide_type": "slide"
    }
   },
   "outputs": [
    {
     "name": "stdout",
     "output_type": "stream",
     "text": [
      "0  is less than 4\n",
      "1  is less than 4\n",
      "2  is less than 4\n",
      "3  is less than 4\n",
      "Enter password: itsme\n",
      "You may enter ... \n"
     ]
    }
   ],
   "source": [
    "# WHILE LOOPS\n",
    "\n",
    "# Example 1\n",
    "\n",
    "start=0\n",
    "while start <4:\n",
    "    print(start, \" is less than 4\")\n",
    "    start+=1\n",
    "\n",
    "# Example 2\n",
    "\n",
    "passwd=input(\"Enter password: \")\n",
    "while passwd != \"itsme\":\n",
    "    print(\"Wrong password\")\n",
    "    passwd=input(\"Enter password: \")\n",
    "print(\"You may enter ... \")"
   ]
  },
  {
   "cell_type": "code",
   "execution_count": 6,
   "metadata": {
    "slideshow": {
     "slide_type": "slide"
    }
   },
   "outputs": [
    {
     "name": "stdout",
     "output_type": "stream",
     "text": [
      "[10, 20, 30]\n",
      "[10, 20, 30]\n",
      "[0, 1, 4, 9, 16, 25, 36, 49, 64, 81]\n"
     ]
    }
   ],
   "source": [
    "# LIST COMPREHENSIONS - a kind of 'for loop structure for quickly creating lists\n",
    "\n",
    "# The long way ... converting a list of strings to integers\n",
    "strings = [\"10\", \"20\", \"30\"]\n",
    "integers = []\n",
    "for i in strings:\n",
    "    integers.append(int(i))\n",
    "print(integers)\n",
    "\n",
    "# The shorter list comprehension way ...\n",
    "integers=[int(i) for i in strings]\n",
    "print(integers)\n",
    "\n",
    "# Another examples using list comprehensions to create new lists ... e.g. square numbers 0 to 9\")\n",
    "lst=[a**2 for a in range(10)]\n",
    "print(lst)"
   ]
  },
  {
   "cell_type": "code",
   "execution_count": 7,
   "metadata": {
    "slideshow": {
     "slide_type": "slide"
    }
   },
   "outputs": [
    {
     "name": "stdout",
     "output_type": "stream",
     "text": [
      "Monday\n",
      "Tuesday\n",
      "Wednesday\n",
      "Thursday\n",
      "Friday\n",
      "53\n",
      "['tomjones@gmail.com', 'dickjones@gmail.com', 'harryjones@gmail.com']\n"
     ]
    }
   ],
   "source": [
    "# ITERATION WORKED EXAMPLE 1 - uses FOR-LOOP to contanenate letters of the first five days of the week with \"day\"\n",
    "ls=[\"Mon\",\"Tues\",\"Wednes\",\"Thurs\",\"Fri\",\"Satur\",\"Sun\"]\n",
    "for item in ls[:5]:\n",
    "    print(item+\"day\")\n",
    "    \n",
    "# ITERATION WORKED EXAMPLE 2 - assumes 1 Jan is a Monday and uses RANGE and LEN to count Mondays in one year\n",
    "x=range(1,365+1,7)\n",
    "x=list(x)\n",
    "print(len(x))\n",
    "\n",
    "# ITERATION WORKED EXAMPLE 3 - uses a LIST COMPREHENSION to generate  a list of emails from a list of names\n",
    "names=[\"tomjones\",\"dickjones\",\"harryjones\"]\n",
    "emails=[name + \"@gmail.com\" for name in names]\n",
    "print(emails)"
   ]
  },
  {
   "cell_type": "markdown",
   "metadata": {
    "slideshow": {
     "slide_type": "slide"
    }
   },
   "source": [
    "## Python Custom Functions ##\n",
    "\n",
    "- Similarly to other languages Python has many built in functions such as *print, int, list, len, set, input*\n",
    "- Python users may also write their own functions using the function definition \"<font color=\"red\">def</font>\" structure\n",
    "- functions may optionally take <font color=\"red\">parameters</font> and <font color=\"red\">return</font> processed values\n",
    "- the identifier used to capture the value is known as the <font color=\"red\">formal parameters</font> e.g 'x' in the first 'square_area' example below\n",
    "- the value passed to the function is known as the <font color=\"red\">actual parameters</font> e.g this might be '5' in the first 'square_area' example below\n",
    "- functions are also used in Classes (see next unit) where they provide methods for objects"
   ]
  },
  {
   "cell_type": "code",
   "execution_count": 8,
   "metadata": {
    "slideshow": {
     "slide_type": "slide"
    }
   },
   "outputs": [
    {
     "name": "stdout",
     "output_type": "stream",
     "text": [
      "The area of a square with side 5 is ... 25\n",
      "The area of 4 squares with side 5 is ... 100\n",
      "The area of square with side ... 5  ... is ... 25\n",
      "The area of square with side ... 10  ... is ... 100\n",
      "The area of square with side ... 20  ... is ... 400\n",
      " \n",
      "The area of a rectangle with side 5 and 7 is ... 35\n",
      " \n",
      "The monthly repayment for a loan of £100,000 @ 5% interest over 120 months is ... £ 1061\n",
      " \n",
      "Email for John Smith using default parameters ...  JohnSmith@gmail.com\n",
      "Email for John Smith at aol.uk overriding default parameters ...  JohnSmith@aol.uk\n"
     ]
    }
   ],
   "source": [
    "# Defining and calling a function - function 'square_area' takes a parameter 'x', squares 'x' and 'returns' area\n",
    "def square_area(x):\n",
    "    a = x**2\n",
    "    return a\n",
    "# Using the function\n",
    "print(\"The area of a square with side 5 is ...\",square_area(5))\n",
    "print(\"The area of 4 squares with side 5 is ...\",square_area(5)*4)\n",
    "# Using the function repeatedly with inputs from a list\n",
    "for side in [5,10,20]:\n",
    "    print(\"The area of square with side ...\",side,\" ... is ...\",square_area(side))\n",
    "print(\" \")\n",
    "\n",
    "# Defining and calling a function that takes 2x parameters to calculate the area of a rectangle\n",
    "def rectangle(x,y):\n",
    "    area = x * y\n",
    "    return area\n",
    "print(\"The area of a rectangle with side 5 and 7 is ...\",rectangle(5,7))\n",
    "print(\" \")\n",
    "\n",
    "# Function taking 3 parameters (L=loan; i=interest rate; m=period in months) returns monthly payment 'p' needed\n",
    "def loan(L, i, m):\n",
    "    P=(L * (i/12 * (1+i / 12)**m)) / ((1+i / 12)**m-1)\n",
    "    return P\n",
    "print(\"The monthly repayment for a loan of £100,000 @ 5% interest over 120 months is ... £\", round(loan(100000, 0.05, 120)))\n",
    "print(\" \")\n",
    "\n",
    "# Function makes an email address from first name and surname and default parameters for a domain\")\n",
    "def email_generator(name, surname, email=\"gmail\", extension=\"com\"):\n",
    "    address=\"{0}{1}@{2}.{3}\".format(name, surname, email, extension)\n",
    "    return address\n",
    "print(\"Email for John Smith using default parameters ... \", email_generator(\"John\",\"Smith\"))\n",
    "print(\"Email for John Smith at aol.uk overriding default parameters ... \", email_generator(\"John\",\"Smith\", \"aol\", \"uk\"))"
   ]
  },
  {
   "cell_type": "code",
   "execution_count": 9,
   "metadata": {
    "slideshow": {
     "slide_type": "slide"
    }
   },
   "outputs": [
    {
     "name": "stdout",
     "output_type": "stream",
     "text": [
      "Enter triangle height: 2\n",
      "Enter triangle base: 2\n",
      "The area of the triangle is ... 2.0\n",
      "enter some textqwertyuiop\n",
      "Number of characters in ... qwertyuiop ... is ... 10\n",
      "[101, 1002]\n",
      "['TomCat@gmail.com', 'DickTurpin@gmail.com', 'ChalkyWhite@gmail.com']\n"
     ]
    }
   ],
   "source": [
    "# CUSTOM FUNCTION WORKED EXAMPLE 1 - a function that calculates and returns the area of a triangle\n",
    "h=float(input(\"Enter triangle height: \"))\n",
    "b=float(input(\"Enter triangle base: \"))\n",
    "def triangle(height,base):\n",
    "    area = (height*base)/2\n",
    "    return area\n",
    "print(\"The area of the triangle is ...\", triangle(h,b))\n",
    "\n",
    "# CUSTOM FUNCTION WORKED EXAMPLE 2 - a function that takes a string enterd by a user and returns the number of characters\n",
    "a=input(\"enter some text\")\n",
    "def countCharacters(a):\n",
    "    return len(a)\n",
    "print(\"Number of characters in ...\", a,\"... is ...\",countCharacters(a))\n",
    "    \n",
    "# CUSTOM FUNCTION WORKED EXAMPLE 3 - using the ZIP function to iterate over two lists simulataneously\n",
    "print([i+j for i,j in zip([1,2],[100,1000])])\n",
    "\n",
    "# CUSTOM FUNCTION WORKED EXAMPLE 4 - advanced ZIP function to generate emails from lists of 1st and 2nd names\n",
    "def email_generator(name, surname, email=\"gmail\", extension=\"com\"):\n",
    "    address=\"{0}{1}@{2}.{3}\".format(name, surname, email, extension)\n",
    "    return address\n",
    "print([email_generator(firstName,secondName) for firstName,secondName in zip([\"Tom\",\"Dick\",\"Chalky\"],[\"Cat\",\"Turpin\",\"White\"])])\n"
   ]
  },
  {
   "cell_type": "markdown",
   "metadata": {},
   "source": [
    "### <font color=\"red\">Logbook Exercise 4</font> ###\n",
    "\n",
    "Create a 'code' cell below. In this do the following:\n",
    "- Given the following 4 lists of names, house number and street addresses, towns and postcodes ...  \n",
    "\n",
    "```\n",
    "[\"T Cruise\",\"D Francis\",\"C White\"]\n",
    "[\"2 West St\",\"65 Deadend Cls\",\"15 Magdalen Rd\"]\n",
    "[\"Canterbury\", \"Reading\", \"Oxford\"]\n",
    "[\"CT8 23RD\", \"RG4 1FG\", \"OX4 3AS\"]\n",
    "```\n",
    "\n",
    "- write a Custom 'address_machine' function that formats 'name', 'hs_number_street', 'town', 'postcode' with commas and spaces between items\n",
    "- create a 'newlist' that repeatedly calls 'address_machine' and 'zips' items from the 4 lists\n",
    "- write a 'for loop' that iterates over 'new list' and prints each name and address on a separate line\n",
    "- the output should appear as follows\n",
    "\n",
    "```\n",
    "T Cruise, 2 West St, Canterbury, CT8 23RD\n",
    "D Francis, 65 Deadend Cls, Reading, RG4 1FG\n",
    "C White, 15 Magdalen Rd, Oxford, OX4 3AS\n",
    "```\n",
    "\n",
    "- <font color=\"red\">HINT:</font> look at \"# CUSTOM FUNCTION WORKED EXAMPLES 3 & 4\" above"
   ]
  },
  {
   "cell_type": "markdown",
   "metadata": {
    "slideshow": {
     "slide_type": "slide"
    }
   },
   "source": [
    "# References & Learning Resources#\n",
    "\n",
    " - W3Schools - there are many online resources for Python but the Python tutorial at https://www.w3schools.com/python/ is thorough, progressive, interactive and free. If you complete the main tutorial (skip the bits on installing Python as we will be using Ancaconda/Jupyter) the later sections on **\"File Handling\"**, **\"NumPy\"** and **\"Machine Learning\"** are also relevant. The **\"Exercises\"** and **\"Quiz\"** sections are also worthwhile activities for consolidating knowledge.\n",
    " - **Phillips, D. (2015). Python 3 object-oriented programming. Packt Publishing Ltd.** Although a 3rd edition has been released the 2nd edition is still pretty much up-to-date  and seems to be widely available in PDF format. As an added bonus this covers Design Patterns in some detail.\n",
    " - **https://www.learnpython.org/** is another comprehensive and intercative resource\n",
    " - **https://docs.python.org/3.7/tutorial/** is Python's own text-based tutorial. Despite the seemingly daunting number of sub-sections, it can be consumed in a fairly short time and manages to be both concise and comprehensive.\n",
    " - **Think Python 2e** is an excellent in-depth and free version of the O'Reilly hardcopy by Allen B. Downey and is available here ... https://greenteapress.com/wp/think-python-2e/\n",
    " - I have also adapted examples from *Learn Python In A Day: The Ultimate Crash Course To Learning The Basics Of Python In No Time* by *Acodemy* but this is out of print and is only mentioned for completeness."
   ]
  }
 ],
 "metadata": {
  "celltoolbar": "Slideshow",
  "kernelspec": {
   "display_name": "Python 3",
   "language": "python",
   "name": "python3"
  },
  "language_info": {
   "codemirror_mode": {
    "name": "ipython",
    "version": 3
   },
   "file_extension": ".py",
   "mimetype": "text/x-python",
   "name": "python",
   "nbconvert_exporter": "python",
   "pygments_lexer": "ipython3",
   "version": "3.8.3"
  }
 },
 "nbformat": 4,
 "nbformat_minor": 4
}
