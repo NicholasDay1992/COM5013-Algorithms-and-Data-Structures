{
 "cells": [
  {
   "attachments": {
    "pythonLogo.png": {
     "image/png": "[encoded data removed]"
    }
   },
   "cell_type": "markdown",
   "metadata": {
    "slideshow": {
     "slide_type": "slide"
    }
   },
   "source": [
    "<!--![pythonLogo.png](attachment:pythonLogo.png) -->\n",
    "# 12 DFS and BFS \n",
    "### Depth-First Search (DFS) and Breadth-First Search (BFS)\n",
    "\n"
   ]
  },
  {
   "cell_type": "markdown",
   "metadata": {},
   "source": [
    "## Plan for the lecture \n",
    "\n",
    "1. Recap on Trees\n",
    "\n",
    "2. Breadth-First Search with a Queue \n",
    "\n",
    "3. Depth-First Search with a Stack"
   ]
  },
  {
   "cell_type": "markdown",
   "metadata": {
    "slideshow": {
     "slide_type": "slide"
    }
   },
   "source": [
    "\n",
    "# Reminder about Trees \n",
    "\n",
    "* Trees have a root node (top of the tree), from which branches stem (child nodes). The children that do not have branches (descendents) are known as leaf nodes.\n",
    "\n",
    " ![Treesgif](http://www.thecrazyprogrammer.com/wp-content/uploads/2017/08/Tree-Data-Structure.gif)\n",
    "\n",
    "\n",
    "* We contrasted the (non-binary) tree, the Binary Tree and the Binary Search Tree (BST).\n",
    "\n",
    "* Like Binary Search, we saw that a BST has to be configured in a particular format to enable logarithmic search. \n",
    "\n",
    "* Each parent/root node can only have two children - a leftchild which has a value less than the root, and a rightchild which has a value greater than the root. \n",
    "\n",
    " ![BST_arrange](https://blog.penjee.com/wp-content/uploads/2015/12/optimal-binary-search-tree-from-sorted-array.gif)"
   ]
  },
  {
   "cell_type": "markdown",
   "metadata": {},
   "source": [
    "## Non-binary Tree"
   ]
  },
  {
   "cell_type": "code",
   "execution_count": 160,
   "metadata": {},
   "outputs": [],
   "source": [
    "class TreeNode:\n",
    "    def __init__(self, value):\n",
    "        self.value = value\n",
    "        self.children = []\n",
    "\n",
    "    def __repr__(self, level=0):\n",
    "        # HELPER METHOD TO PRINT TREE!\n",
    "        ret = \"--->\" * level + repr(self.value) + \"\\n\"\n",
    "        for child in self.children:\n",
    "            ret += child.__repr__(level+1)\n",
    "        return ret\n",
    "\n",
    "    def add_child(self, child_node):\n",
    "        self.children.append(child_node) \n",
    "        \n",
    "    def delete_child(self, child_node):\n",
    "        self.children.remove(child_node)"
   ]
  },
  {
   "cell_type": "code",
   "execution_count": 161,
   "metadata": {},
   "outputs": [],
   "source": [
    "root = TreeNode(\"CEO\")\n",
    "\n",
    "vp_nodes = [ \n",
    "             TreeNode(\"VP of Sales\"), \n",
    "             TreeNode(\"VP of R&D\"), \n",
    "             TreeNode(\"VP of Operations\")\n",
    "             ]\n",
    "\n",
    "root.children = vp_nodes\n",
    "\n",
    "vp_sales_children = [TreeNode(\"Head of Sales Strategy\"), \n",
    "                     TreeNode(\"Deputy Head of Sales Strategy\")\n",
    "                     ]\n",
    "\n",
    "vp_nodes[0].children = vp_sales_children"
   ]
  },
  {
   "cell_type": "code",
   "execution_count": 162,
   "metadata": {},
   "outputs": [
    {
     "data": {
      "text/plain": [
       "'CEO'\n",
       "--->'VP of Sales'\n",
       "--->--->'Head of Sales Strategy'\n",
       "--->--->'Deputy Head of Sales Strategy'\n",
       "--->'VP of R&D'\n",
       "--->'VP of Operations'"
      ]
     },
     "execution_count": 162,
     "metadata": {},
     "output_type": "execute_result"
    }
   ],
   "source": [
    "root"
   ]
  },
  {
   "cell_type": "markdown",
   "metadata": {},
   "source": [
    "## Binary Search Tree \n"
   ]
  },
  {
   "cell_type": "code",
   "execution_count": 163,
   "metadata": {},
   "outputs": [],
   "source": [
    "class TreeNode:\n",
    "    def __init__(self, value):\n",
    "        self.value = value\n",
    "        self.left = None\n",
    "        self.right = None"
   ]
  },
  {
   "cell_type": "code",
   "execution_count": 164,
   "metadata": {},
   "outputs": [],
   "source": [
    "class BinarySearchTree:\n",
    "    def __init__(self):\n",
    "        self.root = None\n",
    "        \n",
    "    def insert(self, value):\n",
    "        if self.root is None:\n",
    "            self.root = TreeNode(value)\n",
    "        else:\n",
    "            self._insert_recursive(self.root, value)\n",
    "\n",
    "    def _insert_recursive(self, node, value):\n",
    "        if value < node.value:\n",
    "            if node.left is None:\n",
    "                node.left = TreeNode(value)\n",
    "            else:\n",
    "                self._insert_recursive(node.left, value)\n",
    "        elif value > node.value:\n",
    "            if node.right is None:\n",
    "                node.right = TreeNode(value)\n",
    "            else:\n",
    "                self._insert_recursive(node.right, value)\n",
    "                \n",
    "    def in_order_traversal(self):\n",
    "        self._in_order_recursive(self.root)\n",
    "        print()  # New line after traversal\n",
    "\n",
    "    def _in_order_recursive(self, node):\n",
    "        if node:\n",
    "            self._in_order_recursive(node.left)\n",
    "            print(node.value, end=\" \")\n",
    "            self._in_order_recursive(node.right)\n",
    "            \n",
    "    def search(self, value):\n",
    "        return self._search_recursive(self.root, value)\n",
    "\n",
    "    def _search_recursive(self, node, value):\n",
    "        if node is None:\n",
    "            return False\n",
    "        if node.value == value:\n",
    "            return True\n",
    "        elif value < node.value:\n",
    "            return self._search_recursive(node.left, value)\n",
    "        else:\n",
    "            return self._search_recursive(node.right, value)"
   ]
  },
  {
   "cell_type": "code",
   "execution_count": 165,
   "metadata": {},
   "outputs": [],
   "source": [
    "bst = BinarySearchTree()\n",
    "bst.insert(50)\n",
    "bst.insert(30)\n",
    "bst.insert(70)\n",
    "bst.insert(20)\n",
    "bst.insert(40)\n",
    "bst.insert(60)\n",
    "bst.insert(80)"
   ]
  },
  {
   "cell_type": "code",
   "execution_count": 166,
   "metadata": {},
   "outputs": [
    {
     "name": "stdout",
     "output_type": "stream",
     "text": [
      "In-order Traversal:\n",
      "20 30 40 50 60 70 80 \n"
     ]
    }
   ],
   "source": [
    "print(\"In-order Traversal:\")\n",
    "bst.in_order_traversal()  # Output: 20 30 40 50 60 70 80"
   ]
  },
  {
   "cell_type": "markdown",
   "metadata": {},
   "source": [
    "# Breadth-First Search (BFS) vs. Depth-First Search (DFS)\n",
    "\n",
    "* A breadth-first search is when you inspect every node on a level starting at the top of the tree and then move to the next level. \n",
    "\n",
    "* A depth-first search is where you search deep into a branch and don’t move to the next one until you’ve reached the end. \n",
    "\n",
    "* Each approach has unique characteristics but the process for each one is almost exactly the same. \n",
    "\n",
    "* The only difference in their approach is how they store the nodes that need to be searched next. These nodes are known as the frontier.\n",
    "\n",
    "![](https://media.geeksforgeeks.org/wp-content/uploads/20240219134945/bfs-vs-dfs-(1).png)"
   ]
  },
  {
   "cell_type": "markdown",
   "metadata": {},
   "source": [
    "## Recap on Stacks - LIFO \n",
    "\n",
    "* A stack follows “Last In First Out” (LIFO) behavior which means that the most recent data added will be the first to leave. \n",
    "\n",
    "* To get to a book at the bottom of a stack of books you must first remove the books that were more recently placed in the stack. \n",
    "\n",
    "*\n",
    "\n",
    "<img src=\"https://scaler.com/topics/images/working-of-stack-in-java.gif\" alt=\"stack_gif\" width=\"650\"> "
   ]
  },
  {
   "cell_type": "code",
   "execution_count": 5,
   "metadata": {},
   "outputs": [],
   "source": [
    "class Stack:\n",
    "    def __init__(self):\n",
    "        self.items = []\n",
    "\n",
    "    def push(self, item):\n",
    "        \"\"\"Push an item onto the stack.\"\"\"\n",
    "        self.items.append(item)\n",
    "\n",
    "    def pop(self):\n",
    "        \"\"\"Pop an item off the stack. Returns None if the stack is empty.\"\"\"\n",
    "        if not self.is_empty():\n",
    "            return self.items.pop()\n",
    "        return None\n",
    "\n",
    "    def peek(self):\n",
    "        \"\"\"Peek at the top item of the stack without removing it.\"\"\"\n",
    "        if not self.is_empty():\n",
    "            return self.items[-1]\n",
    "        return None\n",
    "\n",
    "    def is_empty(self):\n",
    "        \"\"\"Check if the stack is empty.\"\"\"\n",
    "        return len(self.items) == 0"
   ]
  },
  {
   "cell_type": "code",
   "execution_count": 167,
   "metadata": {},
   "outputs": [],
   "source": [
    "s = Stack()\n",
    "s.push(7)\n",
    "s.push(18)\n",
    "s.push(20)"
   ]
  },
  {
   "cell_type": "code",
   "execution_count": 168,
   "metadata": {},
   "outputs": [
    {
     "name": "stdout",
     "output_type": "stream",
     "text": [
      "20\n",
      "18\n",
      "7\n"
     ]
    }
   ],
   "source": [
    "while s.is_empty() == False:\n",
    "    print(s.pop())\n"
   ]
  },
  {
   "cell_type": "markdown",
   "metadata": {},
   "source": [
    "## Depth-First Search Using a Stack\n",
    "\n",
    "* Frontier nodes stored in a stack create the deep dive of a depth-first search. \n",
    "\n",
    "* Nodes added to the frontier early on can expect to remain in the stack while their sibling’s children (and their children, and so on) are searched. \n",
    "\n",
    "* Depth-first search is not considered a complete algorithm since searching an infinite branch in a tree can go on forever. In this situation, an entire section of the tree would be left un-inspected."
   ]
  },
  {
   "cell_type": "markdown",
   "metadata": {},
   "source": [
    "## Recap on Queues - FIFO\n",
    "\n",
    "* The queue and the stack are the two data structures that can be used for storing nodes in a search frontier. \n",
    "\n",
    "* A queue follows “First In First Out” (FIFO) behavior, where the order the data goes in the queue is the order it leaves the queue. \n",
    "\n",
    "* This equates to any line you may have stood on to wait for the bus or to grab a cup of coffee.\n",
    "\n",
    "<img src=\"https://www.scaler.com/topics/images/working-of-java-queue.gif\" alt=\"stack_gif\" width=\"650\">  "
   ]
  },
  {
   "cell_type": "code",
   "execution_count": 169,
   "metadata": {},
   "outputs": [],
   "source": [
    "class Queue:\n",
    "    def __init__(self):\n",
    "        \"\"\"Initialize an empty queue.\"\"\"\n",
    "        self.items = []\n",
    "\n",
    "    def enqueue(self, item):\n",
    "        \"\"\"Add an item to the back of the queue.\"\"\"\n",
    "        self.items.append(item)\n",
    "\n",
    "    def dequeue(self):\n",
    "        \"\"\"Remove and return the front item of the queue. Returns None if the queue is empty.\"\"\"\n",
    "        if not self.is_empty():\n",
    "            return self.items.pop(0)\n",
    "        return None\n",
    "\n",
    "    def peek(self):\n",
    "        \"\"\"Return the front item of the queue without removing it.\"\"\"\n",
    "        if not self.is_empty():\n",
    "            return self.items[0]\n",
    "        return None\n",
    "\n",
    "    def is_empty(self):\n",
    "        \"\"\"Check if the queue is empty.\"\"\"\n",
    "        return len(self.items) == 0"
   ]
  },
  {
   "cell_type": "code",
   "execution_count": 170,
   "metadata": {},
   "outputs": [],
   "source": [
    "q = Queue()\n",
    "q.enqueue(10)\n",
    "q.enqueue(20)\n",
    "q.enqueue(30)"
   ]
  },
  {
   "cell_type": "code",
   "execution_count": 171,
   "metadata": {},
   "outputs": [
    {
     "name": "stdout",
     "output_type": "stream",
     "text": [
      "10\n",
      "20\n",
      "30\n"
     ]
    }
   ],
   "source": [
    "while q.is_empty() == False:\n",
    "    print(q.dequeue())"
   ]
  },
  {
   "cell_type": "markdown",
   "metadata": {},
   "source": [
    "## Breadth-First Search Traversal Using a Queue\n",
    "\n",
    "* Storing the frontier nodes in a queue creates the level-by-level pattern of a breadth-first search. \n",
    "\n",
    "* Child nodes are searched in the order they are added to the frontier. The nodes on the next level are always behind the nodes on the current level. \n",
    "\n",
    "* Breadth-first search is known as a complete algorithm since no matter how deep the goal is in the tree it will always be located.\n",
    "\n",
    "* We shall see that <b>Dijkstra's path-finding algorithm</b> will adapt Breadth-First Search, and will also use a priority queue. "
   ]
  },
  {
   "cell_type": "markdown",
   "metadata": {},
   "source": [
    "## The Breadth-First Search (BFS) Algorithm\n",
    "\n",
    "Key point - BFS uses a QUEUE to store each level at a time. \n",
    "\n",
    "- 1 - Add root node to the queue \n",
    "- 2 - Check the contents of the queue - is the root node the goal (target)? Remember the items of the queue are removed once checked (dequeued)\n",
    "- 3 - If not, add the descendents of the root to the queue \n",
    "- 4 - Check the contents of the queue - is the goal (target) one of the nodes in the queue?\n",
    "- 5 - If not, add the descendents of the contents of the queue (or what was there if removed)\n",
    "- 6 - Check the contents - is the goal one of the nodes in the queue?\n",
    "\n",
    "<b>Revision question: In what order are items added and removed from the queue?</b>\n",
    "\n",
    "<!--![BFS](Breadth-First-Tree-Traversal.gif)-->\n",
    "\n",
    "<img src=\"Breadth-First-Tree-Traversal.gif\" alt=\"DFS_paths\" width=\"850\">  \n"
   ]
  },
  {
   "cell_type": "code",
   "execution_count": 173,
   "metadata": {},
   "outputs": [],
   "source": [
    "class TreeNode:\n",
    "    def __init__(self, value):\n",
    "        self.value = value\n",
    "        self.children = []\n",
    "\n",
    "    def add_child(self, child):\n",
    "        self.children.append(child)"
   ]
  },
  {
   "cell_type": "code",
   "execution_count": 175,
   "metadata": {},
   "outputs": [],
   "source": [
    "from collections import deque\n",
    "\n",
    "def bfs_with_queue(root):\n",
    "    if root is None:\n",
    "        return\n",
    "\n",
    "    queue = deque([root])  # Initialize the queue with the root node\n",
    "\n",
    "    while queue:\n",
    "        current = queue.popleft()  # Dequeue the front node\n",
    "        print(current.value)  # Process the current node (e.g., print its value)\n",
    "\n",
    "        # Enqueue all children of the current node\n",
    "        for child in current.children:\n",
    "            queue.append(child)"
   ]
  },
  {
   "cell_type": "code",
   "execution_count": 177,
   "metadata": {},
   "outputs": [
    {
     "name": "stdout",
     "output_type": "stream",
     "text": [
      "BFS Traversal:\n",
      "root\n",
      "A\n",
      "B\n",
      "C\n",
      "D\n",
      "E\n"
     ]
    }
   ],
   "source": [
    "root = TreeNode(\"root\")\n",
    "child_a = TreeNode(\"A\")\n",
    "child_b = TreeNode(\"B\")\n",
    "child_c = TreeNode(\"C\")\n",
    "child_d = TreeNode(\"D\")\n",
    "child_e = TreeNode(\"E\")\n",
    "\n",
    "root.add_child(child_a)\n",
    "root.add_child(child_b)\n",
    "child_a.add_child(child_c)\n",
    "child_a.add_child(child_d)\n",
    "child_b.add_child(child_e)\n",
    "\n",
    "print(\"BFS Traversal:\")\n",
    "bfs_with_queue(root)"
   ]
  },
  {
   "cell_type": "markdown",
   "metadata": {},
   "source": [
    "## Breadth-First-Search for Path Finding\n",
    "\n",
    "The breadth-first search is a tree traversal algorithm that searches a tree level by level. The search starts with the root node and works its way through every sibling node on a level before moving deeper into the tree. There are multiple ways to implement a breadth-first search. In this lesson, we will use an iterative approach that involves maintaining a collection of nodes in a frontier queue.\n",
    "\n",
    "Here are the steps needed to implement this search algorithm:\n",
    "\n",
    "- Import values into a tree data structure\n",
    "- Determine the root node of the tree and the goal value to search for\n",
    "- Create a queue of node paths that lead to the nodes that need to be searched\n",
    "- Get a path from the queue to obtain the next node to search\n",
    "- If the goal value isn’t found in the node, add a path to the queue for each of the node’s children\n"
   ]
  },
  {
   "cell_type": "code",
   "execution_count": 179,
   "metadata": {},
   "outputs": [],
   "source": [
    "class TreeNode:\n",
    "  def __init__(self, value):\n",
    "    self.value = value\n",
    "    self.children = []\n",
    "\n",
    "  def __repr__(self, level=0):\n",
    "    # HELPER METHOD TO PRINT TREE!\n",
    "    ret = \"--->\" * level + repr(self.value) + \"\\n\"\n",
    "    for child in self.children:\n",
    "      ret += child.__repr__(level+1)\n",
    "    return ret\n",
    "\n",
    "  def add_child(self, child_node):\n",
    "    self.children.append(child_node) "
   ]
  },
  {
   "cell_type": "code",
   "execution_count": 180,
   "metadata": {},
   "outputs": [],
   "source": [
    "def dequeue(self):\n",
    "  if self.get_size() > 0:\n",
    "    item_to_remove = self.head\n",
    "    print(str(item_to_remove.get_value()) + \" is served!\")\n",
    "    if self.get_size() == 1:\n",
    "      self.head = None\n",
    "      self.tail = None\n",
    "    else:\n",
    "      self.head = self.head.get_next_node()\n",
    "    self.size -= 1\n",
    "    return item_to_remove.get_value()\n",
    "  else:\n",
    "    print(\"The queue is totally empty!\")"
   ]
  },
  {
   "cell_type": "code",
   "execution_count": 181,
   "metadata": {},
   "outputs": [],
   "source": [
    "from collections import deque\n",
    "\n",
    "# Breadth-first search function\n",
    "def bfs(root_node, goal_value):\n",
    "\n",
    "  # initialize frontier queue\n",
    "  path_queue = deque()\n",
    "\n",
    "  # add root path to the frontier\n",
    "  initial_path = [root_node]\n",
    "  path_queue.appendleft(initial_path)\n",
    "  \n",
    "  # search loop that continues as long as\n",
    "  # there are paths in the frontier\n",
    "  while path_queue:\n",
    "    # get the next path and node \n",
    "    # then output node value\n",
    "    current_path = path_queue.pop()\n",
    "    current_node = current_path[-1]\n",
    "    print(f\"Searching node with value: {current_node.value}\")\n",
    "\n",
    "    # check if the goal node is found\n",
    "    if current_node.value == goal_value:\n",
    "      return current_path\n",
    "\n",
    "    # add paths to children to the  frontier\n",
    "    for child in current_node.children:\n",
    "      new_path = current_path[:]\n",
    "      new_path.append(child)\n",
    "      path_queue.appendleft(new_path)\n",
    "\n",
    "  # return an empty path if goal not found\n",
    "  return None"
   ]
  },
  {
   "cell_type": "code",
   "execution_count": 183,
   "metadata": {},
   "outputs": [
    {
     "name": "stdout",
     "output_type": "stream",
     "text": [
      "'Home'\n",
      "--->'Documents'\n",
      "--->--->'WishList.txt'\n",
      "--->--->'TodoList.txt'\n",
      "--->'Photos'\n",
      "--->--->'Fluffy.jpg'\n",
      "--->--->'Spot.jpg'\n",
      "\n",
      "Searching node with value: Home\n",
      "Searching node with value: Documents\n",
      "Searching node with value: Photos\n",
      "Searching node with value: WishList.txt\n",
      "Searching node with value: TodoList.txt\n",
      "Searching node with value: Fluffy.jpg\n",
      "Path found\n",
      "Home\n",
      "Photos\n",
      "Fluffy.jpg\n"
     ]
    }
   ],
   "source": [
    "sample_root_node = TreeNode(\"Home\")\n",
    "docs = TreeNode(\"Documents\")\n",
    "photos = TreeNode(\"Photos\")\n",
    "sample_root_node.children = [docs, photos]\n",
    "my_wish = TreeNode(\"WishList.txt\")\n",
    "my_todo = TreeNode(\"TodoList.txt\")\n",
    "my_cat = TreeNode(\"Fluffy.jpg\")\n",
    "my_dog = TreeNode(\"Spot.jpg\")\n",
    "docs.children = [my_wish, my_todo]\n",
    "photos.children = [my_cat, my_dog]\n",
    "\n",
    "print(sample_root_node)\n",
    "goal_path = bfs(sample_root_node, \"Fluffy.jpg\")\n",
    "if goal_path is None:\n",
    "  print(\"No path found\")\n",
    "else:\n",
    "  print(\"Path found\")\n",
    "  for node in goal_path:\n",
    "    print(node.value)"
   ]
  },
  {
   "cell_type": "markdown",
   "metadata": {},
   "source": [
    "## Preview of Graph Path Finding - BFS Graph Traversal"
   ]
  },
  {
   "cell_type": "code",
   "execution_count": 187,
   "metadata": {},
   "outputs": [],
   "source": [
    "def bfs_with_queue(graph, start):\n",
    "    queue = Queue()  # Initialize the queue\n",
    "    queue.enqueue(start)  # Start with the root or start node\n",
    "    visited = set()  # Keep track of visited nodes\n",
    "\n",
    "    while not queue.is_empty():\n",
    "        current = queue.dequeue()\n",
    "\n",
    "        if current not in visited:\n",
    "            print(current)  # Process the current node (e.g., print it)\n",
    "            visited.add(current)\n",
    "\n",
    "            # Enqueue all unvisited neighbors\n",
    "            for neighbor in graph.get(current, []):\n",
    "                if neighbor not in visited:\n",
    "                    queue.enqueue(neighbor)"
   ]
  },
  {
   "cell_type": "code",
   "execution_count": 188,
   "metadata": {},
   "outputs": [
    {
     "name": "stdout",
     "output_type": "stream",
     "text": [
      "BFS Traversal:\n",
      "A\n",
      "B\n",
      "C\n",
      "D\n",
      "E\n",
      "F\n"
     ]
    }
   ],
   "source": [
    "# Define a graph as an adjacency list\n",
    "graph = {\n",
    "    'A': ['B', 'C'],\n",
    "    'B': ['D', 'E'],\n",
    "    'C': ['F'],\n",
    "    'D': [],\n",
    "    'E': ['F'],\n",
    "    'F': []\n",
    "}\n",
    "\n",
    "# Perform BFS starting from node 'A'\n",
    "print(\"BFS Traversal:\")\n",
    "bfs_with_queue(graph, 'A')"
   ]
  },
  {
   "cell_type": "markdown",
   "metadata": {},
   "source": [
    "## Preview of Graph Path Finding - Path Tracking"
   ]
  },
  {
   "cell_type": "code",
   "execution_count": 189,
   "metadata": {},
   "outputs": [],
   "source": [
    "from collections import deque\n",
    "\n",
    "def bfs_find_path(graph, start, target):\n",
    "    # Initialize the queue with the start node and path as a list with only the start node\n",
    "    queue = deque([(start, [start])])\n",
    "    visited = set()  # Keep track of visited nodes\n",
    "\n",
    "    while queue:\n",
    "        current, path = queue.popleft()  # Dequeue the front item (node, path)\n",
    "\n",
    "        if current == target:\n",
    "            return path  # Return the path once the target is reached\n",
    "\n",
    "        if current not in visited:\n",
    "            visited.add(current)\n",
    "\n",
    "            # Enqueue unvisited neighbors with the path extended\n",
    "            for neighbor in graph.get(current, []):\n",
    "                if neighbor not in visited:\n",
    "                    queue.append((neighbor, path + [neighbor]))\n",
    "\n",
    "    return None  # Return None if the target is not reachable from the start"
   ]
  },
  {
   "cell_type": "code",
   "execution_count": 190,
   "metadata": {},
   "outputs": [
    {
     "name": "stdout",
     "output_type": "stream",
     "text": [
      "Path to target: ['A', 'C', 'F']\n"
     ]
    }
   ],
   "source": [
    "graph = {\n",
    "    'A': ['B', 'C'],\n",
    "    'B': ['D', 'E'],\n",
    "    'C': ['F'],\n",
    "    'D': [],\n",
    "    'E': ['F'],\n",
    "    'F': []\n",
    "}\n",
    "\n",
    "# Find the path from 'A' to 'F' using BFS\n",
    "path = bfs_find_path(graph, 'A', 'F')\n",
    "print(\"Path to target:\", path)  # Output could be: ['A', 'C', 'F'] or ['A', 'B', 'E', 'F']"
   ]
  },
  {
   "cell_type": "markdown",
   "metadata": {},
   "source": [
    "# The Depth-First Search (DFS) Algorithm\n",
    "\n",
    "Key point: DFS uses a STACK to store (stack) each descendent as it traverses each branch of the tree.\n",
    "\n",
    "- 1 - Add root node to the stack\n",
    "- 2 - Check the contents of the stack - is the root node the goal (target)? Remember the items of the queue are removed once checked (popped off the stack)\n",
    "- 3 - If not, add the descendents of the root to the stack \n",
    "- 4 - Pop the last item from the top of the stack \n",
    "- 5 - Check to see if it is the goal (target)\n",
    "- 6 - If not, push (add) its descendents onto the stack (on top of the other node(s) from level 1)\n",
    "- 7 - Pop them from the stack one by one to see if they are goal\n",
    "- 8 - If not, repeat steps 4 - 7 for each branch from level 1\n",
    "\n",
    "<b> Revision question: In what order are items added and removed from the stack?</b>\n",
    "\n",
    "<!--![DFS](Depth-First-Tree-Traversal.gif)-->\n",
    "<img src=\"Depth-First-Tree-Traversal.gif\" alt=\"DFS_paths\" width=\"850\">  \n",
    "\n",
    "\n"
   ]
  },
  {
   "cell_type": "code",
   "execution_count": 191,
   "metadata": {},
   "outputs": [],
   "source": [
    "class TreeNode:\n",
    "    def __init__(self, value):\n",
    "        self.value = value\n",
    "        self.children = []\n",
    "\n",
    "    def add_child(self, child):\n",
    "        self.children.append(child)"
   ]
  },
  {
   "cell_type": "code",
   "execution_count": 193,
   "metadata": {},
   "outputs": [],
   "source": [
    "def dfs_with_stack(root):\n",
    "    if root is None:\n",
    "        return\n",
    "\n",
    "    stack = [root]  # Initialize the stack with the root node\n",
    "\n",
    "    while stack:\n",
    "        # Pop the last node from the stack\n",
    "        current = stack.pop()\n",
    "        print(current.value)  # Process the current node (e.g., print its value)\n",
    "\n",
    "        # Push children to stack in reverse order\n",
    "        # to maintain left-to-right order in DFS\n",
    "        for child in reversed(current.children):\n",
    "            stack.append(child)"
   ]
  },
  {
   "cell_type": "code",
   "execution_count": 195,
   "metadata": {},
   "outputs": [],
   "source": [
    "# Create a tree structure\n",
    "root = TreeNode(\"root\")\n",
    "child_a = TreeNode(\"A\")\n",
    "child_b = TreeNode(\"B\")\n",
    "child_c = TreeNode(\"C\")\n",
    "child_d = TreeNode(\"D\")\n",
    "child_e = TreeNode(\"E\")\n",
    "\n",
    "# Build the tree\n",
    "root.add_child(child_a)\n",
    "root.add_child(child_b)\n",
    "child_a.add_child(child_c)\n",
    "child_a.add_child(child_d)\n",
    "child_b.add_child(child_e)\n"
   ]
  },
  {
   "cell_type": "code",
   "execution_count": 196,
   "metadata": {},
   "outputs": [
    {
     "name": "stdout",
     "output_type": "stream",
     "text": [
      "DFS Traversal:\n",
      "root\n",
      "A\n",
      "C\n",
      "D\n",
      "B\n",
      "E\n"
     ]
    }
   ],
   "source": [
    "# Perform DFS with a stack\n",
    "print(\"DFS Traversal:\")\n",
    "dfs_with_stack(root)"
   ]
  },
  {
   "cell_type": "markdown",
   "metadata": {},
   "source": [
    "## Depth-First Search for Path Finding in Trees\n",
    "\n",
    "* Useful for searching an organisational chart, or a file directory! "
   ]
  },
  {
   "cell_type": "code",
   "execution_count": 197,
   "metadata": {},
   "outputs": [],
   "source": [
    "class TreeNode:\n",
    "  def __init__(self, value):\n",
    "    self.value = value\n",
    "    self.children = []\n",
    "\n",
    "  def __repr__(self, level=0):\n",
    "    # HELPER METHOD TO PRINT TREE!\n",
    "    ret = \"--->\" * level + repr(self.value) + \"\\n\"\n",
    "    for child in self.children:\n",
    "      ret += child.__repr__(level+1)\n",
    "    return ret\n",
    "\n",
    "  def add_child(self, child_node):\n",
    "    self.children.append(child_node) "
   ]
  },
  {
   "cell_type": "code",
   "execution_count": 198,
   "metadata": {},
   "outputs": [
    {
     "name": "stdout",
     "output_type": "stream",
     "text": [
      "'Home'\n",
      "--->'Documents'\n",
      "--->--->'WishList.txt'\n",
      "--->--->'TodoList.txt'\n",
      "--->'Photos'\n",
      "--->--->'Fluffy.jpg'\n",
      "--->--->'Spot.jpg'\n",
      "\n"
     ]
    }
   ],
   "source": [
    "sample_root_node = TreeNode(\"Home\")\n",
    "docs = TreeNode(\"Documents\")\n",
    "photos = TreeNode(\"Photos\")\n",
    "sample_root_node.children = [docs, photos]\n",
    "\n",
    "my_wish = TreeNode(\"WishList.txt\")\n",
    "my_todo = TreeNode(\"TodoList.txt\")\n",
    "my_cat = TreeNode(\"Fluffy.jpg\")\n",
    "my_dog = TreeNode(\"Spot.jpg\")\n",
    "\n",
    "docs.children = [my_wish, my_todo]\n",
    "photos.children = [my_cat, my_dog]\n",
    "\n",
    "print(sample_root_node)"
   ]
  },
  {
   "cell_type": "code",
   "execution_count": 199,
   "metadata": {},
   "outputs": [],
   "source": [
    "def dfs(root, target, path=()):\n",
    "    # Add the current node to the path\n",
    "    path = path + (root,)\n",
    "\n",
    "    # Check if the current node matches the target\n",
    "    if root.value == target:\n",
    "        print(\"Path to target:\", \" -> \".join(node.value for node in path))  # Print the path\n",
    "        return path  # Return the path to stop traversal\n",
    "\n",
    "    # Traverse the children recursively\n",
    "    for child in root.children:\n",
    "        path_found = dfs(child, target, path)\n",
    "\n",
    "        # If the path to the target is found, stop further traversal\n",
    "        if path_found is not None:\n",
    "            return path_found\n",
    "\n",
    "    return None  # Return None if the target is not found\n"
   ]
  },
  {
   "cell_type": "code",
   "execution_count": 201,
   "metadata": {},
   "outputs": [
    {
     "name": "stdout",
     "output_type": "stream",
     "text": [
      "Path to target: Home -> Photos -> Fluffy.jpg\n"
     ]
    },
    {
     "data": {
      "text/plain": [
       "('Home'\n",
       " --->'Documents'\n",
       " --->--->'WishList.txt'\n",
       " --->--->'TodoList.txt'\n",
       " --->'Photos'\n",
       " --->--->'Fluffy.jpg'\n",
       " --->--->'Spot.jpg',\n",
       " 'Photos'\n",
       " --->'Fluffy.jpg'\n",
       " --->'Spot.jpg',\n",
       " 'Fluffy.jpg')"
      ]
     },
     "execution_count": 201,
     "metadata": {},
     "output_type": "execute_result"
    }
   ],
   "source": [
    "dfs(sample_root_node, \"Fluffy.jpg\")"
   ]
  },
  {
   "cell_type": "markdown",
   "metadata": {},
   "source": [
    "### Or could change the `__repr__` function for cleaner output"
   ]
  },
  {
   "cell_type": "code",
   "execution_count": 204,
   "metadata": {},
   "outputs": [],
   "source": [
    "class TreeNode:\n",
    "    def __init__(self, value):\n",
    "        self.value = value\n",
    "        self.children = []\n",
    "\n",
    "    def __repr__(self):\n",
    "        return self.value"
   ]
  },
  {
   "cell_type": "code",
   "execution_count": 205,
   "metadata": {},
   "outputs": [],
   "source": [
    "sample_root_node = TreeNode(\"Home\")\n",
    "docs = TreeNode(\"Documents\")\n",
    "photos = TreeNode(\"Photos\")\n",
    "sample_root_node.children = [docs, photos]\n",
    "my_wish = TreeNode(\"WishList.txt\")\n",
    "my_todo = TreeNode(\"TodoList.txt\")\n",
    "my_cat = TreeNode(\"Fluffy.jpg\")\n",
    "my_dog = TreeNode(\"Spot.jpg\")\n",
    "docs.children = [my_wish, my_todo]\n",
    "photos.children = [my_cat, my_dog]"
   ]
  },
  {
   "cell_type": "code",
   "execution_count": 206,
   "metadata": {},
   "outputs": [
    {
     "name": "stdout",
     "output_type": "stream",
     "text": [
      "Path to target: Home -> Photos -> Fluffy.jpg\n"
     ]
    },
    {
     "data": {
      "text/plain": [
       "(Home, Photos, Fluffy.jpg)"
      ]
     },
     "execution_count": 206,
     "metadata": {},
     "output_type": "execute_result"
    }
   ],
   "source": [
    "goal_path = dfs(sample_root_node, \"Fluffy.jpg\")\n",
    "goal_path"
   ]
  },
  {
   "cell_type": "markdown",
   "metadata": {},
   "source": [
    "## Depth-First Search for Path Finding\n",
    "DFS is great for solving puzzles with one solution. Here with this maze, the idea is to explore one route fully (until a dead-end is met, or the goal is met) before attempting other routes. \n",
    "\n",
    "<img src=\"https://d18l82el6cdm1i.cloudfront.net/uploads/mf7THWHAbL-mazegif.gif\" alt=\"DFS_maze\" width=\"850\">  "
   ]
  },
  {
   "cell_type": "code",
   "execution_count": 207,
   "metadata": {},
   "outputs": [],
   "source": [
    "def dfs_with_stack(graph, start):\n",
    "    stack = Stack()  # Initialize the stack\n",
    "    stack.push(start)\n",
    "    visited = set()  # Track visited nodes to avoid cycles\n",
    "\n",
    "    while not stack.is_empty():\n",
    "        current = stack.pop()\n",
    "\n",
    "        if current not in visited:\n",
    "            print(current)  # Process the current node (e.g., print it)\n",
    "            visited.add(current)\n",
    "\n",
    "            # Push all unvisited neighbors to the stack\n",
    "            for neighbor in reversed(graph.get(current, [])):\n",
    "                if neighbor not in visited:\n",
    "                    stack.push(neighbor)"
   ]
  },
  {
   "cell_type": "code",
   "execution_count": 34,
   "metadata": {},
   "outputs": [
    {
     "name": "stdout",
     "output_type": "stream",
     "text": [
      "DFS Traversal:\n",
      "A\n",
      "B\n",
      "D\n",
      "E\n",
      "F\n",
      "C\n"
     ]
    }
   ],
   "source": [
    "graph = {\n",
    "    'A': ['B', 'C'],\n",
    "    'B': ['D', 'E'],\n",
    "    'C': ['F'],\n",
    "    'D': [],\n",
    "    'E': ['F'],\n",
    "    'F': []\n",
    "}\n",
    "\n",
    "# Perform DFS starting from node 'A'\n",
    "print(\"DFS Traversal:\")\n",
    "dfs_with_stack(graph, 'A')"
   ]
  },
  {
   "cell_type": "markdown",
   "metadata": {},
   "source": [
    "## Alternatives - BFS and DFS in `anytree`\n",
    "\n",
    "`pip install anytree`\n",
    "\n",
    "`python3 -m pip install -U anytree --user`"
   ]
  },
  {
   "cell_type": "code",
   "execution_count": 208,
   "metadata": {},
   "outputs": [
    {
     "name": "stdout",
     "output_type": "stream",
     "text": [
      "root\n",
      "├── A\n",
      "│   ├── C\n",
      "│   └── D\n",
      "└── B\n",
      "    └── E\n",
      "DFS (Pre-order): ['root', 'A', 'C', 'D', 'B', 'E']\n",
      "DFS (Post-order): ['C', 'D', 'A', 'E', 'B', 'root']\n",
      "BFS (Level-order): ['root', 'A', 'B', 'C', 'D', 'E']\n"
     ]
    }
   ],
   "source": [
    "from anytree import Node, RenderTree, PreOrderIter, PostOrderIter, LevelOrderIter\n",
    "\n",
    "root = Node(\"root\")\n",
    "child_a = Node(\"A\", parent=root)\n",
    "child_b = Node(\"B\", parent=root)\n",
    "child_c = Node(\"C\", parent=child_a)\n",
    "child_d = Node(\"D\", parent=child_a)\n",
    "child_e = Node(\"E\", parent=child_b)\n",
    "\n",
    "for pre, _, node in RenderTree(root):\n",
    "    print(f\"{pre}{node.name}\")\n",
    "\n",
    "print(\"DFS (Pre-order):\", [node.name for node in PreOrderIter(root)])  # Output: ['root', 'A', 'C', 'D', 'B', 'E']\n",
    "\n",
    "print(\"DFS (Post-order):\", [node.name for node in PostOrderIter(root)])  # Output: ['C', 'D', 'A', 'E', 'B', 'root']\n",
    "\n",
    "print(\"BFS (Level-order):\", [node.name for node in LevelOrderIter(root)])  # Output: ['root', 'A', 'B', 'C', 'D', 'E']"
   ]
  },
  {
   "cell_type": "markdown",
   "metadata": {},
   "source": [
    "## Alternatives - BFS and DFS in `binarytree`\n",
    "\n",
    "`pip install binarytree`\n",
    "\n",
    "`python3 -m pip install -U binarytree --user`"
   ]
  },
  {
   "cell_type": "code",
   "execution_count": 209,
   "metadata": {},
   "outputs": [
    {
     "name": "stdout",
     "output_type": "stream",
     "text": [
      "\n",
      "    __1\n",
      "   /   \\\n",
      "  2     3\n",
      " / \\\n",
      "4   5\n",
      "\n",
      "DFS (Pre-order): [Node(1), Node(2), Node(4), Node(5), Node(3)]\n",
      "BFS: [1, 2, 3, 4, 5]\n"
     ]
    }
   ],
   "source": [
    "from binarytree import Node\n",
    "from collections import deque\n",
    "\n",
    "root = Node(1)\n",
    "root.left = Node(2)\n",
    "root.right = Node(3)\n",
    "root.left.left = Node(4)\n",
    "root.left.right = Node(5)\n",
    "\n",
    "print(root)\n",
    "\n",
    "print(\"DFS (Pre-order):\", root.preorder)  # Output: [1, 2, 4, 5, 3]\n",
    "\n",
    "def bfs_binarytree(root):\n",
    "    queue = deque([root])\n",
    "    bfs_result = []\n",
    "\n",
    "    while queue:\n",
    "        current = queue.popleft()\n",
    "        bfs_result.append(current.value)\n",
    "        if current.left:\n",
    "            queue.append(current.left)\n",
    "        if current.right:\n",
    "            queue.append(current.right)\n",
    "\n",
    "    return bfs_result\n",
    "\n",
    "print(\"BFS:\", bfs_binarytree(root))  # Output: [1, 2, 3, 4, 5]"
   ]
  },
  {
   "cell_type": "markdown",
   "metadata": {},
   "source": [
    "## Summary \n",
    "\n",
    "* Breath-First Search (BFS) searches all children level by level - uses a queue \n",
    "\n",
    "* Depth-First Search (DFS) searches one particular child until no more children - uses a stack "
   ]
  },
  {
   "cell_type": "markdown",
   "metadata": {},
   "source": [
    "## Exercise \n",
    "\n",
    "Implement the Breadth-First Search (BFS) algorithm using your `Queue` class. Test that your algorithm returns the correct path to the target node. Create a Tree (any type) to test your algorithm. \n",
    "\n",
    "Extension: How would you modify your algorithm to apply the `deque` class from `collections` rather than your `Queue` class."
   ]
  },
  {
   "cell_type": "code",
   "execution_count": null,
   "metadata": {},
   "outputs": [],
   "source": [
    "class Queue:\n",
    "    ... # Use your Queue class from previous exercises, or take this opportunity to implement a Queue for the first time."
   ]
  },
  {
   "cell_type": "code",
   "execution_count": null,
   "metadata": {},
   "outputs": [],
   "source": [
    "def bfs():\n",
    "    ... "
   ]
  },
  {
   "cell_type": "code",
   "execution_count": null,
   "metadata": {},
   "outputs": [],
   "source": [
    "# Write your solution here. "
   ]
  },
  {
   "cell_type": "markdown",
   "metadata": {},
   "source": [
    "## Exercise\n",
    "\n",
    "Implement the Depth-First Search (DFS) algorithm using your `Stack` class. Test that your algorithm returns the correct path to the target node. Create a Tree (any type) to test your algorithm. \n",
    "\n",
    "Extension: how would modify your algorithm to use a Python `list` rather than your `Stack` class."
   ]
  },
  {
   "cell_type": "code",
   "execution_count": null,
   "metadata": {},
   "outputs": [],
   "source": [
    "class Stack:\n",
    "    ... # Use your Stack class from previous exercises, or take this opportunity to implement a Stack for the first time."
   ]
  },
  {
   "cell_type": "code",
   "execution_count": null,
   "metadata": {},
   "outputs": [],
   "source": [
    "def dfs():\n",
    "    ..."
   ]
  },
  {
   "cell_type": "code",
   "execution_count": null,
   "metadata": {},
   "outputs": [],
   "source": [
    "# Write your solution here. "
   ]
  },
  {
   "cell_type": "markdown",
   "metadata": {},
   "source": [
    "## Exercise\n",
    "\n",
    "Implement a function to check if a binary tree is balanced. For the purposes of this question, a balanced tree is defined to be a tree such that the height of the two subtrees of any node never differ by more than one. "
   ]
  },
  {
   "cell_type": "code",
   "execution_count": null,
   "metadata": {},
   "outputs": [],
   "source": [
    "def is_balanced():\n",
    "    ..."
   ]
  },
  {
   "cell_type": "code",
   "execution_count": null,
   "metadata": {},
   "outputs": [],
   "source": [
    "is_balanced()"
   ]
  },
  {
   "cell_type": "markdown",
   "metadata": {},
   "source": [
    "## Exercise \n",
    "\n",
    "Implement a function to check if a binary tree is a binary search tree"
   ]
  },
  {
   "cell_type": "code",
   "execution_count": null,
   "metadata": {},
   "outputs": [],
   "source": [
    "def is_binary_search_tree():\n",
    "    ..."
   ]
  },
  {
   "cell_type": "code",
   "execution_count": null,
   "metadata": {},
   "outputs": [],
   "source": [
    "is_binary_search_tree()"
   ]
  },
  {
   "cell_type": "markdown",
   "metadata": {},
   "source": [
    "## Exercise \n",
    "\n",
    "Given a File Directory built as a Tree, and a target file that you had to locate, which search strategy would you adopt? Breadth-First or Depth-First Search? \n",
    "\n",
    "\n",
    "Feel free to make up the directory (or use your file directory), but here's an example : \n",
    "```\n",
    "   /usr\n",
    "       /nick\n",
    "           /Documents\n",
    "               /Teaching Materials\n",
    "               /Research\n",
    "               /GitHub\n",
    "                   /C++\n",
    "                   /Python\n",
    "                   /Java\n",
    "               \n",
    "```\n",
    "\n",
    "\n"
   ]
  },
  {
   "cell_type": "code",
   "execution_count": null,
   "metadata": {},
   "outputs": [],
   "source": [
    "# Write your solution here."
   ]
  },
  {
   "cell_type": "markdown",
   "metadata": {},
   "source": [
    "## Exercise\n",
    "\n",
    "Given a binary tree, design an algorithm which creates a linked list of all the nodes at each depth (e.g. if you have a tree with depth D, you'll have D linked lists). \n"
   ]
  },
  {
   "cell_type": "code",
   "execution_count": null,
   "metadata": {},
   "outputs": [],
   "source": [
    "# Write your solution here"
   ]
  },
  {
   "cell_type": "markdown",
   "metadata": {},
   "source": [
    "## Exercise \n",
    "\n",
    "You have two very large binary trees: T1, with millions of nodes, and T2, with hundreds of nodes. Create an algorithm to decide if T2 is a subset of T1. \n",
    "\n",
    "A tree T2 is a subset of T1 if there exists a node n in T1 such that the subtree of n is identical to T2. That is, if you cut off the tree at node n, the two trees would be identical. "
   ]
  },
  {
   "cell_type": "code",
   "execution_count": null,
   "metadata": {},
   "outputs": [],
   "source": [
    "# Write your solution here"
   ]
  },
  {
   "cell_type": "markdown",
   "metadata": {},
   "source": [
    "## Scenario Exercise - Maze Navigation \n",
    "\n",
    "As you've seen above, Depth-First Search (DFS) can be applied to find the path to the end of the maze. Consider the Maze grid given below as a 2D `list`, and apply your DFS algorithm to return the correct path from S to E.  \n",
    "\n",
    "Hint: as this is a 2D `list` consider each space as a pair of coordinates. e.g. you start at position `(0, 1)`, and store the coordinates of each step to work out the path to E `(9, 5)`\n",
    "\n",
    "<img src=\"https://media.licdn.com/dms/image/v2/D4D22AQFSEeBSTf2OIg/feedshare-shrink_800/feedshare-shrink_800/0/1725182967708?e=2147483647&v=beta&t=xfgTmAgolcW0zDoXyy4nm_ciWJ2mbFU756GA8lQp_7g\" alt=\"DFS_paths\" width=\"450\">  \n"
   ]
  },
  {
   "cell_type": "code",
   "execution_count": 5,
   "metadata": {},
   "outputs": [
    {
     "data": {
      "text/plain": [
       "[['#', 'S', '#', '#', '#', '#', '#'],\n",
       " ['#', '.', '.', '.', '#', '.', '#'],\n",
       " ['#', '.', '#', '#', '#', '.', '#'],\n",
       " ['#', '.', '#', '.', '.', '.', '#'],\n",
       " ['#', '.', '#', '.', '#', '#', '#'],\n",
       " ['#', '.', '#', '.', '.', '.', '#'],\n",
       " ['#', '.', '.', '.', '#', '.', '#'],\n",
       " ['#', '.', '#', '#', '#', '.', '#'],\n",
       " ['#', '.', '.', '.', '#', '.', '#'],\n",
       " ['#', '#', '#', '#', '#', 'E', '#']]"
      ]
     },
     "execution_count": 5,
     "metadata": {},
     "output_type": "execute_result"
    }
   ],
   "source": [
    "maze = [\n",
    "    ['#', 'S', '#', '#', '#', '#', '#'],\n",
    "    ['#', '.', '.', '.', '#', '.', '#'],\n",
    "    ['#', '.', '#', '#', '#', '.', '#'],\n",
    "    ['#', '.', '#', '.', '.', '.', '#'],\n",
    "    ['#', '.', '#', '.', '#', '#', '#'],\n",
    "    ['#', '.', '#', '.', '.', '.', '#'],\n",
    "    ['#', '.', '.', '.', '#', '.', '#'],\n",
    "    ['#', '.', '#', '#', '#', '.', '#'],\n",
    "    ['#', '.', '.', '.', '#', '.', '#'],\n",
    "    ['#', '#', '#', '#', '#', 'E', '#']\n",
    "]\n",
    "maze"
   ]
  },
  {
   "cell_type": "code",
   "execution_count": 14,
   "metadata": {},
   "outputs": [
    {
     "data": {
      "text/plain": [
       "'S'"
      ]
     },
     "execution_count": 14,
     "metadata": {},
     "output_type": "execute_result"
    }
   ],
   "source": [
    "maze[0][1]"
   ]
  },
  {
   "cell_type": "code",
   "execution_count": 12,
   "metadata": {},
   "outputs": [
    {
     "data": {
      "text/plain": [
       "'E'"
      ]
     },
     "execution_count": 12,
     "metadata": {},
     "output_type": "execute_result"
    }
   ],
   "source": [
    "maze[9][5]"
   ]
  },
  {
   "cell_type": "code",
   "execution_count": null,
   "metadata": {},
   "outputs": [],
   "source": [
    "# Write your solution here. "
   ]
  },
  {
   "cell_type": "markdown",
   "metadata": {},
   "source": [
    "## Scenario Exercise - String Transformation \n",
    "\n",
    "You are given a start word, a target word, and a list of valid dictionary words. Your goal is to transform the start word into the target word by changing one letter at a time. Each transformed word must exist in the dictionary. You need to find the shortest sequence of transformations that leads from the start word to the target word.\n",
    "\n",
    "For example: \n",
    "\n",
    "* Start Word: \"hit\"\n",
    "* Target Word: \"cog\"\n",
    "* Dictionary: [\"hot\", \"dot\", \"dog\", \"lot\", \"log\", \"cog\"]\n",
    "\n",
    "Adapt your BFS algorithm to find the shortest transformation from one word to another. "
   ]
  },
  {
   "cell_type": "markdown",
   "metadata": {},
   "source": [
    "For the ease of checking the validity of a word, install the package `nltk`. NLTK stands for Natural Language ToolKit, and is a popular library for pre-processing text.  \n",
    "\n",
    "`pip install nltk`\n",
    "\n",
    "`python3 -m pip install -U nltk --user`"
   ]
  },
  {
   "cell_type": "code",
   "execution_count": 41,
   "metadata": {},
   "outputs": [
    {
     "name": "stdout",
     "output_type": "stream",
     "text": [
      "235892\n"
     ]
    },
    {
     "name": "stderr",
     "output_type": "stream",
     "text": [
      "[nltk_data] Downloading package words to /Users/nick/nltk_data...\n",
      "[nltk_data]   Package words is already up-to-date!\n"
     ]
    }
   ],
   "source": [
    "import nltk\n",
    "nltk.download(\"words\")\n",
    "from nltk.corpus import words\n",
    "\n",
    "word_list = set(words.words())\n",
    "print(len(word_list)) "
   ]
  },
  {
   "cell_type": "code",
   "execution_count": 46,
   "metadata": {},
   "outputs": [
    {
     "data": {
      "text/plain": [
       "True"
      ]
     },
     "execution_count": 46,
     "metadata": {},
     "output_type": "execute_result"
    }
   ],
   "source": [
    "word_list.__contains__(\"apple\")"
   ]
  },
  {
   "cell_type": "code",
   "execution_count": 45,
   "metadata": {},
   "outputs": [
    {
     "data": {
      "text/plain": [
       "False"
      ]
     },
     "execution_count": 45,
     "metadata": {},
     "output_type": "execute_result"
    }
   ],
   "source": [
    "word_list.__contains__(\"applez\")"
   ]
  },
  {
   "cell_type": "code",
   "execution_count": 47,
   "metadata": {},
   "outputs": [
    {
     "data": {
      "text/plain": [
       "False"
      ]
     },
     "execution_count": 47,
     "metadata": {},
     "output_type": "execute_result"
    }
   ],
   "source": [
    "word_list.__contains__(\"apples\")"
   ]
  },
  {
   "cell_type": "code",
   "execution_count": null,
   "metadata": {},
   "outputs": [],
   "source": [
    "# Write your solution here. "
   ]
  }
 ],
 "metadata": {
  "celltoolbar": "Slideshow",
  "kernelspec": {
   "display_name": "Python 3",
   "language": "python",
   "name": "python3"
  },
  "language_info": {
   "codemirror_mode": {
    "name": "ipython",
    "version": 3
   },
   "file_extension": ".py",
   "mimetype": "text/x-python",
   "name": "python",
   "nbconvert_exporter": "python",
   "pygments_lexer": "ipython3",
   "version": "3.9.6"
  }
 },
 "nbformat": 4,
 "nbformat_minor": 4
}
