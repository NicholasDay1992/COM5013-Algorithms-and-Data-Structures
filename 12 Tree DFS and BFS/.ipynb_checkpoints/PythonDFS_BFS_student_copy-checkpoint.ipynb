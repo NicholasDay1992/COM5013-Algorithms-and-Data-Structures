{
 "cells": [
  {
   "attachments": {
    "pythonLogo.png": {
     "image/png": "[encoded data removed]"
    }
   },
   "cell_type": "markdown",
   "metadata": {
    "slideshow": {
     "slide_type": "slide"
    }
   },
   "source": [
    "![pythonLogo.png](attachment:pythonLogo.png)\n",
    "# Depth-First Search (DFS) and Breadth-First Search (BFS) #\n",
    "\n",
    "### Examples by Codecademy + commentary and exercise by N. Day - September 2022 ###\n",
    "\n",
    "## This section introduces Depth-First Search and Breadth-First Search. It contains interactive code (there may be some errors for you to repair) and a multiple choice quiz. At the end there is also <font color=\"red\">a logbook exercise for you to complete</font>  ##\n",
    "\n"
   ]
  },
  {
   "cell_type": "markdown",
   "metadata": {
    "slideshow": {
     "slide_type": "slide"
    }
   },
   "source": [
    "\n",
    "# Reminder about Trees #\n",
    " - Trees have a root node (top of the tree), from which branches stem (child nodes). The children that do not have branches (descendents) are known as leaf nodes.\n",
    "\n",
    " ![Treesgif](http://www.thecrazyprogrammer.com/wp-content/uploads/2017/08/Tree-Data-Structure.gif)\n",
    "\n",
    "\n",
    " - Last week contrasted the (non-binary) tree and the Binary Search Tree (BST). Like Binary Search, we saw that a BST has to be configured in a particular format to enable logarithmic search. Each parent/root node can only have two children - a leftchild which has a value less than the root, and a rightchild which has a value greater than the root. \n",
    "\n",
    " ![BST_arrange](https://blog.penjee.com/wp-content/uploads/2015/12/optimal-binary-search-tree-from-sorted-array.gif)"
   ]
  },
  {
   "cell_type": "code",
   "execution_count": 1,
   "metadata": {},
   "outputs": [
    {
     "name": "stdout",
     "output_type": "stream",
     "text": [
      "MONKEY BUSINESS, LLC.\n",
      "=====================\n",
      "'Monkey Business CEO'\n",
      "--->'VP of Bananas'\n",
      "--->--->'Associate Chimp'\n",
      "--->--->'Chief Bonobo'\n",
      "--->'VP of Lazing Around'\n",
      "--->--->'Produce Manager'\n",
      "--->--->'Tire Swing R & D'\n",
      "\n"
     ]
    }
   ],
   "source": [
    "class TreeNode:\n",
    "  def __init__(self, value):\n",
    "    self.value = value\n",
    "    self.children = []\n",
    "\n",
    "  def __repr__(self, level=0):\n",
    "    # HELPER METHOD TO PRINT TREE!\n",
    "    ret = \"--->\" * level + repr(self.value) + \"\\n\"\n",
    "    for child in self.children:\n",
    "      ret += child.__repr__(level+1)\n",
    "    return ret\n",
    "\n",
    "  def add_child(self, child_node):\n",
    "    self.children.append(child_node) \n",
    "\n",
    "### TEST CODE TO PRINT TREE\n",
    "company = [\n",
    "  \"Monkey Business CEO\", \n",
    "  \"VP of Bananas\", \n",
    "  \"VP of Lazing Around\", \n",
    "  \"Associate Chimp\", \n",
    "  \"Chief Bonobo\", \"Produce Manager\", \"Tire Swing R & D\"]\n",
    "root = TreeNode(company.pop(0))\n",
    "for count in range(2):\n",
    "  child = TreeNode(company.pop(0))\n",
    "  root.add_child(child)\n",
    "\n",
    "root.children[0].add_child(TreeNode(company.pop(0)))\n",
    "root.children[0].add_child(TreeNode(company.pop(0)))\n",
    "root.children[1].add_child(TreeNode(company.pop(0)))\n",
    "root.children[1].add_child(TreeNode(company.pop(0)))\n",
    "print(\"MONKEY BUSINESS, LLC.\")\n",
    "print(\"=====================\")\n",
    "print(root)\n"
   ]
  },
  {
   "cell_type": "markdown",
   "metadata": {},
   "source": [
    "# Breadth-First Search (BFS) vs. Depth-First Search (DFS)\n",
    "\n",
    "A breadth-first search is when you inspect every node on a level starting at the top of the tree and then move to the next level. A depth-first search is where you search deep into a branch and don’t move to the next one until you’ve reached the end. Each approach has unique characteristics but the process for each one is almost exactly the same. The only difference in their approach is how they store the nodes that need to be searched next. These nodes are known as the frontier.\n",
    "\n",
    "## Queues and stacks\n",
    "\n",
    "The queue and the stack are the two data structures that can be used for storing nodes in a search frontier. A queue follows “First In First Out” (FIFO) behavior, where the order the data goes in the queue is the order it leaves the queue. This equates to any line you may have stood on to wait for the bus or to grab a cup of coffee.\n",
    "\n",
    "A stack follows “Last In First Out” (LIFO) behavior which means that the most recent data added will be the first to leave. To get to a book at the bottom of a stack of books you must first remove the books that were more recently placed in the stack. The different behaviors of the queue and the stack will help define the behavior of the two search algorithms in this article.\n",
    "\n",
    "## Breadth-First Search Using a Queue\n",
    "\n",
    "Storing the frontier nodes in a queue creates the level-by-level pattern of a breadth-first search. Child nodes are searched in the order they are added to the frontier. The nodes on the next level are always behind the nodes on the current level. Breadth-first search is known as a complete algorithm since no matter how deep the goal is in the tree it will always be located.\n",
    "\n",
    "## Depth-First Search Using a Stack\n",
    "\n",
    "Frontier nodes stored in a stack create the deep dive of a depth-first search. Nodes added to the frontier early on can expect to remain in the stack while their sibling’s children (and their children, and so on) are searched. Depth-first search is not considered a complete algorithm since searching an infinite branch in a tree can go on forever. In this situation, an entire section of the tree would be left un-inspected.\n",
    "\n",
    "## Path to the goal\n",
    "\n",
    "It is important to note that it is not enough to find the node with the correct value. Once the goal node is found using either method of tree traversal, you must be able to provide the path of nodes from the root node to the goal node. This can be done in many ways from saving paths as you search down the tree to working with trees that can supply the path when needed.\n",
    "\n",
    "The location of the goal node has a significant impact on determining which search algorithm will be able to find the goal first. That is why these approaches are generally used as building blocks for more complex traversal algorithms. With more information on the location of the goal value in the tree, you can optimize the breadth-first search and depth-first search algorithms. Then they become powerful tools that can help you find that file you were looking for."
   ]
  },
  {
   "cell_type": "markdown",
   "metadata": {},
   "source": [
    "# Tree recap and intro to Breadth-First-Search\n",
    "\n",
    "The breadth-first search is a tree traversal algorithm that searches a tree level by level. The search starts with the root node and works its way through every sibling node on a level before moving deeper into the tree. There are multiple ways to implement a breadth-first search. In this lesson, we will use an iterative approach that involves maintaining a collection of nodes in a frontier queue.\n",
    "\n",
    "Here are the steps needed to implement this search algorithm:\n",
    "\n",
    "- Import values into a tree data structure\n",
    "- Determine the root node of the tree and the goal value to search for\n",
    "- Create a queue of node paths that lead to the nodes that need to be searched\n",
    "- Get a path from the queue to obtain the next node to search\n",
    "- If the goal value isn’t found in the node, add a path to the queue for each of the node’s children\n",
    "\n",
    "The iterative approach to the breadth-first search algorithm is also represented by the flow diagram next to the code editor. In this lesson, we’ll learn how to implement this algorithm in Python."
   ]
  },
  {
   "cell_type": "code",
   "execution_count": null,
   "metadata": {},
   "outputs": [],
   "source": [
    "from tree import TreeNode\n",
    "from bfs import bfs\n",
    "\n",
    "sample_root_node = TreeNode(\"Home\")\n",
    "docs = TreeNode(\"Documents\")\n",
    "photos = TreeNode(\"Photos\")\n",
    "sample_root_node.children = [docs, photos]\n",
    "my_wish = TreeNode(\"WishList.txt\")\n",
    "my_todo = TreeNode(\"TodoList.txt\")\n",
    "my_cat = TreeNode(\"Fluffy.jpg\")\n",
    "my_dog = TreeNode(\"Spot.jpg\")\n",
    "docs.children = [my_wish, my_todo]\n",
    "photos.children = [my_cat, my_dog]\n",
    "\n",
    "print(sample_root_node)\n",
    "goal_path = bfs(sample_root_node, \"Fluffy.jpg\")\n",
    "if goal_path is None:\n",
    "  print(\"No path found\")\n",
    "else:\n",
    "  print(\"Path found\")\n",
    "  for node in goal_path:\n",
    "    print(node.value)"
   ]
  },
  {
   "cell_type": "markdown",
   "metadata": {},
   "source": [
    "# Another Example of a Tree"
   ]
  },
  {
   "cell_type": "code",
   "execution_count": null,
   "metadata": {},
   "outputs": [],
   "source": [
    "from tree import TreeNode\n",
    "\n",
    "sample_root_node = TreeNode(\"Home\")\n",
    "docs = TreeNode(\"Documents\")\n",
    "photos = TreeNode(\"Photos\")\n",
    "sample_root_node.children = [docs, photos]\n",
    "my_wish = TreeNode(\"WishList.txt\")\n",
    "my_todo = TreeNode(\"TodoList.txt\")\n",
    "my_cat = TreeNode(\"Fluffy.jpg\")\n",
    "my_dog = TreeNode(\"Spot.jpg\")\n",
    "docs.children = [my_wish, my_todo]\n",
    "photos.children = [my_cat, my_dog]\n",
    "\n",
    "# Write your code below. \n",
    "print(sample_root_node)\n",
    "goal_path = None\n",
    "if goal_path is None:\n",
    "  print(\"No path found\")\n",
    "else:\n",
    "  print(\"Path found\")\n",
    "  for node in goal_path:\n",
    "    print(node.value)"
   ]
  },
  {
   "cell_type": "markdown",
   "metadata": {},
   "source": [
    "# The Breadth-First Search (BFS) Algorithm\n",
    "\n",
    "Key point - BFS uses a QUEUE to store each level at a time. \n",
    "\n",
    "- 1 - Add root node to the queue \n",
    "- 2 - Check the contents of the queue - is the root node the goal (target)? Remember the items of the queue are removed once checked (dequeued)\n",
    "- 3 - If not, add the descendents of the root to the queue \n",
    "- 4 - Check the contents of the queue - is the goal (target) one of the nodes in the queue?\n",
    "- 5 - If not, add the descendents of the contents of the queue (or what was there if removed)\n",
    "- 6 - Check the contents - is the goal one of the nodes in the queue?\n",
    "\n",
    "<b>Revision question: In what order are items added and removed from the queue?</b>\n",
    "\n",
    "![BFS](Breadth-First-Tree-Traversal.gif)\n"
   ]
  },
  {
   "cell_type": "code",
   "execution_count": null,
   "metadata": {},
   "outputs": [],
   "source": [
    "from collections import deque\n",
    "\n",
    "# Breadth-first search function\n",
    "def bfs(root_node, goal_value):\n",
    "\n",
    "  # initialize frontier queue\n",
    "  path_queue = deque()\n",
    "\n",
    "  # add root path to the frontier\n",
    "  initial_path = [root_node]\n",
    "  path_queue.appendleft(initial_path)\n",
    "  \n",
    "  # search loop that continues as long as\n",
    "  # there are paths in the frontier\n",
    "  while path_queue:\n",
    "    # get the next path and node \n",
    "    # then output node value\n",
    "    current_path = path_queue.pop()\n",
    "    current_node = current_path[-1]\n",
    "    print(f\"Searching node with value: {current_node.value}\")\n",
    "\n",
    "    # check if the goal node is found\n",
    "    if current_node.value == goal_value:\n",
    "      return current_path\n",
    "\n",
    "    # add paths to children to the  frontier\n",
    "    for child in current_node.children:\n",
    "      new_path = current_path[:]\n",
    "      new_path.append(child)\n",
    "      path_queue.appendleft(new_path)\n",
    "\n",
    "  # return an empty path if goal not found\n",
    "  return None"
   ]
  },
  {
   "cell_type": "markdown",
   "metadata": {},
   "source": [
    "# The Depth-First Search (DFS) Algorithm\n",
    "\n",
    "Key point: DFS uses a STACK to store (stack) each descendent as it traverses each branch of the tree.\n",
    "\n",
    "- 1 - Add root node to the stack\n",
    "- 2 - Check the contents of the stack - is the root node the goal (target)? Remember the items of the queue are removed once checked (popped off the stack)\n",
    "- 3 - If not, add the descendents of the root to the stack \n",
    "- 4 - Pop the last item from the top of the stack \n",
    "- 5 - Check to see if it is the goal (target)\n",
    "- 6 - If not, push (add) its descendents onto the stack (on top of the other node(s) from level 1)\n",
    "- 7 - Pop them from the stack one by one to see if they are goal\n",
    "- 8 - If not, repeat steps 4 - 7 for each branch from level 1\n",
    "\n",
    "<b> Revision question: In what order are items added and removed from the stack?</b>\n",
    "\n",
    "![DFS](Depth-First-Tree-Traversal.gif)\n",
    "\n",
    "\n",
    "DFS is great for solving puzzles with one solution. Here with this maze, the idea is to explore one route fully (until a dead-end is met, or the goal is met) before attempting other routes. \n",
    "\n",
    "![DFS_maze](https://d18l82el6cdm1i.cloudfront.net/uploads/mf7THWHAbL-mazegif.gif)"
   ]
  },
  {
   "cell_type": "code",
   "execution_count": null,
   "metadata": {},
   "outputs": [],
   "source": [
    "from TreeNode import TreeNode, sample_root_node, print_path, print_tree\n",
    "\n",
    "print_tree(sample_root_node)\n",
    "\n",
    "def dfs(root, target, path=()):\n",
    "  path = path + (root,)\n",
    "\n",
    "  if root.value == target:\n",
    "    return path\n",
    "\n",
    "  for child in root.children:\n",
    "    path_found = dfs(child, target, path)\n",
    "\n",
    "    if path_found is not None:\n",
    "      return path_found\n",
    "\n",
    "  return None\n",
    "        \n",
    "node = dfs(sample_root_node, \"F\")\n",
    "print(node)"
   ]
  },
  {
   "cell_type": "markdown",
   "metadata": {
    "slideshow": {
     "slide_type": "slide"
    }
   },
   "source": [
    "## <font color=\"red\">Logbook Exercise 10</font> ##\n",
    "\n",
    "Insert a 'code' cell below. In this do the following:\n",
    "\n",
    "- 1 - First implement a standard (non-binary) tree class. Remember that levels in a non-binary tree can have more than two children.\n",
    "- 2 - Now insert nodes with values of single letters (A-Z) in your tree at a variety of levels. For this exercise, it would be best to avoid duplicates again. At least four levels are recommended.\n",
    "- 3 - Now, copy the BFS code from above, and modify it so that it works with your Queue class that you have written previously. \n",
    "- 4 - Implement BFS on your sample tree, and direct it towards one of the nodes within your tree. Run this several times to check that it correctly finds the path to the target node. Feel free to print the tree so you can check whether it returns the correct path.\n",
    "- 5 - Now, copy the DFS code from above, and modify it to work with your Stack class written previously. \n",
    "- 6 - Implement DFS on the same dataset. Check this correctly finds the path to the target node specified. \n",
    "\n"
   ]
  },
  {
   "cell_type": "markdown",
   "metadata": {},
   "source": [
    "## <font color=\"red\">Logbook Exercise 11</font> ##\n",
    "\n",
    "Your last logbook is a challenge! \n",
    "\n",
    "Your task: <b>Write a function called is_symmetrical that accepts a tree as an argument. This function should establish whether any tree (BST or non-binary) has the same number of nodes stored on each branch of the tree. The function should return True if the tree passed in is symmetrical, and should return False if not.</b>\n",
    "\n",
    "Insert a 'code' cell below and write an algorithm to solve this task. You are advised to test this function on several trees of different sizes and contents. "
   ]
  },
  {
   "cell_type": "markdown",
   "metadata": {
    "slideshow": {
     "slide_type": "slide"
    }
   },
   "source": [
    "# References & Learning Resources#\n",
    "\n",
    " - W3Schools - there are many online resources for Python but the Python tutorial at https://www.w3schools.com/python/ is thorough, progressive, interactive and free. If you complete the main tutorial (skip the bits on installing Python as we will be using Ancaconda/Jupyter) the later sections on **\"File Handling\"**, **\"NumPy\"** and **\"Machine Learning\"** are also relevant. The **\"Exercises\"** and **\"Quiz\"** sections are also worthwhile activities for consolidating knowledge.\n",
    " - **Phillips, D. (2015). Python 3 object-oriented programming. Packt Publishing Ltd.** Although a 3rd edition has been released the 2nd edition is still pretty much up-to-date  and seems to be widely available in PDF format. As an added bonus this covers Design Patterns in some detail.\n",
    " - **https://www.learnpython.org/** is another comprehensive and intercative resource\n",
    " - **https://docs.python.org/3.7/tutorial/** is Python's own text-based tutorial. Despite the seemingly daunting number of sub-sections, it can be consumed in a fairly short time and manages to be both concise and comprehensive.\n",
    " - **Think Python 2e** is an excellent in-depth and free version of the O'Reilly hardcopy by Allen B. Downey and is available here ... https://greenteapress.com/wp/think-python-2e/\n",
    " - https://www.sololearn.com/ - great for mobile learning on the go ... free! Recommended by JJ\n",
    " - I have also adapted examples from *Learn Python In A Day: The Ultimate Crash Course To Learning The Basics Of Python In No Time* by *Acodemy* but this is out of print and is only mentioned for completeness."
   ]
  }
 ],
 "metadata": {
  "celltoolbar": "Slideshow",
  "kernelspec": {
   "display_name": "Python 3 (ipykernel)",
   "language": "python",
   "name": "python3"
  },
  "language_info": {
   "codemirror_mode": {
    "name": "ipython",
    "version": 3
   },
   "file_extension": ".py",
   "mimetype": "text/x-python",
   "name": "python",
   "nbconvert_exporter": "python",
   "pygments_lexer": "ipython3",
   "version": "3.9.12"
  },
  "vscode": {
   "interpreter": {
    "hash": "c24ecc2928a1df641fb89905a028e959d05eac4f79c1af53f0bb766b01409011"
   }
  }
 },
 "nbformat": 4,
 "nbformat_minor": 4
}
