{
  "cells": [
    {
      "cell_type": "markdown",
      "id": "1eba3b72",
      "metadata": {
        "id": "1eba3b72"
      },
      "source": [
        "# 01 Python Warmup"
      ]
    },
    {
      "cell_type": "markdown",
      "id": "57bc8bf6",
      "metadata": {},
      "source": [
        "## Plan for the Lecture\n",
        "\n",
        "1. Basics and I/O\n",
        "\n",
        "2. Conditionals \n",
        "\n",
        "3. Object Oriented Programming Theory "
      ]
    },
    {
      "cell_type": "markdown",
      "id": "3fbf16b5",
      "metadata": {},
      "source": [
        "## 1.0 Basics - Types"
      ]
    },
    {
      "cell_type": "code",
      "execution_count": 5,
      "id": "c5d0a9ad",
      "metadata": {},
      "outputs": [],
      "source": [
        "name = \"Nick\""
      ]
    },
    {
      "cell_type": "code",
      "execution_count": 4,
      "id": "dc1fecb7",
      "metadata": {},
      "outputs": [],
      "source": [
        "isComplete = True"
      ]
    },
    {
      "cell_type": "code",
      "execution_count": 3,
      "id": "627a3046",
      "metadata": {},
      "outputs": [],
      "source": [
        "age = 30"
      ]
    },
    {
      "cell_type": "code",
      "execution_count": 2,
      "id": "0ad6d92d",
      "metadata": {},
      "outputs": [],
      "source": [
        "pi = 3.14"
      ]
    },
    {
      "cell_type": "code",
      "execution_count": 9,
      "id": "948bd676",
      "metadata": {},
      "outputs": [
        {
          "data": {
            "text/plain": [
              "['__abs__',\n",
              " '__add__',\n",
              " '__and__',\n",
              " '__bool__',\n",
              " '__ceil__',\n",
              " '__class__',\n",
              " '__delattr__',\n",
              " '__dir__',\n",
              " '__divmod__',\n",
              " '__doc__',\n",
              " '__eq__',\n",
              " '__float__',\n",
              " '__floor__',\n",
              " '__floordiv__',\n",
              " '__format__',\n",
              " '__ge__',\n",
              " '__getattribute__',\n",
              " '__getnewargs__',\n",
              " '__gt__',\n",
              " '__hash__',\n",
              " '__index__',\n",
              " '__init__',\n",
              " '__init_subclass__',\n",
              " '__int__',\n",
              " '__invert__',\n",
              " '__le__',\n",
              " '__lshift__',\n",
              " '__lt__',\n",
              " '__mod__',\n",
              " '__mul__',\n",
              " '__ne__',\n",
              " '__neg__',\n",
              " '__new__',\n",
              " '__or__',\n",
              " '__pos__',\n",
              " '__pow__',\n",
              " '__radd__',\n",
              " '__rand__',\n",
              " '__rdivmod__',\n",
              " '__reduce__',\n",
              " '__reduce_ex__',\n",
              " '__repr__',\n",
              " '__rfloordiv__',\n",
              " '__rlshift__',\n",
              " '__rmod__',\n",
              " '__rmul__',\n",
              " '__ror__',\n",
              " '__round__',\n",
              " '__rpow__',\n",
              " '__rrshift__',\n",
              " '__rshift__',\n",
              " '__rsub__',\n",
              " '__rtruediv__',\n",
              " '__rxor__',\n",
              " '__setattr__',\n",
              " '__sizeof__',\n",
              " '__str__',\n",
              " '__sub__',\n",
              " '__subclasshook__',\n",
              " '__truediv__',\n",
              " '__trunc__',\n",
              " '__xor__',\n",
              " 'as_integer_ratio',\n",
              " 'bit_length',\n",
              " 'conjugate',\n",
              " 'denominator',\n",
              " 'from_bytes',\n",
              " 'imag',\n",
              " 'numerator',\n",
              " 'real',\n",
              " 'to_bytes']"
            ]
          },
          "execution_count": 9,
          "metadata": {},
          "output_type": "execute_result"
        }
      ],
      "source": [
        "dir(int)"
      ]
    },
    {
      "cell_type": "code",
      "execution_count": 12,
      "id": "e3b7329e",
      "metadata": {},
      "outputs": [
        {
          "name": "stdout",
          "output_type": "stream",
          "text": [
            "<class 'str'>\n",
            "<class 'str'>\n"
          ]
        }
      ],
      "source": [
        "age = 30 \n",
        "print(type(age))\n",
        "name = \"Nick\" \n",
        "print(type(name)) "
      ]
    },
    {
      "cell_type": "markdown",
      "id": "e6344be9",
      "metadata": {},
      "source": [
        "## Conditionals "
      ]
    },
    {
      "cell_type": "code",
      "execution_count": 13,
      "id": "aa5311d0",
      "metadata": {},
      "outputs": [],
      "source": [
        "def isPositive(num):\n",
        "    if num >= 0:\n",
        "        return True\n",
        "    else: \n",
        "        return False"
      ]
    },
    {
      "cell_type": "code",
      "execution_count": 12,
      "id": "10e3e56b",
      "metadata": {},
      "outputs": [
        {
          "data": {
            "text/plain": [
              "True"
            ]
          },
          "execution_count": 12,
          "metadata": {},
          "output_type": "execute_result"
        }
      ],
      "source": [
        "isPositive(10)"
      ]
    },
    {
      "cell_type": "code",
      "execution_count": 14,
      "id": "5f61b5f9",
      "metadata": {},
      "outputs": [
        {
          "data": {
            "text/plain": [
              "False"
            ]
          },
          "execution_count": 14,
          "metadata": {},
          "output_type": "execute_result"
        }
      ],
      "source": [
        "isPositive(-1)"
      ]
    },
    {
      "cell_type": "markdown",
      "id": "afd7247b",
      "metadata": {},
      "source": [
        "## 1.0 Object Oriented Programming Theory \n",
        "* The Object-Oriented Paradigm originated in the 1980s. \n",
        "\n",
        "* C++ was originally known as 'C with classes'.\n",
        "\n",
        "* Procedural programming would separate data from procedures. \n",
        "\n",
        "* Object Oriented Programming encapsulates both data and procedures into a package (an object).\n",
        "\n",
        "* As we have seen, Python build primitive types as classes: `int`, `str`, `float`, `bool`\n"
      ]
    },
    {
      "cell_type": "markdown",
      "id": "5cb7add1",
      "metadata": {},
      "source": [
        "![class_entity](https://media.dev.to/cdn-cgi/image/width=800%2Cheight=%2Cfit=scale-down%2Cgravity=auto%2Cformat=auto/https%3A%2F%2Fdev-to-uploads.s3.amazonaws.com%2Fuploads%2Farticles%2Fbpcvpxpcdqnxqn53n3zf.png)"
      ]
    },
    {
      "cell_type": "markdown",
      "id": "372ec4ee",
      "metadata": {},
      "source": [
        "![classes_and_objects](https://miro.medium.com/v2/resize:fit:1400/1*CM0Jy_kA06FwPx0O432RxA.png)"
      ]
    },
    {
      "cell_type": "markdown",
      "id": "d8700915",
      "metadata": {},
      "source": [
        "![uml_classes](https://media.geeksforgeeks.org/wp-content/uploads/20220520121002/classdiagramaccount-660x604.jpg)"
      ]
    },
    {
      "cell_type": "markdown",
      "id": "768df662",
      "metadata": {},
      "source": [
        "## 2.1 Classes and Objects\n",
        "\n",
        "Let's start by defining a simple `Student` class (entity). \n"
      ]
    },
    {
      "cell_type": "code",
      "execution_count": 16,
      "id": "e5312596",
      "metadata": {},
      "outputs": [],
      "source": [
        "class Student:\n",
        "    def print_name(self):\n",
        "        print(\"Hi Nick\") "
      ]
    },
    {
      "cell_type": "markdown",
      "id": "97c71e8b",
      "metadata": {},
      "source": [
        "Now that we have this class defined, we can instantiate an object from this blueprint."
      ]
    },
    {
      "cell_type": "code",
      "execution_count": 17,
      "id": "c7e275cc",
      "metadata": {},
      "outputs": [
        {
          "name": "stdout",
          "output_type": "stream",
          "text": [
            "Hi Nick\n"
          ]
        }
      ],
      "source": [
        "obj = Student() # call constructor\n",
        "obj.print_name() "
      ]
    },
    {
      "cell_type": "markdown",
      "id": "8fee52b4",
      "metadata": {},
      "source": [
        "## 2.2 Object Addresses"
      ]
    },
    {
      "cell_type": "code",
      "execution_count": 6,
      "id": "190832b1",
      "metadata": {},
      "outputs": [
        {
          "name": "stdout",
          "output_type": "stream",
          "text": [
            "<__main__.Student object at 0x102cdc730>\n"
          ]
        }
      ],
      "source": [
        "obj = Student() # call constructor\n",
        "print(obj)\n"
      ]
    },
    {
      "cell_type": "markdown",
      "id": "e81fb3f2",
      "metadata": {},
      "source": [
        "## 2.3 Multiple Objects of the same Class\n",
        "\n",
        "* Notice below how we can create more than one object of the same class blueprint (structure).\n",
        "\n",
        "* Each object has its own unique memory address (hexedecimal printed below)\n",
        "\n",
        "* The object name stores this memory address - like a variable would store a value (an integer or a str value)"
      ]
    },
    {
      "cell_type": "code",
      "execution_count": 18,
      "id": "95f1c5a1",
      "metadata": {},
      "outputs": [
        {
          "name": "stdout",
          "output_type": "stream",
          "text": [
            "<__main__.Student object at 0x105b64be0>\n",
            "<__main__.Student object at 0x105b64580>\n"
          ]
        }
      ],
      "source": [
        "nick = Student() # one object\n",
        "print(nick)\n",
        "\n",
        "sam = Student() # another object!\n",
        "print(sam)"
      ]
    },
    {
      "cell_type": "code",
      "execution_count": 19,
      "id": "f66b8b29",
      "metadata": {},
      "outputs": [
        {
          "name": "stdout",
          "output_type": "stream",
          "text": [
            "Hi Nick\n",
            "Hi Nick\n"
          ]
        }
      ],
      "source": [
        "nick.print_name()\n",
        "sam.print_name()"
      ]
    },
    {
      "cell_type": "markdown",
      "id": "43a30c22",
      "metadata": {},
      "source": [
        "Problem... how should we address this?"
      ]
    },
    {
      "cell_type": "markdown",
      "id": "b9026ec0",
      "metadata": {},
      "source": [
        "## 2.4 The `self` reference\n",
        "\n",
        "* `self` can be substituted for any given object created of the class.\n",
        "\n",
        "* Rather than specifying one object that will be referred to every time the method is run, `self` can refer to the object that the method is being called on.\n",
        "\n",
        "* In Python, `self` is automatically passed (so we don’t have to), but it is received, so has to be defined in class methods.\n"
      ]
    },
    {
      "cell_type": "markdown",
      "id": "0f80f220",
      "metadata": {},
      "source": [
        "Let's update the `Student` class below with `self`:"
      ]
    },
    {
      "cell_type": "code",
      "execution_count": 21,
      "id": "6a245cb7",
      "metadata": {},
      "outputs": [],
      "source": [
        "class Student:\n",
        "    def set_name(self, name):\n",
        "        self.name = name"
      ]
    },
    {
      "cell_type": "code",
      "execution_count": 22,
      "id": "d7c64a37",
      "metadata": {},
      "outputs": [
        {
          "name": "stdout",
          "output_type": "stream",
          "text": [
            "Nick\n"
          ]
        }
      ],
      "source": [
        "nick = Student() # call constructor\n",
        "nick.set_name(\"Nick\") \n",
        "print(nick.name) "
      ]
    },
    {
      "cell_type": "code",
      "execution_count": 23,
      "id": "dd55b89e",
      "metadata": {},
      "outputs": [
        {
          "name": "stdout",
          "output_type": "stream",
          "text": [
            "Nick\n",
            "Sam\n"
          ]
        }
      ],
      "source": [
        "nick = Student() # One object\n",
        "nick.set_name(\"Nick\") \n",
        "print(nick.name)\n",
        "\n",
        "sam = Student() # Another object\n",
        "sam.set_name(\"Sam\") \n",
        "print(sam.name)"
      ]
    },
    {
      "cell_type": "markdown",
      "id": "6d08aa6c",
      "metadata": {},
      "source": [
        "## 2.5 Constructor `__init__()`\n",
        "\n",
        "* A constructor is a method which has the same name as the class. \n",
        "\n",
        "* In Python, we can use the <b>dunder method</b> (double underscore) `__init__()` to refer to the constructor. \n",
        "\n",
        "* Dunder methods are called by the Python interpreter. It initialises the object and sets values for attributes (variables).\n",
        "\n",
        "* The constructor is called when we create an object of the class.\n",
        "\n",
        "* In Python we can still call the constructor (same name as the class). The Python interpreter then calls the `__init__()` method.\n",
        "\n"
      ]
    },
    {
      "cell_type": "markdown",
      "id": "e944d46c",
      "metadata": {},
      "source": [
        "Now let's 'set' the name of our student in this constructor `__init__()`\n",
        "\n",
        "We also have to include the `self` reference and the name to be passed in."
      ]
    },
    {
      "cell_type": "code",
      "execution_count": 24,
      "id": "7b16e332",
      "metadata": {},
      "outputs": [],
      "source": [
        "class Student:\n",
        "    def __init__(self, name):\n",
        "        self.name = name"
      ]
    },
    {
      "cell_type": "markdown",
      "id": "e12c75b6",
      "metadata": {},
      "source": [
        "Now, when we call the constructor to instantiate the object, we pass in the name via the parentheses `()`."
      ]
    },
    {
      "cell_type": "code",
      "execution_count": 26,
      "id": "f1466cda",
      "metadata": {},
      "outputs": [
        {
          "name": "stdout",
          "output_type": "stream",
          "text": [
            "Nick\n"
          ]
        }
      ],
      "source": [
        "nick = Student(\"Nick\") \n",
        "print(nick.name) "
      ]
    },
    {
      "cell_type": "markdown",
      "id": "41216819",
      "metadata": {},
      "source": [
        "Now that we can customise the name for each object we can bring our earlier print method:"
      ]
    },
    {
      "cell_type": "code",
      "execution_count": 27,
      "id": "f9bf4019",
      "metadata": {},
      "outputs": [],
      "source": [
        "class Student:\n",
        "    \n",
        "    def __init__(self, name):\n",
        "        self.name = name\n",
        "        \n",
        "    def print_name(self):\n",
        "        print(self.name) "
      ]
    },
    {
      "cell_type": "markdown",
      "id": "1e8fd58d",
      "metadata": {},
      "source": [
        "Note: remember the indentation for each block (the functions that sit in the class)"
      ]
    },
    {
      "cell_type": "code",
      "execution_count": 28,
      "id": "b679b736",
      "metadata": {},
      "outputs": [
        {
          "name": "stdout",
          "output_type": "stream",
          "text": [
            "Nick\n",
            "Sam\n"
          ]
        }
      ],
      "source": [
        "nick = Student(\"Nick\") \n",
        "nick.print_name()\n",
        "\n",
        "sam = Student(\"Sam\") \n",
        "sam.print_name()"
      ]
    },
    {
      "cell_type": "code",
      "execution_count": 29,
      "id": "929ca251",
      "metadata": {},
      "outputs": [
        {
          "name": "stdout",
          "output_type": "stream",
          "text": [
            "Nick\n",
            "Sam\n"
          ]
        }
      ],
      "source": [
        "print(nick.name) \n",
        "print(sam.name) "
      ]
    },
    {
      "cell_type": "markdown",
      "id": "1ed62f96",
      "metadata": {},
      "source": [
        "## 3.0 Inheritance\n",
        "\n",
        "* In our social world; inheritance means the passing down of assets from generation to generation; children inherit from their parents.\n",
        "\n",
        "* In programming, inheritance is modelled by allowing 'child' classes to access variables and methods from the 'parent' class.\n",
        "\n",
        "* Furthermore, Children classes often extend (are specialist versions of) the Parent classes. \n",
        "\n"
      ]
    },
    {
      "cell_type": "markdown",
      "id": "268cc1a1",
      "metadata": {},
      "source": [
        "![uml_inheritance](https://templates.visual-paradigm.com/repository/images/81d68935-56bd-4798-b798-17c2e3e46ce7.png)"
      ]
    },
    {
      "cell_type": "markdown",
      "id": "1c99378f",
      "metadata": {},
      "source": [
        "* Java uses the key word `extends`:  \n",
        "  `ChildClass extends ParentClass`\n",
        "* C family languages use the `:` (colon) operator:   \n",
        "  `ChildClass : ParentClass`\n",
        "\n",
        "* In Python, we have to pass the Parent reference to the Child class.\n"
      ]
    },
    {
      "cell_type": "code",
      "execution_count": 31,
      "id": "02caa347",
      "metadata": {},
      "outputs": [],
      "source": [
        "class Parent:\n",
        "    def print(self):\n",
        "        print(\"Hi from Parent Class\") "
      ]
    },
    {
      "cell_type": "code",
      "execution_count": 32,
      "id": "6ee18d82",
      "metadata": {},
      "outputs": [],
      "source": [
        "class Child(Parent):\n",
        "    def print(self):\n",
        "        print(\"Hi from Child Class\") \n"
      ]
    },
    {
      "cell_type": "code",
      "execution_count": 33,
      "id": "36760262",
      "metadata": {},
      "outputs": [
        {
          "name": "stdout",
          "output_type": "stream",
          "text": [
            "Hi from Child Class\n"
          ]
        }
      ],
      "source": [
        "childobj = Child() # call constructor\n",
        "childobj.print() "
      ]
    },
    {
      "cell_type": "markdown",
      "id": "e0a51e5f",
      "metadata": {},
      "source": [
        "## 3.2 The `super()` reference\n",
        "\n",
        "* We’ve used the keyword `self` within class constructors to refer to variables of any given object that is created. \n",
        "\n",
        "* In an inheritance hierarchy, the child constructor may want to invoke the parent constructor to initialise values for inherited attributes. \n",
        "\n",
        "* The `super()` is a reference to the parent’s constructor. \n",
        "\n",
        "* You can also refer to attributes and functions through the `super()` reference.\n"
      ]
    },
    {
      "cell_type": "code",
      "execution_count": 34,
      "id": "934a9260",
      "metadata": {},
      "outputs": [],
      "source": [
        "class Parent:\n",
        "    def print(self):\n",
        "        print(\"Hi from Parent Class\") "
      ]
    },
    {
      "cell_type": "code",
      "execution_count": 35,
      "id": "ad42a85a",
      "metadata": {},
      "outputs": [],
      "source": [
        "class Child(Parent):\n",
        "    def print(self):\n",
        "        super().print()"
      ]
    },
    {
      "cell_type": "code",
      "execution_count": 36,
      "id": "91b3e841",
      "metadata": {},
      "outputs": [
        {
          "name": "stdout",
          "output_type": "stream",
          "text": [
            "Hi from Parent Class\n"
          ]
        }
      ],
      "source": [
        "child_obj = Child() # call constructor\n",
        "child_obj.print() "
      ]
    },
    {
      "cell_type": "markdown",
      "id": "a0a7da87",
      "metadata": {},
      "source": [
        "## 3.3 Inheritance Extension"
      ]
    },
    {
      "cell_type": "code",
      "execution_count": 39,
      "id": "608b60ea",
      "metadata": {},
      "outputs": [],
      "source": [
        "class Person: \n",
        "    def __init__(self, name):\n",
        "        self.name = name"
      ]
    },
    {
      "cell_type": "code",
      "execution_count": 38,
      "id": "b79a47b1",
      "metadata": {},
      "outputs": [],
      "source": [
        "class Student(Person):\n",
        "    def __init__(self, name):\n",
        "        super().__init__(name)"
      ]
    },
    {
      "cell_type": "code",
      "execution_count": 40,
      "id": "095704f6",
      "metadata": {},
      "outputs": [
        {
          "name": "stdout",
          "output_type": "stream",
          "text": [
            "Sam\n",
            "<class '__main__.Student'>\n"
          ]
        }
      ],
      "source": [
        "sam = Student(\"Sam\") \n",
        "print(sam.name) \n",
        "print(type(sam))"
      ]
    },
    {
      "cell_type": "code",
      "execution_count": 41,
      "id": "975dd0d5",
      "metadata": {},
      "outputs": [],
      "source": [
        "class Staff(Person):\n",
        "    def __init__(self, name):\n",
        "        super().__init__(name)"
      ]
    },
    {
      "cell_type": "code",
      "execution_count": 42,
      "id": "7b50e499",
      "metadata": {},
      "outputs": [
        {
          "name": "stdout",
          "output_type": "stream",
          "text": [
            "Nick\n",
            "<class '__main__.Staff'>\n"
          ]
        }
      ],
      "source": [
        "nick = Staff(\"Nick\")\n",
        "print(nick.name)\n",
        "print(type(nick))"
      ]
    },
    {
      "cell_type": "markdown",
      "id": "cb8dc33f",
      "metadata": {},
      "source": [
        "Whilst staff and students will have other common attributes (which we could add to the `Person` class): \n",
        "* First and last name \n",
        "\n",
        "* An ID number of the University\n",
        "\n",
        "* Both assigned to modules\n",
        "\n",
        "* Have a printing balance\n",
        "\n",
        "* A library account\n",
        "\n",
        "Let's focus on somethiing unique to each, so we can demonstrate specialism: \n",
        "\n",
        "* Students have an overall grade for their degree (+ individual marks for each module)\n",
        "\n",
        "* Staff attend meetings (a behaviour / method). They also have objectives set in their PDRs (an attribute)"
      ]
    },
    {
      "cell_type": "markdown",
      "id": "8aa49408",
      "metadata": {},
      "source": [
        "So let's add a `mark` attribute which is unique to the `Student` class:"
      ]
    },
    {
      "cell_type": "code",
      "execution_count": 44,
      "id": "6aef4b37",
      "metadata": {},
      "outputs": [],
      "source": [
        "class Student(Person):\n",
        "    def __init__(self, name, mark):\n",
        "        super().__init__(name) # common to both Student and Staff therefore stored in Person.\n",
        "        self.mark = mark # unique to Student therefore stored in self here.\n",
        "    \n",
        "    def get_mark(self):\n",
        "        print(self.mark)"
      ]
    },
    {
      "cell_type": "markdown",
      "id": "afc51f20",
      "metadata": {},
      "source": [
        "And let's add an `objective` attribute which is unqiue to the `Staff` class"
      ]
    },
    {
      "cell_type": "code",
      "execution_count": 43,
      "id": "bc3b0f8e",
      "metadata": {},
      "outputs": [],
      "source": [
        "class Staff(Person):\n",
        "    def __init__(self, name, objective):\n",
        "        super().__init__(name) # common to both Student and Staff therefore stored in Person.\n",
        "        self.objective = objective # unique to Staff therefore stored in self here.\n",
        "        \n",
        "    def get_objective(self):\n",
        "        print(self.objective)"
      ]
    },
    {
      "cell_type": "code",
      "execution_count": 45,
      "id": "2b757fd8",
      "metadata": {},
      "outputs": [
        {
          "name": "stdout",
          "output_type": "stream",
          "text": [
            "Nick\n",
            "Write a blended Computer Science Curriculum\n",
            "<class '__main__.Staff'>\n"
          ]
        }
      ],
      "source": [
        "nick = Staff(\"Nick\", \"Write a blended Computer Science Curriculum\")\n",
        "print(nick.name)\n",
        "nick.get_objective()\n",
        "print(type(nick))"
      ]
    },
    {
      "cell_type": "code",
      "execution_count": 46,
      "id": "2d3aabbb",
      "metadata": {},
      "outputs": [
        {
          "name": "stdout",
          "output_type": "stream",
          "text": [
            "Sam\n",
            "75\n",
            "<class '__main__.Student'>\n"
          ]
        }
      ],
      "source": [
        "sam = Student(\"Sam\", 75)\n",
        "print(sam.name)\n",
        "sam.get_mark()\n",
        "print(type(sam))"
      ]
    },
    {
      "cell_type": "markdown",
      "id": "25d207c4",
      "metadata": {},
      "source": [
        "Finally, for convenience, let's create a print method for each of the entities"
      ]
    },
    {
      "cell_type": "code",
      "execution_count": 1,
      "id": "177fe959",
      "metadata": {},
      "outputs": [],
      "source": [
        "class Person: \n",
        "    def __init__(self, name):\n",
        "        self.name = name\n",
        "        \n",
        "    def get_name(self):\n",
        "        return self.name"
      ]
    },
    {
      "cell_type": "code",
      "execution_count": 48,
      "id": "75131a66",
      "metadata": {},
      "outputs": [],
      "source": [
        "class Student(Person):\n",
        "    def __init__(self, name, mark):\n",
        "        super().__init__(name)\n",
        "        self.mark = mark\n",
        "    \n",
        "    def get_mark(self):\n",
        "        print(self.mark)\n",
        "        \n",
        "    def print(self):\n",
        "        \"\"\" Unique print method for Student attributes \"\"\"\n",
        "        print(super().get_name(), \"is a\", type(self))\n",
        "        print(\"Mark:\", self.mark)"
      ]
    },
    {
      "cell_type": "code",
      "execution_count": 49,
      "id": "860202f1",
      "metadata": {},
      "outputs": [],
      "source": [
        "class Staff(Person):\n",
        "    def __init__(self, name, objective):\n",
        "        super().__init__(name)\n",
        "        self.objective = objective\n",
        "        \n",
        "    def get_objective(self):\n",
        "        print(self.objective)\n",
        "        \n",
        "    def print(self): \n",
        "        \"\"\" Unique print method for Staff attributes \"\"\"\n",
        "        print(super().get_name(), \"is a\", type(self))\n",
        "        print(\"Objective:\", self.objective)\n",
        "        "
      ]
    },
    {
      "cell_type": "code",
      "execution_count": 50,
      "id": "93ba0da8",
      "metadata": {},
      "outputs": [
        {
          "name": "stdout",
          "output_type": "stream",
          "text": [
            "Nick is a <class '__main__.Staff'>\n",
            "Objective: Write a blended Computer Science Curriculum\n"
          ]
        }
      ],
      "source": [
        "nick = Staff(\"Nick\", \"Write a blended Computer Science Curriculum\")\n",
        "nick.print()"
      ]
    },
    {
      "cell_type": "code",
      "execution_count": 51,
      "id": "b08284e4",
      "metadata": {},
      "outputs": [
        {
          "name": "stdout",
          "output_type": "stream",
          "text": [
            "Sam is a <class '__main__.Student'>\n",
            "Mark: 75\n"
          ]
        }
      ],
      "source": [
        "sam = Student(\"Sam\", 75)\n",
        "sam.print()"
      ]
    },
    {
      "cell_type": "markdown",
      "id": "1fe7ddbc",
      "metadata": {},
      "source": [
        "So what we have here are the same data, but custom print methods each each child class `Student` and `Staff` that prints the relevant attribute data."
      ]
    },
    {
      "cell_type": "markdown",
      "id": "2e9db417",
      "metadata": {},
      "source": [
        "## Exercise - OOP\n",
        "\n",
        "Define a Student class, which stores a name, and id for a student. Assign these details via the constructor. Also create a print method \n",
        "\n",
        "Now create an object of this class, passing in the student name (which could be yours), and a student id number to the constructor. \n"
      ]
    },
    {
      "cell_type": "code",
      "execution_count": null,
      "id": "53493f6c",
      "metadata": {},
      "outputs": [],
      "source": [
        "# Write your solution here - use as many cells as you need.\n"
      ]
    },
    {
      "cell_type": "markdown",
      "id": "7cee8ac8",
      "metadata": {},
      "source": [
        "## Exercise - py files \n",
        "\n",
        "Now move your Student class to a dedicated Python file `student.py`  \n",
        "  Create a new file named `main.py` and here insantiate the Student class.  \n",
        "\n",
        "You can run this script via terminal commands. First make sure your terminal is pointing to the correct file directory. You may need to `c`hange `d`irectory with the `cd` command. Once pointing to the correct directory, run the command `python main.py` in a VSC terminal to run the main.py - which should route to the main function. \n",
        "\n",
        "The convention for calling the main function: \n",
        "\n",
        "```\n",
        "if \"__main__\" == main():\n",
        "    main()\n",
        "```"
      ]
    },
    {
      "cell_type": "code",
      "execution_count": 1,
      "id": "56967eb1",
      "metadata": {},
      "outputs": [],
      "source": [
        "# Write your solution here or in a dedicated py file.\n",
        "\n"
      ]
    },
    {
      "cell_type": "markdown",
      "id": "438e1ec0",
      "metadata": {},
      "source": [
        "## Exericse - OOP \n",
        "\n",
        "Now create a `course.py` file that contains a Course class. \n",
        "\n",
        "This Course class should define a constructor that takes the course's name and code as arguments. Also define a print function that will output these values to screen for any object of the Course class.\n",
        "\n",
        "Test this by instantiating the class, creating an object for the course you are enrolled on here at BNU. Call the constructor and pass the course name and code. Then call the Course's print method on your object to see the details on the screen. \n",
        "\n",
        "FYI: You can find the official BNU Course Codes in the Programme Specifications <a href = \"https://www.bucks.ac.uk/search/courses?query=computing\"> which are linked under the course pages on our website </a>"
      ]
    },
    {
      "cell_type": "code",
      "execution_count": null,
      "id": "2f9185f6",
      "metadata": {},
      "outputs": [],
      "source": [
        "# Write your solution here or in a dedicated py file.\n"
      ]
    },
    {
      "cell_type": "markdown",
      "id": "771eb9f0",
      "metadata": {},
      "source": [
        "## Exercise - Inheritance \n",
        "\n",
        "In addition to your `student.py`, create a `staff.py` file which contains a `Staff` class. \n",
        "\n",
        "Create a `person.py` file, in which a `Person` class is the superclass of `Student` and `Staff`. \n",
        "\n",
        "Write your classes so that the `Student` and `Staff` inherit common attributes and methods from the `Person` class. \n"
      ]
    },
    {
      "cell_type": "code",
      "execution_count": null,
      "id": "63c06bba",
      "metadata": {},
      "outputs": [],
      "source": [
        "# Write your solution here or in a dedicated py file.\n"
      ]
    },
    {
      "cell_type": "markdown",
      "id": "e036993e",
      "metadata": {},
      "source": [
        "## Additional exercises - Strings"
      ]
    },
    {
      "cell_type": "markdown",
      "id": "001ae1d4",
      "metadata": {},
      "source": [
        "## Exercise: \n",
        "\n",
        "Without using any functions provided by libraries (e.g. `reverse()`), implement a function that will reverse the contents of a string. "
      ]
    },
    {
      "cell_type": "code",
      "execution_count": null,
      "id": "5922c579",
      "metadata": {},
      "outputs": [],
      "source": [
        "# Write your solution here or in a dedicated py file.\n"
      ]
    },
    {
      "cell_type": "markdown",
      "id": "8660f435",
      "metadata": {},
      "source": [
        "## Exercise: \n",
        "\n",
        "Write a function that checks if a given string is a palindrome (same word forwards as backwards). Examples of palindromes include 'eve', 'madam', 'racecar' etc.\n"
      ]
    },
    {
      "cell_type": "code",
      "execution_count": null,
      "id": "7acd1ade",
      "metadata": {},
      "outputs": [],
      "source": [
        "# Write your solution here or in a dedicated py file.\n"
      ]
    },
    {
      "cell_type": "markdown",
      "id": "74540fe3",
      "metadata": {},
      "source": [
        "## Exercise:\n",
        "Write a function to determine if a string has all unique characters. Return `True` or `False` respectively."
      ]
    },
    {
      "cell_type": "code",
      "execution_count": null,
      "id": "d4cf9d17",
      "metadata": {},
      "outputs": [],
      "source": [
        "# Write your solution here or in a dedicated py file.\n"
      ]
    },
    {
      "cell_type": "markdown",
      "id": "a203dabe",
      "metadata": {},
      "source": [
        "## Exercise:\n",
        "\n",
        "Write a function that will replace all spaces in a string with \"%20\". This is the hexedecimal encoding that is used to replace spaces in URLs (which cannot contain spaces). "
      ]
    },
    {
      "cell_type": "code",
      "execution_count": null,
      "id": "d53fbd47",
      "metadata": {},
      "outputs": [],
      "source": [
        "# Write your solution here or in a dedicated py file.\n"
      ]
    },
    {
      "cell_type": "markdown",
      "id": "baf9c196",
      "metadata": {},
      "source": [
        "## Exercise: \n",
        "\n",
        "Write a function that checks whether two given strings are anagrams of each other.\n",
        "Definition of an anagram is being able to make another word from the same characters: 'mood' and 'doom', 'listen' and 'silent' "
      ]
    },
    {
      "cell_type": "code",
      "execution_count": null,
      "id": "14476b80",
      "metadata": {},
      "outputs": [],
      "source": [
        "# Write your solution here or in a dedicated py file.\n"
      ]
    },
    {
      "cell_type": "markdown",
      "id": "127c7ad2",
      "metadata": {},
      "source": [
        "## Exercise: \n",
        "\n",
        "Write a function that will replace all spaces in a string with \"%20\". This is the hexedecimal encoding that is used to replace spaces in URLs (which cannot contain spaces). "
      ]
    },
    {
      "cell_type": "code",
      "execution_count": null,
      "id": "160357a0",
      "metadata": {},
      "outputs": [],
      "source": [
        "# Write your solution here or in a dedicated py file.\n"
      ]
    },
    {
      "cell_type": "markdown",
      "id": "fb89e781",
      "metadata": {},
      "source": [
        "## Additional Exercises - Maths"
      ]
    },
    {
      "cell_type": "markdown",
      "id": "83a7315f",
      "metadata": {},
      "source": [
        "## Exercise \n",
        "\n",
        "Write to function which will evaluate whether a number passed in is prime (divisible by itself and 1) or not. Return `True` if the number is prime, and return `False` if the number is not. Test this with a range of positive integers. "
      ]
    },
    {
      "cell_type": "code",
      "execution_count": null,
      "id": "a82c1502",
      "metadata": {},
      "outputs": [],
      "source": [
        "# Write your solution here or in a dedicated py file.\n"
      ]
    },
    {
      "cell_type": "markdown",
      "id": "a3598ca9",
      "metadata": {},
      "source": [
        "## Exercise \n",
        "\n",
        "Generate three side lengths of a triangle (positive integers). Write a function that will determine whether these form a right-angled triangle using Pythagoras’ theorem.\n",
        "\n",
        "As a reminder, Pythagoras' theorem is: $a^2 + b^2 = c^2$\n"
      ]
    },
    {
      "cell_type": "code",
      "execution_count": null,
      "id": "c43fb371",
      "metadata": {},
      "outputs": [],
      "source": [
        "# Write your solution here or in a dedicated py file.\n"
      ]
    },
    {
      "cell_type": "markdown",
      "id": "9eeff6fa",
      "metadata": {},
      "source": [
        "## Exercise \n",
        "Calculate the distance between two points $(x_1, y_1)$ and $(x_2, y_2)$ in a 2D plane using Pythagoras’ theorem.\n",
        "\n",
        "Hint: To calculate distance (denoted as $d$) applying the following formula:   \n",
        "$d = \\sqrt{(x_2 - x_1)^2 + (y_2 - y_1)^2}$ \n",
        "\n",
        "Extension: import matplotlib and draw these points and the line between them on a 2D plot."
      ]
    },
    {
      "cell_type": "code",
      "execution_count": null,
      "id": "6d37577e",
      "metadata": {},
      "outputs": [],
      "source": [
        "# Write your solution here or in a dedicated py file.\n"
      ]
    },
    {
      "cell_type": "markdown",
      "id": "981726bc",
      "metadata": {},
      "source": [
        "## Exercise \n",
        "\n",
        "Now, write a function which will output all prime numbers up to $N$ (which you pass in).\n",
        "If you get stuck, research the 'Sieve of Eratosthenes` and implement this algorithm to output the prime numbers in sequence up until the upper bound $N$ as specified."
      ]
    },
    {
      "cell_type": "code",
      "execution_count": null,
      "id": "6e629cb4",
      "metadata": {},
      "outputs": [],
      "source": [
        "# Write your solution here or in a dedicated py file.\n"
      ]
    },
    {
      "cell_type": "markdown",
      "id": "adfae9e9",
      "metadata": {},
      "source": [
        "## Additional OOP Exercises!"
      ]
    },
    {
      "cell_type": "markdown",
      "id": "91696723",
      "metadata": {},
      "source": [
        "## Exercise 1: \n",
        "\n",
        "Design the data structures for a generic deck of cards. Explain how you would subclass the data structures to implement blackjack (21). "
      ]
    },
    {
      "cell_type": "code",
      "execution_count": null,
      "id": "d398f704",
      "metadata": {},
      "outputs": [],
      "source": [
        "# Write your solution here or in a dedicated py file.\n"
      ]
    },
    {
      "cell_type": "markdown",
      "id": "8712ca5d",
      "metadata": {},
      "source": [
        "## Exercise 2: \n",
        "\n",
        "Imagine you have a call centre with three levels of employees: respondent, manager and director. An incoming telephone call must be first allocated to a respondent who is free. If a respondent can't handle the call, they must escalate the call to the manager. If the manager is not free or not able to handle it, then the call should be escalated to a director. Design classes and data structures for this problem. Implement a function `dispatch_call()` which assigns the call to the first available employee. "
      ]
    },
    {
      "cell_type": "code",
      "execution_count": null,
      "id": "b5a355fd",
      "metadata": {},
      "outputs": [],
      "source": [
        "# Write your solution here or in a dedicated py file.\n"
      ]
    },
    {
      "cell_type": "markdown",
      "id": "c5438444",
      "metadata": {},
      "source": [
        "## Exercise 3: \n",
        "\n",
        "Implement a jigsaw puzzle. Design the data structures and explain an algorithm to solve the puzzle. You can assume that you have a `fits_with()` function, which when passed two puzzle pieces, returns `True` if the pieces fit together. "
      ]
    },
    {
      "cell_type": "code",
      "execution_count": null,
      "id": "535aa15a",
      "metadata": {},
      "outputs": [],
      "source": [
        "# Write your solution here or in a dedicated py file.\n"
      ]
    }
  ],
  "metadata": {
    "colab": {
      "provenance": []
    },
    "kernelspec": {
      "display_name": "Python 3",
      "language": "python",
      "name": "python3"
    },
    "language_info": {
      "codemirror_mode": {
        "name": "ipython",
        "version": 3
      },
      "file_extension": ".py",
      "mimetype": "text/x-python",
      "name": "python",
      "nbconvert_exporter": "python",
      "pygments_lexer": "ipython3",
      "version": "3.9.6"
    }
  },
  "nbformat": 4,
  "nbformat_minor": 5
}
