{
 "cells": [
  {
   "cell_type": "markdown",
   "metadata": {},
   "source": [
    "![pythonLogo.png](https://www.python.org/static/community_logos/python-powered-w-200x80.png)\n",
    "\n",
    "# 07 Stacks\n",
    "ND Sept 2024"
   ]
  },
  {
   "cell_type": "markdown",
   "metadata": {},
   "source": [
    "# Stack\n",
    "\n",
    "In contrast with the queue, a stack operates on a Last In First Out (LIFO) principle. If we stack up plates after a meal, then it is much easier to wash up the plate on the top of the stack as it is most accessible. If we attempt to draw from the bottom of the stack of plates then we risk toppling the plates stacked on top of the bottom one. This principle is modelled in a stack of data. \n",
    "\n",
    "![stack.png](https://scaler.com/topics/images/working-of-stack-in-java.gif)"
   ]
  },
  {
   "cell_type": "code",
   "execution_count": 1,
   "metadata": {},
   "outputs": [
    {
     "name": "stdout",
     "output_type": "stream",
     "text": [
      "Adding pizza #1 to the pizza stack!\n",
      "Adding pizza #2 to the pizza stack!\n",
      "Adding pizza #3 to the pizza stack!\n",
      "Adding pizza #4 to the pizza stack!\n",
      "Adding pizza #5 to the pizza stack!\n",
      "Adding pizza #6 to the pizza stack!\n",
      "No room for pizza #7!\n",
      "The first pizza to deliver is pizza #6\n",
      "Delivering pizza #6\n",
      "Delivering pizza #5\n",
      "Delivering pizza #4\n",
      "Delivering pizza #3\n",
      "Delivering pizza #2\n",
      "Delivering pizza #1\n",
      "All out of pizza.\n"
     ]
    }
   ],
   "source": [
    "class Node:\n",
    "  def __init__(self, value, next_node=None):\n",
    "    self.value = value\n",
    "    self.next_node = next_node\n",
    "    \n",
    "  def get_value(self):\n",
    "    return self.value\n",
    "  \n",
    "  def get_next_node(self):\n",
    "    return self.next_node\n",
    "  \n",
    "  def set_next_node(self, next_node):\n",
    "    self.next_node = next_node\n",
    "    \n",
    "\n",
    "class Stack:\n",
    "  def __init__(self, limit=1000):\n",
    "    self.top_item = None\n",
    "    self.size = 0\n",
    "    self.limit = limit\n",
    "  \n",
    "  def push(self, value):\n",
    "    if self.has_space():\n",
    "      item = Node(value)\n",
    "      item.set_next_node(self.top_item)\n",
    "      self.top_item = item\n",
    "      self.size += 1\n",
    "      print(\"Adding {} to the pizza stack!\".format(value))\n",
    "    else:\n",
    "      print(\"No room for {}!\".format(value))\n",
    "\n",
    "  def pop(self):\n",
    "    if not self.is_empty():\n",
    "      item_to_remove = self.top_item\n",
    "      self.top_item = item_to_remove.get_next_node()\n",
    "      self.size -= 1\n",
    "      print(\"Delivering \" + item_to_remove.get_value())\n",
    "      return item_to_remove.get_value()\n",
    "    print(\"All out of pizza.\")\n",
    "\n",
    "  def peek(self):\n",
    "    if not self.is_empty():\n",
    "      return self.top_item.get_value()\n",
    "    print(\"Nothing to see here!\")\n",
    "\n",
    "  def has_space(self):\n",
    "    return self.limit > self.size\n",
    "\n",
    "  def is_empty(self):\n",
    "    return self.size == 0\n",
    "  \n",
    "# Defining an empty pizza stack\n",
    "pizza_stack = Stack(6)\n",
    "# Adding pizzas as they are ready until we have \n",
    "pizza_stack.push(\"pizza #1\")\n",
    "pizza_stack.push(\"pizza #2\")\n",
    "pizza_stack.push(\"pizza #3\")\n",
    "pizza_stack.push(\"pizza #4\")\n",
    "pizza_stack.push(\"pizza #5\")\n",
    "pizza_stack.push(\"pizza #6\")\n",
    "\n",
    "# Uncomment the push() statement below:\n",
    "pizza_stack.push(\"pizza #7\")\n",
    "\n",
    "# Delivering pizzas from the top of the stack down\n",
    "print(\"The first pizza to deliver is \" + pizza_stack.peek())\n",
    "pizza_stack.pop()\n",
    "pizza_stack.pop()\n",
    "pizza_stack.pop()\n",
    "pizza_stack.pop()\n",
    "pizza_stack.pop()\n",
    "pizza_stack.pop()\n",
    "\n",
    "# Uncomment the pop() statement below:\n",
    "pizza_stack.pop()"
   ]
  },
  {
   "cell_type": "markdown",
   "metadata": {
    "slideshow": {
     "slide_type": "slide"
    }
   },
   "source": [
    "## Exercises\n",
    "\n",
    "Insert a 'code' cell below. In this do the following:\n",
    "\n",
    "- 1 - Instantiate the Stack class (copy from above). Push five integer values onto the stack object. Check that you can also 'Pop' these items off the stack and display their values to screen. What do you notice about the order of the items?\n",
    "- 2 - Create a new class called LinkedStack. This class should be able to merge the functionality of the original LinkedList class and Stack class. Each object added to the LinkedStack, should be a separate linkedlist object. When one linkedlist object is 'popped' from the stack, you can also print the entire list from this object returned from the stack.\n",
    "\n",
    "\n",
    "C++ EXERCISES to ADAPT\n",
    "\n",
    "In this week, we'll look at Stacks (based on the LIFO principle) and Queues (FIFO principle).  \n",
    "*  We'll set up classes to represent these using arrays, vectors and linked lists. \n",
    "*  We'll also review the STL stack and queue classes and compare them with ours for good measure!\n",
    "*  Like before, I've included the exercise function declarations for you to complete the definition for. \n",
    "*/\n",
    "\n",
    "/*\n",
    "* Exercise 1: Create a Stack class that uses an Array \n",
    "* Complete the Stack class below, which has functionality to 'peek', 'pop', and 'push' data.\n",
    "* The push function should add new data to the top of the stack \n",
    "* The pop function should remove data from the top of the stack\n",
    "* The peek function should return the top of the stack (but not delete)\n",
    "* \n",
    "* We'll start by representing the stack as an integer array. \n",
    "* In main above, populate the stack with random integer values. \n",
    "* \n",
    "* Extension 1: Either create a new class or amend the Stack class to use a vector rather than an array.\n",
    "* Extension 2: Either create a new class or amend the Stack class to be a template class, which can create the stack \n",
    "*              of a data type specified when the template class is instantiated.\n",
    "*/\n",
    "\n",
    "\n",
    "/*\n",
    "* Exercise 2: Create a Stack that uses a Linked List \n",
    "* Now complete the 'LinkedStack' class below, using similar logic to the 'Stack' class above.\n",
    "* However, this time, the pointers to an object of a class will be stacked (pushed) on top of previously added pointers.\n",
    "* Code this to be a template class which store objects to pointers of any class. \n",
    "* \n",
    "* Extension: Function calls and user actions are often stacked on top of each other, often for the purposes of going back/undoing actions. \n",
    "*            Furthermore, We'll see that the Depth-First Search algorithm stacks nodes on top of each other (and Breadth-First Search algorithm uses queues).            \n",
    "*            For now, simulate a scenario which requires items to be stacked on top of each other. You could add pointers to either functions or objects to this LinkedStack template you've created.\n",
    "*/\n",
    "\n"
   ]
  },
  {
   "cell_type": "markdown",
   "metadata": {},
   "source": [
    "## Exercise 1 - Stack that uses a Python List"
   ]
  },
  {
   "cell_type": "code",
   "execution_count": null,
   "metadata": {},
   "outputs": [],
   "source": [
    "# Write your solution here."
   ]
  },
  {
   "cell_type": "markdown",
   "metadata": {},
   "source": [
    "## Exercise 2 - Stack that uses a Numpy Array"
   ]
  },
  {
   "cell_type": "code",
   "execution_count": null,
   "metadata": {},
   "outputs": [],
   "source": [
    "# Write your solution here."
   ]
  },
  {
   "cell_type": "markdown",
   "metadata": {},
   "source": [
    "## Exercise 3 - Stack that uses a Linked List"
   ]
  },
  {
   "cell_type": "code",
   "execution_count": 2,
   "metadata": {},
   "outputs": [],
   "source": [
    "# Write your solution here."
   ]
  },
  {
   "cell_type": "markdown",
   "metadata": {},
   "source": [
    "## Exercise 4 - Template behaviour?"
   ]
  },
  {
   "cell_type": "code",
   "execution_count": null,
   "metadata": {},
   "outputs": [],
   "source": [
    "# Write your solution here."
   ]
  },
  {
   "cell_type": "markdown",
   "metadata": {},
   "source": [
    "## Exercise 5 - "
   ]
  },
  {
   "cell_type": "code",
   "execution_count": null,
   "metadata": {},
   "outputs": [],
   "source": [
    "# Write your solution here."
   ]
  },
  {
   "cell_type": "markdown",
   "metadata": {},
   "source": [
    "## Scenario Exercise - Emulate a GUI showing a stack of emails! \n",
    "\n",
    "Emails are always added to the top of the GUI stack... however, they may not always be removed from the top of the stack... modify the behaviour of the stack so you can remove from the middle if needed!"
   ]
  },
  {
   "cell_type": "code",
   "execution_count": null,
   "metadata": {},
   "outputs": [],
   "source": [
    "# Write your solution here. "
   ]
  }
 ],
 "metadata": {
  "celltoolbar": "Slideshow",
  "kernelspec": {
   "display_name": "Python 3 (ipykernel)",
   "language": "python",
   "name": "python3"
  },
  "language_info": {
   "codemirror_mode": {
    "name": "ipython",
    "version": 3
   },
   "file_extension": ".py",
   "mimetype": "text/x-python",
   "name": "python",
   "nbconvert_exporter": "python",
   "pygments_lexer": "ipython3",
   "version": "3.9.6"
  },
  "vscode": {
   "interpreter": {
    "hash": "c24ecc2928a1df641fb89905a028e959d05eac4f79c1af53f0bb766b01409011"
   }
  }
 },
 "nbformat": 4,
 "nbformat_minor": 4
}
