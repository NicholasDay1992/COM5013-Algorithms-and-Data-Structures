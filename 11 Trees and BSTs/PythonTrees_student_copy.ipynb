{
 "cells": [
  {
   "attachments": {
    "pythonLogo.png": {
     "image/png": "[encoded data removed]"
    }
   },
   "cell_type": "markdown",
   "metadata": {
    "slideshow": {
     "slide_type": "slide"
    }
   },
   "source": [
    "![pythonLogo.png](attachment:pythonLogo.png)\n",
    "# Trees #\n",
    "\n",
    "### Examples by Codecademy + commentary and exercise by N. Day - September 2022 ###\n",
    "\n",
    "## This section introduces Trees. It contains interactive code (there may be some errors for you to repair) and a multiple choice quiz. At the end there is also <font color=\"red\">a logbook exercise for you to complete</font>  ##\n",
    "\n",
    "\n"
   ]
  },
  {
   "cell_type": "markdown",
   "metadata": {
    "slideshow": {
     "slide_type": "slide"
    }
   },
   "source": [
    "\n",
    "# Introduction to Trees and terminology #\n",
    " \n",
    "Think of the natural tree:\n",
    "\n",
    "![natTree](https://d32qe1r3a676y7.cloudfront.net/eyJidWNrZXQiOiJibG9nLWVjb3RyZWUiLCJrZXkiOiAiYmxvZy8wMDAxLzAxL2FkNDZkYmI0NDdjZDBlOWE2YWVlY2Q2NGNjMmJkMzMyYjBjYmNiNzkuanBlZyIsImVkaXRzIjp7InJlc2l6ZSI6eyJ3aWR0aCI6IDkwMCwiaGVpZ2h0IjowLCJmaXQiOiJjb3ZlciJ9fX0=)\n",
    "\n",
    "The following terms are also adopted to describe the arrangement of data within a tree structure:\n",
    "\n",
    "- Root - The starting node of the tree\n",
    "- Leaf - The lowest level of a tree, which has no descendents\n",
    "- Child - A descendent of a parent node. In a Binary Search Tree (BST) each parent can only have two children: a right child and left child. For effective Binary Search, the left child must always have a smaller integer value than the parent, and the right child must always have a greater value than the parent. \n",
    "\n",
    "\n",
    "![Treesgif](http://www.thecrazyprogrammer.com/wp-content/uploads/2017/08/Tree-Data-Structure.gif)"
   ]
  },
  {
   "cell_type": "code",
   "execution_count": 2,
   "metadata": {},
   "outputs": [
    {
     "name": "stdout",
     "output_type": "stream",
     "text": [
      "MONKEY BUSINESS, LLC.\n",
      "=====================\n",
      "'Monkey Business CEO'\n",
      "--->'VP of Bananas'\n",
      "--->--->'Associate Chimp'\n",
      "--->--->'Chief Bonobo'\n",
      "--->'VP of Lazing Around'\n",
      "--->--->'Produce Manager'\n",
      "--->--->'Tire Swing R & D'\n",
      "\n"
     ]
    }
   ],
   "source": [
    "class TreeNode:\n",
    "  def __init__(self, value):\n",
    "    self.value = value\n",
    "    self.children = []\n",
    "\n",
    "  def __repr__(self, level=0):\n",
    "    # HELPER METHOD TO PRINT TREE!\n",
    "    ret = \"--->\" * level + repr(self.value) + \"\\n\"\n",
    "    for child in self.children:\n",
    "      ret += child.__repr__(level+1)\n",
    "    return ret\n",
    "\n",
    "  def add_child(self, child_node):\n",
    "    self.children.append(child_node) \n",
    "\n",
    "### TEST CODE TO PRINT TREE\n",
    "company = [\n",
    "  \"Monkey Business CEO\", \n",
    "  \"VP of Bananas\", \n",
    "  \"VP of Lazing Around\", \n",
    "  \"Associate Chimp\", \n",
    "  \"Chief Bonobo\", \"Produce Manager\", \"Tire Swing R & D\"]\n",
    "root = TreeNode(company.pop(0))\n",
    "for count in range(2):\n",
    "  child = TreeNode(company.pop(0))\n",
    "  root.add_child(child)\n",
    "\n",
    "root.children[0].add_child(TreeNode(company.pop(0)))\n",
    "root.children[0].add_child(TreeNode(company.pop(0)))\n",
    "root.children[1].add_child(TreeNode(company.pop(0)))\n",
    "root.children[1].add_child(TreeNode(company.pop(0)))\n",
    "print(\"MONKEY BUSINESS, LLC.\")\n",
    "print(\"=====================\")\n",
    "print(root)\n"
   ]
  },
  {
   "cell_type": "markdown",
   "metadata": {
    "slideshow": {
     "slide_type": "slide"
    }
   },
   "source": [
    "# TreeNode class\n",
    "\n",
    "From the top, let's create the constructor for TreeNode."
   ]
  },
  {
   "cell_type": "code",
   "execution_count": 3,
   "metadata": {},
   "outputs": [
    {
     "name": "stdout",
     "output_type": "stream",
     "text": [
      "Initializing node...\n"
     ]
    }
   ],
   "source": [
    "# Define your \"TreeNode\" Python class below\n",
    "class TreeNode:\n",
    "  def __init__(self, value):\n",
    "    print(\"Initializing node...\")\n",
    "    self.value = value\n",
    "    \n",
    "seed = TreeNode(\"Koko\")"
   ]
  },
  {
   "cell_type": "markdown",
   "metadata": {},
   "source": [
    "# Creating root and child nodes"
   ]
  },
  {
   "cell_type": "code",
   "execution_count": 4,
   "metadata": {},
   "outputs": [
    {
     "name": "stdout",
     "output_type": "stream",
     "text": [
      "Adding A wee sappling\n"
     ]
    }
   ],
   "source": [
    "# Define your \"TreeNode\" Python class below\n",
    "class TreeNode:\n",
    "  def __init__(self, value):\n",
    "    self.value = value\n",
    "    self.children = []\n",
    "\n",
    "  def add_child(self, child_node):\n",
    "    print(\"Adding \" + child_node.value)\n",
    "    self.children.append(child_node)\n",
    "\n",
    "root = TreeNode(\"I am Root\")\n",
    "child = TreeNode(\"A wee sappling\")\n",
    "\n",
    "root.add_child(child)"
   ]
  },
  {
   "cell_type": "markdown",
   "metadata": {},
   "source": [
    "# Removal of node from the tree"
   ]
  },
  {
   "cell_type": "code",
   "execution_count": 5,
   "metadata": {},
   "outputs": [
    {
     "name": "stdout",
     "output_type": "stream",
     "text": [
      "Adding A wee sappling\n",
      "Adding Root Rot!\n",
      "Removing Root Rot! from I am Root\n"
     ]
    }
   ],
   "source": [
    "# Define your \"TreeNode\" Python class below\n",
    "class TreeNode:\n",
    "  def __init__(self, value):\n",
    "    self.value = value\n",
    "    self.children = []\n",
    "\n",
    "  def add_child(self, child_node):\n",
    "    print(\"Adding \" + child_node.value)\n",
    "    self.children.append(child_node)\n",
    "    \n",
    "  def remove_child(self, child_node):\n",
    "    print(\"Removing \" + child_node.value + \" from \" + self.value)\n",
    "    new_children = []\n",
    "    for child in self.children:\n",
    "      if child != child_node:\n",
    "        new_children.append(child)\n",
    "    self.children = new_children\n",
    "\n",
    "root = TreeNode(\"I am Root\")\n",
    "child = TreeNode(\"A wee sappling\")\n",
    "bad_seed = TreeNode(\"Root Rot!\")\n",
    "\n",
    "root.add_child(child)\n",
    "root.add_child(bad_seed)\n",
    "\n",
    "root.remove_child(bad_seed)\n"
   ]
  },
  {
   "cell_type": "markdown",
   "metadata": {},
   "source": [
    "# Refactor with lists - removal"
   ]
  },
  {
   "cell_type": "code",
   "execution_count": 6,
   "metadata": {},
   "outputs": [
    {
     "name": "stdout",
     "output_type": "stream",
     "text": [
      "Adding A wee sappling\n",
      "Adding Root Rot!\n",
      "Removing Root Rot! from I am Root\n"
     ]
    }
   ],
   "source": [
    "# Define your \"TreeNode\" Python class below\n",
    "class TreeNode:\n",
    "  def __init__(self, value):\n",
    "    self.value = value\n",
    "    self.children = []\n",
    "\n",
    "  def add_child(self, child_node):\n",
    "    print(\"Adding \" + child_node.value)\n",
    "    self.children.append(child_node)\n",
    "    \n",
    "  def remove_child(self, child_node):\n",
    "    print(\"Removing \" + child_node.value + \" from \" + self.value)\n",
    "    self.children = [child for child in self.children \n",
    "                     if child is not child_node]\n",
    "\n",
    "root = TreeNode(\"I am Root\")\n",
    "child = TreeNode(\"A wee sappling\")\n",
    "bad_seed = TreeNode(\"Root Rot!\")\n",
    "\n",
    "root.add_child(child)\n",
    "root.add_child(bad_seed)\n",
    "\n",
    "root.remove_child(bad_seed)"
   ]
  },
  {
   "cell_type": "markdown",
   "metadata": {},
   "source": [
    "# Tree traversal\n",
    "\n",
    "Three different types of tree traversal: \n",
    "- Pre-order\n",
    "- Post-order\n",
    "- In-order\n",
    "\n",
    "![traversal](https://media.geeksforgeeks.org/wp-content/cdn-uploads/Preorder-from-Inorder-and-Postorder-traversals.jpg)"
   ]
  },
  {
   "cell_type": "code",
   "execution_count": 7,
   "metadata": {},
   "outputs": [
    {
     "name": "stdout",
     "output_type": "stream",
     "text": [
      "Adding Vice-President\n",
      "Adding Head of Marketing\n",
      "CEO\n",
      "Vice-President\n",
      "Head of Marketing\n"
     ]
    }
   ],
   "source": [
    "# Define your \"TreeNode\" Python class below\n",
    "class TreeNode:\n",
    "  def __init__(self, value):\n",
    "    self.value = value\n",
    "    self.children = []\n",
    "\n",
    "  def add_child(self, child_node):\n",
    "    print(\"Adding \" + child_node.value)\n",
    "    self.children.append(child_node)\n",
    "    \n",
    "  def remove_child(self, child_node):\n",
    "    print(\"Removing \" + child_node.value + \" from \" + self.value)\n",
    "    self.children = [child for child in self.children \n",
    "                     if child is not child_node]\n",
    "    \n",
    "  def traverse(self):\n",
    "    print(self.value)\n",
    "    for node in self.children:\n",
    "      print(node.value)\n",
    "\n",
    "root = TreeNode(\"CEO\")\n",
    "first_child = TreeNode(\"Vice-President\")\n",
    "second_child = TreeNode(\"Head of Marketing\")\n",
    "\n",
    "root.add_child(first_child)\n",
    "root.add_child(second_child)\n",
    "\n",
    "root.traverse()\n"
   ]
  },
  {
   "cell_type": "markdown",
   "metadata": {},
   "source": [
    "# Traversal - Root to Leaf"
   ]
  },
  {
   "cell_type": "code",
   "execution_count": 8,
   "metadata": {},
   "outputs": [
    {
     "name": "stdout",
     "output_type": "stream",
     "text": [
      "Adding Vice-President\n",
      "Adding Head of Marketing\n",
      "Adding Marketing Assistant\n",
      "CEO\n",
      "Head of Marketing\n",
      "Marketing Assistant\n",
      "Vice-President\n"
     ]
    }
   ],
   "source": [
    "# Define your \"TreeNode\" Python class below\n",
    "class TreeNode:\n",
    "  def __init__(self, value):\n",
    "    self.value = value\n",
    "    self.children = []\n",
    "\n",
    "  def add_child(self, child_node):\n",
    "    print(\"Adding \" + child_node.value)\n",
    "    self.children.append(child_node)\n",
    "    \n",
    "  def remove_child(self, child_node):\n",
    "    print(\"Removing \" + child_node.value + \" from \" + self.value)\n",
    "    self.children = [child for child in self.children \n",
    "                     if child is not child_node]\n",
    "\n",
    "  def traverse(self):\n",
    "    nodes_to_visit = [self]\n",
    "    while len(nodes_to_visit) > 0:\n",
    "      current_node = nodes_to_visit.pop()\n",
    "      print(current_node.value)\n",
    "      nodes_to_visit += current_node.children\n",
    "    \n",
    "\n",
    "root = TreeNode(\"CEO\")\n",
    "first_child = TreeNode(\"Vice-President\")\n",
    "second_child = TreeNode(\"Head of Marketing\")\n",
    "third_child = TreeNode(\"Marketing Assistant\")\n",
    "\n",
    "root.add_child(first_child)\n",
    "root.add_child(second_child)\n",
    "second_child.add_child(third_child)\n",
    "\n",
    "root.traverse()\n"
   ]
  },
  {
   "cell_type": "markdown",
   "metadata": {},
   "source": [
    "# Binary Search Tree (BST)\n",
    "\n",
    "Previously, we looked at the Binary Search algorithm. Remember that this operates on a divide and conquer principle. It will look for the middle of a sorted list. If the item is greater than the mid point, then the first half of the list is disregarded. The algorithm then iterates this process of dividing the list in half and will eventually find the item. \n",
    "\n",
    "Binary Search Trees will arrange nodes depending on their value. The root of the BST is regarded to be the mid point. Values lower than the mid point will be added to the left hand side, and values greater than the midpoint are added to the right hand side. This process repeats and items are then arranged in to levels (as can be seen below).\n",
    "\n",
    "![BST_arrange](https://blog.penjee.com/wp-content/uploads/2015/12/optimal-binary-search-tree-from-sorted-array.gif)\n",
    "\n",
    "Below is an example of a Binary Search algorithm running on a Tree of nodes alongside an Linear Search algorithm running on an array: \n",
    "\n",
    "![BST](https://blog.penjee.com/wp-content/uploads/2015/11/binary-search-tree-sorted-array-animation.gif)"
   ]
  },
  {
   "cell_type": "code",
   "execution_count": 9,
   "metadata": {},
   "outputs": [
    {
     "name": "stdout",
     "output_type": "stream",
     "text": [
      "4\n",
      "Value not in list\n",
      "3\n",
      "Value not in list\n",
      "1\n"
     ]
    }
   ],
   "source": [
    "def binary_search(sorted_list, target):\n",
    "  left_pointer = 0\n",
    "  right_pointer = len(sorted_list)\n",
    "  \n",
    "  # fill in the condition for the while loop\n",
    "  while left_pointer < right_pointer:\n",
    "    # calculate the middle index using the two pointers\n",
    "    mid_idx = (left_pointer + right_pointer) // 2\n",
    "    mid_val = sorted_list[mid_idx]\n",
    "    if mid_val == target:\n",
    "      return mid_idx\n",
    "    if target < mid_val:\n",
    "      # set the right_pointer to the appropriate value\n",
    "      right_pointer = mid_idx\n",
    "    if target > mid_val:\n",
    "      # set the left_pointer to the appropriate value\n",
    "      left_pointer = mid_idx + 1\n",
    "  \n",
    "  return \"Value not in list\"\n",
    "\n",
    "# test cases\n",
    "print(binary_search([5,6,7,8,9], 9))\n",
    "print(binary_search([5,6,7,8,9], 10))\n",
    "print(binary_search([5,6,7,8,9], 8))\n",
    "print(binary_search([5,6,7,8,9], 4))\n",
    "print(binary_search([5,6,7,8,9], 6))"
   ]
  },
  {
   "cell_type": "markdown",
   "metadata": {},
   "source": [
    "# BST Traversal"
   ]
  },
  {
   "cell_type": "code",
   "execution_count": 10,
   "metadata": {},
   "outputs": [
    {
     "name": "stdout",
     "output_type": "stream",
     "text": [
      "Tree node 24 added to the left of 48 at depth 2\n",
      "Tree node 55 added to the right of 48 at depth 2\n",
      "Tree node 26 added to the right of 24 at depth 3\n",
      "Tree node 38 added to the right of 26 at depth 4\n",
      "Tree node 56 added to the right of 55 at depth 3\n",
      "Tree node 74 added to the right of 56 at depth 4\n",
      "Depth=2, Value=24\n",
      "Depth=3, Value=26\n",
      "Depth=4, Value=38\n",
      "Depth=1, Value=48\n",
      "Depth=2, Value=55\n",
      "Depth=3, Value=56\n",
      "Depth=4, Value=74\n"
     ]
    }
   ],
   "source": [
    "class BinarySearchTree:\n",
    "  def __init__(self, value, depth=1):\n",
    "    self.value = value\n",
    "    self.depth = depth\n",
    "    self.left = None\n",
    "    self.right = None\n",
    "\n",
    "  def insert(self, value):\n",
    "    if (value < self.value):\n",
    "      if (self.left is None):\n",
    "        self.left = BinarySearchTree(value, self.depth + 1)\n",
    "        print(f'Tree node {value} added to the left of {self.value} at depth {self.depth + 1}')\n",
    "      else:\n",
    "        self.left.insert(value)\n",
    "    else:\n",
    "      if (self.right is None):\n",
    "        self.right = BinarySearchTree(value, self.depth + 1)\n",
    "        print(f'Tree node {value} added to the right of {self.value} at depth {self.depth + 1}')\n",
    "      else:\n",
    "        self.right.insert(value)\n",
    "        \n",
    "  def get_node_by_value(self, value):\n",
    "    if (self.value == value):\n",
    "      return self\n",
    "    elif ((self.left is not None) and (value < self.value)):\n",
    "      return self.left.get_node_by_value(value)\n",
    "    elif ((self.right is not None) and (value >= self.value)):\n",
    "      return self.right.get_node_by_value(value)\n",
    "    else:\n",
    "      return None\n",
    "    \n",
    "  # Define .depth_first_traversal() below:\n",
    "  def depth_first_traversal(self):\n",
    "    if (self.left is not None):\n",
    "      self.left.depth_first_traversal()\n",
    "    print(f'Depth={self.depth}, Value={self.value}')\n",
    "    if (self.right is not None):\n",
    "      self.right.depth_first_traversal()\n",
    "\n",
    "tree = BinarySearchTree(48)\n",
    "tree.insert(24)\n",
    "tree.insert(55)\n",
    "tree.insert(26)\n",
    "tree.insert(38)\n",
    "tree.insert(56)\n",
    "tree.insert(74)\n",
    "\n",
    "# Print depth-first traversal:\n",
    "tree.depth_first_traversal()"
   ]
  },
  {
   "cell_type": "markdown",
   "metadata": {},
   "source": [
    "# Another example of BST"
   ]
  },
  {
   "cell_type": "code",
   "execution_count": 11,
   "metadata": {},
   "outputs": [
    {
     "name": "stdout",
     "output_type": "stream",
     "text": [
      "Creating Binary Search Tree rooted at value 15:\n",
      "Tree node 8 added to the left of 15 at depth 2\n",
      "Tree node 28 added to the right of 15 at depth 2\n",
      "Tree node 46 added to the right of 28 at depth 3\n",
      "Tree node 52 added to the right of 46 at depth 4\n",
      "Tree node 68 added to the right of 52 at depth 5\n",
      "Tree node 18 added to the left of 28 at depth 3\n",
      "Tree node 71 added to the right of 68 at depth 6\n",
      "Tree node 57 added to the left of 68 at depth 6\n",
      "Tree node 29 added to the left of 46 at depth 4\n",
      "Tree node 81 added to the right of 71 at depth 7\n",
      "Printing the inorder depth-first traversal:\n",
      "Depth=2, Value=8\n",
      "Depth=1, Value=15\n",
      "Depth=3, Value=18\n",
      "Depth=2, Value=28\n",
      "Depth=4, Value=29\n",
      "Depth=3, Value=46\n",
      "Depth=4, Value=52\n",
      "Depth=6, Value=57\n",
      "Depth=5, Value=68\n",
      "Depth=6, Value=71\n",
      "Depth=7, Value=81\n"
     ]
    }
   ],
   "source": [
    "import random\n",
    "\n",
    "class BinarySearchTree:\n",
    "  def __init__(self, value, depth=1):\n",
    "    self.value = value\n",
    "    self.depth = depth\n",
    "    self.left = None\n",
    "    self.right = None\n",
    "\n",
    "  def insert(self, value):\n",
    "    if (value < self.value):\n",
    "      if (self.left is None):\n",
    "        self.left = BinarySearchTree(value, self.depth + 1)\n",
    "        print(f'Tree node {value} added to the left of {self.value} at depth {self.depth + 1}')\n",
    "      else:\n",
    "        self.left.insert(value)\n",
    "    else:\n",
    "      if (self.right is None):\n",
    "        self.right = BinarySearchTree(value, self.depth + 1)\n",
    "        print(f'Tree node {value} added to the right of {self.value} at depth {self.depth + 1}')\n",
    "      else:\n",
    "        self.right.insert(value)\n",
    "        \n",
    "  def get_node_by_value(self, value):\n",
    "    if (self.value == value):\n",
    "      return self\n",
    "    elif ((self.left is not None) and (value < self.value)):\n",
    "      return self.left.get_node_by_value(value)\n",
    "    elif ((self.right is not None) and (value >= self.value)):\n",
    "      return self.right.get_node_by_value(value)\n",
    "    else:\n",
    "      return None\n",
    "  \n",
    "  def depth_first_traversal(self):\n",
    "    if (self.left is not None):\n",
    "      self.left.depth_first_traversal()\n",
    "    print(f'Depth={self.depth}, Value={self.value}')\n",
    "    if (self.right is not None):\n",
    "      self.right.depth_first_traversal()\n",
    "\n",
    "\n",
    "print(\"Creating Binary Search Tree rooted at value 15:\")\n",
    "tree = BinarySearchTree(15)\n",
    "\n",
    "for x in range(10):\n",
    "  tree.insert(random.randint(0, 100))\n",
    "  \n",
    "print(\"Printing the inorder depth-first traversal:\")\n",
    "tree.depth_first_traversal()"
   ]
  },
  {
   "cell_type": "markdown",
   "metadata": {},
   "source": [
    "# Further Reading\n",
    "\n",
    "If interested in Trees, then BSTs are one of many arrangements of Trees. \n",
    "\n",
    "\n",
    "Other popular arrangements are: \n",
    "\n",
    "## AVL Trees \n",
    "Named after the programmers Georgy <b>Adelson-Velsky</b> and Evgenii <b>Landis</b> in 1962, the AVL tree is a self-correcting and balancing tree.\n",
    "\n",
    "![AVLtree](https://upload.wikimedia.org/wikipedia/commons/f/fd/AVL_Tree_Example.gif)\n",
    "\n",
    "## Red-Black Trees \n",
    "\n",
    "Invented by Rudolph Bayer in 1972, Red-Black Trees are a form of self-balancing tree but store additional colour information (which could be compressed to a 'bit' - 0 or 1 - to reduce memory overhead) which aids the re-balancing of the tree. Null pointers (None in Python) are also stored.\n",
    "\n",
    "Red-Black Trees maintain a balanced structure with a guaranteed maximum height of O(log n), where 'n' is the number of nodes in the tree. This balanced structure ensures efficient search and insertion operations in the tree.\n",
    "\n",
    "Rules: \n",
    "* Root must be black.\n",
    "* New nodes start as red. \n",
    "* Red nodes cannot have red children (they must be black). \n",
    "* Self-balancing (like AVL)\n",
    "\n",
    "![RBTrees](https://upload.wikimedia.org/wikipedia/commons/4/41/Red-black_tree_example_with_NIL.svg)\n",
    "\n",
    "\n",
    "![RBTreesgif](https://camo.githubusercontent.com/a71d526a5cab7a42a8292610a52d28e893ef550a078fad1e945a43d1b44c8461/68747470733a2f2f63646e2e7261776769742e636f6d2f6d61656c76616c6169732f636f6d706f7274656d656e742d61726272652d726f7567652d6e6f69722d617665632d646f742f61356166666234322f6578656d706c655f616e696d6174696f6e2e676966)\n",
    "\n",
    "\n",
    "## Decision Trees in data analysis and AI applications\n",
    "\n",
    "The Tree structure can also be applied for decision making within AI applications.\n",
    "\n",
    "![decisiontree](https://venngage-wordpress.s3.amazonaws.com/uploads/2019/08/what-is-a-decision-tree-5.png)\n",
    "\n",
    "\n",
    "## Parse trees for Natural Language Processing \n",
    "\n",
    "\n",
    "![Con_NLP](https://upload.wikimedia.org/wikipedia/commons/5/54/Parse_tree_1.jpg)\n",
    "\n",
    "![Dep_NLP](https://upload.wikimedia.org/wikipedia/commons/8/8c/Parse2.jpg)\n"
   ]
  },
  {
   "cell_type": "markdown",
   "metadata": {
    "slideshow": {
     "slide_type": "slide"
    }
   },
   "source": [
    "## <font color=\"red\">Logbook Exercise 9</font> ##\n",
    "\n",
    "Insert a 'code' cell below. In this do the following:\n",
    "\n",
    "- 1 - Implement the Binary Search Tree class as described above.\n",
    "- 2 - Create a small dataset of integers and insert these nodes into an object of the BST class. For simplicity, generate a dataset which size is 'odd' so there is a natural mid point. Also avoid duplicate values. (Is there a Python structure which ignores duplicate values? Think back to an earlier lecture...)\n",
    "- 3 - Check that you can traverse the tree in order. \n",
    "- 4 - Check that you can successfully retreive (search for) a node within the Tree. Check positive and negative cases (what happens when the item does not exist).\n",
    "- 5 - Now generate a small dataset of single letters. Generate an odd size, and avoid duplicates again.\n",
    "- 6 - Think about how you will insert these nodes into the tree... can they be added in the order they were generated?\n",
    "- 7 - Once you have decided how to insert these into a BST, check that these were added in alphabetical order, by printing out the tree in order.   \n",
    "- 8 - Study the remove_child method given above for a non-binary search tree. Are you able to use some of that code for a method that will remove a node from a BST? Your task is to code a remove_child method for the BST so it can remove any node from any position in the tree (leaf, parent, or root). You'll need to thoroughly test this to check that node references are maintained, and the correct node is made the parent.\n",
    "- 9 - Challenge: Rather than printing out a vertical list of the tree nodes, can you print in the BST nodes in the arrangement shown in diagrams above? Are you able to format the print out of tree elements to look something like the below which shows the nodes and their edges:\n",
    "\n",
    "\n",
    "         D\n",
    "       /   \\ \n",
    "      C     F\n",
    "           / \\\n",
    "          E   G\n",
    "\n",
    "\n"
   ]
  },
  {
   "cell_type": "markdown",
   "metadata": {
    "slideshow": {
     "slide_type": "slide"
    }
   },
   "source": [
    "# References & Learning Resources\n",
    "\n",
    " - W3Schools - there are many online resources for Python but the Python tutorial at https://www.w3schools.com/python/ is thorough, progressive, interactive and free. If you complete the main tutorial (skip the bits on installing Python as we will be using Ancaconda/Jupyter) the later sections on **\"File Handling\"**, **\"NumPy\"** and **\"Machine Learning\"** are also relevant. The **\"Exercises\"** and **\"Quiz\"** sections are also worthwhile activities for consolidating knowledge.\n",
    " - **Phillips, D. (2015). Python 3 object-oriented programming. Packt Publishing Ltd.** Although a 3rd edition has been released the 2nd edition is still pretty much up-to-date  and seems to be widely available in PDF format. As an added bonus this covers Design Patterns in some detail.\n",
    " - **https://www.learnpython.org/** is another comprehensive and intercative resource\n",
    " - **https://docs.python.org/3.7/tutorial/** is Python's own text-based tutorial. Despite the seemingly daunting number of sub-sections, it can be consumed in a fairly short time and manages to be both concise and comprehensive.\n",
    " - **Think Python 2e** is an excellent in-depth and free version of the O'Reilly hardcopy by Allen B. Downey and is available here ... https://greenteapress.com/wp/think-python-2e/\n",
    " - https://www.sololearn.com/ - great for mobile learning on the go ... free! Recommended by JJ\n",
    " - I have also adapted examples from *Learn Python In A Day: The Ultimate Crash Course To Learning The Basics Of Python In No Time* by *Acodemy* but this is out of print and is only mentioned for completeness."
   ]
  }
 ],
 "metadata": {
  "celltoolbar": "Slideshow",
  "kernelspec": {
   "display_name": "Python 3.9.6 64-bit",
   "language": "python",
   "name": "python3"
  },
  "language_info": {
   "codemirror_mode": {
    "name": "ipython",
    "version": 3
   },
   "file_extension": ".py",
   "mimetype": "text/x-python",
   "name": "python",
   "nbconvert_exporter": "python",
   "pygments_lexer": "ipython3",
   "version": "3.9.6"
  },
  "vscode": {
   "interpreter": {
    "hash": "31f2aee4e71d21fbe5cf8b01ff0e069b9275f58929596ceb00d14d90e3e16cd6"
   }
  }
 },
 "nbformat": 4,
 "nbformat_minor": 4
}
