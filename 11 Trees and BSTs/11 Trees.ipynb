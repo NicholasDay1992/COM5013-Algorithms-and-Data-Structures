{
 "cells": [
  {
   "attachments": {
    "pythonLogo.png": {
     "image/png": "[encoded data removed]"
    }
   },
   "cell_type": "markdown",
   "metadata": {
    "slideshow": {
     "slide_type": "slide"
    }
   },
   "source": [
    "<!--![pythonLogo.png](attachment:pythonLogo.png) -->\n",
    "# 11 Trees \n",
    "\n"
   ]
  },
  {
   "cell_type": "markdown",
   "metadata": {},
   "source": [
    "## Plan for the lecture \n",
    "\n",
    "1. Recap on Binary Trees (from Heaps)\n",
    "\n",
    "2. Non-Binary Trees\n",
    "\n",
    "3. Introduction to Binary Search Trees (BSTs)\n",
    "\n",
    "4. Typical Tree Operations"
   ]
  },
  {
   "cell_type": "markdown",
   "metadata": {},
   "source": [
    "![heapify](https://miro.medium.com/v2/resize:fit:1266/format:webp/1*IJDDOZOsFGLpf445qo1XKw.png)"
   ]
  },
  {
   "cell_type": "markdown",
   "metadata": {
    "slideshow": {
     "slide_type": "slide"
    }
   },
   "source": [
    "\n",
    "# Tree terminology:\n",
    " \n",
    "Think of the underground root structure of a natural tree:\n",
    "\n",
    "<img src=\"https://embarkservices.com/wp-content/uploads/2015/02/Tree-Roots.jpg\" alt=\"natural_tree\" width=\"650\"> \n",
    "\n",
    "\n",
    "The following terms are also adopted to describe the arrangement of data within a tree structure:\n",
    "\n",
    "* <b>Root</b> - The starting node of the tree\n",
    "\n",
    "* <b>Leaf</b> - The lowest level of a tree, which has no descendents\n",
    "\n",
    "* <b>Child</b> - A descendent of a parent node. \n",
    "\n",
    "In a Binary Search Tree (BST) each parent can only have two children: a right child and left child. For effective Binary Search, the left child must always have a smaller integer value than the parent, and the right child must always have a greater value than the parent. \n",
    "\n",
    "\n",
    "![Treesgif](http://www.thecrazyprogrammer.com/wp-content/uploads/2017/08/Tree-Data-Structure.gif)"
   ]
  },
  {
   "cell_type": "markdown",
   "metadata": {},
   "source": [
    "## Trees cannot contain cycles \n",
    "\n",
    "* Connections between nodes on the same level would transform this structure from a tree into a graph!\n",
    "\n",
    "<img src=\"https://cdn.prod.website-files.com/5d0dc87aac109e1ffdbe379c/66f44872ef89ed6e1c47b6c1_60e1996404d4f874d58c7d3d_jd.png\" alt=\"graph cycles\" width=\"350\"> \n",
    "\n",
    "* Graphs can contain cycles (like a ring road, or the M25), but it is wise to detect them before running path finding algorithms. \n",
    "\n",
    "![graph_vs_tree](https://www.gatevidyalay.com/wp-content/uploads/2018/07/Tree-Data-Structure-Example.png?ezimgfmt=rs:370x175/rscb1/ngcb1/notWebP)"
   ]
  },
  {
   "cell_type": "markdown",
   "metadata": {},
   "source": [
    "## Contrast with a Linked List\n",
    "\n",
    "* The Linked List is chain of nodes on the same level. \n",
    "\n",
    "* There isn't the same branching (optionality) as there is in trees.\n",
    "\n",
    "<img src=\"https://miro.medium.com/v2/resize:fit:1400/0*WvZvIY4C0lKE04Z_.gif\" alt=\"natural_tree\" width=\"650\"> \n",
    "\n",
    "\n"
   ]
  },
  {
   "cell_type": "markdown",
   "metadata": {},
   "source": [
    "## Let's start by representing a Binary Tree with a referenced structure"
   ]
  },
  {
   "cell_type": "code",
   "execution_count": 2,
   "metadata": {},
   "outputs": [],
   "source": [
    "class TreeNode:\n",
    "    def __init__(self, value):\n",
    "        self.value = value\n",
    "        self.left = None\n",
    "        self.right = None"
   ]
  },
  {
   "cell_type": "code",
   "execution_count": 3,
   "metadata": {},
   "outputs": [],
   "source": [
    "class BinaryTree:\n",
    "    def __init__(self, root):\n",
    "        self.root = TreeNode(root)"
   ]
  },
  {
   "cell_type": "code",
   "execution_count": 4,
   "metadata": {},
   "outputs": [],
   "source": [
    "bt = BinaryTree(1)\n",
    "bt.root.left = TreeNode(2)\n",
    "bt.root.right = TreeNode(3)\n"
   ]
  },
  {
   "cell_type": "code",
   "execution_count": 5,
   "metadata": {},
   "outputs": [
    {
     "name": "stdout",
     "output_type": "stream",
     "text": [
      "1\n",
      "2\n",
      "3\n"
     ]
    }
   ],
   "source": [
    "print(bt.root.value)\n",
    "print(bt.root.left.value)\n",
    "print(bt.root.right.value)"
   ]
  },
  {
   "cell_type": "markdown",
   "metadata": {},
   "source": [
    "```\n",
    "        1\n",
    "      /   \\\n",
    "     2     3\n",
    "```"
   ]
  },
  {
   "cell_type": "code",
   "execution_count": 6,
   "metadata": {},
   "outputs": [
    {
     "name": "stdout",
     "output_type": "stream",
     "text": [
      "     1\n",
      "    / \\ \n",
      "   2   3\n"
     ]
    }
   ],
   "source": [
    "print(\"    \",bt.root.value)\n",
    "print(\"    / \\ \")\n",
    "print(\"  \", bt.root.left.value, \" \", bt.root.right.value )"
   ]
  },
  {
   "cell_type": "markdown",
   "metadata": {},
   "source": [
    "## Or bring back your heap array representation:\n",
    "\n",
    "* root of tree = first element (i = 0) \n",
    "\n",
    "* parent(i) = `floor(i-1)/2`\n",
    "\n",
    "* left(i) = `(2 * i) + 1`\n",
    "\n",
    "* right(i) = `(2 * i) + 2`"
   ]
  },
  {
   "cell_type": "code",
   "execution_count": 7,
   "metadata": {},
   "outputs": [
    {
     "data": {
      "text/plain": [
       "[1, 2, 3]"
      ]
     },
     "execution_count": 7,
     "metadata": {},
     "output_type": "execute_result"
    }
   ],
   "source": [
    "l = [1, 2, 3]\n",
    "l"
   ]
  },
  {
   "cell_type": "code",
   "execution_count": 8,
   "metadata": {},
   "outputs": [
    {
     "name": "stdout",
     "output_type": "stream",
     "text": [
      "     1\n",
      "    / \\ \n",
      "   2   3\n"
     ]
    }
   ],
   "source": [
    "print(\"    \",l[0])\n",
    "print(\"    / \\ \")\n",
    "print(\"  \", l[1], \" \", l[2] )"
   ]
  },
  {
   "cell_type": "code",
   "execution_count": 9,
   "metadata": {},
   "outputs": [
    {
     "data": {
      "text/plain": [
       "[8, 4, 6, 23, 12, 18, 17]"
      ]
     },
     "execution_count": 9,
     "metadata": {},
     "output_type": "execute_result"
    }
   ],
   "source": [
    "arr = [8, 4, 6, 23, 12, 18, 17]\n",
    "arr"
   ]
  },
  {
   "cell_type": "markdown",
   "metadata": {},
   "source": [
    "As a Binary Tree: \n",
    "\n",
    "```\n",
    "        8\n",
    "      /   \\\n",
    "    4      6\n",
    "  /  \\    /  \\\n",
    "23   12  18  17  \n",
    "```"
   ]
  },
  {
   "cell_type": "markdown",
   "metadata": {},
   "source": [
    "## Alternatives - `binarytree`\n",
    "\n",
    "* Thankfully, there is a package that can draw a tree for us! Phew..."
   ]
  },
  {
   "cell_type": "markdown",
   "metadata": {},
   "source": [
    "`pip install binarytree`\n",
    "\n",
    "`python3 -m pip install -U binarytree --user`"
   ]
  },
  {
   "cell_type": "code",
   "execution_count": 10,
   "metadata": {},
   "outputs": [
    {
     "name": "stdout",
     "output_type": "stream",
     "text": [
      "\n",
      "  10\n",
      " /  \\\n",
      "5    15\n",
      "\n"
     ]
    }
   ],
   "source": [
    "from binarytree import Node, build, bst\n",
    "\n",
    "root = Node(10)\n",
    "root.left = Node(5)\n",
    "root.right = Node(15)\n",
    "\n",
    "print(root)"
   ]
  },
  {
   "cell_type": "code",
   "execution_count": 11,
   "metadata": {},
   "outputs": [
    {
     "name": "stdout",
     "output_type": "stream",
     "text": [
      "\n",
      "    __10___\n",
      "   /       \\\n",
      "  5        _15\n",
      " / \\      /   \\\n",
      "1   2    12    25\n",
      "\n"
     ]
    }
   ],
   "source": [
    "root = Node(10)\n",
    "\n",
    "node_a = Node(5)\n",
    "node_b = Node(15)\n",
    "\n",
    "root.left = node_a\n",
    "root.right = node_b\n",
    "\n",
    "node_a.left = Node(1)\n",
    "node_a.right = Node(2)\n",
    "\n",
    "node_b.left = Node(12)\n",
    "node_b.right = Node(25)\n",
    "\n",
    "print(root)"
   ]
  },
  {
   "cell_type": "code",
   "execution_count": 29,
   "metadata": {},
   "outputs": [
    {
     "name": "stdout",
     "output_type": "stream",
     "text": [
      "\n",
      "    ____12\n",
      "   /      \\\n",
      "  3__      13\n",
      " /   \\       \\\n",
      "0     8       14\n",
      "     /\n",
      "    5\n",
      "\n"
     ]
    }
   ],
   "source": [
    "random_bst = bst(height=3)\n",
    "print(random_bst)"
   ]
  },
  {
   "cell_type": "markdown",
   "metadata": {},
   "source": [
    "## Visualisation with `networkx`\n",
    "\n",
    "* Graphical plotting of graph networks.\n",
    "\n",
    "* Does work better for graphs I think, but with some manual adjustment you can draw trees here"
   ]
  },
  {
   "cell_type": "markdown",
   "metadata": {},
   "source": [
    "`pip install networkx matplotlib`"
   ]
  },
  {
   "cell_type": "code",
   "execution_count": 30,
   "metadata": {},
   "outputs": [
    {
     "data": {
      "image/png": "[encoded data removed]",
      "text/plain": [
       "<Figure size 1000x600 with 1 Axes>"
      ]
     },
     "metadata": {},
     "output_type": "display_data"
    }
   ],
   "source": [
    "import networkx as nx\n",
    "import matplotlib.pyplot as plt\n",
    "\n",
    "# Define a function to add edges and assign positions recursively for a binary tree\n",
    "def add_edges_and_positions(graph, node, pos, x=0, y=0, layer_spacing=1.5, sibling_spacing=1.5):\n",
    "    \"\"\"Recursively add edges and positions for each node in the tree.\"\"\"\n",
    "    if node is not None:\n",
    "        pos[node.value] = (x, y)  # Set the position of the current node\n",
    "        if node.left:\n",
    "            # Position the left child slightly to the left and down\n",
    "            graph.add_edge(node.value, node.left.value)\n",
    "            add_edges_and_positions(graph, node.left, pos, x - sibling_spacing / (y + 2), y - layer_spacing, layer_spacing, sibling_spacing)\n",
    "        if node.right:\n",
    "            # Position the right child slightly to the right and down\n",
    "            graph.add_edge(node.value, node.right.value)\n",
    "            add_edges_and_positions(graph, node.right, pos, x + sibling_spacing / (y + 2), y - layer_spacing, layer_spacing, sibling_spacing)\n",
    "\n",
    "# Define the TreeNode and BinaryTree classes\n",
    "class TreeNode:\n",
    "    def __init__(self, value):\n",
    "        self.value = value\n",
    "        self.left = None\n",
    "        self.right = None\n",
    "\n",
    "class BinaryTree:\n",
    "    def __init__(self, root):\n",
    "        self.root = TreeNode(root)\n",
    "\n",
    "# Create a sample binary tree\n",
    "bt = BinaryTree(1)\n",
    "bt.root.left = TreeNode(2)\n",
    "bt.root.right = TreeNode(3)\n",
    "\n",
    "\n",
    "# Create a graph, a position dictionary, and add edges with positions\n",
    "G = nx.DiGraph()\n",
    "pos = {}  # Dictionary to store positions of each node\n",
    "add_edges_and_positions(G, bt.root, pos)\n",
    "\n",
    "# Draw the graph\n",
    "plt.figure(figsize=(10, 6))  # Adjust figure size for clarity\n",
    "nx.draw(G, pos, with_labels=True, node_size=700, node_color=\"lightblue\", font_size=12, font_weight=\"bold\", arrows=False)\n",
    "plt.title(\"Binary Tree Visualization\")\n",
    "plt.show()"
   ]
  },
  {
   "cell_type": "markdown",
   "metadata": {},
   "source": [
    "## Let's now think about non-binary trees\n",
    "\n",
    "* So far, we've seen the binary property of a Binary Tree (or a Binary Search Tree)\n",
    "\n",
    "* However, not all trees need this binary property, or to be arranged in sorted order.\n",
    "\n",
    "* For example, an organisational chart or a file directory can be arranged as a non-binary tree:\n"
   ]
  },
  {
   "cell_type": "code",
   "execution_count": 31,
   "metadata": {},
   "outputs": [],
   "source": [
    "class TreeNode:\n",
    "    def __init__(self, value):\n",
    "        self.value = value\n",
    "        self.children = []\n",
    "\n",
    "    def __repr__(self, level=0):\n",
    "        # HELPER METHOD TO PRINT TREE!\n",
    "        ret = \"--->\" * level + repr(self.value) + \"\\n\"\n",
    "        for child in self.children:\n",
    "            ret += child.__repr__(level+1)\n",
    "        return ret\n",
    "\n",
    "    def add_child(self, child_node):\n",
    "        self.children.append(child_node) "
   ]
  },
  {
   "cell_type": "code",
   "execution_count": 33,
   "metadata": {},
   "outputs": [],
   "source": [
    "root = TreeNode(\"CEO\")\n",
    "root.add_child(TreeNode(\"VP of Sales\"))\n",
    "root.add_child(TreeNode(\"VP of R&D\"))\n",
    "root.add_child(TreeNode(\"VP of Operations\"))"
   ]
  },
  {
   "cell_type": "code",
   "execution_count": 34,
   "metadata": {},
   "outputs": [
    {
     "data": {
      "text/plain": [
       "'CEO'\n",
       "--->'VP of Sales'\n",
       "--->'VP of R&D'\n",
       "--->'VP of Operations'"
      ]
     },
     "execution_count": 34,
     "metadata": {},
     "output_type": "execute_result"
    }
   ],
   "source": [
    "root"
   ]
  },
  {
   "cell_type": "code",
   "execution_count": 35,
   "metadata": {},
   "outputs": [],
   "source": [
    "root = TreeNode(\"CEO\")\n",
    "\n",
    "level_one_nodes = [ \n",
    "             TreeNode(\"VP of Sales\"), \n",
    "             TreeNode(\"VP of R&D\"), \n",
    "             TreeNode(\"VP of Operations\")\n",
    "             ]\n",
    "\n",
    "root.children = level_one_nodes\n",
    "\n",
    "level_one_nodes[0].children = [TreeNode(\"Head of Sales Strategy\"), \n",
    "                               TreeNode(\"Deputy Head of Sales Strategy\")\n",
    "                               ]\n",
    "\n",
    "level_one_nodes[1].children = [TreeNode(\"Head Scientist\"), \n",
    "                               TreeNode(\"Deputy Head Scientist\"),\n",
    "                               TreeNode(\"Director of Research\")\n",
    "                               ]\n",
    "\n",
    "level_one_nodes[2].children = [TreeNode(\"Head of Logistics\"), \n",
    "                               TreeNode(\"Deputy Head of Logistics\"),\n",
    "                               TreeNode(\"Director of Operations\")\n",
    "                               ]\n"
   ]
  },
  {
   "cell_type": "code",
   "execution_count": 36,
   "metadata": {},
   "outputs": [
    {
     "data": {
      "text/plain": [
       "'CEO'\n",
       "--->'VP of Sales'\n",
       "--->--->'Head of Sales Strategy'\n",
       "--->--->'Deputy Head of Sales Strategy'\n",
       "--->'VP of R&D'\n",
       "--->--->'Head Scientist'\n",
       "--->--->'Deputy Head Scientist'\n",
       "--->--->'Director of Research'\n",
       "--->'VP of Operations'\n",
       "--->--->'Head of Logistics'\n",
       "--->--->'Deputy Head of Logistics'\n",
       "--->--->'Director of Operations'"
      ]
     },
     "execution_count": 36,
     "metadata": {},
     "output_type": "execute_result"
    }
   ],
   "source": [
    "root"
   ]
  },
  {
   "cell_type": "markdown",
   "metadata": {},
   "source": [
    "## What about Removal (Deletion)? \n",
    "\n",
    "* In a linked list, we could remove from mid-list and point to the next one in the sequence: \n",
    "\n",
    "![removal_mid_list](https://assets.digitalocean.com/articles/alligator/js/linked-lists-implementation/linked-list-remove.gif)\n",
    "\n",
    "* But what about our tree branches?\n",
    "\n",
    "    * Deletion of Leaf nodes\n",
    "\n",
    "    * Deletion of sub-tree parents - relocate the children?\n",
    "\n",
    "    * Deletion of the root node - promote a child to be the parent?\n",
    "\n",
    "![Treesgif](http://www.thecrazyprogrammer.com/wp-content/uploads/2017/08/Tree-Data-Structure.gif)"
   ]
  },
  {
   "cell_type": "markdown",
   "metadata": {},
   "source": [
    "## Deletion of Leaf nodes\n",
    "\n",
    "* Easiest as no dependents! "
   ]
  },
  {
   "cell_type": "code",
   "execution_count": 37,
   "metadata": {},
   "outputs": [],
   "source": [
    "class TreeNode:\n",
    "    def __init__(self, value):\n",
    "        self.value = value\n",
    "        self.children = []\n",
    "\n",
    "    def __repr__(self, level=0):\n",
    "        # HELPER METHOD TO PRINT TREE!\n",
    "        ret = \"--->\" * level + repr(self.value) + \"\\n\"\n",
    "        for child in self.children:\n",
    "            ret += child.__repr__(level+1)\n",
    "        return ret\n",
    "\n",
    "    def add_child(self, child_node):\n",
    "        self.children.append(child_node) \n",
    "        \n",
    "    def delete_child(self, child_node):\n",
    "        self.children.remove(child_node)"
   ]
  },
  {
   "cell_type": "code",
   "execution_count": 40,
   "metadata": {},
   "outputs": [],
   "source": [
    "root = TreeNode(\"CEO\")\n",
    "\n",
    "vp_nodes = [ \n",
    "             TreeNode(\"VP of Sales\"), \n",
    "             TreeNode(\"VP of R&D\"), \n",
    "             TreeNode(\"VP of Operations\")\n",
    "             ]\n",
    "\n",
    "root.children = vp_nodes\n",
    "\n",
    "vp_sales_children = [TreeNode(\"Head of Sales Strategy\"), \n",
    "                     TreeNode(\"Deputy Head of Sales Strategy\")\n",
    "                     ]\n",
    "\n",
    "vp_nodes[0].children = vp_sales_children"
   ]
  },
  {
   "cell_type": "code",
   "execution_count": 41,
   "metadata": {},
   "outputs": [
    {
     "data": {
      "text/plain": [
       "'CEO'\n",
       "--->'VP of Sales'\n",
       "--->--->'Head of Sales Strategy'\n",
       "--->--->'Deputy Head of Sales Strategy'\n",
       "--->'VP of R&D'\n",
       "--->'VP of Operations'"
      ]
     },
     "execution_count": 41,
     "metadata": {},
     "output_type": "execute_result"
    }
   ],
   "source": [
    "root"
   ]
  },
  {
   "cell_type": "code",
   "execution_count": 42,
   "metadata": {},
   "outputs": [],
   "source": [
    "vp_nodes[0].delete_child(vp_sales_children[1])"
   ]
  },
  {
   "cell_type": "code",
   "execution_count": 43,
   "metadata": {},
   "outputs": [
    {
     "data": {
      "text/plain": [
       "'CEO'\n",
       "--->'VP of Sales'\n",
       "--->--->'Head of Sales Strategy'\n",
       "--->'VP of R&D'\n",
       "--->'VP of Operations'"
      ]
     },
     "execution_count": 43,
     "metadata": {},
     "output_type": "execute_result"
    }
   ],
   "source": [
    "root"
   ]
  },
  {
   "cell_type": "markdown",
   "metadata": {},
   "source": [
    "## Deletion of a subtree parent\n",
    "\n",
    "* do we reallocate the children? \n",
    "\n",
    "* or delete them? "
   ]
  },
  {
   "cell_type": "markdown",
   "metadata": {},
   "source": [
    "## Method #1 - reallocate the children "
   ]
  },
  {
   "cell_type": "code",
   "execution_count": 46,
   "metadata": {},
   "outputs": [],
   "source": [
    "root = TreeNode(\"CEO\")\n",
    "\n",
    "vp_nodes = [ \n",
    "             TreeNode(\"VP of Sales\"), \n",
    "             TreeNode(\"VP of R&D\"), \n",
    "             TreeNode(\"VP of Operations\")\n",
    "             ]\n",
    "\n",
    "root.children = vp_nodes\n",
    "\n",
    "vp_sales_children = [TreeNode(\"Head of Sales Strategy\"), \n",
    "                     TreeNode(\"Deputy Head of Sales Strategy\")\n",
    "                     ]\n",
    "\n",
    "vp_nodes[0].children = vp_sales_children"
   ]
  },
  {
   "cell_type": "code",
   "execution_count": 47,
   "metadata": {},
   "outputs": [
    {
     "data": {
      "text/plain": [
       "'CEO'\n",
       "--->'VP of Sales'\n",
       "--->--->'Head of Sales Strategy'\n",
       "--->--->'Deputy Head of Sales Strategy'\n",
       "--->'VP of R&D'\n",
       "--->'VP of Operations'"
      ]
     },
     "execution_count": 47,
     "metadata": {},
     "output_type": "execute_result"
    }
   ],
   "source": [
    "root"
   ]
  },
  {
   "cell_type": "markdown",
   "metadata": {},
   "source": [
    "## Manually replace the nodes\n",
    "\n",
    "* In a BST - this may need to happen automatically \n",
    "\n",
    "* In an AVL tree - this would happen automatically!\n",
    "\n",
    "* But in a non-binary tree - we could set manually according to our own criteria. "
   ]
  },
  {
   "cell_type": "code",
   "execution_count": 48,
   "metadata": {},
   "outputs": [
    {
     "data": {
      "text/plain": [
       "'CEO'\n",
       "--->'VP of Sales'\n",
       "--->--->'Head of Sales Strategy'\n",
       "--->--->--->'Deputy Head of Sales Strategy'\n",
       "--->--->'Deputy Head of Sales Strategy'\n",
       "--->'VP of R&D'\n",
       "--->'VP of Operations'"
      ]
     },
     "execution_count": 48,
     "metadata": {},
     "output_type": "execute_result"
    }
   ],
   "source": [
    "vp_sales_children[0].add_child(vp_sales_children[1]) ## set Deputy-Head to be child of Head of sales\n",
    "root"
   ]
  },
  {
   "cell_type": "code",
   "execution_count": 49,
   "metadata": {},
   "outputs": [],
   "source": [
    "root.children[0] = vp_sales_children[0] # then replace VP of Sales"
   ]
  },
  {
   "cell_type": "code",
   "execution_count": 50,
   "metadata": {},
   "outputs": [
    {
     "data": {
      "text/plain": [
       "'CEO'\n",
       "--->'Head of Sales Strategy'\n",
       "--->--->'Deputy Head of Sales Strategy'\n",
       "--->'VP of R&D'\n",
       "--->'VP of Operations'"
      ]
     },
     "execution_count": 50,
     "metadata": {},
     "output_type": "execute_result"
    }
   ],
   "source": [
    "root"
   ]
  },
  {
   "cell_type": "markdown",
   "metadata": {},
   "source": [
    "## Method #2 - delete the subtree children along with the parent"
   ]
  },
  {
   "cell_type": "code",
   "execution_count": 56,
   "metadata": {},
   "outputs": [],
   "source": [
    "class TreeNode:\n",
    "    def __init__(self, value):\n",
    "        self.value = value\n",
    "        self.children = []\n",
    "\n",
    "    def __repr__(self, level=0):\n",
    "        # HELPER METHOD TO PRINT TREE!\n",
    "        ret = \"--->\" * level + repr(self.value) + \"\\n\"\n",
    "        for child in self.children:\n",
    "            ret += child.__repr__(level+1)\n",
    "        return ret\n",
    "\n",
    "    def add_child(self, child_node):\n",
    "        self.children.append(child_node) \n",
    "        \n",
    "    def delete_child(self, child_node):\n",
    "        self.children.remove(child_node)\n",
    "    \n",
    "    def delete_subtree(self):\n",
    "        for child in self.children:\n",
    "            child.delete_subtree()\n",
    "        self.children = []"
   ]
  },
  {
   "cell_type": "code",
   "execution_count": 57,
   "metadata": {},
   "outputs": [],
   "source": [
    "root = TreeNode(\"CEO\")\n",
    "\n",
    "vp_nodes = [ \n",
    "             TreeNode(\"VP of Sales\"), \n",
    "             TreeNode(\"VP of R&D\"), \n",
    "             TreeNode(\"VP of Operations\")\n",
    "             ]\n",
    "\n",
    "root.children = vp_nodes\n",
    "\n",
    "vp_sales_children = [TreeNode(\"Head of Sales Strategy\"), \n",
    "                     TreeNode(\"Deputy Head of Sales Strategy\")\n",
    "                     ]\n",
    "\n",
    "vp_nodes[0].children = vp_sales_children"
   ]
  },
  {
   "cell_type": "code",
   "execution_count": 58,
   "metadata": {},
   "outputs": [
    {
     "data": {
      "text/plain": [
       "'CEO'\n",
       "--->'VP of Sales'\n",
       "--->--->'Head of Sales Strategy'\n",
       "--->--->'Deputy Head of Sales Strategy'\n",
       "--->'VP of R&D'\n",
       "--->'VP of Operations'"
      ]
     },
     "execution_count": 58,
     "metadata": {},
     "output_type": "execute_result"
    }
   ],
   "source": [
    "root"
   ]
  },
  {
   "cell_type": "code",
   "execution_count": 54,
   "metadata": {},
   "outputs": [],
   "source": [
    "vp_nodes[0].delete_subtree() #delete children of vp_nodes[0]\n",
    "root.delete_child(vp_nodes[0]) #delete vp_nodes[0]"
   ]
  },
  {
   "cell_type": "code",
   "execution_count": 55,
   "metadata": {},
   "outputs": [
    {
     "data": {
      "text/plain": [
       "'CEO'\n",
       "--->'VP of R&D'\n",
       "--->'VP of Operations'"
      ]
     },
     "execution_count": 55,
     "metadata": {},
     "output_type": "execute_result"
    }
   ],
   "source": [
    "root"
   ]
  },
  {
   "cell_type": "markdown",
   "metadata": {},
   "source": [
    "## Deletion of the Root node\n",
    "\n",
    "* In our heapify algorithm - we swapped the nodes so the max/min element became the root.\n",
    "\n",
    "* In a Binary Search Tree - you'd need to restructure the tree to maintain the binary search property (left < root < right)"
   ]
  },
  {
   "cell_type": "markdown",
   "metadata": {},
   "source": [
    "## Method #1 - save the children - reallocate the root"
   ]
  },
  {
   "cell_type": "code",
   "execution_count": 59,
   "metadata": {},
   "outputs": [],
   "source": [
    "class TreeNode:\n",
    "    def __init__(self, value):\n",
    "        self.value = value\n",
    "        self.children = []\n",
    "\n",
    "    def __repr__(self, level=0):\n",
    "        # HELPER METHOD TO PRINT TREE!\n",
    "        ret = \"--->\" * level + repr(self.value) + \"\\n\"\n",
    "        for child in self.children:\n",
    "            ret += child.__repr__(level+1)\n",
    "        return ret\n",
    "\n",
    "    def add_child(self, child_node):\n",
    "        self.children.append(child_node) \n",
    "        \n",
    "    def delete_child(self, child_node):\n",
    "        self.children.remove(child_node)\n",
    "        "
   ]
  },
  {
   "cell_type": "code",
   "execution_count": 60,
   "metadata": {},
   "outputs": [],
   "source": [
    "root = TreeNode(\"CEO\")\n",
    "\n",
    "vp_nodes = [ \n",
    "             TreeNode(\"VP of Sales\"), \n",
    "             TreeNode(\"VP of R&D\"), \n",
    "             TreeNode(\"VP of Operations\")\n",
    "             ]\n",
    "\n",
    "root.children = vp_nodes\n",
    "\n",
    "vp_sales_children = [TreeNode(\"Head of Sales Strategy\"), \n",
    "                     TreeNode(\"Deputy Head of Sales Strategy\")\n",
    "                     ]\n",
    "\n",
    "vp_nodes[0].children = vp_sales_children"
   ]
  },
  {
   "cell_type": "code",
   "execution_count": 61,
   "metadata": {},
   "outputs": [
    {
     "data": {
      "text/plain": [
       "'CEO'\n",
       "--->'VP of Sales'\n",
       "--->--->'Head of Sales Strategy'\n",
       "--->--->'Deputy Head of Sales Strategy'\n",
       "--->'VP of R&D'\n",
       "--->'VP of Operations'"
      ]
     },
     "execution_count": 61,
     "metadata": {},
     "output_type": "execute_result"
    }
   ],
   "source": [
    "root"
   ]
  },
  {
   "cell_type": "markdown",
   "metadata": {},
   "source": [
    "### First half - prepare VP of Sales to be new root - prepare the subtree children"
   ]
  },
  {
   "cell_type": "code",
   "execution_count": 62,
   "metadata": {},
   "outputs": [
    {
     "data": {
      "text/plain": [
       "'VP of Sales'\n",
       "--->'Head of Sales Strategy'\n",
       "--->'Deputy Head of Sales Strategy'"
      ]
     },
     "execution_count": 62,
     "metadata": {},
     "output_type": "execute_result"
    }
   ],
   "source": [
    "root.children[0]"
   ]
  },
  {
   "cell_type": "code",
   "execution_count": 63,
   "metadata": {},
   "outputs": [],
   "source": [
    "root.children[0].children[0].add_child(root.children[0].children[1])"
   ]
  },
  {
   "cell_type": "code",
   "execution_count": 64,
   "metadata": {},
   "outputs": [
    {
     "data": {
      "text/plain": [
       "'CEO'\n",
       "--->'VP of Sales'\n",
       "--->--->'Head of Sales Strategy'\n",
       "--->--->--->'Deputy Head of Sales Strategy'\n",
       "--->--->'Deputy Head of Sales Strategy'\n",
       "--->'VP of R&D'\n",
       "--->'VP of Operations'"
      ]
     },
     "execution_count": 64,
     "metadata": {},
     "output_type": "execute_result"
    }
   ],
   "source": [
    "root"
   ]
  },
  {
   "cell_type": "code",
   "execution_count": 65,
   "metadata": {},
   "outputs": [],
   "source": [
    "root.children[0].delete_child(root.children[0].children[1])"
   ]
  },
  {
   "cell_type": "code",
   "execution_count": 66,
   "metadata": {},
   "outputs": [
    {
     "data": {
      "text/plain": [
       "'CEO'\n",
       "--->'VP of Sales'\n",
       "--->--->'Head of Sales Strategy'\n",
       "--->--->--->'Deputy Head of Sales Strategy'\n",
       "--->'VP of R&D'\n",
       "--->'VP of Operations'"
      ]
     },
     "execution_count": 66,
     "metadata": {},
     "output_type": "execute_result"
    }
   ],
   "source": [
    "root"
   ]
  },
  {
   "cell_type": "markdown",
   "metadata": {},
   "source": [
    "### now prepare the remaining level 1 nodes to be children of new root node"
   ]
  },
  {
   "cell_type": "code",
   "execution_count": 67,
   "metadata": {},
   "outputs": [
    {
     "data": {
      "text/plain": [
       "['VP of R&D', 'VP of Operations']"
      ]
     },
     "execution_count": 67,
     "metadata": {},
     "output_type": "execute_result"
    }
   ],
   "source": [
    "root.children[1:3]"
   ]
  },
  {
   "cell_type": "code",
   "execution_count": 68,
   "metadata": {},
   "outputs": [],
   "source": [
    "root.children[0].add_child(root.children[1])\n",
    "root.children[0].add_child(root.children[2])"
   ]
  },
  {
   "cell_type": "code",
   "execution_count": 69,
   "metadata": {},
   "outputs": [
    {
     "data": {
      "text/plain": [
       "'CEO'\n",
       "--->'VP of Sales'\n",
       "--->--->'Head of Sales Strategy'\n",
       "--->--->--->'Deputy Head of Sales Strategy'\n",
       "--->--->'VP of R&D'\n",
       "--->--->'VP of Operations'\n",
       "--->'VP of R&D'\n",
       "--->'VP of Operations'"
      ]
     },
     "execution_count": 69,
     "metadata": {},
     "output_type": "execute_result"
    }
   ],
   "source": [
    "root"
   ]
  },
  {
   "cell_type": "code",
   "execution_count": 70,
   "metadata": {},
   "outputs": [],
   "source": [
    "root.delete_child(root.children[2])\n",
    "root.delete_child(root.children[1])\n"
   ]
  },
  {
   "cell_type": "code",
   "execution_count": 71,
   "metadata": {},
   "outputs": [
    {
     "data": {
      "text/plain": [
       "'CEO'\n",
       "--->'VP of Sales'\n",
       "--->--->'Head of Sales Strategy'\n",
       "--->--->--->'Deputy Head of Sales Strategy'\n",
       "--->--->'VP of R&D'\n",
       "--->--->'VP of Operations'"
      ]
     },
     "execution_count": 71,
     "metadata": {},
     "output_type": "execute_result"
    }
   ],
   "source": [
    "root"
   ]
  },
  {
   "cell_type": "markdown",
   "metadata": {},
   "source": [
    "### finally - replace root with newly constructed subtree"
   ]
  },
  {
   "cell_type": "code",
   "execution_count": 72,
   "metadata": {},
   "outputs": [],
   "source": [
    "root = root.children[0]"
   ]
  },
  {
   "cell_type": "code",
   "execution_count": 73,
   "metadata": {},
   "outputs": [
    {
     "data": {
      "text/plain": [
       "'VP of Sales'\n",
       "--->'Head of Sales Strategy'\n",
       "--->--->'Deputy Head of Sales Strategy'\n",
       "--->'VP of R&D'\n",
       "--->'VP of Operations'"
      ]
     },
     "execution_count": 73,
     "metadata": {},
     "output_type": "execute_result"
    }
   ],
   "source": [
    "root"
   ]
  },
  {
   "cell_type": "markdown",
   "metadata": {},
   "source": [
    "## Method #2 - delete the entire tree"
   ]
  },
  {
   "cell_type": "code",
   "execution_count": 74,
   "metadata": {},
   "outputs": [],
   "source": [
    "class TreeNode:\n",
    "    def __init__(self, value):\n",
    "        self.value = value\n",
    "        self.children = []\n",
    "\n",
    "    def __repr__(self, level=0):\n",
    "        # HELPER METHOD TO PRINT TREE!\n",
    "        ret = \"--->\" * level + repr(self.value) + \"\\n\"\n",
    "        for child in self.children:\n",
    "            ret += child.__repr__(level+1)\n",
    "        return ret\n",
    "\n",
    "    def add_child(self, child_node):\n",
    "        self.children.append(child_node) \n",
    "        \n",
    "    def delete_child(self, child_node):\n",
    "        self.children.remove(child_node)\n",
    "    \n",
    "    def delete_subtree(self):\n",
    "        for child in self.children:\n",
    "            child.delete_subtree()\n",
    "        self.children = []\n",
    "    \n",
    "    def delete_root(self):\n",
    "        for child in self.children:\n",
    "            child.delete_subtree()\n",
    "        self.children = []\n",
    "        self.value = []"
   ]
  },
  {
   "cell_type": "code",
   "execution_count": 75,
   "metadata": {},
   "outputs": [],
   "source": [
    "root = TreeNode(\"CEO\")\n",
    "\n",
    "vp_nodes = [ \n",
    "             TreeNode(\"VP of Sales\"), \n",
    "             TreeNode(\"VP of R&D\"), \n",
    "             TreeNode(\"VP of Operations\")\n",
    "             ]\n",
    "\n",
    "root.children = vp_nodes\n",
    "\n",
    "vp_sales_children = [TreeNode(\"Head of Sales Strategy\"), \n",
    "                     TreeNode(\"Deputy Head of Sales Strategy\")\n",
    "                     ]\n",
    "\n",
    "vp_nodes[0].children = vp_sales_children"
   ]
  },
  {
   "cell_type": "code",
   "execution_count": 76,
   "metadata": {},
   "outputs": [
    {
     "data": {
      "text/plain": [
       "'CEO'\n",
       "--->'VP of Sales'\n",
       "--->--->'Head of Sales Strategy'\n",
       "--->--->'Deputy Head of Sales Strategy'\n",
       "--->'VP of R&D'\n",
       "--->'VP of Operations'"
      ]
     },
     "execution_count": 76,
     "metadata": {},
     "output_type": "execute_result"
    }
   ],
   "source": [
    "root"
   ]
  },
  {
   "cell_type": "code",
   "execution_count": 77,
   "metadata": {},
   "outputs": [],
   "source": [
    "root.delete_root()"
   ]
  },
  {
   "cell_type": "code",
   "execution_count": 78,
   "metadata": {},
   "outputs": [
    {
     "data": {
      "text/plain": [
       "[]"
      ]
     },
     "execution_count": 78,
     "metadata": {},
     "output_type": "execute_result"
    }
   ],
   "source": [
    "root"
   ]
  },
  {
   "cell_type": "markdown",
   "metadata": {},
   "source": [
    "## Alternatives - `anytree`"
   ]
  },
  {
   "cell_type": "markdown",
   "metadata": {},
   "source": [
    "`pip install anytree`\n",
    "\n",
    "`python3 -m pip install -U anytree --user`"
   ]
  },
  {
   "cell_type": "code",
   "execution_count": 80,
   "metadata": {},
   "outputs": [
    {
     "name": "stdout",
     "output_type": "stream",
     "text": [
      "root\n",
      "├── child_a\n",
      "│   └── grandchild\n",
      "└── child_b\n"
     ]
    }
   ],
   "source": [
    "from anytree import Node, RenderTree\n",
    "\n",
    "root = Node(\"root\")\n",
    "child_a = Node(\"child_a\", parent=root)\n",
    "child_b = Node(\"child_b\", parent=root)\n",
    "grandchild = Node(\"grandchild\", parent=child_a)\n",
    "\n",
    "for pre, _, node in RenderTree(root):\n",
    "    print(f\"{pre}{node.name}\")\n",
    "\n",
    "# Output:\n",
    "# root\n",
    "# ├── child_a\n",
    "# │   └── grandchild\n",
    "# └── child_b"
   ]
  },
  {
   "cell_type": "markdown",
   "metadata": {},
   "source": [
    "# Tree traversal\n",
    "\n",
    "There are different types of tree traversal: \n",
    "\n",
    "* In-Order Traversal (Left, Root, Right):\n",
    "\n",
    "* Pre-Order (Root, Left, Right)\n",
    "\n",
    "* Post-Order (Left, Right, Root)\n",
    "\n",
    "\n",
    "<img src=\"https://media.geeksforgeeks.org/wp-content/cdn-uploads/Preorder-from-Inorder-and-Postorder-traversals.jpg\" alt=\"tree-traversal\" width=\"650\"> "
   ]
  },
  {
   "cell_type": "code",
   "execution_count": 81,
   "metadata": {},
   "outputs": [],
   "source": [
    "class TreeNode:\n",
    "    def __init__(self, value):\n",
    "        self.value = value\n",
    "        self.left = None\n",
    "        self.right = None\n",
    "\n",
    "class BinaryTree:\n",
    "    def __init__(self, root):\n",
    "        self.root = TreeNode(root)\n",
    "        \n",
    "    def print_in_order(self, node):\n",
    "        if node:\n",
    "            self.print_in_order(node.left)\n",
    "            print(node.value, end=\" \")\n",
    "            self.print_in_order(node.right)\n",
    "            \n",
    "    def print_pre_order(self, node):\n",
    "        if node:\n",
    "            print(node.value, end=\" \")\n",
    "            self.print_pre_order(node.left)\n",
    "            self.print_pre_order(node.right)\n",
    "            \n",
    "    def print_post_order(self, node):\n",
    "        if node:\n",
    "            self.print_post_order(node.left)\n",
    "            self.print_post_order(node.right)\n",
    "            print(node.value, end=\" \")\n",
    "            \n",
    "    def print_level_order(self):\n",
    "        if not self.root:\n",
    "            return\n",
    "        \n",
    "        queue = [self.root]\n",
    "        while queue:\n",
    "            node = queue.pop(0)\n",
    "            print(node.value, end=\" \")\n",
    "            if node.left:\n",
    "                queue.append(node.left)\n",
    "            if node.right:\n",
    "                queue.append(node.right)"
   ]
  },
  {
   "cell_type": "code",
   "execution_count": 82,
   "metadata": {},
   "outputs": [],
   "source": [
    "bt = BinaryTree(1)\n",
    "bt.root.left = TreeNode(2)\n",
    "bt.root.right = TreeNode(3)\n",
    "bt.root.left.left = TreeNode(4)\n",
    "bt.root.left.right = TreeNode(5)"
   ]
  },
  {
   "cell_type": "markdown",
   "metadata": {},
   "source": [
    "## In-Order Traversal (Left, Root, Right):\n",
    "\n",
    "* This will print nodes in a sorted order if it’s a Binary Search Tree (BST)."
   ]
  },
  {
   "cell_type": "code",
   "execution_count": 77,
   "metadata": {},
   "outputs": [],
   "source": [
    "def print_in_order(self, node):\n",
    "    if node:\n",
    "        self.print_in_order(node.left)\n",
    "        print(node.value, end=\" \")\n",
    "        self.print_in_order(node.right)"
   ]
  },
  {
   "cell_type": "code",
   "execution_count": 78,
   "metadata": {},
   "outputs": [
    {
     "name": "stdout",
     "output_type": "stream",
     "text": [
      "In-order Traversal:\n",
      "4 2 5 1 3 "
     ]
    }
   ],
   "source": [
    "print(\"In-order Traversal:\")\n",
    "bt.print_in_order(bt.root)  # Output: 4 2 5 1 3"
   ]
  },
  {
   "cell_type": "markdown",
   "metadata": {},
   "source": [
    "## Pre-Order Traversal (Root, Left, Right):\n",
    "\n",
    "* Useful for copying the tree or checking structure."
   ]
  },
  {
   "cell_type": "code",
   "execution_count": 83,
   "metadata": {},
   "outputs": [],
   "source": [
    "def print_pre_order(self, node):\n",
    "    if node:\n",
    "        print(node.value, end=\" \")\n",
    "        self.print_pre_order(node.left)\n",
    "        self.print_pre_order(node.right)"
   ]
  },
  {
   "cell_type": "code",
   "execution_count": 84,
   "metadata": {},
   "outputs": [
    {
     "name": "stdout",
     "output_type": "stream",
     "text": [
      "\n",
      "Pre-order Traversal:\n",
      "1 2 4 5 3 "
     ]
    }
   ],
   "source": [
    "print(\"\\nPre-order Traversal:\")\n",
    "bt.print_pre_order(bt.root)  # Output: 1 2 4 5 3"
   ]
  },
  {
   "cell_type": "markdown",
   "metadata": {},
   "source": [
    "## Post-Order Traversal (Left, Right, Root):\n",
    "\n",
    "* Often used in deletion operations."
   ]
  },
  {
   "cell_type": "code",
   "execution_count": 85,
   "metadata": {},
   "outputs": [],
   "source": [
    "def print_post_order(self, node):\n",
    "    if node:\n",
    "        self.print_post_order(node.left)\n",
    "        self.print_post_order(node.right)\n",
    "        print(node.value, end=\" \")"
   ]
  },
  {
   "cell_type": "code",
   "execution_count": 86,
   "metadata": {},
   "outputs": [
    {
     "name": "stdout",
     "output_type": "stream",
     "text": [
      "\n",
      "Post-order Traversal:\n",
      "4 5 2 3 1 "
     ]
    }
   ],
   "source": [
    "print(\"\\nPost-order Traversal:\")\n",
    "bt.print_post_order(bt.root)  # Output: 4 5 2 3 1"
   ]
  },
  {
   "cell_type": "markdown",
   "metadata": {},
   "source": [
    "## Level-Order Traversal (Breadth-First):\n",
    "\n",
    "* This method prints the tree by levels, often using a queue to track nodes at each depth.\n",
    "\n",
    "* We'll contrast Breadth-First Search (BFS) and Depth-First Search (DFS) in the next lecture."
   ]
  },
  {
   "cell_type": "code",
   "execution_count": 87,
   "metadata": {},
   "outputs": [],
   "source": [
    "def print_level_order(self):\n",
    "    if not self.root:\n",
    "        return\n",
    "     \n",
    "    queue = [self.root]\n",
    "    while queue:\n",
    "        node = queue.pop(0)\n",
    "        print(node.value, end=\" \")\n",
    "        if node.left:\n",
    "            queue.append(node.left)\n",
    "        if node.right:\n",
    "            queue.append(node.right)"
   ]
  },
  {
   "cell_type": "code",
   "execution_count": 89,
   "metadata": {},
   "outputs": [
    {
     "name": "stdout",
     "output_type": "stream",
     "text": [
      "\n",
      "Level-order Traversal:\n",
      "1 2 3 4 5 "
     ]
    }
   ],
   "source": [
    "print(\"\\nLevel-order Traversal:\")\n",
    "bt.print_level_order()  # Output: 1 2 3 4 5"
   ]
  },
  {
   "cell_type": "markdown",
   "metadata": {},
   "source": [
    "# Binary Search Tree (BST)\n",
    "\n",
    "Previously, we looked at the Binary Search algorithm. Remember that this operates on a divide and conquer principle. It will look for the middle of a sorted list. If the item is greater than the mid point, then the first half of the list is disregarded. The algorithm then iterates this process of dividing the list in half and will eventually find the item. \n",
    "\n",
    "Binary Search Trees will arrange nodes depending on their value. The root of the BST is regarded to be the mid point. \n",
    "\n",
    "* Values lower than the mid point will be added to the left hand side. \n",
    "\n",
    "* Values greater than the midpoint are added to the right hand side. \n",
    "\n",
    "* This process repeats and items are then arranged in to levels (as can be seen below).\n",
    "\n",
    "Below is an example of a Binary Search algorithm running on a Tree of nodes alongside an Linear Search algorithm running on an array: \n",
    "\n",
    "![BST](https://blog.penjee.com/wp-content/uploads/2015/11/binary-search-tree-sorted-array-animation.gif)"
   ]
  },
  {
   "cell_type": "code",
   "execution_count": 90,
   "metadata": {},
   "outputs": [],
   "source": [
    "def binary_search(sorted_list, target):\n",
    "    left_pointer = 0\n",
    "    right_pointer = len(sorted_list)\n",
    "  \n",
    "  # fill in the condition for the while loop\n",
    "    while left_pointer < right_pointer:\n",
    "        # calculate the middle index using the two pointers\n",
    "        mid_idx = (left_pointer + right_pointer) // 2\n",
    "        mid_val = sorted_list[mid_idx]\n",
    "        if mid_val == target:\n",
    "            return mid_idx\n",
    "        if target < mid_val:\n",
    "            # set the right_pointer to the appropriate value\n",
    "            right_pointer = mid_idx\n",
    "        if target > mid_val:\n",
    "            # set the left_pointer to the appropriate value\n",
    "            left_pointer = mid_idx + 1\n",
    "  \n",
    "    return \"Value not in list\""
   ]
  },
  {
   "cell_type": "code",
   "execution_count": 91,
   "metadata": {},
   "outputs": [
    {
     "name": "stdout",
     "output_type": "stream",
     "text": [
      "3\n"
     ]
    }
   ],
   "source": [
    "print(binary_search([1,2,3,4,5], 4))\n"
   ]
  },
  {
   "cell_type": "code",
   "execution_count": 92,
   "metadata": {},
   "outputs": [
    {
     "name": "stdout",
     "output_type": "stream",
     "text": [
      "Value not in list\n"
     ]
    }
   ],
   "source": [
    "print(binary_search([1,2,3,4,5], 10))"
   ]
  },
  {
   "cell_type": "markdown",
   "metadata": {},
   "source": [
    "# BST Traversal"
   ]
  },
  {
   "cell_type": "code",
   "execution_count": 93,
   "metadata": {},
   "outputs": [],
   "source": [
    "class BinarySearchTree:\n",
    "  def __init__(self, value, depth=1):\n",
    "    self.value = value\n",
    "    self.depth = depth\n",
    "    self.left = None\n",
    "    self.right = None\n",
    "\n",
    "  def insert(self, value):\n",
    "    if (value < self.value):\n",
    "      if (self.left is None):\n",
    "        self.left = BinarySearchTree(value, self.depth + 1)\n",
    "        print(f'Tree node {value} added to the left of {self.value} at depth {self.depth + 1}')\n",
    "      else:\n",
    "        self.left.insert(value)\n",
    "    else:\n",
    "      if (self.right is None):\n",
    "        self.right = BinarySearchTree(value, self.depth + 1)\n",
    "        print(f'Tree node {value} added to the right of {self.value} at depth {self.depth + 1}')\n",
    "      else:\n",
    "        self.right.insert(value)\n",
    "        \n",
    "  def get_node_by_value(self, value):\n",
    "    if (self.value == value):\n",
    "      return self\n",
    "    elif ((self.left is not None) and (value < self.value)):\n",
    "      return self.left.get_node_by_value(value)\n",
    "    elif ((self.right is not None) and (value >= self.value)):\n",
    "      return self.right.get_node_by_value(value)\n",
    "    else:\n",
    "      return None\n",
    "    \n",
    "  # Define .depth_first_traversal() below:\n",
    "  def depth_first_traversal(self):\n",
    "    if (self.left is not None):\n",
    "      self.left.depth_first_traversal()\n",
    "    print(f'Depth={self.depth}, Value={self.value}')\n",
    "    if (self.right is not None):\n",
    "      self.right.depth_first_traversal()"
   ]
  },
  {
   "cell_type": "code",
   "execution_count": 94,
   "metadata": {},
   "outputs": [
    {
     "name": "stdout",
     "output_type": "stream",
     "text": [
      "Tree node 24 added to the left of 48 at depth 2\n",
      "Tree node 55 added to the right of 48 at depth 2\n",
      "Tree node 26 added to the right of 24 at depth 3\n",
      "Tree node 38 added to the right of 26 at depth 4\n",
      "Tree node 56 added to the right of 55 at depth 3\n",
      "Tree node 74 added to the right of 56 at depth 4\n",
      "Depth=2, Value=24\n",
      "Depth=3, Value=26\n",
      "Depth=4, Value=38\n",
      "Depth=1, Value=48\n",
      "Depth=2, Value=55\n",
      "Depth=3, Value=56\n",
      "Depth=4, Value=74\n"
     ]
    }
   ],
   "source": [
    "tree = BinarySearchTree(48)\n",
    "tree.insert(24)\n",
    "tree.insert(55)\n",
    "tree.insert(26)\n",
    "tree.insert(38)\n",
    "tree.insert(56)\n",
    "tree.insert(74)\n",
    "\n",
    "# Print depth-first traversal:\n",
    "tree.depth_first_traversal()"
   ]
  },
  {
   "cell_type": "code",
   "execution_count": 102,
   "metadata": {},
   "outputs": [
    {
     "name": "stdout",
     "output_type": "stream",
     "text": [
      "Creating Binary Search Tree rooted at value 15:\n",
      "Tree node 81 added to the right of 15 at depth 2\n",
      "Tree node 58 added to the left of 81 at depth 3\n",
      "Tree node 1 added to the left of 15 at depth 2\n",
      "Tree node 97 added to the right of 81 at depth 3\n",
      "Tree node 30 added to the left of 58 at depth 4\n",
      "Tree node 37 added to the right of 30 at depth 5\n",
      "Tree node 99 added to the right of 97 at depth 4\n",
      "Tree node 80 added to the right of 58 at depth 4\n",
      "Tree node 20 added to the left of 30 at depth 5\n",
      "Tree node 74 added to the left of 80 at depth 5\n",
      "Printing the inorder depth-first traversal:\n",
      "Depth=2, Value=1\n",
      "Depth=1, Value=15\n",
      "Depth=5, Value=20\n",
      "Depth=4, Value=30\n",
      "Depth=5, Value=37\n",
      "Depth=3, Value=58\n",
      "Depth=5, Value=74\n",
      "Depth=4, Value=80\n",
      "Depth=2, Value=81\n",
      "Depth=3, Value=97\n",
      "Depth=4, Value=99\n"
     ]
    }
   ],
   "source": [
    "import random\n",
    "print(\"Creating Binary Search Tree rooted at value 15:\")\n",
    "tree = BinarySearchTree(15)\n",
    "\n",
    "for x in range(10):\n",
    "  tree.insert(random.randint(0, 100))\n",
    "  \n",
    "print(\"Printing the inorder depth-first traversal:\")\n",
    "tree.depth_first_traversal()"
   ]
  },
  {
   "cell_type": "markdown",
   "metadata": {},
   "source": [
    "# Another example of BST Implementation"
   ]
  },
  {
   "cell_type": "code",
   "execution_count": 103,
   "metadata": {},
   "outputs": [],
   "source": [
    "class TreeNode:\n",
    "    def __init__(self, value):\n",
    "        self.value = value\n",
    "        self.left = None\n",
    "        self.right = None"
   ]
  },
  {
   "cell_type": "code",
   "execution_count": 105,
   "metadata": {},
   "outputs": [],
   "source": [
    "class BinarySearchTree:\n",
    "    def __init__(self):\n",
    "        self.root = None\n",
    "        \n",
    "    def insert(self, value):\n",
    "        if self.root is None:\n",
    "            self.root = TreeNode(value)\n",
    "        else:\n",
    "            self._insert_recursive(self.root, value)\n",
    "\n",
    "    def _insert_recursive(self, node, value):\n",
    "        if value < node.value:\n",
    "            if node.left is None:\n",
    "                node.left = TreeNode(value)\n",
    "            else:\n",
    "                self._insert_recursive(node.left, value)\n",
    "        elif value > node.value:\n",
    "            if node.right is None:\n",
    "                node.right = TreeNode(value)\n",
    "            else:\n",
    "                self._insert_recursive(node.right, value)\n",
    "                \n",
    "    def in_order_traversal(self):\n",
    "        self._in_order_recursive(self.root)\n",
    "        print()  # New line after traversal\n",
    "\n",
    "    def _in_order_recursive(self, node):\n",
    "        if node:\n",
    "            self._in_order_recursive(node.left)\n",
    "            print(node.value, end=\" \")\n",
    "            self._in_order_recursive(node.right)\n",
    "            \n",
    "    def search(self, value):\n",
    "        return self._search_recursive(self.root, value)\n",
    "\n",
    "    def _search_recursive(self, node, value):\n",
    "        if node is None:\n",
    "            return False\n",
    "        if node.value == value:\n",
    "            return True\n",
    "        elif value < node.value:\n",
    "            return self._search_recursive(node.left, value)\n",
    "        else:\n",
    "            return self._search_recursive(node.right, value)"
   ]
  },
  {
   "cell_type": "code",
   "execution_count": 106,
   "metadata": {},
   "outputs": [],
   "source": [
    "bst = BinarySearchTree()\n",
    "bst.insert(50)\n",
    "bst.insert(30)\n",
    "bst.insert(70)\n",
    "bst.insert(20)\n",
    "bst.insert(40)\n",
    "bst.insert(60)\n",
    "bst.insert(80)"
   ]
  },
  {
   "cell_type": "code",
   "execution_count": 107,
   "metadata": {},
   "outputs": [
    {
     "name": "stdout",
     "output_type": "stream",
     "text": [
      "In-order Traversal:\n",
      "20 30 40 50 60 70 80 \n"
     ]
    }
   ],
   "source": [
    "print(\"In-order Traversal:\")\n",
    "bst.in_order_traversal()  # Output: 20 30 40 50 60 70 80"
   ]
  },
  {
   "cell_type": "markdown",
   "metadata": {},
   "source": [
    "## Binary Search: "
   ]
  },
  {
   "cell_type": "code",
   "execution_count": 108,
   "metadata": {},
   "outputs": [],
   "source": [
    "def search(self, value):\n",
    "    return self._search_recursive(self.root, value)\n",
    "\n",
    "def _search_recursive(self, node, value):\n",
    "    if node is None:\n",
    "        return False\n",
    "    if node.value == value:\n",
    "        return True\n",
    "    elif value < node.value:\n",
    "        return self._search_recursive(node.left, value)\n",
    "    else:\n",
    "        return self._search_recursive(node.right, value)"
   ]
  },
  {
   "cell_type": "code",
   "execution_count": 109,
   "metadata": {},
   "outputs": [],
   "source": [
    "class BinarySearchTree:\n",
    "    def __init__(self):\n",
    "        self.root = None\n",
    "        \n",
    "    def insert(self, value):\n",
    "        if self.root is None:\n",
    "            self.root = TreeNode(value)\n",
    "        else:\n",
    "            self._insert_recursive(self.root, value)\n",
    "\n",
    "    def _insert_recursive(self, node, value):\n",
    "        if value < node.value:\n",
    "            if node.left is None:\n",
    "                node.left = TreeNode(value)\n",
    "            else:\n",
    "                self._insert_recursive(node.left, value)\n",
    "        elif value > node.value:\n",
    "            if node.right is None:\n",
    "                node.right = TreeNode(value)\n",
    "            else:\n",
    "                self._insert_recursive(node.right, value)\n",
    "                \n",
    "    def in_order_traversal(self):\n",
    "        self._in_order_recursive(self.root)\n",
    "        print()  # New line after traversal\n",
    "\n",
    "    def _in_order_recursive(self, node):\n",
    "        if node:\n",
    "            self._in_order_recursive(node.left)\n",
    "            print(node.value, end=\" \")\n",
    "            self._in_order_recursive(node.right)\n",
    "            \n",
    "    def search(self, value):\n",
    "        return self._search_recursive(self.root, value)\n",
    "\n",
    "    def _search_recursive(self, node, value):\n",
    "        if node is None:\n",
    "            return False\n",
    "        if node.value == value:\n",
    "            return True\n",
    "        elif value < node.value:\n",
    "            return self._search_recursive(node.left, value)\n",
    "        else:\n",
    "            return self._search_recursive(node.right, value)"
   ]
  },
  {
   "cell_type": "code",
   "execution_count": 110,
   "metadata": {},
   "outputs": [],
   "source": [
    "bst = BinarySearchTree()\n",
    "bst.insert(50)\n",
    "bst.insert(30)\n",
    "bst.insert(70)\n",
    "bst.insert(20)\n",
    "bst.insert(40)\n",
    "bst.insert(60)\n",
    "bst.insert(80)"
   ]
  },
  {
   "cell_type": "code",
   "execution_count": 111,
   "metadata": {},
   "outputs": [
    {
     "name": "stdout",
     "output_type": "stream",
     "text": [
      "Search for 40: True\n",
      "Search for 25: False\n"
     ]
    }
   ],
   "source": [
    "print(\"Search for 40:\", bst.search(40))  # Output: True\n",
    "print(\"Search for 25:\", bst.search(25))  # Output: False"
   ]
  },
  {
   "cell_type": "markdown",
   "metadata": {},
   "source": [
    "## Deletion in a BST: \n",
    "\n",
    "* Deletion of leaf nodes\n",
    "\n",
    "* Deletion of sub-tree parents\n",
    "\n",
    "* Deletion of root\n",
    "\n",
    "![swap_delete_bst](https://blogger.googleusercontent.com/img/b/R29vZ2xl/AVvXsEiTKq3yaLOX0BoKHkfV6hXySbYXodGu3HMY823mBJE2Gv_23CmeV7NSNE2yAOEfShsZrzcDziEEQGuJSLly_0CRTb2ejqfJdW7VB1ij_0bUqju_fPPJArv5D7ROsPYodDc1Y2ktdoPTqmMs/s320-rw/delete_bst.gif)"
   ]
  },
  {
   "cell_type": "code",
   "execution_count": 112,
   "metadata": {},
   "outputs": [],
   "source": [
    "def delete(self, value):\n",
    "    self.root = self._delete_recursive(self.root, value)\n",
    "\n",
    "def _delete_recursive(self, node, value):\n",
    "    if node is None:\n",
    "        return node\n",
    "    if value < node.value:\n",
    "        node.left = self._delete_recursive(node.left, value)\n",
    "    elif value > node.value:\n",
    "        node.right = self._delete_recursive(node.right, value)\n",
    "    else:\n",
    "        # Node with only one child or no child\n",
    "        if node.left is None:\n",
    "            return node.right\n",
    "        elif node.right is None:\n",
    "            return node.left\n",
    "\n",
    "        # Node with two children: get the in-order successor\n",
    "        min_larger_node = self._min_value_node(node.right)\n",
    "        node.value = min_larger_node.value\n",
    "        node.right = self._delete_recursive(node.right, min_larger_node.value)\n",
    "\n",
    "    return node\n",
    "\n",
    "def _min_value_node(self, node):\n",
    "    current = node\n",
    "    while current.left is not None:\n",
    "        current = current.left\n",
    "    return current"
   ]
  },
  {
   "cell_type": "code",
   "execution_count": 113,
   "metadata": {},
   "outputs": [],
   "source": [
    "class BinarySearchTree:\n",
    "    def __init__(self):\n",
    "        self.root = None\n",
    "        \n",
    "    def insert(self, value):\n",
    "        if self.root is None:\n",
    "            self.root = TreeNode(value)\n",
    "        else:\n",
    "            self._insert_recursive(self.root, value)\n",
    "\n",
    "    def _insert_recursive(self, node, value):\n",
    "        if value < node.value:\n",
    "            if node.left is None:\n",
    "                node.left = TreeNode(value)\n",
    "            else:\n",
    "                self._insert_recursive(node.left, value)\n",
    "        elif value > node.value:\n",
    "            if node.right is None:\n",
    "                node.right = TreeNode(value)\n",
    "            else:\n",
    "                self._insert_recursive(node.right, value)\n",
    "                \n",
    "    def in_order_traversal(self):\n",
    "        self._in_order_recursive(self.root)\n",
    "        print()  # New line after traversal\n",
    "\n",
    "    def _in_order_recursive(self, node):\n",
    "        if node:\n",
    "            self._in_order_recursive(node.left)\n",
    "            print(node.value, end=\" \")\n",
    "            self._in_order_recursive(node.right)\n",
    "            \n",
    "    def search(self, value):\n",
    "        return self._search_recursive(self.root, value)\n",
    "\n",
    "    def _search_recursive(self, node, value):\n",
    "        if node is None:\n",
    "            return False\n",
    "        if node.value == value:\n",
    "            return True\n",
    "        elif value < node.value:\n",
    "            return self._search_recursive(node.left, value)\n",
    "        else:\n",
    "            return self._search_recursive(node.right, value)\n",
    "    \n",
    "    def delete(self, value):\n",
    "        self.root = self._delete_recursive(self.root, value)\n",
    "\n",
    "    def _delete_recursive(self, node, value):\n",
    "        if node is None:\n",
    "            return node\n",
    "        if value < node.value:\n",
    "            node.left = self._delete_recursive(node.left, value)\n",
    "        elif value > node.value:\n",
    "            node.right = self._delete_recursive(node.right, value)\n",
    "        else:\n",
    "            # Node with only one child or no child\n",
    "            if node.left is None:\n",
    "                return node.right\n",
    "            elif node.right is None:\n",
    "                return node.left\n",
    "\n",
    "            # Node with two children: get the in-order successor\n",
    "            min_larger_node = self._min_value_node(node.right)\n",
    "            node.value = min_larger_node.value\n",
    "            node.right = self._delete_recursive(node.right, min_larger_node.value)\n",
    "\n",
    "        return node\n",
    "\n",
    "    def _min_value_node(self, node):\n",
    "        current = node\n",
    "        while current.left is not None:\n",
    "            current = current.left\n",
    "        return current"
   ]
  },
  {
   "cell_type": "code",
   "execution_count": 114,
   "metadata": {},
   "outputs": [],
   "source": [
    "bst = BinarySearchTree()\n",
    "bst.insert(50)\n",
    "bst.insert(30)\n",
    "bst.insert(70)\n",
    "bst.insert(20)\n",
    "bst.insert(40)\n",
    "bst.insert(60)\n",
    "bst.insert(80)"
   ]
  },
  {
   "cell_type": "code",
   "execution_count": 116,
   "metadata": {},
   "outputs": [
    {
     "name": "stdout",
     "output_type": "stream",
     "text": [
      "In-order Traversal after deleting 70:\n",
      "20 30 40 50 60 80 \n"
     ]
    }
   ],
   "source": [
    "bst.delete(70)\n",
    "print(\"In-order Traversal after deleting 70:\")\n",
    "bst.in_order_traversal()  # Output: 20 30 40 50 60 80"
   ]
  },
  {
   "cell_type": "markdown",
   "metadata": {},
   "source": [
    "## Further Reading\n",
    "\n",
    "If interested in Trees, then BSTs are one of many arrangements of Trees. \n",
    "\n",
    "\n",
    "Other popular arrangements are: \n",
    "\n",
    "## AVL Trees \n",
    "Named after the programmers Georgy <b>Adelson-Velsky</b> and Evgenii <b>Landis</b> in 1962, the AVL tree is a self-correcting and balancing tree.\n",
    "\n",
    "![AVLtree](https://upload.wikimedia.org/wikipedia/commons/f/fd/AVL_Tree_Example.gif)\n",
    "\n",
    "## Red-Black Trees \n",
    "\n",
    "Invented by Rudolph Bayer in 1972, Red-Black Trees are a form of self-balancing tree but store additional colour information (which could be compressed to a 'bit' - 0 or 1 - to reduce memory overhead) which aids the re-balancing of the tree. Null pointers (None in Python) are also stored.\n",
    "\n",
    "Red-Black Trees maintain a balanced structure with a guaranteed maximum height of O(log n), where 'n' is the number of nodes in the tree. This balanced structure ensures efficient search and insertion operations in the tree.\n",
    "\n",
    "Rules: \n",
    "* Root must be black.\n",
    "* New nodes start as red. \n",
    "* Red nodes cannot have red children (they must be black). \n",
    "* Self-balancing (like AVL)\n",
    "\n",
    "<img src=\"https://upload.wikimedia.org/wikipedia/commons/4/41/Red-black_tree_example_with_NIL.svg\" alt=\"natural_tree\" width=\"850\"> \n",
    "\n",
    "\n",
    "![RBTreesgif](https://miro.medium.com/v2/resize:fit:1200/1*UyredRrTNZ-XJwa0uUfoTA.gif)\n",
    "\n",
    "\n",
    "## Decision Trees in data analysis and AI applications\n",
    "\n",
    "The Tree structure can also be applied for decision making within AI applications.\n",
    "\n",
    "<img src=\"https://venngage-wordpress.s3.amazonaws.com/uploads/2019/08/what-is-a-decision-tree-5.png\" alt=\"natural_tree\" width=\"650\"> \n",
    "\n",
    "\n",
    "\n",
    "## Parse trees for Natural Language Processing \n",
    "\n",
    "\n",
    "![Con_NLP](https://upload.wikimedia.org/wikipedia/commons/5/54/Parse_tree_1.jpg)\n",
    "\n",
    "![Dep_NLP](https://upload.wikimedia.org/wikipedia/commons/8/8c/Parse2.jpg)\n"
   ]
  },
  {
   "cell_type": "markdown",
   "metadata": {},
   "source": [
    "## Summary \n",
    "\n",
    "* Tree - layers/levels linked together (any number of children)\n",
    "\n",
    "* Binary Tree - maximum two children - we used these for representing Heaps.\n",
    "\n",
    "* Binary Search Tree - logarithmic search $O(log$ $n)$\n",
    "\n",
    "* AVL Tree - self balancing BST - re-arranges itself as new items are added and removed. "
   ]
  },
  {
   "cell_type": "markdown",
   "metadata": {},
   "source": [
    "## Exercise \n",
    "\n",
    "Implement the `BinarySearchTree` class below, which contains a `root` node attribute, an `insert()` and `print_inorder()` method. \n",
    "\n",
    "For the `insert()` method, remember ther rules for a BST: \n",
    "    \n",
    "* values less than the parent, are assigned on the left\n",
    "    \n",
    "* values greater than the parent, are assigned on the right\n",
    "\n",
    "For the `print_inorder()`, ensure that you print the values in order from lowest to highest. \n",
    "\n",
    "To test this, `insert` a few integers (e.g. five to eight values) and then call `print_inorder` method to ensure that these have printed correctly. \n",
    "\n",
    "Extension: Can you code your `BinarySearchTree` to work with letters? Can it arrange letters A-Z (and also think about a-z). Hint: use the `ord()` function we looked at with ASCII and hashing!\n",
    "\n",
    "Extension: Now work with strings! How will you arrange when you have words that start with the same letter? E.g. 'queue' and 'queen'?"
   ]
  },
  {
   "cell_type": "code",
   "execution_count": null,
   "metadata": {},
   "outputs": [],
   "source": [
    "class TreeNode:\n",
    "    def __init__(self, data):\n",
    "        self.data = data\n",
    "        self.left_child = None\n",
    "        self.right_child = None\n",
    "    \n",
    "    def assign_left_child(self):\n",
    "        ...\n",
    "        \n",
    "    def assign_right_child(self):\n",
    "        ..."
   ]
  },
  {
   "cell_type": "code",
   "execution_count": null,
   "metadata": {},
   "outputs": [],
   "source": [
    "class BinarySearchTree: \n",
    "    def __init__(self, root_value):\n",
    "        self.root = TreeNode(root_value)\n",
    "        \n",
    "    def insert(self):\n",
    "        ...\n",
    "\n",
    "    def print_inorder(self):\n",
    "        ..."
   ]
  },
  {
   "cell_type": "code",
   "execution_count": null,
   "metadata": {},
   "outputs": [],
   "source": [
    "# Complete the BinarySearchTree and TreeNode classes above and instantiate it here\n",
    "\n",
    "bst = BinarySearchTree()\n",
    "..."
   ]
  },
  {
   "cell_type": "markdown",
   "metadata": {},
   "source": [
    "## Exercise \n",
    "\n",
    "Now randomly generate 50 integers, between the range of 1-100, storing these in a Python `list`. \n",
    "\n",
    "Write a function which will `insert` the values from a list passed in (the one you just created) into a new instance of your `BinarySearchTree` class. \n",
    "\n",
    "Again, call the `print_inorder` method to ensure these values have been arranged correctly, following the rules of a BST. "
   ]
  },
  {
   "cell_type": "code",
   "execution_count": null,
   "metadata": {},
   "outputs": [],
   "source": [
    "# Write your solution here."
   ]
  },
  {
   "cell_type": "markdown",
   "metadata": {},
   "source": [
    "## Exercise \n",
    "\n",
    "Implement a `find()` method in your `BinarySearchTree` class which will locate a node by-value. Follow the logic of the `binary_search` algorithm here.\n",
    "\n",
    "Are there both recursive and iterative approaches to achieve this? What are the performance differences?"
   ]
  },
  {
   "cell_type": "code",
   "execution_count": null,
   "metadata": {},
   "outputs": [],
   "source": [
    "# Implement your find/binary_search algorithm in your BinarySearchTree class\n"
   ]
  },
  {
   "cell_type": "markdown",
   "metadata": {},
   "source": [
    "## Exercise \n",
    "\n",
    "Compare Linear (sequential search) against Binary Search. Test these on a variety of array lengths. \n",
    "\n",
    "Question: What is the run time of Binary Search? "
   ]
  },
  {
   "cell_type": "code",
   "execution_count": null,
   "metadata": {},
   "outputs": [],
   "source": [
    "# Write your solution here. "
   ]
  },
  {
   "cell_type": "markdown",
   "metadata": {},
   "source": [
    "## Exercise \n",
    "\n",
    "Now implement a `remove()` method for your `BinarySearchTree`. Code this to remove any node from any level in a BST. Consider all possible cases: removal of the root node, removal of a leaf node, and removal of a node in a middle layer of the BST. \n",
    "\n",
    "Hint: start with the removing a leaf node - this is easiest as it has no dependencies to re-arrange."
   ]
  },
  {
   "cell_type": "code",
   "execution_count": null,
   "metadata": {},
   "outputs": [],
   "source": [
    "# Implement your remove method in your BinarySearchTree class\n"
   ]
  },
  {
   "cell_type": "markdown",
   "metadata": {},
   "source": [
    "## Exercise \n",
    "\n",
    "Write a function which will position the nodes of a Binary Search Tree (BST) in an array. This is the reverse of a previous exercise which went from array to BST, and similar to how a Binary Tree can be represented as a heap (array).\n",
    "\n",
    "Question: What is the difference between a Binary Tree and Binary Search Tree? "
   ]
  },
  {
   "cell_type": "code",
   "execution_count": null,
   "metadata": {},
   "outputs": [],
   "source": [
    "# Write your solution here.\n"
   ]
  },
  {
   "cell_type": "markdown",
   "metadata": {},
   "source": [
    "## Exercise"
   ]
  },
  {
   "cell_type": "markdown",
   "metadata": {},
   "source": [
    "You've written `print_inorder()` in a previous exercise. Now can you implement methods for `print_preorder()` and `print_postorder()`\n",
    "\n",
    "Reminder: \n",
    "* <b>In-order traversal</b> visits nodes in the left subtree, then the root node, and finally nodes in the right subtree. \n",
    "\n",
    "* <b>Pre-order traversal</b> visits the root node first, then nodes in the left subtree, and finally nodes in the right subtree.\n",
    "\n",
    "* <b>Post-order traversal</b> visits nodes in the left subtree first, then nodes in the right subtree, and finally the root node.\n"
   ]
  },
  {
   "cell_type": "code",
   "execution_count": null,
   "metadata": {},
   "outputs": [],
   "source": [
    "# Implement your pre-order and post-order traversal methods in your BinarySearchTree class\n"
   ]
  },
  {
   "cell_type": "markdown",
   "metadata": {},
   "source": [
    "## Exercise - File Directory Tree\n",
    "\n",
    "Represent a file directory of folders and the files they contain, as a tree.\n",
    "\n",
    "Implement the appropriate traversal (print) method to maintain the structure of the file directory\n",
    "\n",
    "Feel free to make up the directory (or use your file directory), but here's an example : \n",
    "```\n",
    "   /usr\n",
    "       /nick\n",
    "           /Documents\n",
    "               /Teaching Materials\n",
    "               /Research\n",
    "               /GitHub\n",
    "                   /C++\n",
    "                   /Python\n",
    "                   /Java\n",
    "               \n",
    "```\n"
   ]
  },
  {
   "cell_type": "code",
   "execution_count": null,
   "metadata": {},
   "outputs": [],
   "source": [
    "# Write your solution here."
   ]
  },
  {
   "cell_type": "markdown",
   "metadata": {},
   "source": [
    "## Exercise \n",
    "\n",
    "Rather than printing out a vertical list of the tree nodes, can you print in the BST nodes in the arrangement shown in diagrams shown in this lecture? Are you able to format the print out of tree elements to look something like the below which shows the nodes and their edges:\n",
    "\n",
    "```\n",
    "         D\n",
    "       /   \\ \n",
    "      C     F\n",
    "           / \\\n",
    "          E   G\n",
    "```\n",
    "\n",
    "Hint: If you're finding the text display too difficult, adapt the `networkx` code we used for `08 Heaps`\n"
   ]
  },
  {
   "cell_type": "code",
   "execution_count": null,
   "metadata": {},
   "outputs": [],
   "source": [
    "def display_tree():\n",
    "    ..."
   ]
  },
  {
   "cell_type": "code",
   "execution_count": null,
   "metadata": {},
   "outputs": [],
   "source": [
    "display_tree()"
   ]
  },
  {
   "cell_type": "markdown",
   "metadata": {},
   "source": [
    "## Exercise - AVL Tree\n",
    "\n",
    "Can you now extend your BST to balance itself when new nodes are added (or deleted). The idea is to maintain the rules of a BST (left < root, right > root) but to strive for symmetry where new inserts (or deletions) make the tree too 'one-sided'. \n",
    "\n",
    "This was popularised by George Adelson-Velsky and Evgenii Landis - known as an AVL tree.\n",
    "\n",
    "To break this problem down into manageable steps, focus on testing left rotations and right rotations. I'm happy for you to use either digits or letters as values sorted and arranged.If you can get this working for insertions, check that the tree also re-balances itself for when you delete a given node from a tree.\n",
    "\n",
    "![AVLtree](https://upload.wikimedia.org/wikipedia/commons/f/fd/AVL_Tree_Example.gif)"
   ]
  },
  {
   "cell_type": "code",
   "execution_count": null,
   "metadata": {},
   "outputs": [],
   "source": [
    "# Write your solution here or in an AVL Tree class. \n"
   ]
  }
 ],
 "metadata": {
  "celltoolbar": "Slideshow",
  "kernelspec": {
   "display_name": "Python 3",
   "language": "python",
   "name": "python3"
  },
  "language_info": {
   "codemirror_mode": {
    "name": "ipython",
    "version": 3
   },
   "file_extension": ".py",
   "mimetype": "text/x-python",
   "name": "python",
   "nbconvert_exporter": "python",
   "pygments_lexer": "ipython3",
   "version": "3.9.6"
  }
 },
 "nbformat": 4,
 "nbformat_minor": 4
}
