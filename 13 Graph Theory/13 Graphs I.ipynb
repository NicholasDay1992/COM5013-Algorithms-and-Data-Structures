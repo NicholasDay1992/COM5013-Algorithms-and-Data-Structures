{
 "cells": [
  {
   "attachments": {
    "pythonLogo.png": {
     "image/png": "[encoded data removed]"
    }
   },
   "cell_type": "markdown",
   "metadata": {
    "slideshow": {
     "slide_type": "slide"
    }
   },
   "source": [
    "<!-- ![pythonLogo.png](attachment:pythonLogo.png)-->\n",
    "# 13 Graphs \n"
   ]
  },
  {
   "cell_type": "markdown",
   "metadata": {},
   "source": [
    "## Plan for the Lecture \n",
    "\n",
    "* Graph Theory and Descriptive Terminology\n",
    "\n",
    "* BFS + DFS for Graphs\n",
    "\n",
    "* Minimum Spanning Trees\n",
    "\n",
    "* Topological Sort"
   ]
  },
  {
   "cell_type": "markdown",
   "metadata": {},
   "source": [
    "## Introduction to Graphs\n",
    "\n",
    "* The basis of a Graph class in Python is the implementation of two classes, Graph and Vertex, which establish the essential functionality to create a variety of graphs.\n",
    "\n",
    "* The Vertex class allows for storage of connecting vertices with a dictionary and adjustment of their edges as well.\n",
    "\n",
    "* The Graph class builds upon the Vertex methods and allows addition of vertices and edges, setting the directionality of edges, and determining if a path exists between two vertices."
   ]
  },
  {
   "cell_type": "markdown",
   "metadata": {},
   "source": [
    "## Graph Theory \n",
    "\n",
    "$G = (V, E)$\n",
    "\n",
    "* In mathematics, graph theory is the study of graphs, which are mathemtaical structures used to model pairwise relations between objects. \n",
    "\n",
    "* Graphs are the basic subject studied by graph theory. The term first originated from an article written by J.J. Sylvester in 1878 - used in relation between mathematics and chemical structure. More here: [Graphs Wikipedia entry](\n",
    "https://en.wikipedia.org/wiki/Graph_theory#:~:text=In%20mathematics%2C%20graph%20theory%20is,also%20called%20links%20or%20lines)\n",
    "\n",
    "SYLVESTER, J. Chemistry and Algebra . Nature 17, 284 (1878). https://doi.org/10.1038/017284a0"
   ]
  },
  {
   "cell_type": "markdown",
   "metadata": {},
   "source": [
    "## Basics and Terminology \n",
    "\n",
    "* A Tree focusses on the arrangement of nodes (especially the Binary Search Tree). \n",
    "\n",
    "* <b>Graphs focus on the distance (or weighting) between nodes</b>. \n",
    "\n",
    "* Applying Graph Theory to programming enables us to represent nodes in a physical or virtual network, geographical maps and satnav applications, and Artificial Neural Networks (ANN).\n",
    "\n",
    "Nodes are referred to as vertices (vertex) and the pathways between them referred to as edges.\n",
    "\n",
    "![graphs.png](https://media.geeksforgeeks.org/wp-content/cdn-uploads/undirectedgraph.png)\n",
    "\n"
   ]
  },
  {
   "cell_type": "markdown",
   "metadata": {},
   "source": [
    "## Graphs vs Trees\n",
    "\n",
    "* Trees cannot have cycles \n",
    "\n",
    "* Graphs can have cycles - wise to detect them (especially for path finding!)\n",
    "\n",
    "![graph_vs_tree](https://www.gatevidyalay.com/wp-content/uploads/2018/07/Tree-Data-Structure-Example.png?ezimgfmt=rs:370x175/rscb1/ngcb1/notWebP)"
   ]
  },
  {
   "cell_type": "markdown",
   "metadata": {},
   "source": [
    "## Directed and Undirected Graphs\n",
    "\n",
    "* In an undirected graph, it's possible to go back and forth (two-way relationship). \n",
    "\n",
    "* Whereas in a directed graph, there may be a one way relationship between two nodes in a graph.\n",
    "\n",
    "<img src=\"https://miro.medium.com/max/1400/1*HpYMnHjGZWmH9NKRG05lAg.jpeg\" alt=\"DFS_paths\" width=\"850\">  "
   ]
  },
  {
   "cell_type": "markdown",
   "metadata": {},
   "source": [
    "## Weighted and Unweighted Graphs\n",
    "\n",
    "* Unweighted graphs could mean that the distance between each vertex is the same (often modelled by the value 1 in an adjaceny matrix). \n",
    "\n",
    "* Whereas, in a directed graph, each edge would represent a unique value that represents time, distance or some weighting (cost) that it would take to travel between the vertices.\n",
    "\n",
    "![weighted_unweighted](https://afteracademy.com/images/introduction-to-graph-in-programming-weighted-unweighted-graph-52bd4ce5100286b8.png)"
   ]
  },
  {
   "cell_type": "markdown",
   "metadata": {},
   "source": [
    "## Acyclic Graphs vs Cyclic Graphs\n",
    "\n",
    "* Cyclic = there is a path between three or more nodes that could lead to an endless cycle (like a ringroad.)\n",
    "\n",
    "* Acyclic = no cycles \n",
    "\n",
    "![acyclic_vs_cyclic](https://afteracademy.com/images/introduction-to-graph-in-programming-cyclic-acyclic-graph-5ff471a71f3b0a58.png)"
   ]
  },
  {
   "cell_type": "markdown",
   "metadata": {},
   "source": [
    "## Directed Acyclic Graphs (DAGs)\n",
    "\n",
    "* Directed Ayclic Graphs - directed (weighted) + no cycles\n",
    "\n",
    "![DAGs_DCGs](https://www.researchgate.net/publication/343260292/figure/fig1/AS:11431281122877966@1677581182297/The-difference-between-a-directed-cyclic-graph-and-a-directed-acyclic-graph.jpg)"
   ]
  },
  {
   "cell_type": "markdown",
   "metadata": {},
   "source": [
    "## Sparse vs Dense Graphs\n",
    "\n",
    "* Sparse = fewer (or single connections)\n",
    "\n",
    "* Dense = multiple connections\n",
    "\n",
    "![Sparse_vs_dense](https://afteracademy.com/images/introduction-to-graph-in-programming-sparse-dense-graph-7c1fb858a3c86b41.jpg)"
   ]
  },
  {
   "cell_type": "markdown",
   "metadata": {},
   "source": [
    "## Adjacency Matrix\n",
    "\n",
    "* The adjacency matrix stores the value representing the distance/time/weighting for each edge between pair of adjacent vertices. \n",
    "\n",
    "* The matrix representation of this is a 2D Array - which is indexed. \n",
    "\n",
    "* You could use a `numpy.array` or a Python `list`\n",
    "\n",
    "![adj_list](https://www.softwaretestinghelp.com/wp-content/qa/uploads/2020/05/4-5.png)"
   ]
  },
  {
   "cell_type": "markdown",
   "metadata": {},
   "source": [
    "## Adjacency Lists:\n",
    "\n",
    "* An alternate to the 2D array/matrix which is indexed, would be a referenced structure. \n",
    "\n",
    "* Each vertex of the graph holds a linked list of nodes (the connections from that vertex) and the distance/cost/time/weighting to get to that vertex in the graph.\n",
    "\n",
    "* Pythonic approaches may use a `dict` here. `k` = node, and `v` = list `[]` of connected nodes. \n",
    "\n",
    "![adj_list](https://www.softwaretestinghelp.com/wp-content/qa/uploads/2020/05/9-1.png)"
   ]
  },
  {
   "cell_type": "markdown",
   "metadata": {},
   "source": [
    "## Function signatures (headers) for a Graph class:"
   ]
  },
  {
   "cell_type": "code",
   "execution_count": null,
   "metadata": {},
   "outputs": [],
   "source": [
    "class Vertex: \n",
    "    \"\"\"Key methods of Vertex class\"\"\"\n",
    "    def __init__(self, value):\n",
    "        ...\n",
    "    def add_edge(self, vertex, weight = 0):\n",
    "        ...\n",
    "    def get_edges(self):\n",
    "        ..."
   ]
  },
  {
   "cell_type": "code",
   "execution_count": null,
   "metadata": {},
   "outputs": [],
   "source": [
    "class Graph: \n",
    "    \"\"\"Key methods of Graph class\"\"\"\n",
    "    def __init__(self, directed = False):\n",
    "        ...\n",
    "    def add_vertex(self, vertex):\n",
    "        ...\n",
    "    def add_edge(self, from_vertex, to_vertex, weight = 0):\n",
    "        ...\n",
    "    def find_path(self, start_vertex, end_vertex):\n",
    "        ..."
   ]
  },
  {
   "cell_type": "markdown",
   "metadata": {},
   "source": [
    "## Let's define the `Vertex` class"
   ]
  },
  {
   "cell_type": "code",
   "execution_count": 1,
   "metadata": {},
   "outputs": [],
   "source": [
    "class Vertex:\n",
    "  def __init__(self, value):\n",
    "    self.value = value\n",
    "    self.edges = {}\n",
    "\n",
    "  # define .add_edge() here\n",
    "  def add_edge(self, vertex):\n",
    "    print(\"Adding edge to \" + vertex)\n",
    "    self.edges[vertex] = True\n",
    "\n",
    "  def get_edges(self):\n",
    "    return list(self.edges.keys())"
   ]
  },
  {
   "cell_type": "code",
   "execution_count": 2,
   "metadata": {},
   "outputs": [
    {
     "name": "stdout",
     "output_type": "stream",
     "text": [
      "[]\n",
      "Adding edge to 42nd Street Station\n",
      "['42nd Street Station']\n",
      "[]\n",
      "Adding edge to Grand Central Station\n",
      "['Grand Central Station']\n"
     ]
    }
   ],
   "source": [
    "grand_central = Vertex('Grand Central Station')\n",
    "forty_second_street = Vertex('42nd Street Station')\n",
    "\n",
    "print(grand_central.get_edges())\n",
    "\n",
    "# call .add_edge() below here\n",
    "grand_central.add_edge(forty_second_street.value)\n",
    "\n",
    "print(grand_central.get_edges())\n",
    "print(forty_second_street.get_edges())\n",
    "\n",
    "forty_second_street.add_edge(grand_central.value)\n",
    "print(forty_second_street.get_edges())\n"
   ]
  },
  {
   "cell_type": "markdown",
   "metadata": {},
   "source": [
    "## Let's make a start on the `Graph` class \n",
    "\n",
    "* Here we'll use a Python `dict` - `k : v` for mapping the connections for each vertex. \n",
    "\n",
    "* This is a Pythonic approach to an adjcaency list (just using an hash map rather than a linked list)\n"
   ]
  },
  {
   "cell_type": "code",
   "execution_count": 3,
   "metadata": {},
   "outputs": [],
   "source": [
    "class Graph:\n",
    "  def __init__(self, directed = False):\n",
    "    self.graph_dict = {}\n",
    "    self.directed = directed\n",
    "    \n",
    "  def add_vertex(self, vertex):\n",
    "    print(\"Adding \" + vertex.value)\n",
    "    self.graph_dict[vertex.value] = vertex"
   ]
  },
  {
   "cell_type": "code",
   "execution_count": 5,
   "metadata": {},
   "outputs": [
    {
     "name": "stdout",
     "output_type": "stream",
     "text": [
      "{}\n",
      "Adding Grand Central Station\n",
      "{'Grand Central Station': <__main__.Vertex object at 0x107ac1550>}\n",
      "Adding 42nd Street Station\n",
      "{'Grand Central Station': <__main__.Vertex object at 0x107ac1550>, '42nd Street Station': <__main__.Vertex object at 0x107ac1c40>}\n",
      "Adding edge to 42nd Street Station\n",
      "['42nd Street Station']\n"
     ]
    }
   ],
   "source": [
    "grand_central = Vertex(\"Grand Central Station\")\n",
    "\n",
    "# Uncomment this code after you've defined Graph\n",
    "railway = Graph()\n",
    "\n",
    "# Uncomment these lines after you've completed .add_vertex()\n",
    "print(railway.graph_dict)\n",
    "railway.add_vertex(grand_central)\n",
    "print(railway.graph_dict)\n",
    "\n",
    "\n",
    "forty_second_street = Vertex('42nd Street Station')\n",
    "railway.add_vertex(forty_second_street)\n",
    "print(railway.graph_dict)\n",
    "\n",
    "# call .add_edge() below here\n",
    "grand_central.add_edge(forty_second_street.value)\n",
    "\n",
    "print(grand_central.get_edges())\n"
   ]
  },
  {
   "cell_type": "markdown",
   "metadata": {},
   "source": [
    "## Extending the `Graph` class"
   ]
  },
  {
   "cell_type": "code",
   "execution_count": 6,
   "metadata": {},
   "outputs": [],
   "source": [
    "class Graph:\n",
    "  def __init__(self, directed = False):\n",
    "    self.graph_dict = {}\n",
    "    self.directed = directed\n",
    "\n",
    "  def add_vertex(self, vertex):\n",
    "    self.graph_dict[vertex.value] = vertex\n",
    "\n",
    "  def add_edge(self, from_vertex, to_vertex, weight = 0):\n",
    "    self.graph_dict[from_vertex.value].add_edge(to_vertex.value, weight)\n",
    "    if not self.directed:\n",
    "      self.graph_dict[to_vertex.value].add_edge(from_vertex.value, weight)\n",
    "\n",
    "  def find_path(self, start_vertex, end_vertex):\n",
    "    start = [start_vertex]\n",
    "    while len(start) > 0:\n",
    "      current_vertex = start.pop(0)\n",
    "      print(\"Visiting \" + current_vertex)\n",
    "      #START CODE HERE\n",
    "      if current_vertex == end_vertex:\n",
    "        return True\n",
    "      vertex = self.graph_dict[current_vertex]\n",
    "      next_vertices = vertex.get_edges()\n",
    "      start += next_vertices\n",
    "    return False\n",
    "   "
   ]
  },
  {
   "cell_type": "code",
   "execution_count": 7,
   "metadata": {},
   "outputs": [
    {
     "name": "stdout",
     "output_type": "stream",
     "text": [
      "{}\n",
      "{'Grand Central Station': <__main__.Vertex object at 0x107ad49d0>, '42nd Street Station': <__main__.Vertex object at 0x107ad4970>}\n",
      "Adding edge to 42nd Street Station\n",
      "{'Grand Central Station': <__main__.Vertex object at 0x107ad49d0>, '42nd Street Station': <__main__.Vertex object at 0x107ad4970>}\n"
     ]
    }
   ],
   "source": [
    "grand_central = Vertex(\"Grand Central Station\")\n",
    "\n",
    "# Uncomment this code after you've defined Graph\n",
    "railway = Graph()\n",
    "print(railway.graph_dict)\n",
    "railway.add_vertex(grand_central)\n",
    "\n",
    "forty_second_street = Vertex('42nd Street Station')\n",
    "railway.add_vertex(forty_second_street)\n",
    "print(railway.graph_dict)\n",
    "\n",
    "# call .add_edge() below here\n",
    "grand_central.add_edge(forty_second_street.value)\n",
    "\n",
    "railway.add_vertex(grand_central)\n",
    "#railway.add_edge(grand_central, forty_second_street)\n",
    "print(railway.graph_dict)\n"
   ]
  },
  {
   "cell_type": "markdown",
   "metadata": {},
   "source": [
    "## Directed `Graph` - adding vertexes"
   ]
  },
  {
   "cell_type": "code",
   "execution_count": 8,
   "metadata": {},
   "outputs": [],
   "source": [
    "class Vertex:\n",
    "  def __init__(self, value):\n",
    "    self.value = value\n",
    "    self.edges = {}\n",
    "\n",
    "  # define .add_edge() here\n",
    "  def add_edge(self, vertex, weight = 0):\n",
    "    print(\"Adding edge to \" + vertex)\n",
    "    self.edges[vertex] = True\n",
    "\n",
    "  def get_edges(self):\n",
    "    return list(self.edges.keys())"
   ]
  },
  {
   "cell_type": "code",
   "execution_count": 13,
   "metadata": {},
   "outputs": [],
   "source": [
    "class Graph:\n",
    "  def __init__(self, directed = False):\n",
    "    self.graph_dict = {}\n",
    "    self.directed = directed\n",
    "\n",
    "  def add_vertex(self, vertex):\n",
    "    self.graph_dict[vertex.value] = vertex\n",
    "\n",
    "  def add_edge(self, from_vertex, to_vertex, weight = 0):\n",
    "    self.graph_dict[from_vertex.value].add_edge(to_vertex.value, weight)\n",
    "    if not self.directed:\n",
    "      self.graph_dict[to_vertex.value].add_edge(from_vertex.value, weight)\n",
    "\n",
    "  def find_path(self, start_vertex, end_vertex):\n",
    "    start = [start_vertex]\n",
    "    while len(start) > 0:\n",
    "      current_vertex = start.pop(0)\n",
    "      print(\"Visiting \" + current_vertex)\n",
    "      #START CODE HERE\n",
    "      if current_vertex == end_vertex:\n",
    "        return True\n",
    "      vertex = self.graph_dict[current_vertex]\n",
    "      next_vertices = vertex.get_edges()\n",
    "      start += next_vertices\n",
    "    return False"
   ]
  },
  {
   "cell_type": "code",
   "execution_count": 15,
   "metadata": {},
   "outputs": [
    {
     "name": "stdout",
     "output_type": "stream",
     "text": [
      "Adding edge to peel\n",
      "Adding edge to callan\n",
      "Visiting harwick\n",
      "True\n",
      "\n",
      "\n",
      "\n",
      "Finding path from harwick to callan\n",
      "\n",
      "Visiting harwick\n",
      "Visiting peel\n",
      "Visiting callan\n",
      "True\n",
      "\n",
      "\n",
      "Trying to find path from harwick to ulfstead\n",
      "\n",
      "Visiting harwick\n",
      "Visiting peel\n",
      "Visiting callan\n",
      "False\n"
     ]
    }
   ],
   "source": [
    "no_path_exists = True\n",
    "\n",
    "directed_railway = Graph(True)\n",
    "\n",
    "callan_station = Vertex('callan')\n",
    "peel_station = Vertex('peel')\n",
    "ulfstead_station = Vertex('ulfstead')\n",
    "harwick_station = Vertex('harwick')\n",
    "\n",
    "directed_railway.add_vertex(callan_station)\n",
    "directed_railway.add_vertex(peel_station)\n",
    "directed_railway.add_vertex(harwick_station)\n",
    "directed_railway.add_vertex(ulfstead_station)\n",
    "\n",
    "directed_railway.add_edge(harwick_station, peel_station)\n",
    "directed_railway.add_edge(peel_station, callan_station)\n",
    "\n",
    "\n",
    "path_exists = directed_railway.find_path('harwick', 'harwick')\n",
    "print(path_exists)\n",
    "\n",
    "print(\"\\n\\n\\nFinding path from harwick to callan\\n\")\n",
    "new_path_exists = directed_railway.find_path('harwick', 'callan')\n",
    "print(new_path_exists)\n",
    "print(\"\\n\\nTrying to find path from harwick to ulfstead\\n\")\n",
    "no_path_exists = directed_railway.find_path('harwick', 'ulfstead')\n",
    "print(no_path_exists)\n"
   ]
  },
  {
   "cell_type": "markdown",
   "metadata": {},
   "source": [
    "## Is there a path between connected vertices?\n",
    "\n",
    "* Let's develop a simple path finding algorithm based on BFS \n",
    "\n",
    "* We need a 'visited' dictionary to keep a track on nodes that we've 'seen'\n",
    "\n"
   ]
  },
  {
   "cell_type": "code",
   "execution_count": 16,
   "metadata": {},
   "outputs": [],
   "source": [
    "class Vertex:\n",
    "  def __init__(self, value):\n",
    "    self.value = value\n",
    "    self.edges = {}\n",
    "\n",
    "  # define .add_edge() here\n",
    "  def add_edge(self, vertex, weight = 0):\n",
    "    print(\"Adding edge to \" + vertex)\n",
    "    self.edges[vertex] = True\n",
    "\n",
    "  def get_edges(self):\n",
    "    return list(self.edges.keys())"
   ]
  },
  {
   "cell_type": "code",
   "execution_count": 18,
   "metadata": {},
   "outputs": [],
   "source": [
    "class Graph:\n",
    "  def __init__(self, directed = False):\n",
    "    self.graph_dict = {}\n",
    "    self.directed = directed\n",
    "\n",
    "  def add_vertex(self, vertex):\n",
    "    self.graph_dict[vertex.value] = vertex\n",
    "\n",
    "  def add_edge(self, from_vertex, to_vertex, weight = 0):\n",
    "    self.graph_dict[from_vertex.value].add_edge(to_vertex.value, weight)\n",
    "    if not self.directed:\n",
    "      self.graph_dict[to_vertex.value].add_edge(from_vertex.value, weight)\n",
    "\n",
    "  def find_path(self, start_vertex, end_vertex):\n",
    "    start = [start_vertex]\n",
    "    seen = {} # Use a dictionary to track which vertices we've already visited\n",
    "    \n",
    "    while len(start) > 0:\n",
    "      current_vertex = start.pop(0)\n",
    "      seen[current_vertex] = True       # Update the `seen` variable now that we've visited current_vertex\n",
    "      \n",
    "      if current_vertex == end_vertex:\n",
    "        return True\n",
    "      else:\n",
    "        # Get neighbors of the current vertex\n",
    "        vertex = self.graph_dict[current_vertex]\n",
    "        next_vertices = vertex.get_edges()\n",
    "            \n",
    "        # Filter next_vertices so it only includes vertices NOT IN seen\n",
    "        next_vertices = [vertex for vertex in next_vertices if vertex not in seen]\n",
    "            \n",
    "        # Mark new vertices as seen and add them to the queue\n",
    "        for next_vertex in next_vertices:\n",
    "            seen[next_vertex] = True\n",
    "            start.append(next_vertex)\n",
    "        \n",
    "    return False"
   ]
  },
  {
   "cell_type": "code",
   "execution_count": 20,
   "metadata": {},
   "outputs": [
    {
     "name": "stdout",
     "output_type": "stream",
     "text": [
      "Adding edge to harwick\n",
      "Adding edge to peel\n",
      "Adding edge to callan\n",
      "Adding edge to harwick\n",
      "Adding edge to peel\n",
      "Adding edge to callan\n",
      "A path exists between peel and ulfstead:\n",
      "False\n",
      "A path exists between harwick and peel:\n",
      "True\n"
     ]
    }
   ],
   "source": [
    "railway = Graph()\n",
    "\n",
    "callan = Vertex('callan')\n",
    "peel = Vertex('peel')\n",
    "ulfstead = Vertex('ulfstead')\n",
    "harwick = Vertex('harwick')\n",
    "\n",
    "railway.add_vertex(callan)\n",
    "railway.add_vertex(peel)\n",
    "railway.add_vertex(harwick)\n",
    "railway.add_vertex(ulfstead)\n",
    "\n",
    "railway.add_edge(peel, harwick)\n",
    "railway.add_edge(harwick, callan)\n",
    "railway.add_edge(callan, peel)\n",
    "\n",
    "# Uncomment the code below when you're done refactoring!\n",
    "peel_to_ulfstead_path_exists = railway.find_path('peel', 'ulfstead')\n",
    "harwick_to_peel_path_exists = railway.find_path('harwick', 'peel')\n",
    "\n",
    "print(\"A path exists between peel and ulfstead:\")\n",
    "print(peel_to_ulfstead_path_exists)\n",
    "print(\"A path exists between harwick and peel:\")\n",
    "print(harwick_to_peel_path_exists)\n",
    "\n"
   ]
  },
  {
   "cell_type": "markdown",
   "metadata": {},
   "source": [
    "## Randomised edge connections"
   ]
  },
  {
   "cell_type": "code",
   "execution_count": 21,
   "metadata": {},
   "outputs": [],
   "source": [
    "from random import randrange"
   ]
  },
  {
   "cell_type": "code",
   "execution_count": 22,
   "metadata": {},
   "outputs": [],
   "source": [
    "class Vertex:\n",
    "  def __init__(self, value):\n",
    "    self.value = value\n",
    "    self.edges = {}\n",
    "\n",
    "  def add_edge(self, vertex, weight = 0):\n",
    "    self.edges[vertex] = weight\n",
    "\n",
    "  def get_edges(self):\n",
    "    return list(self.edges.keys())"
   ]
  },
  {
   "cell_type": "code",
   "execution_count": 23,
   "metadata": {},
   "outputs": [],
   "source": [
    "class Graph:\n",
    "  def __init__(self, directed = False):\n",
    "    self.graph_dict = {}\n",
    "    self.directed = directed\n",
    "\n",
    "  def add_vertex(self, vertex):\n",
    "    self.graph_dict[vertex.value] = vertex\n",
    "\n",
    "  def add_edge(self, from_vertex, to_vertex, weight = 0):\n",
    "    self.graph_dict[from_vertex.value].add_edge(to_vertex.value, weight)\n",
    "    if not self.directed:\n",
    "      self.graph_dict[to_vertex.value].add_edge(from_vertex.value, weight)\n",
    "\n",
    "  def find_path(self, start_vertex, end_vertex):\n",
    "    start = [start_vertex]\n",
    "    seen = {}\n",
    "    while len(start) > 0:\n",
    "      current_vertex = start.pop(0)\n",
    "      seen[current_vertex] = True\n",
    "      print(\"Visiting \" + current_vertex)\n",
    "      if current_vertex == end_vertex:\n",
    "        return True\n",
    "      else:\n",
    "        vertices_to_visit = set(self.graph_dict[current_vertex].edges.keys())\n",
    "        start += [vertex for vertex in vertices_to_visit if vertex not in seen]\n",
    "    return False"
   ]
  },
  {
   "cell_type": "code",
   "execution_count": 24,
   "metadata": {},
   "outputs": [],
   "source": [
    "def print_graph(graph):\n",
    "  for vertex in graph.graph_dict:\n",
    "    print(\"\")\n",
    "    print(vertex + \" connected to\")\n",
    "    vertex_neighbors = graph.graph_dict[vertex].edges\n",
    "    if len(vertex_neighbors) == 0:\n",
    "      print(\"No edges!\")\n",
    "    for adjacent_vertex in vertex_neighbors:\n",
    "      print(\"=> \" + adjacent_vertex)\n",
    "\n",
    "\n",
    "def build_graph(directed):\n",
    "  g = Graph(directed)\n",
    "  vertices = []\n",
    "  for val in ['a', 'b', 'c', 'd', 'e', 'f', 'g']:\n",
    "    vertex = Vertex(val)\n",
    "    vertices.append(vertex)\n",
    "    g.add_vertex(vertex)\n",
    "\n",
    "  for v in range(len(vertices)):\n",
    "    v_idx = randrange(0, len(vertices) - 1)\n",
    "    v1 = vertices[v_idx]\n",
    "    v_idx = randrange(0, len(vertices) - 1)\n",
    "    v2 = vertices[v_idx]\n",
    "    g.add_edge(v1, v2, randrange(1, 10))\n",
    "\n",
    "  print_graph(g)\n",
    "\n"
   ]
  },
  {
   "cell_type": "code",
   "execution_count": 36,
   "metadata": {},
   "outputs": [
    {
     "name": "stdout",
     "output_type": "stream",
     "text": [
      "\n",
      "a connected to\n",
      "=> d\n",
      "=> b\n",
      "=> f\n",
      "\n",
      "b connected to\n",
      "=> f\n",
      "=> a\n",
      "\n",
      "c connected to\n",
      "=> c\n",
      "\n",
      "d connected to\n",
      "=> e\n",
      "=> a\n",
      "\n",
      "e connected to\n",
      "=> d\n",
      "\n",
      "f connected to\n",
      "=> b\n",
      "=> a\n",
      "\n",
      "g connected to\n",
      "No edges!\n"
     ]
    }
   ],
   "source": [
    "build_graph(False)"
   ]
  },
  {
   "cell_type": "markdown",
   "metadata": {},
   "source": [
    "## DFS and BFS for Graphs\n",
    "\n",
    "* We previously applied BFS and DFS to trees. \n",
    "\n",
    "* We can now apply the same concepts to a graph. \n",
    "\n",
    "* We just have to change the implementation slightly. "
   ]
  },
  {
   "cell_type": "markdown",
   "metadata": {},
   "source": [
    "# Comparison of DFS and BFS \n",
    "\n",
    "![BFS_DFS_Graphs](https://miro.medium.com/max/1280/1*GT9oSo0agIeIj6nTg3jFEA.gif)\n",
    "\n",
    "\n",
    "<img src=\"https://media.licdn.com/dms/image/v2/D4D22AQFSEeBSTf2OIg/feedshare-shrink_800/feedshare-shrink_800/0/1725182967708?e=2147483647&v=beta&t=xfgTmAgolcW0zDoXyy4nm_ciWJ2mbFU756GA8lQp_7g\" alt=\"DFS_paths\" width=\"650\">  "
   ]
  },
  {
   "cell_type": "markdown",
   "metadata": {},
   "source": [
    "# Depth-First Search\n",
    "\n",
    "- Remember that DFS uses a STACK\n",
    "\n",
    "<img src=\"Depth-First-Tree-Traversal.gif\" alt=\"DFS_paths\" width=\"850\">  "
   ]
  },
  {
   "cell_type": "code",
   "execution_count": 37,
   "metadata": {},
   "outputs": [],
   "source": [
    "def dfs(graph, current_vertex, target_value, visited=None):\n",
    "  if visited is None:\n",
    "    visited = []\n",
    "\t\n",
    "  visited.append(current_vertex)\n",
    "  \n",
    "  if current_vertex == target_value:\n",
    "    return visited\n",
    "\t\n",
    "  # Add your recursive case here:\n",
    "  for neighbor in graph[current_vertex]:\n",
    "    if neighbor not in visited:\n",
    "      path = dfs(graph, neighbor, target_value, visited)\n",
    "      \n",
    "      if path:\n",
    "        return path\n",
    "      \n"
   ]
  },
  {
   "cell_type": "code",
   "execution_count": 38,
   "metadata": {},
   "outputs": [
    {
     "name": "stdout",
     "output_type": "stream",
     "text": [
      "['crocodiles', 'piranhas', 'lava', 'sharks', 'lasers', 'bees']\n"
     ]
    }
   ],
   "source": [
    "the_most_dangerous_graph = {\n",
    "    'lava': set(['sharks', 'piranhas']),\n",
    "    'sharks': set(['lava', 'bees', 'lasers']),\n",
    "    'piranhas': set(['lava', 'crocodiles']),\n",
    "    'bees': set(['sharks']),\n",
    "    'lasers': set(['sharks', 'crocodiles']),\n",
    "    'crocodiles': set(['piranhas', 'lasers'])\n",
    "  }\n",
    "\n",
    "# Call dfs() below and print the result:\n",
    "print(dfs(the_most_dangerous_graph, \"crocodiles\", \"bees\"))"
   ]
  },
  {
   "cell_type": "markdown",
   "metadata": {},
   "source": [
    "# Breadth-First Search\n",
    "\n",
    "- Remember that BFS uses a QUEUE\n",
    "\n",
    "![BFS_queue](https://media.licdn.com/dms/image/v2/D4D22AQFgNpn7Aay0cg/feedshare-shrink_800/feedshare-shrink_800/0/1725276037528?e=2147483647&v=beta&t=ULRNlMKBzsMPvelk8TmOXtlqtKynMT7K4X_YoxE7eOE)"
   ]
  },
  {
   "cell_type": "code",
   "execution_count": 39,
   "metadata": {},
   "outputs": [],
   "source": [
    "def bfs(graph, start_vertex, target_value):\n",
    "  path = [start_vertex]\n",
    "  vertex_and_path = [start_vertex, path]\n",
    "  bfs_queue = [vertex_and_path]\n",
    "  visited = set()\n",
    "  \n",
    "  while bfs_queue:\n",
    "    current_vertex, path = bfs_queue.pop(0)\n",
    "    visited.add(current_vertex)\n",
    "    \n",
    "    for neighbor in graph[current_vertex]:\n",
    "      # Finish the function here:\n",
    "      if neighbor not in visited:\n",
    "        if neighbor is target_value:\n",
    "          return path + [neighbor]\n",
    "        else:\n",
    "          bfs_queue.append([neighbor, path + [neighbor]])\n",
    "      \n"
   ]
  },
  {
   "cell_type": "code",
   "execution_count": 40,
   "metadata": {},
   "outputs": [
    {
     "name": "stdout",
     "output_type": "stream",
     "text": [
      "['crocodiles', 'lasers', 'sharks', 'bees']\n"
     ]
    }
   ],
   "source": [
    "the_most_dangerous_graph = {\n",
    "    'lava': set(['sharks', 'piranhas']),\n",
    "    'sharks': set(['lava', 'bees', 'lasers']),\n",
    "    'piranhas': set(['lava', 'crocodiles']),\n",
    "    'bees': set(['sharks']),\n",
    "    'lasers': set(['sharks', 'crocodiles']),\n",
    "    'crocodiles': set(['piranhas', 'lasers'])\n",
    "  }\n",
    "\n",
    "# Call bfs() below and print the result:\n",
    "print(bfs(the_most_dangerous_graph, \"crocodiles\", \"bees\"))"
   ]
  },
  {
   "cell_type": "markdown",
   "metadata": {},
   "source": [
    "## Comparison of BFS and DFS on Graphs"
   ]
  },
  {
   "cell_type": "code",
   "execution_count": 41,
   "metadata": {},
   "outputs": [],
   "source": [
    "def dfs(graph, current_vertex, target_value, visited = None):\n",
    "  if visited is None:\n",
    "    visited = []\n",
    "  visited.append(current_vertex)\n",
    "  if current_vertex is target_value:\n",
    "    return visited\n",
    "  \n",
    "  for neighbor in graph[current_vertex]:\n",
    "    if neighbor not in visited:\n",
    "      path = dfs(graph, neighbor, target_value, visited)\n",
    "      if path:\n",
    "        return path\n",
    "      "
   ]
  },
  {
   "cell_type": "code",
   "execution_count": 42,
   "metadata": {},
   "outputs": [],
   "source": [
    "def bfs(graph, start_vertex, target_value):\n",
    "  path = [start_vertex]\n",
    "  vertex_and_path = [start_vertex, path]\n",
    "  bfs_queue = [vertex_and_path]\n",
    "  visited = set()\n",
    "  while bfs_queue:\n",
    "    current_vertex, path = bfs_queue.pop(0)\n",
    "    visited.add(current_vertex)\n",
    "    for neighbor in graph[current_vertex]:\n",
    "      if neighbor not in visited:\n",
    "        if neighbor is target_value:\n",
    "          return path + [neighbor]\n",
    "        else:\n",
    "          bfs_queue.append([neighbor, path + [neighbor]])"
   ]
  },
  {
   "cell_type": "code",
   "execution_count": 44,
   "metadata": {},
   "outputs": [
    {
     "name": "stdout",
     "output_type": "stream",
     "text": [
      "['sharks', 'bees']\n",
      "['sharks', 'piranhas', 'bees']\n"
     ]
    }
   ],
   "source": [
    "\n",
    "some_hazardous_graph = {\n",
    "    'lava': set(['sharks', 'piranhas']),\n",
    "    'sharks': set(['piranhas', 'bees']),\n",
    "    'piranhas': set(['bees']),\n",
    "    'bees': set(['lasers']),\n",
    "    'lasers': set([])\n",
    "  }\n",
    "\n",
    "print(bfs(some_hazardous_graph, 'sharks', 'bees'))\n",
    "print(dfs(some_hazardous_graph, 'sharks', 'bees'))"
   ]
  },
  {
   "cell_type": "markdown",
   "metadata": {},
   "source": [
    "## Minimum Spanning Trees (MSTs)\n",
    "\n",
    "* Shortest distances to traverse all nodes in a graph.\n",
    "\n",
    "* Like BFS and DFS in that MSTs cover all nodes, but factors in weights (which DFS/BFS do not).\n",
    "\n",
    "* The result is a tree containing the efficient routes to cover all nodes in a network/graph.\n",
    "\n",
    "* This is helpful for network design problems like laying cables or designing efficient transportation routes (think Amazon couriers who need to deliver their parcels each day).\n",
    "\n",
    "\n",
    "<img src=\"https://media.geeksforgeeks.org/wp-content/uploads/20200316173940/Untitled-Diagram66-3.jpg\" alt=\"MST\" width=\"850\">  "
   ]
  },
  {
   "cell_type": "markdown",
   "metadata": {},
   "source": [
    "## Kruskal's Algorithm \n",
    "\n",
    "Kruskal's algorithm can be used to find a minimum spanning tree. This can tell you the shortest or cheapest way of linking all the nodes in a network. \n",
    "\n",
    "It considers the edge of a graph. \n",
    "\n",
    "1. Sort all the arcs (edges) into ascending order of weight. \n",
    "\n",
    "2. Select the arc (edge) of least weight to start the tree.\n",
    "\n",
    "3. Consider the next arc of least weight. \n",
    "   * If it would not form a cycle with the arcs already selected, reject it.\n",
    "   * If it does not form a cycle, add it to the tree.   \n",
    "\n",
    "   If there is a choice of equal arcs (edges), consider each in turn. \n",
    "\n",
    "4. Repeat step 3 until all vertcies are connected. \n",
    "\n",
    "* Kruskals better for sparse graphs\n",
    "\n",
    "![Kruskals_MST](https://upload.wikimedia.org/wikipedia/commons/b/bb/KruskalDemo.gif)"
   ]
  },
  {
   "cell_type": "code",
   "execution_count": 46,
   "metadata": {},
   "outputs": [],
   "source": [
    "class Graph:\n",
    "    def __init__(self, vertices):\n",
    "        self.vertices = vertices  # Number of vertices\n",
    "        self.edges = []  # List to store all edges (u, v, weight)\n",
    "    \n",
    "    def add_edge(self, u, v, weight):\n",
    "        self.edges.append((u, v, weight))\n",
    "    \n",
    "    def find(self, parent, vertex):\n",
    "        # Find the root parent of the vertex\n",
    "        if parent[vertex] != vertex:\n",
    "            parent[vertex] = self.find(parent, parent[vertex])  # Path compression\n",
    "        return parent[vertex]\n",
    "    \n",
    "    def union(self, parent, rank, u, v):\n",
    "        # Union by rank to keep the tree flat\n",
    "        root_u = self.find(parent, u)\n",
    "        root_v = self.find(parent, v)\n",
    "        if rank[root_u] < rank[root_v]:\n",
    "            parent[root_u] = root_v\n",
    "        elif rank[root_u] > rank[root_v]:\n",
    "            parent[root_v] = root_u\n",
    "        else:\n",
    "            parent[root_v] = root_u\n",
    "            rank[root_u] += 1\n",
    "    \n",
    "    def kruskal_mst(self):\n",
    "        # Sort edges by weight\n",
    "        self.edges.sort(key=lambda x: x[2])  \n",
    "        parent = {}\n",
    "        rank = {}\n",
    "        mst = []\n",
    "        \n",
    "        # Initialize parent and rank for each vertex\n",
    "        for vertex in range(self.vertices):\n",
    "            parent[vertex] = vertex\n",
    "            rank[vertex] = 0\n",
    "        \n",
    "        # Process edges\n",
    "        for u, v, weight in self.edges:\n",
    "            root_u = self.find(parent, u)\n",
    "            root_v = self.find(parent, v)\n",
    "            # If including this edge doesn't cause a cycle\n",
    "            if root_u != root_v:\n",
    "                mst.append((u, v, weight))\n",
    "                self.union(parent, rank, root_u, root_v)\n",
    "        \n",
    "        return mst"
   ]
  },
  {
   "cell_type": "code",
   "execution_count": 47,
   "metadata": {},
   "outputs": [],
   "source": [
    "g = Graph(3)  # Graph with 3 vertices (0 to 2)\n",
    "g.add_edge(0, 1, 2)\n",
    "g.add_edge(1, 0, 2)\n",
    "\n",
    "g.add_edge(1, 2, 3)\n",
    "g.add_edge(2, 1, 3)\n",
    "\n",
    "g.add_edge(2, 0, 10)"
   ]
  },
  {
   "cell_type": "markdown",
   "metadata": {},
   "source": [
    "```\n",
    "        0 \n",
    "         \\\n",
    "          \\\n",
    "           1\n",
    "          /  \n",
    "         /\n",
    "        2 \n",
    "\n",
    "```"
   ]
  },
  {
   "cell_type": "code",
   "execution_count": 49,
   "metadata": {},
   "outputs": [
    {
     "name": "stdout",
     "output_type": "stream",
     "text": [
      "Edges in MST:\n",
      "0 -- 1 == 2\n",
      "1 -- 2 == 3\n"
     ]
    }
   ],
   "source": [
    "mst = g.kruskal_mst()\n",
    "print(\"Edges in MST:\")\n",
    "for u, v, weight in mst:\n",
    "    print(f\"{u} -- {v} == {weight}\")"
   ]
  },
  {
   "cell_type": "code",
   "execution_count": 50,
   "metadata": {},
   "outputs": [],
   "source": [
    "g = Graph(6)  # Graph with 6 vertices (0 to 5)\n",
    "g.add_edge(0, 1, 4)\n",
    "g.add_edge(0, 2, 4)\n",
    "g.add_edge(1, 2, 2)\n",
    "g.add_edge(1, 3, 6)\n",
    "g.add_edge(2, 3, 8)\n",
    "g.add_edge(3, 4, 9)\n",
    "g.add_edge(4, 5, 10)\n",
    "g.add_edge(3, 5, 7)"
   ]
  },
  {
   "cell_type": "markdown",
   "metadata": {},
   "source": [
    "```\n",
    "     4       2\n",
    "  0-----1--------2\n",
    "   \\          /   \\\n",
    "    4      6      8\n",
    "     \\    /        \\\n",
    "      \\ 3--------5--10\n",
    "       \\    7      /\n",
    "        ---------4\n",
    "\n",
    "```"
   ]
  },
  {
   "cell_type": "code",
   "execution_count": 51,
   "metadata": {},
   "outputs": [
    {
     "name": "stdout",
     "output_type": "stream",
     "text": [
      "Edges in MST:\n",
      "1 -- 2 == 2\n",
      "0 -- 1 == 4\n",
      "1 -- 3 == 6\n",
      "3 -- 5 == 7\n",
      "3 -- 4 == 9\n"
     ]
    }
   ],
   "source": [
    "mst = g.kruskal_mst()\n",
    "print(\"Edges in MST:\")\n",
    "for u, v, weight in mst:\n",
    "    print(f\"{u} -- {v} == {weight}\")"
   ]
  },
  {
   "cell_type": "markdown",
   "metadata": {},
   "source": [
    "## Key points of Kruskal's algorithm for producing MSTs\n",
    "\n",
    "* Union-Find helps keep track of connected components and uses path compression and union by rank for efficiency.\n",
    "\n",
    "* Greedy Approach: always chooses the smallest weight edge first.\n",
    "\n",
    "* Time Complexity:\n",
    "    * Sorting edges: $O(E \\log E)$, where E is the number of edges.\n",
    "    * Union-Find operations: $O(E \\cdot \\alpha(V))$, where \\alpha is the inverse Ackermann function, very close to constant."
   ]
  },
  {
   "cell_type": "markdown",
   "metadata": {},
   "source": [
    "## Prim's Algorithm\n",
    "\n",
    "* Prim's algorithm can be used to find a minimum spanning tree (MST). \n",
    "\n",
    "* Kruskal's algorithn which sorts all edges and processes them globally. \n",
    "\n",
    "* But Prim's algorithm uses a priority queue-based local exploration. \n",
    "\n",
    "* Kruskal's algorithm better for sparse graphs\n",
    "\n",
    "* Prim's algorithm better for dense graphs\n",
    "\n",
    "* Prim’s algorithm grows the Minimum Spanning Tree (MST) starting from an arbitrary node and adding the smallest edge that connects the MST to a new node.\n",
    "\n",
    "It considers vertices of a graph.\n",
    "\n",
    "1. Choose any vertex to start the tree\n",
    "\n",
    "2. * Select an arc of least weight that joins a vertex already in the tree to a vertex not yet in the tree. \n",
    "   * if there is a choice of arcs of equal weight, choose any of them.\n",
    "\n",
    "3. Repeat step 2 until all the vertices are connected. \n",
    "\n",
    "\n",
    "\n",
    "\n",
    "![Prims_MST](https://upload.wikimedia.org/wikipedia/commons/9/9b/PrimAlgDemo.gif)\n"
   ]
  },
  {
   "cell_type": "code",
   "execution_count": 53,
   "metadata": {},
   "outputs": [],
   "source": [
    "import heapq\n",
    "\n",
    "class Graph:\n",
    "    def __init__(self, vertices):\n",
    "        self.vertices = vertices\n",
    "        self.adj_list = {i: [] for i in range(vertices)}  # Adjacency list\n",
    "    \n",
    "    def add_edge(self, u, v, weight):\n",
    "        self.adj_list[u].append((weight, v))\n",
    "        self.adj_list[v].append((weight, u))  # Undirected graph\n",
    "    \n",
    "    def prim_mst(self):\n",
    "        mst = []  # To store the edges in the MST\n",
    "        visited = set()\n",
    "        min_heap = []\n",
    "        \n",
    "        # Start from vertex 0 (arbitrary choice)\n",
    "        start_vertex = 0\n",
    "        visited.add(start_vertex)\n",
    "        for weight, neighbor in self.adj_list[start_vertex]:\n",
    "            heapq.heappush(min_heap, (weight, start_vertex, neighbor))\n",
    "        \n",
    "        while min_heap and len(visited) < self.vertices:\n",
    "            weight, u, v = heapq.heappop(min_heap)\n",
    "            \n",
    "            if v not in visited:\n",
    "                visited.add(v)\n",
    "                mst.append((u, v, weight))\n",
    "                \n",
    "                for next_weight, neighbor in self.adj_list[v]:\n",
    "                    if neighbor not in visited:\n",
    "                        heapq.heappush(min_heap, (next_weight, v, neighbor))\n",
    "        \n",
    "        return mst\n",
    "\n"
   ]
  },
  {
   "cell_type": "code",
   "execution_count": 54,
   "metadata": {},
   "outputs": [],
   "source": [
    "g = Graph(6)  # Graph with 6 vertices (0 to 5)\n",
    "g.add_edge(0, 1, 4)\n",
    "g.add_edge(0, 2, 4)\n",
    "g.add_edge(1, 2, 2)\n",
    "g.add_edge(1, 3, 6)\n",
    "g.add_edge(2, 3, 8)\n",
    "g.add_edge(3, 4, 9)\n",
    "g.add_edge(4, 5, 10)\n",
    "g.add_edge(3, 5, 7)"
   ]
  },
  {
   "cell_type": "markdown",
   "metadata": {},
   "source": [
    "```\n",
    "     4       2\n",
    "  0-----1--------2\n",
    "   \\          /   \\\n",
    "    4      6      8\n",
    "     \\    /        \\\n",
    "      \\ 3--------5--10\n",
    "       \\    7      /\n",
    "        ---------4\n",
    "\n",
    "```"
   ]
  },
  {
   "cell_type": "code",
   "execution_count": 55,
   "metadata": {},
   "outputs": [
    {
     "name": "stdout",
     "output_type": "stream",
     "text": [
      "Edges in MST:\n",
      "0 -- 1 == 4\n",
      "1 -- 2 == 2\n",
      "1 -- 3 == 6\n",
      "3 -- 5 == 7\n",
      "3 -- 4 == 9\n"
     ]
    }
   ],
   "source": [
    "mst = g.prim_mst()\n",
    "print(\"Edges in MST:\")\n",
    "for u, v, weight in mst:\n",
    "    print(f\"{u} -- {v} == {weight}\")"
   ]
  },
  {
   "cell_type": "markdown",
   "metadata": {},
   "source": [
    "## Topological Sort \n",
    "\n",
    "* Topological Sort orders vertices so that each node/vertex appears only after all the nodes pointing to it have appeared. \n",
    "\n",
    "* Topological Sort does not consider edge weights - just connections.\n",
    "\n",
    "* Topological Sort is simply a modification of DFS. Topological sort simply involves running DFS on an entire graph and adding each node to the global ordering of nodes, but only after all of a node's children are visited. \n",
    "\n",
    "* This ensures that parent nodes will be ordered before their child nodes, and honors the forward direction of edges in the ordering.\n",
    "\n",
    "Example: For a graph with 4 nodes and these relations: \n",
    "```\n",
    "a->b\n",
    "a->c \n",
    "b->d \n",
    "c->d \n",
    "```\n",
    "There are two acceptable topological sorts: \n",
    "`a, b, c, d` \n",
    "and `a, c, b, d`\n",
    "\n",
    "<img src=\"https://i.imgur.com/Q3MA6dZ.png\" alt=\"MST\" width=\"850\">  "
   ]
  },
  {
   "cell_type": "code",
   "execution_count": 56,
   "metadata": {},
   "outputs": [],
   "source": [
    "from collections import defaultdict, deque\n",
    "\n",
    "def top_sort(graph):\n",
    "    sorted_nodes, visited = deque(), set()\n",
    "    for node in graph.keys():\n",
    "        if node not in visited:\n",
    "           dfs(graph, node, visited, sorted_nodes)\n",
    "    return list(sorted_nodes)\n",
    " \n",
    "def dfs(graph, start_node, visited, sorted_nodes):\n",
    "    visited.add(start_node)\n",
    "    if start_node in graph:\n",
    "        neighbors = graph[start_node]\n",
    "        for neighbor in neighbors:\n",
    "            if neighbor not in visited:\n",
    "                dfs(graph, neighbor, visited, sorted_nodes)\n",
    "    sorted_nodes.appendleft(start_node)"
   ]
  },
  {
   "cell_type": "code",
   "execution_count": 57,
   "metadata": {},
   "outputs": [
    {
     "data": {
      "text/plain": [
       "['A', 'B', 'C', 'D', 'E']"
      ]
     },
     "execution_count": 57,
     "metadata": {},
     "output_type": "execute_result"
    }
   ],
   "source": [
    "graph = {\n",
    "    'A': ['B', 'C'],\n",
    "    'B': ['C', 'D'],\n",
    "    'C': ['D'],\n",
    "    'D': ['E'],\n",
    "    'E': []\n",
    "}\n",
    "\n",
    "top_sort(graph)"
   ]
  },
  {
   "cell_type": "markdown",
   "metadata": {},
   "source": [
    "Topological Sort in a `Graph` class:"
   ]
  },
  {
   "cell_type": "code",
   "execution_count": 59,
   "metadata": {},
   "outputs": [],
   "source": [
    "from collections import defaultdict, deque\n",
    "\n",
    "class Graph:\n",
    "    def __init__(self, vertices):\n",
    "        self.vertices = vertices\n",
    "        self.graph = defaultdict(list)  # Adjacency list representation\n",
    "    \n",
    "    def add_edge(self, u, v):\n",
    "        self.graph[u].append(v)\n",
    "    \n",
    "    def topological_sort(self):\n",
    "        # Step 1: Compute in-degree (number of incoming edges) for each vertex\n",
    "        in_degree = {i: 0 for i in range(self.vertices)}\n",
    "        for u in self.graph:\n",
    "            for v in self.graph[u]:\n",
    "                in_degree[v] += 1\n",
    "        \n",
    "        # Step 2: Collect all vertices with in-degree 0\n",
    "        queue = deque([u for u in in_degree if in_degree[u] == 0])\n",
    "        topo_order = []\n",
    "        \n",
    "        # Step 3: Process vertices in the queue\n",
    "        while queue:\n",
    "            current = queue.popleft()\n",
    "            topo_order.append(current)\n",
    "            \n",
    "            # Decrease the in-degree of neighbors\n",
    "            for neighbor in self.graph[current]:\n",
    "                in_degree[neighbor] -= 1\n",
    "                # If in-degree becomes 0, add it to the queue\n",
    "                if in_degree[neighbor] == 0:\n",
    "                    queue.append(neighbor)\n",
    "        \n",
    "        # Check for cycles (if the topo_order doesn't include all vertices)\n",
    "        if len(topo_order) != self.vertices:\n",
    "            print(\"Graph has a cycle. Topological sort not possible.\")\n",
    "            return []\n",
    "        \n",
    "        return topo_order\n"
   ]
  },
  {
   "cell_type": "code",
   "execution_count": 60,
   "metadata": {},
   "outputs": [
    {
     "name": "stdout",
     "output_type": "stream",
     "text": [
      "Topological Sort Order: [0, 1, 2, 3]\n"
     ]
    }
   ],
   "source": [
    "g = Graph(4)\n",
    "g.add_edge(0, 1)\n",
    "g.add_edge(0, 2)\n",
    "g.add_edge(1, 3)\n",
    "g.add_edge(2, 3)\n",
    "\n",
    "topo_order = g.topological_sort()\n",
    "print(\"Topological Sort Order:\", topo_order)"
   ]
  },
  {
   "cell_type": "markdown",
   "metadata": {},
   "source": [
    "## Applications of Graphs\n",
    "\n",
    "* Artificial Neural Networks are built on graph theory. \n",
    "\n",
    "* Nodes are arranged in layers - an input layer (data), then hidden layers, and then output layer (the results/predictions)\n",
    "\n",
    "![Neural_nets](https://miro.medium.com/v2/resize:fit:1400/0*_SH7tsNDTkGXWtZb.png)\n",
    "\n"
   ]
  },
  {
   "cell_type": "markdown",
   "metadata": {},
   "source": [
    "### Shortest Paths between nodes in a network (or minimum spanning)\n",
    "\n",
    "![shortest_path](https://tomrocksmaths.files.wordpress.com/2023/08/screenshot-2023-08-04-at-11.47.05.png?w=1024)"
   ]
  },
  {
   "cell_type": "markdown",
   "metadata": {},
   "source": [
    "## Visualisation of graphs - install `networkx`\n",
    "\n",
    "`pip install networkx matplotlib`  \n",
    "  `python3 -m pip install -U networkx matplotlib --user`"
   ]
  },
  {
   "cell_type": "code",
   "execution_count": 61,
   "metadata": {},
   "outputs": [
    {
     "data": {
      "image/png": "[encoded data removed]",
      "text/plain": [
       "<Figure size 640x480 with 1 Axes>"
      ]
     },
     "metadata": {},
     "output_type": "display_data"
    }
   ],
   "source": [
    "import matplotlib.pyplot as plt\n",
    "import networkx as nx\n",
    "\n",
    "# Create a graph\n",
    "G = nx.Graph()\n",
    "\n",
    "# Add weighted edges\n",
    "G.add_edge('A', 'B', weight=4)\n",
    "G.add_edge('A', 'C', weight=3)\n",
    "G.add_edge('B', 'C', weight=2)\n",
    "G.add_edge('B', 'E', weight=2)\n",
    "G.add_edge('C', 'D', weight=5)\n",
    "G.add_edge('C', 'E', weight=4)\n",
    "G.add_edge('D', 'E', weight=3)\n",
    "\n",
    "# Get positions for the nodes\n",
    "pos = nx.spring_layout(G)\n",
    "\n",
    "# Draw nodes and edges\n",
    "nx.draw(G, pos, with_labels=True, node_color='lightblue', node_size=2000, font_size=10, font_weight='bold')\n",
    "\n",
    "# Draw edge labels for weights\n",
    "edge_labels = nx.get_edge_attributes(G, 'weight')\n",
    "nx.draw_networkx_edge_labels(G, pos, edge_labels=edge_labels)\n",
    "\n",
    "plt.show()"
   ]
  },
  {
   "cell_type": "markdown",
   "metadata": {},
   "source": [
    "## Summary \n",
    "\n",
    "* Graphs record the weights (edges) between nodes (vertices).\n",
    "\n",
    "* Trees are more concerned with the ordering of nodes, whereas Graphs are more concerned with distances (weights) between nodes.\n",
    "\n",
    "* Graphs are commonly modelled as adjacency lists (referenced), or adjacency matrices (indexed). \n",
    "\n",
    "* Trees cannot contain cycles, whereas Graphs can. It is useful to detect cycles in a Graph before attempting path finding.\n",
    "\n",
    "* BFS and DFS can be applied to both Tree and Graph structures\n",
    "\n",
    "* These have mainstream application in navigation and optimal path finding (SatNavs) and ANNs (AI). "
   ]
  },
  {
   "cell_type": "markdown",
   "metadata": {},
   "source": [
    "## Exercise\n",
    "\n",
    "Let's start by recreating the graph visualised above using the adjacency matrix. \n",
    "\n",
    "Use either a 2D `numpy.array` or a 2D Python `list`."
   ]
  },
  {
   "cell_type": "code",
   "execution_count": null,
   "metadata": {},
   "outputs": [],
   "source": [
    "G.add_edge('A', 'B', weight=4)\n",
    "G.add_edge('A', 'C', weight=3)\n",
    "G.add_edge('B', 'C', weight=2)\n",
    "G.add_edge('B', 'E', weight=2)\n",
    "G.add_edge('C', 'D', weight=5)\n",
    "G.add_edge('C', 'E', weight=4)\n",
    "G.add_edge('D', 'E', weight=3)"
   ]
  },
  {
   "cell_type": "code",
   "execution_count": null,
   "metadata": {},
   "outputs": [],
   "source": [
    "# Write your 2D Adjacency Matrix here."
   ]
  },
  {
   "cell_type": "markdown",
   "metadata": {},
   "source": [
    "## Exericse\n",
    "\n",
    "Now create the same graph using a adjacency list. You can use any data structure you wish (apart from a `numpy.array` or a Python `list`). Just ensure that vertices contain links to connected vertices. \n",
    "\n",
    "Perhaps start with a Python `dict` and then model with your `LinkedList` class. \n",
    "\n",
    "Question: Do you foresee any performance differences between an Adjacency Matrix and an Adjacency List? "
   ]
  },
  {
   "cell_type": "code",
   "execution_count": null,
   "metadata": {},
   "outputs": [],
   "source": [
    "# Write your Adjacency List here."
   ]
  },
  {
   "cell_type": "markdown",
   "metadata": {},
   "source": [
    "## Exercise\n",
    "\n",
    "Design a function which takes any Graph $g$ and returns `True` if the graph is cyclical and `False` if the graph is not cyclical (aka. acyclical).\n",
    "\n",
    "Extension: Can you design function this to work for either an adjacency matrix or an adjacency list?"
   ]
  },
  {
   "cell_type": "code",
   "execution_count": null,
   "metadata": {},
   "outputs": [],
   "source": [
    "def is_cyclical():\n",
    "    ..."
   ]
  },
  {
   "cell_type": "code",
   "execution_count": null,
   "metadata": {},
   "outputs": [],
   "source": [
    "is_cyclical()"
   ]
  },
  {
   "cell_type": "markdown",
   "metadata": {},
   "source": [
    "## Exercise\n",
    "\n",
    "Start with the Breadth-First Search algorithm (using a Queue) that you wrote for trees in the previous notebook. Or perhaps take the opportunity to write a BFS algorithm if you haven't yet. Adapt this algorithm to traverse a graph, printing the nodes in level order (all the children of a parent/starting node). \n",
    "\n",
    "In the next session we will see how Dijkstra's algorithm adapts the BFS logic to take the weights (edges) into account for finding shortest paths.\n"
   ]
  },
  {
   "cell_type": "code",
   "execution_count": null,
   "metadata": {},
   "outputs": [],
   "source": [
    "# Write your solution here."
   ]
  },
  {
   "cell_type": "markdown",
   "metadata": {},
   "source": [
    "## Exercise\n",
    "\n",
    "Start with the Depth-First Search algorithm (using a Stack) that you wrote for trees in the previous notebook. Or perhaps take the opportunity to write a DFS algorithm if you haven't yet. Adapt this algorithm to traverse a graph, printing the nodes in order of depth - pursuing the lengths of connection. \n"
   ]
  },
  {
   "cell_type": "code",
   "execution_count": null,
   "metadata": {},
   "outputs": [],
   "source": [
    "# Write your solution here. "
   ]
  },
  {
   "cell_type": "markdown",
   "metadata": {},
   "source": [
    "## Extension DFS Exercise: \n",
    "\n",
    "Depth-First Search (DFS) can be applied to find the path to the end of the maze. Consider the Maze grid given below as a 2D `list`, and apply your DFS algorithm to return the correct path from S to E.  \n",
    "\n",
    "Hint: as this is a 2D `list` consider each space as a pair of coordinates. e.g. you start at position `(0, 1)`, and store the coordinates of each step to work out the path to E `(9, 5)`\n",
    "\n",
    "<img src=\"https://media.licdn.com/dms/image/v2/D4D22AQFSEeBSTf2OIg/feedshare-shrink_800/feedshare-shrink_800/0/1725182967708?e=2147483647&v=beta&t=xfgTmAgolcW0zDoXyy4nm_ciWJ2mbFU756GA8lQp_7g\" alt=\"DFS_paths\" width=\"450\">  "
   ]
  },
  {
   "cell_type": "code",
   "execution_count": null,
   "metadata": {},
   "outputs": [],
   "source": [
    "maze = [\n",
    "    ['#', 'S', '#', '#', '#', '#', '#'],\n",
    "    ['#', '.', '.', '.', '#', '.', '#'],\n",
    "    ['#', '.', '#', '#', '#', '.', '#'],\n",
    "    ['#', '.', '#', '.', '.', '.', '#'],\n",
    "    ['#', '.', '#', '.', '#', '#', '#'],\n",
    "    ['#', '.', '#', '.', '.', '.', '#'],\n",
    "    ['#', '.', '.', '.', '#', '.', '#'],\n",
    "    ['#', '.', '#', '#', '#', '.', '#'],\n",
    "    ['#', '.', '.', '.', '#', '.', '#'],\n",
    "    ['#', '#', '#', '#', '#', 'E', '#']\n",
    "]\n",
    "maze"
   ]
  },
  {
   "cell_type": "code",
   "execution_count": null,
   "metadata": {},
   "outputs": [],
   "source": [
    "maze[0][1]"
   ]
  },
  {
   "cell_type": "code",
   "execution_count": null,
   "metadata": {},
   "outputs": [],
   "source": [
    "maze[9][5]"
   ]
  },
  {
   "cell_type": "markdown",
   "metadata": {},
   "source": [
    "## Exercise\n",
    "\n",
    "Use Kruskal's algorithm to find a minimum spanning tree for the network below. List the arcs in the order that you consider them. State the weight of your tree.\n",
    "\n",
    "If in doubt, assume any edges in the graph below are bidirectional. For example if `A` to `B` is 7, then `B` to `A` is also 7.\n",
    "\n",
    "Extension: Visualise all possible minimum spanning trees with `networkx` / `matplotlib`\n",
    "\n",
    "![Kruskals_MST](https://upload.wikimedia.org/wikipedia/commons/b/bb/KruskalDemo.gif)"
   ]
  },
  {
   "cell_type": "code",
   "execution_count": 25,
   "metadata": {},
   "outputs": [],
   "source": [
    "# Reinstantiate graph\n",
    "G = nx.Graph()\n",
    "\n",
    "G.add_edge('A', 'B', weight=7)\n",
    "G.add_edge('A', 'D', weight=6)\n",
    "G.add_edge('A', 'E', weight=5)\n",
    "#G.add_edge('B', 'A', weight=7)\n",
    "G.add_edge('B', 'C', weight=5)\n",
    "G.add_edge('B', 'D', weight=6)\n",
    "#G.add_edge('C', 'B', weight=5)\n",
    "G.add_edge('C', 'D', weight=8)\n",
    "#G.add_edge('D', 'A', weight=6)\n",
    "#G.add_edge('D', 'B', weight=6)\n",
    "#G.add_edge('D', 'C', weight=8)\n",
    "G.add_edge('D', 'E', weight=4)\n",
    "#G.add_edge('E', 'A', weight=5)\n",
    "#G.add_edge('E', 'D', weight=4)\n"
   ]
  },
  {
   "cell_type": "code",
   "execution_count": 26,
   "metadata": {},
   "outputs": [
    {
     "data": {
      "image/png": "[encoded data removed]",
      "text/plain": [
       "<Figure size 640x480 with 1 Axes>"
      ]
     },
     "metadata": {},
     "output_type": "display_data"
    }
   ],
   "source": [
    "pos = nx.spring_layout(G)\n",
    "\n",
    "# Draw nodes and edges\n",
    "nx.draw(G, pos, with_labels=True, node_color='lightblue', node_size=2000, font_size=10, font_weight='bold')\n",
    "\n",
    "# Draw edge labels for weights\n",
    "edge_labels = nx.get_edge_attributes(G, 'weight')\n",
    "nx.draw_networkx_edge_labels(G, pos, edge_labels=edge_labels)\n",
    "\n",
    "plt.show()"
   ]
  },
  {
   "cell_type": "code",
   "execution_count": null,
   "metadata": {},
   "outputs": [],
   "source": [
    "# Implement Kruskal's algorithm to find the Minimum-Spanning Tree here. "
   ]
  },
  {
   "cell_type": "markdown",
   "metadata": {},
   "source": [
    "## Exercise - Prim's Algorithm\n",
    "\n",
    "Now apply Prim's Algorithm to find a minimum spanning tree for the same above network. \n",
    "\n",
    "Question: What is the difference between Kruskal's algorithm and Prim's algorithm?\n",
    "\n",
    "![Prims_MST](https://upload.wikimedia.org/wikipedia/commons/9/9b/PrimAlgDemo.gif)"
   ]
  },
  {
   "cell_type": "code",
   "execution_count": null,
   "metadata": {},
   "outputs": [],
   "source": [
    "# Implement Prim's algorithm to find the Minimum-Spanning Tree here. "
   ]
  },
  {
   "cell_type": "markdown",
   "metadata": {},
   "source": [
    "## Exericse - Topolgical Sort\n",
    "\n",
    "Topological Sort orders vertices so that each node/vertex appears only after all the nodes pointing to it have appeared.\n",
    "Write a `topological_sort()` function which will apply your DFS algorithm, in combination with a structure to print nodes of graph by these rules. \n",
    "\n",
    "Example: For a graph with 4 nodes and these relations: \n",
    "```\n",
    "a->b\n",
    "a->c \n",
    "b->d \n",
    "c->d \n",
    "```\n",
    "There are two acceptable topological sorts: \n",
    "`a, b, c, d` \n",
    "and `a, c, b, d`\n",
    "\n",
    "Note: Topological Sort is not feasible in graphs that have a cycle. Therefore, it is helpful to first detect whether a graph has a cycle. \n"
   ]
  },
  {
   "cell_type": "code",
   "execution_count": null,
   "metadata": {},
   "outputs": [],
   "source": [
    "def topological_sort():\n",
    "    ..."
   ]
  },
  {
   "cell_type": "code",
   "execution_count": null,
   "metadata": {},
   "outputs": [],
   "source": [
    "topological_sort()"
   ]
  },
  {
   "cell_type": "markdown",
   "metadata": {},
   "source": [
    "## Scenario Exercise - Knowledge Graphs \n",
    "\n",
    "Expert systems embed the symbolic approach to the development of AI and date back to the 1950s. These expert systems are still in use today, but the necessity to code by hand their knowledge propositions implies that they scale poorly.\n",
    "\n",
    "This, in turn, led to the development of automated solutions for the extraction of semantic relationships in unstructured texts. These extracted relationships are what today constitutes knowledge graphs in modern expert systems. \n",
    "\n",
    "![KG_](https://upload.wikimedia.org/wikipedia/commons/thumb/5/52/Conceptual_Diagram_-_Example.svg/1920px-Conceptual_Diagram_-_Example.svg.png)\n",
    "\n",
    "Let’s start with these two sentences:\n",
    "\n",
    "* Socrates is a human\n",
    "* A human is a mortal\n",
    "\n",
    "From which we can derive the following two 3-tuples of knowledge:\n",
    "\n",
    "* (Socrates, human, is)\n",
    "* (human, mortal, is)\n",
    "\n",
    "By noting how the object (second element) of the first tuple is also the subject (first element) of the second tuple, we can then establish the following concatenation:\n",
    "\n",
    "Socrates is human is mortal\n",
    "This, in turn, implies that the relationship (Socrates, mortal, is) must also be true. At the end of this logic reasoning we can expand our set of 3-tuples, which now contains three elements:\n",
    "\n",
    "* (Socrates, human, is)\n",
    "* (human, mortal, is)\n",
    "* (Socrates, mortal, is)\n",
    "\n",
    "The procedure we’ve followed allowed us to generate new knowledge, corresponding to an expansion in the set of knowledge propositions, exclusively by means of logical operations. Notice how this type of reasoning can be conducted without any understanding of what Socrates, humans, or mortality really are.\n",
    "\n",
    "https://www.baeldung.com/cs/ml-knowledge-graphs#:~:text=This%2C%20in%20turn%2C%20led%20to,graphs%20in%20modern%20expert%20systems. "
   ]
  },
  {
   "cell_type": "markdown",
   "metadata": {},
   "source": []
  },
  {
   "cell_type": "code",
   "execution_count": null,
   "metadata": {},
   "outputs": [],
   "source": [
    "# Write your solution here. "
   ]
  }
 ],
 "metadata": {
  "celltoolbar": "Slideshow",
  "kernelspec": {
   "display_name": "Python 3",
   "language": "python",
   "name": "python3"
  },
  "language_info": {
   "codemirror_mode": {
    "name": "ipython",
    "version": 3
   },
   "file_extension": ".py",
   "mimetype": "text/x-python",
   "name": "python",
   "nbconvert_exporter": "python",
   "pygments_lexer": "ipython3",
   "version": "3.9.6"
  }
 },
 "nbformat": 4,
 "nbformat_minor": 4
}
