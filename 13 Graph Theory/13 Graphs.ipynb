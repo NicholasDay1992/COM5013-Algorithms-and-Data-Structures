{
 "cells": [
  {
   "attachments": {
    "pythonLogo.png": {
     "image/png": "[encoded data removed]"
    }
   },
   "cell_type": "markdown",
   "metadata": {
    "slideshow": {
     "slide_type": "slide"
    }
   },
   "source": [
    "![pythonLogo.png](attachment:pythonLogo.png)\n",
    "# Graphs \n",
    "\n",
    "* The basis of a Graph class in Python is the implementation of two classes, Graph and Vertex, which establish the essential functionality to create a variety of graphs.\n",
    "\n",
    "* The Vertex class allows for storage of connecting vertices with a dictionary and adjustment of their edges as well.\n",
    "\n",
    "* The Graph class builds upon the Vertex methods and allows addition of vertices and edges, setting the directionality of edges, and determining if a path exists between two vertices.\n"
   ]
  },
  {
   "cell_type": "markdown",
   "metadata": {},
   "source": [
    "## Graph Theory \n",
    "\n",
    "$G = (V, E)$\n",
    "\n",
    "In mathematics, graph theory is the study of graphs, which are mathemtaical structures used to model pairwise relations between objects. Graphs are the basic subject studied by graph theory. The term first originated from an article written by J.J. Sylvester in 1878 - used in relation between mathematics and chemical structure. \n",
    "\n",
    "More here: [Graphs Wikipedia entry](\n",
    "https://en.wikipedia.org/wiki/Graph_theory#:~:text=In%20mathematics%2C%20graph%20theory%20is,also%20called%20links%20or%20lines)\n",
    "\n",
    "SYLVESTER, J. Chemistry and Algebra . Nature 17, 284 (1878). https://doi.org/10.1038/017284a0"
   ]
  },
  {
   "cell_type": "markdown",
   "metadata": {},
   "source": [
    "\n",
    "# Basics and Terminology \n",
    "\n",
    "Unlike a Tree, which focusses on the arrangement of nodes (especially the Binary Search Tree), <b>graphs focus on the distance (or weighting) between nodes</b>. Applying Graph Theory to programming enables us to represent nodes in a physical or virtual network, geographical maps and satnav applications, and Artificial Neural Networks (ANN).\n",
    "\n",
    "Nodes are referred to as vertices (vertex) and the pathways between them referred to as edges.\n",
    "\n",
    "![graphs.png](https://media.geeksforgeeks.org/wp-content/cdn-uploads/undirectedgraph.png)\n",
    "\n",
    "\n",
    "# Directed and Undirected Graphs\n",
    "\n",
    "In an undirected graph, it's possible to go back and forth (two-way relationship), whereas in a directed graph, there may be a one way relationship between two nodes in a graph.\n",
    "\n",
    "![directed_undirected](https://miro.medium.com/max/1400/1*HpYMnHjGZWmH9NKRG05lAg.jpeg)\n",
    "\n",
    "# Weighted and Unweighted Graphs\n",
    "\n",
    "Unweighted graphs could mean that the distance between each vertex is the same (often modelled by the value 1 in an adjaceny matrix). Whereas, in a directed graph, each edge would represent a unique value that represents time, distance or some weighting (cost) that it would take to travel between the vertices.\n",
    "\n",
    "![weighted_unweighted](https://afteracademy.com/images/introduction-to-graph-in-programming-weighted-unweighted-graph-52bd4ce5100286b8.png)\n",
    "\n",
    "# Adjacency Matrix\n",
    "\n",
    "As previously mentioned, the adjacency matrix stores the value representing the distance/time/weighting for each edge between pair of adjacent vertices. Like a 2D array, \n",
    "\n",
    "![adj_list](https://www.softwaretestinghelp.com/wp-content/qa/uploads/2020/05/4-5.png)\n",
    "\n",
    "# Adjacency Lists:\n",
    "\n",
    "An alternate to the 2D array/matrix which is indexed, would be a referenced structure. Each vertex of the graph holds a linked list of nodes (the connections from that vertex) and the distance/cost/time/weighting to get to that vertex in the graph.\n",
    "\n",
    "![adj_list](https://www.softwaretestinghelp.com/wp-content/qa/uploads/2020/05/9-1.png)"
   ]
  },
  {
   "cell_type": "markdown",
   "metadata": {},
   "source": [
    "# Function signatures (headers) for a Graph class:"
   ]
  },
  {
   "cell_type": "code",
   "execution_count": null,
   "metadata": {},
   "outputs": [],
   "source": [
    "## Codeacademy \n",
    "\n",
    "class Vertex:\n",
    "  \"\"\"Key methods of Vertex class\"\"\"\n",
    "  def __init__(self, value):\n",
    "    ...\n",
    "  def add_edge(self, vertex, weight = 0):\n",
    "    ...\n",
    "  def get_edges(self):\n",
    "    ...\n",
    "\n",
    "class Graph:\n",
    "  \"\"\"Key methods of Graph class\"\"\"\n",
    "  def __init__(self, directed = False):\n",
    "    ...\n",
    "  def add_vertex(self, vertex):\n",
    "    ...\n",
    "  def add_edge(self, from_vertex, to_vertex, weight = 0):\n",
    "    ...\n",
    "  def find_path(self, start_vertex, end_vertex):\n",
    "    ..."
   ]
  },
  {
   "cell_type": "markdown",
   "metadata": {},
   "source": [
    "# Simple Graph implementation"
   ]
  },
  {
   "cell_type": "code",
   "execution_count": null,
   "metadata": {},
   "outputs": [],
   "source": [
    "from random import randrange\n",
    "from graph import Graph\n",
    "from vertex import Vertex\n",
    "\n",
    "def print_graph(graph):\n",
    "  for vertex in graph.graph_dict:\n",
    "    print(\"\")\n",
    "    print(vertex + \" connected to\")\n",
    "    vertex_neighbors = graph.graph_dict[vertex].edges\n",
    "    if len(vertex_neighbors) == 0:\n",
    "      print(\"No edges!\")\n",
    "    for adjacent_vertex in vertex_neighbors:\n",
    "      print(\"=> \" + adjacent_vertex)\n",
    "\n",
    "\n",
    "def build_graph(directed):\n",
    "  g = Graph(directed)\n",
    "  vertices = []\n",
    "  for val in ['a', 'b', 'c', 'd', 'e', 'f', 'g']:\n",
    "    vertex = Vertex(val)\n",
    "    vertices.append(vertex)\n",
    "    g.add_vertex(vertex)\n",
    "\n",
    "  for v in range(len(vertices)):\n",
    "    v_idx = randrange(0, len(vertices) - 1)\n",
    "    v1 = vertices[v_idx]\n",
    "    v_idx = randrange(0, len(vertices) - 1)\n",
    "    v2 = vertices[v_idx]\n",
    "    g.add_edge(v1, v2, randrange(1, 10))\n",
    "\n",
    "  print_graph(g)\n",
    "\n",
    "build_graph(False)\n"
   ]
  },
  {
   "cell_type": "markdown",
   "metadata": {},
   "source": [
    "# Building the Vertex Class"
   ]
  },
  {
   "cell_type": "code",
   "execution_count": 4,
   "metadata": {},
   "outputs": [
    {
     "name": "stdout",
     "output_type": "stream",
     "text": [
      "[]\n",
      "Adding edge to 42nd Street Station\n",
      "['42nd Street Station']\n",
      "[]\n",
      "Adding edge to Grand Central Station\n",
      "['Grand Central Station']\n"
     ]
    }
   ],
   "source": [
    "class Vertex:\n",
    "  def __init__(self, value):\n",
    "    self.value = value\n",
    "    self.edges = {}\n",
    "\n",
    "  # define .add_edge() here\n",
    "  def add_edge(self, vertex):\n",
    "    print(\"Adding edge to \" + vertex)\n",
    "    self.edges[vertex] = True\n",
    "\n",
    "  def get_edges(self):\n",
    "    return list(self.edges.keys())\n",
    "\n",
    "  \n",
    "grand_central = Vertex('Grand Central Station')\n",
    "forty_second_street = Vertex('42nd Street Station')\n",
    "\n",
    "print(grand_central.get_edges())\n",
    "\n",
    "# call .add_edge() below here\n",
    "grand_central.add_edge(forty_second_street.value)\n",
    "\n",
    "print(grand_central.get_edges())\n",
    "print(forty_second_street.get_edges())\n",
    "\n",
    "forty_second_street.add_edge(grand_central.value)\n",
    "print(forty_second_street.get_edges())\n"
   ]
  },
  {
   "cell_type": "code",
   "execution_count": 6,
   "metadata": {},
   "outputs": [
    {
     "name": "stdout",
     "output_type": "stream",
     "text": [
      "{}\n",
      "Adding Grand Central Station\n",
      "{'Grand Central Station': <__main__.Vertex object at 0x106baa850>}\n",
      "Adding 42nd Street Station\n",
      "{'Grand Central Station': <__main__.Vertex object at 0x106baa850>, '42nd Street Station': <__main__.Vertex object at 0x106baac10>}\n",
      "Adding edge to 42nd Street Station\n",
      "['42nd Street Station']\n"
     ]
    }
   ],
   "source": [
    "# Bring in the Vertex class from vertex.py\n",
    "class Vertex:\n",
    "  def __init__(self, value):\n",
    "    self.value = value\n",
    "    self.edges = {}\n",
    "\n",
    "  # define .add_edge() here\n",
    "  def add_edge(self, vertex):\n",
    "    print(\"Adding edge to \" + vertex)\n",
    "    self.edges[vertex] = True\n",
    "\n",
    "  def get_edges(self):\n",
    "    return list(self.edges.keys())\n",
    "\n",
    "# Define Graph below...\n",
    "class Graph:\n",
    "  def __init__(self, directed = False):\n",
    "    self.graph_dict = {}\n",
    "    self.directed = directed\n",
    "    \n",
    "  def add_vertex(self, vertex):\n",
    "    print(\"Adding \" + vertex.value)\n",
    "    self.graph_dict[vertex.value] = vertex\n",
    "\n",
    "\n",
    "grand_central = Vertex(\"Grand Central Station\")\n",
    "\n",
    "# Uncomment this code after you've defined Graph\n",
    "railway = Graph()\n",
    "\n",
    "# Uncomment these lines after you've completed .add_vertex()\n",
    "print(railway.graph_dict)\n",
    "railway.add_vertex(grand_central)\n",
    "print(railway.graph_dict)\n",
    "\n",
    "\n",
    "forty_second_street = Vertex('42nd Street Station')\n",
    "railway.add_vertex(forty_second_street)\n",
    "print(railway.graph_dict)\n",
    "\n",
    "# call .add_edge() below here\n",
    "grand_central.add_edge(forty_second_street.value)\n",
    "\n",
    "print(grand_central.get_edges())\n"
   ]
  },
  {
   "cell_type": "markdown",
   "metadata": {},
   "source": [
    "# Building the Graph Class"
   ]
  },
  {
   "cell_type": "code",
   "execution_count": 15,
   "metadata": {},
   "outputs": [
    {
     "name": "stdout",
     "output_type": "stream",
     "text": [
      "{}\n",
      "{'Grand Central Station': <__main__.Vertex object at 0x106e41910>, '42nd Street Station': <__main__.Vertex object at 0x106e61850>}\n"
     ]
    }
   ],
   "source": [
    "class Graph:\n",
    "  def __init__(self, directed = False):\n",
    "    self.graph_dict = {}\n",
    "    self.directed = directed\n",
    "\n",
    "  def add_vertex(self, vertex):\n",
    "    self.graph_dict[vertex.value] = vertex\n",
    "\n",
    "  def add_edge(self, from_vertex, to_vertex, weight = 0):\n",
    "    self.graph_dict[from_vertex.value].add_edge(to_vertex.value, weight)\n",
    "    if not self.directed:\n",
    "      self.graph_dict[to_vertex.value].add_edge(from_vertex.value, weight)\n",
    "\n",
    "  def find_path(self, start_vertex, end_vertex):\n",
    "    start = [start_vertex]\n",
    "    while len(start) > 0:\n",
    "      current_vertex = start.pop(0)\n",
    "      print(\"Visiting \" + current_vertex)\n",
    "      #START CODE HERE\n",
    "      if current_vertex == end_vertex:\n",
    "        return True\n",
    "      vertex = self.graph_dict[current_vertex]\n",
    "      next_vertices = vertex.get_edges()\n",
    "      start += next_vertices\n",
    "    return False\n",
    "   \n",
    "\n",
    "grand_central = Vertex(\"Grand Central Station\")\n",
    "\n",
    "# Uncomment this code after you've defined Graph\n",
    "railway = Graph()\n",
    "print(railway.graph_dict)\n",
    "railway.add_vertex(grand_central)\n",
    "\n",
    "\n",
    "\n",
    "forty_second_street = Vertex('42nd Street Station')\n",
    "railway.add_vertex(forty_second_street)\n",
    "print(railway.graph_dict)\n",
    "\n",
    "# call .add_edge() below here\n",
    "#grand_central.add_edge(forty_second_street.value)\n",
    "\n",
    "#railway.add_edge(grand_central, forty_second_street)\n",
    "\n",
    "\n"
   ]
  },
  {
   "cell_type": "markdown",
   "metadata": {},
   "source": [
    "# Directed Graph - adding vertexes"
   ]
  },
  {
   "cell_type": "code",
   "execution_count": 16,
   "metadata": {},
   "outputs": [
    {
     "name": "stdout",
     "output_type": "stream",
     "text": [
      "Adding edge to peel\n",
      "Adding edge to callan\n",
      "Visiting harwick\n",
      "True\n",
      "\n",
      "\n",
      "\n",
      "Finding path from harwick to callan\n",
      "\n",
      "Visiting harwick\n",
      "Visiting peel\n",
      "Visiting callan\n",
      "True\n",
      "\n",
      "\n",
      "Trying to find path from harwick to ulfstead\n",
      "\n",
      "Visiting harwick\n",
      "Visiting peel\n",
      "Visiting callan\n",
      "False\n"
     ]
    }
   ],
   "source": [
    "class Graph:\n",
    "  def __init__(self, directed = False):\n",
    "    self.graph_dict = {}\n",
    "    self.directed = directed\n",
    "\n",
    "  def add_vertex(self, vertex):\n",
    "    self.graph_dict[vertex.value] = vertex\n",
    "\n",
    "  def add_edge(self, from_vertex, to_vertex, weight = 0):\n",
    "    self.graph_dict[from_vertex.value].add_edge(to_vertex.value, weight)\n",
    "    if not self.directed:\n",
    "      self.graph_dict[to_vertex.value].add_edge(from_vertex.value, weight)\n",
    "\n",
    "  def find_path(self, start_vertex, end_vertex):\n",
    "    start = [start_vertex]\n",
    "    while len(start) > 0:\n",
    "      current_vertex = start.pop(0)\n",
    "      print(\"Visiting \" + current_vertex)\n",
    "      #START CODE HERE\n",
    "      if current_vertex == end_vertex:\n",
    "        return True\n",
    "      vertex = self.graph_dict[current_vertex]\n",
    "      next_vertices = vertex.get_edges()\n",
    "      start += next_vertices\n",
    "    return False\n",
    "   \n",
    "\n",
    "class Vertex:\n",
    "  def __init__(self, value):\n",
    "    self.value = value\n",
    "    self.edges = {}\n",
    "\n",
    "  # define .add_edge() here\n",
    "  def add_edge(self, vertex, weight = 0):\n",
    "    print(\"Adding edge to \" + vertex)\n",
    "    self.edges[vertex] = True\n",
    "\n",
    "  def get_edges(self):\n",
    "    return list(self.edges.keys())\n",
    "\n",
    "no_path_exists = True\n",
    "\n",
    "directed_railway = Graph(True)\n",
    "\n",
    "callan_station = Vertex('callan')\n",
    "peel_station = Vertex('peel')\n",
    "ulfstead_station = Vertex('ulfstead')\n",
    "harwick_station = Vertex('harwick')\n",
    "\n",
    "directed_railway.add_vertex(callan_station)\n",
    "directed_railway.add_vertex(peel_station)\n",
    "directed_railway.add_vertex(harwick_station)\n",
    "directed_railway.add_vertex(ulfstead_station)\n",
    "\n",
    "directed_railway.add_edge(harwick_station, peel_station)\n",
    "directed_railway.add_edge(peel_station, callan_station)\n",
    "\n",
    "\n",
    "path_exists = directed_railway.find_path('harwick', 'harwick')\n",
    "print(path_exists)\n",
    "\n",
    "#Uncomment for final checkpoint\n",
    "\n",
    "print(\"\\n\\n\\nFinding path from harwick to callan\\n\")\n",
    "new_path_exists = directed_railway.find_path('harwick', 'callan')\n",
    "print(new_path_exists)\n",
    "print(\"\\n\\nTrying to find path from harwick to ulfstead\\n\")\n",
    "no_path_exists = directed_railway.find_path('harwick', 'ulfstead')\n",
    "print(no_path_exists)\n",
    "\n"
   ]
  },
  {
   "cell_type": "markdown",
   "metadata": {},
   "source": [
    "# Refactor - for undirected graphs"
   ]
  },
  {
   "cell_type": "code",
   "execution_count": 9,
   "metadata": {},
   "outputs": [
    {
     "name": "stdout",
     "output_type": "stream",
     "text": [
      "Adding edge to harwick\n",
      "Adding edge to peel\n",
      "Adding edge to callan\n",
      "Adding edge to harwick\n",
      "Adding edge to peel\n",
      "Adding edge to callan\n",
      "Visiting peel\n",
      "Visiting harwick\n",
      "Visiting callan\n",
      "Visiting callan\n",
      "Visiting harwick\n",
      "Visiting peel\n",
      "A path exists between peel and ulfstead:\n",
      "False\n",
      "A path exists between harwick and peel:\n",
      "True\n"
     ]
    }
   ],
   "source": [
    "class Graph:\n",
    "  def __init__(self, directed = False):\n",
    "    self.graph_dict = {}\n",
    "    self.directed = directed\n",
    "\n",
    "  def add_vertex(self, vertex):\n",
    "    self.graph_dict[vertex.value] = vertex\n",
    "\n",
    "  def add_edge(self, from_vertex, to_vertex, weight = 0):\n",
    "    self.graph_dict[from_vertex.value].add_edge(to_vertex.value, weight)\n",
    "    if not self.directed:\n",
    "      self.graph_dict[to_vertex.value].add_edge(from_vertex.value, weight)\n",
    "\n",
    "  def find_path(self, start_vertex, end_vertex):\n",
    "    start = [start_vertex]\n",
    "    # Checkpoint 1, replace these comments:\n",
    "    # Use a dictionary to track which\n",
    "    # vertices we've already visited\n",
    "    seen = {}\n",
    "    while len(start) > 0:\n",
    "      current_vertex = start.pop(0)\n",
    "      # Checkpoint 2, replace these comments:\n",
    "      # Update the `seen` variable\n",
    "      # now that we've visited current_vertex\n",
    "      seen[current_vertex] = True\n",
    "      print(\"Visiting \" + current_vertex)\n",
    "      if current_vertex == end_vertex:\n",
    "        return True\n",
    "      else:\n",
    "        vertex = self.graph_dict[current_vertex]\n",
    "        next_vertices = vertex.get_edges()\n",
    "        \n",
    "        # Filter next_vertices so it only\n",
    "        # includes vertices NOT IN seen\n",
    "        \n",
    "        # Checkpoint 3, uncomment and replace the question marks:\n",
    "        next_vertices = [vertex for vertex in next_vertices if vertex not in seen]\n",
    "        start.extend(next_vertices)\n",
    "        \n",
    "    return False\n",
    "\n",
    "\n",
    "\n",
    "\n",
    "\n",
    "class Vertex:\n",
    "  def __init__(self, value):\n",
    "    self.value = value\n",
    "    self.edges = {}\n",
    "\n",
    "  # define .add_edge() here\n",
    "  def add_edge(self, vertex, weight = 0):\n",
    "    print(\"Adding edge to \" + vertex)\n",
    "    self.edges[vertex] = True\n",
    "\n",
    "  def get_edges(self):\n",
    "    return list(self.edges.keys())\n",
    "\n",
    "\n",
    "\n",
    "railway = Graph()\n",
    "\n",
    "callan = Vertex('callan')\n",
    "peel = Vertex('peel')\n",
    "ulfstead = Vertex('ulfstead')\n",
    "harwick = Vertex('harwick')\n",
    "\n",
    "railway.add_vertex(callan)\n",
    "railway.add_vertex(peel)\n",
    "railway.add_vertex(harwick)\n",
    "railway.add_vertex(ulfstead)\n",
    "\n",
    "railway.add_edge(peel, harwick)\n",
    "railway.add_edge(harwick, callan)\n",
    "railway.add_edge(callan, peel)\n",
    "\n",
    "# Uncomment the code below when you're done refactoring!\n",
    "\n",
    "peel_to_ulfstead_path_exists = railway.find_path('peel', 'ulfstead')\n",
    "harwick_to_peel_path_exists = railway.find_path('harwick', 'peel')\n",
    "\n",
    "print(\"A path exists between peel and ulfstead:\")\n",
    "print(peel_to_ulfstead_path_exists)\n",
    "print(\"A path exists between harwick and peel:\")\n",
    "print(harwick_to_peel_path_exists)\n",
    "\n"
   ]
  },
  {
   "cell_type": "markdown",
   "metadata": {},
   "source": [
    "# Bringing all together"
   ]
  },
  {
   "cell_type": "code",
   "execution_count": 10,
   "metadata": {},
   "outputs": [
    {
     "name": "stdout",
     "output_type": "stream",
     "text": [
      "\n",
      "a connected to\n",
      "=> b\n",
      "\n",
      "b connected to\n",
      "=> c\n",
      "=> a\n",
      "\n",
      "c connected to\n",
      "=> c\n",
      "=> b\n",
      "=> f\n",
      "=> e\n",
      "\n",
      "d connected to\n",
      "=> e\n",
      "\n",
      "e connected to\n",
      "=> d\n",
      "=> c\n",
      "\n",
      "f connected to\n",
      "=> c\n",
      "\n",
      "g connected to\n",
      "No edges!\n"
     ]
    }
   ],
   "source": [
    "from random import randrange\n",
    "\n",
    "\n",
    "class Graph:\n",
    "  def __init__(self, directed = False):\n",
    "    self.graph_dict = {}\n",
    "    self.directed = directed\n",
    "\n",
    "  def add_vertex(self, vertex):\n",
    "    self.graph_dict[vertex.value] = vertex\n",
    "\n",
    "  def add_edge(self, from_vertex, to_vertex, weight = 0):\n",
    "    self.graph_dict[from_vertex.value].add_edge(to_vertex.value, weight)\n",
    "    if not self.directed:\n",
    "      self.graph_dict[to_vertex.value].add_edge(from_vertex.value, weight)\n",
    "\n",
    "  def find_path(self, start_vertex, end_vertex):\n",
    "    start = [start_vertex]\n",
    "    seen = {}\n",
    "    while len(start) > 0:\n",
    "      current_vertex = start.pop(0)\n",
    "      seen[current_vertex] = True\n",
    "      print(\"Visiting \" + current_vertex)\n",
    "      if current_vertex == end_vertex:\n",
    "        return True\n",
    "      else:\n",
    "        vertices_to_visit = set(self.graph_dict[current_vertex].edges.keys())\n",
    "        start += [vertex for vertex in vertices_to_visit if vertex not in seen]\n",
    "    return False\n",
    "\n",
    "\n",
    "class Vertex:\n",
    "  def __init__(self, value):\n",
    "    self.value = value\n",
    "    self.edges = {}\n",
    "\n",
    "  def add_edge(self, vertex, weight = 0):\n",
    "    self.edges[vertex] = weight\n",
    "\n",
    "  def get_edges(self):\n",
    "    return list(self.edges.keys())\n",
    "\n",
    "\n",
    "def print_graph(graph):\n",
    "  for vertex in graph.graph_dict:\n",
    "    print(\"\")\n",
    "    print(vertex + \" connected to\")\n",
    "    vertex_neighbors = graph.graph_dict[vertex].edges\n",
    "    if len(vertex_neighbors) == 0:\n",
    "      print(\"No edges!\")\n",
    "    for adjacent_vertex in vertex_neighbors:\n",
    "      print(\"=> \" + adjacent_vertex)\n",
    "\n",
    "\n",
    "def build_graph(directed):\n",
    "  g = Graph(directed)\n",
    "  vertices = []\n",
    "  for val in ['a', 'b', 'c', 'd', 'e', 'f', 'g']:\n",
    "    vertex = Vertex(val)\n",
    "    vertices.append(vertex)\n",
    "    g.add_vertex(vertex)\n",
    "\n",
    "  for v in range(len(vertices)):\n",
    "    v_idx = randrange(0, len(vertices) - 1)\n",
    "    v1 = vertices[v_idx]\n",
    "    v_idx = randrange(0, len(vertices) - 1)\n",
    "    v2 = vertices[v_idx]\n",
    "    g.add_edge(v1, v2, randrange(1, 10))\n",
    "\n",
    "  print_graph(g)\n",
    "\n",
    "build_graph(False)\n"
   ]
  },
  {
   "cell_type": "markdown",
   "metadata": {},
   "source": [
    "# DFS and BFS for Graphs\n",
    "\n",
    "We previously applied BFS and DFS to trees. We can now apply the same concepts to a graph. We just have to change the implementation slightly. "
   ]
  },
  {
   "cell_type": "markdown",
   "metadata": {},
   "source": [
    "# Depth-First Search\n",
    "\n",
    "- Remember that DFS uses a STACK\n",
    "\n",
    "![DFS_Graph](https://www.codesdope.com/staticroot/images/algorithm/dfs.gif)"
   ]
  },
  {
   "cell_type": "code",
   "execution_count": 17,
   "metadata": {},
   "outputs": [
    {
     "name": "stdout",
     "output_type": "stream",
     "text": [
      "['crocodiles', 'lasers', 'sharks', 'lava', 'piranhas', 'bees']\n"
     ]
    }
   ],
   "source": [
    "def dfs(graph, current_vertex, target_value, visited=None):\n",
    "  if visited is None:\n",
    "    visited = []\n",
    "\t\n",
    "  visited.append(current_vertex)\n",
    "  \n",
    "  if current_vertex == target_value:\n",
    "    return visited\n",
    "\t\n",
    "  # Add your recursive case here:\n",
    "  for neighbor in graph[current_vertex]:\n",
    "    if neighbor not in visited:\n",
    "      path = dfs(graph, neighbor, target_value, visited)\n",
    "      \n",
    "      if path:\n",
    "        return path\n",
    "      \n",
    "\n",
    "the_most_dangerous_graph = {\n",
    "    'lava': set(['sharks', 'piranhas']),\n",
    "    'sharks': set(['lava', 'bees', 'lasers']),\n",
    "    'piranhas': set(['lava', 'crocodiles']),\n",
    "    'bees': set(['sharks']),\n",
    "    'lasers': set(['sharks', 'crocodiles']),\n",
    "    'crocodiles': set(['piranhas', 'lasers'])\n",
    "  }\n",
    "\n",
    "# Call dfs() below and print the result:\n",
    "print(dfs(the_most_dangerous_graph, \"crocodiles\", \"bees\"))"
   ]
  },
  {
   "cell_type": "markdown",
   "metadata": {},
   "source": [
    "# Breadth-First Search\n",
    "\n",
    "- Remember that BFS uses a QUEUE\n",
    "\n",
    "![BFS_on_graphs](https://www.codesdope.com/staticroot/images/algorithm/bfs.gif)"
   ]
  },
  {
   "cell_type": "code",
   "execution_count": 18,
   "metadata": {},
   "outputs": [
    {
     "name": "stdout",
     "output_type": "stream",
     "text": [
      "['crocodiles', 'lasers', 'sharks', 'bees']\n"
     ]
    }
   ],
   "source": [
    "the_most_dangerous_graph = {\n",
    "    'lava': set(['sharks', 'piranhas']),\n",
    "    'sharks': set(['lava', 'bees', 'lasers']),\n",
    "    'piranhas': set(['lava', 'crocodiles']),\n",
    "    'bees': set(['sharks']),\n",
    "    'lasers': set(['sharks', 'crocodiles']),\n",
    "    'crocodiles': set(['piranhas', 'lasers'])\n",
    "  }\n",
    "\n",
    "def bfs(graph, start_vertex, target_value):\n",
    "  path = [start_vertex]\n",
    "  vertex_and_path = [start_vertex, path]\n",
    "  bfs_queue = [vertex_and_path]\n",
    "  visited = set()\n",
    "  \n",
    "  while bfs_queue:\n",
    "    current_vertex, path = bfs_queue.pop(0)\n",
    "    visited.add(current_vertex)\n",
    "    \n",
    "    for neighbor in graph[current_vertex]:\n",
    "      # Finish the function here:\n",
    "      if neighbor not in visited:\n",
    "        if neighbor is target_value:\n",
    "          return path + [neighbor]\n",
    "        else:\n",
    "          bfs_queue.append([neighbor, path + [neighbor]])\n",
    "      \n",
    "# Call bfs() below and print the result:\n",
    "print(bfs(the_most_dangerous_graph, \"crocodiles\", \"bees\"))"
   ]
  },
  {
   "cell_type": "markdown",
   "metadata": {},
   "source": [
    "# Comparison of DFS and BFS \n",
    "\n",
    "![BFS_DFS_Graphs](https://miro.medium.com/max/1280/1*GT9oSo0agIeIj6nTg3jFEA.gif)\n",
    "\n",
    "\n",
    "![maze](https://d18l82el6cdm1i.cloudfront.net/uploads/mf7THWHAbL-mazegif.gif)"
   ]
  },
  {
   "cell_type": "code",
   "execution_count": null,
   "metadata": {},
   "outputs": [],
   "source": [
    "## Codeacadeny \n",
    "\n",
    "def dfs(graph, current_vertex, target_value, visited = None):\n",
    "  if visited is None:\n",
    "    visited = []\n",
    "  visited.append(current_vertex)\n",
    "  if current_vertex is target_value:\n",
    "    return visited\n",
    "  \n",
    "  for neighbor in graph[current_vertex]:\n",
    "    if neighbor not in visited:\n",
    "      path = dfs(graph, neighbor, target_value, visited)\n",
    "      if path:\n",
    "        return path\n",
    "      \n",
    "def bfs(graph, start_vertex, target_value):\n",
    "  path = [start_vertex]\n",
    "  vertex_and_path = [start_vertex, path]\n",
    "  bfs_queue = [vertex_and_path]\n",
    "  visited = set()\n",
    "  while bfs_queue:\n",
    "    current_vertex, path = bfs_queue.pop(0)\n",
    "    visited.add(current_vertex)\n",
    "    for neighbor in graph[current_vertex]:\n",
    "      if neighbor not in visited:\n",
    "        if neighbor is target_value:\n",
    "          return path + [neighbor]\n",
    "        else:\n",
    "          bfs_queue.append([neighbor, path + [neighbor]])\n",
    "\n",
    "some_hazardous_graph = {\n",
    "    'lava': set(['sharks', 'piranhas']),\n",
    "    'sharks': set(['piranhas', 'bees']),\n",
    "    'piranhas': set(['bees']),\n",
    "    'bees': set(['lasers']),\n",
    "    'lasers': set([])\n",
    "  }\n",
    "\n",
    "print(bfs(some_hazardous_graph, 'sharks', 'bees'))\n",
    "print(dfs(some_hazardous_graph, 'sharks', 'bees'))"
   ]
  },
  {
   "cell_type": "markdown",
   "metadata": {},
   "source": [
    "## Applications of Graphs\n",
    "\n",
    "### Network of nodes - Neural Networks\n",
    "![Neural_nets](https://miro.medium.com/v2/resize:fit:1400/0*_SH7tsNDTkGXWtZb.png)\n",
    "\n",
    "### Shortest Paths between nodes in a network (or minimum spanning)\n",
    "\n",
    "![shortest_path](https://tomrocksmaths.files.wordpress.com/2023/08/screenshot-2023-08-04-at-11.47.05.png?w=1024)"
   ]
  },
  {
   "cell_type": "markdown",
   "metadata": {},
   "source": [
    "## Preparation for exercises - install `networkx`"
   ]
  },
  {
   "cell_type": "markdown",
   "metadata": {},
   "source": [
    "`pip install networkx matplotlib`  \n",
    "  `python3 -m pip install -U networkx matplotlib --user`"
   ]
  },
  {
   "cell_type": "code",
   "execution_count": 1,
   "metadata": {},
   "outputs": [
    {
     "data": {
      "image/png": "[encoded data removed]",
      "text/plain": [
       "<Figure size 640x480 with 1 Axes>"
      ]
     },
     "metadata": {},
     "output_type": "display_data"
    }
   ],
   "source": [
    "import matplotlib.pyplot as plt\n",
    "import networkx as nx\n",
    "\n",
    "# Create a graph\n",
    "G = nx.Graph()\n",
    "\n",
    "# Add weighted edges\n",
    "G.add_edge('A', 'B', weight=4)\n",
    "G.add_edge('A', 'C', weight=3)\n",
    "G.add_edge('B', 'C', weight=2)\n",
    "G.add_edge('C', 'D', weight=5)\n",
    "\n",
    "# Get positions for the nodes\n",
    "pos = nx.spring_layout(G)\n",
    "\n",
    "# Draw nodes and edges\n",
    "nx.draw(G, pos, with_labels=True, node_color='lightblue', node_size=2000, font_size=10, font_weight='bold')\n",
    "\n",
    "# Draw edge labels for weights\n",
    "edge_labels = nx.get_edge_attributes(G, 'weight')\n",
    "nx.draw_networkx_edge_labels(G, pos, edge_labels=edge_labels)\n",
    "\n",
    "plt.show()"
   ]
  },
  {
   "cell_type": "markdown",
   "metadata": {
    "slideshow": {
     "slide_type": "slide"
    }
   },
   "source": [
    "\n",
    "## <font color=\"red\">Exercise</font> ##\n",
    "\n",
    "Insert a 'code' cell below. In this do the following:\n",
    "\n",
    "- 1 - Implement a graph from the code given above. You'll also need an adjacency matrix or list. Try starting with an adjacency matrix.\n",
    "- 2 - Add a number of verteces (say five to ten) to the graph. \n",
    "- 3 - Then add the edges between verteces to connect the verteces in the graph. \n",
    "- 4 - Print the adjacency matrix (or list) to check that the verteces are correctly connected by the edges. \n",
    "- 5 - Run the BFS algorithm on the graph to check you can get the correct pathway to a target node.\n",
    "- 6 - Now check the DFS algorithm on the graph to check you can get the correct pathway to a target node. \n",
    "- 7 - If you implemented an adjacency matrix previously, now change that to use a linked list. If you started with a linked list, now implement an adjacency matrix. "
   ]
  },
  {
   "cell_type": "markdown",
   "metadata": {
    "slideshow": {
     "slide_type": "slide"
    }
   },
   "source": [
    "# References & Learning Resources#\n",
    "\n",
    " - W3Schools - there are many online resources for Python but the Python tutorial at https://www.w3schools.com/python/ is thorough, progressive, interactive and free. If you complete the main tutorial (skip the bits on installing Python as we will be using Ancaconda/Jupyter) the later sections on **\"File Handling\"**, **\"NumPy\"** and **\"Machine Learning\"** are also relevant. The **\"Exercises\"** and **\"Quiz\"** sections are also worthwhile activities for consolidating knowledge.\n",
    " - **Phillips, D. (2015). Python 3 object-oriented programming. Packt Publishing Ltd.** Although a 3rd edition has been released the 2nd edition is still pretty much up-to-date  and seems to be widely available in PDF format. As an added bonus this covers Design Patterns in some detail.\n",
    " - **https://www.learnpython.org/** is another comprehensive and intercative resource\n",
    " - **https://docs.python.org/3.7/tutorial/** is Python's own text-based tutorial. Despite the seemingly daunting number of sub-sections, it can be consumed in a fairly short time and manages to be both concise and comprehensive.\n",
    " - **Think Python 2e** is an excellent in-depth and free version of the O'Reilly hardcopy by Allen B. Downey and is available here ... https://greenteapress.com/wp/think-python-2e/\n",
    " - https://www.sololearn.com/ - great for mobile learning on the go ... free! Recommended by JJ\n",
    " - I have also adapted examples from *Learn Python In A Day: The Ultimate Crash Course To Learning The Basics Of Python In No Time* by *Acodemy* but this is out of print and is only mentioned for completeness."
   ]
  }
 ],
 "metadata": {
  "celltoolbar": "Slideshow",
  "kernelspec": {
   "display_name": "Python 3.9.12 ('base')",
   "language": "python",
   "name": "python3"
  },
  "language_info": {
   "codemirror_mode": {
    "name": "ipython",
    "version": 3
   },
   "file_extension": ".py",
   "mimetype": "text/x-python",
   "name": "python",
   "nbconvert_exporter": "python",
   "pygments_lexer": "ipython3",
   "version": "3.9.6"
  },
  "vscode": {
   "interpreter": {
    "hash": "c24ecc2928a1df641fb89905a028e959d05eac4f79c1af53f0bb766b01409011"
   }
  }
 },
 "nbformat": 4,
 "nbformat_minor": 4
}
