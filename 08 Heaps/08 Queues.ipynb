{
 "cells": [
  {
   "cell_type": "markdown",
   "metadata": {},
   "source": [
    "![pythonLogo.png](https://www.python.org/static/community_logos/python-powered-w-200x80.png)\n",
    "\n",
    "# 08 Queues #\n",
    "ND Sept 2024\n"
   ]
  },
  {
   "cell_type": "markdown",
   "metadata": {},
   "source": [
    "## Queue\n",
    "\n",
    "A queue operates on First In First Out (FIFO) principle. This follows the natural process of queuing up as human beings to be served - either to get on a train, to buy coffee, purchase food in a supermarket etc. The first item added the queue (enqueued) is the first to be removed (dequeued).\n",
    "\n",
    "![queue.png](https://miro.medium.com/max/1196/1*PMYRFmVecFT61P4aAh0g1g.png)"
   ]
  },
  {
   "cell_type": "markdown",
   "metadata": {},
   "source": [
    "# Enqueue - Add items to a queue"
   ]
  },
  {
   "cell_type": "code",
   "execution_count": 2,
   "metadata": {},
   "outputs": [
    {
     "name": "stdout",
     "output_type": "stream",
     "text": [
      "Adding all the fluffy kitties to the queue!\n"
     ]
    }
   ],
   "source": [
    "\n",
    "class Node:\n",
    "  def __init__(self, value, next_node=None):\n",
    "    self.value = value\n",
    "    self.next_node = next_node\n",
    "    \n",
    "  def get_value(self):\n",
    "    return self.value\n",
    "  \n",
    "  def get_next_node(self):\n",
    "    return self.next_node\n",
    "  \n",
    "  def set_next_node(self, next_node):\n",
    "    self.next_node = next_node\n",
    "    \n",
    "\n",
    "class Queue:\n",
    "  def __init__(self, max_size=None):\n",
    "    self.head = None\n",
    "    self.tail = None\n",
    "    self.max_size = max_size\n",
    "    self.size = 0\n",
    "    \n",
    "  # Add your enqueue method below:\n",
    "  def enqueue(self, value):\n",
    "    if self.has_space():\n",
    "      item_to_add = Node(value)\n",
    "      print(\"Adding \" + str(item_to_add.get_value()) + \" to the queue!\")\n",
    "      if self.is_empty():\n",
    "        self.head = item_to_add\n",
    "        self.tail = item_to_add\n",
    "      else:\n",
    "        self.tail.set_next_node(item_to_add)\n",
    "        self.tail = item_to_add\n",
    "      self.size += 1\n",
    "    else:\n",
    "      print(\"Sorry, no more room!\")\n",
    "    \n",
    "  def peek(self):\n",
    "    if self.is_empty():\n",
    "      print(\"Nothing to see here!\")\n",
    "    else:\n",
    "      return self.head.get_value()\n",
    "  \n",
    "  def get_size(self):\n",
    "    return self.size\n",
    "  \n",
    "  def has_space(self):\n",
    "    if self.max_size == None:\n",
    "      return True\n",
    "    else:\n",
    "      return self.max_size > self.get_size()\n",
    "    \n",
    "  def is_empty(self):\n",
    "    return self.size == 0\n",
    "\n",
    "q = Queue()\n",
    "q.enqueue(\"all the fluffy kitties\")"
   ]
  },
  {
   "cell_type": "markdown",
   "metadata": {},
   "source": [
    "# Dequeue - removal from the Queue"
   ]
  },
  {
   "cell_type": "code",
   "execution_count": 3,
   "metadata": {},
   "outputs": [
    {
     "name": "stdout",
     "output_type": "stream",
     "text": [
      "Adding some guy with a mustache to the queue!\n",
      "Removing some guy with a mustache from the queue!\n"
     ]
    },
    {
     "data": {
      "text/plain": [
       "'some guy with a mustache'"
      ]
     },
     "execution_count": 3,
     "metadata": {},
     "output_type": "execute_result"
    }
   ],
   "source": [
    "class Node:\n",
    "  def __init__(self, value, next_node=None):\n",
    "    self.value = value\n",
    "    self.next_node = next_node\n",
    "    \n",
    "  def get_value(self):\n",
    "    return self.value\n",
    "  \n",
    "  def get_next_node(self):\n",
    "    return self.next_node\n",
    "  \n",
    "  def set_next_node(self, next_node):\n",
    "    self.next_node = next_node\n",
    "\n",
    "class Queue:\n",
    "  def __init__(self, max_size=None):\n",
    "    self.head = None\n",
    "    self.tail = None\n",
    "    self.max_size = max_size\n",
    "    self.size = 0\n",
    "    \n",
    "  def enqueue(self, value):\n",
    "    if self.has_space():\n",
    "      item_to_add = Node(value)\n",
    "      print(\"Adding \" + str(item_to_add.get_value()) + \" to the queue!\")\n",
    "      if self.is_empty():\n",
    "        self.head = item_to_add\n",
    "        self.tail = item_to_add\n",
    "      else:\n",
    "        self.tail.set_next_node(item_to_add)\n",
    "        self.tail = item_to_add\n",
    "      self.size += 1\n",
    "    else:\n",
    "      print(\"Sorry, no more room!\")\n",
    "      \n",
    "  # Add your dequeue method below:    \n",
    "  def dequeue(self):\n",
    "    if self.get_size() > 0:\n",
    "      item_to_remove = self.head\n",
    "      print(\"Removing \" + str(item_to_remove.get_value()) + \" from the queue!\")\n",
    "      if self.get_size() == 1:\n",
    "        self.head = None\n",
    "        self.tail = None\n",
    "      else:\n",
    "        self.head = self.head.get_next_node()\n",
    "      self.size -= 1\n",
    "      return item_to_remove.get_value()\n",
    "    else:\n",
    "      print(\"This queue is totally empty!\")\n",
    "  \n",
    "  def peek(self):\n",
    "    if self.is_empty():\n",
    "      print(\"Nothing to see here!\")\n",
    "    else:\n",
    "      return self.head.get_value()\n",
    "  \n",
    "  def get_size(self):\n",
    "    return self.size\n",
    "  \n",
    "  def has_space(self):\n",
    "    if self.max_size == None:\n",
    "      return True\n",
    "    else:\n",
    "      return self.max_size > self.get_size()\n",
    "    \n",
    "  def is_empty(self):\n",
    "    return self.size == 0\n",
    "\n",
    "q = Queue()\n",
    "q.enqueue(\"some guy with a mustache\")\n",
    "q.dequeue()\n"
   ]
  },
  {
   "cell_type": "markdown",
   "metadata": {},
   "source": [
    "# Queue example"
   ]
  },
  {
   "cell_type": "code",
   "execution_count": 2,
   "metadata": {},
   "outputs": [
    {
     "name": "stdout",
     "output_type": "stream",
     "text": [
      "Creating a deli line with up to 10 orders...\n",
      "------------\n",
      "Adding orders to our deli line...\n",
      "------------\n",
      "Adding egg and cheese on a roll to the queue!\n",
      "Adding bacon, egg, and cheese on a roll to the queue!\n",
      "Adding toasted sesame bagel with butter and jelly to the queue!\n",
      "Adding toasted roll with butter to the queue!\n",
      "Adding bacon, egg, and cheese on a plain bagel to the queue!\n",
      "Adding two fried eggs with home fries and ketchup to the queue!\n",
      "Adding egg and cheese on a roll with jalapeos to the queue!\n",
      "Adding plain bagel with plain cream cheese to the queue!\n",
      "Adding blueberry muffin toasted with butter to the queue!\n",
      "Adding bacon, egg, and cheese on a roll to the queue!\n",
      "Sorry, no more room!\n",
      "------------\n",
      "Our first order will be egg and cheese on a roll\n",
      "------------\n",
      "Now serving...\n",
      "------------\n",
      "egg and cheese on a roll is served!\n",
      "bacon, egg, and cheese on a roll is served!\n",
      "toasted sesame bagel with butter and jelly is served!\n",
      "toasted roll with butter is served!\n",
      "bacon, egg, and cheese on a plain bagel is served!\n",
      "two fried eggs with home fries and ketchup is served!\n",
      "egg and cheese on a roll with jalapeos is served!\n",
      "plain bagel with plain cream cheese is served!\n",
      "blueberry muffin toasted with butter is served!\n",
      "bacon, egg, and cheese on a roll is served!\n",
      "The queue is totally empty!\n"
     ]
    }
   ],
   "source": [
    "class Node:\n",
    "  def __init__(self, value, next_node=None):\n",
    "    self.value = value\n",
    "    self.next_node = next_node\n",
    "    \n",
    "  def get_value(self):\n",
    "    return self.value\n",
    "  \n",
    "  def get_next_node(self):\n",
    "    return self.next_node\n",
    "  \n",
    "  def set_next_node(self, next_node):\n",
    "    self.next_node = next_node\n",
    "\n",
    "class Queue:\n",
    "  def __init__(self, max_size=None):\n",
    "    self.head = None\n",
    "    self.tail = None\n",
    "    self.max_size = max_size\n",
    "    self.size = 0\n",
    "    \n",
    "  def enqueue(self, value):\n",
    "    if self.has_space():\n",
    "      item_to_add = Node(value)\n",
    "      print(\"Adding \" + str(item_to_add.get_value()) + \" to the queue!\")\n",
    "      if self.is_empty():\n",
    "        self.head = item_to_add\n",
    "        self.tail = item_to_add\n",
    "      else:\n",
    "        self.tail.set_next_node(item_to_add)\n",
    "        self.tail = item_to_add\n",
    "      self.size += 1\n",
    "    else:\n",
    "      print(\"Sorry, no more room!\")\n",
    "         \n",
    "  def dequeue(self):\n",
    "    if self.get_size() > 0:\n",
    "      item_to_remove = self.head\n",
    "      print(str(item_to_remove.get_value()) + \" is served!\")\n",
    "      if self.get_size() == 1:\n",
    "        self.head = None\n",
    "        self.tail = None\n",
    "      else:\n",
    "        self.head = self.head.get_next_node()\n",
    "      self.size -= 1\n",
    "      return item_to_remove.get_value()\n",
    "    else:\n",
    "      print(\"The queue is totally empty!\")\n",
    "  \n",
    "  def peek(self):\n",
    "    if self.is_empty():\n",
    "      print(\"Nothing to see here!\")\n",
    "    else:\n",
    "      return self.head.get_value()\n",
    "  \n",
    "  def get_size(self):\n",
    "    return self.size\n",
    "  \n",
    "  def has_space(self):\n",
    "    if self.max_size == None:\n",
    "      return True\n",
    "    else:\n",
    "      return self.max_size > self.get_size()\n",
    "    \n",
    "  def is_empty(self):\n",
    "    return self.size == 0\n",
    "\n",
    "print(\"Creating a deli line with up to 10 orders...\\n------------\")\n",
    "deli_line = Queue(10)\n",
    "print(\"Adding orders to our deli line...\\n------------\")\n",
    "deli_line.enqueue(\"egg and cheese on a roll\")\n",
    "deli_line.enqueue(\"bacon, egg, and cheese on a roll\")\n",
    "deli_line.enqueue(\"toasted sesame bagel with butter and jelly\")\n",
    "deli_line.enqueue(\"toasted roll with butter\")\n",
    "deli_line.enqueue(\"bacon, egg, and cheese on a plain bagel\")\n",
    "deli_line.enqueue(\"two fried eggs with home fries and ketchup\")\n",
    "deli_line.enqueue(\"egg and cheese on a roll with jalapeos\")\n",
    "deli_line.enqueue(\"plain bagel with plain cream cheese\")\n",
    "deli_line.enqueue(\"blueberry muffin toasted with butter\")\n",
    "deli_line.enqueue(\"bacon, egg, and cheese on a roll\")\n",
    "# ------------------------ #\n",
    "# Uncomment the line below:\n",
    "deli_line.enqueue(\"western omelet with home fries\")\n",
    "# ------------------------ #\n",
    "print(\"------------\\nOur first order will be \" + deli_line.peek())\n",
    "print(\"------------\\nNow serving...\\n------------\")\n",
    "deli_line.dequeue()\n",
    "deli_line.dequeue()\n",
    "deli_line.dequeue()\n",
    "deli_line.dequeue()\n",
    "deli_line.dequeue()\n",
    "deli_line.dequeue()\n",
    "deli_line.dequeue()\n",
    "deli_line.dequeue()\n",
    "deli_line.dequeue()\n",
    "deli_line.dequeue()\n",
    "# ------------------------ #\n",
    "# Uncomment the line below:\n",
    "deli_line.dequeue()\n",
    "# ------------------------ #"
   ]
  },
  {
   "cell_type": "markdown",
   "metadata": {
    "slideshow": {
     "slide_type": "slide"
    }
   },
   "source": [
    "## Exercise\n",
    "\n",
    "Insert a 'code' cell below. In this do the following:\n",
    "\n",
    "- 1 - Instantiate the Queue class - check that you can successfully insert (enqueue), and remove (dequeue) items. Also check the order of the removal (dequeue). Is the First In First Out principle implemented correctly.\n",
    "- 2 - Now do the same for the Queue - create a LinkedQueue class that will be a queue of separate linkedlist objects. Each object is a linkedlist, and can enqueued and dequeued as any other object would.\n",
    "\n",
    "C++ EXERCISES to ADAPT\n",
    "\n",
    "/*\n",
    "* Exercise 3: Create a Queue that uses an Array \n",
    "* Using an integer array, complete the class outline below to be able to 'enqueue' and 'dequeue' integer values. \n",
    "* The enqueue function should add data to the 'rear' of the queue. \n",
    "* The dequeue function should remove data to the 'front' of the queue.\n",
    "*  \n",
    "* Extension 1: Add front and rear 'pointers' so fixed size arrays can be treated as 'circular queue'.\n",
    "* Extension 2: Add code to the 'enqueue' function so items are sorted via 'priority'.   \n",
    "*/\n",
    "\n",
    "/*\n",
    "* Exercise 4: Linked Queue \n",
    "* Now amend your Queue class and its logic to work a linked list of nodes/links (pointers to objects of any class)\n",
    "* You may want to make this a template class so it can handle pointers to objects of any class structure. \n",
    "* \n",
    "* Extension: If you completed the 'Contacts' class from 04 Hashing, you could model/simulate a 'queue' of customers. \n",
    "*            (Think trying to phone an energy company!)  \n",
    "*            Generate some customer nodes and add them to a queue (enqueue them).\n",
    "*            You could 'dequeue' customers after they have been served (you could simulate this by generating random lengths of conversation).\n",
    "*            Track a given caller's position in the queue (and this should update regularly as customers ahead in the queue are served and exit the queue).\n",
    "*/\n",
    "\n"
   ]
  },
  {
   "cell_type": "markdown",
   "metadata": {},
   "source": [
    "## Exercise 1: Queue using a Python list [ ]"
   ]
  },
  {
   "cell_type": "code",
   "execution_count": null,
   "metadata": {},
   "outputs": [],
   "source": [
    "# Write your solution here. "
   ]
  },
  {
   "cell_type": "markdown",
   "metadata": {},
   "source": [
    "## Exercise 2: Queue using a Numpy Array"
   ]
  },
  {
   "cell_type": "code",
   "execution_count": null,
   "metadata": {},
   "outputs": [],
   "source": [
    "# Write your solution here."
   ]
  },
  {
   "cell_type": "markdown",
   "metadata": {},
   "source": [
    "## Exercise 3: Queue using a Linked List (Linked Queue)"
   ]
  },
  {
   "cell_type": "code",
   "execution_count": null,
   "metadata": {},
   "outputs": [],
   "source": [
    "# Write your solution here."
   ]
  },
  {
   "cell_type": "markdown",
   "metadata": {},
   "source": [
    "## Exercise 4: Priority Queue"
   ]
  },
  {
   "cell_type": "code",
   "execution_count": null,
   "metadata": {},
   "outputs": [],
   "source": [
    "# Write your solution here."
   ]
  },
  {
   "cell_type": "markdown",
   "metadata": {},
   "source": [
    "## Exercise 5: Circular Queue for fixed sized data structures (Numpy Array)"
   ]
  },
  {
   "cell_type": "code",
   "execution_count": null,
   "metadata": {},
   "outputs": [],
   "source": [
    "# Write your solution here. "
   ]
  },
  {
   "cell_type": "markdown",
   "metadata": {},
   "source": [
    "# Scenario exercise - Model a Queue of people \n",
    "Queues are everywhere in our social world - humans need to queue to enter venues or get access to services! \n",
    "\n",
    "Start by modelling a call centre which handles incoming calls. Usually callers are put into a queue and told which position they are in. \n",
    "\n",
    "Start by creating a simple queue system where objects of a class (e.g. Person, or Contact) are added to the queue. \n",
    "\n",
    "Use random number generators to simulate the time it takes to be served,  \n",
    "\n",
    "Extension: in the case of larger capacity venues such as football matches or airport security, these require people to be filtered into multiple separate queues to ensure the crowd keep moving. So model a larger capacity data set (you can generate at random), and decide how many queues would be optimal to keep people moving, perhaps up to a fixed capacity. \n",
    "\n",
    "Remember that large capacity venues also halt queues periodically to give the people ahead the chance to be served. "
   ]
  },
  {
   "cell_type": "markdown",
   "metadata": {},
   "source": [
    "Extension: If you completed the 'Contacts' class from 04 Hashing, you could model/simulate a 'queue' of customers. \n",
    "* Think trying to phone an energy company!  \n",
    "* Generate some customer nodes and add them to a queue (enqueue them).\n",
    "* You could 'dequeue' customers after they have been served (you could simulate this by generating random lengths of conversation).\n",
    "* Track a given caller's position in the queue (and this should update regularly as customers ahead in the queue are served and exit the queue)."
   ]
  },
  {
   "cell_type": "code",
   "execution_count": null,
   "metadata": {},
   "outputs": [],
   "source": [
    "# Write your solution here."
   ]
  }
 ],
 "metadata": {
  "celltoolbar": "Slideshow",
  "kernelspec": {
   "display_name": "Python 3 (ipykernel)",
   "language": "python",
   "name": "python3"
  },
  "language_info": {
   "codemirror_mode": {
    "name": "ipython",
    "version": 3
   },
   "file_extension": ".py",
   "mimetype": "text/x-python",
   "name": "python",
   "nbconvert_exporter": "python",
   "pygments_lexer": "ipython3",
   "version": "3.9.12"
  },
  "vscode": {
   "interpreter": {
    "hash": "c24ecc2928a1df641fb89905a028e959d05eac4f79c1af53f0bb766b01409011"
   }
  }
 },
 "nbformat": 4,
 "nbformat_minor": 4
}
