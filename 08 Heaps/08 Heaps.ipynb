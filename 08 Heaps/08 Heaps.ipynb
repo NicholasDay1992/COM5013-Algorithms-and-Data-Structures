{
 "cells": [
  {
   "cell_type": "markdown",
   "metadata": {},
   "source": [
    "![pythonLogo.png](https://www.python.org/static/community_logos/python-powered-w-200x80.png)\n",
    "\n",
    "# 08 Heaps #\n"
   ]
  },
  {
   "cell_type": "markdown",
   "metadata": {},
   "source": [
    "## Recap on Stacks and Queues"
   ]
  },
  {
   "cell_type": "markdown",
   "metadata": {},
   "source": [
    "## Stacks are LIFO"
   ]
  },
  {
   "cell_type": "markdown",
   "metadata": {},
   "source": [
    "![stack.png](https://scaler.com/topics/images/working-of-stack-in-java.gif)"
   ]
  },
  {
   "cell_type": "markdown",
   "metadata": {},
   "source": [
    "## Queues are FIFO \n",
    "![queue.png](https://miro.medium.com/max/1196/1*PMYRFmVecFT61P4aAh0g1g.png)"
   ]
  },
  {
   "cell_type": "markdown",
   "metadata": {},
   "source": [
    "A heap is a specialized tree-based data structure that satisfies the heap property:\n",
    "\n",
    "* Max-Heap: In a max-heap, for any given node C, if P is a parent node of C, then the key (value) of P is greater than or equal to the key of C.\n",
    "\n",
    "* Min-Heap: In a min-heap, the key of P is less than or equal to the key of C.\n",
    "\n",
    "* Complete Binary Tree: Heaps are complete binary trees, meaning all levels are fully filled except possibly the last, which is filled from left to right.\n",
    "\n",
    "* Heap Property: Ensures that the highest (max-heap) or lowest (min-heap) key is always at the root.\n",
    "\n",
    "* Priority Queue: Tasks with higher priority are processed first.\n",
    "\n",
    "* Scheduling: Managing jobs based on their urgency or importance."
   ]
  },
  {
   "cell_type": "markdown",
   "metadata": {},
   "source": [
    "![min_max_heaps](https://miro.medium.com/v2/resize:fit:1316/format:webp/1*02r6G-ho8DPnfiaOIHA2OA.png)"
   ]
  },
  {
   "cell_type": "code",
   "execution_count": null,
   "metadata": {},
   "outputs": [],
   "source": []
  },
  {
   "cell_type": "markdown",
   "metadata": {},
   "source": [
    "![heapify](https://miro.medium.com/v2/resize:fit:1266/format:webp/1*IJDDOZOsFGLpf445qo1XKw.png)"
   ]
  },
  {
   "cell_type": "markdown",
   "metadata": {},
   "source": [
    "## Python's `heapq` library"
   ]
  },
  {
   "cell_type": "code",
   "execution_count": 10,
   "metadata": {},
   "outputs": [],
   "source": [
    "import heapq"
   ]
  },
  {
   "cell_type": "code",
   "execution_count": 11,
   "metadata": {},
   "outputs": [
    {
     "data": {
      "text/plain": [
       "['__about__',\n",
       " '__all__',\n",
       " '__builtins__',\n",
       " '__cached__',\n",
       " '__doc__',\n",
       " '__file__',\n",
       " '__loader__',\n",
       " '__name__',\n",
       " '__package__',\n",
       " '__spec__',\n",
       " '_heapify_max',\n",
       " '_heappop_max',\n",
       " '_heapreplace_max',\n",
       " '_siftdown',\n",
       " '_siftdown_max',\n",
       " '_siftup',\n",
       " '_siftup_max',\n",
       " 'heapify',\n",
       " 'heappop',\n",
       " 'heappush',\n",
       " 'heappushpop',\n",
       " 'heapreplace',\n",
       " 'merge',\n",
       " 'nlargest',\n",
       " 'nsmallest']"
      ]
     },
     "execution_count": 11,
     "metadata": {},
     "output_type": "execute_result"
    }
   ],
   "source": [
    "dir(heapq)"
   ]
  },
  {
   "cell_type": "markdown",
   "metadata": {},
   "source": [
    "## `heapify`"
   ]
  },
  {
   "cell_type": "code",
   "execution_count": 18,
   "metadata": {},
   "outputs": [
    {
     "name": "stdout",
     "output_type": "stream",
     "text": [
      "Heapified list: [2, 3, 6, 5, 9]\n"
     ]
    }
   ],
   "source": [
    "# Sample list\n",
    "data = [9, 5, 6, 2, 3]\n",
    "\n",
    "# Heapify the list\n",
    "heapq.heapify(data)\n",
    "print(\"Heapified list:\", data)  # Output: [2, 3, 6, 5, 9]\n"
   ]
  },
  {
   "cell_type": "markdown",
   "metadata": {},
   "source": [
    "## `heappush` and `heappop`"
   ]
  },
  {
   "cell_type": "code",
   "execution_count": 20,
   "metadata": {},
   "outputs": [
    {
     "name": "stdout",
     "output_type": "stream",
     "text": [
      "After pushing 1: [1, 3, 2, 5, 9, 6]\n",
      "Popped smallest element: 1\n",
      "Heap after pop: [2, 3, 6, 5, 9]\n"
     ]
    }
   ],
   "source": [
    "# Push a new element\n",
    "heapq.heappush(data, 1)\n",
    "print(\"After pushing 1:\", data)  # Output: [1, 2, 6, 5, 9, 3]\n",
    "\n",
    "# Pop the smallest element\n",
    "smallest = heapq.heappop(data)\n",
    "print(\"Popped smallest element:\", smallest)  # Output: 1\n",
    "print(\"Heap after pop:\", data)  # Output: [2, 3, 6, 5, 9]"
   ]
  },
  {
   "cell_type": "markdown",
   "metadata": {},
   "source": [
    "## max-heap"
   ]
  },
  {
   "cell_type": "code",
   "execution_count": null,
   "metadata": {},
   "outputs": [],
   "source": [
    "import heapq\n",
    "\n",
    "# Sample list\n",
    "data = [9, 5, 6, 2, 3]\n",
    "\n",
    "# Convert to max-heap by inverting the values\n",
    "max_heap = [-x for x in data]\n",
    "heapq.heapify(max_heap)\n",
    "print(\"Max-Heap (inverted):\", max_heap)  # Output: [-9, -5, -6, -2, -3]\n",
    "\n",
    "# Push a new element (inverted)\n",
    "heapq.heappush(max_heap, -10)\n",
    "print(\"After pushing -10:\", max_heap)  # Output: [-10, -5, -9, -2, -3, -6]\n",
    "\n",
    "# Pop the largest element\n",
    "largest = -heapq.heappop(max_heap)\n",
    "print(\"Popped largest element:\", largest)  # Output: 10\n",
    "print(\"Max-Heap after pop:\", max_heap)  # Output: [-9, -5, -6, -2, -3]"
   ]
  },
  {
   "cell_type": "markdown",
   "metadata": {},
   "source": [
    "## Creating a class for MaxHeap"
   ]
  },
  {
   "cell_type": "code",
   "execution_count": 2,
   "metadata": {},
   "outputs": [],
   "source": [
    "class MaxHeap:\n",
    "    def __init__(self):\n",
    "        self.heap = []\n",
    "\n",
    "    def insert(self, key):\n",
    "        self.heap.append(key)\n",
    "        self._heapify_up(len(self.heap) - 1)\n",
    "\n",
    "    def extract_max(self):\n",
    "        if not self.heap:\n",
    "            return None\n",
    "        max_val = self.heap[0]\n",
    "        # Move the last element to the root\n",
    "        self.heap[0] = self.heap.pop()\n",
    "        self._heapify_down(0)\n",
    "        return max_val\n",
    "\n",
    "    def _heapify_up(self, index):\n",
    "        parent = (index - 1) // 2\n",
    "        if index > 0 and self.heap[parent] < self.heap[index]:\n",
    "            # Swap\n",
    "            self.heap[parent], self.heap[index] = self.heap[index], self.heap[parent]\n",
    "            self._heapify_up(parent)\n",
    "\n",
    "    def _heapify_down(self, index):\n",
    "        largest = index\n",
    "        left = 2 * index + 1\n",
    "        right = 2 * index + 2\n",
    "\n",
    "        if left < len(self.heap) and self.heap[left] > self.heap[largest]:\n",
    "            largest = left\n",
    "\n",
    "        if right < len(self.heap) and self.heap[right] > self.heap[largest]:\n",
    "            largest = right\n",
    "\n",
    "        if largest != index:\n",
    "            # Swap\n",
    "            self.heap[largest], self.heap[index] = self.heap[index], self.heap[largest]\n",
    "            self._heapify_down(largest)\n",
    "\n",
    "    def peek_max(self):\n",
    "        return self.heap[0] if self.heap else None\n",
    "\n",
    "    def __str__(self):\n",
    "        return str(self.heap)"
   ]
  },
  {
   "cell_type": "code",
   "execution_count": 3,
   "metadata": {},
   "outputs": [
    {
     "name": "stdout",
     "output_type": "stream",
     "text": [
      "Inserted 3: Heap = [3]\n",
      "Inserted 1: Heap = [3, 1]\n",
      "Inserted 6: Heap = [6, 1, 3]\n",
      "Inserted 5: Heap = [6, 5, 3, 1]\n",
      "Inserted 2: Heap = [6, 5, 3, 1, 2]\n",
      "Inserted 4: Heap = [6, 5, 4, 1, 2, 3]\n",
      "Max element: 6\n",
      "Heap after extraction: [5, 3, 4, 1, 2]\n"
     ]
    }
   ],
   "source": [
    "# Example Usage\n",
    "if __name__ == \"__main__\":\n",
    "    mh = MaxHeap()\n",
    "    elements = [3, 1, 6, 5, 2, 4]\n",
    "    for elem in elements:\n",
    "        mh.insert(elem)\n",
    "        print(f\"Inserted {elem}: Heap = {mh}\")\n",
    "\n",
    "    print(f\"Max element: {mh.extract_max()}\")\n",
    "    print(f\"Heap after extraction: {mh}\")"
   ]
  },
  {
   "cell_type": "markdown",
   "metadata": {},
   "source": [
    "## Heap Sort"
   ]
  },
  {
   "cell_type": "code",
   "execution_count": 5,
   "metadata": {},
   "outputs": [
    {
     "name": "stdout",
     "output_type": "stream",
     "text": [
      "Sorted Data: [1, 1, 2, 3, 4, 5, 5, 6, 9]\n"
     ]
    }
   ],
   "source": [
    "import heapq\n",
    "\n",
    "def heap_sort(iterable):\n",
    "    h = []\n",
    "    for value in iterable:\n",
    "        heapq.heappush(h, value)\n",
    "    sorted_list = []\n",
    "    while h:\n",
    "        sorted_list.append(heapq.heappop(h))\n",
    "    return sorted_list\n",
    "\n",
    "data = [3, 1, 4, 1, 5, 9, 2, 6, 5]\n",
    "sorted_data = heap_sort(data)\n",
    "print(\"Sorted Data:\", sorted_data)"
   ]
  },
  {
   "cell_type": "markdown",
   "metadata": {},
   "source": [
    "## Finding the K largest or smallest elements"
   ]
  },
  {
   "cell_type": "code",
   "execution_count": 6,
   "metadata": {},
   "outputs": [
    {
     "name": "stdout",
     "output_type": "stream",
     "text": [
      "Top 3 Largest Elements: [9, 6, 5]\n"
     ]
    }
   ],
   "source": [
    "import heapq\n",
    "\n",
    "data = [3, 1, 4, 1, 5, 9, 2, 6, 5]\n",
    "top_3 = heapq.nlargest(3, data)\n",
    "print(\"Top 3 Largest Elements:\", top_3)"
   ]
  },
  {
   "cell_type": "code",
   "execution_count": 9,
   "metadata": {},
   "outputs": [
    {
     "name": "stdout",
     "output_type": "stream",
     "text": [
      "Top 3 Smallest: [1, 1, 2]\n"
     ]
    }
   ],
   "source": [
    "import heapq\n",
    "\n",
    "data = [3, 1, 4, 1, 5, 9, 2, 6, 5]\n",
    "top_3 = heapq.nsmallest(3, data)\n",
    "print(\"Top 3 Smallest:\", top_3)"
   ]
  },
  {
   "cell_type": "markdown",
   "metadata": {},
   "source": [
    "## Exercise: Apply Heap Sort to large data sets\n",
    "\n",
    "Extension: What is the time complexity for heap sort? How does this compare to the time complexity of other sorting algorithms?"
   ]
  },
  {
   "cell_type": "code",
   "execution_count": null,
   "metadata": {},
   "outputs": [],
   "source": []
  },
  {
   "cell_type": "markdown",
   "metadata": {},
   "source": [
    "## Exercise: Implement a Priority Queue using a Heap"
   ]
  },
  {
   "cell_type": "code",
   "execution_count": null,
   "metadata": {},
   "outputs": [],
   "source": []
  },
  {
   "cell_type": "markdown",
   "metadata": {},
   "source": [
    "## Scenario Exercise: Task Scheduler\n"
   ]
  },
  {
   "cell_type": "code",
   "execution_count": 13,
   "metadata": {},
   "outputs": [
    {
     "name": "stdout",
     "output_type": "stream",
     "text": [
      "Processing task: Pay bills with priority 1\n",
      "Processing task: Submit assignment with priority 2\n",
      "Processing task: Read a book with priority 3\n",
      "Processing task: Clean the house with priority 4\n"
     ]
    }
   ],
   "source": [
    "import heapq\n",
    "\n",
    "tasks = []\n",
    "# (priority, task_name)\n",
    "heapq.heappush(tasks, (4, 'Clean the house'))\n",
    "heapq.heappush(tasks, (1, 'Pay bills'))\n",
    "heapq.heappush(tasks, (3, 'Read a book'))\n",
    "heapq.heappush(tasks, (2, \"Submit assignment\"))\n",
    "\n",
    "while tasks:\n",
    "    priority, task = heapq.heappop(tasks)\n",
    "    print(f\"Processing task: {task} with priority {priority}\")"
   ]
  },
  {
   "cell_type": "markdown",
   "metadata": {},
   "source": [
    "## Visualising a heap via `networkx`"
   ]
  },
  {
   "cell_type": "markdown",
   "metadata": {},
   "source": [
    "\n",
    "`pip install networkx matplotlib`  \n",
    "  `python3 -m pip install -U networkx matplotlib --user`"
   ]
  },
  {
   "cell_type": "code",
   "execution_count": 16,
   "metadata": {},
   "outputs": [
    {
     "data": {
      "image/png": "[encoded data removed]",
      "text/plain": [
       "<Figure size 800x600 with 1 Axes>"
      ]
     },
     "metadata": {},
     "output_type": "display_data"
    }
   ],
   "source": [
    "import networkx as nx\n",
    "import matplotlib.pyplot as plt\n",
    "import math\n",
    "\n",
    "def build_binary_heap_graph(heap):\n",
    "    \"\"\"\n",
    "    Constructs a binary heap graph from a list of heap elements.\n",
    "    \n",
    "    Parameters:\n",
    "    - heap (list): The list representing the heap.\n",
    "    \n",
    "    Returns:\n",
    "    - G (networkx.DiGraph): The constructed directed graph representing the heap.\n",
    "    \"\"\"\n",
    "    G = nx.DiGraph()\n",
    "    n = len(heap)\n",
    "    for i in range(n):\n",
    "        G.add_node(i, label=heap[i])\n",
    "        left = 2 * i + 1\n",
    "        right = 2 * i + 2\n",
    "        if left < n:\n",
    "            G.add_edge(i, left)\n",
    "        if right < n:\n",
    "            G.add_edge(i, right)\n",
    "    return G\n",
    "\n",
    "def assign_levels(heap):\n",
    "    \"\"\"\n",
    "    Assigns a level to each node in the heap based on its index.\n",
    "    \n",
    "    Parameters:\n",
    "    - heap (list): The list representing the heap.\n",
    "    \n",
    "    Returns:\n",
    "    - levels (dict): A dictionary mapping node indices to their levels.\n",
    "    \"\"\"\n",
    "    levels = {}\n",
    "    for i in range(len(heap)):\n",
    "        levels[i] = math.floor(math.log2(i + 1))\n",
    "    return levels\n",
    "\n",
    "def visualize_heap(G, levels, heap, title=\"Binary Heap Visualization\"):\n",
    "    \"\"\"\n",
    "    Visualizes the binary heap using NetworkX and Matplotlib.\n",
    "    \n",
    "    Parameters:\n",
    "    - G (networkx.DiGraph): The heap graph.\n",
    "    - levels (dict): Node index to level mapping.\n",
    "    - heap (list): The list representing the heap.\n",
    "    - title (str): The title of the plot.\n",
    "    \"\"\"\n",
    "    # Assign 'subset' attribute to each node based on its level\n",
    "    for node in G.nodes():\n",
    "        G.nodes[node]['subset'] = levels[node]\n",
    "    \n",
    "    # Use multipartite_layout with the 'subset' attribute\n",
    "    pos = nx.multipartite_layout(G, subset_key='subset')\n",
    "    labels = nx.get_node_attributes(G, 'label')\n",
    "\n",
    "    plt.figure(figsize=(8,6))\n",
    "    nx.draw(\n",
    "        G, pos, \n",
    "        with_labels=True, \n",
    "        labels=labels, \n",
    "        node_size=2000, \n",
    "        node_color='lightblue', \n",
    "        font_size=12, \n",
    "        font_weight='bold'\n",
    "    )\n",
    "    plt.title(title)\n",
    "    plt.show()\n",
    "\n",
    "# Example binary heap (max-heap)\n",
    "heap = [20, 15, 18, 8, 10, 16]\n",
    "\n",
    "# Build the graph\n",
    "G = build_binary_heap_graph(heap)\n",
    "\n",
    "# Assign levels to each node\n",
    "levels = assign_levels(heap)\n",
    "\n",
    "# Visualize the heap\n",
    "visualize_heap(G, levels, heap, title=\"Binary Max-Heap Visualization\")"
   ]
  },
  {
   "cell_type": "markdown",
   "metadata": {},
   "source": [
    "# Min-Heap and Max-Heap"
   ]
  },
  {
   "cell_type": "markdown",
   "metadata": {},
   "source": [
    "# Heap Sort"
   ]
  },
  {
   "cell_type": "markdown",
   "metadata": {},
   "source": [
    "# heapq function"
   ]
  },
  {
   "cell_type": "code",
   "execution_count": null,
   "metadata": {},
   "outputs": [],
   "source": []
  },
  {
   "cell_type": "markdown",
   "metadata": {},
   "source": [
    "# Enqueue - Add items to a queue"
   ]
  },
  {
   "cell_type": "code",
   "execution_count": 2,
   "metadata": {},
   "outputs": [
    {
     "name": "stdout",
     "output_type": "stream",
     "text": [
      "Adding all the fluffy kitties to the queue!\n"
     ]
    }
   ],
   "source": [
    "\n",
    "class Node:\n",
    "  def __init__(self, value, next_node=None):\n",
    "    self.value = value\n",
    "    self.next_node = next_node\n",
    "    \n",
    "  def get_value(self):\n",
    "    return self.value\n",
    "  \n",
    "  def get_next_node(self):\n",
    "    return self.next_node\n",
    "  \n",
    "  def set_next_node(self, next_node):\n",
    "    self.next_node = next_node\n",
    "    \n",
    "\n",
    "class Queue:\n",
    "  def __init__(self, max_size=None):\n",
    "    self.head = None\n",
    "    self.tail = None\n",
    "    self.max_size = max_size\n",
    "    self.size = 0\n",
    "    \n",
    "  # Add your enqueue method below:\n",
    "  def enqueue(self, value):\n",
    "    if self.has_space():\n",
    "      item_to_add = Node(value)\n",
    "      print(\"Adding \" + str(item_to_add.get_value()) + \" to the queue!\")\n",
    "      if self.is_empty():\n",
    "        self.head = item_to_add\n",
    "        self.tail = item_to_add\n",
    "      else:\n",
    "        self.tail.set_next_node(item_to_add)\n",
    "        self.tail = item_to_add\n",
    "      self.size += 1\n",
    "    else:\n",
    "      print(\"Sorry, no more room!\")\n",
    "    \n",
    "  def peek(self):\n",
    "    if self.is_empty():\n",
    "      print(\"Nothing to see here!\")\n",
    "    else:\n",
    "      return self.head.get_value()\n",
    "  \n",
    "  def get_size(self):\n",
    "    return self.size\n",
    "  \n",
    "  def has_space(self):\n",
    "    if self.max_size == None:\n",
    "      return True\n",
    "    else:\n",
    "      return self.max_size > self.get_size()\n",
    "    \n",
    "  def is_empty(self):\n",
    "    return self.size == 0\n",
    "\n",
    "q = Queue()\n",
    "q.enqueue(\"all the fluffy kitties\")"
   ]
  },
  {
   "cell_type": "markdown",
   "metadata": {},
   "source": [
    "# Dequeue - removal from the Queue"
   ]
  },
  {
   "cell_type": "code",
   "execution_count": 3,
   "metadata": {},
   "outputs": [
    {
     "name": "stdout",
     "output_type": "stream",
     "text": [
      "Adding some guy with a mustache to the queue!\n",
      "Removing some guy with a mustache from the queue!\n"
     ]
    },
    {
     "data": {
      "text/plain": [
       "'some guy with a mustache'"
      ]
     },
     "execution_count": 3,
     "metadata": {},
     "output_type": "execute_result"
    }
   ],
   "source": [
    "class Node:\n",
    "  def __init__(self, value, next_node=None):\n",
    "    self.value = value\n",
    "    self.next_node = next_node\n",
    "    \n",
    "  def get_value(self):\n",
    "    return self.value\n",
    "  \n",
    "  def get_next_node(self):\n",
    "    return self.next_node\n",
    "  \n",
    "  def set_next_node(self, next_node):\n",
    "    self.next_node = next_node\n",
    "\n",
    "class Queue:\n",
    "  def __init__(self, max_size=None):\n",
    "    self.head = None\n",
    "    self.tail = None\n",
    "    self.max_size = max_size\n",
    "    self.size = 0\n",
    "    \n",
    "  def enqueue(self, value):\n",
    "    if self.has_space():\n",
    "      item_to_add = Node(value)\n",
    "      print(\"Adding \" + str(item_to_add.get_value()) + \" to the queue!\")\n",
    "      if self.is_empty():\n",
    "        self.head = item_to_add\n",
    "        self.tail = item_to_add\n",
    "      else:\n",
    "        self.tail.set_next_node(item_to_add)\n",
    "        self.tail = item_to_add\n",
    "      self.size += 1\n",
    "    else:\n",
    "      print(\"Sorry, no more room!\")\n",
    "      \n",
    "  # Add your dequeue method below:    \n",
    "  def dequeue(self):\n",
    "    if self.get_size() > 0:\n",
    "      item_to_remove = self.head\n",
    "      print(\"Removing \" + str(item_to_remove.get_value()) + \" from the queue!\")\n",
    "      if self.get_size() == 1:\n",
    "        self.head = None\n",
    "        self.tail = None\n",
    "      else:\n",
    "        self.head = self.head.get_next_node()\n",
    "      self.size -= 1\n",
    "      return item_to_remove.get_value()\n",
    "    else:\n",
    "      print(\"This queue is totally empty!\")\n",
    "  \n",
    "  def peek(self):\n",
    "    if self.is_empty():\n",
    "      print(\"Nothing to see here!\")\n",
    "    else:\n",
    "      return self.head.get_value()\n",
    "  \n",
    "  def get_size(self):\n",
    "    return self.size\n",
    "  \n",
    "  def has_space(self):\n",
    "    if self.max_size == None:\n",
    "      return True\n",
    "    else:\n",
    "      return self.max_size > self.get_size()\n",
    "    \n",
    "  def is_empty(self):\n",
    "    return self.size == 0\n",
    "\n",
    "q = Queue()\n",
    "q.enqueue(\"some guy with a mustache\")\n",
    "q.dequeue()\n"
   ]
  },
  {
   "cell_type": "markdown",
   "metadata": {},
   "source": [
    "# Queue example"
   ]
  },
  {
   "cell_type": "code",
   "execution_count": 2,
   "metadata": {},
   "outputs": [
    {
     "name": "stdout",
     "output_type": "stream",
     "text": [
      "Creating a deli line with up to 10 orders...\n",
      "------------\n",
      "Adding orders to our deli line...\n",
      "------------\n",
      "Adding egg and cheese on a roll to the queue!\n",
      "Adding bacon, egg, and cheese on a roll to the queue!\n",
      "Adding toasted sesame bagel with butter and jelly to the queue!\n",
      "Adding toasted roll with butter to the queue!\n",
      "Adding bacon, egg, and cheese on a plain bagel to the queue!\n",
      "Adding two fried eggs with home fries and ketchup to the queue!\n",
      "Adding egg and cheese on a roll with jalapeos to the queue!\n",
      "Adding plain bagel with plain cream cheese to the queue!\n",
      "Adding blueberry muffin toasted with butter to the queue!\n",
      "Adding bacon, egg, and cheese on a roll to the queue!\n",
      "Sorry, no more room!\n",
      "------------\n",
      "Our first order will be egg and cheese on a roll\n",
      "------------\n",
      "Now serving...\n",
      "------------\n",
      "egg and cheese on a roll is served!\n",
      "bacon, egg, and cheese on a roll is served!\n",
      "toasted sesame bagel with butter and jelly is served!\n",
      "toasted roll with butter is served!\n",
      "bacon, egg, and cheese on a plain bagel is served!\n",
      "two fried eggs with home fries and ketchup is served!\n",
      "egg and cheese on a roll with jalapeos is served!\n",
      "plain bagel with plain cream cheese is served!\n",
      "blueberry muffin toasted with butter is served!\n",
      "bacon, egg, and cheese on a roll is served!\n",
      "The queue is totally empty!\n"
     ]
    }
   ],
   "source": [
    "class Node:\n",
    "  def __init__(self, value, next_node=None):\n",
    "    self.value = value\n",
    "    self.next_node = next_node\n",
    "    \n",
    "  def get_value(self):\n",
    "    return self.value\n",
    "  \n",
    "  def get_next_node(self):\n",
    "    return self.next_node\n",
    "  \n",
    "  def set_next_node(self, next_node):\n",
    "    self.next_node = next_node\n",
    "\n",
    "class Queue:\n",
    "  def __init__(self, max_size=None):\n",
    "    self.head = None\n",
    "    self.tail = None\n",
    "    self.max_size = max_size\n",
    "    self.size = 0\n",
    "    \n",
    "  def enqueue(self, value):\n",
    "    if self.has_space():\n",
    "      item_to_add = Node(value)\n",
    "      print(\"Adding \" + str(item_to_add.get_value()) + \" to the queue!\")\n",
    "      if self.is_empty():\n",
    "        self.head = item_to_add\n",
    "        self.tail = item_to_add\n",
    "      else:\n",
    "        self.tail.set_next_node(item_to_add)\n",
    "        self.tail = item_to_add\n",
    "      self.size += 1\n",
    "    else:\n",
    "      print(\"Sorry, no more room!\")\n",
    "         \n",
    "  def dequeue(self):\n",
    "    if self.get_size() > 0:\n",
    "      item_to_remove = self.head\n",
    "      print(str(item_to_remove.get_value()) + \" is served!\")\n",
    "      if self.get_size() == 1:\n",
    "        self.head = None\n",
    "        self.tail = None\n",
    "      else:\n",
    "        self.head = self.head.get_next_node()\n",
    "      self.size -= 1\n",
    "      return item_to_remove.get_value()\n",
    "    else:\n",
    "      print(\"The queue is totally empty!\")\n",
    "  \n",
    "  def peek(self):\n",
    "    if self.is_empty():\n",
    "      print(\"Nothing to see here!\")\n",
    "    else:\n",
    "      return self.head.get_value()\n",
    "  \n",
    "  def get_size(self):\n",
    "    return self.size\n",
    "  \n",
    "  def has_space(self):\n",
    "    if self.max_size == None:\n",
    "      return True\n",
    "    else:\n",
    "      return self.max_size > self.get_size()\n",
    "    \n",
    "  def is_empty(self):\n",
    "    return self.size == 0\n",
    "\n",
    "print(\"Creating a deli line with up to 10 orders...\\n------------\")\n",
    "deli_line = Queue(10)\n",
    "print(\"Adding orders to our deli line...\\n------------\")\n",
    "deli_line.enqueue(\"egg and cheese on a roll\")\n",
    "deli_line.enqueue(\"bacon, egg, and cheese on a roll\")\n",
    "deli_line.enqueue(\"toasted sesame bagel with butter and jelly\")\n",
    "deli_line.enqueue(\"toasted roll with butter\")\n",
    "deli_line.enqueue(\"bacon, egg, and cheese on a plain bagel\")\n",
    "deli_line.enqueue(\"two fried eggs with home fries and ketchup\")\n",
    "deli_line.enqueue(\"egg and cheese on a roll with jalapeos\")\n",
    "deli_line.enqueue(\"plain bagel with plain cream cheese\")\n",
    "deli_line.enqueue(\"blueberry muffin toasted with butter\")\n",
    "deli_line.enqueue(\"bacon, egg, and cheese on a roll\")\n",
    "# ------------------------ #\n",
    "# Uncomment the line below:\n",
    "deli_line.enqueue(\"western omelet with home fries\")\n",
    "# ------------------------ #\n",
    "print(\"------------\\nOur first order will be \" + deli_line.peek())\n",
    "print(\"------------\\nNow serving...\\n------------\")\n",
    "deli_line.dequeue()\n",
    "deli_line.dequeue()\n",
    "deli_line.dequeue()\n",
    "deli_line.dequeue()\n",
    "deli_line.dequeue()\n",
    "deli_line.dequeue()\n",
    "deli_line.dequeue()\n",
    "deli_line.dequeue()\n",
    "deli_line.dequeue()\n",
    "deli_line.dequeue()\n",
    "# ------------------------ #\n",
    "# Uncomment the line below:\n",
    "deli_line.dequeue()\n",
    "# ------------------------ #"
   ]
  },
  {
   "cell_type": "markdown",
   "metadata": {
    "slideshow": {
     "slide_type": "slide"
    }
   },
   "source": [
    "## Exercise\n",
    "\n",
    "Insert a 'code' cell below. In this do the following:\n",
    "\n",
    "- 1 - Instantiate the Queue class - check that you can successfully insert (enqueue), and remove (dequeue) items. Also check the order of the removal (dequeue). Is the First In First Out principle implemented correctly.\n",
    "- 2 - Now do the same for the Queue - create a LinkedQueue class that will be a queue of separate linkedlist objects. Each object is a linkedlist, and can enqueued and dequeued as any other object would.\n",
    "\n",
    "C++ EXERCISES to ADAPT\n",
    "\n",
    "/*\n",
    "* Exercise 3: Create a Queue that uses an Array \n",
    "* Using an integer array, complete the class outline below to be able to 'enqueue' and 'dequeue' integer values. \n",
    "* The enqueue function should add data to the 'rear' of the queue. \n",
    "* The dequeue function should remove data to the 'front' of the queue.\n",
    "*  \n",
    "* Extension 1: Add front and rear 'pointers' so fixed size arrays can be treated as 'circular queue'.\n",
    "* Extension 2: Add code to the 'enqueue' function so items are sorted via 'priority'.   \n",
    "*/\n",
    "\n",
    "/*\n",
    "* Exercise 4: Linked Queue \n",
    "* Now amend your Queue class and its logic to work a linked list of nodes/links (pointers to objects of any class)\n",
    "* You may want to make this a template class so it can handle pointers to objects of any class structure. \n",
    "* \n",
    "* Extension: If you completed the 'Contacts' class from 04 Hashing, you could model/simulate a 'queue' of customers. \n",
    "*            (Think trying to phone an energy company!)  \n",
    "*            Generate some customer nodes and add them to a queue (enqueue them).\n",
    "*            You could 'dequeue' customers after they have been served (you could simulate this by generating random lengths of conversation).\n",
    "*            Track a given caller's position in the queue (and this should update regularly as customers ahead in the queue are served and exit the queue).\n",
    "*/\n",
    "\n"
   ]
  },
  {
   "cell_type": "markdown",
   "metadata": {},
   "source": [
    "## Exercise 1: Queue using a Python list [ ]"
   ]
  },
  {
   "cell_type": "code",
   "execution_count": null,
   "metadata": {},
   "outputs": [],
   "source": [
    "# Write your solution here. "
   ]
  },
  {
   "cell_type": "markdown",
   "metadata": {},
   "source": [
    "## Exercise 2: Queue using a Numpy Array"
   ]
  },
  {
   "cell_type": "code",
   "execution_count": null,
   "metadata": {},
   "outputs": [],
   "source": [
    "# Write your solution here."
   ]
  },
  {
   "cell_type": "markdown",
   "metadata": {},
   "source": [
    "## Exercise 3: Queue using a Linked List (Linked Queue)"
   ]
  },
  {
   "cell_type": "code",
   "execution_count": null,
   "metadata": {},
   "outputs": [],
   "source": [
    "# Write your solution here."
   ]
  },
  {
   "cell_type": "markdown",
   "metadata": {},
   "source": [
    "## Exercise 4: Priority Queue"
   ]
  },
  {
   "cell_type": "code",
   "execution_count": null,
   "metadata": {},
   "outputs": [],
   "source": [
    "# Write your solution here."
   ]
  },
  {
   "cell_type": "markdown",
   "metadata": {},
   "source": [
    "## Exercise 5: Circular Queue for fixed sized data structures (Numpy Array)"
   ]
  },
  {
   "cell_type": "code",
   "execution_count": null,
   "metadata": {},
   "outputs": [],
   "source": [
    "# Write your solution here. "
   ]
  },
  {
   "cell_type": "markdown",
   "metadata": {},
   "source": [
    "# Scenario exercise - Model a Queue of people \n",
    "Queues are everywhere in our social world - humans need to queue to enter venues or get access to services! \n",
    "\n",
    "Start by modelling a call centre which handles incoming calls. Usually callers are put into a queue and told which position they are in. \n",
    "\n",
    "Start by creating a simple queue system where objects of a class (e.g. Person, or Contact) are added to the queue. \n",
    "\n",
    "Use random number generators to simulate the time it takes to be served,  \n",
    "\n",
    "Extension: in the case of larger capacity venues such as football matches or airport security, these require people to be filtered into multiple separate queues to ensure the crowd keep moving. So model a larger capacity data set (you can generate at random), and decide how many queues would be optimal to keep people moving, perhaps up to a fixed capacity. \n",
    "\n",
    "Remember that large capacity venues also halt queues periodically to give the people ahead the chance to be served. "
   ]
  },
  {
   "cell_type": "markdown",
   "metadata": {},
   "source": [
    "Extension: If you completed the 'Contacts' class from 04 Hashing, you could model/simulate a 'queue' of customers. \n",
    "* Think trying to phone an energy company!  \n",
    "* Generate some customer nodes and add them to a queue (enqueue them).\n",
    "* You could 'dequeue' customers after they have been served (you could simulate this by generating random lengths of conversation).\n",
    "* Track a given caller's position in the queue (and this should update regularly as customers ahead in the queue are served and exit the queue)."
   ]
  },
  {
   "cell_type": "code",
   "execution_count": null,
   "metadata": {},
   "outputs": [],
   "source": [
    "# Write your solution here."
   ]
  }
 ],
 "metadata": {
  "celltoolbar": "Slideshow",
  "kernelspec": {
   "display_name": "Python 3 (ipykernel)",
   "language": "python",
   "name": "python3"
  },
  "language_info": {
   "codemirror_mode": {
    "name": "ipython",
    "version": 3
   },
   "file_extension": ".py",
   "mimetype": "text/x-python",
   "name": "python",
   "nbconvert_exporter": "python",
   "pygments_lexer": "ipython3",
   "version": "3.9.6"
  },
  "vscode": {
   "interpreter": {
    "hash": "c24ecc2928a1df641fb89905a028e959d05eac4f79c1af53f0bb766b01409011"
   }
  }
 },
 "nbformat": 4,
 "nbformat_minor": 4
}
