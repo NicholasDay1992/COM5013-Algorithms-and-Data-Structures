{
 "cells": [
  {
   "cell_type": "markdown",
   "metadata": {},
   "source": [
    "<!-- ![pythonLogo.png](https://www.python.org/static/community_logos/python-powered-w-200x80.png) -->\n",
    "\n",
    "# 08 Heaps \n"
   ]
  },
  {
   "cell_type": "markdown",
   "metadata": {},
   "source": [
    "## Plan for the lecture \n",
    "\n",
    "* Recap on Stacks and Queues\n",
    "\n",
    "* Heaps as a Binary Tree\n",
    "\n",
    "* Heapify and Heap Sort\n",
    "\n",
    "* PriorityQueue using a Heap"
   ]
  },
  {
   "cell_type": "markdown",
   "metadata": {},
   "source": [
    "## Recap on Stacks and Queues"
   ]
  },
  {
   "cell_type": "markdown",
   "metadata": {},
   "source": [
    "## Stacks are LIFO\n",
    "\n",
    "* attribute: `top` pointer \n",
    "\n",
    "* add (`push`) to the top of the stack (last in)\n",
    "\n",
    "* remove (`pop`) from the top of the stack (first out)"
   ]
  },
  {
   "cell_type": "markdown",
   "metadata": {},
   "source": [
    "<img src=\"https://scaler.com/topics/images/working-of-stack-in-java.gif\" alt=\"stack_gif\" width=\"650\"> "
   ]
  },
  {
   "cell_type": "markdown",
   "metadata": {},
   "source": [
    "## Queues are FIFO \n",
    "\n",
    "* attributes: `front` and `back`\n",
    "\n",
    "* join (`enqueue`) the back of the queue (first in)\n",
    "\n",
    "* served / removed (`dequeue`) from the front of the queue (first out)\n",
    "\n",
    "<img src=\"https://www.scaler.com/topics/images/working-of-java-queue.gif\" alt=\"stack_gif\" width=\"650\">  "
   ]
  },
  {
   "cell_type": "markdown",
   "metadata": {},
   "source": [
    "## Stack and Heap as stores of memory \n",
    "\n",
    "<b>Stack</b>:\n",
    "\n",
    "When a program is instructed to execute a function via a function call, a new item, a so-called stack frame, is created and pushed onto the stack for that function call. The stack frame contains:\n",
    "\n",
    "* Local function variables.\n",
    "\n",
    "* Parameters passed to the function.\n",
    "\n",
    "* The return address that tells the program where to continue executing once the function completes.\n",
    "\n",
    "* Other administrative details, such as the base pointer of the previous frame.\n",
    "\n",
    "When the function finishes execution, the stack frame is popped off, and the system hands over the control to the return address specified in the frame.\n",
    "\n",
    "<img src=\"https://unicminds.com/wp-content/uploads/2022/09/StackvsHeap-Expalined-for-Kids.png\" alt=\"stack_heap\" width=\"650\"> "
   ]
  },
  {
   "cell_type": "markdown",
   "metadata": {},
   "source": [
    "## Stacks for memory management in programs\n",
    "\n",
    "Stack advantages: \n",
    "\n",
    "* <b>Fast Allocation/Deallocation</b>. Allocating and deallocating memory on the stack is fast and accomplished by simply adjusting the stack pointer value. The stack pointer is moved up to allocate and down to deallocate space (some systems may apply the opposite down/up convention).\n",
    "* <b>Automatic Memory Management</b>. Memory space on the stack is managed automatically. Space for local variables is automatically allocated when a function is called and deallocated when a function exits.\n",
    "* <b>No Fragmentation</b>. Memory allocation is sequential and consistent, eliminating memory fragmentation and ensuring the efficient use of free space.\n",
    "* <b>Predictable Lifespan</b>. Variables on the stack exist only for the duration of the function or scope they are in. This predictability makes code easier to write and read.\n",
    "\n",
    "\n",
    "Stack disadvantages: \n",
    "\n",
    "* <b>Limited Size</b>. Stack memory is limited in size, and once it is exhausted, it results in a stack overflow, causing the program to crash. This makes the stack unsuitable for storing large amounts of data.\n",
    "* <b>Limited Access</b>. The Last in First Out (LIFO) principle of the stack means that standard operations primarily interact with the top of the stack. Direct random access to other locations in the stack beyond current scope boundaries can lead to errors.\n",
    "* <b>No Resizing</b>. The stack does not allow memory block resizing once they are allocated. For instance, if you allocate too little memory for an array on the stack, it cannot be resized like with dynamically allocated memory.\n"
   ]
  },
  {
   "cell_type": "markdown",
   "metadata": {},
   "source": [
    "<img src=\"https://phoenixnap.com/kb/wp-content/uploads/2023/09/stack-memory-function-calls.png\" alt=\"stack_mem\" width=\"650\"> \n",
    "\n",
    "https://phoenixnap.com/kb/stack-vs-heap"
   ]
  },
  {
   "cell_type": "markdown",
   "metadata": {},
   "source": [
    "## So what is a heap?\n",
    "\n",
    "* A heap is a region of computer memory used for dynamic memory allocation. \n",
    "\n",
    "* In the heap, variables require explicit creation and deletion. For example, C and C++ developers use functions and operators like `malloc()`, `free()`, `new`, or `delete` to allocate and deallocate memory.\n",
    "\n",
    "Heap is typically used:\n",
    "\n",
    "* When the memory requirement for a data structure, such as an array or object, is unknown until runtime.\n",
    "\n",
    "* To store data that should persist beyond the lifespan of a single function call.\n",
    "\n",
    "* When there is a possibility that allocated memory might need resizing in the future.\n",
    "\n",
    "<img src=\"https://phoenixnap.com/kb/wp-content/uploads/2023/09/heap-memory-objects-array.png\" alt=\"heap_mem\" width=\"650\"> \n",
    "\n",
    "https://phoenixnap.com/kb/stack-vs-heap\n"
   ]
  },
  {
   "cell_type": "markdown",
   "metadata": {},
   "source": [
    "\n",
    "Heap advantages:\n",
    "\n",
    "* <b>Dynamic Allocation</b>. Programs can allocate memory at runtime based on their needs, resulting in more efficient memory use. \n",
    "* <b>Variable Lifetime</b>. Objects allocated on the heap persist until they are explicitly deallocated or the program ends. They can outlive the function call that created them, which is especially useful for data that needs to persist across multiple function calls or even for the duration of the program.\n",
    "* <b>Large Memory Pool</b>. The heap provides a much larger memory pool than the stack. It is suitable for allocating larger data structures or ones that might grow, like arrays or lists.\n",
    "* <b>Globally Accessible</b>. Heap memory is globally accessible, meaning it can be accessed and modified by any part of the code and is not bound by the call stack. Sharing data across different parts of a program or even between threads is a clear benefit.\n",
    "* <b>Support for Complex Structures</b>. Heap memory can build and manage complex data structures like trees, graphs, and linked lists, which might require frequent and dynamic memory allocations and deallocations.\n",
    "\n",
    "Heap disadvantages: \n",
    "\n",
    "* <b>Hands-on Memory Management</b>. Heap memory requires explicit management. Developers must manually allocate and deallocate memory, which can introduce potential errors and consume additional resources.\n",
    "* <b>Memory Leaks</b>. If the memory is not deallocated after it serves its function, it may result in memory leaks. This means the program consumes memory, eventually leading to out-of-memory errors, especially in long-running applications.\n",
    "* <b>Fragmentation</b>. Memory on the heap is allocated and deallocated dynamically. This can lead to scattered, unused memory blocks (external fragmentation) or small wasted spaces within the allocated blocks (internal fragmentation).\n",
    "* <b>Slower Access</b>. Accessing variables on the heap is generally slower than accessing variables on the stack.\n",
    "* <b>Dangling Pointers</b>. Pointers referencing deallocated memory locations can become dangling pointers. Accessing or modifying data through such pointers can lead to undefined behavior."
   ]
  },
  {
   "cell_type": "markdown",
   "metadata": {},
   "source": [
    "<img src=\"https://cdn-images-1.medium.com/max/1024/0*1JqU8aiqRnpFUlLI\" alt=\"mem_management\" width=\"650\"> \n",
    "\n",
    "https://www.elli.eco/en/about-elli/news/newsroom/elli-engineering/catch-me-if-you-canmemory-leaks "
   ]
  },
  {
   "cell_type": "markdown",
   "metadata": {},
   "source": [
    "## Heaps as an Array and a Binary Tree\n",
    "\n",
    "* Heaps are an implementation of a priority queue - as an array.\n",
    "\n",
    "* However, the arrangement of the elements in this array can be visualised as a Binary Tree \n",
    "\n",
    "* A Binary Tree will have a maximum of two children. Children are added layer by layer, left to right. \n",
    "\n",
    "* A Complete Binary Tree is when each parent of a given level has exactly two children.\n",
    "\n"
   ]
  },
  {
   "cell_type": "markdown",
   "metadata": {},
   "source": [
    "![heapify](https://miro.medium.com/v2/resize:fit:1266/format:webp/1*IJDDOZOsFGLpf445qo1XKw.png)"
   ]
  },
  {
   "cell_type": "markdown",
   "metadata": {},
   "source": [
    "## Heap Properities:\n",
    "\n",
    "* root of tree = first element (i = 0) \n",
    "\n",
    "* parent(i) = `floor(i-1)/2`\n",
    "\n",
    "* left(i) = `(2 * i) + 1`\n",
    "\n",
    "* right(i) = `(2 * i) + 2`"
   ]
  },
  {
   "cell_type": "code",
   "execution_count": 20,
   "metadata": {},
   "outputs": [
    {
     "data": {
      "text/plain": [
       "[5, 11, 9]"
      ]
     },
     "execution_count": 20,
     "metadata": {},
     "output_type": "execute_result"
    }
   ],
   "source": [
    "arr = [5, 11, 9]\n",
    "arr"
   ]
  },
  {
   "cell_type": "markdown",
   "metadata": {},
   "source": [
    "As a Binary Tree: \n",
    "\n",
    "```\n",
    "    5\n",
    "   / \\\n",
    " 11   9\n",
    "```"
   ]
  },
  {
   "cell_type": "code",
   "execution_count": 21,
   "metadata": {},
   "outputs": [
    {
     "data": {
      "text/plain": [
       "[18, 4, 6, 23, 12, 18, 17]"
      ]
     },
     "execution_count": 21,
     "metadata": {},
     "output_type": "execute_result"
    }
   ],
   "source": [
    "arr = [8, 4, 6, 23, 12, 18, 17]\n",
    "arr"
   ]
  },
  {
   "cell_type": "markdown",
   "metadata": {},
   "source": [
    "As a Binary Tree: \n",
    "\n",
    "```\n",
    "        8\n",
    "      /   \\\n",
    "    4      6\n",
    "  /  \\    /  \\\n",
    "23   12  18  17  \n",
    "```"
   ]
  },
  {
   "cell_type": "markdown",
   "metadata": {},
   "source": [
    "## Max-Heap and Min-Heap \n",
    "\n",
    "* Heaps can be sorted, and are commonly ordered as a `min-heap` where the lowest value is the root, or a `max-heap` where the largest value is the root. \n",
    "\n",
    "* Therefore, `min-heaps` and `max-heaps` will help us to locate the lowest and highest values efficiently. \n",
    "\n",
    "* Heaps can therefore be applied in path finding algorithms (e.g. Dijkstra's algorithm), as well as other applications such as a priority queue and task schedulers, where rank order is important.\n",
    "\n",
    "![min_max_heaps](https://miro.medium.com/v2/resize:fit:1316/format:webp/1*02r6G-ho8DPnfiaOIHA2OA.png)"
   ]
  },
  {
   "cell_type": "markdown",
   "metadata": {},
   "source": [
    "## Heap as a Tree\n",
    "\n",
    "* See below that both the min-heap and the max-heap do not store the items in order of highest to lowest / lowest to highest \n",
    "\n",
    "* Instead there is a patten in which they are stored: \n",
    "\n",
    "* Parent of node at index i: `floor((i - 1) / 2)`\n",
    "\n",
    "* Left child of node at index i: `2 * i + 1`\n",
    "\n",
    "* Right child of node at index i: `2 * i + 2`\n",
    "\n"
   ]
  },
  {
   "cell_type": "markdown",
   "metadata": {},
   "source": [
    "![heapify](https://miro.medium.com/v2/resize:fit:1266/format:webp/1*IJDDOZOsFGLpf445qo1XKw.png)"
   ]
  },
  {
   "cell_type": "markdown",
   "metadata": {},
   "source": [
    "## Identifying layers of a `max-heap` in an array: \n",
    "\n",
    "* Important to note that a max-heap and min-heaps are NOT a Binary Search Tree (BST).\n",
    "\n",
    "* They are <b>Binary Trees</b> - all levels are fully filled except possibly the last, which is filled from left to right \n",
    "\n",
    "* Describe the ordering property for both min-heaps and max-heaps, emphasizing that the order only applies between parents and direct children (not across all nodes).\n",
    "\n",
    "<img src=\"https://www.baeldung.com/wp-content/uploads/sites/4/2023/02/max-heap-layered.png\" alt=\"heap_as_BinaryTree\" width=\"850\"> \n"
   ]
  },
  {
   "cell_type": "markdown",
   "metadata": {},
   "source": [
    "<img src=\"https://www.baeldung.com/wp-content/uploads/sites/4/2023/02/max-heap-array.png\" alt=\"heap_as_array\" width=\"850\"> "
   ]
  },
  {
   "cell_type": "markdown",
   "metadata": {},
   "source": [
    "## Adhering to the Heap properties\n",
    "\n",
    "* Parent of node at index i: `floor((i - 1) / 2)`\n",
    "\n",
    "* Left child of node at index i: `2 * i + 1`\n",
    "\n",
    "* Right child of node at index i: `2 * i + 2`"
   ]
  },
  {
   "cell_type": "code",
   "execution_count": 3,
   "metadata": {},
   "outputs": [
    {
     "data": {
      "text/plain": [
       "[31, 28, 25, 21, 23, 21, 15, 7, 5, 20, 15, 10]"
      ]
     },
     "execution_count": 3,
     "metadata": {},
     "output_type": "execute_result"
    }
   ],
   "source": [
    "arr = [31, 28, 25, 21, 23, 21, 15, 7, 5, 20, 15, 10]\n",
    "arr"
   ]
  },
  {
   "cell_type": "markdown",
   "metadata": {},
   "source": [
    "* Of the array above, let's demonstrate this formula. \n",
    "\n",
    "* Let's start with position 5, which is value 21"
   ]
  },
  {
   "cell_type": "code",
   "execution_count": 4,
   "metadata": {},
   "outputs": [
    {
     "data": {
      "text/plain": [
       "21"
      ]
     },
     "execution_count": 4,
     "metadata": {},
     "output_type": "execute_result"
    }
   ],
   "source": [
    "i = 5  # 21\n",
    "arr[5]"
   ]
  },
  {
   "cell_type": "markdown",
   "metadata": {},
   "source": [
    "Aiming to find the left value of 5 by applying the following left formula: \n",
    "\n",
    "* `2 * i + 1`\n"
   ]
  },
  {
   "cell_type": "code",
   "execution_count": 5,
   "metadata": {},
   "outputs": [
    {
     "data": {
      "text/plain": [
       "11"
      ]
     },
     "execution_count": 5,
     "metadata": {},
     "output_type": "execute_result"
    }
   ],
   "source": [
    "(2 * i) + 1"
   ]
  },
  {
   "cell_type": "markdown",
   "metadata": {},
   "source": [
    "Let's look at position 11 to see if it is the left hand child of position 5 (21)"
   ]
  },
  {
   "cell_type": "code",
   "execution_count": 6,
   "metadata": {},
   "outputs": [
    {
     "data": {
      "text/plain": [
       "10"
      ]
     },
     "execution_count": 6,
     "metadata": {},
     "output_type": "execute_result"
    }
   ],
   "source": [
    "arr[11]  # 10"
   ]
  },
  {
   "cell_type": "markdown",
   "metadata": {},
   "source": [
    "<img src=\"https://www.baeldung.com/wp-content/uploads/sites/4/2023/02/max-heap-layered.png\" alt=\"heap_as_BinaryTree\" width=\"850\"> "
   ]
  },
  {
   "cell_type": "markdown",
   "metadata": {},
   "source": [
    "Nice! 10 is the left hand child of 21. \n",
    "\n",
    "Now, let's check the parent of value 21 (position 5 in the array)"
   ]
  },
  {
   "cell_type": "code",
   "execution_count": 11,
   "metadata": {},
   "outputs": [
    {
     "data": {
      "text/plain": [
       "[31, 28, 25, 21, 23, 21, 15, 7, 5, 20, 15, 10]"
      ]
     },
     "execution_count": 11,
     "metadata": {},
     "output_type": "execute_result"
    }
   ],
   "source": [
    "arr"
   ]
  },
  {
   "cell_type": "code",
   "execution_count": 12,
   "metadata": {},
   "outputs": [],
   "source": [
    "i = 5 "
   ]
  },
  {
   "cell_type": "markdown",
   "metadata": {},
   "source": [
    "* Parent of node at index i: `floor((i - 1) / 2)`"
   ]
  },
  {
   "cell_type": "code",
   "execution_count": 14,
   "metadata": {},
   "outputs": [
    {
     "data": {
      "text/plain": [
       "2"
      ]
     },
     "execution_count": 14,
     "metadata": {},
     "output_type": "execute_result"
    }
   ],
   "source": [
    "(i - 1) // 2 # gives us position 2, which should be 25"
   ]
  },
  {
   "cell_type": "code",
   "execution_count": 3,
   "metadata": {},
   "outputs": [
    {
     "data": {
      "text/plain": [
       "25"
      ]
     },
     "execution_count": 3,
     "metadata": {},
     "output_type": "execute_result"
    }
   ],
   "source": [
    "arr[2] # position 2 = value 25"
   ]
  },
  {
   "cell_type": "markdown",
   "metadata": {},
   "source": [
    "Nice! We found the parent of node 21"
   ]
  },
  {
   "cell_type": "markdown",
   "metadata": {},
   "source": [
    "## Heaps can be used to identify min and max values efficiently\n",
    "\n",
    "* If you have a stream of values coming in, and at any given time you may be asked to process the maximum or minimum value, then a heap is what you want. \n",
    "\n",
    "* A <b>max-heap</b> is used to extract and process the maximum; \n",
    "\n",
    "* A <b>min-heap</b> is used to extract and process the minimum.\n"
   ]
  },
  {
   "cell_type": "code",
   "execution_count": 16,
   "metadata": {},
   "outputs": [
    {
     "data": {
      "text/plain": [
       "[31, 28, 25, 21, 23, 21, 15, 7, 5, 20, 15, 10]"
      ]
     },
     "execution_count": 16,
     "metadata": {},
     "output_type": "execute_result"
    }
   ],
   "source": [
    "arr"
   ]
  },
  {
   "cell_type": "code",
   "execution_count": 4,
   "metadata": {},
   "outputs": [
    {
     "data": {
      "text/plain": [
       "31"
      ]
     },
     "execution_count": 4,
     "metadata": {},
     "output_type": "execute_result"
    }
   ],
   "source": [
    "max(arr)"
   ]
  },
  {
   "cell_type": "code",
   "execution_count": 19,
   "metadata": {},
   "outputs": [
    {
     "data": {
      "text/plain": [
       "31"
      ]
     },
     "execution_count": 19,
     "metadata": {},
     "output_type": "execute_result"
    }
   ],
   "source": [
    "arr[0]"
   ]
  },
  {
   "cell_type": "markdown",
   "metadata": {},
   "source": [
    "An `extract_max()` would run in $O(1)$ for a max-heap as the max should be at the head of the list"
   ]
  },
  {
   "cell_type": "markdown",
   "metadata": {},
   "source": [
    "## Heap Sort\n",
    "\n",
    "* The Heap sort algorithm was invented by J.W.J Williams in 1964.\n",
    "\n",
    "* Heap Sort is a selection-based sorting algorithm that:\n",
    "\n",
    "    1. <b>first builds a heap from the input data</b>\n",
    "    2. <b>repeatedly extracts the maximum (or minimum) element from the heap to build the sorted list</b>. \n",
    "    It can be implemented as either a max-heap or a min-heap.\n",
    "\n",
    "* Can be performed on an array in $O(n$ $log$ $n)$ time\n",
    "\n",
    "* The below heap sort will first build max-heap, and then sort in chronological order.\n",
    "\n",
    "![heap_sort_gif](https://upload.wikimedia.org/wikipedia/commons/4/4d/Heapsort-example.gif)"
   ]
  },
  {
   "cell_type": "code",
   "execution_count": 7,
   "metadata": {},
   "outputs": [],
   "source": [
    "def heapify(arr, n, i):\n",
    "    largest = i         # Initialize largest as root\n",
    "    left = 2 * i + 1    # Left child index\n",
    "    right = 2 * i + 2   # Right child index\n",
    "\n",
    "    # Check if left child exists and is greater than root\n",
    "    if left < n and arr[left] > arr[largest]:\n",
    "        largest = left\n",
    "\n",
    "    # Check if right child exists and is greater than the current largest\n",
    "    if right < n and arr[right] > arr[largest]:\n",
    "        largest = right\n",
    "\n",
    "    # If the largest is not the root\n",
    "    if largest != i:\n",
    "        arr[i], arr[largest] = arr[largest], arr[i]  # Swap\n",
    "        heapify(arr, n, largest)  # Recursively heapify the affected subtree\n"
   ]
  },
  {
   "cell_type": "code",
   "execution_count": 9,
   "metadata": {},
   "outputs": [],
   "source": [
    "def heap_sort(arr):\n",
    "    n = len(arr)\n",
    "\n",
    "    # Step 1: Build a max heap\n",
    "    for i in range(n // 2 - 1, -1, -1):  # Start from last non-leaf node\n",
    "        heapify(arr, n, i)\n",
    "    \n",
    "    print(\"Heapified:\", arr)\n",
    "    \n",
    "    # Step 2: Extract elements from heap one by one\n",
    "    for i in range(n - 1, 0, -1):\n",
    "        arr[i], arr[0] = arr[0], arr[i]  # Swap current root to end\n",
    "        heapify(arr, i, 0)  # Heapify root for the reduced heap"
   ]
  },
  {
   "cell_type": "code",
   "execution_count": 10,
   "metadata": {},
   "outputs": [
    {
     "name": "stdout",
     "output_type": "stream",
     "text": [
      "Unsorted: [15, 12, 11, 17, 13, 5, 6, 7]\n",
      "Heapified: [17, 15, 11, 12, 13, 5, 6, 7]\n",
      "Sorted array: [5, 6, 7, 11, 12, 13, 15, 17]\n"
     ]
    }
   ],
   "source": [
    "arr = [15, 12, 11, 17, 13, 5, 6, 7] # unordered array\n",
    "\n",
    "print(\"Unsorted:\", arr)\n",
    "\n",
    "heap_sort(arr)\n",
    "\n",
    "print(\"Sorted array:\", arr)"
   ]
  },
  {
   "cell_type": "markdown",
   "metadata": {},
   "source": [
    "## Inserting new items into a heap\n",
    "\n",
    "* Insert Operation: $O(log$ $n)$ due to the `_sift_up()` process that traverses the height of the heap, which is $O(log$ $n)$  for a complete binary tree."
   ]
  },
  {
   "cell_type": "code",
   "execution_count": 11,
   "metadata": {},
   "outputs": [],
   "source": [
    "class MinHeap:\n",
    "    def __init__(self):\n",
    "        self.heap = []  # Using a list to store heap elements\n",
    "\n",
    "    def insert(self, value):\n",
    "        # Add the new value to the end of the heap (list)\n",
    "        self.heap.append(value)\n",
    "        # Sift up to maintain heap property\n",
    "        self._sift_up(len(self.heap) - 1)\n",
    "\n",
    "    def _sift_up(self, index):\n",
    "        # Move the element at 'index' up to its correct position\n",
    "        parent_index = (index - 1) // 2  # Parent node index\n",
    "\n",
    "        # Continue until the element is at the root or the parent is smaller\n",
    "        while index > 0 and self.heap[index] < self.heap[parent_index]:\n",
    "            # Swap if the current element is smaller than the parent\n",
    "            self.heap[index], self.heap[parent_index] = self.heap[parent_index], self.heap[index]\n",
    "            index = parent_index  # Update the index to the parent's position\n",
    "            parent_index = (index - 1) // 2  # Update parent index\n",
    "\n",
    "    def get_min(self):\n",
    "        # Returns the minimum element (root of the heap)\n",
    "        if self.heap:\n",
    "            return self.heap[0]\n",
    "        return None\n"
   ]
  },
  {
   "cell_type": "code",
   "execution_count": 12,
   "metadata": {},
   "outputs": [
    {
     "name": "stdout",
     "output_type": "stream",
     "text": [
      "Heap array: [3, 6, 15, 10]\n",
      "Minimum element: 3\n"
     ]
    }
   ],
   "source": [
    "min_heap = MinHeap()\n",
    "min_heap.insert(10)\n",
    "min_heap.insert(3)\n",
    "min_heap.insert(15)\n",
    "min_heap.insert(6)\n",
    "\n",
    "print(\"Heap array:\", min_heap.heap)  # This should maintain the min-heap order\n",
    "print(\"Minimum element:\", min_heap.get_min())  # Should print 3, the smallest element"
   ]
  },
  {
   "cell_type": "markdown",
   "metadata": {},
   "source": [
    "## Python's `heapq` library"
   ]
  },
  {
   "cell_type": "code",
   "execution_count": 13,
   "metadata": {},
   "outputs": [],
   "source": [
    "import heapq"
   ]
  },
  {
   "cell_type": "code",
   "execution_count": 14,
   "metadata": {},
   "outputs": [
    {
     "data": {
      "text/plain": [
       "['__about__',\n",
       " '__all__',\n",
       " '__builtins__',\n",
       " '__cached__',\n",
       " '__doc__',\n",
       " '__file__',\n",
       " '__loader__',\n",
       " '__name__',\n",
       " '__package__',\n",
       " '__spec__',\n",
       " '_heapify_max',\n",
       " '_heappop_max',\n",
       " '_heapreplace_max',\n",
       " '_siftdown',\n",
       " '_siftdown_max',\n",
       " '_siftup',\n",
       " '_siftup_max',\n",
       " 'heapify',\n",
       " 'heappop',\n",
       " 'heappush',\n",
       " 'heappushpop',\n",
       " 'heapreplace',\n",
       " 'merge',\n",
       " 'nlargest',\n",
       " 'nsmallest']"
      ]
     },
     "execution_count": 14,
     "metadata": {},
     "output_type": "execute_result"
    }
   ],
   "source": [
    "dir(heapq)"
   ]
  },
  {
   "cell_type": "markdown",
   "metadata": {},
   "source": [
    "## Visualisation of a heap: \n",
    "\n",
    "https://www.cs.usfca.edu/~galles/visualization/Heap.html\n",
    "\n",
    "http://www.cs.tufts.edu/r/redline/heapviz/"
   ]
  },
  {
   "cell_type": "markdown",
   "metadata": {},
   "source": [
    "## `heapify` - `min-heap` by default\n",
    "\n",
    "* Heapify is a common function, in Python, included in the library `heapq` and is a way to create a `min-heap` from an unsorted data structure (e.g. an array or a list)\n",
    "\n",
    "* Heapify is the modified version of `heap sort` technique (which we'll see later in this notebook). \n",
    "\n",
    "* Here we will sort via smallest to largest\n",
    "\n"
   ]
  },
  {
   "cell_type": "code",
   "execution_count": 15,
   "metadata": {},
   "outputs": [
    {
     "name": "stdout",
     "output_type": "stream",
     "text": [
      "Heapified list: [2, 3, 6, 5, 9]\n"
     ]
    }
   ],
   "source": [
    "# Sample list\n",
    "data = [9, 5, 6, 2, 3]\n",
    "\n",
    "# Heapify the list\n",
    "heapq.heapify(data)\n",
    "print(\"Heapified list:\", data)  # Output: [2, 3, 6, 5, 9]\n"
   ]
  },
  {
   "cell_type": "code",
   "execution_count": 16,
   "metadata": {},
   "outputs": [
    {
     "name": "stdout",
     "output_type": "stream",
     "text": [
      "Heapified list: [1, 1, 2, 2, 7, 7, 5, 9]\n"
     ]
    }
   ],
   "source": [
    "data = [2, 7, 1, 9, 1, 7, 5, 2]\n",
    "heapq.heapify(data)\n",
    "print(\"Heapified list:\", data)\n"
   ]
  },
  {
   "cell_type": "markdown",
   "metadata": {},
   "source": [
    "## `heapify` to create a `max-heap`\n",
    "\n",
    "* If we wanted to create a max-heap, we could convert the numbers from positive to negative.\n",
    "\n",
    "* This would 'mirror' the view of the numbers - giving us largest to smallest\n",
    "\n",
    "* We just need to remember to cast back to positive once sorted!\n",
    "\n",
    "![heapify_gif](https://media2.dev.to/dynamic/image/width=1000,height=420,fit=cover,gravity=auto,format=auto/https%3A%2F%2Fdev-to-uploads.s3.amazonaws.com%2Fuploads%2Farticles%2Fdpy879r83nua30a2ntgf.gif)"
   ]
  },
  {
   "cell_type": "code",
   "execution_count": 17,
   "metadata": {},
   "outputs": [
    {
     "data": {
      "text/plain": [
       "[-9, -5, -6, -2, -3]"
      ]
     },
     "execution_count": 17,
     "metadata": {},
     "output_type": "execute_result"
    }
   ],
   "source": [
    "import heapq\n",
    "\n",
    "numbers = [9, 5, 6, 2, 3]\n",
    "# Convert to negative to simulate a max-heap\n",
    "numbers = [-num for num in numbers]\n",
    "heapq.heapify(numbers)\n",
    "\n",
    "numbers\n"
   ]
  },
  {
   "cell_type": "code",
   "execution_count": 18,
   "metadata": {},
   "outputs": [
    {
     "data": {
      "text/plain": [
       "[9, 5, 6, 2, 3]"
      ]
     },
     "execution_count": 18,
     "metadata": {},
     "output_type": "execute_result"
    }
   ],
   "source": [
    "numbers = [-num for num in numbers]\n",
    "numbers"
   ]
  },
  {
   "cell_type": "markdown",
   "metadata": {},
   "source": [
    "## `heappush` and `heappop`\n",
    "\n",
    "* Remember `push` and `pop` from stack terminology?"
   ]
  },
  {
   "cell_type": "code",
   "execution_count": 19,
   "metadata": {},
   "outputs": [
    {
     "name": "stdout",
     "output_type": "stream",
     "text": [
      "After pushing 1: [1, 1, 2, 1, 7, 7, 5, 9, 2]\n",
      "Popped smallest element: 1\n",
      "Heap after pop: [1, 1, 2, 2, 7, 7, 5, 9]\n"
     ]
    }
   ],
   "source": [
    "# Push a new element\n",
    "heapq.heappush(data, 1)\n",
    "print(\"After pushing 1:\", data)  # Output: [1, 2, 6, 5, 9, 3]\n",
    "\n",
    "# Pop the smallest element\n",
    "smallest = heapq.heappop(data)\n",
    "print(\"Popped smallest element:\", smallest)  # Output: 1\n",
    "print(\"Heap after pop:\", data)  # Output: [2, 3, 6, 5, 9]"
   ]
  },
  {
   "cell_type": "markdown",
   "metadata": {},
   "source": [
    "## Finding the K largest or smallest elements"
   ]
  },
  {
   "cell_type": "code",
   "execution_count": 24,
   "metadata": {},
   "outputs": [
    {
     "name": "stdout",
     "output_type": "stream",
     "text": [
      "heap: [3, 1, 4, 1, 5, 9, 2, 6, 5]\n",
      "Top 3 Largest Elements: [9, 6, 5]\n"
     ]
    }
   ],
   "source": [
    "import heapq\n",
    "\n",
    "data = [3, 1, 4, 1, 5, 9, 2, 6, 5]\n",
    "top_3 = heapq.nlargest(3, data)\n",
    "\n",
    "print(\"heap:\", data) \n",
    "print(\"Top 3 Largest Elements:\", top_3)"
   ]
  },
  {
   "cell_type": "code",
   "execution_count": 25,
   "metadata": {},
   "outputs": [
    {
     "name": "stdout",
     "output_type": "stream",
     "text": [
      "heap: [3, 1, 4, 1, 5, 9, 2, 6, 5]\n",
      "Top 3 Smallest: [1, 1, 2]\n"
     ]
    }
   ],
   "source": [
    "import heapq\n",
    "\n",
    "data = [3, 1, 4, 1, 5, 9, 2, 6, 5]\n",
    "top_3 = heapq.nsmallest(3, data)\n",
    "print(\"heap:\", data) \n",
    "print(\"Top 3 Smallest:\", top_3)"
   ]
  },
  {
   "cell_type": "markdown",
   "metadata": {},
   "source": [
    "## Creating a class for MaxHeap"
   ]
  },
  {
   "cell_type": "code",
   "execution_count": 26,
   "metadata": {},
   "outputs": [],
   "source": [
    "class MaxHeap:\n",
    "    def __init__(self):\n",
    "        self.heap = []\n",
    "\n",
    "    def insert(self, key):\n",
    "        self.heap.append(key)\n",
    "        self._heapify_up(len(self.heap) - 1)\n",
    "\n",
    "    def extract_max(self):\n",
    "        if not self.heap:\n",
    "            return None\n",
    "        max_val = self.heap[0]\n",
    "        # Move the last element to the root\n",
    "        self.heap[0] = self.heap.pop()\n",
    "        self._heapify_down(0)\n",
    "        return max_val\n",
    "\n",
    "    def _heapify_up(self, index):\n",
    "        parent = (index - 1) // 2\n",
    "        if index > 0 and self.heap[parent] < self.heap[index]:\n",
    "            # Swap\n",
    "            self.heap[parent], self.heap[index] = self.heap[index], self.heap[parent]\n",
    "            self._heapify_up(parent)\n",
    "\n",
    "    def _heapify_down(self, index):\n",
    "        largest = index\n",
    "        left = 2 * index + 1\n",
    "        right = 2 * index + 2\n",
    "\n",
    "        if left < len(self.heap) and self.heap[left] > self.heap[largest]:\n",
    "            largest = left\n",
    "\n",
    "        if right < len(self.heap) and self.heap[right] > self.heap[largest]:\n",
    "            largest = right\n",
    "\n",
    "        if largest != index:\n",
    "            # Swap\n",
    "            self.heap[largest], self.heap[index] = self.heap[index], self.heap[largest]\n",
    "            self._heapify_down(largest)\n",
    "\n",
    "    def peek_max(self):\n",
    "        return self.heap[0] if self.heap else None\n",
    "\n",
    "    def __str__(self):\n",
    "        return str(self.heap)"
   ]
  },
  {
   "cell_type": "code",
   "execution_count": 27,
   "metadata": {},
   "outputs": [
    {
     "name": "stdout",
     "output_type": "stream",
     "text": [
      "Inserted 3: Heap = [3]\n",
      "Inserted 1: Heap = [3, 1]\n",
      "Inserted 6: Heap = [6, 1, 3]\n",
      "Inserted 5: Heap = [6, 5, 3, 1]\n",
      "Inserted 2: Heap = [6, 5, 3, 1, 2]\n",
      "Inserted 4: Heap = [6, 5, 4, 1, 2, 3]\n",
      "Max element: 6\n",
      "Heap after extraction: [5, 3, 4, 1, 2]\n"
     ]
    }
   ],
   "source": [
    "# Example Usage\n",
    "if __name__ == \"__main__\":\n",
    "    mh = MaxHeap()\n",
    "    elements = [3, 1, 6, 5, 2, 4]\n",
    "    for elem in elements:\n",
    "        mh.insert(elem)\n",
    "        print(f\"Inserted {elem}: Heap = {mh}\")\n",
    "\n",
    "    print(f\"Max element: {mh.extract_max()}\")\n",
    "    print(f\"Heap after extraction: {mh}\")"
   ]
  },
  {
   "cell_type": "markdown",
   "metadata": {},
   "source": [
    "## Heap Sort with `heapq`\n",
    "\n",
    "* Remember our heap sort algorithm above? \n",
    "\n",
    "* Let's now amend it to use `heapq's` functions\n",
    "\n",
    "* $O(n$ $log$ $n)$\n",
    "\n",
    "![heap_sort_gif](https://upload.wikimedia.org/wikipedia/commons/4/4d/Heapsort-example.gif)"
   ]
  },
  {
   "cell_type": "code",
   "execution_count": 28,
   "metadata": {},
   "outputs": [
    {
     "name": "stdout",
     "output_type": "stream",
     "text": [
      "Sorted Data: [1, 1, 2, 3, 4, 5, 5, 6, 9]\n"
     ]
    }
   ],
   "source": [
    "import heapq\n",
    "\n",
    "def heap_sort(iterable):\n",
    "    h = []\n",
    "    for value in iterable:\n",
    "        heapq.heappush(h, value)\n",
    "    sorted_list = []\n",
    "    while h:\n",
    "        sorted_list.append(heapq.heappop(h))\n",
    "    return sorted_list\n",
    "\n",
    "data = [3, 1, 4, 1, 5, 9, 2, 6, 5]\n",
    "sorted_data = heap_sort(data)\n",
    "print(\"Sorted Data:\", sorted_data)"
   ]
  },
  {
   "cell_type": "code",
   "execution_count": 29,
   "metadata": {},
   "outputs": [
    {
     "name": "stdout",
     "output_type": "stream",
     "text": [
      "Original Data: [3, 1, 6, 5, 2, 4]\n",
      "Building the max heap...\n"
     ]
    },
    {
     "data": {
      "image/png": "[encoded data removed]",
      "text/plain": [
       "<Figure size 800x600 with 1 Axes>"
      ]
     },
     "metadata": {},
     "output_type": "display_data"
    },
    {
     "name": "stdout",
     "output_type": "stream",
     "text": [
      "Swapping root 6 with element 3...\n"
     ]
    },
    {
     "data": {
      "image/png": "[encoded data removed]",
      "text/plain": [
       "<Figure size 800x600 with 1 Axes>"
      ]
     },
     "metadata": {},
     "output_type": "display_data"
    },
    {
     "name": "stdout",
     "output_type": "stream",
     "text": [
      "Swapping root 5 with element 2...\n"
     ]
    },
    {
     "data": {
      "image/png": "[encoded data removed]",
      "text/plain": [
       "<Figure size 800x600 with 1 Axes>"
      ]
     },
     "metadata": {},
     "output_type": "display_data"
    },
    {
     "name": "stdout",
     "output_type": "stream",
     "text": [
      "Swapping root 4 with element 1...\n"
     ]
    },
    {
     "data": {
      "image/png": "[encoded data removed]",
      "text/plain": [
       "<Figure size 800x600 with 1 Axes>"
      ]
     },
     "metadata": {},
     "output_type": "display_data"
    },
    {
     "name": "stdout",
     "output_type": "stream",
     "text": [
      "Swapping root 3 with element 2...\n"
     ]
    },
    {
     "data": {
      "image/png": "[encoded data removed]",
      "text/plain": [
       "<Figure size 800x600 with 1 Axes>"
      ]
     },
     "metadata": {},
     "output_type": "display_data"
    },
    {
     "name": "stdout",
     "output_type": "stream",
     "text": [
      "Swapping root 2 with element 1...\n"
     ]
    },
    {
     "data": {
      "image/png": "[encoded data removed]",
      "text/plain": [
       "<Figure size 800x600 with 1 Axes>"
      ]
     },
     "metadata": {},
     "output_type": "display_data"
    },
    {
     "name": "stdout",
     "output_type": "stream",
     "text": [
      "Heap Sort Completed.\n",
      "Sorted Array: [1, 2, 3, 4, 5, 6]\n"
     ]
    }
   ],
   "source": [
    "import networkx as nx\n",
    "import matplotlib.pyplot as plt\n",
    "import math\n",
    "\n",
    "def build_binary_heap_graph(heap):\n",
    "    \"\"\"\n",
    "    Constructs a binary heap graph from a list of heap elements.\n",
    "    \n",
    "    Parameters:\n",
    "    - heap (list): The list representing the heap.\n",
    "    \n",
    "    Returns:\n",
    "    - G (networkx.DiGraph): The constructed directed graph representing the heap.\n",
    "    \"\"\"\n",
    "    G = nx.DiGraph()\n",
    "    n = len(heap)\n",
    "    for i in range(n):\n",
    "        G.add_node(i, label=heap[i])\n",
    "        left = 2 * i + 1\n",
    "        right = 2 * i + 2\n",
    "        if left < n:\n",
    "            G.add_edge(i, left)\n",
    "        if right < n:\n",
    "            G.add_edge(i, right)\n",
    "    return G\n",
    "\n",
    "def assign_levels(heap):\n",
    "    \"\"\"\n",
    "    Assigns a level to each node in the heap based on its index.\n",
    "    \n",
    "    Parameters:\n",
    "    - heap (list): The list representing the heap.\n",
    "    \n",
    "    Returns:\n",
    "    - levels (dict): A dictionary mapping node indices to their levels.\n",
    "    \"\"\"\n",
    "    levels = {}\n",
    "    for i in range(len(heap)):\n",
    "        levels[i] = math.floor(math.log2(i + 1))\n",
    "    return levels\n",
    "\n",
    "def visualize_heap(G, levels, heap, title=\"Heap Visualization\"):\n",
    "    \"\"\"\n",
    "    Visualizes the binary heap using NetworkX and Matplotlib with the root at the top.\n",
    "    \n",
    "    Parameters:\n",
    "    - G (networkx.DiGraph): The heap graph.\n",
    "    - levels (dict): Node index to level mapping.\n",
    "    - heap (list): The list representing the heap.\n",
    "    - title (str): The title of the plot.\n",
    "    \"\"\"\n",
    "    # Assign 'subset' attribute to each node based on its level\n",
    "    for node in G.nodes():\n",
    "        G.nodes[node]['subset'] = levels[node]\n",
    "    \n",
    "    # Use multipartite_layout with the 'subset' attribute\n",
    "    pos = nx.multipartite_layout(G, subset_key='subset')\n",
    "    \n",
    "    # Flip the y-coordinates to have the root at the top\n",
    "    for node in pos:\n",
    "        pos[node][1] = -pos[node][1]\n",
    "    \n",
    "    labels = nx.get_node_attributes(G, 'label')\n",
    "\n",
    "    plt.figure(figsize=(8,6))\n",
    "    nx.draw(\n",
    "        G, pos, \n",
    "        with_labels=True, \n",
    "        labels=labels, \n",
    "        node_size=2000, \n",
    "        node_color='lightblue', \n",
    "        font_size=12, \n",
    "        font_weight='bold'\n",
    "    )\n",
    "    plt.title(title)\n",
    "    plt.axis('off')  # Hide the axes for better visual appeal\n",
    "    plt.show()\n",
    "\n",
    "def heapify(arr, n, i, steps=[]):\n",
    "    \"\"\"\n",
    "    Maintains the max-heap property for a subtree rooted at index i and records steps for visualization.\n",
    "    \n",
    "    Parameters:\n",
    "    - arr (list): The list representing the heap.\n",
    "    - n (int): Size of the heap.\n",
    "    - i (int): Root index of the subtree.\n",
    "    - steps (list): Accumulates steps for visualization.\n",
    "    \n",
    "    Returns:\n",
    "    - None: The heap is modified in-place.\n",
    "    \"\"\"\n",
    "    largest = i         # Initialize largest as root\n",
    "    left = 2 * i + 1    # Left child index\n",
    "    right = 2 * i + 2   # Right child index\n",
    "\n",
    "    # See if left child exists and is greater than root\n",
    "    if left < n and arr[left] > arr[largest]:\n",
    "        largest = left\n",
    "\n",
    "    # See if right child exists and is greater than current largest\n",
    "    if right < n and arr[right] > arr[largest]:\n",
    "        largest = right\n",
    "\n",
    "    # Change root if needed\n",
    "    if largest != i:\n",
    "        arr[i], arr[largest] = arr[largest], arr[i]  # Swap\n",
    "        steps.append(arr.copy())  # Record the step after swap\n",
    "        # Heapify the root again to ensure it's a max-heap\n",
    "        heapify(arr, n, largest, steps)\n",
    "\n",
    "def heap_sort_visualized(arr):\n",
    "    \"\"\"\n",
    "    Sorts a list in ascending order using Heap Sort and visualizes each step.\n",
    "    \n",
    "    Parameters:\n",
    "    - arr (list): The list of elements to sort.\n",
    "    \n",
    "    Returns:\n",
    "    - None: The list is sorted in-place with visualizations.\n",
    "    \"\"\"\n",
    "    n = len(arr)\n",
    "    steps = []\n",
    "\n",
    "    print(\"Building the max heap...\")\n",
    "    # Build a max-heap\n",
    "    for i in range(n // 2 - 1, -1, -1):\n",
    "        heapify(arr, n, i, steps)\n",
    "\n",
    "    # Visualize the initial max-heap\n",
    "    G = build_binary_heap_graph(arr)\n",
    "    levels = assign_levels(arr)\n",
    "    visualize_heap(G, levels, arr, title=\"Initial Max-Heap\")\n",
    "\n",
    "    # Extract elements from the heap one by one\n",
    "    for i in range(n - 1, 0, -1):\n",
    "        print(f\"Swapping root {arr[0]} with element {arr[i]}...\")\n",
    "        arr[i], arr[0] = arr[0], arr[i]  # Swap\n",
    "        steps.append(arr.copy())  # Record the step after swap\n",
    "\n",
    "        # Heapify the reduced heap\n",
    "        heapify(arr, i, 0, steps)\n",
    "\n",
    "        # Visualize the current state of the heap\n",
    "        current_heap = arr[:i]\n",
    "        G = build_binary_heap_graph(current_heap)\n",
    "        levels = assign_levels(current_heap)\n",
    "        visualize_heap(G, levels, current_heap, title=f\"Heap after extracting element {arr[i]}\")\n",
    "\n",
    "    print(\"Heap Sort Completed.\")\n",
    "    print(\"Sorted Array:\", arr)\n",
    "\n",
    "# Example Usage\n",
    "if __name__ == \"__main__\":\n",
    "    data = [3, 1, 6, 5, 2, 4]\n",
    "    print(\"Original Data:\", data)\n",
    "    heap_sort_visualized(data)"
   ]
  },
  {
   "cell_type": "markdown",
   "metadata": {},
   "source": [
    "## How to Implement a Priority Queue using a Heap"
   ]
  },
  {
   "cell_type": "markdown",
   "metadata": {},
   "source": [
    "* A heap can be used to implement a priority queue. In a priority queue, each element has a priority that determines its importance. \n",
    "\n",
    "* In some applications, the priorities of important elements are big numbers, in which case a max-heap should be used. "
   ]
  },
  {
   "cell_type": "markdown",
   "metadata": {},
   "source": [
    "## Priority Queue\n",
    "\n",
    "* For some tasks and applications, it may not be first in first out (FIFO), but instead items added are sorted / ranked in order of priority. \n",
    "\n",
    "* A priority could be an category (high, medium, low) - which could be quantified (3,2,1)\n",
    "\n",
    "* Therefore, we retain the removal from the front of the queue (first out), but not necessarily first in.\n",
    "\n",
    "* The below codifies the priority as `1` for low, and `3` for high. Therefore, a new item with a priority of `3` is added (enqueued) ahead of the lower priority nodes."
   ]
  },
  {
   "cell_type": "markdown",
   "metadata": {},
   "source": [
    "![priority_queue](https://learnersbucket.com/wp-content/uploads/2019/09/ezgif.com-optimize-2.gif)"
   ]
  },
  {
   "cell_type": "code",
   "execution_count": 30,
   "metadata": {},
   "outputs": [],
   "source": [
    "class Node:\n",
    "    def __init__(self, value, priority=0):\n",
    "        self.value = value\n",
    "        self.priority = priority\n",
    "        self.next_node = None\n",
    "    \n",
    "    def get_value(self):\n",
    "        return self.value\n",
    "\n",
    "    def get_priority(self):\n",
    "        return self.priority\n",
    "\n",
    "    def get_next_node(self):\n",
    "        return self.next_node\n",
    "\n",
    "    def set_next_node(self, next_node):\n",
    "        self.next_node = next_node\n"
   ]
  },
  {
   "cell_type": "code",
   "execution_count": 31,
   "metadata": {},
   "outputs": [],
   "source": [
    "class PriorityQueue:\n",
    "    def __init__(self, max_size=None):\n",
    "        self.head = None\n",
    "        self.tail = None\n",
    "        self.max_size = max_size\n",
    "        self.size = 0\n",
    "\n",
    "    def has_space(self):\n",
    "        return self.max_size is None or self.size < self.max_size\n",
    "\n",
    "    def is_empty(self):\n",
    "        return self.size == 0\n",
    "\n",
    "    def enqueue(self, value, priority=0):\n",
    "        if self.has_space():\n",
    "            item_to_add = Node(value, priority)\n",
    "            print(f\"Adding {item_to_add.get_value()} with priority {item_to_add.get_priority()} to the queue!\")\n",
    "            \n",
    "            if self.is_empty():\n",
    "                self.head = item_to_add\n",
    "                self.tail = item_to_add\n",
    "            else:\n",
    "                # Find the correct position based on priority\n",
    "                if item_to_add.get_priority() > self.head.get_priority():\n",
    "                    # New item has the highest priority, becomes the new head\n",
    "                    item_to_add.set_next_node(self.head)\n",
    "                    self.head = item_to_add\n",
    "                else:\n",
    "                    # Insert in the middle or end\n",
    "                    current = self.head\n",
    "                    while (current.get_next_node() and\n",
    "                           current.get_next_node().get_priority() >= item_to_add.get_priority()):\n",
    "                        current = current.get_next_node()\n",
    "                    \n",
    "                    # Insert item at the position found\n",
    "                    item_to_add.set_next_node(current.get_next_node())\n",
    "                    current.set_next_node(item_to_add)\n",
    "                    # Update tail if item is added to the end\n",
    "                    if item_to_add.get_next_node() is None:\n",
    "                        self.tail = item_to_add\n",
    "\n",
    "            self.size += 1\n",
    "        else:\n",
    "            print(\"Sorry, no more room!\")\n",
    "    \n",
    "    def dequeue(self):\n",
    "        if not self.is_empty():\n",
    "            item_to_remove = self.head\n",
    "            self.head = self.head.get_next_node()\n",
    "            self.size -= 1\n",
    "            print(f\"Removing {item_to_remove.get_value()} from the queue.\")\n",
    "            if self.is_empty():\n",
    "                self.tail = None\n",
    "            return item_to_remove.get_value()\n",
    "        else:\n",
    "            print(\"Queue is empty.\")\n",
    "            return None"
   ]
  },
  {
   "cell_type": "code",
   "execution_count": 32,
   "metadata": {},
   "outputs": [
    {
     "name": "stdout",
     "output_type": "stream",
     "text": [
      "Adding Task 1 with priority 2 to the queue!\n",
      "Adding Task 5 with priority 5 to the queue!\n",
      "Adding Task 2 with priority 1 to the queue!\n",
      "Adding Task 3 with priority 3 to the queue!\n",
      "Adding Task 4 with priority 4 to the queue!\n",
      "Removing Task 5 from the queue.\n"
     ]
    },
    {
     "data": {
      "text/plain": [
       "'Task 5'"
      ]
     },
     "execution_count": 32,
     "metadata": {},
     "output_type": "execute_result"
    }
   ],
   "source": [
    "pq = PriorityQueue()\n",
    "\n",
    "pq.enqueue(\"Task 1\", priority=2)\n",
    "pq.enqueue(\"Task 5\", priority=5)\n",
    "pq.enqueue(\"Task 2\", priority=1)\n",
    "pq.enqueue(\"Task 3\", priority=3)\n",
    "pq.enqueue(\"Task 4\", priority=4)\n",
    "\n",
    "pq.dequeue()  # Should remove \"Task 5\" since it has the highest priority"
   ]
  },
  {
   "cell_type": "markdown",
   "metadata": {},
   "source": [
    "## Let's adapt to use a min-heap\n",
    "\n",
    "* Use an Array for Heap Storage: Store elements in an array and manage the heap properties.\n",
    "\n",
    "* Heapify Up and Down: Define helper methods to maintain the heap structure after insertion (heapify_up) and removal (heapify_down).\n",
    "\n",
    "* Implement Insert and Extract-Min: Modify enqueue and dequeue methods to use heap operations instead of linked list or other linear data structures."
   ]
  },
  {
   "cell_type": "code",
   "execution_count": 33,
   "metadata": {},
   "outputs": [],
   "source": [
    "class MinHeapPriorityQueue:\n",
    "    def __init__(self):\n",
    "        self.heap = []  # Array-based heap\n",
    "\n",
    "    def is_empty(self):\n",
    "        return len(self.heap) == 0\n",
    "\n",
    "    def peek(self):\n",
    "        if self.is_empty():\n",
    "            print(\"Priority queue is empty\")\n",
    "            return None\n",
    "        return self.heap[0]\n",
    "\n",
    "    def enqueue(self, value):\n",
    "        # Insert new value at the end of the heap\n",
    "        self.heap.append(value)\n",
    "        print(f\"Enqueued: {value}\")\n",
    "        # Heapify up to maintain heap property\n",
    "        self._heapify_up(len(self.heap) - 1)\n",
    "\n",
    "    def dequeue(self):\n",
    "        if self.is_empty():\n",
    "            print(\"Priority queue is empty. Cannot dequeue.\")\n",
    "            return None\n",
    "        # Swap the root (smallest element) with the last element\n",
    "        self._swap(0, len(self.heap) - 1)\n",
    "        # Remove the last element (original root)\n",
    "        min_value = self.heap.pop()\n",
    "        print(f\"Dequeued: {min_value}\")\n",
    "        # Heapify down to maintain heap property\n",
    "        if not self.is_empty():\n",
    "            self._heapify_down(0)\n",
    "        return min_value\n",
    "\n",
    "    def _heapify_up(self, index):\n",
    "        # Heapify up to restore min-heap property\n",
    "        parent_index = (index - 1) // 2\n",
    "        if index > 0 and self.heap[index] < self.heap[parent_index]:\n",
    "            # Swap if child is smaller than parent\n",
    "            self._swap(index, parent_index)\n",
    "            # Recursive call on the parent index\n",
    "            self._heapify_up(parent_index)\n",
    "\n",
    "    def _heapify_down(self, index):\n",
    "        # Heapify down to restore min-heap property\n",
    "        smallest = index\n",
    "        left_child = 2 * index + 1\n",
    "        right_child = 2 * index + 2\n",
    "\n",
    "        # Check if left child exists and is smaller\n",
    "        if left_child < len(self.heap) and self.heap[left_child] < self.heap[smallest]:\n",
    "            smallest = left_child\n",
    "\n",
    "        # Check if right child exists and is smaller\n",
    "        if right_child < len(self.heap) and self.heap[right_child] < self.heap[smallest]:\n",
    "            smallest = right_child\n",
    "\n",
    "        # If the smallest value isn't at the index, swap and heapify down\n",
    "        if smallest != index:\n",
    "            self._swap(index, smallest)\n",
    "            self._heapify_down(smallest)\n",
    "\n",
    "    def _swap(self, i, j):\n",
    "        # Swap elements in the heap array\n",
    "        self.heap[i], self.heap[j] = self.heap[j], self.heap[i]\n",
    "\n",
    "    def __str__(self):\n",
    "        # Display the priority queue (heap) as a list\n",
    "        return f\"MinHeapPriorityQueue({self.heap})\""
   ]
  },
  {
   "cell_type": "code",
   "execution_count": 34,
   "metadata": {},
   "outputs": [
    {
     "name": "stdout",
     "output_type": "stream",
     "text": [
      "Enqueued: 10\n",
      "Enqueued: 5\n",
      "Enqueued: 3\n",
      "Enqueued: 4\n",
      "MinHeapPriorityQueue([3, 4, 5, 10])\n",
      "Dequeued: 3\n",
      "MinHeapPriorityQueue([4, 10, 5])\n",
      "Enqueued: 2\n",
      "MinHeapPriorityQueue([2, 4, 5, 10])\n"
     ]
    }
   ],
   "source": [
    "pq = MinHeapPriorityQueue()\n",
    "pq.enqueue(10)\n",
    "pq.enqueue(5)\n",
    "pq.enqueue(3)\n",
    "pq.enqueue(4)\n",
    "print(pq)      # Expected min-heap order: MinHeapPriorityQueue([3, 4, 5, 10])\n",
    "\n",
    "pq.dequeue()   # Removes the smallest element (3)\n",
    "print(pq)      # Expected min-heap order: MinHeapPriorityQueue([4, 10, 5])\n",
    "\n",
    "pq.enqueue(2)  # Adds 2, which becomes the new minimum\n",
    "print(pq)      # Expected min-heap order: MinHeapPriorityQueue([2, 4, 5, 10])"
   ]
  },
  {
   "cell_type": "markdown",
   "metadata": {},
   "source": [
    "## Now let's apply the `heapq` library \n",
    "\n",
    "* Efficient Min-Heap Management: heapq provides $O(log$ $n)$ insertion and removal.\n",
    "\n",
    "* Built-In Heap Management: No need to manually implement heapify_up or heapify_down—heapq handles it.\n",
    "\n",
    "* Simple API: Using heappush and heappop makes the code cleaner and more maintainable."
   ]
  },
  {
   "cell_type": "code",
   "execution_count": 26,
   "metadata": {},
   "outputs": [],
   "source": [
    "import heapq"
   ]
  },
  {
   "cell_type": "code",
   "execution_count": 36,
   "metadata": {},
   "outputs": [],
   "source": [
    "class PriorityQueue:\n",
    "    def __init__(self):\n",
    "        self.heap = []  # Initialize an empty heap\n",
    "\n",
    "    def is_empty(self):\n",
    "        return len(self.heap) == 0\n",
    "\n",
    "    def peek(self):\n",
    "        if self.is_empty():\n",
    "            print(\"Priority queue is empty\")\n",
    "            return None\n",
    "        return self.heap[0]\n",
    "\n",
    "    def enqueue(self, value):\n",
    "        # Use heappush to add an element while maintaining the heap property\n",
    "        heapq.heappush(self.heap, value)\n",
    "        print(f\"Enqueued: {value}\")\n",
    "\n",
    "    def dequeue(self):\n",
    "        if self.is_empty():\n",
    "            print(\"Priority queue is empty. Cannot dequeue.\")\n",
    "            return None\n",
    "        # Use heappop to remove and return the smallest element\n",
    "        min_value = heapq.heappop(self.heap)\n",
    "        print(f\"Dequeued: {min_value}\")\n",
    "        return min_value\n",
    "\n",
    "    def __str__(self):\n",
    "        # Display the priority queue (heap) as a list\n",
    "        return f\"PriorityQueue({self.heap})\""
   ]
  },
  {
   "cell_type": "code",
   "execution_count": 37,
   "metadata": {},
   "outputs": [
    {
     "name": "stdout",
     "output_type": "stream",
     "text": [
      "Enqueued: 10\n",
      "Enqueued: 5\n",
      "Enqueued: 3\n",
      "Enqueued: 4\n",
      "PriorityQueue([3, 4, 5, 10])\n",
      "Dequeued: 3\n",
      "PriorityQueue([4, 10, 5])\n",
      "Enqueued: 2\n",
      "PriorityQueue([2, 4, 5, 10])\n"
     ]
    }
   ],
   "source": [
    "pq = PriorityQueue()\n",
    "pq.enqueue(10)\n",
    "pq.enqueue(5)\n",
    "pq.enqueue(3)\n",
    "pq.enqueue(4)\n",
    "print(pq)      # Expected min-heap order: PriorityQueue([3, 4, 5, 10])\n",
    "\n",
    "pq.dequeue()   # Removes the smallest element (3)\n",
    "print(pq)      # Expected min-heap order: PriorityQueue([4, 10, 5])\n",
    "\n",
    "pq.enqueue(2)  # Adds 2, which becomes the new minimum\n",
    "print(pq)      # Expected min-heap order: PriorityQueue([2, 4, 5, 10])"
   ]
  },
  {
   "cell_type": "markdown",
   "metadata": {},
   "source": [
    "## Scenario Exercise: Task Scheduler\n"
   ]
  },
  {
   "cell_type": "code",
   "execution_count": 30,
   "metadata": {},
   "outputs": [
    {
     "name": "stdout",
     "output_type": "stream",
     "text": [
      "Processing task: Pay bills with priority 1\n",
      "Processing task: Submit assignment with priority 2\n",
      "Processing task: Read a book with priority 3\n",
      "Processing task: Clean the house with priority 4\n"
     ]
    }
   ],
   "source": [
    "import heapq\n",
    "\n",
    "tasks = []\n",
    "# (priority, task_name)\n",
    "heapq.heappush(tasks, (4, 'Clean the house'))\n",
    "heapq.heappush(tasks, (1, 'Pay bills'))\n",
    "heapq.heappush(tasks, (3, 'Read a book'))\n",
    "heapq.heappush(tasks, (2, \"Submit assignment\"))\n",
    "\n",
    "while tasks:\n",
    "    priority, task = heapq.heappop(tasks)\n",
    "    print(f\"Processing task: {task} with priority {priority}\")"
   ]
  },
  {
   "cell_type": "markdown",
   "metadata": {},
   "source": [
    "## Visualising a heap via `networkx`"
   ]
  },
  {
   "cell_type": "markdown",
   "metadata": {},
   "source": [
    "\n",
    "`pip install networkx matplotlib`  \n",
    "  `python3 -m pip install -U networkx matplotlib --user`"
   ]
  },
  {
   "cell_type": "code",
   "execution_count": 38,
   "metadata": {},
   "outputs": [
    {
     "data": {
      "image/png": "[encoded data removed]",
      "text/plain": [
       "<Figure size 800x600 with 1 Axes>"
      ]
     },
     "metadata": {},
     "output_type": "display_data"
    }
   ],
   "source": [
    "import networkx as nx\n",
    "import matplotlib.pyplot as plt\n",
    "import math\n",
    "\n",
    "def build_binary_heap_graph(heap):\n",
    "    \"\"\"\n",
    "    Constructs a binary heap graph from a list of heap elements.\n",
    "    \n",
    "    Parameters:\n",
    "    - heap (list): The list representing the heap.\n",
    "    \n",
    "    Returns:\n",
    "    - G (networkx.DiGraph): The constructed directed graph representing the heap.\n",
    "    \"\"\"\n",
    "    G = nx.DiGraph()\n",
    "    n = len(heap)\n",
    "    for i in range(n):\n",
    "        G.add_node(i, label=heap[i])\n",
    "        left = 2 * i + 1\n",
    "        right = 2 * i + 2\n",
    "        if left < n:\n",
    "            G.add_edge(i, left)\n",
    "        if right < n:\n",
    "            G.add_edge(i, right)\n",
    "    return G\n",
    "\n",
    "def assign_levels(heap):\n",
    "    \"\"\"\n",
    "    Assigns a level to each node in the heap based on its index.\n",
    "    \n",
    "    Parameters:\n",
    "    - heap (list): The list representing the heap.\n",
    "    \n",
    "    Returns:\n",
    "    - levels (dict): A dictionary mapping node indices to their levels.\n",
    "    \"\"\"\n",
    "    levels = {}\n",
    "    for i in range(len(heap)):\n",
    "        levels[i] = math.floor(math.log2(i + 1))\n",
    "    return levels\n",
    "\n",
    "def visualize_heap(G, levels, heap, title=\"Binary Heap Visualization\"):\n",
    "    \"\"\"\n",
    "    Visualizes the binary heap using NetworkX and Matplotlib.\n",
    "    \n",
    "    Parameters:\n",
    "    - G (networkx.DiGraph): The heap graph.\n",
    "    - levels (dict): Node index to level mapping.\n",
    "    - heap (list): The list representing the heap.\n",
    "    - title (str): The title of the plot.\n",
    "    \"\"\"\n",
    "    # Assign 'subset' attribute to each node based on its level\n",
    "    for node in G.nodes():\n",
    "        G.nodes[node]['subset'] = levels[node]\n",
    "    \n",
    "    # Use multipartite_layout with the 'subset' attribute\n",
    "    pos = nx.multipartite_layout(G, subset_key='subset')\n",
    "    labels = nx.get_node_attributes(G, 'label')\n",
    "\n",
    "    plt.figure(figsize=(8,6))\n",
    "    nx.draw(\n",
    "        G, pos, \n",
    "        with_labels=True, \n",
    "        labels=labels, \n",
    "        node_size=2000, \n",
    "        node_color='lightblue', \n",
    "        font_size=12, \n",
    "        font_weight='bold'\n",
    "    )\n",
    "    plt.title(title)\n",
    "    plt.show()\n",
    "\n",
    "\n",
    "# Example binary heap (max-heap)\n",
    "heap = [20, 15, 18, 8, 10, 16]\n",
    "\n",
    "# Build the graph\n",
    "G = build_binary_heap_graph(heap)\n",
    "\n",
    "# Assign levels to each node\n",
    "levels = assign_levels(heap)\n",
    "\n",
    "# Visualize the heap\n",
    "visualize_heap(G, levels, heap, title=\"Binary Max-Heap Visualization\")"
   ]
  },
  {
   "cell_type": "markdown",
   "metadata": {},
   "source": [
    "## Visualisation with `plotly`\n",
    "` pip install plotly `\n",
    "\n",
    "  `python3 -m pip install -U plotly --user`"
   ]
  },
  {
   "cell_type": "code",
   "execution_count": 39,
   "metadata": {},
   "outputs": [
    {
     "data": {
      "application/vnd.plotly.v1+json": {
       "config": {
        "plotlyServerURL": "https://plot.ly"
       },
       "data": [
        {
         "hoverinfo": "none",
         "line": {
          "color": "#888",
          "width": 1
         },
         "mode": "lines",
         "type": "scatter",
         "x": [
          0,
          -1,
          null,
          -0.5,
          -1,
          null,
          -0.5,
          0,
          null,
          0,
          1,
          null,
          0.5,
          0,
          null
         ],
         "y": [
          0,
          -1,
          null,
          -1,
          -2,
          null,
          -1,
          -2,
          null,
          0,
          -1,
          null,
          -1,
          -2,
          null
         ]
        },
        {
         "marker": {
          "color": "lightblue",
          "line": {
           "width": 2
          },
          "showscale": false,
          "size": 40
         },
         "mode": "markers+text",
         "text": [
          "20",
          "15",
          "8",
          "10",
          "18",
          "16"
         ],
         "textposition": "middle center",
         "type": "scatter",
         "x": [
          0,
          -0.5,
          -0.75,
          -0.25,
          0.5,
          0.25
         ],
         "y": [
          0,
          -1,
          -2,
          -2,
          -1,
          -2
         ]
        }
       ],
       "layout": {
        "annotations": [
         {
          "showarrow": false,
          "text": "",
          "xref": "paper",
          "yref": "paper"
         }
        ],
        "hovermode": "closest",
        "margin": {
         "b": 20,
         "l": 5,
         "r": 5,
         "t": 40
        },
        "showlegend": false,
        "template": {
         "data": {
          "bar": [
           {
            "error_x": {
             "color": "#2a3f5f"
            },
            "error_y": {
             "color": "#2a3f5f"
            },
            "marker": {
             "line": {
              "color": "#E5ECF6",
              "width": 0.5
             },
             "pattern": {
              "fillmode": "overlay",
              "size": 10,
              "solidity": 0.2
             }
            },
            "type": "bar"
           }
          ],
          "barpolar": [
           {
            "marker": {
             "line": {
              "color": "#E5ECF6",
              "width": 0.5
             },
             "pattern": {
              "fillmode": "overlay",
              "size": 10,
              "solidity": 0.2
             }
            },
            "type": "barpolar"
           }
          ],
          "carpet": [
           {
            "aaxis": {
             "endlinecolor": "#2a3f5f",
             "gridcolor": "white",
             "linecolor": "white",
             "minorgridcolor": "white",
             "startlinecolor": "#2a3f5f"
            },
            "baxis": {
             "endlinecolor": "#2a3f5f",
             "gridcolor": "white",
             "linecolor": "white",
             "minorgridcolor": "white",
             "startlinecolor": "#2a3f5f"
            },
            "type": "carpet"
           }
          ],
          "choropleth": [
           {
            "colorbar": {
             "outlinewidth": 0,
             "ticks": ""
            },
            "type": "choropleth"
           }
          ],
          "contour": [
           {
            "colorbar": {
             "outlinewidth": 0,
             "ticks": ""
            },
            "colorscale": [
             [
              0,
              "#0d0887"
             ],
             [
              0.1111111111111111,
              "#46039f"
             ],
             [
              0.2222222222222222,
              "#7201a8"
             ],
             [
              0.3333333333333333,
              "#9c179e"
             ],
             [
              0.4444444444444444,
              "#bd3786"
             ],
             [
              0.5555555555555556,
              "#d8576b"
             ],
             [
              0.6666666666666666,
              "#ed7953"
             ],
             [
              0.7777777777777778,
              "#fb9f3a"
             ],
             [
              0.8888888888888888,
              "#fdca26"
             ],
             [
              1,
              "#f0f921"
             ]
            ],
            "type": "contour"
           }
          ],
          "contourcarpet": [
           {
            "colorbar": {
             "outlinewidth": 0,
             "ticks": ""
            },
            "type": "contourcarpet"
           }
          ],
          "heatmap": [
           {
            "colorbar": {
             "outlinewidth": 0,
             "ticks": ""
            },
            "colorscale": [
             [
              0,
              "#0d0887"
             ],
             [
              0.1111111111111111,
              "#46039f"
             ],
             [
              0.2222222222222222,
              "#7201a8"
             ],
             [
              0.3333333333333333,
              "#9c179e"
             ],
             [
              0.4444444444444444,
              "#bd3786"
             ],
             [
              0.5555555555555556,
              "#d8576b"
             ],
             [
              0.6666666666666666,
              "#ed7953"
             ],
             [
              0.7777777777777778,
              "#fb9f3a"
             ],
             [
              0.8888888888888888,
              "#fdca26"
             ],
             [
              1,
              "#f0f921"
             ]
            ],
            "type": "heatmap"
           }
          ],
          "heatmapgl": [
           {
            "colorbar": {
             "outlinewidth": 0,
             "ticks": ""
            },
            "colorscale": [
             [
              0,
              "#0d0887"
             ],
             [
              0.1111111111111111,
              "#46039f"
             ],
             [
              0.2222222222222222,
              "#7201a8"
             ],
             [
              0.3333333333333333,
              "#9c179e"
             ],
             [
              0.4444444444444444,
              "#bd3786"
             ],
             [
              0.5555555555555556,
              "#d8576b"
             ],
             [
              0.6666666666666666,
              "#ed7953"
             ],
             [
              0.7777777777777778,
              "#fb9f3a"
             ],
             [
              0.8888888888888888,
              "#fdca26"
             ],
             [
              1,
              "#f0f921"
             ]
            ],
            "type": "heatmapgl"
           }
          ],
          "histogram": [
           {
            "marker": {
             "pattern": {
              "fillmode": "overlay",
              "size": 10,
              "solidity": 0.2
             }
            },
            "type": "histogram"
           }
          ],
          "histogram2d": [
           {
            "colorbar": {
             "outlinewidth": 0,
             "ticks": ""
            },
            "colorscale": [
             [
              0,
              "#0d0887"
             ],
             [
              0.1111111111111111,
              "#46039f"
             ],
             [
              0.2222222222222222,
              "#7201a8"
             ],
             [
              0.3333333333333333,
              "#9c179e"
             ],
             [
              0.4444444444444444,
              "#bd3786"
             ],
             [
              0.5555555555555556,
              "#d8576b"
             ],
             [
              0.6666666666666666,
              "#ed7953"
             ],
             [
              0.7777777777777778,
              "#fb9f3a"
             ],
             [
              0.8888888888888888,
              "#fdca26"
             ],
             [
              1,
              "#f0f921"
             ]
            ],
            "type": "histogram2d"
           }
          ],
          "histogram2dcontour": [
           {
            "colorbar": {
             "outlinewidth": 0,
             "ticks": ""
            },
            "colorscale": [
             [
              0,
              "#0d0887"
             ],
             [
              0.1111111111111111,
              "#46039f"
             ],
             [
              0.2222222222222222,
              "#7201a8"
             ],
             [
              0.3333333333333333,
              "#9c179e"
             ],
             [
              0.4444444444444444,
              "#bd3786"
             ],
             [
              0.5555555555555556,
              "#d8576b"
             ],
             [
              0.6666666666666666,
              "#ed7953"
             ],
             [
              0.7777777777777778,
              "#fb9f3a"
             ],
             [
              0.8888888888888888,
              "#fdca26"
             ],
             [
              1,
              "#f0f921"
             ]
            ],
            "type": "histogram2dcontour"
           }
          ],
          "mesh3d": [
           {
            "colorbar": {
             "outlinewidth": 0,
             "ticks": ""
            },
            "type": "mesh3d"
           }
          ],
          "parcoords": [
           {
            "line": {
             "colorbar": {
              "outlinewidth": 0,
              "ticks": ""
             }
            },
            "type": "parcoords"
           }
          ],
          "pie": [
           {
            "automargin": true,
            "type": "pie"
           }
          ],
          "scatter": [
           {
            "fillpattern": {
             "fillmode": "overlay",
             "size": 10,
             "solidity": 0.2
            },
            "type": "scatter"
           }
          ],
          "scatter3d": [
           {
            "line": {
             "colorbar": {
              "outlinewidth": 0,
              "ticks": ""
             }
            },
            "marker": {
             "colorbar": {
              "outlinewidth": 0,
              "ticks": ""
             }
            },
            "type": "scatter3d"
           }
          ],
          "scattercarpet": [
           {
            "marker": {
             "colorbar": {
              "outlinewidth": 0,
              "ticks": ""
             }
            },
            "type": "scattercarpet"
           }
          ],
          "scattergeo": [
           {
            "marker": {
             "colorbar": {
              "outlinewidth": 0,
              "ticks": ""
             }
            },
            "type": "scattergeo"
           }
          ],
          "scattergl": [
           {
            "marker": {
             "colorbar": {
              "outlinewidth": 0,
              "ticks": ""
             }
            },
            "type": "scattergl"
           }
          ],
          "scattermapbox": [
           {
            "marker": {
             "colorbar": {
              "outlinewidth": 0,
              "ticks": ""
             }
            },
            "type": "scattermapbox"
           }
          ],
          "scatterpolar": [
           {
            "marker": {
             "colorbar": {
              "outlinewidth": 0,
              "ticks": ""
             }
            },
            "type": "scatterpolar"
           }
          ],
          "scatterpolargl": [
           {
            "marker": {
             "colorbar": {
              "outlinewidth": 0,
              "ticks": ""
             }
            },
            "type": "scatterpolargl"
           }
          ],
          "scatterternary": [
           {
            "marker": {
             "colorbar": {
              "outlinewidth": 0,
              "ticks": ""
             }
            },
            "type": "scatterternary"
           }
          ],
          "surface": [
           {
            "colorbar": {
             "outlinewidth": 0,
             "ticks": ""
            },
            "colorscale": [
             [
              0,
              "#0d0887"
             ],
             [
              0.1111111111111111,
              "#46039f"
             ],
             [
              0.2222222222222222,
              "#7201a8"
             ],
             [
              0.3333333333333333,
              "#9c179e"
             ],
             [
              0.4444444444444444,
              "#bd3786"
             ],
             [
              0.5555555555555556,
              "#d8576b"
             ],
             [
              0.6666666666666666,
              "#ed7953"
             ],
             [
              0.7777777777777778,
              "#fb9f3a"
             ],
             [
              0.8888888888888888,
              "#fdca26"
             ],
             [
              1,
              "#f0f921"
             ]
            ],
            "type": "surface"
           }
          ],
          "table": [
           {
            "cells": {
             "fill": {
              "color": "#EBF0F8"
             },
             "line": {
              "color": "white"
             }
            },
            "header": {
             "fill": {
              "color": "#C8D4E3"
             },
             "line": {
              "color": "white"
             }
            },
            "type": "table"
           }
          ]
         },
         "layout": {
          "annotationdefaults": {
           "arrowcolor": "#2a3f5f",
           "arrowhead": 0,
           "arrowwidth": 1
          },
          "autotypenumbers": "strict",
          "coloraxis": {
           "colorbar": {
            "outlinewidth": 0,
            "ticks": ""
           }
          },
          "colorscale": {
           "diverging": [
            [
             0,
             "#8e0152"
            ],
            [
             0.1,
             "#c51b7d"
            ],
            [
             0.2,
             "#de77ae"
            ],
            [
             0.3,
             "#f1b6da"
            ],
            [
             0.4,
             "#fde0ef"
            ],
            [
             0.5,
             "#f7f7f7"
            ],
            [
             0.6,
             "#e6f5d0"
            ],
            [
             0.7,
             "#b8e186"
            ],
            [
             0.8,
             "#7fbc41"
            ],
            [
             0.9,
             "#4d9221"
            ],
            [
             1,
             "#276419"
            ]
           ],
           "sequential": [
            [
             0,
             "#0d0887"
            ],
            [
             0.1111111111111111,
             "#46039f"
            ],
            [
             0.2222222222222222,
             "#7201a8"
            ],
            [
             0.3333333333333333,
             "#9c179e"
            ],
            [
             0.4444444444444444,
             "#bd3786"
            ],
            [
             0.5555555555555556,
             "#d8576b"
            ],
            [
             0.6666666666666666,
             "#ed7953"
            ],
            [
             0.7777777777777778,
             "#fb9f3a"
            ],
            [
             0.8888888888888888,
             "#fdca26"
            ],
            [
             1,
             "#f0f921"
            ]
           ],
           "sequentialminus": [
            [
             0,
             "#0d0887"
            ],
            [
             0.1111111111111111,
             "#46039f"
            ],
            [
             0.2222222222222222,
             "#7201a8"
            ],
            [
             0.3333333333333333,
             "#9c179e"
            ],
            [
             0.4444444444444444,
             "#bd3786"
            ],
            [
             0.5555555555555556,
             "#d8576b"
            ],
            [
             0.6666666666666666,
             "#ed7953"
            ],
            [
             0.7777777777777778,
             "#fb9f3a"
            ],
            [
             0.8888888888888888,
             "#fdca26"
            ],
            [
             1,
             "#f0f921"
            ]
           ]
          },
          "colorway": [
           "#636efa",
           "#EF553B",
           "#00cc96",
           "#ab63fa",
           "#FFA15A",
           "#19d3f3",
           "#FF6692",
           "#B6E880",
           "#FF97FF",
           "#FECB52"
          ],
          "font": {
           "color": "#2a3f5f"
          },
          "geo": {
           "bgcolor": "white",
           "lakecolor": "white",
           "landcolor": "#E5ECF6",
           "showlakes": true,
           "showland": true,
           "subunitcolor": "white"
          },
          "hoverlabel": {
           "align": "left"
          },
          "hovermode": "closest",
          "mapbox": {
           "style": "light"
          },
          "paper_bgcolor": "white",
          "plot_bgcolor": "#E5ECF6",
          "polar": {
           "angularaxis": {
            "gridcolor": "white",
            "linecolor": "white",
            "ticks": ""
           },
           "bgcolor": "#E5ECF6",
           "radialaxis": {
            "gridcolor": "white",
            "linecolor": "white",
            "ticks": ""
           }
          },
          "scene": {
           "xaxis": {
            "backgroundcolor": "#E5ECF6",
            "gridcolor": "white",
            "gridwidth": 2,
            "linecolor": "white",
            "showbackground": true,
            "ticks": "",
            "zerolinecolor": "white"
           },
           "yaxis": {
            "backgroundcolor": "#E5ECF6",
            "gridcolor": "white",
            "gridwidth": 2,
            "linecolor": "white",
            "showbackground": true,
            "ticks": "",
            "zerolinecolor": "white"
           },
           "zaxis": {
            "backgroundcolor": "#E5ECF6",
            "gridcolor": "white",
            "gridwidth": 2,
            "linecolor": "white",
            "showbackground": true,
            "ticks": "",
            "zerolinecolor": "white"
           }
          },
          "shapedefaults": {
           "line": {
            "color": "#2a3f5f"
           }
          },
          "ternary": {
           "aaxis": {
            "gridcolor": "white",
            "linecolor": "white",
            "ticks": ""
           },
           "baxis": {
            "gridcolor": "white",
            "linecolor": "white",
            "ticks": ""
           },
           "bgcolor": "#E5ECF6",
           "caxis": {
            "gridcolor": "white",
            "linecolor": "white",
            "ticks": ""
           }
          },
          "title": {
           "x": 0.05
          },
          "xaxis": {
           "automargin": true,
           "gridcolor": "white",
           "linecolor": "white",
           "ticks": "",
           "title": {
            "standoff": 15
           },
           "zerolinecolor": "white",
           "zerolinewidth": 2
          },
          "yaxis": {
           "automargin": true,
           "gridcolor": "white",
           "linecolor": "white",
           "ticks": "",
           "title": {
            "standoff": 15
           },
           "zerolinecolor": "white",
           "zerolinewidth": 2
          }
         }
        },
        "title": {
         "font": {
          "size": 16
         },
         "text": "Interactive Binary Heap Visualization"
        },
        "xaxis": {
         "showgrid": false,
         "showticklabels": false,
         "zeroline": false
        },
        "yaxis": {
         "showgrid": false,
         "showticklabels": false,
         "zeroline": false
        }
       }
      }
     },
     "metadata": {},
     "output_type": "display_data"
    }
   ],
   "source": [
    "import plotly.graph_objects as go\n",
    "\n",
    "def plot_binary_heap_interactive(heap):\n",
    "    edge_x = []\n",
    "    edge_y = []\n",
    "    node_x = []\n",
    "    node_y = []\n",
    "    node_labels = []\n",
    "\n",
    "    def get_position(index, depth=0, pos=0, spacing=1):\n",
    "        if index >= len(heap):\n",
    "            return\n",
    "        x = pos\n",
    "        y = -depth\n",
    "        node_x.append(x)\n",
    "        node_y.append(y)\n",
    "        node_labels.append(str(heap[index]))\n",
    "        left = 2 * index + 1\n",
    "        right = 2 * index + 2\n",
    "        if left < len(heap):\n",
    "            edge_x.extend([x, x - spacing, None])\n",
    "            edge_y.extend([y, y - 1, None])\n",
    "            get_position(left, depth + 1, pos - spacing / 2, spacing / 2)\n",
    "        if right < len(heap):\n",
    "            edge_x.extend([x, x + spacing, None])\n",
    "            edge_y.extend([y, y - 1, None])\n",
    "            get_position(right, depth + 1, pos + spacing / 2, spacing / 2)\n",
    "\n",
    "    get_position(0)\n",
    "\n",
    "    edge_trace = go.Scatter(\n",
    "        x=edge_x, y=edge_y,\n",
    "        line=dict(width=1, color='#888'),\n",
    "        hoverinfo='none',\n",
    "        mode='lines')\n",
    "\n",
    "    node_trace = go.Scatter(\n",
    "        x=node_x, y=node_y,\n",
    "        mode='markers+text',\n",
    "        text=node_labels,\n",
    "        textposition=\"middle center\",\n",
    "        marker=dict(\n",
    "            showscale=False,\n",
    "            color='lightblue',\n",
    "            size=40,\n",
    "            line_width=2))\n",
    "\n",
    "    fig = go.Figure(data=[edge_trace, node_trace],\n",
    "                 layout=go.Layout(\n",
    "                    title='Interactive Binary Heap Visualization',\n",
    "                    titlefont_size=16,\n",
    "                    showlegend=False,\n",
    "                    hovermode='closest',\n",
    "                    margin=dict(b=20,l=5,r=5,t=40),\n",
    "                    annotations=[ dict(\n",
    "                        text=\"\",\n",
    "                        showarrow=False,\n",
    "                        xref=\"paper\", yref=\"paper\") ],\n",
    "                    xaxis=dict(showgrid=False, zeroline=False, showticklabels=False),\n",
    "                    yaxis=dict(showgrid=False, zeroline=False, showticklabels=False))\n",
    "                    )\n",
    "    fig.show()\n",
    "\n",
    "# Example binary heap (max-heap)\n",
    "heap = [20, 15, 18, 8, 10, 16]\n",
    "\n",
    "plot_binary_heap_interactive(heap)"
   ]
  },
  {
   "cell_type": "markdown",
   "metadata": {},
   "source": [
    "## Summary \n",
    "\n",
    "* Stack vs Heap \n",
    "\n",
    "* Heaps are usually stored as arrays, but can be visualised as Binary Trees \n",
    "\n",
    "* Heap Sort is $O(n$ $log$ $n)$\n",
    "\n",
    "* Heap Insert can be achieved in $O(log n)$\n",
    "\n",
    "* Extracting the min from a min-heap and max element from a max-heap can be achieved in $O(1)$"
   ]
  },
  {
   "cell_type": "markdown",
   "metadata": {},
   "source": [
    "## Exercise \n",
    "\n",
    "Sort the following array into a Max-Heap. Check that the array adheres to the heap properties"
   ]
  },
  {
   "cell_type": "code",
   "execution_count": 5,
   "metadata": {},
   "outputs": [
    {
     "data": {
      "text/plain": [
       "[0, 1, 2, 3, 4, 5, 6, 7, 8, 9]"
      ]
     },
     "execution_count": 5,
     "metadata": {},
     "output_type": "execute_result"
    }
   ],
   "source": [
    "arr = list(range(0,10))\n",
    "arr"
   ]
  },
  {
   "cell_type": "code",
   "execution_count": null,
   "metadata": {},
   "outputs": [],
   "source": [
    "# Write your solution here."
   ]
  },
  {
   "cell_type": "markdown",
   "metadata": {},
   "source": [
    "## Exercise\n",
    "\n",
    "Can you write a function to evaluate whether an array is a max or min heap? "
   ]
  },
  {
   "cell_type": "code",
   "execution_count": null,
   "metadata": {},
   "outputs": [],
   "source": [
    "# Write your solution here."
   ]
  },
  {
   "cell_type": "markdown",
   "metadata": {},
   "source": [
    "## Exercise \n",
    "\n",
    "If you implemented the `PriorityQueue` class in the 07 notebook (Stacks and Queues), adapt the implementation to become a max-heap using `heapq` functions.  "
   ]
  },
  {
   "cell_type": "code",
   "execution_count": null,
   "metadata": {},
   "outputs": [],
   "source": [
    "# Write your solution here."
   ]
  },
  {
   "cell_type": "markdown",
   "metadata": {},
   "source": [
    "## Exercise \n",
    "\n",
    "Apply the heap sort algorithm to build a max-heap out a randomly generated array.\n",
    "\n",
    "Check the array elements are arranged in a way that adheres to the principles of a max-heap. "
   ]
  },
  {
   "cell_type": "code",
   "execution_count": null,
   "metadata": {},
   "outputs": [],
   "source": [
    "# Write your solution here."
   ]
  },
  {
   "cell_type": "markdown",
   "metadata": {},
   "source": [
    "## Exercise \n",
    "\n",
    "Following from the previous exercise, providing you've sorted an array into a heap correctly, see if you can build a `BinaryTree` class that will represent the levels of this array. \n",
    "\n",
    "Remember that nodes in a Binary Tree can have a maximum of two children, and the layers of the tree are populated left to right, and each node is checked to see if it is less or greater than the parent. These children may then swapped depending on whether it the desired target is a max-heap or a min-heap. \n",
    "\n",
    "Extension: use `networkx` to visualise this heap as a Binary Tree."
   ]
  },
  {
   "cell_type": "code",
   "execution_count": null,
   "metadata": {},
   "outputs": [],
   "source": [
    "# Write your solution here."
   ]
  },
  {
   "cell_type": "code",
   "execution_count": 4,
   "metadata": {},
   "outputs": [
    {
     "name": "stdout",
     "output_type": "stream",
     "text": [
      "Minimum element: 3\n",
      "Extracted min: 3\n",
      "New minimum after extraction: 6\n",
      "Minimum after decreasing a key: 2\n",
      "Minimum after deletion: 2\n"
     ]
    }
   ],
   "source": [
    "# Instantiate the Fibonacci Heap\n",
    "fib_heap = FibonacciHeap()\n",
    "\n",
    "# Insert values into the heap\n",
    "node1 = fib_heap.insert(10)\n",
    "node2 = fib_heap.insert(3)\n",
    "node3 = fib_heap.insert(15)\n",
    "node4 = fib_heap.insert(6)\n",
    "\n",
    "# Find the minimum element\n",
    "print(\"Minimum element:\", fib_heap.find_min())  # Should output 3\n",
    "\n",
    "# Extract the minimum element\n",
    "print(\"Extracted min:\", fib_heap.extract_min())  # Should output 3\n",
    "print(\"New minimum after extraction:\", fib_heap.find_min())  # Should output 6\n",
    "\n",
    "# Decrease the key of an existing node\n",
    "fib_heap.decrease_key(node3, 2)\n",
    "print(\"Minimum after decreasing a key:\", fib_heap.find_min())  # Should output 2\n",
    "\n",
    "# Delete a node\n",
    "fib_heap.delete(node4)\n",
    "print(\"Minimum after deletion:\", fib_heap.find_min())  # Should output 2 or 10 depending on the current state"
   ]
  }
 ],
 "metadata": {
  "celltoolbar": "Slideshow",
  "kernelspec": {
   "display_name": "Python 3",
   "language": "python",
   "name": "python3"
  },
  "language_info": {
   "codemirror_mode": {
    "name": "ipython",
    "version": 3
   },
   "file_extension": ".py",
   "mimetype": "text/x-python",
   "name": "python",
   "nbconvert_exporter": "python",
   "pygments_lexer": "ipython3",
   "version": "3.9.6"
  }
 },
 "nbformat": 4,
 "nbformat_minor": 4
}
