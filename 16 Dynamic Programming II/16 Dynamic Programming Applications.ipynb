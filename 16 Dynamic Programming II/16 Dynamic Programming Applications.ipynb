{
 "cells": [
  {
   "cell_type": "markdown",
   "id": "1eba3b72",
   "metadata": {
    "id": "1eba3b72"
   },
   "source": [
    "# 16 Dynamic Programming II - Applications"
   ]
  },
  {
   "cell_type": "markdown",
   "id": "57bc8bf6",
   "metadata": {},
   "source": [
    "## Plan for the Lecture\n",
    "\n",
    "1. Origins of DP - Richard Bellman's principle of optimality\n",
    "\n",
    "2. DP optimisation strategies - Memoization vs tabulation / bottom-up vs top-down\n",
    "\n",
    "3. Fibonacci exercise \n",
    "\n",
    "4. Network Flow - capacity - minimax and maximin"
   ]
  },
  {
   "cell_type": "markdown",
   "id": "190240ce",
   "metadata": {},
   "source": [
    "## Recap on runtimes\n",
    "\n",
    "* Quadratic Time $O(n^2)$ : A specific type of polynomial time with performance scaling as the square of the input size. Common in simple, often inefficient algorithms.\n",
    "\n",
    "* Polynomial Time $O(n^k)$ : A broad category encompassing all algorithms whose running times are polynomial in the input size. Central to the concept of efficient, tractable algorithms.\n",
    "\n",
    "* Pseudo-Polynomial Time $O(n \\cdot m)$ : Algorithms whose running time depends on the numeric values within the input rather than solely on input size. Efficient for small numeric inputs but can be impractical for large values.\n"
   ]
  },
  {
   "cell_type": "markdown",
   "id": "9f3a8c95",
   "metadata": {},
   "source": [
    "## Scenario Exercise - Blackjack (21)\n",
    "\n",
    "![blackjack_21](https://odentennis.wordpress.com/wp-content/uploads/2022/02/blackjack.gif)\n",
    "\n",
    "\n",
    "* This simulation will allow a user to play Blackjack against a dealer. The game will handle:\n",
    "\n",
    "    * Shuffling and dealing cards.\n",
    "    * Calculating hand values, considering the flexible value of Aces.\n",
    "    * Allowing the player to choose actions: Hit or Stand.\n",
    "    * Implementing the dealer’s fixed strategy: hitting until reaching at least 17.\n",
    "    * Determining the outcome of each round.\n"
   ]
  },
  {
   "cell_type": "markdown",
   "id": "d4912f28",
   "metadata": {},
   "source": [
    "## Let's build a simple simulation of 21/Blackjack"
   ]
  },
  {
   "cell_type": "code",
   "execution_count": 11,
   "id": "97121533",
   "metadata": {},
   "outputs": [],
   "source": [
    "import random"
   ]
  },
  {
   "cell_type": "code",
   "execution_count": 12,
   "id": "7e239489",
   "metadata": {},
   "outputs": [
    {
     "name": "stdout",
     "output_type": "stream",
     "text": [
      "Original deck: ['Ace of Hearts', '2 of Diamonds', 'King of Clubs', '7 of Spades']\n",
      "Shuffled deck: ['2 of Diamonds', '7 of Spades', 'Ace of Hearts', 'King of Clubs']\n"
     ]
    }
   ],
   "source": [
    "cards = ['Ace of Hearts', '2 of Diamonds', 'King of Clubs', '7 of Spades']\n",
    "print(\"Original deck:\", cards)\n",
    "\n",
    "random.shuffle(cards) # Shuffle the deck\n",
    "print(\"Shuffled deck:\", cards)"
   ]
  },
  {
   "cell_type": "code",
   "execution_count": 13,
   "id": "efb5c44b",
   "metadata": {},
   "outputs": [],
   "source": [
    "class Card:\n",
    "    \"\"\"Represents a single playing card.\"\"\"\n",
    "    def __init__(self, suit, rank):\n",
    "        self.suit = suit  # 'Hearts', 'Diamonds', 'Clubs', 'Spades'\n",
    "        self.rank = rank  # '2' - '10', 'J', 'Q', 'K', 'A'\n",
    "\n",
    "    def __str__(self):\n",
    "        return f\"{self.rank} of {self.suit}\"\n",
    "\n",
    "class Deck:\n",
    "    \"\"\"Represents a deck of 52 playing cards.\"\"\"\n",
    "    suits = ['Hearts', 'Diamonds', 'Clubs', 'Spades']\n",
    "    ranks = ['2', '3', '4', '5', '6', '7', '8', '9', '10',\n",
    "             'J', 'Q', 'K', 'A']\n",
    "\n",
    "    def __init__(self):\n",
    "        self.cards = [Card(suit, rank) for suit in self.suits for rank in self.ranks]\n",
    "        self.shuffle()\n",
    "\n",
    "    def shuffle(self):\n",
    "        \"\"\"Shuffles the deck in place.\"\"\"\n",
    "        random.shuffle(self.cards)\n",
    "\n",
    "    def deal_card(self):\n",
    "        \"\"\"Deals the top card from the deck.\"\"\"\n",
    "        if len(self.cards) == 0:\n",
    "            raise ValueError(\"All cards have been dealt\")\n",
    "        return self.cards.pop()\n",
    "\n",
    "    def __str__(self):\n",
    "        \"\"\"Returns a string representation of the deck.\"\"\"\n",
    "        return ', '.join(str(card) for card in self.cards)"
   ]
  },
  {
   "cell_type": "code",
   "execution_count": 14,
   "id": "4e0081ee",
   "metadata": {},
   "outputs": [
    {
     "name": "stdout",
     "output_type": "stream",
     "text": [
      "Shuffled Deck:\n",
      "6 of Diamonds, A of Clubs, 4 of Hearts, 2 of Diamonds, 10 of Hearts, 7 of Diamonds, 5 of Clubs, 8 of Hearts, 3 of Diamonds, J of Hearts, K of Hearts, 8 of Spades, 3 of Spades, 2 of Spades, K of Clubs, K of Spades, 2 of Clubs, A of Spades, 6 of Spades, 5 of Spades, A of Diamonds, 6 of Clubs, J of Clubs, 10 of Diamonds, Q of Clubs, 10 of Spades, 5 of Hearts, 3 of Hearts, K of Diamonds, 9 of Diamonds, 5 of Diamonds, Q of Spades, 4 of Diamonds, 3 of Clubs, 10 of Clubs, 2 of Hearts, Q of Diamonds, 7 of Hearts, 8 of Diamonds, 7 of Spades, A of Hearts, 9 of Hearts, 4 of Spades, J of Spades, 6 of Hearts, 9 of Spades, 9 of Clubs, J of Diamonds, 4 of Clubs, 7 of Clubs, 8 of Clubs, Q of Hearts\n"
     ]
    }
   ],
   "source": [
    "deck = Deck() # shuffle the deck\n",
    "print(\"Shuffled Deck:\")\n",
    "print(deck)"
   ]
  },
  {
   "cell_type": "code",
   "execution_count": 17,
   "id": "25855d0e",
   "metadata": {},
   "outputs": [
    {
     "name": "stdout",
     "output_type": "stream",
     "text": [
      "\n",
      "Deal two cards:\n",
      "4 of Hearts\n",
      "Q of Hearts\n",
      "\n",
      "Stick (s) or Twist (t)?\n",
      "6 of Diamonds\n",
      "\n",
      "Stick (s) or Twist (t)?\n"
     ]
    }
   ],
   "source": [
    "deck = Deck() # shuffle the deck\n",
    "\n",
    "# Deal first two cards?\n",
    "print(\"\\nDeal two cards:\")\n",
    "for _ in range(2):\n",
    "    card = deck.deal_card()\n",
    "    print(card)\n",
    "\n",
    "while True:\n",
    "    print(\"\\nStick (s) or Twist (t)?\")\n",
    "    ans = input(\"Stick (s) or Twist (t)?\")\n",
    "    if ans.lower() == \"t\" :\n",
    "        card = deck.deal_card()\n",
    "        print(card)\n",
    "    else:\n",
    "        break\n"
   ]
  },
  {
   "cell_type": "markdown",
   "id": "1a480594",
   "metadata": {},
   "source": [
    "## Exercise - warm up on this example\n",
    "\n",
    "To warm up, amend the code above to count the picture cards (J, Q, K) as ten, and give the choice of whether ace is 11 or 1. \n"
   ]
  },
  {
   "cell_type": "markdown",
   "id": "ec5c5e0e",
   "metadata": {},
   "source": [
    "## Can we apply Dynamic Programming to 21/Blackjack?\n",
    "\n"
   ]
  },
  {
   "cell_type": "markdown",
   "id": "19f7df5a",
   "metadata": {},
   "source": [
    "\n",
    "\n",
    "* `States (S)`: Represent the current situation in the game, typically defined by:\n",
    "    * Player’s Hand Value: Sum of the player’s cards (considering soft and hard totals due to Aces).\n",
    "    * Dealer’s Visible Card: The dealer’s upcard.\n",
    "    * Additional Factors: Such as whether the player has a usable Ace, the number of decks in play, etc.\n",
    "\n",
    "* `Actions (A)`: Possible decisions the player can make, e.g., hit, stand, double down, split.\n",
    "\n",
    "* `Transition Probabilities (P)`: The likelihood of moving from one state to another based on the chosen action and the randomness of card drawing.\n",
    "\n",
    "* `Rewards (R)`: The outcome of actions, typically:\n",
    "    * Win: Positive reward.\n",
    "    * Lose: Negative reward.\n",
    "    * Push (Tie): Neutral reward.\n"
   ]
  },
  {
   "cell_type": "code",
   "execution_count": null,
   "id": "c4f0d1de",
   "metadata": {},
   "outputs": [],
   "source": []
  },
  {
   "cell_type": "markdown",
   "id": "bbeed75b",
   "metadata": {},
   "source": [
    "## Scenario Exercise - Super-Mario \n",
    "\n",
    "![super_mario](https://encrypted-tbn0.gstatic.com/images?q=tbn:ANd9GcQC3rfJrKWyXB02JJADPgFRtXKGbabn0GMq4g&s)\n",
    "\n",
    "![super_mario_bros_1_nes](https://miro.medium.com/v2/resize:fit:1002/1*7TLBg5I9DSrvVwebZoA6JQ.gif)\n",
    "\n",
    "Dynamic programming (DP) can be applied to Super Mario to solve complex problems by breaking them down into overlapping subproblems. In a game like Mario, DP can be used for:\n",
    "\n",
    "1.\tPathfinding: Finding the shortest or optimal path in levels with obstacles.\n",
    "\n",
    "2.\tCoin Collection: Maximizing the number of coins collected by choosing the best route.\n",
    "\n",
    "3.\tEnemy Avoidance: Minimizing risk by finding paths with fewer or weaker enemies.\n",
    "\n",
    "4.\tLives and Power-Ups Management: Optimally deciding when to collect power-ups or take risks for extra lives.\n",
    "\n",
    "This approach involves storing and reusing solutions to subproblems to make the gameplay more efficient."
   ]
  },
  {
   "cell_type": "markdown",
   "id": "613c8ade",
   "metadata": {},
   "source": [
    "1. Pathfinding:\n",
    "\n",
    "\t* Break down each level into sub-levels (e.g., checkpoints or blocks).\n",
    "\t* Define a cost function for each block (e.g., time, obstacles).\n",
    "\t* Use DP to compute the minimum cost from the start to the finish, storing subproblem results for reuse.\n",
    "\n",
    "2. Coin Collection:\n",
    "\n",
    "\t* Assign values to blocks containing coins.\n",
    "\t* Use DP to calculate the maximum coins collected along any possible path.\n",
    "\n",
    "3. Enemy Avoidance:\n",
    "\n",
    "\t* Treat enemies as obstacles and define the risk (penalty) associated with each block.\n",
    "\t* Use DP to minimize the risk by evaluating all possible paths.\n",
    "\n",
    "4. Lives and Power-Ups Management:\n",
    "\n",
    "\t* Store Mario’s current state (e.g., power-ups and lives).\n",
    "\t* Use DP to determine optimal power-up collection strategies by maximizing future gains.\n",
    "\t\n",
    "Starting with a grid or graph representation of the game level will help lay the groundwork for each of these problems."
   ]
  },
  {
   "cell_type": "markdown",
   "id": "de24933a",
   "metadata": {},
   "source": [
    "## MIT 6006 analysis of Super Mario Bros (NES 1993)\n",
    "\n",
    "Goal: Run through and maximise score or minimise time lost\n",
    "\n",
    "* Given level $n$ information\n",
    "* Small screen $w$ x $h$ (320p)\n",
    "* Configuration - Game state ($S$): every pixel / square on screen: $c^{w\\cdot h}$\n",
    "    * everything on screen \n",
    "    * Mario's Velocity \n",
    "* Score ($S$) \n",
    "* Time ($T$)\n",
    "* Screen vs Level \n",
    "\n",
    "$O(w \\cdot c^{w\\cdot h} \\cdot S \\cdot T) $\n",
    "\n",
    "\n"
   ]
  },
  {
   "cell_type": "markdown",
   "id": "edab36b8",
   "metadata": {},
   "source": [
    "* Can draw a graph for all configurations of the above\n",
    "\n",
    "* For every configration, what are the possible things you could do? \n",
    "    * Constant number of choice \n",
    "\n",
    "DP: all of the above are subproblems.\n",
    "\n",
    "Can relate this subproblem to a constant number of other subproblems.\n",
    "\n",
    "You only pay constant time per subproblem. $O(1)$\n",
    "\n",
    "Psuedo-polynomial with respect to $S$ and $T$\n"
   ]
  },
  {
   "cell_type": "markdown",
   "id": "8b2d5b3e",
   "metadata": {},
   "source": [
    "## Scenario Exercise - Stock Management"
   ]
  },
  {
   "cell_type": "code",
   "execution_count": null,
   "id": "74cd2ca6",
   "metadata": {},
   "outputs": [],
   "source": []
  },
  {
   "cell_type": "markdown",
   "id": "0e91375f",
   "metadata": {},
   "source": [
    "## Summary \n",
    "\n",
    "* a\n",
    "\n",
    "* a\n",
    "\n",
    "* a"
   ]
  },
  {
   "cell_type": "markdown",
   "id": "1ca279b2",
   "metadata": {},
   "source": [
    "## Exercise \n",
    "\n",
    "Floyd Warshall algorithm - all-pairs shortest paths\n",
    "* This is a dynamic programming approach to build up the solution for the shortest paths step by step. \n",
    "* It considers each pair of vertices and iteratively improves the path between them by considering each possible intermediate vertex.\n",
    "*\n",
    "* Step 1. Initialization: \n",
    "*   Create a 2D array dist where dist[i][j] represents the shortest distance from vertex i to vertex j. \n",
    "*   Initialize dist[i][j] to the weight of the edge from i to j if it exists, otherwise to infinity. \n",
    "*   Set dist[i][i] = 0 for all vertices i.\n",
    "*\n",
    "* Step 2. Dynamic Programming:  \n",
    "*   Update the distance array dist by considering each vertex as an intermediate vertex and \n",
    "*   updating the shortest paths accordingly. For each pair of vertices (i, j), update dist[i][j].\n",
    "*\n",
    "* Step 3. Result: \n",
    "*   After considering all vertices as intermediate vertices, the dist array contains the \n",
    "*   shortest paths between all pairs of vertices."
   ]
  },
  {
   "cell_type": "markdown",
   "id": "554ca8df",
   "metadata": {},
   "source": [
    "## Exercise \n",
    "\n",
    "Write the Bellman-Ford algorithm with a dynamic programming table."
   ]
  },
  {
   "cell_type": "code",
   "execution_count": null,
   "id": "0e10e0f6",
   "metadata": {},
   "outputs": [],
   "source": [
    "def bellman_ford_dp(vertices, edges, source):\n",
    "    ..."
   ]
  },
  {
   "cell_type": "code",
   "execution_count": 2,
   "id": "9eae7e58",
   "metadata": {},
   "outputs": [
    {
     "name": "stdout",
     "output_type": "stream",
     "text": [
      "Vertex\tDistance from Source\n",
      "0\t0\n",
      "1\t-1\n",
      "2\t2\n",
      "3\t-2\n",
      "4\t1\n"
     ]
    }
   ],
   "source": [
    "V = 5\n",
    "\n",
    "# Edges (u, v, weight)\n",
    "edges = [\n",
    "    (0, 1, -1),\n",
    "    (0, 2, 4),\n",
    "    (1, 2, 3),\n",
    "    (1, 3, 2),\n",
    "    (1, 4, 2),\n",
    "    (3, 2, 5),\n",
    "    (3, 1, 1),\n",
    "    (4, 3, -3),\n",
    "]\n",
    "\n",
    "# Compute shortest paths from vertex 0\n",
    "distances = bellman_ford_dp(V, edges, 0)\n",
    "\n",
    "if distances:\n",
    "    print(\"Vertex\\tDistance from Source\")\n",
    "    for i, d in enumerate(distances):\n",
    "        print(f\"{i}\\t{d}\")"
   ]
  },
  {
   "cell_type": "markdown",
   "id": "2bb9e1ec",
   "metadata": {},
   "source": []
  },
  {
   "cell_type": "markdown",
   "id": "b0059a64",
   "metadata": {},
   "source": [
    "## Exercise \n",
    "\n",
    "Given a directed graph $G$ with $n$ nodes and $m$ edges, each edge $(u, v)$ has a capacity $c(u, v)$. Determine the maximum possible flow from a source $s$ to a sink $t$, such that the maximum flow through any single edge is minimized.\n",
    "\n",
    "This problem minimizes the “bottleneck” of the network, ensuring that no single edge carries an excessive amount of the flow."
   ]
  },
  {
   "cell_type": "code",
   "execution_count": null,
   "id": "a990a6d0",
   "metadata": {},
   "outputs": [],
   "source": []
  },
  {
   "cell_type": "markdown",
   "id": "7d06922b",
   "metadata": {},
   "source": [
    "## Exericse\n",
    "\n",
    "Given a flow network, find a path from $s$ to $t$ such that the minimum edge capacity along the path is maximized.\n",
    "\n",
    "Given a directed graph $G$ with $n$ nodes and $m$ edges, find the maximum flow $F$ from source $s$ to sink $t$, such that the minimum flow through any edge in the solution is maximized.\n",
    "\n",
    "Extension: This problem maximizes the smallest amount of flow on any edge used in the final flow, ensuring a “balanced” distribution of flow across the network."
   ]
  },
  {
   "cell_type": "code",
   "execution_count": null,
   "id": "c5636cde",
   "metadata": {},
   "outputs": [],
   "source": []
  },
  {
   "cell_type": "markdown",
   "id": "e036993e",
   "metadata": {},
   "source": [
    "## Additional exercises - Strings"
   ]
  },
  {
   "cell_type": "markdown",
   "id": "001ae1d4",
   "metadata": {},
   "source": [
    "## Exercise: \n",
    "\n",
    "Without using any functions provided by libraries (e.g. `reverse()`), implement a function that will reverse the contents of a string. "
   ]
  },
  {
   "cell_type": "code",
   "execution_count": null,
   "id": "5922c579",
   "metadata": {},
   "outputs": [],
   "source": [
    "# Write your solution here or in a dedicated py file.\n"
   ]
  },
  {
   "cell_type": "markdown",
   "id": "8660f435",
   "metadata": {},
   "source": [
    "## Exercise: \n",
    "\n",
    "Write a function that checks if a given string is a palindrome (same word forwards as backwards). Examples of palindromes include 'eve', 'madam', 'racecar' etc.\n"
   ]
  },
  {
   "cell_type": "code",
   "execution_count": null,
   "id": "7acd1ade",
   "metadata": {},
   "outputs": [],
   "source": [
    "# Write your solution here or in a dedicated py file.\n"
   ]
  },
  {
   "cell_type": "markdown",
   "id": "74540fe3",
   "metadata": {},
   "source": [
    "## Exercise:\n",
    "Write a function to determine if a string has all unique characters. Return `True` or `False` respectively."
   ]
  },
  {
   "cell_type": "code",
   "execution_count": null,
   "id": "d4cf9d17",
   "metadata": {},
   "outputs": [],
   "source": [
    "# Write your solution here or in a dedicated py file.\n"
   ]
  },
  {
   "cell_type": "markdown",
   "id": "a203dabe",
   "metadata": {},
   "source": [
    "## Exercise:\n",
    "\n",
    "Write a function that will replace all spaces in a string with \"%20\". This is the hexedecimal encoding that is used to replace spaces in URLs (which cannot contain spaces). "
   ]
  },
  {
   "cell_type": "code",
   "execution_count": null,
   "id": "d53fbd47",
   "metadata": {},
   "outputs": [],
   "source": [
    "# Write your solution here or in a dedicated py file.\n"
   ]
  },
  {
   "cell_type": "markdown",
   "id": "baf9c196",
   "metadata": {},
   "source": [
    "## Exercise: \n",
    "\n",
    "Write a function that checks whether two given strings are anagrams of each other.\n",
    "Definition of an anagram is being able to make another word from the same characters: 'mood' and 'doom', 'listen' and 'silent' "
   ]
  },
  {
   "cell_type": "code",
   "execution_count": null,
   "id": "14476b80",
   "metadata": {},
   "outputs": [],
   "source": [
    "# Write your solution here or in a dedicated py file.\n"
   ]
  },
  {
   "cell_type": "markdown",
   "id": "127c7ad2",
   "metadata": {},
   "source": [
    "## Exercise: \n",
    "\n",
    "Write a function that will replace all spaces in a string with \"%20\". This is the hexedecimal encoding that is used to replace spaces in URLs (which cannot contain spaces). "
   ]
  },
  {
   "cell_type": "code",
   "execution_count": null,
   "id": "160357a0",
   "metadata": {},
   "outputs": [],
   "source": [
    "# Write your solution here or in a dedicated py file.\n"
   ]
  },
  {
   "cell_type": "markdown",
   "id": "fb89e781",
   "metadata": {},
   "source": [
    "## Additional Exercises - Maths"
   ]
  },
  {
   "cell_type": "markdown",
   "id": "83a7315f",
   "metadata": {},
   "source": [
    "## Exercise \n",
    "\n",
    "Write to function which will evaluate whether a number passed in is prime (divisible by itself and 1) or not. Return `True` if the number is prime, and return `False` if the number is not. Test this with a range of positive integers. "
   ]
  },
  {
   "cell_type": "code",
   "execution_count": null,
   "id": "a82c1502",
   "metadata": {},
   "outputs": [],
   "source": [
    "# Write your solution here or in a dedicated py file.\n"
   ]
  },
  {
   "cell_type": "markdown",
   "id": "a3598ca9",
   "metadata": {},
   "source": [
    "## Exercise \n",
    "\n",
    "Generate three side lengths of a triangle (positive integers). Write a function that will determine whether these form a right-angled triangle using Pythagoras’ theorem.\n",
    "\n",
    "As a reminder, Pythagoras' theorem is: $a^2 + b^2 = c^2$\n"
   ]
  },
  {
   "cell_type": "code",
   "execution_count": null,
   "id": "c43fb371",
   "metadata": {},
   "outputs": [],
   "source": [
    "# Write your solution here or in a dedicated py file.\n"
   ]
  },
  {
   "cell_type": "markdown",
   "id": "9eeff6fa",
   "metadata": {},
   "source": [
    "## Exercise \n",
    "Calculate the distance between two points $(x_1, y_1)$ and $(x_2, y_2)$ in a 2D plane using Pythagoras’ theorem.\n",
    "\n",
    "Hint: To calculate distance (denoted as $d$) applying the following formula:   \n",
    "$d = \\sqrt{(x_2 - x_1)^2 + (y_2 - y_1)^2}$ \n",
    "\n",
    "Extension: import matplotlib and draw these points and the line between them on a 2D plot."
   ]
  },
  {
   "cell_type": "code",
   "execution_count": null,
   "id": "6d37577e",
   "metadata": {},
   "outputs": [],
   "source": [
    "# Write your solution here or in a dedicated py file.\n"
   ]
  },
  {
   "cell_type": "markdown",
   "id": "981726bc",
   "metadata": {},
   "source": [
    "## Exercise \n",
    "\n",
    "Now, write a function which will output all prime numbers up to $N$ (which you pass in).\n",
    "If you get stuck, research the 'Sieve of Eratosthenes` and implement this algorithm to output the prime numbers in sequence up until the upper bound $N$ as specified."
   ]
  },
  {
   "cell_type": "code",
   "execution_count": null,
   "id": "6e629cb4",
   "metadata": {},
   "outputs": [],
   "source": [
    "# Write your solution here or in a dedicated py file.\n"
   ]
  },
  {
   "cell_type": "markdown",
   "id": "adfae9e9",
   "metadata": {},
   "source": [
    "## Additional OOP Exercises!"
   ]
  },
  {
   "cell_type": "markdown",
   "id": "91696723",
   "metadata": {},
   "source": [
    "## Exercise 1: \n",
    "\n",
    "Design the data structures for a generic deck of cards. Explain how you would subclass the data structures to implement blackjack (21). "
   ]
  },
  {
   "cell_type": "code",
   "execution_count": null,
   "id": "d398f704",
   "metadata": {},
   "outputs": [],
   "source": [
    "# Write your solution here or in a dedicated py file.\n"
   ]
  },
  {
   "cell_type": "markdown",
   "id": "8712ca5d",
   "metadata": {},
   "source": [
    "## Exercise 2: \n",
    "\n",
    "Imagine you have a call centre with three levels of employees: respondent, manager and director. An incoming telephone call must be first allocated to a respondent who is free. If a respondent can't handle the call, they must escalate the call to the manager. If the manager is not free or not able to handle it, then the call should be escalated to a director. Design classes and data structures for this problem. Implement a function `dispatch_call()` which assigns the call to the first available employee. "
   ]
  },
  {
   "cell_type": "code",
   "execution_count": null,
   "id": "b5a355fd",
   "metadata": {},
   "outputs": [],
   "source": [
    "# Write your solution here or in a dedicated py file.\n"
   ]
  },
  {
   "cell_type": "markdown",
   "id": "c5438444",
   "metadata": {},
   "source": [
    "## Exercise 3: \n",
    "\n",
    "Implement a jigsaw puzzle. Design the data structures and explain an algorithm to solve the puzzle. You can assume that you have a `fits_with()` function, which when passed two puzzle pieces, returns `True` if the pieces fit together. "
   ]
  },
  {
   "cell_type": "code",
   "execution_count": null,
   "id": "535aa15a",
   "metadata": {},
   "outputs": [],
   "source": [
    "# Write your solution here or in a dedicated py file.\n"
   ]
  }
 ],
 "metadata": {
  "colab": {
   "provenance": []
  },
  "kernelspec": {
   "display_name": "Python 3",
   "language": "python",
   "name": "python3"
  },
  "language_info": {
   "codemirror_mode": {
    "name": "ipython",
    "version": 3
   },
   "file_extension": ".py",
   "mimetype": "text/x-python",
   "name": "python",
   "nbconvert_exporter": "python",
   "pygments_lexer": "ipython3",
   "version": "3.9.6"
  }
 },
 "nbformat": 4,
 "nbformat_minor": 5
}
