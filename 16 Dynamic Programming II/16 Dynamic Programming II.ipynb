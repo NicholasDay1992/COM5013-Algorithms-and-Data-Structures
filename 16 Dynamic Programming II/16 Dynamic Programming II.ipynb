{
 "cells": [
  {
   "cell_type": "markdown",
   "id": "1eba3b72",
   "metadata": {
    "id": "1eba3b72"
   },
   "source": [
    "# 16 Dynamic Programming II"
   ]
  },
  {
   "cell_type": "markdown",
   "id": "57bc8bf6",
   "metadata": {},
   "source": [
    "## Plan for the Lecture\n",
    "\n",
    "1. Recap on DP strategies (top-down vs bottom-up)\n",
    "\n",
    "2. DP applied to Shortest Paths (DAGs)\n",
    "\n",
    "3. Network Flow - capacity - minimax and maximin\n",
    "\n",
    "4. Other examples - 21/Blackjack + Super Mario! "
   ]
  },
  {
   "cell_type": "markdown",
   "id": "58884b0b",
   "metadata": {},
   "source": [
    "## Recap: Top-down vs Bottom-up DP\n",
    "\n",
    "* Dynamic Programming is a 'style' of programming (algorithms). \n",
    "\n",
    "* Top-down approaches apply memoization - store previously computed problems to enable reuse (fibonacci example)\n",
    "\n",
    "* Bottom-up approaches are iterative - construct solutions to smaller subproblems, and then use these solutions to construct solutions to larger problems. \n",
    "\n",
    "<!--![top_down_vs_bottom_up](https://techdifferences.com/wp-content/uploads/2018/06/top-down-vs-bottom-up.jpg)-->\n",
    "\n",
    "![top_vs_bottom](https://files.codingninjas.in/article_images/custom-upload-1687254632-4fa85c47.webp)"
   ]
  },
  {
   "cell_type": "markdown",
   "id": "e9d5f083",
   "metadata": {},
   "source": [
    "## Recap: Fibonacci example\n",
    "\n",
    "$F(n) = F(n-1) + F(n-2)$    for $n >=2 $ \n",
    "\n",
    "* Drawing the recursion stack: \n",
    "\n",
    "![Recursive_fib_tree](https://i.sstatic.net/8O0eb.jpg)"
   ]
  },
  {
   "cell_type": "code",
   "execution_count": 6,
   "id": "750ba950",
   "metadata": {},
   "outputs": [],
   "source": [
    "fib_naive_count = 0\n",
    "\n",
    "def fib_naive(n):\n",
    "    global fib_naive_count\n",
    "    fib_naive_count += 1 \n",
    "    \n",
    "    if n == 0: \n",
    "        return 0;     #base case F(0) = 0\n",
    "    if n == 1: \n",
    "        return 1;     #base case F(1) = 0\n",
    "    return fib_naive(n - 1) + fib_naive(n - 2);     #recursive call"
   ]
  },
  {
   "cell_type": "code",
   "execution_count": 7,
   "id": "155ea5a5",
   "metadata": {},
   "outputs": [
    {
     "name": "stdout",
     "output_type": "stream",
     "text": [
      "f(0) = 0 - took 1 operations to compute\n",
      "f(1) = 1 - took 1 operations to compute\n",
      "f(2) = 1 - took 3 operations to compute\n",
      "f(3) = 2 - took 5 operations to compute\n",
      "f(4) = 3 - took 9 operations to compute\n",
      "f(5) = 5 - took 15 operations to compute\n",
      "f(6) = 8 - took 25 operations to compute\n",
      "f(7) = 13 - took 41 operations to compute\n",
      "f(8) = 21 - took 67 operations to compute\n",
      "f(9) = 34 - took 109 operations to compute\n",
      "f(10) = 55 - took 177 operations to compute\n",
      "f(11) = 89 - took 287 operations to compute\n",
      "f(12) = 144 - took 465 operations to compute\n",
      "f(13) = 233 - took 753 operations to compute\n",
      "f(14) = 377 - took 1219 operations to compute\n"
     ]
    }
   ],
   "source": [
    "for i in range (0,15):\n",
    "    fib_naive_count = 0\n",
    "    print(\"f(\" + str(i) + \") = \" + str( fib_naive(i))+ \" - took \" + str(fib_naive_count) + \" operations to compute\")"
   ]
  },
  {
   "cell_type": "code",
   "execution_count": 8,
   "id": "f314d9ce",
   "metadata": {},
   "outputs": [
    {
     "name": "stdout",
     "output_type": "stream",
     "text": [
      "f(15) = 610 - took 1973 operations to compute\n",
      "f(16) = 987 - took 3193 operations to compute\n",
      "f(17) = 1597 - took 5167 operations to compute\n",
      "f(18) = 2584 - took 8361 operations to compute\n",
      "f(19) = 4181 - took 13529 operations to compute\n",
      "f(20) = 6765 - took 21891 operations to compute\n",
      "f(21) = 10946 - took 35421 operations to compute\n",
      "f(22) = 17711 - took 57313 operations to compute\n",
      "f(23) = 28657 - took 92735 operations to compute\n",
      "f(24) = 46368 - took 150049 operations to compute\n",
      "f(25) = 75025 - took 242785 operations to compute\n",
      "f(26) = 121393 - took 392835 operations to compute\n",
      "f(27) = 196418 - took 635621 operations to compute\n",
      "f(28) = 317811 - took 1028457 operations to compute\n",
      "f(29) = 514229 - took 1664079 operations to compute\n",
      "f(30) = 832040 - took 2692537 operations to compute\n",
      "f(31) = 1346269 - took 4356617 operations to compute\n",
      "f(32) = 2178309 - took 7049155 operations to compute\n",
      "f(33) = 3524578 - took 11405773 operations to compute\n",
      "f(34) = 5702887 - took 18454929 operations to compute\n",
      "f(35) = 9227465 - took 29860703 operations to compute\n"
     ]
    }
   ],
   "source": [
    "for i in range (15,36):\n",
    "    fib_naive_count = 0\n",
    "    print(\"f(\" + str(i) + \") = \" + str( fib_naive(i))+ \" - took \" + str(fib_naive_count) + \" operations to compute\")"
   ]
  },
  {
   "cell_type": "markdown",
   "id": "8e9397b7",
   "metadata": {},
   "source": [
    "## Top-Down with a Memo\n",
    "<img src=\"https://miro.medium.com/v2/format:webp/1*rCch4Ju3PcPPMpvFireFyQ.png\" alt=\"fib_top_down\" width=\"650\">  "
   ]
  },
  {
   "cell_type": "code",
   "execution_count": 9,
   "id": "213255f2",
   "metadata": {},
   "outputs": [],
   "source": [
    "fib_memo_count = 0\n",
    "\n",
    "def fib_memo(n, memo=None):\n",
    "    global fib_memo_count\n",
    "    fib_memo_count += 1 \n",
    "    \n",
    "    if memo is None:\n",
    "        memo = {}\n",
    "    if n in memo:\n",
    "        return memo[n]\n",
    "    if n <= 0:\n",
    "        return 0\n",
    "    elif n == 1:\n",
    "        return 1\n",
    "    memo[n] = fib_memo(n-1, memo) + fib_memo(n-2, memo)\n",
    "    return memo[n]"
   ]
  },
  {
   "cell_type": "code",
   "execution_count": 13,
   "id": "f6978dfc",
   "metadata": {},
   "outputs": [
    {
     "name": "stdout",
     "output_type": "stream",
     "text": [
      "f(0) = 0 - took 1 operations to compute\n",
      "f(1) = 1 - took 1 operations to compute\n",
      "f(2) = 1 - took 3 operations to compute\n",
      "f(3) = 2 - took 5 operations to compute\n",
      "f(4) = 3 - took 7 operations to compute\n",
      "f(5) = 5 - took 9 operations to compute\n",
      "f(6) = 8 - took 11 operations to compute\n",
      "f(7) = 13 - took 13 operations to compute\n",
      "f(8) = 21 - took 15 operations to compute\n",
      "f(9) = 34 - took 17 operations to compute\n",
      "f(10) = 55 - took 19 operations to compute\n",
      "f(11) = 89 - took 21 operations to compute\n",
      "f(12) = 144 - took 23 operations to compute\n",
      "f(13) = 233 - took 25 operations to compute\n",
      "f(14) = 377 - took 27 operations to compute\n"
     ]
    }
   ],
   "source": [
    "test_values = range(0,15)\n",
    "for i in test_values:\n",
    "    fib_memo_count = 0\n",
    "    print(\"f(\" + str(i) + \") = \" + str( fib_memo(i))+ \" - took \" + str(fib_memo_count) + \" operations to compute\")"
   ]
  },
  {
   "cell_type": "code",
   "execution_count": 14,
   "id": "7c63aad8",
   "metadata": {},
   "outputs": [
    {
     "name": "stdout",
     "output_type": "stream",
     "text": [
      "f(15) = 610 - took 29 operations to compute\n",
      "f(16) = 987 - took 31 operations to compute\n",
      "f(17) = 1597 - took 33 operations to compute\n",
      "f(18) = 2584 - took 35 operations to compute\n",
      "f(19) = 4181 - took 37 operations to compute\n",
      "f(20) = 6765 - took 39 operations to compute\n",
      "f(21) = 10946 - took 41 operations to compute\n",
      "f(22) = 17711 - took 43 operations to compute\n",
      "f(23) = 28657 - took 45 operations to compute\n",
      "f(24) = 46368 - took 47 operations to compute\n",
      "f(25) = 75025 - took 49 operations to compute\n",
      "f(26) = 121393 - took 51 operations to compute\n",
      "f(27) = 196418 - took 53 operations to compute\n",
      "f(28) = 317811 - took 55 operations to compute\n",
      "f(29) = 514229 - took 57 operations to compute\n",
      "f(30) = 832040 - took 59 operations to compute\n",
      "f(31) = 1346269 - took 61 operations to compute\n",
      "f(32) = 2178309 - took 63 operations to compute\n",
      "f(33) = 3524578 - took 65 operations to compute\n",
      "f(34) = 5702887 - took 67 operations to compute\n",
      "f(35) = 9227465 - took 69 operations to compute\n"
     ]
    }
   ],
   "source": [
    "test_values = range(15,36)\n",
    "for i in test_values:\n",
    "    fib_memo_count = 0\n",
    "    print(\"f(\" + str(i) + \") = \" + str( fib_memo(i))+ \" - took \" + str(fib_memo_count) + \" operations to compute\")"
   ]
  },
  {
   "cell_type": "markdown",
   "id": "a9094714",
   "metadata": {},
   "source": [
    "## Bottom-Up with Iteration\n",
    "\n",
    "<img src=\"https://miro.medium.com/v2/format:webp/1*9YUE1V0fYhFujaXEcmX3wg.png\" alt=\"fib_bottom_up\" width=\"650\">  "
   ]
  },
  {
   "cell_type": "code",
   "execution_count": 15,
   "id": "cc5449d4",
   "metadata": {},
   "outputs": [],
   "source": [
    "fib_iterative_count = 0 \n",
    "def fib_iterative(n):\n",
    "    #if n < 0:\n",
    "    #    raise ValueError(\"Fibonacci number is not defined for negative integers.\")\n",
    "    global fib_iterative_count\n",
    "    if n == 0:\n",
    "        return 0\n",
    "    if n == 1:\n",
    "        return 1\n",
    "    prev, curr = 0, 1\n",
    "    for _ in range(2, n+1):\n",
    "        fib_iterative_count += 1 \n",
    "        prev, curr = curr, prev + curr\n",
    "    return curr"
   ]
  },
  {
   "cell_type": "code",
   "execution_count": 16,
   "id": "02a61902",
   "metadata": {},
   "outputs": [
    {
     "name": "stdout",
     "output_type": "stream",
     "text": [
      "f(0) = 0 - took 0 operations to compute\n",
      "f(1) = 1 - took 0 operations to compute\n",
      "f(2) = 1 - took 1 operations to compute\n",
      "f(3) = 2 - took 2 operations to compute\n",
      "f(4) = 3 - took 3 operations to compute\n",
      "f(5) = 5 - took 4 operations to compute\n",
      "f(6) = 8 - took 5 operations to compute\n",
      "f(7) = 13 - took 6 operations to compute\n",
      "f(8) = 21 - took 7 operations to compute\n",
      "f(9) = 34 - took 8 operations to compute\n",
      "f(10) = 55 - took 9 operations to compute\n",
      "f(11) = 89 - took 10 operations to compute\n",
      "f(12) = 144 - took 11 operations to compute\n",
      "f(13) = 233 - took 12 operations to compute\n",
      "f(14) = 377 - took 13 operations to compute\n"
     ]
    }
   ],
   "source": [
    "test_values = range(0,15)\n",
    "for i in test_values:\n",
    "    fib_iterative_count = 0\n",
    "    print(\"f(\" + str(i) + \") = \" + str( fib_iterative(i))+ \" - took \" + str(fib_iterative_count) + \" operations to compute\")"
   ]
  },
  {
   "cell_type": "code",
   "execution_count": 17,
   "id": "29552d6e",
   "metadata": {},
   "outputs": [
    {
     "name": "stdout",
     "output_type": "stream",
     "text": [
      "f(15) = 610 - took 14 operations to compute\n",
      "f(16) = 987 - took 15 operations to compute\n",
      "f(17) = 1597 - took 16 operations to compute\n",
      "f(18) = 2584 - took 17 operations to compute\n",
      "f(19) = 4181 - took 18 operations to compute\n",
      "f(20) = 6765 - took 19 operations to compute\n",
      "f(21) = 10946 - took 20 operations to compute\n",
      "f(22) = 17711 - took 21 operations to compute\n",
      "f(23) = 28657 - took 22 operations to compute\n",
      "f(24) = 46368 - took 23 operations to compute\n",
      "f(25) = 75025 - took 24 operations to compute\n",
      "f(26) = 121393 - took 25 operations to compute\n",
      "f(27) = 196418 - took 26 operations to compute\n",
      "f(28) = 317811 - took 27 operations to compute\n",
      "f(29) = 514229 - took 28 operations to compute\n",
      "f(30) = 832040 - took 29 operations to compute\n",
      "f(31) = 1346269 - took 30 operations to compute\n",
      "f(32) = 2178309 - took 31 operations to compute\n",
      "f(33) = 3524578 - took 32 operations to compute\n",
      "f(34) = 5702887 - took 33 operations to compute\n",
      "f(35) = 9227465 - took 34 operations to compute\n"
     ]
    }
   ],
   "source": [
    "test_values = range(15,36)\n",
    "for i in test_values:\n",
    "    fib_iterative_count = 0\n",
    "    print(\"f(\" + str(i) + \") = \" + str( fib_iterative(i))+ \" - took \" + str(fib_iterative_count) + \" operations to compute\")"
   ]
  },
  {
   "cell_type": "markdown",
   "id": "190240ce",
   "metadata": {},
   "source": [
    "## Recap on runtimes\n",
    "\n",
    "* Quadratic Time $O(n^2)$ : A specific type of polynomial time with performance scaling as the square of the input size. Common in simple, often inefficient algorithms.\n",
    "\n",
    "* Polynomial Time $O(n^k)$ : A broad category encompassing all algorithms whose running times are polynomial in the input size. Central to the concept of efficient, tractable algorithms.\n",
    "\n",
    "* Pseudo-Polynomial Time $O(n \\cdot m)$ : Algorithms whose running time depends on the numeric values within the input rather than solely on input size. Efficient for small numeric inputs but can be impractical for large values.\n"
   ]
  },
  {
   "cell_type": "markdown",
   "id": "fd1d1f33",
   "metadata": {},
   "source": []
  },
  {
   "cell_type": "markdown",
   "id": "65e77150",
   "metadata": {},
   "source": [
    "## We also saw how both Fibonacci Numbers and LCS could be modelled as a dependency DAG:\n",
    "\n",
    "* The fibonacci formula: \n",
    "$F(n) = F(n-1) + F(n-2)$  \n",
    "\n",
    "* This be codified as: \n",
    "\n",
    "```\n",
    "        _ _ _ _ _ _ _ _ _ _ _ _ _\n",
    "      /         /        \\       \\\n",
    "    F(n-3) -> F(n-2) -> F(n-1) ->  F(n)\n",
    "\n",
    "```\n",
    "* For example: \n",
    "```\n",
    "        _ _ _ _ _ _ _ _ _ _ _ _ _ _ _ _ _ _ \n",
    "      /         /        \\        \\         \\\n",
    "    F(1) ->   F(2)  ->   F(3)  ->  F(4)  ->  F(5)\n",
    "\n",
    "```"
   ]
  },
  {
   "cell_type": "markdown",
   "id": "1556276c",
   "metadata": {},
   "source": [
    "<img src=\"https://miro.medium.com/v2/format:webp/1*9YUE1V0fYhFujaXEcmX3wg.png\" alt=\"fib_bottom_up\" width=\"650\">  "
   ]
  },
  {
   "cell_type": "markdown",
   "id": "09ebec54",
   "metadata": {},
   "source": [
    "## LCS DAG: \n",
    "\n",
    "* The diagonal pointers show the common letters between the two strings (to construct the LCS)\n",
    "\n",
    "* The edges are the base cases \n",
    "\n",
    "![dependency_dag](https://encrypted-tbn0.gstatic.com/images?q=tbn:ANd9GcTRJg03deQC5nqMTA9MB2QuibPvpSx2SpPsVeC17SENGkqfPkaoPu4dxn1VJVLufnu3Fx8&usqp=CAU)"
   ]
  },
  {
   "cell_type": "code",
   "execution_count": 27,
   "id": "1c2c0fd8",
   "metadata": {},
   "outputs": [
    {
     "data": {
      "image/png": "[encoded data removed]",
      "text/plain": [
       "<Figure size 1000x600 with 1 Axes>"
      ]
     },
     "metadata": {},
     "output_type": "display_data"
    }
   ],
   "source": [
    "import networkx as nx\n",
    "import matplotlib.pyplot as plt\n",
    "\n",
    "def lcs_dependency_dag(A, B):\n",
    "    n, m = len(A), len(B)\n",
    "    dag = nx.DiGraph()\n",
    "\n",
    "    # Add nodes and dependencies\n",
    "    for i in range(n + 1):\n",
    "        for j in range(m + 1):\n",
    "            node = f\"({i},{j})\"\n",
    "            dag.add_node(node)\n",
    "            \n",
    "            # Add diagonal dependency (if characters match)\n",
    "            if i > 0 and j > 0:\n",
    "                dag.add_edge(f\"({i-1},{j-1})\", node, match=(A[i-1] == B[j-1]))\n",
    "            \n",
    "            # Add vertical dependency\n",
    "            if i > 0:\n",
    "                dag.add_edge(f\"({i-1},{j})\", node, match=False)\n",
    "            \n",
    "            # Add horizontal dependency\n",
    "            if j > 0:\n",
    "                dag.add_edge(f\"({i},{j-1})\", node, match=False)\n",
    "\n",
    "    return dag\n",
    "\n",
    "def draw_dependency_dag(dag, A, B):\n",
    "    # Assign positions based on table layout\n",
    "    pos = {}\n",
    "    n, m = len(A), len(B)\n",
    "    for i in range(n + 1):\n",
    "        for j in range(m + 1):\n",
    "            pos[f\"({i},{j})\"] = (j, -i)  # X: column (j), Y: row (i, flipped for top-to-bottom)\n",
    "\n",
    "    # Separate edges by type\n",
    "    red_edges = [(u, v) for u, v, d in dag.edges(data=True) if d[\"match\"]]\n",
    "    gray_edges = [(u, v) for u, v, d in dag.edges(data=True) if not d[\"match\"]]\n",
    "\n",
    "    # Draw the graph\n",
    "    plt.figure(figsize=(10, 6))\n",
    "    nx.draw(\n",
    "        dag,\n",
    "        pos,\n",
    "        with_labels=True,\n",
    "        node_size=1000,\n",
    "        node_color=\"lightblue\",\n",
    "        font_size=8,\n",
    "        font_weight=\"bold\",\n",
    "        edge_color=\"gray\",\n",
    "    )\n",
    "\n",
    "    # Draw edges\n",
    "    nx.draw_networkx_edges(dag, pos, edgelist=red_edges, edge_color=\"red\", width=2)\n",
    "    nx.draw_networkx_edges(dag, pos, edgelist=gray_edges, edge_color=\"gray\", width=1)\n",
    "\n",
    "    # Add labels for the strings\n",
    "    for j, char in enumerate(\" \" + B):\n",
    "        plt.text(j, 1, char, fontsize=12, ha=\"center\", color=\"darkred\")  # Above row 0\n",
    "    for i, char in enumerate(\" \" + A):\n",
    "        plt.text(-1, -i, char, fontsize=12, va=\"center\", color=\"darkgreen\")  # Left of column 0\n",
    "\n",
    "    plt.title(\"Dependency DAG for LCS with Matching Edges Highlighted\", fontsize=16)\n",
    "    plt.show()\n",
    "\n",
    "# Example usage\n",
    "A = \"ABCD\"\n",
    "B = \"BCDE\"\n",
    "dag = lcs_dependency_dag(A, B)\n",
    "draw_dependency_dag(dag, A, B)"
   ]
  },
  {
   "cell_type": "markdown",
   "id": "2fabe614",
   "metadata": {},
   "source": [
    "We looked to find the maximum of the edges if you remember the code:\n",
    "\n",
    "* `max(helper(i - 1, j), helper(i, j - 1))`"
   ]
  },
  {
   "cell_type": "code",
   "execution_count": 29,
   "id": "72f48ac9",
   "metadata": {},
   "outputs": [],
   "source": [
    "def lcs_top_down(X, Y):\n",
    "    n, m = len(X), len(Y)\n",
    "    memo = [[-1] * (m + 1) for _ in range(n + 1)]\n",
    "\n",
    "    def helper(i, j):\n",
    "        if i == 0 or j == 0:\n",
    "            return 0\n",
    "        if memo[i][j] != -1:\n",
    "            return memo[i][j]\n",
    "        if X[i - 1] == Y[j - 1]:\n",
    "            memo[i][j] = 1 + helper(i - 1, j - 1)\n",
    "        else:\n",
    "            memo[i][j] = max(helper(i - 1, j), helper(i, j - 1))\n",
    "        return memo[i][j]\n",
    "\n",
    "    return helper(n, m)"
   ]
  },
  {
   "cell_type": "code",
   "execution_count": 30,
   "id": "a91e2e72",
   "metadata": {},
   "outputs": [
    {
     "name": "stdout",
     "output_type": "stream",
     "text": [
      "LCS Length (Top-Down): 3\n"
     ]
    }
   ],
   "source": [
    "A = \"abcd\"\n",
    "B = \"bcde\"\n",
    "print(\"LCS Length (Top-Down):\", lcs_top_down(A, B))"
   ]
  },
  {
   "cell_type": "markdown",
   "id": "7ebed408",
   "metadata": {},
   "source": [
    "## Let's apply this principle to Shortest Paths\n",
    "\n",
    "* Remember your DP principles - optimal substructure. \n",
    "\n",
    "* <b>Any subset of a shortest path, is a shortest path</b>. \n",
    "\n",
    "* Furthermore, if we're trying to find the shortest path - we're looking for the `min()` of all the incoming edges\n",
    "\n",
    "![shortest_path](https://upload.wikimedia.org/wikipedia/commons/thumb/3/3b/Shortest_path_with_direct_weights.svg/512px-Shortest_path_with_direct_weights.svg.png)"
   ]
  },
  {
   "cell_type": "markdown",
   "id": "bc174c4d",
   "metadata": {},
   "source": [
    "Shortest path from A to F: \n",
    "\n",
    "A->C->E->D->F = 20\n",
    "\n",
    "Substructures: \n",
    "\n",
    "A->C = 2\n",
    "\n",
    "A->C->E = 5\n",
    "\n",
    "A->C->E->D = 9 "
   ]
  },
  {
   "cell_type": "markdown",
   "id": "5a0c9f59",
   "metadata": {},
   "source": [
    "## How can we compute this? \n",
    "\n",
    "* Remember we said that Dynamic Programming is 'careful brute force'... \n",
    "\n",
    "* If we don't know the answer - guess! \n",
    "\n",
    "* With DP - we try all the guesses and find the `min()` or `max()`\n",
    "\n",
    "* If we're trying to find the shortest path - we're looking for "
   ]
  },
  {
   "cell_type": "markdown",
   "id": "cfbfb2c0",
   "metadata": {},
   "source": [
    "## Indegrees and Outdegrees \n",
    "\n",
    "* Indegree: the number of edges coming to the vertex\n",
    "\n",
    "* Outdegree: the number of edges coming out the vertex\n",
    "\n",
    "<img src=\"https://miro.medium.com/v2/resize:fit:1400/format:webp/1*C-aiojwAJBzzn8Jdw-xUwg.png\" alt=\"indegree\" width=\"650\">  "
   ]
  },
  {
   "cell_type": "markdown",
   "id": "c37dbb49",
   "metadata": {},
   "source": [
    "## Relax edges\n",
    "\n",
    "* Relaxing an edge in the context of graph algorithms means updating the shortest known distance to a vertex if a shorter path is found through that edge. \n",
    "\n",
    "* This operation is a key step in algorithms like Dijkstra’s algorithm and the Bellman-Ford algorithm.\n",
    "\n",
    "![dijalgo2](https://2497063786-files.gitbook.io/~/files/v0/b/gitbook-legacy-files/o/assets%2F-LdGcqx-Ay6h4-DM_J08%2F-LdQqBd3uKWBVNik1EzU%2F-LdQqDsb98yf6tUa_Yif%2Fdijkstra.gif?alt=media&token=a2c261f8-3e0a-46ab-a6cc-abe9f6b2b934)"
   ]
  },
  {
   "cell_type": "code",
   "execution_count": 1,
   "id": "3261dc09",
   "metadata": {},
   "outputs": [],
   "source": [
    "def shortest_path_dag(vertices, edges, source):\n",
    "    from collections import defaultdict, deque\n",
    "\n",
    "    # Adjacency list and indegree calculation for topological sort\n",
    "    graph = defaultdict(list)\n",
    "    indegree = {v: 0 for v in vertices}\n",
    "\n",
    "    for u, v, w in edges:\n",
    "        graph[u].append((v, w))\n",
    "        indegree[v] += 1\n",
    "\n",
    "    # Topological sort\n",
    "    queue = deque([v for v in vertices if indegree[v] == 0])\n",
    "    top_order = []\n",
    "\n",
    "    while queue:\n",
    "        u = queue.popleft()\n",
    "        top_order.append(u)\n",
    "        for v, _ in graph[u]:\n",
    "            indegree[v] -= 1\n",
    "            if indegree[v] == 0:\n",
    "                queue.append(v)\n",
    "\n",
    "    # Initialize DP array\n",
    "    dp = {v: float(\"inf\") for v in vertices}\n",
    "    dp[source] = 0\n",
    "\n",
    "    # Relax edges in topological order\n",
    "    for u in top_order:\n",
    "        for v, w in graph[u]:\n",
    "            if dp[u] + w < dp[v]:\n",
    "                dp[v] = dp[u] + w\n",
    "\n",
    "    return dp"
   ]
  },
  {
   "cell_type": "code",
   "execution_count": 2,
   "id": "80c7de66",
   "metadata": {},
   "outputs": [],
   "source": [
    "from collections import deque\n",
    "\n",
    "def topological_sort(graph):\n",
    "    \"\"\"\n",
    "    Perform topological sort on a directed acyclic graph (DAG).\n",
    "    \n",
    "    Args:\n",
    "    - graph: Dictionary representing the adjacency list of the graph.\n",
    "             Example: {0: [(1, weight), (2, weight)], 1: [(3, weight)], 2: [(3, weight)], 3: []}\n",
    "             \n",
    "    Returns:\n",
    "    - topo_order: List of nodes in topological order.\n",
    "    \"\"\"\n",
    "    # Step 1: Compute in-degrees of all nodes\n",
    "    in_degree = {node: 0 for node in graph}\n",
    "    for u in graph:\n",
    "        for v, _ in graph[u]:  # Only care about the target node, ignore the weight\n",
    "            in_degree[v] += 1\n",
    "\n",
    "    # Step 2: Collect all nodes with zero in-degree\n",
    "    zero_in_degree = deque([node for node in in_degree if in_degree[node] == 0])\n",
    "    topo_order = []\n",
    "\n",
    "    # Step 3: Process nodes with zero in-degree\n",
    "    while zero_in_degree:\n",
    "        node = zero_in_degree.popleft()\n",
    "        topo_order.append(node)\n",
    "\n",
    "        # Reduce the in-degree of neighbors\n",
    "        for neighbor, _ in graph[node]:\n",
    "            in_degree[neighbor] -= 1\n",
    "            if in_degree[neighbor] == 0:\n",
    "                zero_in_degree.append(neighbor)\n",
    "\n",
    "    # If the graph has a cycle, topological sort is not possible\n",
    "    if len(topo_order) != len(graph):\n",
    "        raise ValueError(\"Graph contains a cycle and is not a DAG!\")\n",
    "\n",
    "    return topo_order"
   ]
  },
  {
   "cell_type": "markdown",
   "id": "be556143",
   "metadata": {},
   "source": [
    "## Shortest path - we look for the `min()` of all incoming edges"
   ]
  },
  {
   "cell_type": "code",
   "execution_count": 4,
   "id": "a1a3fb32",
   "metadata": {},
   "outputs": [],
   "source": [
    "def shortest_path_dag(graph, source):\n",
    "    n = len(graph)\n",
    "    dp = [float('inf')] * n  # Initialize distances to infinity\n",
    "    dp[source] = 0  # Distance to the source is 0\n",
    "\n",
    "    # Topologically sort the graph\n",
    "    topo_order = topological_sort(graph)\n",
    "\n",
    "    for u in topo_order:\n",
    "        for v, weight in graph[u]:\n",
    "            dp[v] = min(dp[v], dp[u] + weight)\n",
    "\n",
    "    return dp"
   ]
  },
  {
   "cell_type": "markdown",
   "id": "8ac77b2f",
   "metadata": {},
   "source": [
    "## Longest path - we look for the `max()` of all incoming edges"
   ]
  },
  {
   "cell_type": "code",
   "execution_count": 5,
   "id": "7ffc939a",
   "metadata": {},
   "outputs": [],
   "source": [
    "def longest_path_dag(graph, source):\n",
    "    n = len(graph)\n",
    "    dp = [-float('inf')] * n  # Initialize distances to negative infinity\n",
    "    dp[source] = 0  # Distance to the source is 0\n",
    "\n",
    "    # Topologically sort the graph\n",
    "    topo_order = topological_sort(graph)\n",
    "\n",
    "    for u in topo_order:\n",
    "        for v, weight in graph[u]:\n",
    "            dp[v] = max(dp[v], dp[u] + weight)\n",
    "\n",
    "    return dp"
   ]
  },
  {
   "cell_type": "code",
   "execution_count": 6,
   "id": "6197b610",
   "metadata": {},
   "outputs": [
    {
     "name": "stdout",
     "output_type": "stream",
     "text": [
      "Shortest Path: [0, 2, 4, 5]\n",
      "Longest Path: [0, 2, 4, 9]\n"
     ]
    }
   ],
   "source": [
    "# Example graph as adjacency list (DAG)\n",
    "# Node 0 -> [(1, weight), (2, weight), ...]\n",
    "graph = {\n",
    "    0: [(1, 2), (2, 4)],\n",
    "    1: [(3, 7)],\n",
    "    2: [(3, 1)],\n",
    "    3: []\n",
    "}\n",
    "\n",
    "source = 0\n",
    "print(\"Shortest Path:\", shortest_path_dag(graph, source))\n",
    "print(\"Longest Path:\", longest_path_dag(graph, source))"
   ]
  },
  {
   "cell_type": "markdown",
   "id": "8d77b219",
   "metadata": {},
   "source": [
    "## Floyd Warshall - All Pairs \n",
    "\n",
    "* Dijkstra's algorithm: single-source shortest paths: \n",
    "\n",
    "```\n",
    "start_node = 'A'\n",
    "returned dictionary: {'A' : 0, 'B' : 5, 'C' : 7, 'D' : 15}\n",
    "```\n",
    "\n",
    "* Floyd Warshall is All-pairs shortest paths $O(|V|^3)$\n",
    "\n",
    "```\n",
    "{\n",
    "    'A' : {'A': 0, 'B' : 5, 'C': 7, 'D': 15 },\n",
    "    'B' : {'A': inf, 'B' : 0, 'C': 7, 'D': 15 },\n",
    "    'C' : {'A': inf, 'B' : inf, 'C': 0, 'D': 15 },\n",
    "    'D' : {'A': inf, 'B' : inf, 'C': inf, 'D': 0 },\n",
    "}\n",
    "```\n",
    "\n",
    "* Notice below - three loops! \n",
    "\n",
    "* `min()` function\n"
   ]
  },
  {
   "cell_type": "code",
   "execution_count": null,
   "id": "39fed30b",
   "metadata": {},
   "outputs": [],
   "source": [
    "def floyd_warshall(vertices, edges):\n",
    "    # Initialize the DP table\n",
    "    dp = {v: {u: float(\"inf\") for u in vertices} for v in vertices}\n",
    "    for v in vertices:\n",
    "        dp[v][v] = 0\n",
    "\n",
    "    for u, v, w in edges:\n",
    "        dp[u][v] = w\n",
    "\n",
    "    # Dynamic programming\n",
    "    for k in vertices:\n",
    "        for i in vertices:\n",
    "            for j in vertices:\n",
    "                dp[i][j] = min(dp[i][j], dp[i][k] + dp[k][j])\n",
    "\n",
    "    return dp"
   ]
  },
  {
   "cell_type": "markdown",
   "id": "1b177dc6",
   "metadata": {},
   "source": [
    "## Alternatives - `networkx` has a `Floyd-Warshall` algorithm"
   ]
  },
  {
   "cell_type": "code",
   "execution_count": 7,
   "id": "87b461bb",
   "metadata": {},
   "outputs": [
    {
     "name": "stdout",
     "output_type": "stream",
     "text": [
      "Shortest distances:\n",
      "Distance from 0 to 0: 0\n",
      "Distance from 0 to 1: 4\n",
      "Distance from 0 to 2: 2\n",
      "Distance from 0 to 3: 3\n",
      "Distance from 1 to 1: 0\n",
      "Distance from 1 to 2: 3\n",
      "Distance from 1 to 3: 2\n",
      "Distance from 1 to 0: inf\n",
      "Distance from 2 to 2: 0\n",
      "Distance from 2 to 3: 1\n",
      "Distance from 2 to 0: inf\n",
      "Distance from 2 to 1: 6\n",
      "Distance from 3 to 3: 0\n",
      "Distance from 3 to 1: 5\n",
      "Distance from 3 to 0: inf\n",
      "Distance from 3 to 2: 8\n"
     ]
    }
   ],
   "source": [
    "import networkx as nx\n",
    "\n",
    "# Create a weighted graph\n",
    "G = nx.DiGraph()\n",
    "G.add_weighted_edges_from([\n",
    "    (0, 1, 4),\n",
    "    (0, 2, 2),\n",
    "    (1, 2, 3),\n",
    "    (1, 3, 2),\n",
    "    (2, 3, 1),\n",
    "    (3, 1, 5)\n",
    "])\n",
    "\n",
    "# Floyd-Warshall for predecessor and distance\n",
    "distance = nx.floyd_warshall(G)\n",
    "\n",
    "# Print the shortest distance between all pairs of nodes\n",
    "print(\"Shortest distances:\")\n",
    "for u in distance:\n",
    "    for v in distance[u]:\n",
    "        print(f\"Distance from {u} to {v}: {distance[u][v]}\")\n"
   ]
  },
  {
   "cell_type": "code",
   "execution_count": 8,
   "id": "c4dbc947",
   "metadata": {},
   "outputs": [
    {
     "data": {
      "text/plain": [
       "{0: defaultdict(<function networkx.algorithms.shortest_paths.dense.floyd_warshall_predecessor_and_distance.<locals>.<lambda>.<locals>.<lambda>()>,\n",
       "             {0: 0, 1: 4, 2: 2, 3: 3}),\n",
       " 1: defaultdict(<function networkx.algorithms.shortest_paths.dense.floyd_warshall_predecessor_and_distance.<locals>.<lambda>.<locals>.<lambda>()>,\n",
       "             {1: 0, 2: 3, 3: 2, 0: inf}),\n",
       " 2: defaultdict(<function networkx.algorithms.shortest_paths.dense.floyd_warshall_predecessor_and_distance.<locals>.<lambda>.<locals>.<lambda>()>,\n",
       "             {2: 0, 3: 1, 0: inf, 1: 6}),\n",
       " 3: defaultdict(<function networkx.algorithms.shortest_paths.dense.floyd_warshall_predecessor_and_distance.<locals>.<lambda>.<locals>.<lambda>()>,\n",
       "             {3: 0, 1: 5, 0: inf, 2: 8})}"
      ]
     },
     "execution_count": 8,
     "metadata": {},
     "output_type": "execute_result"
    }
   ],
   "source": [
    "distance"
   ]
  },
  {
   "cell_type": "code",
   "execution_count": 9,
   "id": "dc3b0bc4",
   "metadata": {},
   "outputs": [
    {
     "name": "stdout",
     "output_type": "stream",
     "text": [
      "Shortest distances:\n",
      "Distance from 0 to 0: 0\n",
      "Distance from 0 to 1: 4\n",
      "Distance from 0 to 2: 2\n",
      "Distance from 0 to 3: 3\n",
      "Distance from 1 to 1: 0\n",
      "Distance from 1 to 2: 3\n",
      "Distance from 1 to 3: 2\n",
      "Distance from 1 to 0: inf\n",
      "Distance from 2 to 2: 0\n",
      "Distance from 2 to 3: 1\n",
      "Distance from 2 to 0: inf\n",
      "Distance from 2 to 1: 6\n",
      "Distance from 3 to 3: 0\n",
      "Distance from 3 to 1: 5\n",
      "Distance from 3 to 0: inf\n",
      "Distance from 3 to 2: 8\n",
      "\n",
      "Predecessors:\n",
      "{0: {1: 0, 2: 0, 3: 2}, 1: {2: 1, 3: 1}, 2: {3: 2, 1: 3}, 3: {1: 3, 2: 1}}\n"
     ]
    }
   ],
   "source": [
    "import networkx as nx\n",
    "\n",
    "# Create a weighted graph\n",
    "G = nx.DiGraph()\n",
    "G.add_weighted_edges_from([\n",
    "    (0, 1, 4),\n",
    "    (0, 2, 2),\n",
    "    (1, 2, 3),\n",
    "    (1, 3, 2),\n",
    "    (2, 3, 1),\n",
    "    (3, 1, 5)\n",
    "])\n",
    "\n",
    "# Floyd-Warshall for predecessor and distance\n",
    "predecessor, distance = nx.floyd_warshall_predecessor_and_distance(G)\n",
    "\n",
    "# Print the shortest distance between all pairs of nodes\n",
    "print(\"Shortest distances:\")\n",
    "for u in distance:\n",
    "    for v in distance[u]:\n",
    "        print(f\"Distance from {u} to {v}: {distance[u][v]}\")\n",
    "\n",
    "# Print the predecessor dictionary\n",
    "print(\"\\nPredecessors:\")\n",
    "print(predecessor)"
   ]
  },
  {
   "cell_type": "markdown",
   "id": "04fa8134",
   "metadata": {},
   "source": [
    "## Alternatives - `scipy` has a `Floyd-Warshall` algorithm"
   ]
  },
  {
   "cell_type": "markdown",
   "id": "bdff946b",
   "metadata": {},
   "source": [
    "`pip install scipy`\n",
    "\n",
    "`python3 -m pip install -U scipy --user`"
   ]
  },
  {
   "cell_type": "code",
   "execution_count": 11,
   "id": "5044f680",
   "metadata": {},
   "outputs": [],
   "source": [
    "from scipy.sparse.csgraph import floyd_warshall, bellman_ford\n",
    "from scipy.sparse import csr_matrix"
   ]
  },
  {
   "cell_type": "code",
   "execution_count": 10,
   "id": "69a7f020",
   "metadata": {},
   "outputs": [
    {
     "name": "stdout",
     "output_type": "stream",
     "text": [
      "Floyd-Warshall Distance Matrix:\n",
      "[[ 0.  4.  2.  3.]\n",
      " [inf  0.  3.  2.]\n",
      " [inf  6.  0.  1.]\n",
      " [inf  5.  8.  0.]]\n",
      "\n",
      "Bellman-Ford Distances from node 0:\n",
      "[0. 4. 2. 3.]\n"
     ]
    }
   ],
   "source": [
    "from scipy.sparse.csgraph import floyd_warshall, bellman_ford\n",
    "from scipy.sparse import csr_matrix\n",
    "\n",
    "# Create a graph as an adjacency matrix\n",
    "graph = csr_matrix([\n",
    "    [0, 4, 2, 0],\n",
    "    [0, 0, 3, 2],\n",
    "    [0, 0, 0, 1],\n",
    "    [0, 5, 0, 0]\n",
    "])\n",
    "\n",
    "# Floyd-Warshall for all-pairs shortest paths\n",
    "dist_matrix = floyd_warshall(graph, directed=True)\n",
    "print(\"Floyd-Warshall Distance Matrix:\")\n",
    "print(dist_matrix)\n",
    "\n",
    "# Bellman-Ford for shortest path from node 0\n",
    "distances = bellman_ford(graph, directed=True, indices=0)\n",
    "print(\"\\nBellman-Ford Distances from node 0:\")\n",
    "print(distances)"
   ]
  },
  {
   "cell_type": "markdown",
   "id": "e7333b23",
   "metadata": {},
   "source": [
    "## Bellman-Ford algorithm\n",
    "\n",
    "* Works with negative weights (assuming no negative weight cycles)\n",
    "\n",
    "* Application Richard Bellman's DP principles - gives us $O(VE)$ time"
   ]
  },
  {
   "cell_type": "code",
   "execution_count": 12,
   "id": "a9c84905",
   "metadata": {},
   "outputs": [],
   "source": [
    "def bellman_ford(vertices, edges, source):\n",
    "    # Initialize distances\n",
    "    dp = {v: float(\"inf\") for v in vertices}\n",
    "    dp[source] = 0\n",
    "\n",
    "    # Relax edges |V| - 1 times\n",
    "    for _ in range(len(vertices) - 1):\n",
    "        for u, v, w in edges:\n",
    "            if dp[u] != float(\"inf\") and dp[u] + w < dp[v]:\n",
    "                dp[v] = dp[u] + w\n",
    "\n",
    "    # Check for negative-weight cycles\n",
    "    for u, v, w in edges:\n",
    "        if dp[u] != float(\"inf\") and dp[u] + w < dp[v]:\n",
    "            raise ValueError(\"Graph contains a negative-weight cycle\")\n",
    "\n",
    "    return dp"
   ]
  },
  {
   "cell_type": "markdown",
   "id": "796071b0",
   "metadata": {},
   "source": [
    "## Alternatives - `networkx` has a `Bellman-Ford` algorithm"
   ]
  },
  {
   "cell_type": "code",
   "execution_count": 13,
   "id": "8871cc4c",
   "metadata": {},
   "outputs": [
    {
     "name": "stdout",
     "output_type": "stream",
     "text": [
      "Shortest distances from node 0:\n",
      "Node 0: 0\n",
      "Node 1: 4\n",
      "Node 2: 2\n",
      "Node 3: 3\n",
      "\n",
      "Predecessors:\n",
      "{0: [], 1: [0], 2: [0], 3: [2]}\n"
     ]
    }
   ],
   "source": [
    "import networkx as nx\n",
    "\n",
    "# Create a weighted graph\n",
    "G = nx.DiGraph()\n",
    "G.add_weighted_edges_from([\n",
    "    (0, 1, 4),\n",
    "    (0, 2, 2),\n",
    "    (1, 3, 2),\n",
    "    (2, 3, 1),\n",
    "    (3, 1, 5) \n",
    "])\n",
    "\n",
    "# Bellman-Ford for shortest path and distance from source 0\n",
    "source = 0\n",
    "predecessor, distance = nx.bellman_ford_predecessor_and_distance(G, source)\n",
    "\n",
    "# Print the shortest distances from the source\n",
    "print(f\"Shortest distances from node {source}:\")\n",
    "for node, dist in distance.items():\n",
    "    print(f\"Node {node}: {dist}\")\n",
    "\n",
    "# Print the predecessor dictionary\n",
    "print(\"\\nPredecessors:\")\n",
    "print(predecessor)"
   ]
  },
  {
   "cell_type": "markdown",
   "id": "32da6a68",
   "metadata": {},
   "source": [
    "## Negative Weight Cycle - "
   ]
  },
  {
   "cell_type": "code",
   "execution_count": 14,
   "id": "528ab1fb",
   "metadata": {},
   "outputs": [
    {
     "ename": "NetworkXUnbounded",
     "evalue": "Negative cycle detected.",
     "output_type": "error",
     "traceback": [
      "\u001b[0;31m---------------------------------------------------------------------------\u001b[0m",
      "\u001b[0;31mNetworkXUnbounded\u001b[0m                         Traceback (most recent call last)",
      "Cell \u001b[0;32mIn [14], line 15\u001b[0m\n\u001b[1;32m     13\u001b[0m \u001b[38;5;66;03m# Bellman-Ford for shortest path and distance from source 0\u001b[39;00m\n\u001b[1;32m     14\u001b[0m source \u001b[38;5;241m=\u001b[39m \u001b[38;5;241m0\u001b[39m\n\u001b[0;32m---> 15\u001b[0m predecessor, distance \u001b[38;5;241m=\u001b[39m nx\u001b[38;5;241m.\u001b[39mbellman_ford_predecessor_and_distance(G, source)\n\u001b[1;32m     17\u001b[0m \u001b[38;5;66;03m# Print the shortest distances from the source\u001b[39;00m\n\u001b[1;32m     18\u001b[0m \u001b[38;5;28mprint\u001b[39m(\u001b[38;5;124mf\u001b[39m\u001b[38;5;124m\"\u001b[39m\u001b[38;5;124mShortest distances from node \u001b[39m\u001b[38;5;132;01m{\u001b[39;00msource\u001b[38;5;132;01m}\u001b[39;00m\u001b[38;5;124m:\u001b[39m\u001b[38;5;124m\"\u001b[39m)\n",
      "File \u001b[0;32m~/Library/Python/3.9/lib/python/site-packages/networkx/utils/backends.py:412\u001b[0m, in \u001b[0;36m_dispatch.__call__\u001b[0;34m(self, backend, *args, **kwargs)\u001b[0m\n\u001b[1;32m    409\u001b[0m \u001b[38;5;28;01mdef\u001b[39;00m \u001b[38;5;21m__call__\u001b[39m(\u001b[38;5;28mself\u001b[39m, \u001b[38;5;241m/\u001b[39m, \u001b[38;5;241m*\u001b[39margs, backend\u001b[38;5;241m=\u001b[39m\u001b[38;5;28;01mNone\u001b[39;00m, \u001b[38;5;241m*\u001b[39m\u001b[38;5;241m*\u001b[39mkwargs):\n\u001b[1;32m    410\u001b[0m     \u001b[38;5;28;01mif\u001b[39;00m \u001b[38;5;129;01mnot\u001b[39;00m backends:\n\u001b[1;32m    411\u001b[0m         \u001b[38;5;66;03m# Fast path if no backends are installed\u001b[39;00m\n\u001b[0;32m--> 412\u001b[0m         \u001b[38;5;28;01mreturn\u001b[39;00m \u001b[38;5;28;43mself\u001b[39;49m\u001b[38;5;241;43m.\u001b[39;49m\u001b[43morig_func\u001b[49m\u001b[43m(\u001b[49m\u001b[38;5;241;43m*\u001b[39;49m\u001b[43margs\u001b[49m\u001b[43m,\u001b[49m\u001b[43m \u001b[49m\u001b[38;5;241;43m*\u001b[39;49m\u001b[38;5;241;43m*\u001b[39;49m\u001b[43mkwargs\u001b[49m\u001b[43m)\u001b[49m\n\u001b[1;32m    414\u001b[0m     \u001b[38;5;66;03m# Use `backend_name` in this function instead of `backend`\u001b[39;00m\n\u001b[1;32m    415\u001b[0m     backend_name \u001b[38;5;241m=\u001b[39m backend\n",
      "File \u001b[0;32m~/Library/Python/3.9/lib/python/site-packages/networkx/algorithms/shortest_paths/weighted.py:1263\u001b[0m, in \u001b[0;36mbellman_ford_predecessor_and_distance\u001b[0;34m(G, source, target, weight, heuristic)\u001b[0m\n\u001b[1;32m   1259\u001b[0m     \u001b[38;5;28;01mreturn\u001b[39;00m pred, dist\n\u001b[1;32m   1261\u001b[0m weight \u001b[38;5;241m=\u001b[39m _weight_function(G, weight)\n\u001b[0;32m-> 1263\u001b[0m dist \u001b[38;5;241m=\u001b[39m \u001b[43m_bellman_ford\u001b[49m\u001b[43m(\u001b[49m\n\u001b[1;32m   1264\u001b[0m \u001b[43m    \u001b[49m\u001b[43mG\u001b[49m\u001b[43m,\u001b[49m\u001b[43m \u001b[49m\u001b[43m[\u001b[49m\u001b[43msource\u001b[49m\u001b[43m]\u001b[49m\u001b[43m,\u001b[49m\u001b[43m \u001b[49m\u001b[43mweight\u001b[49m\u001b[43m,\u001b[49m\u001b[43m \u001b[49m\u001b[43mpred\u001b[49m\u001b[38;5;241;43m=\u001b[39;49m\u001b[43mpred\u001b[49m\u001b[43m,\u001b[49m\u001b[43m \u001b[49m\u001b[43mdist\u001b[49m\u001b[38;5;241;43m=\u001b[39;49m\u001b[43mdist\u001b[49m\u001b[43m,\u001b[49m\u001b[43m \u001b[49m\u001b[43mtarget\u001b[49m\u001b[38;5;241;43m=\u001b[39;49m\u001b[43mtarget\u001b[49m\u001b[43m,\u001b[49m\u001b[43m \u001b[49m\u001b[43mheuristic\u001b[49m\u001b[38;5;241;43m=\u001b[39;49m\u001b[43mheuristic\u001b[49m\n\u001b[1;32m   1265\u001b[0m \u001b[43m\u001b[49m\u001b[43m)\u001b[49m\n\u001b[1;32m   1266\u001b[0m \u001b[38;5;28;01mreturn\u001b[39;00m (pred, dist)\n",
      "File \u001b[0;32m~/Library/Python/3.9/lib/python/site-packages/networkx/algorithms/shortest_paths/weighted.py:1351\u001b[0m, in \u001b[0;36m_bellman_ford\u001b[0;34m(G, source, weight, pred, paths, dist, target, heuristic)\u001b[0m\n\u001b[1;32m   1342\u001b[0m negative_cycle_found \u001b[38;5;241m=\u001b[39m _inner_bellman_ford(\n\u001b[1;32m   1343\u001b[0m     G,\n\u001b[1;32m   1344\u001b[0m     source,\n\u001b[0;32m   (...)\u001b[0m\n\u001b[1;32m   1348\u001b[0m     heuristic,\n\u001b[1;32m   1349\u001b[0m )\n\u001b[1;32m   1350\u001b[0m \u001b[38;5;28;01mif\u001b[39;00m negative_cycle_found \u001b[38;5;129;01mis\u001b[39;00m \u001b[38;5;129;01mnot\u001b[39;00m \u001b[38;5;28;01mNone\u001b[39;00m:\n\u001b[0;32m-> 1351\u001b[0m     \u001b[38;5;28;01mraise\u001b[39;00m nx\u001b[38;5;241m.\u001b[39mNetworkXUnbounded(\u001b[38;5;124m\"\u001b[39m\u001b[38;5;124mNegative cycle detected.\u001b[39m\u001b[38;5;124m\"\u001b[39m)\n\u001b[1;32m   1353\u001b[0m \u001b[38;5;28;01mif\u001b[39;00m paths \u001b[38;5;129;01mis\u001b[39;00m \u001b[38;5;129;01mnot\u001b[39;00m \u001b[38;5;28;01mNone\u001b[39;00m:\n\u001b[1;32m   1354\u001b[0m     sources \u001b[38;5;241m=\u001b[39m \u001b[38;5;28mset\u001b[39m(source)\n",
      "\u001b[0;31mNetworkXUnbounded\u001b[0m: Negative cycle detected."
     ]
    }
   ],
   "source": [
    "import networkx as nx\n",
    "\n",
    "# Create a weighted graph\n",
    "G = nx.DiGraph()\n",
    "G.add_weighted_edges_from([\n",
    "    (0, 1, 4),\n",
    "    (0, 2, 2),\n",
    "    (1, 3, 2),\n",
    "    (2, 3, 1),\n",
    "    (3, 1, -5) # Negative Weight Cycle! \n",
    "])\n",
    "\n",
    "# Bellman-Ford for shortest path and distance from source 0\n",
    "source = 0\n",
    "predecessor, distance = nx.bellman_ford_predecessor_and_distance(G, source)\n",
    "\n",
    "# Print the shortest distances from the source\n",
    "print(f\"Shortest distances from node {source}:\")\n",
    "for node, dist in distance.items():\n",
    "    print(f\"Node {node}: {dist}\")\n",
    "\n",
    "# Print the predecessor dictionary\n",
    "print(\"\\nPredecessors:\")\n",
    "print(predecessor)"
   ]
  },
  {
   "cell_type": "markdown",
   "id": "7bc5751f",
   "metadata": {},
   "source": [
    "## Alternatives - `scipy` has a `Bellman-Ford` algorithm"
   ]
  },
  {
   "cell_type": "code",
   "execution_count": 15,
   "id": "d943b31d",
   "metadata": {},
   "outputs": [
    {
     "name": "stdout",
     "output_type": "stream",
     "text": [
      "\n",
      "Bellman-Ford Distances from node 0:\n",
      "[0. 4. 2. 3.]\n"
     ]
    }
   ],
   "source": [
    "from scipy.sparse.csgraph import bellman_ford\n",
    "from scipy.sparse import csr_matrix\n",
    "\n",
    "# Create a graph as an adjacency matrix\n",
    "graph = csr_matrix([\n",
    "    [0, 4, 2, 0],\n",
    "    [0, 0, 3, 2],\n",
    "    [0, 0, 0, 1],\n",
    "    [0, 5, 0, 0]\n",
    "])\n",
    "\n",
    "# Bellman-Ford for shortest path from node 0\n",
    "distances = bellman_ford(graph, directed=True, indices=0)\n",
    "print(\"\\nBellman-Ford Distances from node 0:\")\n",
    "print(distances)"
   ]
  },
  {
   "cell_type": "markdown",
   "id": "d672edfb",
   "metadata": {},
   "source": [
    "## Applying DP to a directed network:\n",
    "\n",
    "* Some problems can be solved by drawing a directed network showing the possible decisions at each  stage. \n",
    "\n",
    "* You start at $S$ and can make one of several decisions. \n",
    "\n",
    "* Depending upon which one you take, you  can then take more decisions and so on, until you eventually reach $T$. \n",
    "\n",
    "* The easiest problems are about minimising the cost or time. This is, of course, the same as finding the  shortest path from $S$ to $T$. \n",
    "\n",
    "If the shortest/longest path from $S$ to $T$ is $SABCT$, \n",
    "* then: the shortest/longest path from $S$ to $C$ is $SABC$, \n",
    "* the shortest/longest path from $S$ to $B$ is $SAB$,  \n",
    "* the shortest/longest path from $S$ to $A$ is $SA$,  \n",
    "* and the shortest/longest path from $A$ to $C$ is $ABC$. \n"
   ]
  },
  {
   "cell_type": "markdown",
   "id": "6e20c956",
   "metadata": {},
   "source": [
    "Use the following terminology for dynamic programming problems presented in network  form:  \n",
    "\n",
    "* `Stage` - The route from the initial stage (`S` say) to the final state (`T` say) is made up of a sequence of moves. Each move is a stage / a time interval or an option being considered. \n",
    "\n",
    "* `State` - Vertex you are considering / the value of a resource from a previous stage.\n",
    "\n",
    "* `Action` - This is the directed arc from one state to the next. In selecting an arc you are  considering what happens if you do that action. / The amount of the resource used in the current stage.\n",
    "\n",
    "* `Destination` This is the vertex you arrive at having taken the action. / The value of the resource passed to the next stage.   \n",
    "\n",
    "* `Value` This is the sum of the weights on the arcs used in a sequence of actions. / This is the sum of the weights on the arcs used in a sequence of actions. \n"
   ]
  },
  {
   "cell_type": "markdown",
   "id": "714e89ab",
   "metadata": {},
   "source": [
    "## Network Flow \n",
    "\n",
    "* The flow in a network of nodes can also be modelled via a directed graph.\n",
    "\n",
    "* Examples include: \n",
    "    * Natural energy: (water, gas, electricity etc) as it flows from source to destination. \n",
    "    * Transport (roads, trains, and even areoplanes)\n",
    "    * Devices that communicate by sending packets of data across a network.\n",
    "\n",
    "* Furthermore, we'll see that dynamic programming can be applied to network flow applications to calculate the maximum and minimum flows, and also optimise path finding.\n",
    "\n",
    "* <b>The fundamental difference between graphs and networks, is that graphs focus on the distance, but networks focus on capacity (think volume) of flow between nodes/vertices.</b>"
   ]
  },
  {
   "cell_type": "markdown",
   "id": "f7f97462",
   "metadata": {},
   "source": [
    "## Traffic flow example\n",
    "\n",
    "* Road works (or engineering works that close railway lines!) are frustrating to travellers but essential for repair and maintenance. \n",
    "\n",
    "* This impacts the flow of traffic in a network, so we can model this real-life phenomenon with network flow. \n",
    "\n",
    "<img src=\"https://wealthandtax.co.uk/wp-content/uploads/2020/04/shutterstock_631880864-scaled.jpg\" alt=\"roadworks\" width=\"850\">  "
   ]
  },
  {
   "cell_type": "code",
   "execution_count": 38,
   "id": "a860f399",
   "metadata": {},
   "outputs": [],
   "source": [
    "import networkx as nx\n",
    "import matplotlib.pyplot as plt\n",
    "\n",
    "# Create a directed graph\n",
    "G = nx.DiGraph()\n",
    "\n",
    "# Add edges along with their capacities\n",
    "G.add_edge('A', 'B', capacity=10)\n",
    "G.add_edge('A', 'C', capacity=15)\n",
    "G.add_edge('B', 'D', capacity=10)\n",
    "G.add_edge('C', 'D', capacity=10)\n",
    "G.add_edge('B', 'E', capacity=5)\n",
    "G.add_edge('D', 'E', capacity=10)\n"
   ]
  },
  {
   "cell_type": "code",
   "execution_count": 39,
   "id": "1a40b537",
   "metadata": {},
   "outputs": [],
   "source": [
    "source = 'A'\n",
    "sink = 'E'"
   ]
  },
  {
   "cell_type": "code",
   "execution_count": 40,
   "id": "e04b4804",
   "metadata": {},
   "outputs": [
    {
     "name": "stdout",
     "output_type": "stream",
     "text": [
      "=== Initial Scenario ===\n",
      "Maximum flow from A to E: 15 vehicles/hour\n",
      "Flow distribution:\n",
      "  A -> B: 10 vehicles/hour\n",
      "  A -> C: 5 vehicles/hour\n",
      "  B -> D: 5 vehicles/hour\n",
      "  B -> E: 5 vehicles/hour\n",
      "  C -> D: 5 vehicles/hour\n",
      "  D -> E: 10 vehicles/hour\n",
      "\n",
      "\n"
     ]
    }
   ],
   "source": [
    "print(\"=== Initial Scenario ===\")\n",
    "initial_flow, initial_flow_dict = compute_max_flow(G, source, sink)"
   ]
  },
  {
   "cell_type": "code",
   "execution_count": 29,
   "id": "8b60064d",
   "metadata": {},
   "outputs": [
    {
     "data": {
      "image/png": "[encoded data removed]",
      "text/plain": [
       "<Figure size 800x600 with 1 Axes>"
      ]
     },
     "metadata": {},
     "output_type": "display_data"
    }
   ],
   "source": [
    "import matplotlib.pyplot as plt\n",
    "\n",
    "def visualize_flow(G, flow_dict, title):\n",
    "    pos = nx.spring_layout(G)\n",
    "    edge_labels = {}\n",
    "    for u in flow_dict:\n",
    "        for v in flow_dict[u]:\n",
    "            if flow_dict[u][v] > 0:\n",
    "                edge_labels[(u, v)] = flow_dict[u][v]\n",
    "    \n",
    "    plt.figure(figsize=(8,6))\n",
    "    nx.draw(G, pos, with_labels=True, node_color='lightblue', node_size=2000, arrows=True)\n",
    "    nx.draw_networkx_edge_labels(G, pos, edge_labels=edge_labels)\n",
    "    plt.title(title)\n",
    "    plt.show()\n",
    "\n",
    "# Visualize initial flow\n",
    "visualize_flow(G, initial_flow_dict, \"Flow Distribution Before Roadworks\")"
   ]
  },
  {
   "cell_type": "markdown",
   "id": "cde393c4",
   "metadata": {},
   "source": [
    "## Maximum Flow via Edmonds-Karp vs Ford-Fulkerson\n",
    "\n",
    "* The Edmonds-Karp algorithm is a specific implementation of the Ford-Fulkerson method \n",
    "\n",
    "* Edmonds-Karp employs Breadth-First Search (BFS) to find the shortest augmenting paths, thereby ensuring polynomial time complexity. $O(n^k)$\n",
    "\n",
    "* Ford-Fulkerson Method:\n",
    "    * A general algorithm to compute the maximum flow in a flow network.\n",
    "\t* It works by repeatedly finding augmenting paths from the source to the sink and increasing the flow until no more augmenting paths exist.\n",
    "\t* The method’s performance depends on how the augmenting paths are selected. Without a specific strategy, its time complexity can be unbounded, especially with irrational capacities.\n",
    "\n",
    "* Edmonds-Karp Algorithm:\n",
    "\t* A specific implementation of the Ford-Fulkerson method.\n",
    "\t* It uses BFS to find the shortest (in terms of the number of edges) augmenting path in each iteration.\n",
    "\t* Guarantees a time complexity of  $O(V \\times E^2)$  where  V  is the number of vertices and  E  is the number of edges.\n",
    "\n",
    "* In summary, Edmonds-Karp is essentially Ford-Fulkerson with a specific path selection strategy (BFS), making it more efficient and predictable.\n"
   ]
  },
  {
   "cell_type": "code",
   "execution_count": 35,
   "id": "648ed383",
   "metadata": {},
   "outputs": [],
   "source": [
    "def compute_max_flow(G, source, sink):\n",
    "    # Compute the maximum flow using the Edmonds-Karp algorithm\n",
    "    flow_value, flow_dict = nx.maximum_flow(G, source, sink, flow_func=nx.algorithms.flow.edmonds_karp)\n",
    "    \n",
    "    print(f\"Maximum flow from {source} to {sink}: {flow_value} vehicles/hour\")\n",
    "    print(\"Flow distribution:\")\n",
    "    for u in flow_dict:\n",
    "        for v in flow_dict[u]:\n",
    "            if flow_dict[u][v] > 0:\n",
    "                print(f\"  {u} -> {v}: {flow_dict[u][v]} vehicles/hour\")\n",
    "    print(\"\\n\")\n",
    "    return flow_value, flow_dict"
   ]
  },
  {
   "cell_type": "code",
   "execution_count": null,
   "id": "aa6e91f5",
   "metadata": {},
   "outputs": [],
   "source": [
    "import matplotlib.pyplot as plt\n",
    "\n",
    "def visualize_flow(G, flow_dict, title):\n",
    "    pos = nx.spring_layout(G)\n",
    "    edge_labels = {}\n",
    "    for u in flow_dict:\n",
    "        for v in flow_dict[u]:\n",
    "            if flow_dict[u][v] > 0:\n",
    "                edge_labels[(u, v)] = flow_dict[u][v]\n",
    "    \n",
    "    plt.figure(figsize=(8,6))\n",
    "    nx.draw(G, pos, with_labels=True, node_color='lightblue', node_size=2000, arrows=True)\n",
    "    nx.draw_networkx_edge_labels(G, pos, edge_labels=edge_labels)\n",
    "    plt.title(title)\n",
    "    plt.show()\n",
    "\n",
    "# Visualize initial flow\n",
    "visualize_flow(G, initial_flow_dict, \"Flow Distribution Before Roadworks\")"
   ]
  },
  {
   "cell_type": "code",
   "execution_count": 33,
   "id": "c0424b4f",
   "metadata": {},
   "outputs": [
    {
     "name": "stdout",
     "output_type": "stream",
     "text": [
      "=== After Roadworks on C -> D ===\n",
      "Maximum flow from A to E: 15 vehicles/hour\n",
      "Flow distribution:\n",
      "  A -> B: 10 vehicles/hour\n",
      "  A -> C: 5 vehicles/hour\n",
      "  B -> D: 5 vehicles/hour\n",
      "  B -> E: 5 vehicles/hour\n",
      "  C -> D: 5 vehicles/hour\n",
      "  D -> E: 10 vehicles/hour\n",
      "\n",
      "\n"
     ]
    }
   ],
   "source": [
    "# Simulate roadworks: reduce capacity of C -> D from 10 to 5\n",
    "G['C']['D']['capacity'] = 5\n",
    "\n",
    "print(\"=== After Roadworks on C -> D ===\")\n",
    "new_flow, new_flow_dict = compute_max_flow(G, source, sink)"
   ]
  },
  {
   "cell_type": "code",
   "execution_count": 34,
   "id": "32ff8406",
   "metadata": {},
   "outputs": [
    {
     "data": {
      "image/png": "[encoded data removed]",
      "text/plain": [
       "<Figure size 800x600 with 1 Axes>"
      ]
     },
     "metadata": {},
     "output_type": "display_data"
    },
    {
     "data": {
      "image/png": "[encoded data removed]",
      "text/plain": [
       "<Figure size 800x600 with 1 Axes>"
      ]
     },
     "metadata": {},
     "output_type": "display_data"
    }
   ],
   "source": [
    "import matplotlib.pyplot as plt\n",
    "\n",
    "def visualize_flow(G, flow_dict, title):\n",
    "    pos = nx.spring_layout(G)\n",
    "    edge_labels = {}\n",
    "    for u in flow_dict:\n",
    "        for v in flow_dict[u]:\n",
    "            if flow_dict[u][v] > 0:\n",
    "                edge_labels[(u, v)] = flow_dict[u][v]\n",
    "    \n",
    "    plt.figure(figsize=(8,6))\n",
    "    nx.draw(G, pos, with_labels=True, node_color='lightblue', node_size=2000, arrows=True)\n",
    "    nx.draw_networkx_edge_labels(G, pos, edge_labels=edge_labels)\n",
    "    plt.title(title)\n",
    "    plt.show()\n",
    "\n",
    "# Visualize initial flow\n",
    "visualize_flow(G, initial_flow_dict, \"Flow Distribution Before Roadworks\")\n",
    "\n",
    "# Visualize flow after roadworks\n",
    "visualize_flow(G, new_flow_dict, \"Flow Distribution After Roadworks on C -> D\")"
   ]
  },
  {
   "cell_type": "markdown",
   "id": "6afad0e7",
   "metadata": {},
   "source": [
    "## minimax and maximin\n",
    "\n",
    "* minimax route is one in which the maximum value of the individual arcs (edges) used is as small  as possible.\n",
    "\n",
    "* A maximin route is one in which the minimum value of the individual arcs (edges) used is as large  as possible. \n"
   ]
  },
  {
   "cell_type": "markdown",
   "id": "6b08e994",
   "metadata": {},
   "source": [
    "What is Minimax?\n",
    "\n",
    "* Minimax is a recursive decision-making algorithm used in adversarial environments, like two-player games. \n",
    "\n",
    "* The algorithm aims to:\n",
    "\t1.\tMinimize the possible loss for the player if the opponent plays optimally.\n",
    "\t2.\tSimultaneously maximize the possible gain by assuming both players act rationally.\n",
    "\n",
    "* The process involves exploring all possible game states and choosing moves that optimize the worst-case scenario."
   ]
  },
  {
   "cell_type": "markdown",
   "id": "bf896677",
   "metadata": {},
   "source": [
    "## Applying Dynamic Programming to network flows\n",
    "\n",
    "* Maximin - Maximize the minimum capacity along a path\n",
    "\n",
    "    * Optimising the most constrained link (bottleneck)\n",
    "\n",
    "* Minimax - Minimize the maximum capacity (or other metric) along a path\n",
    "\n",
    "    * Reduce the most overloaded / costly link"
   ]
  },
  {
   "cell_type": "markdown",
   "id": "911c5e3d",
   "metadata": {},
   "source": [
    "## Revisiting the traffic flow example: \n",
    "\n",
    "Initial Scenario:\n",
    "\n",
    "* Path Identified: A → C → D → E\n",
    "* Minimum Capacity: 10 vehicles/hour\n",
    "* Interpretation: This path has a bottleneck capacity of 10 vehicles/hour, which is the smallest capacity along the path.\n",
    "\t\n",
    "After Roadworks on C → D:\n",
    "\n",
    "* Capacity Reduced: C → D from 10 to 5 vehicles/hour\n",
    "* New Path Identified: A → B → D → E\n",
    "* Minimum Capacity: 5 vehicles/hour\n",
    "* Interpretation: Due to the roadworks reducing the capacity of C → D, the Maximin path shifts to A → B → D → E with a reduced minimum capacity of 5 vehicles/hour.\n",
    "\n",
    "Advantages of the Maximin Approach\n",
    "\n",
    "* Identifies Critical Paths: Highlights the most constrained paths in the network.\n",
    "* Enhances Reliability: By focusing on maximizing the minimum capacity, it ensures that the weakest links are optimized.\n",
    "* Facilitates Decision-Making: Helps in prioritizing infrastructure improvements or reallocating resources to critical sections.\n"
   ]
  },
  {
   "cell_type": "code",
   "execution_count": 41,
   "id": "52093757",
   "metadata": {},
   "outputs": [],
   "source": [
    "import networkx as nx\n",
    "import matplotlib.pyplot as plt\n",
    "\n",
    "# Create a directed graph\n",
    "G = nx.DiGraph()\n",
    "\n",
    "# Add edges along with their capacities\n",
    "G.add_edge('A', 'B', capacity=10)\n",
    "G.add_edge('A', 'C', capacity=15)\n",
    "G.add_edge('B', 'D', capacity=10)\n",
    "G.add_edge('C', 'D', capacity=10)\n",
    "G.add_edge('B', 'E', capacity=5)\n",
    "G.add_edge('D', 'E', capacity=10)"
   ]
  },
  {
   "cell_type": "code",
   "execution_count": 42,
   "id": "b613b436",
   "metadata": {},
   "outputs": [],
   "source": [
    "source = 'A'\n",
    "sink = 'E'"
   ]
  },
  {
   "cell_type": "code",
   "execution_count": 43,
   "id": "d96a5c9f",
   "metadata": {},
   "outputs": [],
   "source": [
    "def visualize_path(G, path, title):\n",
    "    pos = nx.spring_layout(G)\n",
    "    plt.figure(figsize=(8,6))\n",
    "    \n",
    "    # Draw all nodes and edges\n",
    "    nx.draw_networkx_nodes(G, pos, node_color='lightblue', node_size=2000)\n",
    "    nx.draw_networkx_edges(G, pos, edge_color='gray', arrows=True)\n",
    "    nx.draw_networkx_labels(G, pos, font_size=12, font_weight='bold')\n",
    "    \n",
    "    # Highlight the path\n",
    "    if path:\n",
    "        # Create a list of edge tuples in the path\n",
    "        path_edges = list(zip(path, path[1:]))\n",
    "        nx.draw_networkx_edges(G, pos, edgelist=path_edges, edge_color='red', width=2, arrows=True)\n",
    "        edge_labels = {(u, v): G[u][v]['capacity'] for u, v in path_edges}\n",
    "        nx.draw_networkx_edge_labels(G, pos, edge_labels=edge_labels, font_color='red')\n",
    "    \n",
    "    plt.title(title)\n",
    "    plt.axis('off')\n",
    "    plt.show()"
   ]
  },
  {
   "cell_type": "code",
   "execution_count": 46,
   "id": "092328a9",
   "metadata": {},
   "outputs": [],
   "source": [
    "def maximin_path(G, source, sink):\n",
    "    \"\"\"\n",
    "    Finds the path from source to sink with the maximum minimum capacity.\n",
    "    \"\"\"\n",
    "    import heapq\n",
    "\n",
    "    # Initialize capacities to negative infinity\n",
    "    max_min_capacity = {node: float('-inf') for node in G.nodes}\n",
    "    max_min_capacity[source] = float('inf')\n",
    "\n",
    "    # Priority queue: (current max min capacity, node, path)\n",
    "    heap = [(-max_min_capacity[source], source, [])]\n",
    "\n",
    "    visited = set()\n",
    "\n",
    "    while heap:\n",
    "        # Get the node with the current highest min capacity\n",
    "        current_capacity, u, path = heapq.heappop(heap)\n",
    "        current_capacity = -current_capacity\n",
    "\n",
    "        if u in visited:\n",
    "            continue\n",
    "        visited.add(u)\n",
    "        path = path + [u]\n",
    "\n",
    "        if u == sink:\n",
    "            return current_capacity, path\n",
    "\n",
    "        for v in G.neighbors(u):\n",
    "            if v not in visited:\n",
    "                edge_capacity = G[u][v]['capacity']\n",
    "                # The minimal capacity along the path is the min of current path and this edge\n",
    "                min_capacity = min(current_capacity, edge_capacity)\n",
    "                if min_capacity > max_min_capacity[v]:\n",
    "                    max_min_capacity[v] = min_capacity\n",
    "                    heapq.heappush(heap, (-max_min_capacity[v], v, path))\n",
    "    \n",
    "    return None, None  # No path found"
   ]
  },
  {
   "cell_type": "code",
   "execution_count": 47,
   "id": "5b59f20e",
   "metadata": {},
   "outputs": [
    {
     "name": "stdout",
     "output_type": "stream",
     "text": [
      "=== Initial Maximin Path ===\n",
      "Path: A -> C -> D -> E\n",
      "Minimum capacity along this path: 10 vehicles/hour\n",
      "\n"
     ]
    },
    {
     "data": {
      "image/png": "[encoded data removed]",
      "text/plain": [
       "<Figure size 800x600 with 1 Axes>"
      ]
     },
     "metadata": {},
     "output_type": "display_data"
    }
   ],
   "source": [
    "# Find the maximin path\n",
    "capacity, path = maximin_path(G, source, sink)\n",
    "\n",
    "print(\"=== Initial Maximin Path ===\")\n",
    "print(f\"Path: {' -> '.join(path)}\")\n",
    "print(f\"Minimum capacity along this path: {capacity} vehicles/hour\\n\")\n",
    "\n",
    "# Visualize the path\n",
    "visualize_path(G, path, \"Maximin Path Before Roadworks\")"
   ]
  },
  {
   "cell_type": "markdown",
   "id": "6e7fb54f",
   "metadata": {},
   "source": [
    "## Simulate Roadworks"
   ]
  },
  {
   "cell_type": "code",
   "execution_count": 48,
   "id": "253b0ce3",
   "metadata": {},
   "outputs": [],
   "source": [
    "def simulate_roadworks(G, road, new_capacity):\n",
    "    \"\"\"\n",
    "    Simulates roadworks by reducing the capacity of a specified road.\n",
    "    \"\"\"\n",
    "    u, v = road\n",
    "    if G.has_edge(u, v):\n",
    "        G[u][v]['capacity'] = new_capacity\n",
    "        print(f\"Roadworks: Capacity of {u} -> {v} reduced to {new_capacity} vehicles/hour.\\n\")\n",
    "    else:\n",
    "        print(f\"Error: Road {u} -> {v} does not exist in the network.\\n\")"
   ]
  },
  {
   "cell_type": "code",
   "execution_count": 49,
   "id": "8e4b6f7b",
   "metadata": {},
   "outputs": [
    {
     "name": "stdout",
     "output_type": "stream",
     "text": [
      "=== Maximin Path After Roadworks on C -> D ===\n",
      "Path: A -> C -> D -> E\n",
      "Minimum capacity along this path: 10 vehicles/hour\n",
      "\n"
     ]
    },
    {
     "data": {
      "image/png": "[encoded data removed]",
      "text/plain": [
       "<Figure size 800x600 with 1 Axes>"
      ]
     },
     "metadata": {},
     "output_type": "display_data"
    }
   ],
   "source": [
    "# Recompute the maximin path after roadworks\n",
    "new_capacity, new_path = maximin_path(G, source, sink)\n",
    "\n",
    "print(\"=== Maximin Path After Roadworks on C -> D ===\")\n",
    "print(f\"Path: {' -> '.join(new_path)}\")\n",
    "print(f\"Minimum capacity along this path: {new_capacity} vehicles/hour\\n\")\n",
    "\n",
    "# Visualize the new path\n",
    "visualize_path(G, new_path, \"Maximin Path After Roadworks on C -> D\")"
   ]
  },
  {
   "cell_type": "markdown",
   "id": "9f3a8c95",
   "metadata": {},
   "source": [
    "## Scenario Exercise - Blackjack (21)\n",
    "\n",
    "![blackjack_21](https://odentennis.wordpress.com/wp-content/uploads/2022/02/blackjack.gif)\n",
    "\n",
    "\n",
    "* This simulation will allow a user to play Blackjack against a dealer. The game will handle:\n",
    "\n",
    "    * Shuffling and dealing cards.\n",
    "    * Calculating hand values, considering the flexible value of Aces.\n",
    "    * Allowing the player to choose actions: Hit or Stand.\n",
    "    * Implementing the dealer’s fixed strategy: hitting until reaching at least 17.\n",
    "    * Determining the outcome of each round.\n"
   ]
  },
  {
   "cell_type": "markdown",
   "id": "d4912f28",
   "metadata": {},
   "source": [
    "## Let's build a simple simulation of 21/Blackjack"
   ]
  },
  {
   "cell_type": "code",
   "execution_count": 52,
   "id": "97121533",
   "metadata": {},
   "outputs": [],
   "source": [
    "import random"
   ]
  },
  {
   "cell_type": "code",
   "execution_count": 61,
   "id": "7e239489",
   "metadata": {},
   "outputs": [
    {
     "name": "stdout",
     "output_type": "stream",
     "text": [
      "Original deck: ['Ace of Hearts', '2 of Diamonds', 'King of Clubs', '7 of Spades']\n",
      "Shuffled deck: ['King of Clubs', '2 of Diamonds', 'Ace of Hearts', '7 of Spades']\n"
     ]
    }
   ],
   "source": [
    "cards = ['Ace of Hearts', '2 of Diamonds', 'King of Clubs', '7 of Spades']\n",
    "print(\"Original deck:\", cards)\n",
    "\n",
    "random.shuffle(cards) # Shuffle the deck\n",
    "print(\"Shuffled deck:\", cards)"
   ]
  },
  {
   "cell_type": "code",
   "execution_count": 64,
   "id": "efb5c44b",
   "metadata": {},
   "outputs": [],
   "source": [
    "class Card:\n",
    "    \"\"\"Represents a single playing card.\"\"\"\n",
    "    def __init__(self, suit, rank):\n",
    "        self.suit = suit  # 'Hearts', 'Diamonds', 'Clubs', 'Spades'\n",
    "        self.rank = rank  # '2' - '10', 'J', 'Q', 'K', 'A'\n",
    "\n",
    "    def __str__(self):\n",
    "        return f\"{self.rank} of {self.suit}\"\n",
    "\n",
    "class Deck:\n",
    "    \"\"\"Represents a deck of 52 playing cards.\"\"\"\n",
    "    suits = ['Hearts', 'Diamonds', 'Clubs', 'Spades']\n",
    "    ranks = ['2', '3', '4', '5', '6', '7', '8', '9', '10',\n",
    "             'J', 'Q', 'K', 'A']\n",
    "\n",
    "    def __init__(self):\n",
    "        self.cards = [Card(suit, rank) for suit in self.suits for rank in self.ranks]\n",
    "        self.shuffle()\n",
    "\n",
    "    def shuffle(self):\n",
    "        \"\"\"Shuffles the deck in place.\"\"\"\n",
    "        random.shuffle(self.cards)\n",
    "\n",
    "    def deal_card(self):\n",
    "        \"\"\"Deals the top card from the deck.\"\"\"\n",
    "        if len(self.cards) == 0:\n",
    "            raise ValueError(\"All cards have been dealt\")\n",
    "        return self.cards.pop()\n",
    "\n",
    "    def __str__(self):\n",
    "        \"\"\"Returns a string representation of the deck.\"\"\"\n",
    "        return ', '.join(str(card) for card in self.cards)"
   ]
  },
  {
   "cell_type": "code",
   "execution_count": 66,
   "id": "4e0081ee",
   "metadata": {},
   "outputs": [
    {
     "name": "stdout",
     "output_type": "stream",
     "text": [
      "Shuffled Deck:\n",
      "5 of Diamonds, 7 of Diamonds, 6 of Spades, A of Diamonds, J of Diamonds, 6 of Clubs, 10 of Hearts, 9 of Clubs, K of Spades, J of Spades, K of Diamonds, 9 of Hearts, Q of Spades, 7 of Spades, 9 of Spades, J of Hearts, 5 of Hearts, 2 of Clubs, 9 of Diamonds, A of Hearts, K of Hearts, 4 of Clubs, 6 of Hearts, 6 of Diamonds, 10 of Diamonds, 8 of Hearts, 3 of Spades, Q of Hearts, 8 of Spades, 2 of Diamonds, 10 of Spades, 4 of Hearts, 3 of Clubs, 4 of Spades, 7 of Clubs, 4 of Diamonds, 2 of Spades, 3 of Hearts, 3 of Diamonds, A of Spades, 7 of Hearts, 8 of Diamonds, J of Clubs, 10 of Clubs, 5 of Clubs, Q of Diamonds, 2 of Hearts, 8 of Clubs, Q of Clubs, K of Clubs, A of Clubs, 5 of Spades\n"
     ]
    }
   ],
   "source": [
    "deck = Deck() # shuffle the deck\n",
    "print(\"Shuffled Deck:\")\n",
    "print(deck)"
   ]
  },
  {
   "cell_type": "code",
   "execution_count": 67,
   "id": "25855d0e",
   "metadata": {},
   "outputs": [
    {
     "name": "stdout",
     "output_type": "stream",
     "text": [
      "\n",
      "Deal two cards:\n",
      "4 of Spades\n",
      "5 of Hearts\n",
      "\n",
      "Stick (s) or Twist (t)?\n",
      "5 of Clubs\n",
      "\n",
      "Stick (s) or Twist (t)?\n",
      "Q of Clubs\n",
      "\n",
      "Stick (s) or Twist (t)?\n"
     ]
    }
   ],
   "source": [
    "deck = Deck() # shuffle the deck\n",
    "\n",
    "# Deal first two cards?\n",
    "print(\"\\nDeal two cards:\")\n",
    "for _ in range(2):\n",
    "    card = deck.deal_card()\n",
    "    print(card)\n",
    "\n",
    "while True:\n",
    "    print(\"\\nStick (s) or Twist (t)?\")\n",
    "    ans = input(\"Stick (s) or Twist (t)?\")\n",
    "    if ans.lower() == \"t\" :\n",
    "        card = deck.deal_card()\n",
    "        print(card)\n",
    "    else:\n",
    "        break\n"
   ]
  },
  {
   "cell_type": "markdown",
   "id": "1a480594",
   "metadata": {},
   "source": [
    "## Exercise - warm up on this example\n",
    "\n",
    "To warm up, amend the code above to count the picture cards (J, Q, K) as ten, and give the choice of whether ace is 11 or 1. \n"
   ]
  },
  {
   "cell_type": "code",
   "execution_count": null,
   "id": "e198fd89",
   "metadata": {},
   "outputs": [],
   "source": []
  },
  {
   "cell_type": "markdown",
   "id": "ec5c5e0e",
   "metadata": {},
   "source": [
    "## Expand upon the Dynamic Programming to 21/Blackjack example\n",
    "\n"
   ]
  },
  {
   "cell_type": "markdown",
   "id": "19f7df5a",
   "metadata": {},
   "source": [
    "\n",
    "\n",
    "* `States (S)`: Represent the current situation in the game, typically defined by:\n",
    "    * Player’s Hand Value: Sum of the player’s cards (considering soft and hard totals due to Aces).\n",
    "    * Dealer’s Visible Card: The dealer’s upcard.\n",
    "    * Additional Factors: Such as whether the player has a usable Ace, the number of decks in play, etc.\n",
    "\n",
    "* `Actions (A)`: Possible decisions the player can make, e.g., hit, stand, double down, split.\n",
    "\n",
    "* `Transition Probabilities (P)`: The likelihood of moving from one state to another based on the chosen action and the randomness of card drawing.\n",
    "\n",
    "* `Rewards (R)`: The outcome of actions, typically:\n",
    "    * Win: Positive reward.\n",
    "    * Lose: Negative reward.\n",
    "    * Push (Tie): Neutral reward.\n"
   ]
  },
  {
   "cell_type": "markdown",
   "id": "bbeed75b",
   "metadata": {},
   "source": [
    "## Scenario Exercise - Super-Mario \n",
    "\n",
    "![super_mario](https://encrypted-tbn0.gstatic.com/images?q=tbn:ANd9GcQC3rfJrKWyXB02JJADPgFRtXKGbabn0GMq4g&s)\n",
    "\n",
    "![super_mario_bros_1_nes](https://miro.medium.com/v2/resize:fit:1002/1*7TLBg5I9DSrvVwebZoA6JQ.gif)\n",
    "\n",
    "Dynamic programming (DP) can be applied to Super Mario to solve complex problems by breaking them down into overlapping subproblems. In a game like Mario, DP can be used for:\n",
    "\n",
    "1.\tPathfinding: Finding the shortest or optimal path in levels with obstacles.\n",
    "\n",
    "2.\tCoin Collection: Maximizing the number of coins collected by choosing the best route.\n",
    "\n",
    "3.\tEnemy Avoidance: Minimizing risk by finding paths with fewer or weaker enemies.\n",
    "\n",
    "4.\tLives and Power-Ups Management: Optimally deciding when to collect power-ups or take risks for extra lives.\n",
    "\n",
    "This approach involves storing and reusing solutions to subproblems to make the gameplay more efficient."
   ]
  },
  {
   "cell_type": "markdown",
   "id": "613c8ade",
   "metadata": {},
   "source": [
    "1. Pathfinding:\n",
    "\n",
    "\t* Break down each level into sub-levels (e.g., checkpoints or blocks).\n",
    "\t* Define a cost function for each block (e.g., time, obstacles).\n",
    "\t* Use DP to compute the minimum cost from the start to the finish, storing subproblem results for reuse.\n",
    "\n",
    "2. Coin Collection:\n",
    "\n",
    "\t* Assign values to blocks containing coins.\n",
    "\t* Use DP to calculate the maximum coins collected along any possible path.\n",
    "\n",
    "3. Enemy Avoidance:\n",
    "\n",
    "\t* Treat enemies as obstacles and define the risk (penalty) associated with each block.\n",
    "\t* Use DP to minimize the risk by evaluating all possible paths.\n",
    "\n",
    "4. Lives and Power-Ups Management:\n",
    "\n",
    "\t* Store Mario’s current state (e.g., power-ups and lives).\n",
    "\t* Use DP to determine optimal power-up collection strategies by maximizing future gains.\n",
    "\t\n",
    "Starting with a grid or graph representation of the game level will help lay the groundwork for each of these problems."
   ]
  },
  {
   "cell_type": "markdown",
   "id": "de24933a",
   "metadata": {},
   "source": [
    "## MIT 6006 analysis of Super Mario Bros (NES 1993)\n",
    "\n",
    "Goal: Run through and maximise score or minimise time lost\n",
    "\n",
    "* Given level $n$ information\n",
    "* Small screen $w$ x $h$ (320p)\n",
    "* Configuration - Game state ($S$): every pixel / square on screen: $c^{w\\cdot h}$\n",
    "    * everything on screen \n",
    "    * Mario's Velocity \n",
    "* Score ($S$) \n",
    "* Time ($T$)\n",
    "* Screen vs Level \n",
    "\n",
    "$O(w \\cdot c^{w\\cdot h} \\cdot S \\cdot T) $\n",
    "\n",
    "\n"
   ]
  },
  {
   "cell_type": "markdown",
   "id": "edab36b8",
   "metadata": {},
   "source": [
    "* Can draw a graph for all configurations of the above\n",
    "\n",
    "* For every configration, what are the possible things you could do? \n",
    "    * Constant number of choice \n",
    "\n",
    "DP: all of the above are subproblems.\n",
    "\n",
    "Can relate this subproblem to a constant number of other subproblems.\n",
    "\n",
    "You only pay constant time per subproblem. $O(1)$\n",
    "\n",
    "Psuedo-polynomial with respect to $S$ and $T$\n"
   ]
  },
  {
   "cell_type": "markdown",
   "id": "0e91375f",
   "metadata": {},
   "source": [
    "## Summary \n",
    "\n",
    "* <b>Top-down approach</b> (Memoization with recursion)\n",
    "   \n",
    "* <b>Bottom-down approach</b>: (Tabulation with iteration)\n",
    "\n",
    "* Shortest paths - topological sort \n",
    "\n",
    "* Network flows - minimax can be DP-ified! \n",
    "\n",
    "* Virtually any problem with repeating subproblems can be DP-ified!"
   ]
  },
  {
   "cell_type": "markdown",
   "id": "554ca8df",
   "metadata": {},
   "source": [
    "## Exercise \n",
    "\n",
    "Write the Bellman-Ford algorithm with a dynamic programming table."
   ]
  },
  {
   "cell_type": "code",
   "execution_count": null,
   "id": "0e10e0f6",
   "metadata": {},
   "outputs": [],
   "source": [
    "def bellman_ford_dp(vertices, edges, source):\n",
    "    ..."
   ]
  },
  {
   "cell_type": "code",
   "execution_count": 2,
   "id": "9eae7e58",
   "metadata": {},
   "outputs": [
    {
     "name": "stdout",
     "output_type": "stream",
     "text": [
      "Vertex\tDistance from Source\n",
      "0\t0\n",
      "1\t-1\n",
      "2\t2\n",
      "3\t-2\n",
      "4\t1\n"
     ]
    }
   ],
   "source": [
    "V = 5\n",
    "\n",
    "# Edges (u, v, weight)\n",
    "edges = [\n",
    "    (0, 1, -1),\n",
    "    (0, 2, 4),\n",
    "    (1, 2, 3),\n",
    "    (1, 3, 2),\n",
    "    (1, 4, 2),\n",
    "    (3, 2, 5),\n",
    "    (3, 1, 1),\n",
    "    (4, 3, -3),\n",
    "]\n",
    "\n",
    "# Compute shortest paths from vertex 0\n",
    "distances = bellman_ford_dp(V, edges, 0)\n",
    "\n",
    "if distances:\n",
    "    print(\"Vertex\\tDistance from Source\")\n",
    "    for i, d in enumerate(distances):\n",
    "        print(f\"{i}\\t{d}\")"
   ]
  },
  {
   "cell_type": "markdown",
   "id": "b0059a64",
   "metadata": {},
   "source": [
    "## Exercise \n",
    "\n",
    "Given a directed graph $G$ with $n$ nodes and $m$ edges, each edge $(u, v)$ has a capacity $c(u, v)$. Determine the maximum possible flow from a source $s$ to a sink $t$, such that the maximum flow through any single edge is minimized.\n",
    "\n",
    "This problem minimizes the “bottleneck” of the network, ensuring that no single edge carries an excessive amount of the flow."
   ]
  },
  {
   "cell_type": "code",
   "execution_count": null,
   "id": "a990a6d0",
   "metadata": {},
   "outputs": [],
   "source": []
  },
  {
   "cell_type": "markdown",
   "id": "7d06922b",
   "metadata": {},
   "source": [
    "## Exericse\n",
    "\n",
    "Given a flow network, find a path from $s$ to $t$ such that the minimum edge capacity along the path is maximized.\n",
    "\n",
    "Given a directed graph $G$ with $n$ nodes and $m$ edges, find the maximum flow $F$ from source $s$ to sink $t$, such that the minimum flow through any edge in the solution is maximized.\n",
    "\n",
    "Extension: This problem maximizes the smallest amount of flow on any edge used in the final flow, ensuring a “balanced” distribution of flow across the network."
   ]
  },
  {
   "cell_type": "code",
   "execution_count": null,
   "id": "c5636cde",
   "metadata": {},
   "outputs": [],
   "source": []
  }
 ],
 "metadata": {
  "colab": {
   "provenance": []
  },
  "kernelspec": {
   "display_name": "Python 3",
   "language": "python",
   "name": "python3"
  },
  "language_info": {
   "codemirror_mode": {
    "name": "ipython",
    "version": 3
   },
   "file_extension": ".py",
   "mimetype": "text/x-python",
   "name": "python",
   "nbconvert_exporter": "python",
   "pygments_lexer": "ipython3",
   "version": "3.9.6"
  }
 },
 "nbformat": 4,
 "nbformat_minor": 5
}
