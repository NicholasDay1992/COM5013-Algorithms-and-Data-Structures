{
 "cells": [
  {
   "attachments": {
    "pythonLogo.png": {
     "image/png": "[encoded data removed]"
    }
   },
   "cell_type": "markdown",
   "metadata": {
    "slideshow": {
     "slide_type": "slide"
    }
   },
   "source": [
    "![pythonLogo.png](attachment:pythonLogo.png)\n",
    "# Introduction to the Python language - Part 5 #  \n",
    "\n",
    "### R. Mather May, 2020 ###\n",
    "\n",
    "## This section is concerned with Object Orientation. It may contain interactive code with errors for you to repair. At the end there is also <font color=\"red\">a logbook exercise for you to complete</font> ##"
   ]
  },
  {
   "cell_type": "markdown",
   "metadata": {
    "slideshow": {
     "slide_type": "slide"
    }
   },
   "source": [
    "## Python Object Orientation (OO) ##\n",
    "\n",
    "- Many languages are or have capacity to be <font color=\"red\">Object Oriented</font>\n",
    "- This provides an organised <font color=\"red\">Class & Object</font> structure for grouping data with the mechanisms for managing data\n",
    "- <font color=\"red\">Classes</font> provide re-usable template code that combine <font color=\"red\">methods</font> (the functions inside classes) with <font color=\"red\">properties</font> (the attributes inside classes)\n",
    "- Classes are often described as blueprint or cookie-cutter 'static' code from which objects may be 'dynamically' created at runtime\n",
    "- For the following example 'Person' class ... note:\n",
    " - The class name and declaration ... **class Person**\n",
    " - The **constructor** ... **def \\__init__** ... which is a special method for making objects from the class\n",
    " - The reference to ... **self** ... which is a reflective to reference to the fact that an attribute belongs to **this** object\n",
    " - The two **formal parameters** 'name' and 'age' \n",
    " - ... which are used to initialise the object properties 'self.nm' and 'self.yr'\n",
    " - The **accessor** (get) methods to return object properties\n",
    " - The **mutator** (set) methods to change/update object properties\n",
    " - another method that uses object properties\n",
    "<br><br>\n",
    "- Aside: The **printFormattedMessage(self)** and **printC_typeMessage(self)** are not strictly to do with OO \n",
    "- ... but this is a convenient point to compare different ways of string concatenation and formatting with Python\n",
    "- ... also note the use of %s for strings and %d for numbers when using C-language type formatting"
   ]
  },
  {
   "cell_type": "code",
   "execution_count": 1,
   "metadata": {
    "slideshow": {
     "slide_type": "slide"
    }
   },
   "outputs": [
    {
     "name": "stdout",
     "output_type": "stream",
     "text": [
      "Hello, my name is Freddy and I am 26 years old\n",
      "Hello, my name is Freddy and I am 52 years old\n",
      "Hello, my name is Freddy and I am 52 years old. Are you learning Python too?\n",
      "Hello, my name is Freddy and I am 52 years old. Don't you think Python is great?\n"
     ]
    }
   ],
   "source": [
    "# Class declaration\n",
    "class Person:\n",
    "    # Constructor with reflective 'self' reference to 'this' object being created\n",
    "    def __init__(self, name, age):\n",
    "        self.nm = name\n",
    "        self.yr = age\n",
    "    \n",
    "    # 'Accessor' method to 'get' object properties \n",
    "    def getName(self):\n",
    "        return self.nm\n",
    "\n",
    "    # 'Accessor' method to 'get' object properties     \n",
    "    def getAge(self):\n",
    "        return self.yr\n",
    "    \n",
    "    # 'Mutator' method to 'set' or change object properties\n",
    "    def setAge(self, newAge):\n",
    "        self.yr = newAge\n",
    "    \n",
    "    # Another object method \n",
    "    def printFriendlyMessage(self):\n",
    "        print(\"Hello, my name is \" + self.nm + \" and I am \" + str(self.yr) + \" years old\")\n",
    "    \n",
    "    # Another object method using string formating \n",
    "    def printFormattedMessage(self):\n",
    "        print(\"Hello, my name is {0} and I am {1} years old. {2}\".format(self.nm, self.yr, \"Are you learning Python too?\"))\n",
    "\n",
    "    # Yet another object method using C-language type string formating - not use of %s for strings and %d for numbers (digits, data?) \n",
    "    def printC_typeMessage(self):\n",
    "        print(\"Hello, my name is %s and I am %d years old. %s\" % (self.nm, self.yr, \"Don't you think Python is great?\"))\n",
    "# Create a person object 'p1'\n",
    "p1 = Person(\"Freddy\", 26)\n",
    "p1.printFriendlyMessage()\n",
    "# Change age and check\n",
    "p1.setAge(52)\n",
    "p1.printFriendlyMessage()\n",
    "# Use the \"string\".format() method\n",
    "p1.printFormattedMessage()\n",
    "p1.printC_typeMessage()\n"
   ]
  },
  {
   "cell_type": "markdown",
   "metadata": {
    "slideshow": {
     "slide_type": "slide"
    }
   },
   "source": [
    "## Working with Objects ##\n",
    "\n",
    "- The example below declares a 'Property' and with three methods - the constructor (__init__), an accessor (**get**) and a mutator (**set**)\n",
    "- The Property class is used to demonstrate object (instance) creation (intstantiation) and manipulation\n",
    "- Those coming from more formal OO backgrounds (e.g. Java & C#) will notice Python is more concise and uses short cuts\n",
    "<br><br>\n",
    "- Aside: note the use of C-language type %s (%d for numbers) as an alternative to the string format method"
   ]
  },
  {
   "cell_type": "code",
   "execution_count": 2,
   "metadata": {
    "slideshow": {
     "slide_type": "slide"
    }
   },
   "outputs": [
    {
     "name": "stdout",
     "output_type": "stream",
     "text": [
      "\n",
      "New property object constructed\n",
      "\n",
      "Property address: Blind Alley\n",
      "Property type: Shed\n",
      "\n",
      "New property object constructed\n",
      "Property object details are ...  <__main__.Property object at 0x000000000548A088>\n",
      "\n",
      "Property address: 80 High Street\n",
      "Property type: School\n",
      "\n",
      "Property details have been updated\n",
      "\n",
      "Property address: 80-90 High Street\n",
      "Property type: Mega-market\n",
      "prop1 address is ...  80-90 High Street\n",
      "prop1 type is ...  Mega-market\n"
     ]
    }
   ],
   "source": [
    "# Classes group methods (functions inside classes) and properties (class attributes)\n",
    "class Property:\n",
    "    # __init__ is a special 'constructor' method to initialise an object using the class template \n",
    "    def __init__(self, address, property_type):\n",
    "        # 'self' is an explicit reflective reference to 'this' object being created\n",
    "        self.ad = address\n",
    "        self.pt = property_type\n",
    "        print(\"\\nNew property object constructed\")\n",
    "    # 'get' is a common 'ACCESSOR' method to ask an object about itself\n",
    "    def getPropertyDetails(self):\n",
    "        print(\"\\nProperty address: %s\" % self.ad)\n",
    "        print(\"Property type: %s\" % self.pt)\n",
    "    # 'set' is a common 'MUTATOR' method to change properties on an existing object\n",
    "    def setPropertyDetails(self, new_address, new_property_type):\n",
    "        self.ad = new_address\n",
    "        self.pt = new_property_type\n",
    "        print(\"\\nProperty details have been updated\")\n",
    "        \n",
    "# CREATING AND WORKING WITH OBJECTS \n",
    "\n",
    "# Possible to execute create an object without reference to an instance variable and simultaneously call a method\n",
    "Property(\"Blind Alley\", \"Shed\").getPropertyDetails()\n",
    "\n",
    "# More usual to construct a Property object - automatically executes the __init__() constructor\n",
    "prop1=Property(\"80 High Street\", \"School\")\n",
    "\n",
    "# Check its type and memory address\n",
    "print(\"Property object details are ... \", prop1)\n",
    "\n",
    "# 'get' its details\n",
    "prop1.getPropertyDetails()\n",
    "\n",
    "# 'set' (change) its details\n",
    "prop1.setPropertyDetails(\"80-90 High Street\", \"Mega-market\")\n",
    "\n",
    "# 'get' and check the changed details\n",
    "prop1.getPropertyDetails()\n",
    "\n",
    "# Can also get details directly - although not regarded as desirable in many OO languages\n",
    "print(\"prop1 address is ... \", prop1.ad)\n",
    "print(\"prop1 type is ... \", prop1.pt)"
   ]
  },
  {
   "cell_type": "markdown",
   "metadata": {
    "slideshow": {
     "slide_type": "slide"
    }
   },
   "source": [
    "## Objects in Collections ##\n",
    "\n",
    "- It is common to 'persist' or group objects in collections\n",
    "- The following example demonstrates how collections provide a convenient means for processing multiple objects  "
   ]
  },
  {
   "cell_type": "code",
   "execution_count": 3,
   "metadata": {
    "slideshow": {
     "slide_type": "slide"
    }
   },
   "outputs": [
    {
     "name": "stdout",
     "output_type": "stream",
     "text": [
      "\n",
      "Property address: 80 High Street\n",
      "Property type: School\n",
      "\n",
      "Property address: 91 High Street\n",
      "Property type: Clinic\n",
      "\n",
      "Property address: 92 High Street\n",
      "Property type: Restaurant\n",
      "\n",
      "Property address: 93 High Street\n",
      "Property type: Department Store\n"
     ]
    }
   ],
   "source": [
    "class Property:\n",
    "    def __init__(self, address, property_type):\n",
    "        self.ad = address\n",
    "        self.pt = property_type\n",
    "    def getPropertyDetails(self):\n",
    "        print(\"\\nProperty address: %s\" % self.ad)\n",
    "        print(\"Property type: %s\" % self.pt)\n",
    "    def setPropertyDetails(self, new_address, new_property_type):\n",
    "        self.ad = new_address\n",
    "        self.pt = new_property_type\n",
    "\n",
    "# Create multiple property objects\n",
    "prop1=Property(\"80 High Street\", \"School\")\n",
    "prop2=Property(\"91 High Street\", \"Clinic\")\n",
    "prop3=Property(\"92 High Street\", \"Restaurant\")\n",
    "prop4=Property(\"93 High Street\", \"Department Store\")\n",
    "# 'Persist' objects in a collection - here in a list\n",
    "properties = [prop1, prop2, prop3, prop4]\n",
    "# Entire collections of objects can be processed\n",
    "for i in properties:\n",
    "    i.getPropertyDetails()"
   ]
  },
  {
   "cell_type": "markdown",
   "metadata": {
    "slideshow": {
     "slide_type": "slide"
    }
   },
   "source": [
    "## Inheritance ##\n",
    "\n",
    "- OO languages offer the posibility of 'extending' classes to more specialised types\n",
    "- This allows code from the generalised parent (or 'base') class to be reused in the 'inheriting' child (or 'derived') class\n",
    "- Thus a Hotel class could be a specialised form of a Property class\n",
    "- The Hotel class could have an extra attribute of a 'star' rating and an extra method to getStars()\n",
    "- Python has a very concise syntax for object instantiation and inheritance \n",
    "- To inherit simply:\n",
    " 1. pass the base class as a parameter to the deriving class - e.g. <font color=\"red\">class Hotel(Property)</font>.\n",
    " 2. inside the Hotel constructor add a call to the super class passing any parameters required - see <font color=\"red\">super().\\__init__(self, address, stars)</font>.\n",
    " \n",
    " \n",
    " "
   ]
  },
  {
   "cell_type": "code",
   "execution_count": 4,
   "metadata": {
    "slideshow": {
     "slide_type": "slide"
    }
   },
   "outputs": [
    {
     "name": "stdout",
     "output_type": "stream",
     "text": [
      "\n",
      "Property address: 1 Leafy Lane\n",
      "Property type: Hotel\n",
      "Hotel stars: 5\n"
     ]
    }
   ],
   "source": [
    "# Super/base/parent/generalised class\n",
    "class Property:\n",
    "    def __init__(self, address, property_type):\n",
    "        self.ad = address\n",
    "        self.pt = property_type\n",
    "    def getPropertyDetails(self):\n",
    "        print(\"\\nProperty address: %s\" % self.ad)\n",
    "        print(\"Property type: %s\" % self.pt)\n",
    "    def setPropertyDetails(self, new_address, new_property_type):\n",
    "        self.ad = new_address\n",
    "        self.pt = new_property_type\n",
    "\n",
    "# Derived/child/specialised class - to extend base class pass this \"Hotel(Property)\" as a parameter\n",
    "class Hotel(Property):\n",
    "    # Hotel class will extend Property class and add a 'stars' rating\n",
    "    def __init__(self, address, stars):\n",
    "        # call the constructor on the superclass and set the address and the property type to \"Hotel\"\n",
    "        super().__init__(address, \"Hotel\")\n",
    "        # extend with a new 'stars' property\n",
    "        self.st=stars\n",
    "\n",
    "    # Add new method to get star rating\n",
    "    def getStars(self):\n",
    "        print(\"Hotel stars: %s\" % self.st)\n",
    "\n",
    "# Test the derived Hotel class and methods inherited from the Property base class\n",
    "h1 = Hotel(\"1 Leafy Lane\", 5)\n",
    "h1.getPropertyDetails()\n",
    "h1.getStars()"
   ]
  },
  {
   "cell_type": "code",
   "execution_count": 5,
   "metadata": {
    "slideshow": {
     "slide_type": "slide"
    }
   },
   "outputs": [
    {
     "name": "stdout",
     "output_type": "stream",
     "text": [
      "Price: 100\n",
      "Mobile brand Samsung\n",
      "Price: 600\n",
      "Mobile brand iPhone\n",
      "Mobile screen size is: 110mm\n"
     ]
    }
   ],
   "source": [
    "# WORKED EXAMPLE 1 - Create a Phone class with 'price' and 'brand' properties and 'getPrice' and 'getBrand' methods.\n",
    "# Test by creating an instance\n",
    "class Phone:\n",
    "    def __init__(self, price, brand):\n",
    "        self.pr=price\n",
    "        self.br=brand\n",
    "    def getPrice(self):\n",
    "        print(\"Price: %s\" % self.pr)\n",
    "    def getBrand(self):\n",
    "        print(\"Mobile brand %s\" % self.br)\n",
    "mob1=Phone(\"100\", \"Samsung\")\n",
    "mob1.getPrice()\n",
    "mob1.getBrand()\n",
    "\n",
    "# WORKED EXAMPLE 2 - Use inheritance to create a Smartphone class that extends the Phone class with a new screenSize property and a new getScreenSize method\n",
    "# Test by creating an instance\n",
    "class SmartPhone(Phone):\n",
    "    def __init__(self, price, brand, screensize):\n",
    "        super().__init__(price, brand)\n",
    "        self.ss=screensize\n",
    "    def getScreenSize(self):\n",
    "        print(\"Mobile screen size is: %s\" % self.ss)\n",
    "mob2=SmartPhone(\"600\", \"iPhone\", \"110mm\")\n",
    "mob2.getPrice()\n",
    "mob2.getBrand()\n",
    "mob2.getScreenSize()"
   ]
  },
  {
   "cell_type": "markdown",
   "metadata": {
    "slideshow": {
     "slide_type": "slide"
    }
   },
   "source": [
    "## <font color=\"red\">Logbook Exercise 5</font> ##\n",
    "\n",
    "Create a 'code' cell below. In this do the following:\n",
    "- Create a super class \"Person\" that takes three string and one integer parameters for first and second name, UK Postcode and age in years.\n",
    "- Give \"Person\" a method \"greeting\" that prints a statement along the lines \"Hello, my name is Freddy Jones. I am 22 years old and my postcode is HP6 7AJ\"\n",
    "- Create a \"Student\" class that extends/inherits \"Person\" and takes additional parameters for degree_subject and student_ID.\n",
    "- give \"Student\" a \"studentGreeting\" method that prints a statement along the lines \"My student ID is SN123456 and I am reading Computer Science\"\n",
    "- Use either Python {} format or C-type %s/%d notation to format output strings\n",
    "- Create 3 student objects and persist these in a list\n",
    "- Iterate over the three objects and call their \"greeting\" and \"studentGreeting\" methods\n",
    "- Output should be along the lines of the following\n",
    "\n",
    "```\n",
    "Hello, my name is Dick Turpin. I am 32 years old and my postcode is HP11 2JZ\n",
    "My student ID is DT123456 and I am reading Highway Robbery\n",
    " \n",
    "Hello, my name is Dorothy Turpin. I am 32 years old and my postcode is SO14 7AA\n",
    "My student ID is DT123457 and I am reading Law\n",
    " \n",
    "Hello, my name is Oliver Cromwell. I am 32 years old and my postcode is OX35 14RE\n",
    "My student ID is OC123456 and I am reading History\n",
    "```"
   ]
  },
  {
   "cell_type": "markdown",
   "metadata": {
    "slideshow": {
     "slide_type": "slide"
    }
   },
   "source": [
    "# References & Learning Resources#\n",
    "\n",
    " - W3Schools - there are many online resources for Python but the Python tutorial at https://www.w3schools.com/python/ is thorough, progressive, interactive and free. If you complete the main tutorial (skip the bits on installing Python as we will be using Ancaconda/Jupyter) the later sections on **\"File Handling\"**, **\"NumPy\"** and **\"Machine Learning\"** are also relevant. The **\"Exercises\"** and **\"Quiz\"** sections are also worthwhile activities for consolidating knowledge.\n",
    " - **Phillips, D. (2015). Python 3 object-oriented programming. Packt Publishing Ltd.** Although a 3rd edition has been released the 2nd edition is still pretty much up-to-date  and seems to be widely available in PDF format. As an added bonus this covers Design Patterns in some detail.\n",
    " - **https://www.learnpython.org/** is another comprehensive and intercative resource\n",
    " - **https://docs.python.org/3.7/tutorial/** is Python's own text-based tutorial. Despite the seemingly daunting number of sub-sections, it can be consumed in a fairly short time and manages to be both concise and comprehensive.\n",
    " - **Think Python 2e** is an excellent in-depth and free version of the O'Reilly hardcopy by Allen B. Downey and is available here ... https://greenteapress.com/wp/think-python-2e/\n",
    " - I have also adapted examples from *Learn Python In A Day: The Ultimate Crash Course To Learning The Basics Of Python In No Time* by *Acodemy*."
   ]
  }
 ],
 "metadata": {
  "celltoolbar": "Slideshow",
  "kernelspec": {
   "display_name": "Python 3",
   "language": "python",
   "name": "python3"
  },
  "language_info": {
   "codemirror_mode": {
    "name": "ipython",
    "version": 3
   },
   "file_extension": ".py",
   "mimetype": "text/x-python",
   "name": "python",
   "nbconvert_exporter": "python",
   "pygments_lexer": "ipython3",
   "version": "3.8.3"
  }
 },
 "nbformat": 4,
 "nbformat_minor": 4
}
