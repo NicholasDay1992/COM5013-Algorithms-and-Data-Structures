{
  "cells": [
    {
      "cell_type": "markdown",
      "metadata": {
        "colab_type": "text",
        "id": "view-in-github"
      },
      "source": [
        "<a href=\"https://colab.research.google.com/github/NicholasDay1992/CO664-Design-Patterns/blob/main/W1%20-%20UsingAnacondaAndJupyterNotebooks.ipynb\" target=\"_parent\"><img src=\"https://colab.research.google.com/assets/colab-badge.svg\" alt=\"Open In Colab\"/></a>"
      ]
    },
    {
      "cell_type": "markdown",
      "metadata": {
        "id": "4Yt8hpmVzida"
      },
      "source": [
        "# Using Anaconda And Jupyter Notebooks #\n",
        "\n",
        "### Richard Mather ###\n",
        "\n",
        "### May, 2020 ###\n",
        "\n",
        "## This unit introduces the development platforms we will be using for this module. It includes a <font color=\"red\">reference sheet</font> for Jupyter Notebook Markdown. At the end there is <font color=\"red\">a logbook exercise for you to complete</font>  ##\n",
        "\n",
        "## We will be using Anaconda and Jupyter for ... ##\n",
        "\n",
        "- text notes\n",
        "- a development environment\n",
        "- recording our work in a logbook\n",
        "- generating presentations\n",
        "- sharing code and ideas\n",
        "- submitting assessed coursework\n",
        "\n",
        "### Please note - Anaconda-Jupyter ipynb notebooks may also be deployed on <font color=\"red\">Google's 'Colaboratory' platform</font> (https://colab.research.google.com/) ###"
      ]
    },
    {
      "cell_type": "markdown",
      "metadata": {
        "id": "bBfjssgozid4"
      },
      "source": [
        "## Installing Anaconda ##\n",
        "\n",
        "- We will use the Anaconda platform. This is an industry data-science standard and comes bundled with Python, Jupyter Notebooks, Spyder, essential Python packages and their dependencies, such as NumPy, Matplolib and many other really useful data-science and visualisation facilities. \n",
        "\n",
        "- Go to the Anaconda site and select ‘Individual Edition’ (https://www.anaconda.com/products/individual)/ download and then identify the Python 3.x (NOT Python 2.7) product (usually 64 bit) for your platform\n",
        "-  Save and install\n",
        "\n",
        "![AnacondaInstall.png](attachment:AnacondaInstall.png)\n",
        "\n",
        "- Select installation type – I selected ‘just me’  \n",
        "- Destination folder - I went for the default ... e.g. C:\\Users\\dturp01\\Anaconda3\n",
        "- Also chose to \"Register Anaconda3 as my default Python 3.7\"\n",
        "\n",
        "![AnacondaInstall2.png](attachment:AnacondaInstall2.png)\n",
        "\n",
        "- Eventually …\n",
        "\n",
        "![AnacondaInstall3.png](attachment:AnacondaInstall3.png)\n"
      ]
    },
    {
      "cell_type": "markdown",
      "metadata": {
        "id": "3TR3bdHEzid_"
      },
      "source": [
        "## Getting Started with Anaconda ##\n",
        "\n",
        "- A brief introduction to Anconda can be read here https://get.anaconda.com/distribution/tutorial/\n",
        "\n",
        "- Typically it can be launched from a task bar ... launch it now ...\n",
        "\n",
        "![image.png](attachment:image.png)\n",
        "\n",
        "- Anaconda has widely ranging IDE and package management tools \n",
        "- It also ensures that our Python environment is set up properly\n",
        "\n",
        "- However, we are mainly concerned with using Jupyter Notebooks ...\n",
        "- ... and the command terminal, e.g. for generating HTML slide presentations/documents from Notebooks\n",
        "\n",
        "![Anaconda_UI.png](attachment:Anaconda_UI.png)\n"
      ]
    },
    {
      "cell_type": "markdown",
      "metadata": {
        "id": "k-DNwZCUzieD"
      },
      "source": [
        "## Jupyter Notebooks ##\n",
        "\n",
        "- From Anaconda launch Jupyter Notebook\n",
        "\n",
        "![Jupyter1.png](attachment:Jupyter1.png)\n",
        "\n",
        "- This will launch the Jupyter NB interface in your default browser window. \n",
        "- Start by creating a new Python 3 notebook ... see below.\n",
        "\n",
        "![Jupyter2.png](attachment:Jupyter2.png)\n",
        "\n",
        "- This will launch a blank notebook\n",
        "- Click on the cell and change cell type from 'Code' to 'Markdown'\n",
        "\n",
        "![Jupyter3.png](attachment:Jupyter3.png)\n",
        "\n",
        "- Now enter the text exactly as is appears below\n",
        "\n",
        "![Jupyter4.png](attachment:Jupyter4.png)\n",
        "\n",
        "- \"Run\" the cell to execute the markdown\n",
        "\n",
        "![Jupyter5.png](attachment:Jupyter5.png)\n",
        "\n",
        "- You will see another cell under the formatted text. Leave this is a code cell and enter the Python code below\n",
        "- \"Run\" the code to excute the Python 'input' method\n",
        "\n",
        "![Jupyter6.png](attachment:Jupyter6.png)\n",
        "\n",
        "- ***Congratulations! You have completed your first Jupyter Notebook***\n",
        "\n",
        "![Jupyter7.png](attachment:Jupyter7.png)\n",
        "\n",
        "- Name your notebook (e.g. myFirstNotebook) and save it in an appropriate directory \n",
        "\n",
        "![Jupyter8.png](attachment:Jupyter8.png)\n",
        "\n",
        "- Close the browser tab for you notebook\n",
        "- We will look at the notebook behind this presentation for a more detailed view of Anaconda and Jupyter \n"
      ]
    },
    {
      "cell_type": "markdown",
      "metadata": {
        "id": "yxp9FbATzieH"
      },
      "source": [
        "# Editing Markdown Cells #\n",
        "\n",
        "## Please open this notebook <font color=\"red\">UsingAnacondaAndJupyterNotebooks.ipynb</font> for a more detailed account of notebook management ##\n",
        "\n",
        "\n",
        "- The next cell illustrates some key markdown syntax\n",
        "- It is also possible to use HTML and edit a custom.css file to exert fine control over markdown\n",
        "- However, it is suggested that this is done <font color=\"red\">sparingly</font> ...\n",
        "- ... the effects are sometimes unpredictable in browsers and slideshows generated from Jupyter NBs\n",
        "- enter the following text into the Markdown cell"
      ]
    },
    {
      "cell_type": "markdown",
      "metadata": {
        "id": "trQQ-9ZBzieK"
      },
      "source": [
        "# This is a level 1 heading #\n",
        "## This is a level 2 heading ##\n",
        "### This is a level 3 heading ###\n",
        "\n",
        "This normal text\n",
        "\n",
        "This is **bold** and this is also __bold__\n",
        "\n",
        "This is *italicised* and this is also _italicised_\n",
        "\n",
        "You can also combine *italicised with **bold** text*\n",
        "\n",
        "- this is a bullet list\n",
        "- this is a bullet list\n",
        " - this is a sub-bullet\n",
        " - this is a sub bullet\n",
        "- this is a bullet list\n",
        "<br>\n",
        "1. this is a numbered list\n",
        "2. this is a numbered list\n",
        "3. this is a numbered list\n",
        "\n",
        "Here is an HTML line break ...<br>... and another one ...<br>... and another one ...<br>\n",
        "\n",
        "To use an HTML font color do this <font color=\"red\">really important stuff here!!!</font>.\n",
        "\n",
        "<center>Here is some HTML centred text over an HTML table</center>\n",
        "\n",
        "<table>\n",
        "    <tr><th>Author</th><th>Title</th></tr>\n",
        "    <tr><td>D.Du Maurier</td><td>Rebecca</td></tr>\n",
        "    <tr><td>H Mantel</td><td>Wolf Hall</td></tr>\n",
        "</table>\n",
        "\n",
        "<br><br>\n",
        "<center>This is a pure Markdown table</center>\n",
        "\n",
        "| This | is   |\n",
        "|------|------|\n",
        "|   a  | table|\n",
        "\n",
        "To embed/highlight code or code output do this use 3x single slanted quotes ...\n",
        "\n",
        "```\n",
        "# My first Python program\n",
        "name=\"Richard\"\n",
        "print(\"Hello \"+name)\n",
        "```\n",
        "\n",
        "LaTeX equations may also be rendered with $ (inline) and $$ on their own line\n",
        "\n",
        "$$e^x=\\sum_{i=0}^\\infty \\frac{1}{i!}x^i$$\n",
        "\n",
        "Blockquotes are these ..\n",
        "\n",
        "As Grace Hopper said:\n",
        "> I’ve always been more interested<br>\n",
        "> in the future than in the past.\n",
        "\n",
        "Images may be copy/pasted, inserted (from the 'Edit' menu) or linked ... replace this with a copy-paste of your own ![image.png](attachment:image.png)\n",
        "\n",
        "- If things don't render correctly, check margin space indentation and line spacing\n",
        "\n",
        "- There are many other ways of using markdown ... see ...\n",
        " - https://medium.com/ibm-data-science-experience/markdown-for-jupyter-notebooks-cheatsheet-386c05aeebed\n",
        " - https://jupyter-notebook.readthedocs.io/en/stable/examples/Notebook/Working%20With%20Markdown%20Cells.html"
      ]
    },
    {
      "cell_type": "markdown",
      "metadata": {
        "id": "JnXaNqvCzieN"
      },
      "source": [
        "## The Markdown 'cheat sheet' for the above slide ##\n",
        "\n",
        "![Jupyter9.png](attachment:Jupyter9.png)"
      ]
    },
    {
      "cell_type": "markdown",
      "metadata": {
        "id": "kGp535p6zieQ"
      },
      "source": [
        "## Code cells ##\n",
        "\n",
        "- This is clearly the key purpose of Jupyter Notebooks\n",
        "- The default Kernel is Python 3\n",
        "- As with Markdown cells, Code cells are executed using 'Run'\n",
        "- Text, graph and user interaction output appear in a frame below the code frame\n",
        "<br><br>\n",
        "- A live code cell example is presented below\n",
        "- Don't worry if you don't fully understand the code\n",
        "- The example illustrates:\n",
        " - The use of important Python data processing and visualisation libraries\n",
        " - It generates a simple histogram and fitted curve\n",
        " - And demonstrates the type of graphical output associated with matplotlib and Jupyter\n",
        "- Example source is at https://matplotlib.org/3.1.1/gallery/statistics/histogram_features.html"
      ]
    },
    {
      "cell_type": "code",
      "execution_count": 1,
      "metadata": {
        "colab": {
          "base_uri": "https://localhost:8080/",
          "height": 297
        },
        "id": "w8_onJNuzieT",
        "outputId": "88fae4a2-0260-4399-b444-6a0428a526ef"
      },
      "outputs": [
        {
          "ename": "ModuleNotFoundError",
          "evalue": "No module named 'matplotlib'",
          "output_type": "error",
          "traceback": [
            "\u001b[0;31m---------------------------------------------------------------------------\u001b[0m",
            "\u001b[0;31mModuleNotFoundError\u001b[0m                       Traceback (most recent call last)",
            "Cell \u001b[0;32mIn [1], line 1\u001b[0m\n\u001b[0;32m----> 1\u001b[0m \u001b[38;5;28;01mimport\u001b[39;00m \u001b[38;5;21;01mmatplotlib\u001b[39;00m\n\u001b[1;32m      2\u001b[0m \u001b[38;5;28;01mimport\u001b[39;00m \u001b[38;5;21;01mnumpy\u001b[39;00m \u001b[38;5;28;01mas\u001b[39;00m \u001b[38;5;21;01mnp\u001b[39;00m\n\u001b[1;32m      3\u001b[0m \u001b[38;5;28;01mimport\u001b[39;00m \u001b[38;5;21;01mmatplotlib\u001b[39;00m\u001b[38;5;21;01m.\u001b[39;00m\u001b[38;5;21;01mpyplot\u001b[39;00m \u001b[38;5;28;01mas\u001b[39;00m \u001b[38;5;21;01mplt\u001b[39;00m\n",
            "\u001b[0;31mModuleNotFoundError\u001b[0m: No module named 'matplotlib'"
          ]
        }
      ],
      "source": [
        "import matplotlib\n",
        "import numpy as np\n",
        "import matplotlib.pyplot as plt\n",
        "\n",
        "np.random.seed(19680801)\n",
        "\n",
        "# example data\n",
        "mu = 100  # mean of distribution\n",
        "sigma = 15  # standard deviation of distribution\n",
        "x = mu + sigma * np.random.randn(437)\n",
        "\n",
        "num_bins = 20\n",
        "\n",
        "fig, ax = plt.subplots()\n",
        "\n",
        "# the histogram of the data\n",
        "n, bins, patches = ax.hist(x, num_bins, density=1)\n",
        "\n",
        "# add a 'best fit' line\n",
        "y = ((1 / (np.sqrt(2 * np.pi) * sigma)) *\n",
        "     np.exp(-0.5 * (1 / sigma * (bins - mu))**2))\n",
        "ax.plot(bins, y, '--')\n",
        "ax.set_xlabel('Smarts')\n",
        "ax.set_ylabel('Probability density')\n",
        "ax.set_title(r'Histogram of IQ: $\\mu=100$, $\\sigma=15$')\n",
        "\n",
        "# Tweak spacing to prevent clipping of ylabel\n",
        "fig.tight_layout()\n",
        "plt.show()"
      ]
    },
    {
      "cell_type": "markdown",
      "metadata": {
        "id": "s7cVk4jpzieb"
      },
      "source": [
        "## Generating slides from \\*.ipynb Notebooks ##\n",
        "\n",
        "- Jupyter has tools for exporting notebooks in different formats such as HTML, LaTeX, PDF and Python \n",
        "- It is possible to generate slides from the HTML UI\n",
        "- However, this may omit certain features, so it is advisable to use the Anaconda terminal for greater control\n",
        "<br>\n",
        "<br>\n",
        "- The following executes <font color=\"red\">nbconvert</font> a notebook to HTML slides\n",
        "- Before doing this select from the menu View → Cell Toolbar → Slideshow\n",
        "- This creates a light gray bar on top of each cell to customise the slide type - for now just select 'Slide' for all\n",
        "- It illustrates how to specify input and output directories relative to the default Jupyter one\n",
        "- It also specifies an output port ... to avoid occasional collisions with ports in use\n",
        "- It attaches scrollbars (useful for 'long' slides) and a 'fade' effect\n",
        "```\n",
        "jupyter nbconvert Documents\\DesignPatterns\\JupyterNotebooks\\UsingAnacondaAndJupyterNotebooks.ipynb --output-dir=' Documents\\DesignPatterns\\JupyterNotebooks' --to slides --ServePostProcessor.port=8910 --post serve --SlidesExporter.reveal_scroll=True --SlidesExporter.reveal_transition=fade\n",
        "```"
      ]
    },
    {
      "cell_type": "markdown",
      "metadata": {
        "id": "do41C2spzied"
      },
      "source": [
        "## <font color=\"red\">Logbook Exercise 0 (Zero!)</font> ##\n",
        "\n",
        "- Exercise 'zero' is simply to create the logbook that you will eventually submit at the end of the module\n",
        "- Set up a suitable directory for the module and for copies of your Jupyter notebooks\n",
        "- Create a new notebook in the form DP_22222222.ipynb\n",
        " - where DP is for Design Patterns\n",
        " - replace '22222222' with your student ID\n",
        "- Make the first cell a Markdown one with the title for your logbook in the following form \n",
        "\n",
        "```\n",
        "# Design Patterns Logbook #\n",
        "# Richard Turpin #\n",
        "# ID: 12345678 #\n",
        "# May 2020 #\n",
        "```\n",
        "\n",
        "\n",
        "- For the next cell copy the \"Logbook Exercise 1\" Markdown cell from the PythonIntroduction_1.ipynb notebook\n",
        " - NOTE: copy the Markdown not the formatted text, then 'run' the cell\n",
        "- The next cell will be a 'Code' cell for your response to Exercise 1\n",
        "- Continue to update your logbook with Markdown-Exercise and Code-Answer cell pairs for subsequent units\n",
        "- When you have some content, use <font color=\"red\">nbconvert</font> to generate HTML slides from your notebook \n",
        " - to do this start the command terminal from within Anaconda\n",
        " - copy the script in the slide above and paste into a suitable text editor\n",
        " - modify the directory paths and filenames to reflect your environment\n",
        " - paste into the terminal window and execute\n",
        " - <font color=\"red\">Beware</font> of hard returns and spaces that may have crept into your edit ... "
      ]
    },
    {
      "cell_type": "markdown",
      "metadata": {
        "id": "gP1HzftXzief"
      },
      "source": [
        "# References & Learning Resources#\n",
        "\n",
        "- Dataquest (2019) Jupyter Notebook for Beginners: A Tutorial. https://www.dataquest.io/blog/jupyter-notebook-tutorial/\n",
        "- Inge Halilovic (2017) Markdown for Jupyter notebooks cheatsheet. https://medium.com/ibm-data-science-experience\n",
        "- Jupyter Notebook Tutorial - https://www.javatpoint.com/jupyter-notebook\n",
        "/markdown-for-jupyter-notebooks-cheatsheet-386c05aeebed\n",
        "- Karlijn Willems (2017) Jupyter Notebook Cheat Sheet. https://www.datacamp.com/community/blog/jupyter-notebook-cheat-sheet\n",
        "- Tahsin Mayeesha (2018) Present Your Data Science Projects with Jupyter Notebook Slides!\n",
        "https://medium.com/learning-machine-learning/present-your-data-science-projects-with-jupyter-slides-75f20735eb0f"
      ]
    }
  ],
  "metadata": {
    "celltoolbar": "Slideshow",
    "colab": {
      "collapsed_sections": [],
      "include_colab_link": true,
      "name": "UsingAnacondaAndJupyterNotebooks.ipynb",
      "provenance": []
    },
    "kernelspec": {
      "display_name": "Python 3.8.9 64-bit",
      "language": "python",
      "name": "python3"
    },
    "language_info": {
      "codemirror_mode": {
        "name": "ipython",
        "version": 3
      },
      "file_extension": ".py",
      "mimetype": "text/x-python",
      "name": "python",
      "nbconvert_exporter": "python",
      "pygments_lexer": "ipython3",
      "version": "3.9.6"
    },
    "vscode": {
      "interpreter": {
        "hash": "31f2aee4e71d21fbe5cf8b01ff0e069b9275f58929596ceb00d14d90e3e16cd6"
      }
    }
  },
  "nbformat": 4,
  "nbformat_minor": 0
}
