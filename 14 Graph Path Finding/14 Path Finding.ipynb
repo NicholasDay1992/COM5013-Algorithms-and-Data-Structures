{
 "cells": [
  {
   "attachments": {
    "pythonLogo.png": {
     "image/png": "[encoded data removed]"
    }
   },
   "cell_type": "markdown",
   "metadata": {
    "slideshow": {
     "slide_type": "slide"
    }
   },
   "source": [
    "![pythonLogo.png](attachment:pythonLogo.png)\n",
    "# Path Finding\n",
    "\n",
    "* The basis of a Graph class in Python is the implementation of two classes, Graph and Vertex, which establish the essential functionality to create a variety of graphs.\n",
    "\n",
    "* The Vertex class allows for storage of connecting vertices with a dictionary and adjustment of their edges as well.\n",
    "\n",
    "* The Graph class builds upon the Vertex methods and allows addition of vertices and edges, setting the directionality of edges, and determining if a path exists between two vertices.\n"
   ]
  },
  {
   "cell_type": "markdown",
   "metadata": {},
   "source": [
    "# Reminder on Graphs\n",
    "\n",
    "![graph](https://miro.medium.com/max/1208/1*SSSa5VrhhjNrXDdWTBGXlA.gif)"
   ]
  },
  {
   "cell_type": "code",
   "execution_count": null,
   "metadata": {},
   "outputs": [],
   "source": [
    "## Codeacademy \n",
    "\n",
    "class Vertex:\n",
    "  \"\"\"Key methods of Vertex class\"\"\"\n",
    "  def __init__(self, value):\n",
    "  def add_edge(self, vertex, weight = 0):\n",
    "  def get_edges(self):\n",
    "\n",
    "class Graph:\n",
    "  \"\"\"Key methods of Graph class\"\"\"\n",
    "  def __init__(self, directed = False):\n",
    "  def add_vertex(self, vertex):\n",
    "  def add_edge(self, from_vertex, to_vertex, weight = 0):\n",
    "  def find_path(self, start_vertex, end_vertex):"
   ]
  },
  {
   "cell_type": "code",
   "execution_count": null,
   "metadata": {},
   "outputs": [],
   "source": [
    "## Codeacadeny \n",
    "\n",
    "def bfs(graph, start_vertex, target_value):\n",
    "  path = [start_vertex]\n",
    "  vertex_and_path = [start_vertex, path]\n",
    "  bfs_queue = [vertex_and_path]\n",
    "  visited = set()\n",
    "  while bfs_queue:\n",
    "    current_vertex, path = bfs_queue.pop(0)\n",
    "    visited.add(current_vertex)\n",
    "    for neighbor in graph[current_vertex]:\n",
    "      if neighbor not in visited:\n",
    "        if neighbor is target_value:\n",
    "          return path + [neighbor]\n",
    "        else:\n",
    "          bfs_queue.append([neighbor, path + [neighbor]])\n",
    "\n",
    "def dfs(graph, current_vertex, target_value, visited = None):\n",
    "  if visited is None:\n",
    "    visited = []\n",
    "  visited.append(current_vertex)\n",
    "  if current_vertex is target_value:\n",
    "    return visited\n",
    "  \n",
    "  for neighbor in graph[current_vertex]:\n",
    "    if neighbor not in visited:\n",
    "      path = dfs(graph, neighbor, target_value, visited)\n",
    "      if path:\n",
    "        return path\n",
    "\n",
    "some_important_graph = {\n",
    "    'lava': set(['sharks', 'piranhas']),\n",
    "    'sharks': set(['lava', 'bees', 'lasers']),\n",
    "    'piranhas': set(['lava', 'crocodiles']),\n",
    "    'bees': set(['sharks']),\n",
    "    'lasers': set(['sharks', 'crocodiles']),\n",
    "    'crocodiles': set(['piranhas', 'lasers'])\n",
    "  }\n",
    "\n",
    "print(bfs(some_important_graph, 'lava', 'lasers'))\n",
    "print(dfs(some_important_graph, 'lava', 'lasers'))"
   ]
  },
  {
   "cell_type": "markdown",
   "metadata": {},
   "source": [
    "# Dijsktra's Algorithm\n",
    "\n",
    "The algorithm was invented by Edsgar W. Dijkstra (1930-2002) in 1956. \n",
    "\n",
    "![Edsgar](http://www.computinghistory.org.uk/userdata/images/large/34/84/product-73484.jpg)\n",
    "\n",
    "It was originally conceived to find the shortest path covering all vertices, but can also be customised to find the shortest path between two specific vertices. It works with assigning labels to each vertex in the graph, as they are visited. The label contains the sum of the weighting to travel to that vertex. At the end, the shortest path is revealed by the smallest label.\n",
    "\n",
    "![dijalgo1](https://upload.wikimedia.org/wikipedia/commons/5/57/Dijkstra_Animation.gif)\n",
    "\n",
    "![dijalgo2](https://2497063786-files.gitbook.io/~/files/v0/b/gitbook-legacy-files/o/assets%2F-LdGcqx-Ay6h4-DM_J08%2F-LdQqBd3uKWBVNik1EzU%2F-LdQqDsb98yf6tUa_Yif%2Fdijkstra.gif?alt=media&token=a2c261f8-3e0a-46ab-a6cc-abe9f6b2b934)"
   ]
  },
  {
   "cell_type": "code",
   "execution_count": null,
   "metadata": {},
   "outputs": [],
   "source": [
    "\n",
    "graph = {\n",
    "  'A': [('B', 10), ('C', 3)],\n",
    "  'B': [('C', 3), ('D', 2)],\n",
    "  'C': [('D', 2)],\n",
    "  'D': [('E', 10)],\n",
    "  'E': [('B', 15)],\n",
    "}\n",
    "\n",
    "\n",
    "for vertex in graph:\n",
    "  print(\"\\n\\nVertex {0} connects to: \".format(vertex))\n",
    "  for edge in graph[vertex]:\n",
    "    print(\"vertex {0} with a weight of {1}\".format(edge[0], edge[1]))"
   ]
  },
  {
   "cell_type": "markdown",
   "metadata": {},
   "source": [
    "# Implementation\n",
    "\n"
   ]
  },
  {
   "cell_type": "markdown",
   "metadata": {},
   "source": [
    "Wrap start and goal in Nodes\n",
    "insert start node into open list \n",
    "Loop while open not empty\n",
    "</t>set current to lowest node in open\n",
    "remove current from open\n",
    "store current’s adjacent vertices in adjacent linked list\n",
    "loop while adjacent not empty\n",
    "set adj to lowest weighted in adjacent list\n",
    "wrap adj in Node\n",
    "set distance to current’s g value + DistanceBetween current and adj if adj node’s g is zero or distance < adj node’s g\n",
    "set adj node’s g to distance\n",
    "set adj node’s parent to current end if\n",
    "if adj is goal\n",
    "return ReconstructPlan(adj’s node)\n",
    "end if\n",
    "insert adj’s node into open delete adj from adjacent list\n",
    "end loop end loop\n",
    "return 0"
   ]
  },
  {
   "cell_type": "code",
   "execution_count": null,
   "metadata": {},
   "outputs": [],
   "source": [
    "function Dijkstra(Graph, source):\n",
    "       dist[source]  := 0                     // Distance from source to source is set to 0\n",
    "       for each vertex v in Graph:            // Initializations\n",
    "           if v ≠ source\n",
    "               dist[v]  := infinity           // Unknown distance function from source to each node set to infinity\n",
    "           add v to Q                         // All nodes initially in Q\n",
    "\n",
    "      while Q is not empty:                  // The main loop\n",
    "          v := vertex in Q with min dist[v]  // In the first run-through, this vertex is the source node\n",
    "          remove v from Q \n",
    "\n",
    "          for each neighbor u of v:           // where neighbor u has not yet been removed from Q.\n",
    "              alt := dist[v] + length(v, u)\n",
    "              if alt < dist[u]:               // A shorter path to u has been found\n",
    "                  dist[u]  := alt            // Update distance of u \n",
    "\n",
    "      return dist[]\n",
    "  end function"
   ]
  },
  {
   "cell_type": "markdown",
   "metadata": {},
   "source": [
    "# Heapq\n",
    "\n",
    "![heapq](https://i.imgur.com/nJOypZz.gif)"
   ]
  },
  {
   "cell_type": "code",
   "execution_count": null,
   "metadata": {},
   "outputs": [],
   "source": [
    "#Write Import Statement here\n",
    "import heapq\n",
    "\n",
    "\n",
    "heap = [(0, 'A')]\n",
    "heapq.heappush(heap, (1, 'B'))\n",
    "heapq.heappush(heap, (-5, 'D'))\n",
    "heapq.heappush(heap, (4, 'E'))\n",
    "heapq.heappush(heap, (2, 'C'))\n",
    "\n",
    "print(\"The smallest values in the heap in ascending order are:\\n\")\n",
    "while heap:\n",
    "  print(heapq.heappop(heap))"
   ]
  },
  {
   "cell_type": "markdown",
   "metadata": {},
   "source": [
    "# Dijkstra's Algorithm\n",
    "\n"
   ]
  },
  {
   "cell_type": "code",
   "execution_count": 2,
   "metadata": {},
   "outputs": [
    {
     "name": "stdout",
     "output_type": "stream",
     "text": [
      "\n",
      "\n",
      "Shortest Distances: {'A': 0, 'C': 3, 'D': 5, 'E': 15, 'B': 10}\n"
     ]
    }
   ],
   "source": [
    "from heapq import heappop, heappush\n",
    "from math import inf\n",
    "\n",
    "graph = {\n",
    "        'A': [('B', 10), ('C', 3)],\n",
    "        'C': [('D', 2)],\n",
    "        'D': [('E', 10)],\n",
    "        'E': [],\n",
    "        'B': [('C', 3), ('D', 2)]\n",
    "    }\n",
    "\n",
    "\n",
    "def dijkstras(graph, start):\n",
    "  distances = {}\n",
    "  for vertex in graph:\n",
    "    distances[vertex] = inf\n",
    "  distances[start] = 0\n",
    "  vertices_to_explore = [(0, start)]\n",
    "  \n",
    "  while vertices_to_explore:\n",
    "    current_distance, current_vertex = heappop(vertices_to_explore)\n",
    "    # Finish dijkstras() below:\n",
    "    for neighbor, edge_weight in graph[current_vertex]:\n",
    "      new_distance = current_distance + edge_weight\n",
    "      if new_distance < distances[neighbor]:\n",
    "        distances[neighbor] = new_distance\n",
    "        heappush(vertices_to_explore, (new_distance, neighbor))\n",
    "        \n",
    "  return distances\n",
    "        \n",
    "distances_from_a = dijkstras(graph, 'A')\n",
    "print(\"\\n\\nShortest Distances: {0}\".format(distances_from_a))\n"
   ]
  },
  {
   "cell_type": "code",
   "execution_count": 1,
   "metadata": {},
   "outputs": [
    {
     "data": {
      "text/plain": [
       "inf"
      ]
     },
     "execution_count": 1,
     "metadata": {},
     "output_type": "execute_result"
    }
   ],
   "source": [
    "from math import inf\n",
    "inf"
   ]
  },
  {
   "cell_type": "code",
   "execution_count": 3,
   "metadata": {},
   "outputs": [
    {
     "name": "stdout",
     "output_type": "stream",
     "text": [
      "\n",
      "\n",
      "Shortest Distances: {'A': 17, 'C': 20, 'D': 0, 'E': 10, 'B': 27}\n"
     ]
    }
   ],
   "source": [
    "from heapq import heappop, heappush\n",
    "from math import inf\n",
    "\n",
    "graph = {\n",
    "        'A': [('B', 10), ('C', 3)],\n",
    "        'C': [('D', 2)],\n",
    "        'D': [('E', 10)],\n",
    "        'E': [('A', 7)],\n",
    "        'B': [('C', 3), ('D', 2)]\n",
    "    }\n",
    "\n",
    "\n",
    "def dijkstras(graph, start):\n",
    "  distances = {}\n",
    "  \n",
    "  for vertex in graph:\n",
    "    distances[vertex] = inf\n",
    "    \n",
    "  distances[start] = 0\n",
    "  vertices_to_explore = [(0, start)]\n",
    "  \n",
    "  while vertices_to_explore:\n",
    "    current_distance, current_vertex = heappop(vertices_to_explore)\n",
    "    \n",
    "    for neighbor, edge_weight in graph[current_vertex]:\n",
    "      new_distance = current_distance + edge_weight\n",
    "      \n",
    "      if new_distance < distances[neighbor]:\n",
    "        distances[neighbor] = new_distance\n",
    "        heappush(vertices_to_explore, (new_distance, neighbor))\n",
    "        \n",
    "  return distances\n",
    "        \n",
    "distances_from_d = dijkstras(graph, 'D')\n",
    "print(\"\\n\\nShortest Distances: {0}\".format(distances_from_d))\n"
   ]
  },
  {
   "cell_type": "markdown",
   "metadata": {},
   "source": [
    "# A star \n",
    "\n",
    "This algorithm was first published in 1968 by colleagues at the Stanford Research Institute.\n",
    "\n",
    "It can be seen as an extension of Dijkstra's algorithm. A* achieves better performance by using heuristics to guide its search.\n",
    "\n",
    "Compared to Dijkstra's algorithm, the A* algorithm only finds the shortest path from a specified source to a specified goal, and not the shortest-path tree from a specified source to all possible goals. This is a necessary trade-off for using a specific-goal-directed heuristic. For Dijkstra's algorithm, since the entire shortest-path tree is generated, every node is a goal, and there can be no specific-goal-directed heuristic.\n",
    "\n",
    "![astar](https://camo.githubusercontent.com/4ee5aed430b01073409c91036329200f10a71c97fd643acbfcff047d821e7741/687474703a2f2f672e7265636f726469742e636f2f51784d44503679577a422e676966)"
   ]
  },
  {
   "cell_type": "markdown",
   "metadata": {},
   "source": [
    "wrap start and goal in Nodes insert start node into open list Loop while open not empty\n",
    "set current to lowest node in open remove current from open\n",
    "store current’s adjacent vertices in adjacent priority list loop while adjacent not empty\n",
    "set adj to the remove vertex in adjacent priority list wrap adj in Node\n",
    "set adjNode’s parent to current\n",
    "if adjNode is goal\n",
    "return ReconstructPlan(adj’s node)\n",
    "end if\n",
    "adjNode’s g = current’s g + DistanceBwteenvertices current and adj adjNode’s h = GetHeuristic between adj and goal\n",
    "adjNode’s f = g + h\n",
    "set foundInOpen = find adj’s node in open list\n",
    "if foundInOpen <> 0 and foundInOpen’s f < adj Node’s f\n",
    "skip to next adjacent iteration\n",
    "end if\n",
    "set foundInClosed = find adj’s node in closed lis\n",
    "if foundInClose <> 0 and foundInClosed’s f < adj Node’s f\n",
    "skip to next adjacent iteration\n",
    "end if\n",
    "insert adj node into open end loop\n",
    "insert current into closed end loop\n",
    "return 0"
   ]
  },
  {
   "cell_type": "code",
   "execution_count": 4,
   "metadata": {},
   "outputs": [
    {
     "ename": "TypeError",
     "evalue": "'<' not supported between instances of 'float' and 'list'",
     "output_type": "error",
     "traceback": [
      "\u001b[0;31m---------------------------------------------------------------------------\u001b[0m",
      "\u001b[0;31mTypeError\u001b[0m                                 Traceback (most recent call last)",
      "\u001b[1;32m/Users/nick/Documents/GitHub/CO536-Algorithms-and-Data-Structures/10 - Path Finding/PythonPathFinding_student_copy.ipynb Cell 18\u001b[0m line \u001b[0;36m4\n\u001b[1;32m     <a href='vscode-notebook-cell:/Users/nick/Documents/GitHub/CO536-Algorithms-and-Data-Structures/10%20-%20Path%20Finding/PythonPathFinding_student_copy.ipynb#X22sZmlsZQ%3D%3D?line=35'>36</a>\u001b[0m bengaluru \u001b[39m=\u001b[39m graph_vertex(\u001b[39m\"\u001b[39m\u001b[39mBengaluru\u001b[39m\u001b[39m\"\u001b[39m, \u001b[39m12.972442\u001b[39m, \u001b[39m77.580643\u001b[39m)\n\u001b[1;32m     <a href='vscode-notebook-cell:/Users/nick/Documents/GitHub/CO536-Algorithms-and-Data-Structures/10%20-%20Path%20Finding/PythonPathFinding_student_copy.ipynb#X22sZmlsZQ%3D%3D?line=37'>38</a>\u001b[0m cities_graph \u001b[39m=\u001b[39m {\n\u001b[1;32m     <a href='vscode-notebook-cell:/Users/nick/Documents/GitHub/CO536-Algorithms-and-Data-Structures/10%20-%20Path%20Finding/PythonPathFinding_student_copy.ipynb#X22sZmlsZQ%3D%3D?line=38'>39</a>\u001b[0m   delhi: \u001b[39mset\u001b[39m([(jaipur, \u001b[39m2.243918\u001b[39m), (varanasi, \u001b[39m6.65902\u001b[39m), (mumbai, \u001b[39m10.507479\u001b[39m), (chennai, \u001b[39m15.867576\u001b[39m), (hyderabad, \u001b[39m11.329626\u001b[39m), (kolkata, \u001b[39m12.693718\u001b[39m), (bengaluru, \u001b[39m15.676582\u001b[39m)]),\n\u001b[1;32m     <a href='vscode-notebook-cell:/Users/nick/Documents/GitHub/CO536-Algorithms-and-Data-Structures/10%20-%20Path%20Finding/PythonPathFinding_student_copy.ipynb#X22sZmlsZQ%3D%3D?line=39'>40</a>\u001b[0m   jaipur: \u001b[39mset\u001b[39m([(mumbai, \u001b[39m8.366539\u001b[39m), (delhi, \u001b[39m2.243918\u001b[39m)]),\n\u001b[0;32m   (...)\u001b[0m\n\u001b[1;32m     <a href='vscode-notebook-cell:/Users/nick/Documents/GitHub/CO536-Algorithms-and-Data-Structures/10%20-%20Path%20Finding/PythonPathFinding_student_copy.ipynb#X22sZmlsZQ%3D%3D?line=45'>46</a>\u001b[0m   bengaluru: \u001b[39mset\u001b[39m([(delhi, \u001b[39m15.676582\u001b[39m), (mumbai, \u001b[39m7.699756\u001b[39m), (chennai, \u001b[39m2.658671\u001b[39m), (hyderabad, \u001b[39m4.507721\u001b[39m), (kolkata, \u001b[39m14.437532\u001b[39m)])\n\u001b[1;32m     <a href='vscode-notebook-cell:/Users/nick/Documents/GitHub/CO536-Algorithms-and-Data-Structures/10%20-%20Path%20Finding/PythonPathFinding_student_copy.ipynb#X22sZmlsZQ%3D%3D?line=46'>47</a>\u001b[0m }\n\u001b[0;32m---> <a href='vscode-notebook-cell:/Users/nick/Documents/GitHub/CO536-Algorithms-and-Data-Structures/10%20-%20Path%20Finding/PythonPathFinding_student_copy.ipynb#X22sZmlsZQ%3D%3D?line=47'>48</a>\u001b[0m a_star(cities_graph, delhi, varanasi)\n",
      "\u001b[1;32m/Users/nick/Documents/GitHub/CO536-Algorithms-and-Data-Structures/10 - Path Finding/PythonPathFinding_student_copy.ipynb Cell 18\u001b[0m line \u001b[0;36m1\n\u001b[1;32m     <a href='vscode-notebook-cell:/Users/nick/Documents/GitHub/CO536-Algorithms-and-Data-Structures/10%20-%20Path%20Finding/PythonPathFinding_student_copy.ipynb#X22sZmlsZQ%3D%3D?line=14'>15</a>\u001b[0m \u001b[39mfor\u001b[39;00m neighbor, edge_weight \u001b[39min\u001b[39;00m graph[current_vertex]:\n\u001b[1;32m     <a href='vscode-notebook-cell:/Users/nick/Documents/GitHub/CO536-Algorithms-and-Data-Structures/10%20-%20Path%20Finding/PythonPathFinding_student_copy.ipynb#X22sZmlsZQ%3D%3D?line=15'>16</a>\u001b[0m   new_distance \u001b[39m=\u001b[39m current_distance \u001b[39m+\u001b[39m edge_weight\n\u001b[0;32m---> <a href='vscode-notebook-cell:/Users/nick/Documents/GitHub/CO536-Algorithms-and-Data-Structures/10%20-%20Path%20Finding/PythonPathFinding_student_copy.ipynb#X22sZmlsZQ%3D%3D?line=16'>17</a>\u001b[0m   \u001b[39mif\u001b[39;00m new_distance \u001b[39m<\u001b[39;49m paths_and_distances[neighbor]:\n\u001b[1;32m     <a href='vscode-notebook-cell:/Users/nick/Documents/GitHub/CO536-Algorithms-and-Data-Structures/10%20-%20Path%20Finding/PythonPathFinding_student_copy.ipynb#X22sZmlsZQ%3D%3D?line=17'>18</a>\u001b[0m     paths_and_distances[neighbor] \u001b[39m=\u001b[39m new_distance\n\u001b[1;32m     <a href='vscode-notebook-cell:/Users/nick/Documents/GitHub/CO536-Algorithms-and-Data-Structures/10%20-%20Path%20Finding/PythonPathFinding_student_copy.ipynb#X22sZmlsZQ%3D%3D?line=18'>19</a>\u001b[0m     heappush(vertices_to_explore, (new_distance, neighbor))\n",
      "\u001b[0;31mTypeError\u001b[0m: '<' not supported between instances of 'float' and 'list'"
     ]
    }
   ],
   "source": [
    "# A* #\n",
    "from math import inf\n",
    "from heapq import heappop, heappush\n",
    "\n",
    "def a_star(graph, start, target):\n",
    "  paths_and_distances = {}\n",
    "  for vertex in graph:\n",
    "    paths_and_distances[vertex] = [inf, [start.name]]\n",
    "  \n",
    "  paths_and_distances[start] = 0\n",
    "  vertices_to_explore = [(0, start)]\n",
    "\n",
    "  while vertices_to_explore:\n",
    "    current_distance, current_vertex = heappop(vertices_to_explore)\n",
    "    for neighbor, edge_weight in graph[current_vertex]:\n",
    "      new_distance = current_distance + edge_weight\n",
    "      if new_distance < paths_and_distances[neighbor]:\n",
    "        paths_and_distances[neighbor] = new_distance\n",
    "        heappush(vertices_to_explore, (new_distance, neighbor))\n",
    "  \n",
    "  return paths_and_distances\n",
    "\n",
    "# A graph and vertices for us to play around with:\n",
    "class graph_vertex:\n",
    "  def __init__(self, name, x, y):\n",
    "    self.name = name\n",
    "    self.position = (x, y)\n",
    "\n",
    "delhi = graph_vertex(\"New Delhi\", 28.6448, 77.216721)\n",
    "jaipur = graph_vertex(\"Jaipur\", 26.92207, 75.778885)\n",
    "varanasi = graph_vertex(\"Varanasi\", 25.321684, 82.987289)\n",
    "mumbai = graph_vertex(\"Mumbai\", 19.07283, 72.88261)\n",
    "chennai = graph_vertex(\"Chennai\", 13.067439, 80.237617)\n",
    "hyderabad = graph_vertex(\"Hyderabad\", 17.387140, 78.491684)\n",
    "kolkata = graph_vertex(\"Kolkata\", 22.572645, 88.363892)\n",
    "bengaluru = graph_vertex(\"Bengaluru\", 12.972442, 77.580643)\n",
    "\n",
    "cities_graph = {\n",
    "  delhi: set([(jaipur, 2.243918), (varanasi, 6.65902), (mumbai, 10.507479), (chennai, 15.867576), (hyderabad, 11.329626), (kolkata, 12.693718), (bengaluru, 15.676582)]),\n",
    "  jaipur: set([(mumbai, 8.366539), (delhi, 2.243918)]),\n",
    "  varanasi: set([(delhi, 6.65902), (mumbai, 11.88077)]),\n",
    "  mumbai: set([(delhi, 10.507479), (jaipur, 8.366539), (varanasi, 11.88077), (hyderabad, 5.856898), (kolkata, 15.87195), (bengaluru, 7.699756)]),\n",
    "  chennai: set([(delhi, 15.867576), (kolkata, 12.50541), (hyderabad, 4.659195), (bengaluru, 2.658671)]),\n",
    "  hyderabad: set([(delhi, 11.329626), (mumbai, 5.856898), (chennai, 4.659195), (bengaluru, 4.507721), (kolkata, 11.151231)]),\n",
    "  kolkata: set([(delhi, 12.693718), (mumbai, 15.87195), (chennai, 12.50541), (hyderabad, 11.151231), (bengaluru, 14.437532)]),\n",
    "  bengaluru: set([(delhi, 15.676582), (mumbai, 7.699756), (chennai, 2.658671), (hyderabad, 4.507721), (kolkata, 14.437532)])\n",
    "}\n",
    "a_star(cities_graph, delhi, varanasi)\n"
   ]
  },
  {
   "cell_type": "markdown",
   "metadata": {},
   "source": [
    "# Add Heuristic\n",
    "So far, what you’ve created is a modified Dijkstra’s algorithm that has a target and returns the path to that target.\n",
    "\n",
    "To make this algorithm truly a star A*, you’ll need to add a heuristic that estimates the distance from a given vertex to the target.\n",
    "\n",
    "By doing this, the algorithm is able to efficiently and accurately predict whether or not it is heading in the best possible direction."
   ]
  },
  {
   "cell_type": "code",
   "execution_count": 5,
   "metadata": {},
   "outputs": [
    {
     "ename": "ModuleNotFoundError",
     "evalue": "No module named 'manhattan_graph'",
     "output_type": "error",
     "traceback": [
      "\u001b[0;31m---------------------------------------------------------------------------\u001b[0m",
      "\u001b[0;31mModuleNotFoundError\u001b[0m                       Traceback (most recent call last)",
      "\u001b[1;32m/Users/nick/Documents/GitHub/CO536-Algorithms-and-Data-Structures/10 - Path Finding/PythonPathFinding_student_copy.ipynb Cell 20\u001b[0m line \u001b[0;36m3\n\u001b[1;32m      <a href='vscode-notebook-cell:/Users/nick/Documents/GitHub/CO536-Algorithms-and-Data-Structures/10%20-%20Path%20Finding/PythonPathFinding_student_copy.ipynb#X24sZmlsZQ%3D%3D?line=0'>1</a>\u001b[0m \u001b[39mfrom\u001b[39;00m \u001b[39mmath\u001b[39;00m \u001b[39mimport\u001b[39;00m inf\n\u001b[1;32m      <a href='vscode-notebook-cell:/Users/nick/Documents/GitHub/CO536-Algorithms-and-Data-Structures/10%20-%20Path%20Finding/PythonPathFinding_student_copy.ipynb#X24sZmlsZQ%3D%3D?line=1'>2</a>\u001b[0m \u001b[39mfrom\u001b[39;00m \u001b[39mheapq\u001b[39;00m \u001b[39mimport\u001b[39;00m heappop, heappush\n\u001b[0;32m----> <a href='vscode-notebook-cell:/Users/nick/Documents/GitHub/CO536-Algorithms-and-Data-Structures/10%20-%20Path%20Finding/PythonPathFinding_student_copy.ipynb#X24sZmlsZQ%3D%3D?line=2'>3</a>\u001b[0m \u001b[39mfrom\u001b[39;00m \u001b[39mmanhattan_graph\u001b[39;00m \u001b[39mimport\u001b[39;00m manhattan_graph, thirty_sixth_and_sixth, grand_central_station\n\u001b[1;32m      <a href='vscode-notebook-cell:/Users/nick/Documents/GitHub/CO536-Algorithms-and-Data-Structures/10%20-%20Path%20Finding/PythonPathFinding_student_copy.ipynb#X24sZmlsZQ%3D%3D?line=4'>5</a>\u001b[0m \u001b[39mdef\u001b[39;00m \u001b[39mmodified_dijkstras\u001b[39m(graph, start, target):\n\u001b[1;32m      <a href='vscode-notebook-cell:/Users/nick/Documents/GitHub/CO536-Algorithms-and-Data-Structures/10%20-%20Path%20Finding/PythonPathFinding_student_copy.ipynb#X24sZmlsZQ%3D%3D?line=5'>6</a>\u001b[0m   \u001b[39mprint\u001b[39m(\u001b[39m\"\u001b[39m\u001b[39mStarting Dijkstra\u001b[39m\u001b[39m'\u001b[39m\u001b[39ms algorithm!\u001b[39m\u001b[39m\"\u001b[39m)\n",
      "\u001b[0;31mModuleNotFoundError\u001b[0m: No module named 'manhattan_graph'"
     ]
    }
   ],
   "source": [
    "from math import inf\n",
    "from heapq import heappop, heappush\n",
    "from manhattan_graph import manhattan_graph, thirty_sixth_and_sixth, grand_central_station\n",
    "\n",
    "def modified_dijkstras(graph, start, target):\n",
    "  print(\"Starting Dijkstra's algorithm!\")\n",
    "  count = 0\n",
    "  paths_and_distances = {}\n",
    "  for vertex in graph:\n",
    "    paths_and_distances[vertex] = [inf, [start.name]]\n",
    "  \n",
    "  paths_and_distances[start][0] = 0\n",
    "  vertices_to_explore = [(0, start)]\n",
    "\n",
    "  while vertices_to_explore:\n",
    "    current_distance, current_vertex = heappop(vertices_to_explore)\n",
    "    for neighbor, edge_weight in graph[current_vertex]:\n",
    "      new_distance = current_distance + edge_weight\n",
    "      new_path = paths_and_distances[current_vertex][1] + [neighbor.name]\n",
    "      if new_distance < paths_and_distances[neighbor][0]:\n",
    "        paths_and_distances[neighbor][0] = new_distance\n",
    "        paths_and_distances[neighbor][1] = new_path\n",
    "        heappush(vertices_to_explore, (new_distance, neighbor))\n",
    "        count += 1\n",
    "        print(\"\\nAt \" + vertices_to_explore[0][1].name)\n",
    "  print(\"Found a path in {0} steps: \".format(count), paths_and_distances[target][1])\n",
    "  return paths_and_distances[target][1]\n",
    "\n",
    "def heuristic(start, target):\n",
    "  x_distance = abs(start.position[0] - target.position[0])\n",
    "  y_distance = abs(start.position[1] - target.position[1])\n",
    "  return x_distance + y_distance\n",
    "\n",
    "def a_star(graph, start, target):\n",
    "  print(\"Starting A* algorithm!\")\n",
    "  count = 0\n",
    "  paths_and_distances = {}\n",
    "  for vertex in graph:\n",
    "    paths_and_distances[vertex] = [inf, [start.name]]\n",
    "  \n",
    "  paths_and_distances[start][0] = 0\n",
    "  vertices_to_explore = [(0, start)]\n",
    "  while vertices_to_explore and paths_and_distances[target][0] == inf:\n",
    "    current_distance, current_vertex = heappop(vertices_to_explore)\n",
    "    for neighbor, edge_weight in graph[current_vertex]:\n",
    "      new_distance = current_distance + edge_weight + heuristic(neighbor, target)\n",
    "      new_path = paths_and_distances[current_vertex][1] + [neighbor.name]\n",
    "      \n",
    "      if new_distance < paths_and_distances[neighbor][0]:\n",
    "        paths_and_distances[neighbor][0] = new_distance\n",
    "        paths_and_distances[neighbor][1] = new_path\n",
    "        heappush(vertices_to_explore, (new_distance, neighbor))\n",
    "        count += 1\n",
    "        print(\"\\nAt \" + vertices_to_explore[0][1].name)\n",
    "        \n",
    "  print(\"Found a path in {0} steps: \".format(count), paths_and_distances[target][1])\n",
    "  \n",
    "  return paths_and_distances[target][1]\n",
    "\n",
    "\n",
    "modified_dijkstras(manhattan_graph, thirty_sixth_and_sixth, grand_central_station)\n",
    "\n",
    "a_star(manhattan_graph, thirty_sixth_and_sixth, grand_central_station)"
   ]
  },
  {
   "cell_type": "markdown",
   "metadata": {},
   "source": [
    "# Manhattan Heuristic\n",
    "\n",
    "There are several kinds of heuristics out there that you can use to estimate distance, but we’ll start with the Manhattan heuristic. This heuristic is only considered admissible — meaning that it never overestimates the distance in reaching the target — in a grid system in which the search can only move up, down, left, or right.\n",
    "\n",
    "To get the heuristic estimate, we need to:\n",
    "\n",
    "- Measure the distance between the two vertices’ x positional values and between their y positional values.\n",
    "- Return the sum of the x distance and y distance together.\n",
    "\n",
    "![manhattan](https://www.101computing.net/wp/wp-content/uploads/taxicab-manhattan-grid-layout-paths.gif) "
   ]
  },
  {
   "cell_type": "code",
   "execution_count": null,
   "metadata": {},
   "outputs": [],
   "source": [
    "from math import inf\n",
    "from heapq import heappop, heappush\n",
    "from manhattan_graph import manhattan_graph, penn_station, grand_central_station\n",
    "\n",
    "# Manhattan Heuristic\n",
    "def heuristic(start, target):\n",
    "  x_distance = abs(start.position[0] - target.position[0])\n",
    "  y_distance = abs(start.position[1] - target.position[1])\n",
    "  return x_distance + y_distance\n",
    "\n",
    "def a_star(graph, start, target):\n",
    "  print(\"Starting A* algorithm!\")\n",
    "  count = 0\n",
    "  paths_and_distances = {}\n",
    "  for vertex in graph:\n",
    "    paths_and_distances[vertex] = [inf, [start.name]]\n",
    "  \n",
    "  paths_and_distances[start][0] = 0\n",
    "  vertices_to_explore = [(0, start)]\n",
    "  while vertices_to_explore and paths_and_distances[target][0] == inf:\n",
    "    current_distance, current_vertex = heappop(vertices_to_explore)\n",
    "    for neighbor, edge_weight in graph[current_vertex]:\n",
    "      new_distance = current_distance + edge_weight + heuristic(neighbor, target)\n",
    "      new_path = paths_and_distances[current_vertex][1] + [neighbor.name]\n",
    "      \n",
    "      if new_distance < paths_and_distances[neighbor][0]:\n",
    "        paths_and_distances[neighbor][0] = new_distance\n",
    "        paths_and_distances[neighbor][1] = new_path\n",
    "        heappush(vertices_to_explore, (new_distance, neighbor))\n",
    "        count += 1\n",
    "        print(\"\\nAt \" + vertices_to_explore[0][1].name)\n",
    "        \n",
    "  print(\"Found a path from {0} to {1} in {2} steps: \".format(start.name, target.name, count), paths_and_distances[target][1])\n",
    "  \n",
    "  return paths_and_distances[target][1]\n",
    "\n",
    "# Call a_star() on manhattan_graph to find the best route\n",
    "# from penn_station to grand_central_station:\n",
    "a_star(manhattan_graph, penn_station, grand_central_station)"
   ]
  },
  {
   "cell_type": "markdown",
   "metadata": {},
   "source": [
    "# Euclidean Heuristic\n",
    "\n",
    "Not all vertices are on a grid and sometimes the shortest distance is closer to a direct diagonal line between two points. For these situations, a Manhattan heuristic would overestimate the total distance, making it inadmissible; the Euclidean heuristic would be a better fit.\n",
    "\n",
    "The Euclidean heuristic works off of the Pythagorean theorem: \n",
    "​\t \n",
    "When you think about it, what we are finding is essentially a hypotenuse of a right triangle; the other two sides would be the x-distance and the y-distance.\n",
    "\n",
    "![euclidean_vs_manhattan](https://d1m75rqqgidzqn.cloudfront.net/wp-data/2020/07/01130416/june-30-hierarchical-clustering-infograph-for-blog-4.png)\n"
   ]
  },
  {
   "cell_type": "code",
   "execution_count": null,
   "metadata": {},
   "outputs": [],
   "source": [
    "from math import inf, sqrt\n",
    "from heapq import heappop, heappush\n",
    "from euclidean_graph import euclidean_graph, bengaluru, jaipur\n",
    "\n",
    "# Euclidean Heuristic\n",
    "def heuristic(start, target):\n",
    "  x_distance = abs(start.position[0] - target.position[0])\n",
    "  y_distance = abs(start.position[1] - target.position[1])\n",
    "  return sqrt(x_distance * x_distance + y_distance * y_distance)\n",
    "\n",
    "def a_star(graph, start, target):\n",
    "  print(\"Starting A* algorithm!\")\n",
    "  count = 0\n",
    "  paths_and_distances = {}\n",
    "  for vertex in graph:\n",
    "    paths_and_distances[vertex] = [inf, [start.name]]\n",
    "  \n",
    "  paths_and_distances[start][0] = 0\n",
    "  vertices_to_explore = [(0, start)]\n",
    "  while vertices_to_explore and paths_and_distances[target][0] == inf:\n",
    "    current_distance, current_vertex = heappop(vertices_to_explore)\n",
    "    for neighbor, edge_weight in graph[current_vertex]:\n",
    "      new_distance = current_distance + edge_weight + heuristic(neighbor, target)\n",
    "      new_path = paths_and_distances[current_vertex][1] + [neighbor.name]\n",
    "      \n",
    "      if new_distance < paths_and_distances[neighbor][0]:\n",
    "        paths_and_distances[neighbor][0] = new_distance\n",
    "        paths_and_distances[neighbor][1] = new_path\n",
    "        heappush(vertices_to_explore, (new_distance, neighbor))\n",
    "        count += 1\n",
    "        print(\"\\nAt \" + vertices_to_explore[0][1].name)\n",
    "        \n",
    "  print(\"Found a path from {0} to {1} in {2} steps: \".format(start.name, target.name, count), paths_and_distances[target][1])\n",
    "  \n",
    "  return paths_and_distances[target][1]\n",
    "\n",
    "# Call a_star() on euclidean_graph to find the best route\n",
    "# from jaipur to bengaluru:\n",
    "a_star(euclidean_graph, jaipur, bengaluru)"
   ]
  },
  {
   "cell_type": "markdown",
   "metadata": {},
   "source": [
    "## Visualisation of graphs - install `networkx`\n",
    "\n",
    "`pip install networkx matplotlib`  \n",
    "  `python3 -m pip install -U networkx matplotlib --user`"
   ]
  },
  {
   "cell_type": "code",
   "execution_count": null,
   "metadata": {},
   "outputs": [],
   "source": [
    "import matplotlib.pyplot as plt\n",
    "import networkx as nx\n",
    "\n",
    "# Create a graph\n",
    "G = nx.Graph()\n",
    "\n",
    "# Add weighted edges\n",
    "G.add_edge('A', 'B', weight=4)\n",
    "G.add_edge('A', 'C', weight=3)\n",
    "G.add_edge('B', 'C', weight=2)\n",
    "G.add_edge('B', 'E', weight=2)\n",
    "G.add_edge('C', 'D', weight=5)\n",
    "G.add_edge('C', 'E', weight=4)\n",
    "G.add_edge('D', 'E', weight=3)\n",
    "\n",
    "# Get positions for the nodes\n",
    "pos = nx.spring_layout(G)\n",
    "\n",
    "# Draw nodes and edges\n",
    "nx.draw(G, pos, with_labels=True, node_color='lightblue', node_size=2000, font_size=10, font_weight='bold')\n",
    "\n",
    "# Draw edge labels for weights\n",
    "edge_labels = nx.get_edge_attributes(G, 'weight')\n",
    "nx.draw_networkx_edge_labels(G, pos, edge_labels=edge_labels)\n",
    "\n",
    "plt.show()"
   ]
  },
  {
   "cell_type": "code",
   "execution_count": null,
   "metadata": {},
   "outputs": [],
   "source": []
  },
  {
   "cell_type": "markdown",
   "metadata": {
    "slideshow": {
     "slide_type": "slide"
    }
   },
   "source": [
    "## Exercise\n",
    "\n",
    "Insert a 'code' cell below. In this do the following:\n",
    "\n",
    "- 1 - First create an instance of a Graph. If you completed last week's exercises, then you could utilise this graph. \n",
    "- 2 - Test that you can run Dijkstra's algorithm on a graph. \n",
    "- 3 - Now run A* (A Star) on a graph with the <b> manhattan </b> heuristic.\n",
    "- 4 - Now run A* (A Star) on a graph with the <b> euclidean </b> heuristic."
   ]
  },
  {
   "cell_type": "markdown",
   "metadata": {},
   "source": [
    "## Scenario Exercise - Social Media Graphs\n",
    "With a web interface - apply graphs in a social networking context. connections/friends are stored in the adjacency matrix or list. \n",
    "How do you work out whether you have a mutual connection with a person's profile?"
   ]
  },
  {
   "cell_type": "code",
   "execution_count": 3,
   "metadata": {},
   "outputs": [
    {
     "data": {
      "image/png": "[encoded data removed]",
      "text/plain": [
       "<Figure size 640x480 with 1 Axes>"
      ]
     },
     "metadata": {},
     "output_type": "display_data"
    }
   ],
   "source": [
    "import networkx as nx\n",
    "import matplotlib.pyplot as plt\n",
    "import random\n",
    "\n",
    "# Create a graph\n",
    "G = nx.Graph()\n",
    "\n",
    "# Add nodes (people)\n",
    "people = [\"Alice\", \"Bob\", \"Charlie\", \"David\", \"Eve\", \"Frank\", \"Grace\", \"Hannah\", \"Ivy\", \"Jack\", \n",
    "          \"Karen\", \"Leo\", \"Mia\", \"Nathan\", \"Olivia\"]\n",
    "\n",
    "G.add_nodes_from(people)\n",
    "\n",
    "# Generate random connections (edges)\n",
    "edges = []\n",
    "for i in range(20):  # Create 20 random edges\n",
    "    person1, person2 = random.sample(people, 2)  # Pick two random people\n",
    "    edges.append((person1, person2))\n",
    "\n",
    "G.add_edges_from(edges)\n",
    "\n",
    "# Get positions for nodes\n",
    "pos = nx.spring_layout(G)\n",
    "\n",
    "# Draw the graph with labels and node features\n",
    "nx.draw(G, pos, with_labels=True, node_color='lightgreen', node_size=3000, font_size=12, font_weight='bold')\n",
    "\n",
    "# Display the graph\n",
    "plt.show()"
   ]
  }
 ],
 "metadata": {
  "celltoolbar": "Slideshow",
  "kernelspec": {
   "display_name": "Python 3.9.12 ('base')",
   "language": "python",
   "name": "python3"
  },
  "language_info": {
   "codemirror_mode": {
    "name": "ipython",
    "version": 3
   },
   "file_extension": ".py",
   "mimetype": "text/x-python",
   "name": "python",
   "nbconvert_exporter": "python",
   "pygments_lexer": "ipython3",
   "version": "3.9.6"
  },
  "vscode": {
   "interpreter": {
    "hash": "c24ecc2928a1df641fb89905a028e959d05eac4f79c1af53f0bb766b01409011"
   }
  }
 },
 "nbformat": 4,
 "nbformat_minor": 4
}
