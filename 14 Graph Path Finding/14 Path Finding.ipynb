{
 "cells": [
  {
   "attachments": {
    "pythonLogo.png": {
     "image/png": "[encoded data removed]"
    }
   },
   "cell_type": "markdown",
   "metadata": {
    "slideshow": {
     "slide_type": "slide"
    }
   },
   "source": [
    "<!--![pythonLogo.png](attachment:pythonLogo.png)-->\n",
    "# 14 Graphs II Path Finding"
   ]
  },
  {
   "cell_type": "markdown",
   "metadata": {},
   "source": [
    "## Plan for the Lecture \n",
    "\n",
    "* Recap on Graph Theory \n",
    "\n",
    "* Dijkstra's algorithm\n",
    "\n",
    "* A* algorithm\n",
    "\n",
    "* Network Flow"
   ]
  },
  {
   "cell_type": "markdown",
   "metadata": {},
   "source": [
    "## Reminder on Graphs\n",
    "\n",
    "* The basis of a Graph class in Python is the implementation of two classes, Graph and Vertex, which establish the essential functionality to create a variety of graphs.\n",
    "\n",
    "* The Vertex class allows for storage of connecting vertices with a dictionary and adjustment of their edges as well.\n",
    "\n",
    "* The Graph class builds upon the Vertex methods and allows addition of vertices and edges, setting the directionality of edges, and determining if a path exists between two vertices.\n",
    "\n",
    "<img src=\"https://miro.medium.com/max/1208/1*SSSa5VrhhjNrXDdWTBGXlA.gif\" alt=\"graph_path\" width=\"450\">  \n"
   ]
  },
  {
   "cell_type": "code",
   "execution_count": 1,
   "metadata": {},
   "outputs": [],
   "source": [
    "class Vertex: \n",
    "    \"\"\"Key methods of Vertex class\"\"\"\n",
    "    def __init__(self, value):\n",
    "        ...\n",
    "    def add_edge(self, vertex, weight = 0):\n",
    "        ...\n",
    "    def get_edges(self):\n",
    "        ..."
   ]
  },
  {
   "cell_type": "code",
   "execution_count": 2,
   "metadata": {},
   "outputs": [],
   "source": [
    "class Graph: \n",
    "    \"\"\"Key methods of Graph class\"\"\"\n",
    "    def __init__(self, directed = False):\n",
    "        ...\n",
    "    def add_vertex(self, vertex):\n",
    "        ...\n",
    "    def add_edge(self, from_vertex, to_vertex, weight = 0):\n",
    "        ...\n",
    "    def find_path(self, start_vertex, end_vertex):\n",
    "        ..."
   ]
  },
  {
   "cell_type": "code",
   "execution_count": 12,
   "metadata": {},
   "outputs": [
    {
     "name": "stdout",
     "output_type": "stream",
     "text": [
      "['lava', 'sharks', 'lasers']\n",
      "['lava', 'piranhas', 'crocodiles', 'lasers']\n"
     ]
    }
   ],
   "source": [
    "def bfs(graph, start_vertex, target_value):\n",
    "  path = [start_vertex]\n",
    "  vertex_and_path = [start_vertex, path]\n",
    "  bfs_queue = [vertex_and_path]\n",
    "  visited = set()\n",
    "  while bfs_queue:\n",
    "    current_vertex, path = bfs_queue.pop(0)\n",
    "    visited.add(current_vertex)\n",
    "    for neighbor in graph[current_vertex]:\n",
    "      if neighbor not in visited:\n",
    "        if neighbor is target_value:\n",
    "          return path + [neighbor]\n",
    "        else:\n",
    "          bfs_queue.append([neighbor, path + [neighbor]])\n",
    "\n",
    "def dfs(graph, current_vertex, target_value, visited = None):\n",
    "  if visited is None:\n",
    "    visited = []\n",
    "  visited.append(current_vertex)\n",
    "  if current_vertex is target_value:\n",
    "    return visited\n",
    "  \n",
    "  for neighbor in graph[current_vertex]:\n",
    "    if neighbor not in visited:\n",
    "      path = dfs(graph, neighbor, target_value, visited)\n",
    "      if path:\n",
    "        return path\n",
    "\n",
    "some_important_graph = {\n",
    "    'lava': set(['sharks', 'piranhas']),\n",
    "    'sharks': set(['lava', 'bees', 'lasers']),\n",
    "    'piranhas': set(['lava', 'crocodiles']),\n",
    "    'bees': set(['sharks']),\n",
    "    'lasers': set(['sharks', 'crocodiles']),\n",
    "    'crocodiles': set(['piranhas', 'lasers'])\n",
    "  }\n",
    "\n",
    "print(bfs(some_important_graph, 'lava', 'lasers'))\n",
    "print(dfs(some_important_graph, 'lava', 'lasers'))"
   ]
  },
  {
   "cell_type": "markdown",
   "metadata": {},
   "source": [
    "# Dijsktra's Algorithm\n",
    "\n",
    "The algorithm was invented by Edsgar W. Dijkstra (1930-2002) in 1956. \n",
    "\n",
    "![Edsgar](http://www.computinghistory.org.uk/userdata/images/large/34/84/product-73484.jpg)\n",
    "\n",
    "* Dijkstra's algorithm is known as a 'single source shortest path' (SSSP) algroithm - finding the shortest path from one vertex (single source) to all the other vertices in the graph. \n",
    "\n",
    "* Provide a start node and the algorithm will calculate distances from this start node to all other nodes: \n",
    "\n",
    "```\n",
    "start_node = 'A'\n",
    "returned dictionary: {'A' : 0, 'B' : 5, 'C' : 7, 'D' : 15}\n",
    "```\n",
    "\n",
    "* Other algorithms such as Floyd-Warshall can find 'all-pairs shortest paths' - but has a complexity of $O(V^3)$ - we'll explore this in our Dynamic Programming lectures.\n",
    "\n",
    "* It works with assigning labels to each vertex in the graph, as they are visited. \n",
    "\n",
    "* The label contains the sum of the weighting to travel to that vertex. At the end, the shortest path is revealed by the smallest label.\n",
    "\n",
    "* Dijkstra's algorithm can handle cycles in a Graph, but not negative edge weights. The algorithm only works with non-negative edge weights. \n",
    "\n",
    "* If you have negative edge weights - look at the Bellman Ford algorithm. \n",
    "\n"
   ]
  },
  {
   "cell_type": "markdown",
   "metadata": {},
   "source": [
    "<!--![dijalgo1](https://upload.wikimedia.org/wikipedia/commons/5/57/Dijkstra_Animation.gif) -->\n",
    "\n",
    "![dijalgo2](https://2497063786-files.gitbook.io/~/files/v0/b/gitbook-legacy-files/o/assets%2F-LdGcqx-Ay6h4-DM_J08%2F-LdQqBd3uKWBVNik1EzU%2F-LdQqDsb98yf6tUa_Yif%2Fdijkstra.gif?alt=media&token=a2c261f8-3e0a-46ab-a6cc-abe9f6b2b934)"
   ]
  },
  {
   "cell_type": "markdown",
   "metadata": {},
   "source": [
    "* Imagine <b>BFS</b> as a ripple spreading uniformly through a graph. \n",
    "\n",
    "* Dijkstra uses the same ripple but <b>prioritizes</b> areas with lower edge weights, ensuring it reaches the destination along the shortest path => a <b>priority queue</b>\n",
    "\n",
    "* Remember BFS from previous sessions?\n",
    "\n",
    "<img src=\"Breadth-First-Tree-Traversal.gif\" alt=\"DFS_paths\" width=\"850\">  "
   ]
  },
  {
   "cell_type": "code",
   "execution_count": 1,
   "metadata": {},
   "outputs": [
    {
     "name": "stdout",
     "output_type": "stream",
     "text": [
      "\n",
      "\n",
      "Vertex A connects to: \n",
      "vertex B with a weight of 10\n",
      "vertex C with a weight of 3\n",
      "\n",
      "\n",
      "Vertex B connects to: \n",
      "vertex C with a weight of 3\n",
      "vertex D with a weight of 2\n",
      "\n",
      "\n",
      "Vertex C connects to: \n",
      "vertex D with a weight of 2\n",
      "\n",
      "\n",
      "Vertex D connects to: \n",
      "vertex E with a weight of 10\n",
      "\n",
      "\n",
      "Vertex E connects to: \n",
      "vertex B with a weight of 15\n"
     ]
    }
   ],
   "source": [
    "graph = {\n",
    "  'A': [('B', 10), ('C', 3)],\n",
    "  'B': [('C', 3), ('D', 2)],\n",
    "  'C': [('D', 2)],\n",
    "  'D': [('E', 10)],\n",
    "  'E': [('B', 15)],\n",
    "}\n",
    "\n",
    "\n",
    "for vertex in graph:\n",
    "  print(\"\\n\\nVertex {0} connects to: \".format(vertex))\n",
    "  for edge in graph[vertex]:\n",
    "    print(\"vertex {0} with a weight of {1}\".format(edge[0], edge[1]))"
   ]
  },
  {
   "cell_type": "markdown",
   "metadata": {},
   "source": [
    "# Implementation\n",
    "\n"
   ]
  },
  {
   "cell_type": "markdown",
   "metadata": {},
   "source": [
    "```\n",
    "wrap start and goal in Nodes\n",
    "insert start node into open list \n",
    "Loop while open not empty\n",
    "    set current to lowest node in open\n",
    "    remove current from open\n",
    "    store current’s adjacent vertices in adjacent linked list\n",
    "    loop while adjacent not empty\n",
    "        set adj to lowest weighted in adjacent list\n",
    "        wrap adj in Node\n",
    "        set distance to current’s g value + DistanceBetween current and adj \n",
    "        if adj node’s g is zero or distance < adj node’s g\n",
    "            set adj node’s g to distance\n",
    "            set adj node’s parent to current end if\n",
    "        if adj is goal\n",
    "            return ReconstructPlan(adj’s node)\n",
    "        end if\n",
    "        insert adj’s node into open\n",
    "        delete adj from adjacent list\n",
    "    end loop \n",
    "end loop\n",
    "return 0\n",
    "```"
   ]
  },
  {
   "cell_type": "code",
   "execution_count": 2,
   "metadata": {},
   "outputs": [],
   "source": [
    "def bfs(graph, start_vertex, target_value):\n",
    "  path = [start_vertex]\n",
    "  vertex_and_path = [start_vertex, path]\n",
    "  bfs_queue = [vertex_and_path]\n",
    "  visited = set()\n",
    "  while bfs_queue:\n",
    "    current_vertex, path = bfs_queue.pop(0)\n",
    "    visited.add(current_vertex)\n",
    "    for neighbor in graph[current_vertex]:\n",
    "      if neighbor not in visited:\n",
    "        if neighbor is target_value:\n",
    "          return path + [neighbor]\n",
    "        else:\n",
    "          bfs_queue.append([neighbor, path + [neighbor]])"
   ]
  },
  {
   "cell_type": "code",
   "execution_count": 13,
   "metadata": {},
   "outputs": [],
   "source": [
    "import heapq\n",
    "def dijkstra(self, start):\n",
    "    # Initialize distances and priority queue\n",
    "    distances = {i: float('inf') for i in range(self.vertices)}\n",
    "    distances[start] = 0\n",
    "    priority_queue = [(0, start)]  # (distance, vertex)\n",
    "    visited = set()\n",
    "    \n",
    "    while priority_queue:\n",
    "        current_distance, current_vertex = heapq.heappop(priority_queue)\n",
    "        \n",
    "        if current_vertex in visited:\n",
    "            continue\n",
    "        visited.add(current_vertex)\n",
    "        \n",
    "        # Explore neighbors\n",
    "        for neighbor, weight in self.adj_list[current_vertex]:\n",
    "            distance = current_distance + weight\n",
    "            \n",
    "            # If a shorter path is found\n",
    "            if distance < distances[neighbor]:\n",
    "                distances[neighbor] = distance\n",
    "                heapq.heappush(priority_queue, (distance, neighbor))\n",
    "    \n",
    "    return distances"
   ]
  },
  {
   "cell_type": "markdown",
   "metadata": {},
   "source": [
    "Here's some pseudocode:"
   ]
  },
  {
   "cell_type": "code",
   "execution_count": null,
   "metadata": {},
   "outputs": [],
   "source": [
    "function Dijkstra(Graph, source):\n",
    "    dist[source]  := 0                     # Distance from source to source is set to 0\n",
    "    for each vertex v in Graph:            # Initializations\n",
    "        if v ≠ source\n",
    "            dist[v]  := infinity           # Unknown distance function from source to each node set to infinity\n",
    "        add v to Q                         # All nodes initially in Q\n",
    "\n",
    "    while Q is not empty:                  # The main loop\n",
    "        v := vertex in Q with min dist[v]  # In the first run-through, this vertex is the source node\n",
    "        remove v from Q \n",
    "\n",
    "        for each neighbor u of v:           # where neighbor u has not yet been removed from Q.\n",
    "            alt := dist[v] + length(v, u)\n",
    "            if alt < dist[u]:               # A shorter path to u has been found\n",
    "                dist[u]  := alt            # Update distance of u \n",
    "\n",
    "    return dist[]\n",
    "end function"
   ]
  },
  {
   "cell_type": "markdown",
   "metadata": {},
   "source": [
    "## Priority Queues via the `heapq` library\n",
    "\n",
    "* Remember that we can use `heapq` for priority queues? \n",
    "\n",
    "* Remember we had min-heaps and max-heaps? \n",
    "\n",
    "* Here we are moving the lowest value to the top of the binary tree (priority queue).\n",
    "\n",
    "![heapq](https://i.imgur.com/nJOypZz.gif)"
   ]
  },
  {
   "cell_type": "code",
   "execution_count": 14,
   "metadata": {},
   "outputs": [
    {
     "name": "stdout",
     "output_type": "stream",
     "text": [
      "The smallest values in the heap in ascending order are:\n",
      "\n",
      "(-5, 'D')\n",
      "(0, 'A')\n",
      "(1, 'B')\n",
      "(2, 'C')\n",
      "(4, 'E')\n"
     ]
    }
   ],
   "source": [
    "#Write Import Statement here\n",
    "import heapq\n",
    "\n",
    "heap = [(0, 'A')]\n",
    "heapq.heappush(heap, (1, 'B'))\n",
    "heapq.heappush(heap, (-5, 'D'))\n",
    "heapq.heappush(heap, (4, 'E'))\n",
    "heapq.heappush(heap, (2, 'C'))\n",
    "\n",
    "print(\"The smallest values in the heap in ascending order are:\\n\")\n",
    "while heap:\n",
    "  print(heapq.heappop(heap))"
   ]
  },
  {
   "cell_type": "markdown",
   "metadata": {},
   "source": [
    "# Dijkstra's Algorithm\n",
    "\n"
   ]
  },
  {
   "cell_type": "code",
   "execution_count": 15,
   "metadata": {},
   "outputs": [],
   "source": [
    "graph = {\n",
    "        'A': [('B', 10), ('C', 3)],\n",
    "        'B': [('C', 3), ('D', 2)],\n",
    "        'C': [('D', 2)],\n",
    "        'D': [('E', 10)],\n",
    "        'E': [],\n",
    "    }"
   ]
  },
  {
   "cell_type": "code",
   "execution_count": 14,
   "metadata": {},
   "outputs": [
    {
     "data": {
      "text/plain": [
       "inf"
      ]
     },
     "execution_count": 14,
     "metadata": {},
     "output_type": "execute_result"
    }
   ],
   "source": [
    "from math import inf\n",
    "inf"
   ]
  },
  {
   "cell_type": "code",
   "execution_count": 16,
   "metadata": {},
   "outputs": [
    {
     "name": "stdout",
     "output_type": "stream",
     "text": [
      "\n",
      "\n",
      "Shortest Distances: {'A': 0, 'B': 10, 'C': 3, 'D': 5, 'E': 15}\n"
     ]
    }
   ],
   "source": [
    "from heapq import heappop, heappush\n",
    "from math import inf\n",
    "\n",
    "def dijkstras(graph, start):\n",
    "  distances = {}\n",
    "  for vertex in graph:\n",
    "    distances[vertex] = inf\n",
    "  distances[start] = 0\n",
    "  vertices_to_explore = [(0, start)]\n",
    "  \n",
    "  while vertices_to_explore:\n",
    "    current_distance, current_vertex = heappop(vertices_to_explore)\n",
    "\n",
    "    for neighbor, edge_weight in graph[current_vertex]:\n",
    "      new_distance = current_distance + edge_weight\n",
    "      if new_distance < distances[neighbor]:\n",
    "        distances[neighbor] = new_distance\n",
    "        heappush(vertices_to_explore, (new_distance, neighbor))\n",
    "        \n",
    "  return distances\n",
    "        \n",
    "distances_from_a = dijkstras(graph, 'A')\n",
    "print(\"\\n\\nShortest Distances: {0}\".format(distances_from_a))\n"
   ]
  },
  {
   "cell_type": "markdown",
   "metadata": {},
   "source": [
    "So, above we see the shortest distances from all nodes in the graph from `A`:\n",
    "\n",
    "Let's now see the shortest distances from all nodes in the graph from `D`: "
   ]
  },
  {
   "cell_type": "code",
   "execution_count": 17,
   "metadata": {},
   "outputs": [
    {
     "name": "stdout",
     "output_type": "stream",
     "text": [
      "\n",
      "\n",
      "Shortest Distances: {'A': inf, 'B': 0, 'C': 3, 'D': 2, 'E': 12}\n"
     ]
    }
   ],
   "source": [
    "distances_from_b = dijkstras(graph, 'B')\n",
    "print(\"\\n\\nShortest Distances: {0}\".format(distances_from_b))"
   ]
  },
  {
   "cell_type": "code",
   "execution_count": 19,
   "metadata": {},
   "outputs": [
    {
     "name": "stdout",
     "output_type": "stream",
     "text": [
      "\n",
      "\n",
      "Shortest Distances: {'A': inf, 'B': inf, 'C': inf, 'D': 0, 'E': 10}\n"
     ]
    }
   ],
   "source": [
    "distances_from_d = dijkstras(graph, 'D')\n",
    "print(\"\\n\\nShortest Distances: {0}\".format(distances_from_d))"
   ]
  },
  {
   "cell_type": "markdown",
   "metadata": {},
   "source": [
    "Shortest path from A -> D = `inf` (according to Dijsktra's algorithm)"
   ]
  },
  {
   "cell_type": "code",
   "execution_count": 20,
   "metadata": {},
   "outputs": [
    {
     "data": {
      "text/plain": [
       "inf"
      ]
     },
     "execution_count": 20,
     "metadata": {},
     "output_type": "execute_result"
    }
   ],
   "source": [
    "distances_from_d['A']"
   ]
  },
  {
   "cell_type": "markdown",
   "metadata": {},
   "source": [
    "Shortest path from D -> E = `10` (according to Dijsktra's algorithm)"
   ]
  },
  {
   "cell_type": "code",
   "execution_count": 21,
   "metadata": {},
   "outputs": [
    {
     "data": {
      "text/plain": [
       "10"
      ]
     },
     "execution_count": 21,
     "metadata": {},
     "output_type": "execute_result"
    }
   ],
   "source": [
    "distances_from_d['E']"
   ]
  },
  {
   "cell_type": "markdown",
   "metadata": {},
   "source": [
    "# A star \n",
    "\n",
    "* This algorithm was first published in 1968 by colleagues at the Stanford Research Institute.\n",
    "\n",
    "* It can be seen as an extension of Dijkstra's algorithm. A* achieves better performance by using heuristics to guide its search.\n",
    "\n",
    "* Compared to Dijkstra's algorithm, the A* algorithm only finds the shortest path from a specified source to a specified goal, and not the shortest-path tree from a specified source to all possible goals. This is a necessary trade-off for using a specific-goal-directed heuristic. \n",
    "\n",
    "* For Dijkstra's algorithm, since the entire shortest-path tree is generated, every node is a goal, and there can be no specific-goal-directed heuristic.\n",
    "\n",
    "![astar](https://user-images.githubusercontent.com/31979840/47058074-659c3800-d191-11e8-9300-a50b43845a82.gif)"
   ]
  },
  {
   "cell_type": "markdown",
   "metadata": {},
   "source": [
    "```\n",
    "wrap start and goal in Nodes \n",
    "insert start node into open list \n",
    "Loop while open not empty\n",
    "    set current to lowest node in open \n",
    "    remove current from open\n",
    "    store current’s adjacent vertices in adjacent priority list \n",
    "    loop while adjacent not empty\n",
    "        set adj to the remove vertex in adjacent priority list wrap adj in Node\n",
    "        set adjNode’s parent to current\n",
    "        if adjNode is goal\n",
    "            return ReconstructPlan(adj’s node)\n",
    "        end if\n",
    "        adjNode’s g = current’s g + DistanceBwteenvertices current and adj \n",
    "        adjNode’s h = GetHeuristic between adj and goal\n",
    "        adjNode’s f = g + h\n",
    "        set foundInOpen = find adj’s node in open list\n",
    "        if foundInOpen <> 0 and foundInOpen’s f < adj Node’s f\n",
    "            skip to next adjacent iteration\n",
    "        end if\n",
    "        set foundInClosed = find adj’s node in closed list\n",
    "        if foundInClose <> 0 and foundInClosed’s f < adj Node’s f\n",
    "            skip to next adjacent iteration\n",
    "        end if\n",
    "        insert adj node into open \n",
    "    end loop\n",
    "    insert current into closed\n",
    "end loop\n",
    "return 0\n",
    "\n",
    "```"
   ]
  },
  {
   "cell_type": "markdown",
   "metadata": {},
   "source": [
    "# Add Heuristic\n",
    "So far, what you’ve created is a modified Dijkstra’s algorithm that has a target and returns the path to that target.\n",
    "\n",
    "To make this algorithm truly a star A*, you’ll need to add a heuristic that estimates the distance from a given vertex to the target.\n",
    "\n",
    "By doing this, the algorithm is able to efficiently and accurately predict whether or not it is heading in the best possible direction."
   ]
  },
  {
   "cell_type": "markdown",
   "metadata": {},
   "source": [
    "# Euclidean Heuristic\n",
    "\n",
    "Not all vertices are on a grid and sometimes the shortest distance is closer to a direct diagonal line between two points. For these situations, a Manhattan heuristic would overestimate the total distance, making it inadmissible; the Euclidean heuristic would be a better fit.\n",
    "\n",
    "The Euclidean heuristic works off of the Pythagorean theorem: \n",
    "​\t \n",
    "When you think about it, what we are finding is essentially a hypotenuse of a right triangle; the other two sides would be the x-distance and the y-distance.\n",
    "\n",
    "![euclidean_vs_manhattan](https://d1m75rqqgidzqn.cloudfront.net/wp-data/2020/07/01130416/june-30-hierarchical-clustering-infograph-for-blog-4.png)\n"
   ]
  },
  {
   "cell_type": "code",
   "execution_count": 22,
   "metadata": {},
   "outputs": [],
   "source": [
    "class graph_vertex:\n",
    "  def __init__(self, name, x, y):\n",
    "    self.name = name\n",
    "    self.position = (x, y)\n",
    "\n",
    "delhi = graph_vertex(\"New Delhi\", 28.6448, 77.216721)\n",
    "jaipur = graph_vertex(\"Jaipur\", 26.92207, 75.778885)\n",
    "varanasi = graph_vertex(\"Varanasi\", 25.321684, 82.987289)\n",
    "mumbai = graph_vertex(\"Mumbai\", 19.07283, 72.88261)\n",
    "chennai = graph_vertex(\"Chennai\", 13.067439, 80.237617)\n",
    "hyderabad = graph_vertex(\"Hyderabad\", 17.387140, 78.491684)\n",
    "kolkata = graph_vertex(\"Kolkata\", 22.572645, 88.363892)\n",
    "bengaluru = graph_vertex(\"Bengaluru\", 12.972442, 77.580643)\n",
    "\n",
    "euclidean_graph = {\n",
    "  delhi: set([(jaipur, 2.243918), (varanasi, 6.65902), (mumbai, 10.507479), (chennai, 15.867576), (hyderabad, 11.329626), (kolkata, 12.693718), (bengaluru, 15.676582)]),\n",
    "  jaipur: set([(mumbai, 8.366539), (delhi, 2.243918)]),\n",
    "  varanasi: set([(delhi, 6.65902), (mumbai, 11.88077)]),\n",
    "  mumbai: set([(delhi, 10.507479), (jaipur, 8.366539), (varanasi, 11.88077), (hyderabad, 5.856898), (kolkata, 15.87195), (bengaluru, 7.699756)]),\n",
    "  chennai: set([(delhi, 15.867576), (kolkata, 12.50541), (hyderabad, 4.659195), (bengaluru, 2.658671)]),\n",
    "  hyderabad: set([(delhi, 11.329626), (mumbai, 5.856898), (chennai, 4.659195), (bengaluru, 4.507721), (kolkata, 11.151231)]),\n",
    "  kolkata: set([(delhi, 12.693718), (mumbai, 15.87195), (chennai, 12.50541), (hyderabad, 11.151231), (bengaluru, 14.437532)]),\n",
    "  bengaluru: set([(delhi, 15.676582), (mumbai, 7.699756), (chennai, 2.658671), (hyderabad, 4.507721), (kolkata, 14.437532)])\n",
    "}"
   ]
  },
  {
   "cell_type": "code",
   "execution_count": 23,
   "metadata": {},
   "outputs": [
    {
     "name": "stdout",
     "output_type": "stream",
     "text": [
      "Starting A* algorithm!\n",
      "\n",
      "At New Delhi\n",
      "\n",
      "At Mumbai\n",
      "\n",
      "At New Delhi\n",
      "\n",
      "At New Delhi\n",
      "\n",
      "At New Delhi\n",
      "\n",
      "At New Delhi\n",
      "Found a path from Jaipur to Bengaluru in 6 steps:  ['Jaipur', 'Mumbai', 'Bengaluru']\n"
     ]
    },
    {
     "data": {
      "text/plain": [
       "['Jaipur', 'Mumbai', 'Bengaluru']"
      ]
     },
     "execution_count": 23,
     "metadata": {},
     "output_type": "execute_result"
    }
   ],
   "source": [
    "from math import inf, sqrt\n",
    "from heapq import heappop, heappush\n",
    "#from euclidean_graph import euclidean_graph, bengaluru, jaipur\n",
    "\n",
    "# Euclidean Heuristic\n",
    "def heuristic(start, target):\n",
    "  x_distance = abs(start.position[0] - target.position[0])\n",
    "  y_distance = abs(start.position[1] - target.position[1])\n",
    "  return sqrt(x_distance * x_distance + y_distance * y_distance)\n",
    "\n",
    "def a_star(graph, start, target):\n",
    "  print(\"Starting A* algorithm!\")\n",
    "  count = 0\n",
    "  paths_and_distances = {}\n",
    "  for vertex in graph:\n",
    "    paths_and_distances[vertex] = [inf, [start.name]]\n",
    "  \n",
    "  paths_and_distances[start][0] = 0\n",
    "  vertices_to_explore = [(0, start)]\n",
    "  while vertices_to_explore and paths_and_distances[target][0] == inf:\n",
    "    current_distance, current_vertex = heappop(vertices_to_explore)\n",
    "    for neighbor, edge_weight in graph[current_vertex]:\n",
    "      new_distance = current_distance + edge_weight + heuristic(neighbor, target)\n",
    "      new_path = paths_and_distances[current_vertex][1] + [neighbor.name]\n",
    "      \n",
    "      if new_distance < paths_and_distances[neighbor][0]:\n",
    "        paths_and_distances[neighbor][0] = new_distance\n",
    "        paths_and_distances[neighbor][1] = new_path\n",
    "        heappush(vertices_to_explore, (new_distance, neighbor))\n",
    "        count += 1\n",
    "        print(\"\\nAt \" + vertices_to_explore[0][1].name)\n",
    "        \n",
    "  print(\"Found a path from {0} to {1} in {2} steps: \".format(start.name, target.name, count), paths_and_distances[target][1])\n",
    "  \n",
    "  return paths_and_distances[target][1]\n",
    "\n",
    "# Call a_star() on euclidean_graph to find the best route\n",
    "# from jaipur to bengaluru:\n",
    "a_star(euclidean_graph, jaipur, bengaluru)"
   ]
  },
  {
   "cell_type": "markdown",
   "metadata": {},
   "source": [
    "## Let's start with the Euclidean heuristic\n",
    "\n"
   ]
  },
  {
   "cell_type": "code",
   "execution_count": 24,
   "metadata": {},
   "outputs": [],
   "source": [
    "from math import inf\n",
    "from heapq import heappop, heappush\n",
    "\n",
    "def a_star(graph, start, target):\n",
    "    # Initialize distances and paths\n",
    "    paths_and_distances = {}\n",
    "    for vertex in graph:\n",
    "        paths_and_distances[vertex] = [inf, []]  # [distance, path]\n",
    "    \n",
    "    # Set start distance to 0 and initialize the priority queue\n",
    "    paths_and_distances[start] = [0, [start]]\n",
    "    vertices_to_explore = [(0, start)]  # (distance, vertex)\n",
    "    \n",
    "    while vertices_to_explore:\n",
    "        current_distance, current_vertex = heappop(vertices_to_explore)\n",
    "        \n",
    "        # If we've reached the target, we can return the path and distance\n",
    "        if current_vertex == target:\n",
    "            return paths_and_distances[target]\n",
    "        \n",
    "        # Explore neighbors\n",
    "        for neighbor, edge_weight in graph[current_vertex]:\n",
    "            new_distance = current_distance + edge_weight\n",
    "            \n",
    "            # If this path is better, update it\n",
    "            if new_distance < paths_and_distances[neighbor][0]:\n",
    "                paths_and_distances[neighbor][0] = new_distance\n",
    "                paths_and_distances[neighbor][1] = paths_and_distances[current_vertex][1] + [neighbor]\n",
    "                heappush(vertices_to_explore, (new_distance, neighbor))\n",
    "    \n",
    "    # If the target is not reachable, return inf and an empty path\n",
    "    return [inf, []]"
   ]
  },
  {
   "cell_type": "code",
   "execution_count": 25,
   "metadata": {},
   "outputs": [
    {
     "data": {
      "text/plain": [
       "[6.65902,\n",
       " [<__main__.graph_vertex at 0x103525220>,\n",
       "  <__main__.graph_vertex at 0x103525250>]]"
      ]
     },
     "execution_count": 25,
     "metadata": {},
     "output_type": "execute_result"
    }
   ],
   "source": [
    "class graph_vertex:\n",
    "  def __init__(self, name, x, y):\n",
    "    self.name = name\n",
    "    self.position = (x, y)\n",
    "\n",
    "delhi = graph_vertex(\"New Delhi\", 28.6448, 77.216721)\n",
    "jaipur = graph_vertex(\"Jaipur\", 26.92207, 75.778885)\n",
    "varanasi = graph_vertex(\"Varanasi\", 25.321684, 82.987289)\n",
    "mumbai = graph_vertex(\"Mumbai\", 19.07283, 72.88261)\n",
    "chennai = graph_vertex(\"Chennai\", 13.067439, 80.237617)\n",
    "hyderabad = graph_vertex(\"Hyderabad\", 17.387140, 78.491684)\n",
    "kolkata = graph_vertex(\"Kolkata\", 22.572645, 88.363892)\n",
    "bengaluru = graph_vertex(\"Bengaluru\", 12.972442, 77.580643)\n",
    "\n",
    "cities_graph = {\n",
    "  delhi: set([(jaipur, 2.243918), (varanasi, 6.65902), (mumbai, 10.507479), (chennai, 15.867576), (hyderabad, 11.329626), (kolkata, 12.693718), (bengaluru, 15.676582)]),\n",
    "  jaipur: set([(mumbai, 8.366539), (delhi, 2.243918)]),\n",
    "  varanasi: set([(delhi, 6.65902), (mumbai, 11.88077)]),\n",
    "  mumbai: set([(delhi, 10.507479), (jaipur, 8.366539), (varanasi, 11.88077), (hyderabad, 5.856898), (kolkata, 15.87195), (bengaluru, 7.699756)]),\n",
    "  chennai: set([(delhi, 15.867576), (kolkata, 12.50541), (hyderabad, 4.659195), (bengaluru, 2.658671)]),\n",
    "  hyderabad: set([(delhi, 11.329626), (mumbai, 5.856898), (chennai, 4.659195), (bengaluru, 4.507721), (kolkata, 11.151231)]),\n",
    "  kolkata: set([(delhi, 12.693718), (mumbai, 15.87195), (chennai, 12.50541), (hyderabad, 11.151231), (bengaluru, 14.437532)]),\n",
    "  bengaluru: set([(delhi, 15.676582), (mumbai, 7.699756), (chennai, 2.658671), (hyderabad, 4.507721), (kolkata, 14.437532)])\n",
    "}\n",
    "\n",
    "a_star(cities_graph, delhi, varanasi)\n"
   ]
  },
  {
   "cell_type": "markdown",
   "metadata": {},
   "source": [
    "# Manhattan Heuristic\n",
    "\n",
    "There are several kinds of heuristics out there that you can use to estimate distance, but we’ll start with the Manhattan heuristic. This heuristic is only considered admissible — meaning that it never overestimates the distance in reaching the target — in a grid system in which the search can only move up, down, left, or right.\n",
    "\n",
    "To get the heuristic estimate, we need to:\n",
    "\n",
    "- Measure the distance between the two vertices’ x positional values and between their y positional values.\n",
    "- Return the sum of the x distance and y distance together.\n",
    "\n",
    "![manhattan](https://www.101computing.net/wp/wp-content/uploads/taxicab-manhattan-grid-layout-paths.gif) "
   ]
  },
  {
   "cell_type": "markdown",
   "metadata": {},
   "source": [
    "Quick note on `__lt__` :\n",
    "\n",
    "* `__lt__` refers to <b>l</b>ess <b>t</b>han\n",
    "\n",
    "* Here we are overloading the operator `<` so it can work with objects (rather than integers) "
   ]
  },
  {
   "cell_type": "code",
   "execution_count": 29,
   "metadata": {},
   "outputs": [],
   "source": [
    "class graph_vertex:\n",
    "  def __init__(self, name, x, y):\n",
    "    self.name = name\n",
    "    self.position = (x, y)\n",
    "  \n",
    "  def __lt__(self, other):\n",
    "    return self.name < other.name"
   ]
  },
  {
   "cell_type": "markdown",
   "metadata": {},
   "source": [
    "Here's our graph!"
   ]
  },
  {
   "cell_type": "code",
   "execution_count": 30,
   "metadata": {},
   "outputs": [],
   "source": [
    "thirty_third_and_madison = graph_vertex(\"33rd Street and Madison Avenue\", 33, 4)\n",
    "thirty_third_and_fifth = graph_vertex(\"33rd Street and 5th Avenue\", 33, 5)\n",
    "manhattan_mall = graph_vertex(\"Manhattan Mall\", 33, 6)\n",
    "penn_station = graph_vertex('Penn Station', 33, 7)\n",
    "thirty_fourth_and_madison = graph_vertex(\"34th Street and Madison Avenue\", 34, 4)\n",
    "empire_state_building = graph_vertex('Empire State Building', 34, 5)\n",
    "herald_square = graph_vertex('Herald Square', 34, 6)\n",
    "thirty_fourth_and_seventh = graph_vertex(\"34th Street and 7th Avenue\", 34, 7)\n",
    "thirty_fifth_and_madison = graph_vertex(\"35th Street and Madison Avenue\", 35, 4)\n",
    "cuny_grad_center = graph_vertex(\"CUNY Graduate Center\", 35, 5)\n",
    "thirty_fifth_and_sixth = graph_vertex(\"35th Street and 6th Avenue\", 35, 6)\n",
    "macys = graph_vertex(\"Macy's\", 35, 7)\n",
    "thirty_sixth_and_madison = graph_vertex(\"36th Street and Madison Avenue\", 36, 4)\n",
    "thirty_sixth_and_fifth = graph_vertex(\"36th Street and 5th Avenue\", 36, 5)\n",
    "thirty_sixth_and_sixth = graph_vertex(\"36th Street and 6th Avenue\", 36, 6)\n",
    "thirty_sixth_and_seventh = graph_vertex(\"36th Street and 7th Avenue\", 36, 7)\n",
    "morgan_library = graph_vertex(\"Morgan Library and Museum\", 37, 4)\n",
    "thirty_seventh_and_fifth = graph_vertex(\"37th Street and 5th Avenue\", 37, 5)\n",
    "thirty_seventh_and_sixth = graph_vertex(\"37th Street and 6th Avenue\", 37, 6)\n",
    "thirty_seventh_and_seventh = graph_vertex(\"37th Street and 7th Avenue\", 37, 7)\n",
    "thirty_eighth_and_madison = graph_vertex(\"38th Street and Madison Avenue\", 38, 4)\n",
    "thirty_eighth_and_fifth = graph_vertex(\"38th Street and Fifth Avenue\", 38, 5)\n",
    "thirty_eighth_and_sixth = graph_vertex(\"38th Street and Sixth Avenue\", 38, 6)\n",
    "thirty_eighth_and_seventh = graph_vertex(\"38th Street and Seventh Avenue\", 38, 7)\n",
    "mexican_consulate = graph_vertex(\"Mexican Consulate General\", 39, 4)\n",
    "thirty_ninth_and_fifth = graph_vertex(\"39th Street and Fifth Avenue\", 39, 5)\n",
    "thirty_ninth_and_sixth = graph_vertex(\"39th Street and Sixth Avenue\", 39, 6)\n",
    "thirty_ninth_and_seventh = graph_vertex(\"39th Street and Seventh Avenue\", 39, 7)\n",
    "fortieth_and_madison = graph_vertex(\"40th Street and Madison Avenue\", 40, 4)\n",
    "fortieth_and_fifth = graph_vertex(\"40th Street and Fifth Avenue\", 40, 5)\n",
    "bryant_park_south = graph_vertex(\"Bryant Park South\", 40, 6)\n",
    "times_square_south = graph_vertex(\"Times Square - South\", 40, 7)\n",
    "forty_first_and_madison = graph_vertex(\"41st Street and Madison Avenue\", 41, 4)\n",
    "mid_manhattan_library = graph_vertex(\"Mid-Manhattan Library\", 41, 5)\n",
    "kinokuniya = graph_vertex(\"Kinokuniya\", 41, 6)\n",
    "times_square = graph_vertex(\"Times Square\", 41, 7)\n",
    "grand_central_station = graph_vertex(\"Grand Central Station\", 42, 4)\n",
    "library = graph_vertex(\"New York Public Library\", 42, 5)\n",
    "bryant_park_north = graph_vertex(\"Bryant Park North\", 42, 6)\n",
    "times_square_north = graph_vertex(\"Times Square - North\", 42, 7)\n",
    "\n",
    "manhattan_graph = {\n",
    "  thirty_third_and_madison: set([(thirty_fourth_and_madison, 1), (thirty_third_and_fifth, 3)]),\n",
    "  thirty_third_and_fifth: set([(thirty_third_and_madison, 3), (manhattan_mall, 3), (empire_state_building, 1)]),\n",
    "  manhattan_mall: set([(thirty_third_and_fifth, 3), (penn_station, 3), (herald_square, 1)]),\n",
    "  penn_station: set([(manhattan_mall, 3), (thirty_fourth_and_seventh, 1)]),\n",
    "  thirty_fourth_and_madison: set([(thirty_third_and_madison, 1), (empire_state_building, 3), (thirty_fifth_and_madison, 1)]),\n",
    "  empire_state_building: set([(thirty_fourth_and_madison, 3), (herald_square, 3), (thirty_third_and_fifth, 1), (cuny_grad_center, 1)]),\n",
    "  herald_square: set([(empire_state_building, 3), (thirty_fourth_and_seventh, 3), (manhattan_mall, 1), (thirty_fifth_and_sixth, 1)]),\n",
    "  thirty_fourth_and_seventh: set([(herald_square, 3), (macys, 1), (penn_station, 1)]),\n",
    "  thirty_fifth_and_madison: set([(thirty_fourth_and_madison, 1), (thirty_sixth_and_madison, 1), (cuny_grad_center, 3)]),\n",
    "  cuny_grad_center: set([(thirty_fifth_and_madison, 3), (thirty_fifth_and_sixth, 3), (empire_state_building, 1), (thirty_sixth_and_fifth, 1)]),\n",
    "  thirty_fifth_and_sixth: set([(cuny_grad_center, 3), (macys, 3), (herald_square, 1), (thirty_sixth_and_sixth, 1)]),\n",
    "  macys: set([(thirty_fifth_and_sixth, 3), (thirty_fourth_and_seventh, 1), (thirty_sixth_and_seventh, 1)]),\n",
    "  thirty_sixth_and_madison: set([(thirty_sixth_and_fifth, 3), (thirty_fifth_and_madison, 1), (morgan_library, 1)]),\n",
    "  thirty_sixth_and_fifth: set([(thirty_sixth_and_madison, 3), (thirty_sixth_and_sixth, 3), (cuny_grad_center, 1), (thirty_seventh_and_fifth, 1)]),\n",
    "  thirty_sixth_and_sixth: set([(thirty_sixth_and_fifth, 3), (thirty_sixth_and_seventh, 3), (thirty_fifth_and_sixth, 1), (thirty_seventh_and_sixth, 1)]),\n",
    "  thirty_sixth_and_seventh: set([(thirty_sixth_and_sixth, 3), (macys, 1), (thirty_seventh_and_seventh, 1)]),\n",
    "  morgan_library: set([(thirty_seventh_and_fifth, 3), (thirty_sixth_and_madison, 1), (thirty_eighth_and_madison, 1)]),\n",
    "  thirty_seventh_and_fifth: set([(morgan_library, 3), (thirty_seventh_and_sixth, 3), (thirty_sixth_and_fifth, 1), (thirty_eighth_and_fifth, 1)]),\n",
    "  thirty_seventh_and_sixth: set([(thirty_seventh_and_fifth, 3), (thirty_seventh_and_seventh, 3), (thirty_sixth_and_sixth, 1)]),\n",
    "  thirty_seventh_and_seventh: set([(thirty_seventh_and_sixth, 3), (thirty_sixth_and_seventh, 1), (thirty_eighth_and_seventh, 1)]),\n",
    "  thirty_eighth_and_madison: set([(thirty_eighth_and_fifth, 3), (morgan_library, 1), (mexican_consulate, 1)]),\n",
    "  thirty_eighth_and_fifth: set([(thirty_eighth_and_madison, 3), (thirty_eighth_and_sixth, 3), (thirty_seventh_and_fifth, 1), (thirty_ninth_and_fifth, 1)]),\n",
    "  thirty_eighth_and_sixth: set([(thirty_eighth_and_fifth, 3), (thirty_eighth_and_seventh, 3), (thirty_seventh_and_sixth, 1), (thirty_ninth_and_sixth, 1)]),\n",
    "  thirty_eighth_and_seventh: set([(thirty_eighth_and_sixth, 3), (thirty_seventh_and_seventh, 1), (thirty_ninth_and_seventh, 1)]),\n",
    "  mexican_consulate: set([(thirty_ninth_and_fifth, 3), (thirty_eighth_and_madison, 1), (fortieth_and_madison, 1)]),\n",
    "  thirty_ninth_and_fifth: set([(mexican_consulate, 3), (thirty_ninth_and_sixth, 3), (thirty_eighth_and_fifth, 1), (fortieth_and_fifth, 1)]),\n",
    "  thirty_ninth_and_sixth: set([(thirty_ninth_and_fifth, 3), (thirty_ninth_and_seventh, 3), (thirty_eighth_and_sixth, 1), (bryant_park_south, 1)]),\n",
    "  thirty_ninth_and_seventh: set([(thirty_ninth_and_sixth, 3), (thirty_eighth_and_seventh, 1), (times_square_south, 1)]),\n",
    "  fortieth_and_madison: set([(fortieth_and_fifth, 3), (mexican_consulate, 1), (forty_first_and_madison, 1)]),\n",
    "  fortieth_and_fifth: set([(fortieth_and_madison, 3), (bryant_park_south, 3), (thirty_ninth_and_fifth, 1)]),\n",
    "  bryant_park_south: set([(fortieth_and_fifth, 3), (times_square_south, 3), (thirty_ninth_and_sixth, 1), (kinokuniya, 1)]),\n",
    "  times_square_south: set([(bryant_park_south, 3), (times_square, 1), (thirty_ninth_and_seventh, 1)]),\n",
    "  forty_first_and_madison: set([(fortieth_and_madison, 1), (grand_central_station, 1), (mid_manhattan_library, 3)]),\n",
    "  mid_manhattan_library: set([(forty_first_and_madison, 3), (library, 1), (fortieth_and_fifth, 1)]),\n",
    "  kinokuniya: set([(times_square, 3), (bryant_park_north, 1), (bryant_park_south, 1)]),\n",
    "  times_square: set([(kinokuniya, 3), (times_square_north, 1), (times_square_south, 1)]),\n",
    "  grand_central_station: set([(library, 3), (forty_first_and_madison, 1)]),\n",
    "  library: set([(mid_manhattan_library, 1), (grand_central_station, 3), (bryant_park_north, 3)]),\n",
    "  bryant_park_north: set([(library, 3), (times_square_north, 3), (bryant_park_south, 1)]),\n",
    "  times_square_north: set([(times_square, 1), (bryant_park_north, 3)])\n",
    "}"
   ]
  },
  {
   "cell_type": "code",
   "execution_count": 31,
   "metadata": {},
   "outputs": [],
   "source": [
    "from math import inf\n",
    "from heapq import heappop, heappush\n",
    "#from manhattan_graph import manhattan_graph, thirty_sixth_and_sixth, grand_central_station\n",
    "\n",
    "def modified_dijkstras(graph, start, target):\n",
    "  print(\"Starting Dijkstra's algorithm!\")\n",
    "  count = 0\n",
    "  paths_and_distances = {}\n",
    "  for vertex in graph:\n",
    "    paths_and_distances[vertex] = [inf, [start.name]]\n",
    "  \n",
    "  paths_and_distances[start][0] = 0\n",
    "  vertices_to_explore = [(0, start)]\n",
    "\n",
    "  while vertices_to_explore:\n",
    "    current_distance, current_vertex = heappop(vertices_to_explore)\n",
    "    for neighbor, edge_weight in graph[current_vertex]:\n",
    "      new_distance = current_distance + edge_weight\n",
    "      new_path = paths_and_distances[current_vertex][1] + [neighbor.name]\n",
    "      if new_distance < paths_and_distances[neighbor][0]:\n",
    "        paths_and_distances[neighbor][0] = new_distance\n",
    "        paths_and_distances[neighbor][1] = new_path\n",
    "        heappush(vertices_to_explore, (new_distance, neighbor))\n",
    "        count += 1\n",
    "        print(\"\\nAt \" + vertices_to_explore[0][1].name)\n",
    "  print(\"Found a path in {0} steps: \".format(count), paths_and_distances[target][1])\n",
    "  return paths_and_distances[target][1]\n",
    "\n",
    "def heuristic(start, target):\n",
    "  x_distance = abs(start.position[0] - target.position[0])\n",
    "  y_distance = abs(start.position[1] - target.position[1])\n",
    "  return x_distance + y_distance\n",
    "\n",
    "def a_star(graph, start, target):\n",
    "  print(\"Starting A* algorithm!\")\n",
    "  count = 0\n",
    "  paths_and_distances = {}\n",
    "  for vertex in graph:\n",
    "    paths_and_distances[vertex] = [inf, [start.name]]\n",
    "  \n",
    "  paths_and_distances[start][0] = 0\n",
    "  vertices_to_explore = [(0, start)]\n",
    "  while vertices_to_explore and paths_and_distances[target][0] == inf:\n",
    "    current_distance, current_vertex = heappop(vertices_to_explore)\n",
    "    for neighbor, edge_weight in graph[current_vertex]:\n",
    "      new_distance = current_distance + edge_weight + heuristic(neighbor, target)\n",
    "      new_path = paths_and_distances[current_vertex][1] + [neighbor.name]\n",
    "      \n",
    "      if new_distance < paths_and_distances[neighbor][0]:\n",
    "        paths_and_distances[neighbor][0] = new_distance\n",
    "        paths_and_distances[neighbor][1] = new_path\n",
    "        heappush(vertices_to_explore, (new_distance, neighbor))\n",
    "        count += 1\n",
    "        print(\"\\nAt \" + vertices_to_explore[0][1].name)\n",
    "        \n",
    "  print(\"Found a path in {0} steps: \".format(count), paths_and_distances[target][1])\n",
    "  \n",
    "  return paths_and_distances[target][1]\n",
    "\n",
    "\n"
   ]
  },
  {
   "cell_type": "code",
   "execution_count": 32,
   "metadata": {},
   "outputs": [
    {
     "name": "stdout",
     "output_type": "stream",
     "text": [
      "Starting Dijkstra's algorithm!\n",
      "\n",
      "At 35th Street and 6th Avenue\n",
      "\n",
      "At 35th Street and 6th Avenue\n",
      "\n",
      "At 35th Street and 6th Avenue\n",
      "\n",
      "At 35th Street and 6th Avenue\n",
      "\n",
      "At 37th Street and 6th Avenue\n",
      "\n",
      "At 37th Street and 6th Avenue\n",
      "\n",
      "At 37th Street and 6th Avenue\n",
      "\n",
      "At Herald Square\n",
      "\n",
      "At Herald Square\n",
      "\n",
      "At 36th Street and 5th Avenue\n",
      "\n",
      "At 36th Street and 5th Avenue\n",
      "\n",
      "At 36th Street and 5th Avenue\n",
      "\n",
      "At 36th Street and 7th Avenue\n",
      "\n",
      "At 37th Street and 5th Avenue\n",
      "\n",
      "At 37th Street and 5th Avenue\n",
      "\n",
      "At 37th Street and 7th Avenue\n",
      "\n",
      "At 37th Street and 7th Avenue\n",
      "\n",
      "At CUNY Graduate Center\n",
      "\n",
      "At Macy's\n",
      "\n",
      "At 38th Street and Seventh Avenue\n",
      "\n",
      "At 38th Street and Seventh Avenue\n",
      "\n",
      "At 38th Street and Seventh Avenue\n",
      "\n",
      "At Empire State Building\n",
      "\n",
      "At 33rd Street and 5th Avenue\n",
      "\n",
      "At 36th Street and Madison Avenue\n",
      "\n",
      "At 39th Street and Seventh Avenue\n",
      "\n",
      "At 39th Street and Seventh Avenue\n",
      "\n",
      "At 39th Street and Seventh Avenue\n",
      "\n",
      "At Penn Station\n",
      "\n",
      "At Morgan Library and Museum\n",
      "\n",
      "At Morgan Library and Museum\n",
      "\n",
      "At 34th Street and Madison Avenue\n",
      "\n",
      "At 33rd Street and Madison Avenue\n",
      "\n",
      "At 33rd Street and Madison Avenue\n",
      "\n",
      "At 40th Street and Madison Avenue\n",
      "\n",
      "At Bryant Park South\n",
      "\n",
      "At Kinokuniya\n",
      "\n",
      "At Kinokuniya\n",
      "\n",
      "At Grand Central Station\n",
      "Found a path in 39 steps:  ['36th Street and 6th Avenue', '37th Street and 6th Avenue', '37th Street and 5th Avenue', '38th Street and Fifth Avenue', '39th Street and Fifth Avenue', '40th Street and Fifth Avenue', '40th Street and Madison Avenue', '41st Street and Madison Avenue', 'Grand Central Station']\n"
     ]
    },
    {
     "data": {
      "text/plain": [
       "['36th Street and 6th Avenue',\n",
       " '37th Street and 6th Avenue',\n",
       " '37th Street and 5th Avenue',\n",
       " '38th Street and Fifth Avenue',\n",
       " '39th Street and Fifth Avenue',\n",
       " '40th Street and Fifth Avenue',\n",
       " '40th Street and Madison Avenue',\n",
       " '41st Street and Madison Avenue',\n",
       " 'Grand Central Station']"
      ]
     },
     "execution_count": 32,
     "metadata": {},
     "output_type": "execute_result"
    }
   ],
   "source": [
    "modified_dijkstras(manhattan_graph, thirty_sixth_and_sixth, grand_central_station)"
   ]
  },
  {
   "cell_type": "code",
   "execution_count": 33,
   "metadata": {},
   "outputs": [
    {
     "name": "stdout",
     "output_type": "stream",
     "text": [
      "Starting A* algorithm!\n",
      "\n",
      "At 35th Street and 6th Avenue\n",
      "\n",
      "At 35th Street and 6th Avenue\n",
      "\n",
      "At 37th Street and 6th Avenue\n",
      "\n",
      "At 37th Street and 6th Avenue\n",
      "\n",
      "At 35th Street and 6th Avenue\n",
      "\n",
      "At 35th Street and 6th Avenue\n",
      "\n",
      "At 36th Street and 5th Avenue\n",
      "\n",
      "At 36th Street and 5th Avenue\n",
      "\n",
      "At 36th Street and 5th Avenue\n",
      "\n",
      "At 36th Street and 7th Avenue\n",
      "\n",
      "At 36th Street and 7th Avenue\n",
      "\n",
      "At 36th Street and Madison Avenue\n",
      "\n",
      "At 36th Street and Madison Avenue\n",
      "\n",
      "At 37th Street and 7th Avenue\n",
      "\n",
      "At CUNY Graduate Center\n",
      "\n",
      "At CUNY Graduate Center\n",
      "\n",
      "At 38th Street and Fifth Avenue\n",
      "\n",
      "At 38th Street and Fifth Avenue\n",
      "\n",
      "At Macy's\n",
      "\n",
      "At Macy's\n",
      "\n",
      "At Macy's\n",
      "\n",
      "At 38th Street and Seventh Avenue\n",
      "\n",
      "At 39th Street and Fifth Avenue\n",
      "\n",
      "At Empire State Building\n",
      "\n",
      "At Empire State Building\n",
      "\n",
      "At Empire State Building\n",
      "\n",
      "At 38th Street and Madison Avenue\n",
      "\n",
      "At Manhattan Mall\n",
      "\n",
      "At Manhattan Mall\n",
      "\n",
      "At 39th Street and Seventh Avenue\n",
      "\n",
      "At Mexican Consulate General\n",
      "\n",
      "At 39th Street and Sixth Avenue\n",
      "\n",
      "At 41st Street and Madison Avenue\n",
      "\n",
      "At Bryant Park South\n",
      "\n",
      "At Bryant Park South\n",
      "Found a path in 35 steps:  ['36th Street and 6th Avenue', '37th Street and 6th Avenue', '37th Street and 5th Avenue', '38th Street and Fifth Avenue', '39th Street and Fifth Avenue', '40th Street and Fifth Avenue', '40th Street and Madison Avenue', '41st Street and Madison Avenue', 'Grand Central Station']\n"
     ]
    },
    {
     "data": {
      "text/plain": [
       "['36th Street and 6th Avenue',\n",
       " '37th Street and 6th Avenue',\n",
       " '37th Street and 5th Avenue',\n",
       " '38th Street and Fifth Avenue',\n",
       " '39th Street and Fifth Avenue',\n",
       " '40th Street and Fifth Avenue',\n",
       " '40th Street and Madison Avenue',\n",
       " '41st Street and Madison Avenue',\n",
       " 'Grand Central Station']"
      ]
     },
     "execution_count": 33,
     "metadata": {},
     "output_type": "execute_result"
    }
   ],
   "source": [
    "a_star(manhattan_graph, thirty_sixth_and_sixth, grand_central_station)"
   ]
  },
  {
   "cell_type": "markdown",
   "metadata": {},
   "source": [
    "## Bellman-Ford Algorithm: \n",
    "\n",
    "* The algorithm was first proposed by Alfonso Shimbel (1955), but is instead named after Richard Bellman and Lester Ford Jr., who published it in 1958 and 1956 (respectively).\n",
    "\n",
    "* Works for negative weights (providing there are no negative weight cycles).\n",
    "\n",
    "* Bellman-Ford relaxes all edges multiple times to ensure the shortest paths are found, even with negative weights. \n",
    "\n",
    "* Bellman-Ford follows a dynamic programming approach since it considers all possible paths up to a certain length.\n",
    "\n",
    "* Dijkstra’s Algorithm selects the shortest path to a vertex in each step and never revisits it (greedy).\n",
    "\n",
    "* Does not revisit already processed vertices because it assumes all edge weights are non-negative.\n",
    "\n",
    "![bellman_ford_gif](https://miro.medium.com/v2/resize:fit:1400/1*qNNJpdY-o9oIh9Yg4O-d-g.gif)"
   ]
  },
  {
   "cell_type": "markdown",
   "metadata": {},
   "source": [
    "```\n",
    "A --1--> B --2--> C\n",
    "A --4--> C\n",
    "```"
   ]
  },
  {
   "cell_type": "code",
   "execution_count": 34,
   "metadata": {},
   "outputs": [],
   "source": [
    "graph = {\n",
    "    'A': [('B', 1), ('C', 4)],\n",
    "    'B': [('C', 2)],\n",
    "    'C': []\n",
    "}"
   ]
  },
  {
   "cell_type": "code",
   "execution_count": 35,
   "metadata": {},
   "outputs": [],
   "source": [
    "def bellman_ford(graph, source):\n",
    "    distances = {vertex: float('inf') for vertex in graph}\n",
    "    distances[source] = 0\n",
    "\n",
    "    for _ in range(len(graph) - 1):\n",
    "        for u in graph:\n",
    "            for v, weight in graph[u]:\n",
    "                if distances[u] + weight < distances[v]:\n",
    "                    distances[v] = distances[u] + weight\n",
    "\n",
    "    # Detect negative weight cycles\n",
    "    for u in graph:\n",
    "        for v, weight in graph[u]:\n",
    "            if distances[u] + weight < distances[v]:\n",
    "                raise ValueError(\"Graph contains a negative weight cycle\")\n",
    "\n",
    "    return distances\n"
   ]
  },
  {
   "cell_type": "code",
   "execution_count": 36,
   "metadata": {},
   "outputs": [
    {
     "name": "stdout",
     "output_type": "stream",
     "text": [
      "{'A': 0, 'B': 1, 'C': 3}\n"
     ]
    }
   ],
   "source": [
    "print(bellman_ford(graph, 'A')) "
   ]
  },
  {
   "cell_type": "markdown",
   "metadata": {},
   "source": [
    "Now for a graph with negative weights:\n",
    "\n",
    "```\n",
    "    A --2--> B\n",
    "    |        | \\\n",
    "    4        -3 1\n",
    "    |        |   \\\n",
    "    v        v    v\n",
    "    C -----> E <-- D\n",
    "         5      -2\n",
    "    ^             /\n",
    "    \\--- 3 ------- \n",
    "\n",
    "```"
   ]
  },
  {
   "cell_type": "code",
   "execution_count": 37,
   "metadata": {},
   "outputs": [],
   "source": [
    "graph = {\n",
    "    'A': [('B', 2), ('C', 4)],\n",
    "    'B': [('E', -3), ('D', 1)],\n",
    "    'C': [('E', 5)],\n",
    "    'D': [('E', -2), ('C', 3)],\n",
    "    'E': []\n",
    "}"
   ]
  },
  {
   "cell_type": "code",
   "execution_count": 38,
   "metadata": {},
   "outputs": [
    {
     "name": "stdout",
     "output_type": "stream",
     "text": [
      "{'A': 0, 'B': 2, 'C': 4, 'D': 3, 'E': -1}\n"
     ]
    }
   ],
   "source": [
    "print(bellman_ford(graph, 'A')) "
   ]
  },
  {
   "cell_type": "code",
   "execution_count": 40,
   "metadata": {},
   "outputs": [],
   "source": [
    "class Graph:\n",
    "    def __init__(self, vertices):\n",
    "        self.V = vertices  # Number of vertices\n",
    "        self.edges = []    # List to store graph edges\n",
    "\n",
    "    def add_edge(self, u, v, weight):\n",
    "        self.edges.append((u, v, weight))\n",
    "\n",
    "    def bellman_ford(self, src):\n",
    "        # Initialize distances from source to all vertices as infinite\n",
    "        dist = [float(\"inf\")] * self.V\n",
    "        dist[src] = 0  # Distance to source is 0\n",
    "\n",
    "        # Relax all edges |V| - 1 times\n",
    "        for _ in range(self.V - 1):\n",
    "            for u, v, weight in self.edges:\n",
    "                if dist[u] != float(\"inf\") and dist[u] + weight < dist[v]:\n",
    "                    dist[v] = dist[u] + weight\n",
    "\n",
    "        # Check for negative-weight cycles\n",
    "        for u, v, weight in self.edges:\n",
    "            if dist[u] != float(\"inf\") and dist[u] + weight < dist[v]:\n",
    "                print(\"Graph contains negative weight cycle\")\n",
    "                return None\n",
    "\n",
    "        return dist"
   ]
  },
  {
   "cell_type": "code",
   "execution_count": 41,
   "metadata": {},
   "outputs": [
    {
     "name": "stdout",
     "output_type": "stream",
     "text": [
      "Vertex\tDistance from Source\n",
      "0\t0\n",
      "1\t-1\n",
      "2\t2\n",
      "3\t-2\n",
      "4\t1\n"
     ]
    }
   ],
   "source": [
    "g = Graph(5)\n",
    "\n",
    "# Add edges (u, v, weight)\n",
    "g.add_edge(0, 1, -1)\n",
    "g.add_edge(0, 2, 4)\n",
    "g.add_edge(1, 2, 3)\n",
    "g.add_edge(1, 3, 2)\n",
    "g.add_edge(1, 4, 2)\n",
    "g.add_edge(3, 2, 5)\n",
    "g.add_edge(3, 1, 1)\n",
    "g.add_edge(4, 3, -3)\n",
    "\n",
    "# Compute shortest paths from vertex 0\n",
    "distances = g.bellman_ford(0)\n",
    "\n",
    "if distances:\n",
    "    print(\"Vertex\\tDistance from Source\")\n",
    "    for i in range(len(distances)):\n",
    "        print(f\"{i}\\t{distances[i]}\")"
   ]
  },
  {
   "cell_type": "markdown",
   "metadata": {},
   "source": [
    "## Network Flow \n",
    "\n",
    "* The flow in a network of nodes can also be modelled via a directed graph.\n",
    "\n",
    "* Examples include: \n",
    "    * Natural energy: (water, gas, electricity etc) as it flows from source to destination. \n",
    "    * Transport (roads, trains, and even areoplanes)\n",
    "    * Devices that communicate by sending packets of data across a network.\n",
    "\n",
    "* Furthermore, we'll see that dynamic programming can be applied to network flow applications to calculate the maximum and minimum flows, and also optimise path finding.\n",
    "\n",
    "* <b>The fundamental difference between graphs and networks, is that graphs focus on the distance, but networks focus on capacity (think volume) of flow between nodes/vertices.</b>"
   ]
  },
  {
   "cell_type": "markdown",
   "metadata": {},
   "source": [
    "## Traffic flow example\n",
    "\n",
    "* Road works (or engineering works that close railway lines!) are frustrating to travellers but essential for repair and maintenance. \n",
    "\n",
    "* This impacts the flow of traffic in a network, so we can model this real-life phenomenon with network flow. \n",
    "\n",
    "<img src=\"https://wealthandtax.co.uk/wp-content/uploads/2020/04/shutterstock_631880864-scaled.jpg\" alt=\"roadworks\" width=\"850\">  "
   ]
  },
  {
   "cell_type": "code",
   "execution_count": 44,
   "metadata": {},
   "outputs": [],
   "source": [
    "import networkx as nx\n",
    "import matplotlib.pyplot as plt\n",
    "\n",
    "# Create a directed graph\n",
    "G = nx.DiGraph()\n",
    "\n",
    "# Add edges along with their capacities\n",
    "G.add_edge('A', 'B', capacity=10)\n",
    "G.add_edge('A', 'C', capacity=15)\n",
    "G.add_edge('B', 'D', capacity=10)\n",
    "G.add_edge('C', 'D', capacity=10)\n",
    "G.add_edge('B', 'E', capacity=5)\n",
    "G.add_edge('D', 'E', capacity=10)\n"
   ]
  },
  {
   "cell_type": "code",
   "execution_count": 45,
   "metadata": {},
   "outputs": [],
   "source": [
    "source = 'A'\n",
    "sink = 'E'"
   ]
  },
  {
   "cell_type": "code",
   "execution_count": 50,
   "metadata": {},
   "outputs": [
    {
     "data": {
      "image/png": "[encoded data removed]",
      "text/plain": [
       "<Figure size 800x600 with 1 Axes>"
      ]
     },
     "metadata": {},
     "output_type": "display_data"
    }
   ],
   "source": [
    "import matplotlib.pyplot as plt\n",
    "\n",
    "def visualize_flow(G, flow_dict, title):\n",
    "    pos = nx.spring_layout(G)\n",
    "    edge_labels = {}\n",
    "    for u in flow_dict:\n",
    "        for v in flow_dict[u]:\n",
    "            if flow_dict[u][v] > 0:\n",
    "                edge_labels[(u, v)] = flow_dict[u][v]\n",
    "    \n",
    "    plt.figure(figsize=(8,6))\n",
    "    nx.draw(G, pos, with_labels=True, node_color='lightblue', node_size=2000, arrows=True)\n",
    "    nx.draw_networkx_edge_labels(G, pos, edge_labels=edge_labels)\n",
    "    plt.title(title)\n",
    "    plt.show()\n",
    "\n",
    "# Visualize initial flow\n",
    "visualize_flow(G, initial_flow_dict, \"Flow Distribution Before Roadworks\")"
   ]
  },
  {
   "cell_type": "markdown",
   "metadata": {},
   "source": [
    "## Maximum Flow via Edmonds-Karp vs Ford-Fulkerson\n",
    "\n",
    "* The Edmonds-Karp algorithm is a specific implementation of the Ford-Fulkerson method \n",
    "\n",
    "* Edmonds-Karp employs Breadth-First Search (BFS) to find the shortest augmenting paths, thereby ensuring polynomial time complexity. $O(n^k)$\n",
    "\n",
    "* Ford-Fulkerson Method:\n",
    "    * A general algorithm to compute the maximum flow in a flow network.\n",
    "\t* It works by repeatedly finding augmenting paths from the source to the sink and increasing the flow until no more augmenting paths exist.\n",
    "\t* The method’s performance depends on how the augmenting paths are selected. Without a specific strategy, its time complexity can be unbounded, especially with irrational capacities.\n",
    "\n",
    "* Edmonds-Karp Algorithm:\n",
    "\t* A specific implementation of the Ford-Fulkerson method that uses BFS.\n",
    "\t* It uses BFS to find the shortest (in terms of the number of edges) augmenting path in each iteration.\n",
    "\t* Guarantees a time complexity of  $O(V \\times E^2)$  where  V  is the number of vertices and  E  is the number of edges.\n",
    "\n",
    "* In summary, Edmonds-Karp is essentially Ford-Fulkerson with a specific path selection strategy (BFS), making it more efficient and predictable.\n"
   ]
  },
  {
   "cell_type": "code",
   "execution_count": 51,
   "metadata": {},
   "outputs": [],
   "source": [
    "def compute_max_flow(G, source, sink):\n",
    "    # Compute the maximum flow using the Edmonds-Karp algorithm\n",
    "    flow_value, flow_dict = nx.maximum_flow(G, source, sink, flow_func=nx.algorithms.flow.edmonds_karp)\n",
    "    \n",
    "    print(f\"Maximum flow from {source} to {sink}: {flow_value} vehicles/hour\")\n",
    "    print(\"Flow distribution:\")\n",
    "    for u in flow_dict:\n",
    "        for v in flow_dict[u]:\n",
    "            if flow_dict[u][v] > 0:\n",
    "                print(f\"  {u} -> {v}: {flow_dict[u][v]} vehicles/hour\")\n",
    "    print(\"\\n\")\n",
    "    return flow_value, flow_dict"
   ]
  },
  {
   "cell_type": "code",
   "execution_count": 52,
   "metadata": {},
   "outputs": [
    {
     "name": "stdout",
     "output_type": "stream",
     "text": [
      "=== Initial Scenario ===\n",
      "Maximum flow from A to E: 15 vehicles/hour\n",
      "Flow distribution:\n",
      "  A -> B: 10 vehicles/hour\n",
      "  A -> C: 5 vehicles/hour\n",
      "  B -> D: 5 vehicles/hour\n",
      "  B -> E: 5 vehicles/hour\n",
      "  C -> D: 5 vehicles/hour\n",
      "  D -> E: 10 vehicles/hour\n",
      "\n",
      "\n"
     ]
    }
   ],
   "source": [
    "print(\"=== Initial Scenario ===\")\n",
    "initial_flow, initial_flow_dict = compute_max_flow(G, source, sink)"
   ]
  },
  {
   "cell_type": "code",
   "execution_count": 53,
   "metadata": {},
   "outputs": [
    {
     "name": "stdout",
     "output_type": "stream",
     "text": [
      "=== After Roadworks on C -> D ===\n",
      "Maximum flow from A to E: 15 vehicles/hour\n",
      "Flow distribution:\n",
      "  A -> B: 10 vehicles/hour\n",
      "  A -> C: 5 vehicles/hour\n",
      "  B -> D: 5 vehicles/hour\n",
      "  B -> E: 5 vehicles/hour\n",
      "  C -> D: 5 vehicles/hour\n",
      "  D -> E: 10 vehicles/hour\n",
      "\n",
      "\n"
     ]
    }
   ],
   "source": [
    "# Simulate roadworks: reduce capacity of C -> D from 10 to 5\n",
    "G['C']['D']['capacity'] = 5\n",
    "\n",
    "print(\"=== After Roadworks on C -> D ===\")\n",
    "new_flow, new_flow_dict = compute_max_flow(G, source, sink)"
   ]
  },
  {
   "cell_type": "code",
   "execution_count": 54,
   "metadata": {},
   "outputs": [
    {
     "data": {
      "image/png": "[encoded data removed]",
      "text/plain": [
       "<Figure size 800x600 with 1 Axes>"
      ]
     },
     "metadata": {},
     "output_type": "display_data"
    },
    {
     "data": {
      "image/png": "[encoded data removed]",
      "text/plain": [
       "<Figure size 800x600 with 1 Axes>"
      ]
     },
     "metadata": {},
     "output_type": "display_data"
    }
   ],
   "source": [
    "import matplotlib.pyplot as plt\n",
    "\n",
    "def visualize_flow(G, flow_dict, title):\n",
    "    pos = nx.spring_layout(G)\n",
    "    edge_labels = {}\n",
    "    for u in flow_dict:\n",
    "        for v in flow_dict[u]:\n",
    "            if flow_dict[u][v] > 0:\n",
    "                edge_labels[(u, v)] = flow_dict[u][v]\n",
    "    \n",
    "    plt.figure(figsize=(8,6))\n",
    "    nx.draw(G, pos, with_labels=True, node_color='lightblue', node_size=2000, arrows=True)\n",
    "    nx.draw_networkx_edge_labels(G, pos, edge_labels=edge_labels)\n",
    "    plt.title(title)\n",
    "    plt.show()\n",
    "\n",
    "# Visualize initial flow\n",
    "visualize_flow(G, initial_flow_dict, \"Flow Distribution Before Roadworks\")\n",
    "\n",
    "# Visualize flow after roadworks\n",
    "visualize_flow(G, new_flow_dict, \"Flow Distribution After Roadworks on C -> D\")"
   ]
  },
  {
   "cell_type": "markdown",
   "metadata": {},
   "source": [
    "## Visualisation of graphs - install `networkx`\n",
    "\n",
    "`pip install networkx matplotlib`  \n",
    "  `python3 -m pip install -U networkx matplotlib --user`"
   ]
  },
  {
   "cell_type": "code",
   "execution_count": 55,
   "metadata": {},
   "outputs": [
    {
     "data": {
      "image/png": "[encoded data removed]",
      "text/plain": [
       "<Figure size 640x480 with 1 Axes>"
      ]
     },
     "metadata": {},
     "output_type": "display_data"
    }
   ],
   "source": [
    "import matplotlib.pyplot as plt\n",
    "import networkx as nx\n",
    "\n",
    "# Create a graph\n",
    "G = nx.Graph()\n",
    "\n",
    "# Add weighted edges\n",
    "G.add_edge('A', 'B', weight=4)\n",
    "G.add_edge('A', 'C', weight=3)\n",
    "G.add_edge('B', 'C', weight=2)\n",
    "G.add_edge('B', 'E', weight=2)\n",
    "G.add_edge('C', 'D', weight=5)\n",
    "G.add_edge('C', 'E', weight=4)\n",
    "G.add_edge('D', 'E', weight=3)\n",
    "\n",
    "# Get positions for the nodes\n",
    "pos = nx.spring_layout(G)\n",
    "\n",
    "# Draw nodes and edges\n",
    "nx.draw(G, pos, with_labels=True, node_color='lightblue', node_size=2000, font_size=10, font_weight='bold')\n",
    "\n",
    "# Draw edge labels for weights\n",
    "edge_labels = nx.get_edge_attributes(G, 'weight')\n",
    "nx.draw_networkx_edge_labels(G, pos, edge_labels=edge_labels)\n",
    "\n",
    "plt.show()"
   ]
  },
  {
   "cell_type": "markdown",
   "metadata": {},
   "source": [
    "## Summary \n",
    "\n",
    "* We've built on the foundations of Graph Theory (vertices and edges)\n",
    "\n",
    "* We've seen that Dijkstra's algorithm is an single-source shortest path (SSSP) algorithm (for non-negative weights).\n",
    "\n",
    "* We've also applied heuristics (estimates) to optimise path finding via the A* algorithm. \n",
    "\n",
    "* The Bellman-Ford algorithm is also helpful when dealing with negative weights (providing there are no-negative weight cycles). \n",
    "\n",
    "* Variation of graph path finding is maximising flow in a network (graph). Here the edges are capacity rather than 'distance' or 'time'.\n",
    "\n",
    "* Maximum Flow via Edmonds-Karp and Ford-Fulkerson algorithms.\n",
    "\n",
    "* We'll explore the Floyd-Warshall algorithm (all-pairs shortest paths) in Dynamic Programming.\n",
    "\n"
   ]
  },
  {
   "cell_type": "markdown",
   "metadata": {},
   "source": [
    "## Exercise \n",
    "\n",
    "First ensure that you have at least one method to represent a Graph, this could be a Python `dict` for an adjacency list, or a 2D array (`numpy.array` or Python `list`) for an adjacency matrix. \n",
    "\n",
    "Then implement Dijkstra's algorithm to return the shortest paths to all vertices in the given graph. The returned shortest paths could be any structure - a `dictionary` or a `list`. \n",
    "\n",
    "Question: What is the run-time complexity of Dijkstra's algorithm (BFS + Priority Queue)?"
   ]
  },
  {
   "cell_type": "code",
   "execution_count": null,
   "metadata": {},
   "outputs": [],
   "source": [
    "# Write your solution here."
   ]
  },
  {
   "cell_type": "markdown",
   "metadata": {},
   "source": [
    "## Exercise \n",
    "\n",
    "Now implement A* algorithm on the given graph represented below as: \n",
    "\n",
    "```\n",
    "    A --1--> B --2--> E\n",
    "     \\       |       ^\n",
    "      3      1       |\n",
    "       \\     v       5\n",
    "        C --4--> D --1--> F\n",
    "\n",
    "```\n",
    "\n",
    "I've also provided the heuristic (estimated values) to help the algorithm:"
   ]
  },
  {
   "cell_type": "code",
   "execution_count": null,
   "metadata": {},
   "outputs": [],
   "source": [
    "g = Graph()\n",
    "g.add_edge(\"A\", \"B\", 1)\n",
    "g.add_edge(\"A\", \"C\", 3)\n",
    "g.add_edge(\"B\", \"E\", 2)\n",
    "g.add_edge(\"B\", \"D\", 1)\n",
    "g.add_edge(\"C\", \"D\", 4)\n",
    "g.add_edge(\"D\", \"F\", 1)\n",
    "g.add_edge(\"E\", \"F\", 5)\n",
    "\n",
    "heuristics = {\"A\": 7, \"B\": 6, \"C\": 4, \"D\": 2, \"E\": 3, \"F\": 0}\n",
    "\n",
    "# Write your solution here.\n"
   ]
  },
  {
   "cell_type": "markdown",
   "metadata": {},
   "source": [
    "## Exercise \n",
    "\n",
    "Apply the A* path finding algorithm to the graph visualised below. Use the Manhattan heuristic (think Barcelona or New York, where streets are arranged in this format) to calculate the optimal path between `S` and `E` below:\n",
    "\n",
    "```\n",
    "S . . # .\n",
    ". # . # .\n",
    ". # . . .\n",
    ". . # . E\n",
    "\n",
    "```"
   ]
  },
  {
   "cell_type": "code",
   "execution_count": 2,
   "metadata": {},
   "outputs": [],
   "source": [
    "graph = {\n",
    "    (0, 0): [(0, 1)],          # Start node\n",
    "    (0, 1): [(0, 0), (1, 1)],\n",
    "    (1, 1): [(0, 1), (2, 1)],\n",
    "    (2, 1): [(1, 1), (3, 1), (2, 2)],\n",
    "    (3, 1): [(2, 1), (3, 2)],\n",
    "    (3, 2): [(3, 1), (2, 2), (3, 3)],\n",
    "    (2, 2): [(2, 1), (3, 2)],\n",
    "    (3, 3): [(3, 2), (3, 4)],  # End node connected here\n",
    "    (3, 4): [(3, 3)]           # Goal node\n",
    "}"
   ]
  },
  {
   "cell_type": "code",
   "execution_count": 1,
   "metadata": {},
   "outputs": [],
   "source": [
    "start = (0, 0)\n",
    "goal = (3, 4)\n"
   ]
  },
  {
   "cell_type": "code",
   "execution_count": 3,
   "metadata": {},
   "outputs": [],
   "source": [
    "def manhattan_heuristic(node, goal):\n",
    "    return abs(goal[0] - node[0]) + abs(goal[1] - node[1])"
   ]
  },
  {
   "cell_type": "code",
   "execution_count": 4,
   "metadata": {},
   "outputs": [
    {
     "data": {
      "text/plain": [
       "7"
      ]
     },
     "execution_count": 4,
     "metadata": {},
     "output_type": "execute_result"
    }
   ],
   "source": [
    "manhattan_heuristic(start, goal)"
   ]
  },
  {
   "cell_type": "code",
   "execution_count": null,
   "metadata": {},
   "outputs": [],
   "source": [
    "# Write your solution here."
   ]
  },
  {
   "cell_type": "markdown",
   "metadata": {},
   "source": [
    "## Scenario Exercise - Social Media Graphs\n",
    "\n",
    "First observe the social networking graph produced by `networkx` below. For the purposes of this example, the connections are randomised. You may want to hardcode the examples to start with (if too complex)\n",
    "\n",
    "Imagine you had work on the recommendation engine that would optimise suggested profiles to connect with based on existing connections. \n",
    "\n",
    "If you've ever used LinkedIn (recommended btw! Great for documenting your CV, and making professional connections), you may have noticed the 1st, 2nd and 3rd. This refers to 'degrees' of separation. \n",
    "\n",
    "https://www.linkedin.com/pulse/what-1st-2nd-3rd-connections-linkedin-onkar-gurav/ \n",
    "\n",
    "<b> Your task </b> is to replicate this ranking of connections. Write an algorithm that takes any starting node, and returns a list the connections who are 1 degree of separation, then 2nd and 3rd degrees of separation.\n",
    "\n",
    "Extension: For a 'rounded' example, connect this 'backend' logic with a front-end. Use your HTML/Flask skills to create an app where users can sign up and connect with each other. If you already have something like this in another language, feel free to apply your recommendation engine to this."
   ]
  },
  {
   "cell_type": "code",
   "execution_count": 7,
   "metadata": {},
   "outputs": [
    {
     "data": {
      "image/png": "[encoded data removed]",
      "text/plain": [
       "<Figure size 640x480 with 1 Axes>"
      ]
     },
     "metadata": {},
     "output_type": "display_data"
    }
   ],
   "source": [
    "import networkx as nx\n",
    "import matplotlib.pyplot as plt\n",
    "import random\n",
    "\n",
    "# Create a graph\n",
    "G = nx.Graph()\n",
    "\n",
    "# Add nodes (people)\n",
    "people = [\"Alice\", \"Bob\", \"Charlie\", \"David\", \"Eve\", \"Frank\", \"Grace\", \"Hannah\", \"Ivy\", \"Jack\", \n",
    "          \"Karen\", \"Leo\", \"Mia\", \"Nathan\", \"Olivia\"]\n",
    "\n",
    "G.add_nodes_from(people)\n",
    "\n",
    "# Generate random connections (edges)\n",
    "edges = []\n",
    "for i in range(20):  # Create 20 random edges\n",
    "    person1, person2 = random.sample(people, 2)  # Pick two random people\n",
    "    edges.append((person1, person2))\n",
    "\n",
    "G.add_edges_from(edges)\n",
    "\n",
    "# Get positions for nodes\n",
    "pos = nx.spring_layout(G)\n",
    "\n",
    "# Draw the graph with labels and node features\n",
    "nx.draw(G, pos, with_labels=True, node_color='lightgreen', node_size=3000, font_size=12, font_weight='bold')\n",
    "\n",
    "# Display the graph\n",
    "plt.show()"
   ]
  },
  {
   "cell_type": "markdown",
   "metadata": {},
   "source": [
    "## Scenario Exercise - Zone 1 of the London Underground\n",
    "\n",
    "<img src=\"https://media.wnyc.org/i/1860/1208/l/80/1/london_subway_map_shutterstock_174636971.jpg\" alt=\"zone_one_underground\" width=\"850\">  \n"
   ]
  },
  {
   "cell_type": "code",
   "execution_count": 12,
   "metadata": {},
   "outputs": [],
   "source": [
    "G = nx.Graph()\n",
    "\n",
    "stations = [\"Baker Street\", \"Great Portland Street\", \"Euston Square\", \"Kings Cross St Pancras\", # Met line\n",
    "            \"Russell Square\", \"Holborn\", \"Covent Garden\", \"Leicester Square\", \"Piccadilly Circus\", \"Green Park\", #Picadilly\n",
    "            \"Bond Street\", \"Oxford Circus\", # Jubilee\n",
    "            \"Tottenham Court Road\", \"Godge Street\", \"Warren Street\"] #Central + Vic\n",
    "\n",
    "G.add_nodes_from(stations)\n",
    "\n",
    "edges = [\n",
    "    (\"Baker Street\", \"Great Portland Street\"), (\"Great Portland Street\", \"Euston Square\"), (\"Euston Square\", \"Kings Cross St Pancras\"), #Met line\n",
    "    (\"Kings Cross St Pancras\", \"Russell Square\"), (\"Russell Square\", \"Holborn\"), (\"Holborn\", \"Covent Garden\"), (\"Covent Garden\", \"Leicester Square\"), (\"Leicester Square\", \"Piccadilly Circus\"), (\"Piccadilly Circus\", \"Green Park\"), #Picadilly\n",
    "    (\"Green Park\", \"Bond Street\"), (\"Bond Street\", \"Baker Street\"), # Jubilee\n",
    "    (\"Bond Street\", \"Oxford Circus\"), (\"Oxford Circus\", \"Tottenham Court Road\"), (\"Tottenham Court Road\",  \"Holborn\"), #Central\n",
    "    (\"Green Park\", \"Oxford Circus\"), (\"Oxford Circus\", \"Warren Street\"), #Victoria\n",
    "    (\"Baker Street\", \"Oxford Circus\"), (\"Oxford Circus\", \"Piccadilly Circus\"), # Bakerloo\n",
    "    (\"Leicester Square\", \"Tottenham Court Road\"), (\"Tottenham Court Road\", \"Godge Street\"), (\"Godge Street\", \"Warren Street\") #Northern \n",
    "]\n",
    "\n",
    "G.add_edges_from(edges)\n",
    "\n"
   ]
  },
  {
   "cell_type": "code",
   "execution_count": 13,
   "metadata": {},
   "outputs": [
    {
     "data": {
      "image/png": "[encoded data removed]",
      "text/plain": [
       "<Figure size 640x480 with 1 Axes>"
      ]
     },
     "metadata": {},
     "output_type": "display_data"
    }
   ],
   "source": [
    "# Get positions for nodes\n",
    "pos = nx.spring_layout(G)\n",
    "\n",
    "# Draw the graph with labels and node features\n",
    "nx.draw(G, pos, with_labels=True, node_color='lightblue', node_size=300, font_size=6,)\n",
    "\n",
    "# Display the graph\n",
    "plt.show()"
   ]
  },
  {
   "cell_type": "markdown",
   "metadata": {},
   "source": [
    "Well this is a different view... we'd probably have to manually format this if we wanted the graph to look like the tube map. However, this does at least show the right connections and also estimated time taken. "
   ]
  },
  {
   "cell_type": "markdown",
   "metadata": {},
   "source": [
    "Extension: Whilst a particular route may be quicker given the literal distance, how would the route planner change if you factored in the frequency of trains?\n",
    "\n",
    "To join up with your web knowledge, why not sign up for TFL's API, so you can get access to real-life train data - https://api.tfl.gov.uk \n",
    "\n",
    "Factor this data into your simulation.\n",
    "\n",
    "Extension: What about engineering works at weekends?!\n",
    "\n",
    "Extension: What about literal distances between stations (overground)? Is it quicker to walk to the next station than wait ten minutes for the next train?"
   ]
  },
  {
   "cell_type": "code",
   "execution_count": null,
   "metadata": {},
   "outputs": [],
   "source": []
  }
 ],
 "metadata": {
  "celltoolbar": "Slideshow",
  "kernelspec": {
   "display_name": "Python 3",
   "language": "python",
   "name": "python3"
  },
  "language_info": {
   "codemirror_mode": {
    "name": "ipython",
    "version": 3
   },
   "file_extension": ".py",
   "mimetype": "text/x-python",
   "name": "python",
   "nbconvert_exporter": "python",
   "pygments_lexer": "ipython3",
   "version": "3.9.6"
  }
 },
 "nbformat": 4,
 "nbformat_minor": 4
}
