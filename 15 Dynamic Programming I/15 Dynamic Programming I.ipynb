{
 "cells": [
  {
   "cell_type": "markdown",
   "id": "1eba3b72",
   "metadata": {
    "id": "1eba3b72"
   },
   "source": [
    "# 15 Dynamic Programming I"
   ]
  },
  {
   "cell_type": "markdown",
   "id": "57bc8bf6",
   "metadata": {},
   "source": [
    "## Plan for the Lecture\n",
    "\n",
    "1. Origins of DP - Richard Bellman's principle of optimality\n",
    "\n",
    "2. Top-down (Memoization) vs (bottom-up) tabulation strategies\n",
    "\n",
    "4. Shortest Paths and Topological Sort \n",
    "\n",
    "4. Network Flow - maximin and minimax "
   ]
  },
  {
   "cell_type": "markdown",
   "id": "c334d8c4",
   "metadata": {},
   "source": [
    "## Styles of Programming: \n",
    "\n",
    "* Dijkstra's algorithm was an example of a 'greedy' algorithm. Local choices over 'global' choices. \n",
    "\n",
    "* We've also seen the 'Divide and Conquer' style of programming - logarithmic principles. \n",
    "\n",
    "* Dynamic Programming is another style of programming - reuse of subproblems where they overlap. "
   ]
  },
  {
   "cell_type": "markdown",
   "id": "01da05d5",
   "metadata": {},
   "source": [
    "## Introduction to Dynamic Programming \n",
    "\n",
    "* Dynamic programming is a technique for solving multi-stage decision-making problems. \n",
    "\n",
    "* It involves  a sequence of decisions, the object of which is to optimise time, profit, cost, or resources by taking the  correct decision at each stage. \n",
    "\n",
    "* It was first developed by Richard Bellman and others in the 1950s as a management tool. \n",
    "\n",
    "* it has since been applied to production planning, machine scheduling, stock control,  allocation of resources, maintenance and replacement of equipment, investment planning and process design, amongst others. \n"
   ]
  },
  {
   "cell_type": "markdown",
   "id": "c97c979b",
   "metadata": {},
   "source": [
    "## Richard Bellman's Principle of Optimality\n",
    "\n",
    "* Richard Bellman (1920 - 1984) was an American Mathematician who first proposed The Theory of Dynamic Programming in the 1950s (when programming was in its infancy - long before C, C++, C#, Java, Python).\n",
    "\n",
    "* Bellman coined the term 'Curse of Dimensionality' (exponential increase in volume from adding more dimensions to a mathematical space - think of 1D, 2D, 3D). \n",
    "\n",
    "* Alongside Lester Ford Jr, he also published the 'Bellman-Ford Algorithm' for shortest path analysis of graphs - which unlike Edsgar Dijkstra's algorithm - can handle negative weights. Dijkstra's was only engineered to handle non-negative (positive) weights.\n",
    "\n",
    "![Rich_E_Bellman](https://upload.wikimedia.org/wikipedia/en/7/7a/Richard_Ernest_Bellman.jpg)\n",
    "\n",
    "<!--![Theory_of_Dyn_Prog](https://miro.medium.com/v2/resize:fit:1400/format:webp/1*u9pGurRcoGhvgFFs2XEUww.png)-->\n",
    "\n",
    "<img src=\"https://miro.medium.com/v2/resize:fit:1400/format:webp/1*u9pGurRcoGhvgFFs2XEUww.png\" alt=\"theory_dyn_prog\" width=\"450\">  "
   ]
  },
  {
   "cell_type": "markdown",
   "id": "694e97ed",
   "metadata": {},
   "source": [
    "## The principle of optimality: \n",
    "\n",
    "> “In any optimal sequence of decisions or actions, whatever the initial decision or action may be, the remaining decisions or actions must constitute an optimal sequence with regard to the state resulting from the first decision.”\n",
    "> - Richard Bellman "
   ]
  },
  {
   "cell_type": "markdown",
   "id": "876f0281",
   "metadata": {},
   "source": [
    "## Essense of Dynamic Programming \n",
    "\n",
    "* Dynamic programming that is used to solve optimisation problems by dividing the problems into smaller subproblems.\n",
    "\n",
    "* The principle relies on the idea that <b>optimal solutions to complex problems can be constructed from optimal solutions to their subproblems</b>. \n",
    "\n",
    "* Therefore <b>reuse of solutions to subproblems </b>\n",
    "\n",
    "* This recursive nature allows for breaking down large problems into manageable parts.\n",
    "\n",
    "* 'Careful brute force (guessing)'\n",
    "\n"
   ]
  },
  {
   "cell_type": "markdown",
   "id": "9c874d4f",
   "metadata": {},
   "source": [
    "## Top-down DP approach \n",
    "\n",
    "* The 'Top-down approach' is modelled as <b>Memoization with recursion</b>\n",
    "\n",
    "* Stores solved sub-problems in memory (hence the memo-) like caching. \n",
    "\n",
    "* In memoization, the problem is solved recursively by starting from the main problem (top) and breaking it down into smaller sub-problems as needed (going down from the top)\n",
    "\n",
    "* Results of these smaller sub-problems are stored (memoized) to avoid redundant calculations when the same problem is encountered again.\n",
    "\n",
    "* Can then retrieve previously solved problems. Often used in a recursive function."
   ]
  },
  {
   "cell_type": "markdown",
   "id": "05c0761a",
   "metadata": {},
   "source": [
    "## Bottom-up DP approach\n",
    "\n",
    "* The 'Bottom-up approach' is modelled with <b>iteration</b>.\n",
    "\n",
    "* In contrast with the 'top-down' approach, the 'bottom-up' approach starts with smallest subproblem and solves in a predefined order – from smallest to largest.\n",
    "\n",
    "* This approach can also involve a table (tabluation), and stores these solutions to smaller problems to then construct solutions to larger problems, as it builts up iteratively.\n",
    "\n",
    "* This map avoids the function call overhead and stack limitations of recursion. "
   ]
  },
  {
   "cell_type": "markdown",
   "id": "cb717a41",
   "metadata": {},
   "source": [
    "## Top-down vs Bottom-up\n",
    "\n",
    "<!--![top_down_vs_bottom_up](https://techdifferences.com/wp-content/uploads/2018/06/top-down-vs-bottom-up.jpg)-->\n",
    "\n",
    "![top_vs_bottom](https://files.codingninjas.in/article_images/custom-upload-1687254632-4fa85c47.webp)"
   ]
  },
  {
   "cell_type": "markdown",
   "id": "3ff910da",
   "metadata": {},
   "source": [
    "## Fibonnacci numbers example\n",
    "\n",
    "$F(n) = F(n-1) + F(n-2)$    for $n >=2 $ \n",
    "\n",
    "Below is a niave recursive solution: "
   ]
  },
  {
   "cell_type": "code",
   "execution_count": 19,
   "id": "9b1c80f2",
   "metadata": {},
   "outputs": [],
   "source": [
    "fib_naive_count = 0\n",
    "\n",
    "def fib_naive(n):\n",
    "    global fib_naive_count\n",
    "    fib_naive_count += 1 \n",
    "    \n",
    "    if n == 0: \n",
    "        return 0;     #base case F(0) = 0\n",
    "    if n == 1: \n",
    "        return 1;     #base case F(1) = 0\n",
    "    return fib_naive(n - 1) + fib_naive(n - 2);     #recursive call"
   ]
  },
  {
   "cell_type": "code",
   "execution_count": 26,
   "id": "6c4039de",
   "metadata": {},
   "outputs": [
    {
     "name": "stdout",
     "output_type": "stream",
     "text": [
      "f(0) = 0\n",
      "f(1) = 1\n",
      "f(2) = 1\n",
      "f(3) = 2\n",
      "f(4) = 3\n",
      "f(5) = 5\n",
      "f(6) = 8\n",
      "f(7) = 13\n",
      "f(8) = 21\n",
      "f(9) = 34\n",
      "f(10) = 55\n",
      "f(11) = 89\n",
      "f(12) = 144\n",
      "f(13) = 233\n",
      "f(14) = 377\n"
     ]
    }
   ],
   "source": [
    "for i in range (0,15):\n",
    "    print(\"f(\" + str(i) + \") = \" + str( fib_naive(i)))"
   ]
  },
  {
   "cell_type": "code",
   "execution_count": 20,
   "id": "04ad28c0",
   "metadata": {},
   "outputs": [
    {
     "name": "stdout",
     "output_type": "stream",
     "text": [
      "f(0) = 0 - took 1 operations to compute\n",
      "f(1) = 1 - took 1 operations to compute\n",
      "f(2) = 1 - took 3 operations to compute\n",
      "f(3) = 2 - took 5 operations to compute\n",
      "f(4) = 3 - took 9 operations to compute\n",
      "f(5) = 5 - took 15 operations to compute\n",
      "f(6) = 8 - took 25 operations to compute\n",
      "f(7) = 13 - took 41 operations to compute\n",
      "f(8) = 21 - took 67 operations to compute\n",
      "f(9) = 34 - took 109 operations to compute\n",
      "f(10) = 55 - took 177 operations to compute\n",
      "f(11) = 89 - took 287 operations to compute\n",
      "f(12) = 144 - took 465 operations to compute\n",
      "f(13) = 233 - took 753 operations to compute\n",
      "f(14) = 377 - took 1219 operations to compute\n"
     ]
    }
   ],
   "source": [
    "for i in range (0,15):\n",
    "    fib_naive_count = 0\n",
    "    print(\"f(\" + str(i) + \") = \" + str( fib_naive(i))+ \" - took \" + str(fib_naive_count) + \" operations to compute\")"
   ]
  },
  {
   "cell_type": "code",
   "execution_count": 22,
   "id": "0d8d1021",
   "metadata": {},
   "outputs": [
    {
     "name": "stdout",
     "output_type": "stream",
     "text": [
      "f(15) = 610 - took 1973 operations to compute\n",
      "f(16) = 987 - took 3193 operations to compute\n",
      "f(17) = 1597 - took 5167 operations to compute\n",
      "f(18) = 2584 - took 8361 operations to compute\n",
      "f(19) = 4181 - took 13529 operations to compute\n",
      "f(20) = 6765 - took 21891 operations to compute\n",
      "f(21) = 10946 - took 35421 operations to compute\n",
      "f(22) = 17711 - took 57313 operations to compute\n",
      "f(23) = 28657 - took 92735 operations to compute\n",
      "f(24) = 46368 - took 150049 operations to compute\n",
      "f(25) = 75025 - took 242785 operations to compute\n",
      "f(26) = 121393 - took 392835 operations to compute\n",
      "f(27) = 196418 - took 635621 operations to compute\n",
      "f(28) = 317811 - took 1028457 operations to compute\n",
      "f(29) = 514229 - took 1664079 operations to compute\n",
      "f(30) = 832040 - took 2692537 operations to compute\n",
      "f(31) = 1346269 - took 4356617 operations to compute\n",
      "f(32) = 2178309 - took 7049155 operations to compute\n",
      "f(33) = 3524578 - took 11405773 operations to compute\n",
      "f(34) = 5702887 - took 18454929 operations to compute\n",
      "f(35) = 9227465 - took 29860703 operations to compute\n"
     ]
    }
   ],
   "source": [
    "for i in range (15,36):\n",
    "    fib_naive_count = 0\n",
    "    print(\"f(\" + str(i) + \") = \" + str( fib_naive(i))+ \" - took \" + str(fib_naive_count) + \" operations to compute\")"
   ]
  },
  {
   "cell_type": "markdown",
   "id": "b3091335",
   "metadata": {},
   "source": [
    "Question: What is the runtime of this recursive algorithm? "
   ]
  },
  {
   "cell_type": "markdown",
   "id": "f85a04be",
   "metadata": {},
   "source": [
    "The time complexity of this original solution is exponential $O(2^n)$. For each Fibonacci number computed, two recursive calls are made (except for the base cases where $n <= 1$ ), leading to a binary tree of recursive calls with a height of $n$.\n",
    "\n",
    "![Recursive_fib_tree](https://i.sstatic.net/8O0eb.jpg)"
   ]
  },
  {
   "cell_type": "markdown",
   "id": "9146f845",
   "metadata": {},
   "source": [
    "What if we could store fibonacci numbers we've already calculated? \n",
    "\n",
    "<img src=\"https://www.baeldung.com/wp-content/uploads/sites/4/2020/06/Fibonacci-memoization.svg\" alt=\"fib_memo\" width=\"650\">  \n",
    "\n",
    "<!--![fib_memo](https://www.baeldung.com/wp-content/uploads/sites/4/2020/06/Fibonacci-memoization.svg)-->"
   ]
  },
  {
   "cell_type": "markdown",
   "id": "05fb9691",
   "metadata": {},
   "source": [
    "## Memoization (top-down DP approach)\n",
    "\n",
    "* In memoization, the problem is solved recursively by starting from the main problem (top) and breaking it down into smaller sub-problems as needed (going down from the top).\n",
    "\n",
    "* The idea is to <b>solve subproblems once and then store solutions to subproblems in memory</b>.\n",
    "\n",
    "* This then allows the algorithm avoid redundant operations (to re-solve that subproblem) and optimise overall efficiency. \n",
    "\n"
   ]
  },
  {
   "cell_type": "markdown",
   "id": "768e765d",
   "metadata": {},
   "source": [
    "## What is memoization? \n",
    "\n",
    "* Memo pad - to write down solutions (think 'notepad')\n",
    "\n",
    "* To remember\n",
    "\n",
    "* Recycle previously stored problems \n",
    "\n",
    "<img src=\"https://www.choicewholesale.co.uk/cdn/shop/products/2imgmzuxgrz.jpg?v=1671883077\" alt=\"memo_pad\" width=\"150\"> "
   ]
  },
  {
   "cell_type": "markdown",
   "id": "26157b13",
   "metadata": {},
   "source": [
    "## Top-down: Recursion with a memo"
   ]
  },
  {
   "cell_type": "code",
   "execution_count": 25,
   "id": "7571d20f",
   "metadata": {},
   "outputs": [],
   "source": [
    "fib_memo_count = 0\n",
    "\n",
    "def fib_memo(n, memo=None):\n",
    "    global fib_memo_count\n",
    "    fib_memo_count += 1 \n",
    "    \n",
    "    if memo is None:\n",
    "        memo = {}\n",
    "    if n in memo:\n",
    "        return memo[n]\n",
    "    if n <= 0:\n",
    "        return 0\n",
    "    elif n == 1:\n",
    "        return 1\n",
    "    memo[n] = fib_memo(n-1, memo) + fib_memo(n-2, memo)\n",
    "    return memo[n]"
   ]
  },
  {
   "cell_type": "code",
   "execution_count": null,
   "id": "a79f1aa4",
   "metadata": {},
   "outputs": [
    {
     "name": "stdout",
     "output_type": "stream",
     "text": [
      "f(0) = 0 - took 1 operations to compute\n",
      "f(1) = 1 - took 1 operations to compute\n",
      "f(2) = 1 - took 3 operations to compute\n",
      "f(3) = 2 - took 5 operations to compute\n",
      "f(4) = 3 - took 7 operations to compute\n",
      "f(5) = 5 - took 9 operations to compute\n",
      "f(6) = 8 - took 11 operations to compute\n",
      "f(7) = 13 - took 13 operations to compute\n",
      "f(8) = 21 - took 15 operations to compute\n",
      "f(9) = 34 - took 17 operations to compute\n",
      "f(10) = 55 - took 19 operations to compute\n",
      "f(11) = 89 - took 21 operations to compute\n",
      "f(12) = 144 - took 23 operations to compute\n",
      "f(13) = 233 - took 25 operations to compute\n",
      "f(14) = 377 - took 27 operations to compute\n"
     ]
    }
   ],
   "source": [
    "test_values = range(0,15)\n",
    "for i in test_values:\n",
    "    fib_memo_count = 0\n",
    "    print(\"f(\" + str(i) + \") = \" + str( fib_memo(i))+ \" - took \" + str(fib_memo_count) + \" operations to compute\")"
   ]
  },
  {
   "cell_type": "code",
   "execution_count": 26,
   "id": "d1684050",
   "metadata": {},
   "outputs": [
    {
     "name": "stdout",
     "output_type": "stream",
     "text": [
      "f(15) = 610 - took 29 operations to compute\n",
      "f(16) = 987 - took 31 operations to compute\n",
      "f(17) = 1597 - took 33 operations to compute\n",
      "f(18) = 2584 - took 35 operations to compute\n",
      "f(19) = 4181 - took 37 operations to compute\n",
      "f(20) = 6765 - took 39 operations to compute\n",
      "f(21) = 10946 - took 41 operations to compute\n",
      "f(22) = 17711 - took 43 operations to compute\n",
      "f(23) = 28657 - took 45 operations to compute\n",
      "f(24) = 46368 - took 47 operations to compute\n",
      "f(25) = 75025 - took 49 operations to compute\n",
      "f(26) = 121393 - took 51 operations to compute\n",
      "f(27) = 196418 - took 53 operations to compute\n",
      "f(28) = 317811 - took 55 operations to compute\n",
      "f(29) = 514229 - took 57 operations to compute\n",
      "f(30) = 832040 - took 59 operations to compute\n",
      "f(31) = 1346269 - took 61 operations to compute\n",
      "f(32) = 2178309 - took 63 operations to compute\n",
      "f(33) = 3524578 - took 65 operations to compute\n",
      "f(34) = 5702887 - took 67 operations to compute\n"
     ]
    }
   ],
   "source": [
    "test_values = range(15,35)\n",
    "\n",
    "for i in test_values:\n",
    "    fib_memo_count = 0\n",
    "    print(\"f(\" + str(i) + \") = \" + str( fib_memo(i))+ \" - took \" + str(fib_memo_count) + \" operations to compute\")\n"
   ]
  },
  {
   "cell_type": "markdown",
   "id": "2c05f42d",
   "metadata": {},
   "source": [
    "Question: what is the runtime of this algorithm?"
   ]
  },
  {
   "cell_type": "markdown",
   "id": "dad90440",
   "metadata": {},
   "source": [
    "## Recursion optimised with `lru_cache` Decorator!\n",
    "\n",
    "* A 'decorator' is a software engineering 'design pattern' \n",
    "\n",
    "* The Decorator Design Pattern allows behaviour to be dynamically added to an object at runtime without modifying its structure. \n",
    "\n",
    "* Decorators wrap an object, providing additional functionality while maintaining the original interface. \n",
    "\n",
    "* In Python, this pattern is often implemented using higher-order functions or classes, which “decorate” another function or object by adding pre-processing or post-processing behavior.\n",
    "\n",
    "* LRU stands for Last Recently Used.\n",
    "\n",
    "* functools' `lru_cache` 'decorates (wraps) the function with caching behaviour, storing the results of previous calls in a Least Recently Used (LRU) cache. \n",
    "\n",
    "* When the function is called with the same arguments again, the cached result is returned instead of recomputing it."
   ]
  },
  {
   "cell_type": "code",
   "execution_count": 27,
   "id": "68b01704",
   "metadata": {},
   "outputs": [],
   "source": [
    "from functools import lru_cache\n",
    "\n",
    "fib_lru_count = 0 \n",
    "\n",
    "@lru_cache(maxsize=None)\n",
    "def fib_lru(n):\n",
    "    global fib_lru_count\n",
    "    fib_lru_count += 1 \n",
    "    #if n < 0:\n",
    "    #    raise ValueError(\"Fibonacci number is not defined for negative integers.\")\n",
    "    if n == 0:\n",
    "        return 0\n",
    "    if n == 1:\n",
    "        return 1\n",
    "    return fib_lru(n-1) + fib_lru(n-2)"
   ]
  },
  {
   "cell_type": "code",
   "execution_count": 35,
   "id": "fd3b9429",
   "metadata": {},
   "outputs": [
    {
     "name": "stdout",
     "output_type": "stream",
     "text": [
      "f(35) = 9227465\n"
     ]
    }
   ],
   "source": [
    "n = 35\n",
    "print(f\"f({n}) = {fib_lru(n)}\")"
   ]
  },
  {
   "cell_type": "code",
   "execution_count": 28,
   "id": "6b2451a6",
   "metadata": {},
   "outputs": [
    {
     "name": "stdout",
     "output_type": "stream",
     "text": [
      "f(0) = 0 - took 1 operations to compute\n",
      "f(1) = 1 - took 1 operations to compute\n",
      "f(2) = 1 - took 1 operations to compute\n",
      "f(3) = 2 - took 1 operations to compute\n",
      "f(4) = 3 - took 1 operations to compute\n",
      "f(5) = 5 - took 1 operations to compute\n",
      "f(6) = 8 - took 1 operations to compute\n",
      "f(7) = 13 - took 1 operations to compute\n",
      "f(8) = 21 - took 1 operations to compute\n",
      "f(9) = 34 - took 1 operations to compute\n",
      "f(10) = 55 - took 1 operations to compute\n",
      "f(11) = 89 - took 1 operations to compute\n",
      "f(12) = 144 - took 1 operations to compute\n",
      "f(13) = 233 - took 1 operations to compute\n",
      "f(14) = 377 - took 1 operations to compute\n"
     ]
    }
   ],
   "source": [
    "test_values = range(0,15)\n",
    "\n",
    "for i in test_values:\n",
    "    fib_lru_count = 0\n",
    "    print(\"f(\" + str(i) + \") = \" + str( fib_lru(i))+ \" - took \" + str(fib_lru_count) + \" operations to compute\")"
   ]
  },
  {
   "cell_type": "code",
   "execution_count": 29,
   "id": "3c50220b",
   "metadata": {},
   "outputs": [
    {
     "name": "stdout",
     "output_type": "stream",
     "text": [
      "f(15) = 610 - took 1 operations to compute\n",
      "f(16) = 987 - took 1 operations to compute\n",
      "f(17) = 1597 - took 1 operations to compute\n",
      "f(18) = 2584 - took 1 operations to compute\n",
      "f(19) = 4181 - took 1 operations to compute\n",
      "f(20) = 6765 - took 1 operations to compute\n",
      "f(21) = 10946 - took 1 operations to compute\n",
      "f(22) = 17711 - took 1 operations to compute\n",
      "f(23) = 28657 - took 1 operations to compute\n",
      "f(24) = 46368 - took 1 operations to compute\n",
      "f(25) = 75025 - took 1 operations to compute\n",
      "f(26) = 121393 - took 1 operations to compute\n",
      "f(27) = 196418 - took 1 operations to compute\n",
      "f(28) = 317811 - took 1 operations to compute\n",
      "f(29) = 514229 - took 1 operations to compute\n",
      "f(30) = 832040 - took 1 operations to compute\n",
      "f(31) = 1346269 - took 1 operations to compute\n",
      "f(32) = 2178309 - took 1 operations to compute\n",
      "f(33) = 3524578 - took 1 operations to compute\n",
      "f(34) = 5702887 - took 1 operations to compute\n",
      "f(35) = 9227465 - took 1 operations to compute\n"
     ]
    }
   ],
   "source": [
    "test_values = range(15,36)\n",
    "\n",
    "for i in test_values:\n",
    "    fib_lru_count = 0\n",
    "    print(\"f(\" + str(i) + \") = \" + str( fib_lru(i))+ \" - took \" + str(fib_lru_count) + \" operations to compute\")"
   ]
  },
  {
   "cell_type": "markdown",
   "id": "e5232f6b",
   "metadata": {},
   "source": [
    "## Top-Down DP via Memoization\n",
    "\n",
    "* We've just used memoization to store subproblems in a top-down sequence. \n",
    "\n",
    "* We compute solutions from the top by looking up the solved subproblems in our dictionary/cache. \n",
    "\n",
    "* To compute `fib(5)` we know this is `fib(4)` + `fib(3)`, so we look up `fib(4)` and `fib(3)` in our dictionary.\n",
    "\n",
    "<!--![fib_top_down](https://miro.medium.com/v2/format:webp/1*rCch4Ju3PcPPMpvFireFyQ.png)-->\n",
    "\n",
    "<img src=\"https://miro.medium.com/v2/format:webp/1*rCch4Ju3PcPPMpvFireFyQ.png\" alt=\"fib_top_down\" width=\"650\">  "
   ]
  },
  {
   "cell_type": "markdown",
   "id": "f646b50b",
   "metadata": {},
   "source": [
    "## Bottom-up DP with iteration and tabluation\n",
    "\n",
    "* Now let's explore the alternative approach - we'll get the same answer, but the approach is working from the ground up.\n",
    "\n",
    "* Here, for fib(5): \n",
    "\n",
    "    * we would start by computing fib(0) and fib(1), \n",
    "    * then fib(2) - which is fib(1) + fib(0)\n",
    "    * then fib(3) - which is fib(2) + fib(1)\n",
    "    * then fib(4) - which is fib(3) + fib(2)\n",
    "    * then fib(5) - which is fib(4) + fib(3)\n",
    "\n",
    "* However, this achieved by <b>iteration</b> rather than recursion! \n",
    "\n",
    "* We store the last two items in variables (`curr` and `prev`) rather than a full table (more space efficient that the memo dictionary). \n",
    "\n",
    "* This allows for constant space complexity $O(1)$ rather than linear $O(n)$ with a table. \n",
    "\n",
    "<!--![fib_bottom_up](https://miro.medium.com/v2/format:webp/1*9YUE1V0fYhFujaXEcmX3wg.png)-->\n",
    "\n",
    "<img src=\"https://miro.medium.com/v2/format:webp/1*9YUE1V0fYhFujaXEcmX3wg.png\" alt=\"fib_bottom_up\" width=\"650\">  "
   ]
  },
  {
   "cell_type": "markdown",
   "id": "91032335",
   "metadata": {},
   "source": [
    "## Bottom-Up DP via iteration \n",
    "\n",
    "* Much more efficient than recursion! \n",
    "\n",
    "* We store the last two items in variables (`curr` and `prev`) rather than a full table (more space efficient that the memo dictionary). \n",
    "\n",
    "* This allows for constant space complexity $O(1)$ rather than linear $O(n)$ with a table. \n"
   ]
  },
  {
   "cell_type": "code",
   "execution_count": 45,
   "id": "346f0d09",
   "metadata": {},
   "outputs": [],
   "source": [
    "fib_iterative_count = 0 \n",
    "def fib_iterative(n):\n",
    "    #if n < 0:\n",
    "    #    raise ValueError(\"Fibonacci number is not defined for negative integers.\")\n",
    "    global fib_iterative_count\n",
    "    if n == 0:\n",
    "        return 0\n",
    "    if n == 1:\n",
    "        return 1\n",
    "    prev, curr = 0, 1\n",
    "    for _ in range(2, n+1):\n",
    "        fib_iterative_count += 1 \n",
    "        prev, curr = curr, prev + curr\n",
    "    return curr"
   ]
  },
  {
   "cell_type": "markdown",
   "id": "3fc3e6a9",
   "metadata": {},
   "source": [
    "Question: What is the runtime of this iterative algorithm? \n",
    "\n",
    "Hint: How many loops do you see?"
   ]
  },
  {
   "cell_type": "code",
   "execution_count": 39,
   "id": "e0e5f5b7",
   "metadata": {},
   "outputs": [
    {
     "name": "stdout",
     "output_type": "stream",
     "text": [
      "f(35) = 9227465\n"
     ]
    }
   ],
   "source": [
    "n = 35\n",
    "operation_count = 0 \n",
    "print(f\"f({n}) = {fib_iterative(n)}\")"
   ]
  },
  {
   "cell_type": "code",
   "execution_count": null,
   "id": "043e4317",
   "metadata": {},
   "outputs": [
    {
     "name": "stdout",
     "output_type": "stream",
     "text": [
      "f(0) = 0 - took 0 operations to compute\n",
      "f(1) = 1 - took 0 operations to compute\n",
      "f(2) = 1 - took 1 operations to compute\n",
      "f(3) = 2 - took 2 operations to compute\n",
      "f(4) = 3 - took 3 operations to compute\n",
      "f(5) = 5 - took 4 operations to compute\n",
      "f(6) = 8 - took 5 operations to compute\n",
      "f(7) = 13 - took 6 operations to compute\n",
      "f(8) = 21 - took 7 operations to compute\n",
      "f(9) = 34 - took 8 operations to compute\n",
      "f(10) = 55 - took 9 operations to compute\n",
      "f(11) = 89 - took 10 operations to compute\n",
      "f(12) = 144 - took 11 operations to compute\n",
      "f(13) = 233 - took 12 operations to compute\n",
      "f(14) = 377 - took 13 operations to compute\n"
     ]
    }
   ],
   "source": [
    "test_values = range(0,15)\n",
    "for i in test_values:\n",
    "    fib_iterative_count = 0\n",
    "    print(\"f(\" + str(i) + \") = \" + str( fib_iterative(i))+ \" - took \" + str(fib_iterative_count) + \" operations to compute\")"
   ]
  },
  {
   "cell_type": "code",
   "execution_count": null,
   "id": "8ed03b5c",
   "metadata": {},
   "outputs": [],
   "source": [
    "test_values = range(15,36)\n",
    "for i in test_values:\n",
    "    fib_iterative_count = 0\n",
    "    print(\"f(\" + str(i) + \") = \" + str( fib_iterative(i))+ \" - took \" + str(fib_iterative_count) + \" operations to compute\")"
   ]
  },
  {
   "cell_type": "markdown",
   "id": "6392dfd9",
   "metadata": {},
   "source": [
    "## Combining with a DP table \n",
    "\n",
    "* The given iterative Fibonacci implementation is already quite efficient, as it computes the Fibonacci sequence using $O(n)$ time and $O(1)$ space (two variables every time - `prev` and `curr`). \n",
    "\n",
    "* We could further optimise this by combining with a table (tabluation) - storing previously solved subproblems in a table, to prevent starting again all the time! \n",
    "\n",
    "* equivalent of the memo dictionary in top-down\n"
   ]
  },
  {
   "cell_type": "code",
   "execution_count": null,
   "id": "5b6c4fc8",
   "metadata": {},
   "outputs": [],
   "source": [
    "fib_iterative_count = 0\n",
    "\n",
    "def fib_iterative_dp(n):\n",
    "    global fib_iterative_count\n",
    "\n",
    "    # Handle base cases\n",
    "    if n == 0:\n",
    "        return 0\n",
    "    if n == 1:\n",
    "        return 1\n",
    "\n",
    "    # Create a DP table to store Fibonacci values\n",
    "    dp = [0] * (n + 1)\n",
    "    dp[0] = 0\n",
    "    dp[1] = 1\n",
    "\n",
    "    # Fill the DP table iteratively\n",
    "    for i in range(2, n + 1):\n",
    "        fib_iterative_count += 1\n",
    "        dp[i] = dp[i - 1] + dp[i - 2]\n",
    "\n",
    "    return dp[n]"
   ]
  },
  {
   "cell_type": "markdown",
   "id": "c42c44bb",
   "metadata": {},
   "source": [
    "## Time comparison"
   ]
  },
  {
   "cell_type": "markdown",
   "id": "2181899b",
   "metadata": {},
   "source": [
    "### Niave - no optimisation"
   ]
  },
  {
   "cell_type": "code",
   "execution_count": 23,
   "id": "1c14c665",
   "metadata": {},
   "outputs": [],
   "source": [
    "import time"
   ]
  },
  {
   "cell_type": "code",
   "execution_count": 31,
   "id": "77ce729a",
   "metadata": {},
   "outputs": [
    {
     "name": "stdout",
     "output_type": "stream",
     "text": [
      "f(35) = 9227465 computed in 3.2962 seconds\n"
     ]
    }
   ],
   "source": [
    "n = 35\n",
    "start_time = time.time()\n",
    "result = fib_naive(n)\n",
    "end_time = time.time()\n",
    "print(f\"f({n}) = {result} computed in {end_time - start_time:.4f} seconds\")"
   ]
  },
  {
   "cell_type": "markdown",
   "id": "449c536e",
   "metadata": {},
   "source": [
    "### With our own memo explicitly defined"
   ]
  },
  {
   "cell_type": "code",
   "execution_count": 33,
   "id": "7f4f4431",
   "metadata": {},
   "outputs": [
    {
     "name": "stdout",
     "output_type": "stream",
     "text": [
      "f(35) = 9227465 computed in 0.0001 seconds\n"
     ]
    }
   ],
   "source": [
    "n = 35\n",
    "start_time = time.time()\n",
    "result = fib_memo(n)\n",
    "end_time = time.time()\n",
    "print(f\"f({n}) = {result} computed in {end_time - start_time:.4f} seconds\")"
   ]
  },
  {
   "cell_type": "markdown",
   "id": "431c3d92",
   "metadata": {},
   "source": [
    "### Recursion with `lru_cache` decorator"
   ]
  },
  {
   "cell_type": "code",
   "execution_count": 46,
   "id": "570aa22e",
   "metadata": {},
   "outputs": [
    {
     "name": "stdout",
     "output_type": "stream",
     "text": [
      "f(35) = 9227465 computed in 0.000031 seconds\n"
     ]
    }
   ],
   "source": [
    "n = 35\n",
    "start_time = time.time()\n",
    "result = fib_lru(n)\n",
    "end_time = time.time()\n",
    "print(f\"f({n}) = {result} computed in {end_time - start_time:.6f} seconds\")"
   ]
  },
  {
   "cell_type": "markdown",
   "id": "f942a08f",
   "metadata": {},
   "source": [
    "### Fib with Iteration "
   ]
  },
  {
   "cell_type": "code",
   "execution_count": 47,
   "id": "7cd96fdf",
   "metadata": {},
   "outputs": [
    {
     "name": "stdout",
     "output_type": "stream",
     "text": [
      "f(35) = 9227465 computed in 0.000039 seconds\n"
     ]
    }
   ],
   "source": [
    "n = 35\n",
    "start_time = time.time()\n",
    "result = fib_iterative(n)\n",
    "end_time = time.time()\n",
    "print(f\"f({n}) = {result} computed in {end_time - start_time:.6f} seconds\")"
   ]
  },
  {
   "cell_type": "code",
   "execution_count": null,
   "id": "e7ef17b4",
   "metadata": {},
   "outputs": [
    {
     "name": "stdout",
     "output_type": "stream",
     "text": [
      "Niave f(35) = 9227465 computed in 3.2972 seconds\n",
      "Memo: f(35) = 9227465 computed in 0.0000 seconds\n",
      "lru memo: f(35) = 9227465 computed in 0.000025 seconds\n",
      "Iterative f(35) = 9227465 computed in 0.000020 seconds\n"
     ]
    }
   ],
   "source": [
    "n = 35 \n",
    "\n",
    "# Niave: \n",
    "start_time = time.time()\n",
    "result = fib_naive(n)\n",
    "end_time = time.time()\n",
    "print(f\"Niave f({n}) = {result} computed in {end_time - start_time:.4f} seconds\")\n",
    "\n",
    "# Memo: \n",
    "start_time = time.time()\n",
    "result = fib_memo(n)\n",
    "end_time = time.time()\n",
    "print(f\"Memo: f({n}) = {result} computed in {end_time - start_time:.4f} seconds\")\n",
    "\n",
    "# lru memo\n",
    "start_time = time.time()\n",
    "result = fib_lru(n)\n",
    "end_time = time.time()\n",
    "print(f\"lru memo: f({n}) = {result} computed in {end_time - start_time:.6f} seconds\")\n",
    "\n",
    "\n",
    "# Iterative\n",
    "start_time = time.time()\n",
    "result = fib_iterative(n)\n",
    "end_time = time.time()\n",
    "print(f\"Iterative f({n}) = {result} computed in {end_time - start_time:.6f} seconds\")"
   ]
  },
  {
   "cell_type": "markdown",
   "id": "8c58463b",
   "metadata": {},
   "source": [
    "## Fibonnacci numbers can be written as a DAG\n",
    "\n",
    "* Remember the fibonacci formula: \n",
    "$F(n) = F(n-1) + F(n-2)$  \n",
    "\n",
    "* Remember that Topological Sort requires dependencies to be placed later in the sequence so the links always point forward\n",
    "\n",
    "* This be codified as: \n",
    "\n",
    "```\n",
    "          _ _ _ _ _ _\n",
    "       /              \\\n",
    "    F(n-2)   F(n-1) ->  F(n)\n",
    "\n",
    "```"
   ]
  },
  {
   "cell_type": "code",
   "execution_count": 14,
   "id": "2f46e445",
   "metadata": {},
   "outputs": [
    {
     "data": {
      "image/png": "[encoded data removed]",
      "text/plain": [
       "<Figure size 800x600 with 1 Axes>"
      ]
     },
     "metadata": {},
     "output_type": "display_data"
    }
   ],
   "source": [
    "import networkx as nx\n",
    "import matplotlib.pyplot as plt\n",
    "\n",
    "# Function to build the Fibonacci DAG\n",
    "def build_fibonacci_dag(n):\n",
    "    \"\"\"\n",
    "    Build a Directed Acyclic Graph (DAG) representing the Fibonacci sequence up to F(n).\n",
    "    Returns a NetworkX DiGraph.\n",
    "    \"\"\"\n",
    "    dag = nx.DiGraph()\n",
    "    for i in range(2, n + 1):\n",
    "        # Add edges based on dependencies: F(i) -> F(i-1) and F(i-2)\n",
    "        dag.add_edge(f\"F({i-1})\", f\"F({i})\")\n",
    "        dag.add_edge(f\"F({i-2})\", f\"F({i})\")\n",
    "    return dag\n",
    "\n",
    "# Function to visualize the DAG\n",
    "def draw_fibonacci_dag(dag):\n",
    "    \"\"\"\n",
    "    Draw the Fibonacci DAG using NetworkX and Matplotlib.\n",
    "    \"\"\"\n",
    "    pos = nx.spring_layout(dag)  # Layout for positioning nodes\n",
    "    plt.figure(figsize=(8, 6))\n",
    "    nx.draw(\n",
    "        dag,\n",
    "        pos,\n",
    "        with_labels=True,\n",
    "        node_size=3000,\n",
    "        node_color=\"skyblue\",\n",
    "        font_size=10,\n",
    "        font_weight=\"bold\",\n",
    "        edge_color=\"gray\",\n",
    "    )\n",
    "    plt.title(\"Fibonacci DAG\", fontsize=16)\n",
    "    plt.show()\n",
    "\n",
    "# Test the implementation\n",
    "n = 5  # Generate Fibonacci DAG up to F(n)\n",
    "dag = build_fibonacci_dag(n)\n",
    "draw_fibonacci_dag(dag)"
   ]
  },
  {
   "cell_type": "markdown",
   "id": "6dc10b9e",
   "metadata": {},
   "source": [
    "## We can apply Topological Sort (DFS) to DAGs\n",
    "\n",
    "* Topological Sort orders vertices so that each node/vertex appears only after all the nodes pointing to it have appeared. \n",
    "\n",
    "* Topological Sort does not consider edge weights - just connections.\n",
    "\n",
    "* Topological Sort is simply a modification of DFS. Topological sort simply involves running DFS on an entire graph and adding each node to the global ordering of nodes, but only after all of a node's children are visited. \n",
    "\n",
    "* This ensures that parent nodes will be ordered before their child nodes, and honors the forward direction of edges in the ordering.\n",
    "\n",
    "Example: For a graph with 4 nodes and these relations: \n",
    "```\n",
    "a->b\n",
    "a->c \n",
    "b->d \n",
    "c->d \n",
    "```\n",
    "There are two acceptable topological sorts: \n",
    "`a, b, c, d` \n",
    "and `a, c, b, d`\n",
    "\n",
    "<img src=\"https://i.imgur.com/Q3MA6dZ.png\" alt=\"MST\" width=\"850\">  "
   ]
  },
  {
   "cell_type": "markdown",
   "id": "47ded53a",
   "metadata": {},
   "source": [
    "## Fibonnacci numbers as a Topologically Sorted DAG\n",
    "\n",
    "* The fibonacci formula: \n",
    "$F(n) = F(n-1) + F(n-2)$  \n",
    "\n",
    "* This be codified as: \n",
    "\n",
    "```\n",
    "        _ _ _ _ _ _ _ _ _ _ _ _ _\n",
    "      /         /        \\       \\\n",
    "    F(n-3) -> F(n-2) -> F(n-1) ->  F(n)\n",
    "\n",
    "```\n",
    "* For example: \n",
    "```\n",
    "        _ _ _ _ _ _ _ _ _ _ _ _ _ _ _ _ _ _ \n",
    "      /         /        \\        \\         \\\n",
    "    F(1) ->   F(2)  ->   F(3)  ->  F(4)  ->  F(5)\n",
    "\n",
    "```\n"
   ]
  },
  {
   "cell_type": "code",
   "execution_count": 15,
   "id": "694b12d7",
   "metadata": {},
   "outputs": [
    {
     "name": "stdout",
     "output_type": "stream",
     "text": [
      "Topological Order: ['F(0)', 'F(1)', 'F(2)', 'F(3)', 'F(4)', 'F(5)']\n"
     ]
    },
    {
     "data": {
      "image/png": "[encoded data removed]",
      "text/plain": [
       "<Figure size 1000x400 with 1 Axes>"
      ]
     },
     "metadata": {},
     "output_type": "display_data"
    }
   ],
   "source": [
    "import networkx as nx\n",
    "import matplotlib.pyplot as plt\n",
    "from collections import defaultdict, deque\n",
    "\n",
    "# Function to build the Fibonacci DAG\n",
    "def build_fibonacci_dag(n):\n",
    "    \"\"\"\n",
    "    Build a Directed Acyclic Graph (DAG) representing the Fibonacci sequence up to F(n).\n",
    "    Returns a NetworkX DiGraph.\n",
    "    \"\"\"\n",
    "    dag = nx.DiGraph()\n",
    "    for i in range(2, n + 1):\n",
    "        # Add edges based on dependencies: F(i) -> F(i-1) and F(i-2)\n",
    "        dag.add_edge(f\"F({i-1})\", f\"F({i})\")\n",
    "        dag.add_edge(f\"F({i-2})\", f\"F({i})\")\n",
    "    return dag\n",
    "\n",
    "# Function to perform topological sort\n",
    "def topological_sort(dag):\n",
    "    \"\"\"\n",
    "    Perform topological sort on the Fibonacci DAG using Kahn's algorithm.\n",
    "    Ensures F(0) appears first and sorts by Fibonacci index.\n",
    "    Returns a list of nodes in topological order.\n",
    "    \"\"\"\n",
    "    indegree = {node: 0 for node in dag.nodes()}\n",
    "    for u in dag:\n",
    "        for v in dag[u]:\n",
    "            indegree[v] += 1\n",
    "\n",
    "    # Queue for nodes with zero in-degree, sorted lexicographically\n",
    "    queue = deque(sorted([node for node in indegree if indegree[node] == 0]))\n",
    "    topo_order = []\n",
    "\n",
    "    while queue:\n",
    "        node = queue.popleft()\n",
    "        topo_order.append(node)\n",
    "        for neighbor in dag[node]:\n",
    "            indegree[neighbor] -= 1\n",
    "            if indegree[neighbor] == 0:\n",
    "                queue.append(neighbor)\n",
    "                # Sort the queue to ensure correct order\n",
    "                queue = deque(sorted(queue))\n",
    "\n",
    "    return topo_order\n",
    "\n",
    "# Function to draw the topologically sorted Fibonacci DAG\n",
    "def draw_sorted_fibonacci_dag(dag, topo_order):\n",
    "    \"\"\"\n",
    "    Draw the Fibonacci DAG with nodes placed in topological order.\n",
    "    \"\"\"\n",
    "    # Assign positions to nodes based on topological order\n",
    "    pos = {node: (i, 0) for i, node in enumerate(topo_order)}\n",
    "\n",
    "    plt.figure(figsize=(10, 4))\n",
    "    nx.draw(\n",
    "        dag,\n",
    "        pos,\n",
    "        with_labels=True,\n",
    "        node_size=3000,\n",
    "        node_color=\"lightgreen\",\n",
    "        font_size=10,\n",
    "        font_weight=\"bold\",\n",
    "        edge_color=\"gray\",\n",
    "    )\n",
    "    plt.title(\"Topologically Sorted Fibonacci DAG\", fontsize=16)\n",
    "    plt.show()\n",
    "\n",
    "# Test the implementation\n",
    "n = 5  # Generate Fibonacci DAG up to F(n)\n",
    "dag = build_fibonacci_dag(n)\n",
    "topo_order = topological_sort(dag)\n",
    "print(\"Topological Order:\", topo_order)\n",
    "\n",
    "draw_sorted_fibonacci_dag(dag, topo_order)"
   ]
  },
  {
   "cell_type": "markdown",
   "id": "342c1caa",
   "metadata": {},
   "source": [
    "## Technically, the Top Sorted DAG should also have the second dependency drawn: \n",
    "\n",
    "<img src=\"https://miro.medium.com/v2/format:webp/1*9YUE1V0fYhFujaXEcmX3wg.png\" alt=\"fib_bottom_up\" width=\"650\">  "
   ]
  },
  {
   "cell_type": "markdown",
   "id": "ec9a9a13",
   "metadata": {},
   "source": [
    "## Fibonnacci numbers as a Topologically Sorted DAG\n",
    "\n",
    "* The fibonacci formula: \n",
    "$F(n) = F(n-1) + F(n-2)$  \n",
    "\n",
    "* This be codified as: \n",
    "\n",
    "```\n",
    "        _ _ _ _ _ _ _ _ _ _ _ _ _\n",
    "      /         /        \\       \\\n",
    "    F(n-3) -> F(n-2) -> F(n-1) ->  F(n)\n",
    "\n",
    "```\n",
    "* For example: \n",
    "```\n",
    "        _ _ _ _ _ _ _ _ _ _ _ _ _ _ _ _ _ _ \n",
    "      /         /        \\        \\         \\\n",
    "    F(1) ->   F(2)  ->   F(3)  ->  F(4)  ->  F(5)\n",
    "\n",
    "```\n"
   ]
  },
  {
   "cell_type": "markdown",
   "id": "f26892ba",
   "metadata": {},
   "source": [
    "## In DP II, we'll apply this to shortest path problems: \n",
    "\n",
    "* Bellman-Ford \n",
    "\n",
    "* Flloyd-Warshall\n",
    "\n",
    "![top_sort_graph](https://i.sstatic.net/DxJjD.png)"
   ]
  },
  {
   "cell_type": "markdown",
   "id": "35d1da0f",
   "metadata": {},
   "source": [
    "## String problems\n",
    "\n",
    "* Longest Common Subsequence (LCS)\n",
    "\n",
    "* Longest Increasing Subsequence (LIS)\n",
    "\n",
    "* Longest Palindromic Subsequence (LPS)"
   ]
  },
  {
   "cell_type": "markdown",
   "id": "49c68137",
   "metadata": {},
   "source": [
    "## Subproblem definition \n",
    "\n",
    "For sequence S: \n",
    "\n",
    "* prefixes `s[i:]` = $O(n)$\n",
    "\n",
    "* suffixes `s[:i]` = $O(n)$\n",
    "\n",
    "* substrings `s[i:j]` = $O(n^2)$"
   ]
  },
  {
   "cell_type": "markdown",
   "id": "4f4f28f2",
   "metadata": {},
   "source": [
    "## Recurrence relations \n",
    "\n",
    "* Relate subproblems recursively \n",
    "\n",
    "* You might be able to solve each subproblem independently - but how do these relate to solve larger problems?"
   ]
  },
  {
   "cell_type": "markdown",
   "id": "d96bb7ff",
   "metadata": {},
   "source": [
    "## Longest Common Subsequence (LCS)\n",
    "\n",
    "* Take two strings: \n",
    "\n",
    " `A = \"abcd\"`\n",
    "\n",
    " `B = \"bcde\"`\n",
    "\n",
    "* LCS = \"bcd\"\n",
    "\n",
    "\n"
   ]
  },
  {
   "cell_type": "markdown",
   "id": "70119377",
   "metadata": {},
   "source": [
    "## LCS - little bit harder \n",
    "\n",
    "* Take these two strings: \n",
    "\n",
    "`A = \"azbycxd\"`\n",
    "\n",
    "`B = \"bxczdye\"`\n",
    "\n",
    "* LCS still = \"bcd\" \n",
    "\n",
    "* Letters do not have to be consecutive in an LCS - can be separated by other letters\n"
   ]
  },
  {
   "cell_type": "markdown",
   "id": "0b204027",
   "metadata": {},
   "source": [
    "## LCS - harder \n",
    "\n",
    "* Take these two strings: \n",
    "\n",
    "`A = \"hieroglyphology\"`\n",
    "\n",
    "`B = \"michaelangelo\"`\n",
    "\n",
    "* LCS = \"hello\" or \"iello\"\n",
    "\n",
    "* note: heiroglyphics = egyptian writing \n"
   ]
  },
  {
   "cell_type": "markdown",
   "id": "3ce3505e",
   "metadata": {},
   "source": [
    "## So how do we codify the pattern? \n",
    "\n",
    "* "
   ]
  },
  {
   "cell_type": "markdown",
   "id": "542c7f5b",
   "metadata": {},
   "source": [
    "## LCS subproblem DAG \n",
    "\n",
    "`A = \"their\"`\n",
    "\n",
    "`B = \"habit\"`\n"
   ]
  },
  {
   "cell_type": "markdown",
   "id": "cbc014e3",
   "metadata": {},
   "source": [
    "## Top-Down DP with a memo (LCS length):\n",
    "\n",
    "* Find the length of the LCS: "
   ]
  },
  {
   "cell_type": "code",
   "execution_count": 1,
   "id": "eff873c8",
   "metadata": {},
   "outputs": [],
   "source": [
    "def lcs_top_down(X, Y):\n",
    "    n, m = len(X), len(Y)\n",
    "    memo = [[-1] * (m + 1) for _ in range(n + 1)]\n",
    "\n",
    "    def helper(i, j):\n",
    "        if i == 0 or j == 0:\n",
    "            return 0\n",
    "        if memo[i][j] != -1:\n",
    "            return memo[i][j]\n",
    "        if X[i - 1] == Y[j - 1]:\n",
    "            memo[i][j] = 1 + helper(i - 1, j - 1)\n",
    "        else:\n",
    "            memo[i][j] = max(helper(i - 1, j), helper(i, j - 1))\n",
    "        return memo[i][j]\n",
    "\n",
    "    return helper(n, m)\n"
   ]
  },
  {
   "cell_type": "code",
   "execution_count": 2,
   "id": "655bb253",
   "metadata": {},
   "outputs": [
    {
     "name": "stdout",
     "output_type": "stream",
     "text": [
      "LCS Length (Top-Down): 5\n"
     ]
    }
   ],
   "source": [
    "A = \"hieroglyphology\"\n",
    "B = \"michaelangelo\"\n",
    "print(\"LCS Length (Top-Down):\", lcs_top_down(A, B))"
   ]
  },
  {
   "cell_type": "markdown",
   "id": "01bb1189",
   "metadata": {},
   "source": [
    "## Top-Down DP with a memo (LCS contents):\n",
    "\n",
    "* Find the contents of the LCS: "
   ]
  },
  {
   "cell_type": "code",
   "execution_count": 6,
   "id": "e6021e39",
   "metadata": {},
   "outputs": [],
   "source": [
    "def lcs_top_down(X, Y):\n",
    "    n, m = len(X), len(Y)\n",
    "    memo = [[-1] * (m + 1) for _ in range(n + 1)]\n",
    "\n",
    "    def helper(i, j):\n",
    "        # Base case: if either string is empty, LCS is empty\n",
    "        if i == 0 or j == 0:\n",
    "            return 0, \"\"\n",
    "\n",
    "        # If the result is already computed, return it\n",
    "        if memo[i][j] != -1:\n",
    "            return memo[i][j]\n",
    "\n",
    "        if X[i - 1] == Y[j - 1]:\n",
    "            # Characters match, include this character in the LCS\n",
    "            lcs_length, lcs_subsequence = helper(i - 1, j - 1)\n",
    "            memo[i][j] = (lcs_length + 1, lcs_subsequence + X[i - 1])\n",
    "        else:\n",
    "            # Characters don't match, take the maximum length path\n",
    "            lcs1_length, lcs1_subsequence = helper(i - 1, j)\n",
    "            lcs2_length, lcs2_subsequence = helper(i, j - 1)\n",
    "            if lcs1_length > lcs2_length:\n",
    "                memo[i][j] = (lcs1_length, lcs1_subsequence)\n",
    "            else:\n",
    "                memo[i][j] = (lcs2_length, lcs2_subsequence)\n",
    "\n",
    "        return memo[i][j]\n",
    "\n",
    "    # Call the helper and extract the subsequence\n",
    "    lcs_length, lcs_subsequence = helper(n, m)\n",
    "    return lcs_length, lcs_subsequence\n"
   ]
  },
  {
   "cell_type": "code",
   "execution_count": 7,
   "id": "3c5a02c8",
   "metadata": {},
   "outputs": [
    {
     "name": "stdout",
     "output_type": "stream",
     "text": [
      "LCS Length (Top-Down): 5\n",
      "LCS (Top-Down): iello\n"
     ]
    }
   ],
   "source": [
    "A = \"hieroglyphology\"\n",
    "B = \"michaelangelo\"\n",
    "lcs_length, lcs_subsequence = lcs_top_down(A, B)\n",
    "print(\"LCS Length (Top-Down):\", lcs_length)\n",
    "print(\"LCS (Top-Down):\", lcs_subsequence)"
   ]
  },
  {
   "cell_type": "markdown",
   "id": "c7760fdd",
   "metadata": {},
   "source": [
    "## Bottom-Up DP with iteration (LCS length):\n",
    "\n",
    "* Find the length of the LCS: "
   ]
  },
  {
   "cell_type": "code",
   "execution_count": 3,
   "id": "c87e12e7",
   "metadata": {},
   "outputs": [],
   "source": [
    "def lcs_bottom_up(X, Y):\n",
    "    n, m = len(X), len(Y)\n",
    "    dp = [[0] * (m + 1) for _ in range(n + 1)]\n",
    "\n",
    "    for i in range(1, n + 1):\n",
    "        for j in range(1, m + 1):\n",
    "            if X[i - 1] == Y[j - 1]:\n",
    "                dp[i][j] = 1 + dp[i - 1][j - 1]\n",
    "            else:\n",
    "                dp[i][j] = max(dp[i - 1][j], dp[i][j - 1])\n",
    "\n",
    "    return dp[n][m]\n"
   ]
  },
  {
   "cell_type": "code",
   "execution_count": 4,
   "id": "514c4f1b",
   "metadata": {},
   "outputs": [
    {
     "name": "stdout",
     "output_type": "stream",
     "text": [
      "LCS Length (Bottom-Up): 5\n"
     ]
    }
   ],
   "source": [
    "A = \"hieroglyphology\"\n",
    "B = \"michaelangelo\"\n",
    "print(\"LCS Length (Bottom-Up):\", lcs_bottom_up(A, B))"
   ]
  },
  {
   "cell_type": "markdown",
   "id": "43146bd4",
   "metadata": {},
   "source": [
    "## Bottom-Up DP with iteration (LCS contents):\n",
    "\n",
    "* Find the contents of the LCS: "
   ]
  },
  {
   "cell_type": "code",
   "execution_count": 8,
   "id": "ec3bf530",
   "metadata": {},
   "outputs": [],
   "source": [
    "def lcs_bottom_up(X, Y):\n",
    "    n, m = len(X), len(Y)\n",
    "    dp = [[0] * (m + 1) for _ in range(n + 1)]\n",
    "\n",
    "    # Fill the DP table\n",
    "    for i in range(1, n + 1):\n",
    "        for j in range(1, m + 1):\n",
    "            if X[i - 1] == Y[j - 1]:\n",
    "                dp[i][j] = 1 + dp[i - 1][j - 1]\n",
    "            else:\n",
    "                dp[i][j] = max(dp[i - 1][j], dp[i][j - 1])\n",
    "\n",
    "    # Reconstruct the LCS from the DP table\n",
    "    lcs = []\n",
    "    i, j = n, m\n",
    "    while i > 0 and j > 0:\n",
    "        if X[i - 1] == Y[j - 1]:\n",
    "            # If the characters match, include them in the LCS\n",
    "            lcs.append(X[i - 1])\n",
    "            i -= 1\n",
    "            j -= 1\n",
    "        elif dp[i - 1][j] > dp[i][j - 1]:\n",
    "            # Move in the direction of the larger value\n",
    "            i -= 1\n",
    "        else:\n",
    "            j -= 1\n",
    "\n",
    "    # Reverse the list to get the LCS in the correct order\n",
    "    lcs.reverse()\n",
    "    return dp[n][m], ''.join(lcs)\n"
   ]
  },
  {
   "cell_type": "code",
   "execution_count": 9,
   "id": "2d647efb",
   "metadata": {},
   "outputs": [
    {
     "name": "stdout",
     "output_type": "stream",
     "text": [
      "LCS Length (Bottom-Up): 5\n",
      "LCS (Bottom-Up): iello\n"
     ]
    }
   ],
   "source": [
    "A = \"hieroglyphology\"\n",
    "B = \"michaelangelo\"\n",
    "lcs_length, lcs_subsequence = lcs_bottom_up(A, B)\n",
    "print(\"LCS Length (Bottom-Up):\", lcs_length)\n",
    "print(\"LCS (Bottom-Up):\", lcs_subsequence)"
   ]
  },
  {
   "cell_type": "markdown",
   "id": "80727f6f",
   "metadata": {},
   "source": [
    "## Coin Change \n",
    "\n",
    "* a \n",
    "\n",
    "* a"
   ]
  },
  {
   "cell_type": "markdown",
   "id": "291da68a",
   "metadata": {},
   "source": [
    "## Summary \n",
    "\n",
    "* The style of Dynamic Programming - reusing solutions to subproblems - was first proposed by Richard Bellman. \n",
    "\n",
    "* <b>Top-down approach</b> (Memoization with recursion)\n",
    "   \n",
    "* <b>Bottom-down approach</b>: (Tabulation with iteration)\n",
    "\n",
    "* Topological Sort on DAGs\n",
    "\n",
    "* String problems can be solved via DP"
   ]
  },
  {
   "cell_type": "markdown",
   "id": "ff29b4f5",
   "metadata": {},
   "source": [
    "## Exercise \n",
    "\n",
    "You are given a rod of length $n$ and a table of prices that includes the selling price for rods of length  $1, 2, ..., n$. \n",
    "\n",
    "Your task is to determine the maximum revenue that can be obtained by cutting the rod into smaller pieces and selling them. You can make as many cuts as you want, and the order of the pieces doesn’t matter.\n",
    "\n",
    "Input:\n",
    "Rod length  $n = 8$ , prices = `[1, 5, 8, 9, 10, 17, 17, 20]`.\n",
    "\n",
    "Output:\n",
    "Maximum revenue = 22.\n",
    "(One possible way to achieve this: cut the rod into two pieces of lengths  2  and  6 , with prices  5 + 17 = 22 )."
   ]
  },
  {
   "cell_type": "code",
   "execution_count": 13,
   "id": "616c4bf5",
   "metadata": {},
   "outputs": [],
   "source": [
    "def rod_cutting(n, prices):\n",
    "    ..."
   ]
  },
  {
   "cell_type": "code",
   "execution_count": 12,
   "id": "b78d6803",
   "metadata": {},
   "outputs": [
    {
     "name": "stdout",
     "output_type": "stream",
     "text": [
      "Maximum Revenue: 22\n"
     ]
    }
   ],
   "source": [
    "n = 8\n",
    "prices = [1, 5, 8, 9, 10, 17, 17, 20]\n",
    "print(\"Maximum Revenue:\", rod_cutting(n, prices))  "
   ]
  },
  {
   "cell_type": "markdown",
   "id": "ec8b0a33",
   "metadata": {},
   "source": [
    "## Exercise \n",
    "\n",
    "Given the maximum weight that a knapsack (or rucksack / backpack) can hold, write a function which will determin the most valuable subset of items that can be included in the rucksack without exceeding its weight limit. \n",
    "\n",
    "Inputs will be: \n",
    "*   $W$ (the max weight the rucksack can hold)\n",
    "*   $n$ (number of items)\n",
    "*   The weights and values of the items (as a list)\n",
    "\n",
    "Input:\n",
    "* n = 4 ,  W = 7 ,\n",
    "* weights = [1, 3, 4, 5] ,\n",
    "* values = [1, 4, 5, 7] .\n",
    "\n",
    "Output:\n",
    "Maximum Value =  9 .\n"
   ]
  },
  {
   "cell_type": "code",
   "execution_count": null,
   "id": "cc8e66bb",
   "metadata": {},
   "outputs": [],
   "source": [
    "def knapsack(n, W, weights, values):\n",
    "    ..."
   ]
  },
  {
   "cell_type": "code",
   "execution_count": null,
   "id": "8c818b80",
   "metadata": {},
   "outputs": [
    {
     "name": "stdout",
     "output_type": "stream",
     "text": [
      "Maximum Value: 9\n"
     ]
    }
   ],
   "source": [
    "n = 4\n",
    "W = 7\n",
    "weights = [1, 3, 4, 5]\n",
    "values = [1, 4, 5, 7]\n",
    "\n",
    "print(\"Maximum Value:\", knapsack(n, W, weights, values))  # Output: 9"
   ]
  },
  {
   "cell_type": "markdown",
   "id": "5c8ea0c6",
   "metadata": {},
   "source": [
    "Extension on the knapsack exercise: now code your function to return the items which constitute the maximum value. "
   ]
  },
  {
   "cell_type": "code",
   "execution_count": null,
   "id": "108a881e",
   "metadata": {},
   "outputs": [],
   "source": [
    "# Amend the knapsack function above."
   ]
  },
  {
   "cell_type": "markdown",
   "id": "8660f435",
   "metadata": {},
   "source": [
    "## Exercise\n",
    "\n",
    "Remember that function you wrote in the first notebook to check if a given string is a palindrome (same word forwards as backwards)? Examples of palindromes include 'eve', 'madam', 'racecar' etc.\n",
    "\n",
    "If you didn't write this function, then now is your chance to solve this! \n",
    "\n",
    "If you did write a function in the first week then here's your chance to extend this with dynamic programming: Given a string `s`, find the longest contiguous substring of `s` that is a palindrome.\n",
    "\n",
    "\n"
   ]
  },
  {
   "cell_type": "code",
   "execution_count": null,
   "id": "0fd52420",
   "metadata": {},
   "outputs": [],
   "source": [
    "def longest_palindromic_substring(s):\n",
    "    ..."
   ]
  },
  {
   "cell_type": "code",
   "execution_count": 2,
   "id": "7acd1ade",
   "metadata": {},
   "outputs": [
    {
     "name": "stdout",
     "output_type": "stream",
     "text": [
      "aba\n"
     ]
    }
   ],
   "source": [
    "s = \"babad\"\n",
    "print(longest_palindromic_substring(s))\n"
   ]
  },
  {
   "cell_type": "code",
   "execution_count": 4,
   "id": "13de548c",
   "metadata": {},
   "outputs": [
    {
     "name": "stdout",
     "output_type": "stream",
     "text": [
      "eve\n"
     ]
    }
   ],
   "source": [
    "s = \"esthereven\"\n",
    "print(longest_palindromic_substring(s))"
   ]
  },
  {
   "cell_type": "code",
   "execution_count": 5,
   "id": "25389e9b",
   "metadata": {},
   "outputs": [
    {
     "name": "stdout",
     "output_type": "stream",
     "text": [
      "racecar\n"
     ]
    }
   ],
   "source": [
    "s = \"racecar\"\n",
    "print(longest_palindromic_substring(s))"
   ]
  },
  {
   "cell_type": "markdown",
   "id": "09bb7118",
   "metadata": {},
   "source": [
    "## Exercise\n",
    "\n",
    "Given two sequences, use dynamic programming to find the length of the longest common subsequences (LCS) present in both of them. \n",
    "\n",
    "For example:   \n",
    "`x = \"AGGTAB\"`  \n",
    "`y = \"GXTXAYB\"`\n",
    "\n",
    "Length of `LCS = 4`  \n",
    "(The LCS is `\"GTAB\"`.)\n"
   ]
  },
  {
   "cell_type": "code",
   "execution_count": null,
   "id": "50d71d94",
   "metadata": {},
   "outputs": [],
   "source": [
    "def longest_common_subsequence(X, Y):\n",
    "    ...\n"
   ]
  },
  {
   "cell_type": "code",
   "execution_count": 9,
   "id": "22ea0f89",
   "metadata": {},
   "outputs": [
    {
     "name": "stdout",
     "output_type": "stream",
     "text": [
      "Length of LCS: 4\n"
     ]
    }
   ],
   "source": [
    "X = \"AGGTZABA\"\n",
    "Y = \"GXRTXAYBT\"\n",
    "print(\"Length of LCS:\", longest_common_subsequence(X, Y))"
   ]
  },
  {
   "cell_type": "markdown",
   "id": "a4d7a164",
   "metadata": {},
   "source": [
    "## Exercise\n",
    "\n",
    "Given a positive integer $n$, determine the number of ways to partition $n$ as a sum of positive integers. Each partition is a unique way of expressing $n$ as a sum where the order of addends does not matter.\n",
    "\n",
    "Input:\n",
    "n = 5 \n",
    "\n",
    "Output:\n",
    "7\n",
    "\n",
    "The partitions of 5 are:\n",
    "1.\t $5$ \n",
    "2.\t $4 + 1$ \n",
    "3.\t $3 + 2$ \n",
    "4.\t $3 + 1 + 1$ \n",
    "5.\t $2 + 2 + 1$ \n",
    "6.\t $2 + 1 + 1 + 1$ \n",
    "7.\t $1 + 1 + 1 + 1 + 1$ \n"
   ]
  },
  {
   "cell_type": "code",
   "execution_count": null,
   "id": "2fb5480b",
   "metadata": {},
   "outputs": [],
   "source": [
    "def partition_count(n):\n",
    "    ...\n"
   ]
  },
  {
   "cell_type": "code",
   "execution_count": 17,
   "id": "11205d7f",
   "metadata": {},
   "outputs": [
    {
     "name": "stdout",
     "output_type": "stream",
     "text": [
      "Number of partitions: 7\n"
     ]
    }
   ],
   "source": [
    "n = 5\n",
    "print(\"Number of partitions:\", partition_count(n))  # Output: 7"
   ]
  },
  {
   "cell_type": "markdown",
   "id": "78bb9dd8",
   "metadata": {},
   "source": [
    "Extension: If you used a 2D DP Table for your answer above, now write the solution as a 1D DP array. "
   ]
  },
  {
   "cell_type": "code",
   "execution_count": null,
   "id": "4ad938ff",
   "metadata": {},
   "outputs": [],
   "source": [
    "# Make a copy of your function here and optimise this. "
   ]
  },
  {
   "cell_type": "markdown",
   "id": "9d70cf7e",
   "metadata": {},
   "source": [
    "## Exercise \n",
    "\n",
    "Given a directed graph $G$ with $n$ nodes and $m$ edges, each edge $(u, v)$ has a capacity $c(u, v)$. Determine the maximum possible flow from a source $s$ to a sink $t$, such that the maximum flow through any single edge is minimized.\n",
    "\n",
    "This problem minimizes the “bottleneck” of the network, ensuring that no single edge carries an excessive amount of the flow."
   ]
  },
  {
   "cell_type": "code",
   "execution_count": null,
   "id": "b9e342f7",
   "metadata": {},
   "outputs": [],
   "source": []
  },
  {
   "cell_type": "markdown",
   "id": "1869abe2",
   "metadata": {},
   "source": [
    "## Exericse\n",
    "\n",
    "Given a flow network, find a path from $s$ to $t$ such that the minimum edge capacity along the path is maximized.\n",
    "\n",
    "Given a directed graph $G$ with $n$ nodes and $m$ edges, find the maximum flow $F$ from source $s$ to sink $t$, such that the minimum flow through any edge in the solution is maximized.\n",
    "\n",
    "Extension: This problem maximizes the smallest amount of flow on any edge used in the final flow, ensuring a “balanced” distribution of flow across the network."
   ]
  },
  {
   "cell_type": "markdown",
   "id": "01807dbd",
   "metadata": {},
   "source": []
  },
  {
   "cell_type": "markdown",
   "id": "d0854592",
   "metadata": {},
   "source": [
    "## Exercise (Towers of Hanoi)\n",
    "\n",
    "Towers of Hanoi is a mathematical puzzle consisting of three rods and a number of disks of different sizes. The puzzle starts with the disks neatly stacked in ascending order of size on one rod, the smallest at the top, making a conical shape. The objective is to move the entire stack to another rod, following these simple rules:\n",
    "\n",
    "1.\tOnly one disk can be moved at a time.\n",
    "\n",
    "2.\tEach move consists of taking the upper disk from one of the stacks and placing it on top of another stack or on an empty rod.\n",
    "\n",
    "3.\tNo larger disk may be placed on top of a smaller disk.\n",
    "\n",
    "![towers_3_gif](https://www.tutorialspoint.com/data_structures_algorithms/images/tower_of_hanoi.gif)\n",
    "\n",
    "Task: First write a recursive algorithm to solve the Towers of Hanoi for $n$ disks. Then compare this recursive solution to an iterative algorithm that it will also work for $n$ disks. What do you notice? Which is more efficient as $n$ grows?\n",
    "\n",
    "Extension: Is it possible to apply dynamic programming principles to write a more efficient solution? If is not possible, explain why.\n"
   ]
  },
  {
   "cell_type": "code",
   "execution_count": null,
   "id": "b189b863",
   "metadata": {},
   "outputs": [],
   "source": []
  },
  {
   "cell_type": "markdown",
   "id": "2955784e",
   "metadata": {},
   "source": [
    "## Floyd-Warshall Algorithm - all pairs shortest paths\n",
    "\n"
   ]
  },
  {
   "cell_type": "markdown",
   "id": "6027b14f",
   "metadata": {},
   "source": [
    "Floyd Warshall algorithm - all-pairs shortest paths\n",
    "* This is a dynamic programming approach to build up the solution for the shortest paths step by step. \n",
    "* It considers each pair of vertices and iteratively improves the path between them by considering each possible intermediate vertex.\n",
    "*\n",
    "* Step 1. Initialization: \n",
    "*   Create a 2D array dist where dist[i][j] represents the shortest distance from vertex i to vertex j. \n",
    "*   Initialize dist[i][j] to the weight of the edge from i to j if it exists, otherwise to infinity. \n",
    "*   Set dist[i][i] = 0 for all vertices i.\n",
    "*\n",
    "* Step 2. Dynamic Programming:  \n",
    "*   Update the distance array dist by considering each vertex as an intermediate vertex and \n",
    "*   updating the shortest paths accordingly. For each pair of vertices (i, j), update dist[i][j].\n",
    "*\n",
    "* Step 3. Result: \n",
    "*   After considering all vertices as intermediate vertices, the dist array contains the \n",
    "*   shortest paths between all pairs of vertices.\n",
    "*\n",
    "*\n",
    "*/\n"
   ]
  }
 ],
 "metadata": {
  "colab": {
   "provenance": []
  },
  "kernelspec": {
   "display_name": "Python 3",
   "language": "python",
   "name": "python3"
  },
  "language_info": {
   "codemirror_mode": {
    "name": "ipython",
    "version": 3
   },
   "file_extension": ".py",
   "mimetype": "text/x-python",
   "name": "python",
   "nbconvert_exporter": "python",
   "pygments_lexer": "ipython3",
   "version": "3.9.6"
  }
 },
 "nbformat": 4,
 "nbformat_minor": 5
}
