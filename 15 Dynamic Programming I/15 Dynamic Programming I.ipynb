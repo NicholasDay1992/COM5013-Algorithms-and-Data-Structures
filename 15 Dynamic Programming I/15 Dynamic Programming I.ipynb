{
 "cells": [
  {
   "cell_type": "markdown",
   "id": "1eba3b72",
   "metadata": {
    "id": "1eba3b72"
   },
   "source": [
    "# 15 Dynamic Programming I"
   ]
  },
  {
   "cell_type": "markdown",
   "id": "57bc8bf6",
   "metadata": {},
   "source": [
    "## Plan for the Lecture\n",
    "\n",
    "1. Origins of DP - Richard Bellman's principle of optimality\n",
    "\n",
    "2. Top-down (Memoization) vs (bottom-up) tabulation strategies\n",
    "\n",
    "4. Shortest Paths and Topological Sort \n",
    "\n",
    "4. Network Flow - maximin and minimax "
   ]
  },
  {
   "cell_type": "markdown",
   "id": "c334d8c4",
   "metadata": {},
   "source": [
    "## Styles of Programming: \n",
    "\n",
    "* Dijkstra's algorithm was an example of a 'greedy' algorithm. Local choices over 'global' choices. \n",
    "\n",
    "* We've also seen the 'Divide and Conquer' style of programming - logarithmic principles. \n",
    "\n",
    "* Dynamic Programming is another style of programming - reuse of subproblems where they overlap. "
   ]
  },
  {
   "cell_type": "markdown",
   "id": "01da05d5",
   "metadata": {},
   "source": [
    "## Introduction to Dynamic Programming \n",
    "\n",
    "* Dynamic programming is a technique for solving multi-stage decision-making problems. \n",
    "\n",
    "* It involves  a sequence of decisions, the object of which is to optimise time, profit, cost, or resources by taking the  correct decision at each stage. \n",
    "\n",
    "* It was first developed by Richard Bellman and others in the 1950s as a management tool. \n",
    "\n",
    "* it has since been applied to production planning, machine scheduling, stock control,  allocation of resources, maintenance and replacement of equipment, investment planning and process design, amongst others. \n"
   ]
  },
  {
   "cell_type": "markdown",
   "id": "c97c979b",
   "metadata": {},
   "source": [
    "## Richard Bellman's Principle of Optimality\n",
    "\n",
    "* Richard Bellman (1920 - 1984) was an American Mathematician who first proposed The Theory of Dynamic Programming in the 1950s (when programming was in its infancy - long before C, C++, C#, Java, Python).\n",
    "\n",
    "* Bellman coined the term 'Curse of Dimensionality' (exponential increase in volume from adding more dimensions to a mathematical space - think of 1D, 2D, 3D). \n",
    "\n",
    "* Alongside Lester Ford Jr, he also published the 'Bellman-Ford Algorithm' for shortest path analysis of graphs - which unlike Edsgar Dijkstra's algorithm - can handle negative weights. Dijkstra's was only engineered to handle non-negative (positive) weights.\n",
    "\n",
    "![Rich_E_Bellman](https://upload.wikimedia.org/wikipedia/en/7/7a/Richard_Ernest_Bellman.jpg)\n",
    "\n",
    "<!--![Theory_of_Dyn_Prog](https://miro.medium.com/v2/resize:fit:1400/format:webp/1*u9pGurRcoGhvgFFs2XEUww.png)-->\n",
    "\n",
    "<img src=\"https://miro.medium.com/v2/resize:fit:1400/format:webp/1*u9pGurRcoGhvgFFs2XEUww.png\" alt=\"theory_dyn_prog\" width=\"450\">  "
   ]
  },
  {
   "cell_type": "markdown",
   "id": "694e97ed",
   "metadata": {},
   "source": [
    "## The principle of optimality: \n",
    "\n",
    "> “In any optimal sequence of decisions or actions, whatever the initial decision or action may be, the remaining decisions or actions must constitute an optimal sequence with regard to the state resulting from the first decision.”\n",
    "> - Richard Bellman "
   ]
  },
  {
   "cell_type": "markdown",
   "id": "876f0281",
   "metadata": {},
   "source": [
    "## Essense of Dynamic Programming \n",
    "\n",
    "* Dynamic programming that is used to solve optimisation problems by dividing the problems into smaller subproblems.\n",
    "\n",
    "* The principle relies on the idea that <b>optimal solutions to complex problems can be constructed from optimal solutions to their subproblems</b>. \n",
    "\n",
    "* Therefore <b>reuse of solutions to subproblems </b>\n",
    "\n",
    "* This recursive nature allows for breaking down large problems into manageable parts.\n",
    "\n"
   ]
  },
  {
   "cell_type": "markdown",
   "id": "9c874d4f",
   "metadata": {},
   "source": [
    "## Top-down DP approach \n",
    "\n",
    "* The 'Top-down approach' is modelled as <b>Memoization with recursion</b>\n",
    "\n",
    "* Stores solved problems in memory (hence the memo-) like caching. \n",
    "\n",
    "* Can then retrieve previously solved problems. Often used in a recursive function."
   ]
  },
  {
   "cell_type": "markdown",
   "id": "05c0761a",
   "metadata": {},
   "source": [
    "## Bottom-up DP approach\n",
    "\n",
    "* The 'Bottom-down approach' is modelled as <b>Tabulation (or table) with iteration</b>\n",
    "\n",
    "* Starts with smallest subproblem and solves in a predefined order – from smallest to largest. \n",
    "\n",
    "* Stores solutions in a table (hence the tablu- prefix) and then uses them to solve larger subproblems. \n",
    "\n",
    "* This map avoids the function call overhead and stack limitations of recursion. "
   ]
  },
  {
   "cell_type": "markdown",
   "id": "cb717a41",
   "metadata": {},
   "source": [
    "## Top-down vs Bottom-up\n",
    "\n",
    "![top_down_vs_bottom_up](https://techdifferences.com/wp-content/uploads/2018/06/top-down-vs-bottom-up.jpg)"
   ]
  },
  {
   "cell_type": "markdown",
   "id": "3ff910da",
   "metadata": {},
   "source": [
    "## Fibonnacci numbers example\n",
    "\n",
    "$F(n) = F(n-1) + F(n-2)$    for $n >=2 $ \n",
    "\n",
    "Below is a niave recursive solution: "
   ]
  },
  {
   "cell_type": "code",
   "execution_count": 19,
   "id": "9b1c80f2",
   "metadata": {},
   "outputs": [],
   "source": [
    "fib_naive_count = 0\n",
    "\n",
    "def fib_naive(n):\n",
    "    global fib_naive_count\n",
    "    fib_naive_count += 1 \n",
    "    \n",
    "    if n == 0: \n",
    "        return 0;     #base case F(0) = 0\n",
    "    if n == 1: \n",
    "        return 1;     #base case F(1) = 0\n",
    "    return fib_naive(n - 1) + fib_naive(n - 2);     #recursive call"
   ]
  },
  {
   "cell_type": "code",
   "execution_count": 26,
   "id": "6c4039de",
   "metadata": {},
   "outputs": [
    {
     "name": "stdout",
     "output_type": "stream",
     "text": [
      "f(0) = 0\n",
      "f(1) = 1\n",
      "f(2) = 1\n",
      "f(3) = 2\n",
      "f(4) = 3\n",
      "f(5) = 5\n",
      "f(6) = 8\n",
      "f(7) = 13\n",
      "f(8) = 21\n",
      "f(9) = 34\n",
      "f(10) = 55\n",
      "f(11) = 89\n",
      "f(12) = 144\n",
      "f(13) = 233\n",
      "f(14) = 377\n"
     ]
    }
   ],
   "source": [
    "for i in range (0,15):\n",
    "    print(\"f(\" + str(i) + \") = \" + str( fib_naive(i)))"
   ]
  },
  {
   "cell_type": "code",
   "execution_count": 20,
   "id": "04ad28c0",
   "metadata": {},
   "outputs": [
    {
     "name": "stdout",
     "output_type": "stream",
     "text": [
      "f(0) = 0 - took 1 operations to compute\n",
      "f(1) = 1 - took 1 operations to compute\n",
      "f(2) = 1 - took 3 operations to compute\n",
      "f(3) = 2 - took 5 operations to compute\n",
      "f(4) = 3 - took 9 operations to compute\n",
      "f(5) = 5 - took 15 operations to compute\n",
      "f(6) = 8 - took 25 operations to compute\n",
      "f(7) = 13 - took 41 operations to compute\n",
      "f(8) = 21 - took 67 operations to compute\n",
      "f(9) = 34 - took 109 operations to compute\n",
      "f(10) = 55 - took 177 operations to compute\n",
      "f(11) = 89 - took 287 operations to compute\n",
      "f(12) = 144 - took 465 operations to compute\n",
      "f(13) = 233 - took 753 operations to compute\n",
      "f(14) = 377 - took 1219 operations to compute\n"
     ]
    }
   ],
   "source": [
    "for i in range (0,15):\n",
    "    fib_naive_count = 0\n",
    "    print(\"f(\" + str(i) + \") = \" + str( fib_naive(i))+ \" - took \" + str(fib_naive_count) + \" operations to compute\")"
   ]
  },
  {
   "cell_type": "code",
   "execution_count": 22,
   "id": "0d8d1021",
   "metadata": {},
   "outputs": [
    {
     "name": "stdout",
     "output_type": "stream",
     "text": [
      "f(15) = 610 - took 1973 operations to compute\n",
      "f(16) = 987 - took 3193 operations to compute\n",
      "f(17) = 1597 - took 5167 operations to compute\n",
      "f(18) = 2584 - took 8361 operations to compute\n",
      "f(19) = 4181 - took 13529 operations to compute\n",
      "f(20) = 6765 - took 21891 operations to compute\n",
      "f(21) = 10946 - took 35421 operations to compute\n",
      "f(22) = 17711 - took 57313 operations to compute\n",
      "f(23) = 28657 - took 92735 operations to compute\n",
      "f(24) = 46368 - took 150049 operations to compute\n",
      "f(25) = 75025 - took 242785 operations to compute\n",
      "f(26) = 121393 - took 392835 operations to compute\n",
      "f(27) = 196418 - took 635621 operations to compute\n",
      "f(28) = 317811 - took 1028457 operations to compute\n",
      "f(29) = 514229 - took 1664079 operations to compute\n",
      "f(30) = 832040 - took 2692537 operations to compute\n",
      "f(31) = 1346269 - took 4356617 operations to compute\n",
      "f(32) = 2178309 - took 7049155 operations to compute\n",
      "f(33) = 3524578 - took 11405773 operations to compute\n",
      "f(34) = 5702887 - took 18454929 operations to compute\n",
      "f(35) = 9227465 - took 29860703 operations to compute\n"
     ]
    }
   ],
   "source": [
    "for i in range (15,36):\n",
    "    fib_naive_count = 0\n",
    "    print(\"f(\" + str(i) + \") = \" + str( fib_naive(i))+ \" - took \" + str(fib_naive_count) + \" operations to compute\")"
   ]
  },
  {
   "cell_type": "markdown",
   "id": "b3091335",
   "metadata": {},
   "source": [
    "Question: What is the runtime of this recursive algorithm? "
   ]
  },
  {
   "cell_type": "markdown",
   "id": "f85a04be",
   "metadata": {},
   "source": [
    "The time complexity of this original solution is exponential $O(2^n)$. For each Fibonacci number computed, two recursive calls are made (except for the base cases where $n <= 1$ ), leading to a binary tree of recursive calls with a height of $n$.\n",
    "\n",
    "![Recursive_fib_tree](https://i.sstatic.net/8O0eb.jpg)"
   ]
  },
  {
   "cell_type": "markdown",
   "id": "05fb9691",
   "metadata": {},
   "source": [
    "## Memoization (top-down DP approach)\n",
    "\n",
    "* Dynamic programming that is used to solve optimisation problems by dividing the problems into smaller subproblems.\n",
    "\n",
    "* The idea is to <b>solve subproblems once and then store solutions to subproblems in memory</b>. \n",
    "\n",
    "* This then allows the algorithm avoid redundant operations (to re-solve that subproblem) and optimise overall efficiency. \n"
   ]
  },
  {
   "cell_type": "markdown",
   "id": "768e765d",
   "metadata": {},
   "source": [
    "## What is memoization? \n",
    "\n",
    "* Memo pad - to write down solutions (think 'notepad')\n",
    "\n",
    "* To remember\n",
    "\n",
    "* Recycle previously stored problems \n",
    "\n",
    "<img src=\"https://www.choicewholesale.co.uk/cdn/shop/products/2imgmzuxgrz.jpg?v=1671883077\" alt=\"memo_pad\" width=\"150\"> "
   ]
  },
  {
   "cell_type": "markdown",
   "id": "26157b13",
   "metadata": {},
   "source": [
    "## Top-down: Recursion with a memo"
   ]
  },
  {
   "cell_type": "code",
   "execution_count": 25,
   "id": "7571d20f",
   "metadata": {},
   "outputs": [],
   "source": [
    "fib_memo_count = 0\n",
    "\n",
    "def fib_memo(n, memo=None):\n",
    "    global fib_memo_count\n",
    "    fib_memo_count += 1 \n",
    "    \n",
    "    if memo is None:\n",
    "        memo = {}\n",
    "    if n in memo:\n",
    "        return memo[n]\n",
    "    if n <= 0:\n",
    "        return 0\n",
    "    elif n == 1:\n",
    "        return 1\n",
    "    memo[n] = fib_memo(n-1, memo) + fib_memo(n-2, memo)\n",
    "    return memo[n]"
   ]
  },
  {
   "cell_type": "code",
   "execution_count": null,
   "id": "d98b4b7d",
   "metadata": {},
   "outputs": [],
   "source": [
    "test_values = range(0,15)"
   ]
  },
  {
   "cell_type": "code",
   "execution_count": null,
   "id": "a79f1aa4",
   "metadata": {},
   "outputs": [
    {
     "name": "stdout",
     "output_type": "stream",
     "text": [
      "f(0) = 0 - took 1 operations to compute\n",
      "f(1) = 1 - took 1 operations to compute\n",
      "f(2) = 1 - took 3 operations to compute\n",
      "f(3) = 2 - took 5 operations to compute\n",
      "f(4) = 3 - took 7 operations to compute\n",
      "f(5) = 5 - took 9 operations to compute\n",
      "f(6) = 8 - took 11 operations to compute\n",
      "f(7) = 13 - took 13 operations to compute\n",
      "f(8) = 21 - took 15 operations to compute\n",
      "f(9) = 34 - took 17 operations to compute\n",
      "f(10) = 55 - took 19 operations to compute\n",
      "f(11) = 89 - took 21 operations to compute\n",
      "f(12) = 144 - took 23 operations to compute\n",
      "f(13) = 233 - took 25 operations to compute\n",
      "f(14) = 377 - took 27 operations to compute\n"
     ]
    }
   ],
   "source": [
    "for i in test_values:\n",
    "    fib_memo_count = 0\n",
    "    print(\"f(\" + str(i) + \") = \" + str( fib_memo(i))+ \" - took \" + str(fib_memo_count) + \" operations to compute\")"
   ]
  },
  {
   "cell_type": "code",
   "execution_count": 26,
   "id": "d1684050",
   "metadata": {},
   "outputs": [
    {
     "name": "stdout",
     "output_type": "stream",
     "text": [
      "f(15) = 610 - took 29 operations to compute\n",
      "f(16) = 987 - took 31 operations to compute\n",
      "f(17) = 1597 - took 33 operations to compute\n",
      "f(18) = 2584 - took 35 operations to compute\n",
      "f(19) = 4181 - took 37 operations to compute\n",
      "f(20) = 6765 - took 39 operations to compute\n",
      "f(21) = 10946 - took 41 operations to compute\n",
      "f(22) = 17711 - took 43 operations to compute\n",
      "f(23) = 28657 - took 45 operations to compute\n",
      "f(24) = 46368 - took 47 operations to compute\n",
      "f(25) = 75025 - took 49 operations to compute\n",
      "f(26) = 121393 - took 51 operations to compute\n",
      "f(27) = 196418 - took 53 operations to compute\n",
      "f(28) = 317811 - took 55 operations to compute\n",
      "f(29) = 514229 - took 57 operations to compute\n",
      "f(30) = 832040 - took 59 operations to compute\n",
      "f(31) = 1346269 - took 61 operations to compute\n",
      "f(32) = 2178309 - took 63 operations to compute\n",
      "f(33) = 3524578 - took 65 operations to compute\n",
      "f(34) = 5702887 - took 67 operations to compute\n"
     ]
    }
   ],
   "source": [
    "test_values = range(15,35)\n",
    "\n",
    "for i in test_values:\n",
    "    fib_memo_count = 0\n",
    "    print(\"f(\" + str(i) + \") = \" + str( fib_memo(i))+ \" - took \" + str(fib_memo_count) + \" operations to compute\")\n"
   ]
  },
  {
   "cell_type": "markdown",
   "id": "dad90440",
   "metadata": {},
   "source": [
    "## Recursion optimised with `lru_cache` Decorator!\n",
    "\n",
    "* A 'decorator' is a software engineering 'design pattern' \n",
    "\n",
    "* \n",
    "\n",
    "* The `lru_cache` is... \n",
    "\n",
    "* "
   ]
  },
  {
   "cell_type": "code",
   "execution_count": 27,
   "id": "68b01704",
   "metadata": {},
   "outputs": [],
   "source": [
    "from functools import lru_cache\n",
    "\n",
    "fib_lru_count = 0 \n",
    "\n",
    "@lru_cache(maxsize=None)\n",
    "def fib_lru(n):\n",
    "    global fib_lru_count\n",
    "    fib_lru_count += 1 \n",
    "    #if n < 0:\n",
    "    #    raise ValueError(\"Fibonacci number is not defined for negative integers.\")\n",
    "    if n == 0:\n",
    "        return 0\n",
    "    if n == 1:\n",
    "        return 1\n",
    "    return fib_lru(n-1) + fib_lru(n-2)"
   ]
  },
  {
   "cell_type": "code",
   "execution_count": 35,
   "id": "fd3b9429",
   "metadata": {},
   "outputs": [
    {
     "name": "stdout",
     "output_type": "stream",
     "text": [
      "f(35) = 9227465\n"
     ]
    }
   ],
   "source": [
    "n = 35\n",
    "print(f\"f({n}) = {fib_lru(n)}\")"
   ]
  },
  {
   "cell_type": "code",
   "execution_count": 28,
   "id": "6b2451a6",
   "metadata": {},
   "outputs": [
    {
     "name": "stdout",
     "output_type": "stream",
     "text": [
      "f(0) = 0 - took 1 operations to compute\n",
      "f(1) = 1 - took 1 operations to compute\n",
      "f(2) = 1 - took 1 operations to compute\n",
      "f(3) = 2 - took 1 operations to compute\n",
      "f(4) = 3 - took 1 operations to compute\n",
      "f(5) = 5 - took 1 operations to compute\n",
      "f(6) = 8 - took 1 operations to compute\n",
      "f(7) = 13 - took 1 operations to compute\n",
      "f(8) = 21 - took 1 operations to compute\n",
      "f(9) = 34 - took 1 operations to compute\n",
      "f(10) = 55 - took 1 operations to compute\n",
      "f(11) = 89 - took 1 operations to compute\n",
      "f(12) = 144 - took 1 operations to compute\n",
      "f(13) = 233 - took 1 operations to compute\n",
      "f(14) = 377 - took 1 operations to compute\n"
     ]
    }
   ],
   "source": [
    "test_values = range(0,15)\n",
    "\n",
    "for i in test_values:\n",
    "    fib_lru_count = 0\n",
    "    print(\"f(\" + str(i) + \") = \" + str( fib_lru(i))+ \" - took \" + str(fib_lru_count) + \" operations to compute\")"
   ]
  },
  {
   "cell_type": "code",
   "execution_count": 29,
   "id": "3c50220b",
   "metadata": {},
   "outputs": [
    {
     "name": "stdout",
     "output_type": "stream",
     "text": [
      "f(15) = 610 - took 1 operations to compute\n",
      "f(16) = 987 - took 1 operations to compute\n",
      "f(17) = 1597 - took 1 operations to compute\n",
      "f(18) = 2584 - took 1 operations to compute\n",
      "f(19) = 4181 - took 1 operations to compute\n",
      "f(20) = 6765 - took 1 operations to compute\n",
      "f(21) = 10946 - took 1 operations to compute\n",
      "f(22) = 17711 - took 1 operations to compute\n",
      "f(23) = 28657 - took 1 operations to compute\n",
      "f(24) = 46368 - took 1 operations to compute\n",
      "f(25) = 75025 - took 1 operations to compute\n",
      "f(26) = 121393 - took 1 operations to compute\n",
      "f(27) = 196418 - took 1 operations to compute\n",
      "f(28) = 317811 - took 1 operations to compute\n",
      "f(29) = 514229 - took 1 operations to compute\n",
      "f(30) = 832040 - took 1 operations to compute\n",
      "f(31) = 1346269 - took 1 operations to compute\n",
      "f(32) = 2178309 - took 1 operations to compute\n",
      "f(33) = 3524578 - took 1 operations to compute\n",
      "f(34) = 5702887 - took 1 operations to compute\n",
      "f(35) = 9227465 - took 1 operations to compute\n"
     ]
    }
   ],
   "source": [
    "test_values = range(15,36)\n",
    "\n",
    "for i in test_values:\n",
    "    fib_lru_count = 0\n",
    "    print(\"f(\" + str(i) + \") = \" + str( fib_lru(i))+ \" - took \" + str(fib_lru_count) + \" operations to compute\")"
   ]
  },
  {
   "cell_type": "markdown",
   "id": "e5232f6b",
   "metadata": {},
   "source": [
    "## Top-Down DP via Memoization\n",
    "\n",
    "* We've just used memoization to store subproblems in a top-down sequence. \n",
    "\n",
    "* We compute solutions from the top by looking up the solved subproblems in our dictionary/cache. \n",
    "\n",
    "* To compute `fib(5)` we know this is `fib(4)` + `fib(3)`, so we look up `fib(4)` and `fib(3)` in our dictionary.\n",
    "\n",
    "<!--![fib_top_down](https://miro.medium.com/v2/format:webp/1*rCch4Ju3PcPPMpvFireFyQ.png)-->\n",
    "\n",
    "<img src=\"https://miro.medium.com/v2/format:webp/1*rCch4Ju3PcPPMpvFireFyQ.png\" alt=\"fib_top_down\" width=\"650\">  "
   ]
  },
  {
   "cell_type": "markdown",
   "id": "f646b50b",
   "metadata": {},
   "source": [
    "## Bottom-up DP with iteration and tabluation\n",
    "\n",
    "* Now let's explore the alternative approach - we'll get the same answer, but the approach is working from the ground up.\n",
    "\n",
    "* Here, for fib(5): \n",
    "\n",
    "    * we would start by computing fib(0) and fib(1), \n",
    "    * then fib(2) - which is fib(1) + fib(0)\n",
    "    * then fib(3) - which is fib(2) + fib(1)\n",
    "    * then fib(4) - which is fib(3) + fib(2)\n",
    "    * then fib(5) - which is fib(4) + fib(3)\n",
    "\n",
    "* However, this achieved by <b>iteration</b> rather than recursion! \n",
    "\n",
    "<!--![fib_bottom_up](https://miro.medium.com/v2/format:webp/1*9YUE1V0fYhFujaXEcmX3wg.png)-->\n",
    "\n",
    "<img src=\"https://miro.medium.com/v2/format:webp/1*9YUE1V0fYhFujaXEcmX3wg.png\" alt=\"fib_bottom_up\" width=\"650\">  "
   ]
  },
  {
   "cell_type": "markdown",
   "id": "91032335",
   "metadata": {},
   "source": [
    "## Bottom-Up DP via iteration \n",
    "\n",
    "* Much more efficient than recursion! \n"
   ]
  },
  {
   "cell_type": "code",
   "execution_count": 45,
   "id": "346f0d09",
   "metadata": {},
   "outputs": [],
   "source": [
    "fib_iterative_count = 0 \n",
    "def fib_iterative(n):\n",
    "    #if n < 0:\n",
    "    #    raise ValueError(\"Fibonacci number is not defined for negative integers.\")\n",
    "    global fib_iterative_count\n",
    "    if n == 0:\n",
    "        return 0\n",
    "    if n == 1:\n",
    "        return 1\n",
    "    prev, curr = 0, 1\n",
    "    for _ in range(2, n+1):\n",
    "        fib_iterative_count += 1 \n",
    "        prev, curr = curr, prev + curr\n",
    "    return curr"
   ]
  },
  {
   "cell_type": "markdown",
   "id": "3fc3e6a9",
   "metadata": {},
   "source": [
    "Question: What is the runtime of this iterative algorithm? "
   ]
  },
  {
   "cell_type": "code",
   "execution_count": 39,
   "id": "e0e5f5b7",
   "metadata": {},
   "outputs": [
    {
     "name": "stdout",
     "output_type": "stream",
     "text": [
      "f(35) = 9227465\n"
     ]
    }
   ],
   "source": [
    "n = 35\n",
    "operation_count = 0 \n",
    "print(f\"f({n}) = {fib_iterative(n)}\")"
   ]
  },
  {
   "cell_type": "code",
   "execution_count": 23,
   "id": "5eda8df0",
   "metadata": {},
   "outputs": [],
   "source": [
    "test_values = range(0,15)"
   ]
  },
  {
   "cell_type": "code",
   "execution_count": null,
   "id": "043e4317",
   "metadata": {},
   "outputs": [
    {
     "name": "stdout",
     "output_type": "stream",
     "text": [
      "f(0) = 0 - took 0 operations to compute\n",
      "f(1) = 1 - took 0 operations to compute\n",
      "f(2) = 1 - took 1 operations to compute\n",
      "f(3) = 2 - took 2 operations to compute\n",
      "f(4) = 3 - took 3 operations to compute\n",
      "f(5) = 5 - took 4 operations to compute\n",
      "f(6) = 8 - took 5 operations to compute\n",
      "f(7) = 13 - took 6 operations to compute\n",
      "f(8) = 21 - took 7 operations to compute\n",
      "f(9) = 34 - took 8 operations to compute\n",
      "f(10) = 55 - took 9 operations to compute\n",
      "f(11) = 89 - took 10 operations to compute\n",
      "f(12) = 144 - took 11 operations to compute\n",
      "f(13) = 233 - took 12 operations to compute\n",
      "f(14) = 377 - took 13 operations to compute\n"
     ]
    }
   ],
   "source": [
    "for i in test_values:\n",
    "    fib_iterative_count = 0\n",
    "    print(\"f(\" + str(i) + \") = \" + str( fib_iterative(i))+ \" - took \" + str(fib_iterative_count) + \" operations to compute\")"
   ]
  },
  {
   "cell_type": "code",
   "execution_count": null,
   "id": "8ed03b5c",
   "metadata": {},
   "outputs": [],
   "source": [
    "for i in test_values:\n",
    "    fib_iterative_count = 0\n",
    "    print(\"f(\" + str(i) + \") = \" + str( fib_iterative(i))+ \" - took \" + str(fib_iterative_count) + \" operations to compute\")"
   ]
  },
  {
   "cell_type": "markdown",
   "id": "6392dfd9",
   "metadata": {},
   "source": [
    "## Combining with a DP table \n",
    "\n",
    "* The given iterative Fibonacci implementation is already quite efficient, as it computes the Fibonacci sequence using $O(n)$ time and $O(1)$ space. \n",
    "\n",
    "* We could further optimise this by combining with a table (tabluation) - storing previously solved subproblems in a table, to prevent starting again all the time! \n",
    "\n",
    "* equivalent of the memo dictionary in top-down\n"
   ]
  },
  {
   "cell_type": "code",
   "execution_count": null,
   "id": "5b6c4fc8",
   "metadata": {},
   "outputs": [],
   "source": [
    "fib_iterative_count = 0\n",
    "\n",
    "def fib_iterative_dp(n):\n",
    "    global fib_iterative_count\n",
    "\n",
    "    # Handle base cases\n",
    "    if n == 0:\n",
    "        return 0\n",
    "    if n == 1:\n",
    "        return 1\n",
    "\n",
    "    # Create a DP table to store Fibonacci values\n",
    "    dp = [0] * (n + 1)\n",
    "    dp[0] = 0\n",
    "    dp[1] = 1\n",
    "\n",
    "    # Fill the DP table iteratively\n",
    "    for i in range(2, n + 1):\n",
    "        fib_iterative_count += 1\n",
    "        dp[i] = dp[i - 1] + dp[i - 2]\n",
    "\n",
    "    return dp[n]"
   ]
  },
  {
   "cell_type": "markdown",
   "id": "c42c44bb",
   "metadata": {},
   "source": [
    "## Time comparison"
   ]
  },
  {
   "cell_type": "markdown",
   "id": "2181899b",
   "metadata": {},
   "source": [
    "### Niave - no optimisation"
   ]
  },
  {
   "cell_type": "code",
   "execution_count": 23,
   "id": "1c14c665",
   "metadata": {},
   "outputs": [],
   "source": [
    "import time"
   ]
  },
  {
   "cell_type": "code",
   "execution_count": 31,
   "id": "77ce729a",
   "metadata": {},
   "outputs": [
    {
     "name": "stdout",
     "output_type": "stream",
     "text": [
      "f(35) = 9227465 computed in 3.2962 seconds\n"
     ]
    }
   ],
   "source": [
    "n = 35\n",
    "start_time = time.time()\n",
    "result = fib_naive(n)\n",
    "end_time = time.time()\n",
    "print(f\"f({n}) = {result} computed in {end_time - start_time:.4f} seconds\")"
   ]
  },
  {
   "cell_type": "markdown",
   "id": "449c536e",
   "metadata": {},
   "source": [
    "### With our own memo explicitly defined"
   ]
  },
  {
   "cell_type": "code",
   "execution_count": 33,
   "id": "7f4f4431",
   "metadata": {},
   "outputs": [
    {
     "name": "stdout",
     "output_type": "stream",
     "text": [
      "f(35) = 9227465 computed in 0.0001 seconds\n"
     ]
    }
   ],
   "source": [
    "n = 35\n",
    "start_time = time.time()\n",
    "result = fib_memo(n)\n",
    "end_time = time.time()\n",
    "print(f\"f({n}) = {result} computed in {end_time - start_time:.4f} seconds\")"
   ]
  },
  {
   "cell_type": "markdown",
   "id": "431c3d92",
   "metadata": {},
   "source": [
    "### Recursion with `lru_cache` decorator"
   ]
  },
  {
   "cell_type": "code",
   "execution_count": 46,
   "id": "570aa22e",
   "metadata": {},
   "outputs": [
    {
     "name": "stdout",
     "output_type": "stream",
     "text": [
      "f(35) = 9227465 computed in 0.000031 seconds\n"
     ]
    }
   ],
   "source": [
    "n = 35\n",
    "start_time = time.time()\n",
    "result = fib_lru(n)\n",
    "end_time = time.time()\n",
    "print(f\"f({n}) = {result} computed in {end_time - start_time:.6f} seconds\")"
   ]
  },
  {
   "cell_type": "markdown",
   "id": "f942a08f",
   "metadata": {},
   "source": [
    "### Fib with Iteration "
   ]
  },
  {
   "cell_type": "code",
   "execution_count": 47,
   "id": "7cd96fdf",
   "metadata": {},
   "outputs": [
    {
     "name": "stdout",
     "output_type": "stream",
     "text": [
      "f(35) = 9227465 computed in 0.000039 seconds\n"
     ]
    }
   ],
   "source": [
    "n = 35\n",
    "start_time = time.time()\n",
    "result = fib_iterative(n)\n",
    "end_time = time.time()\n",
    "print(f\"f({n}) = {result} computed in {end_time - start_time:.6f} seconds\")"
   ]
  },
  {
   "cell_type": "code",
   "execution_count": 48,
   "id": "e7ef17b4",
   "metadata": {},
   "outputs": [
    {
     "name": "stdout",
     "output_type": "stream",
     "text": [
      "Niave f(35) = 9227465 computed in 3.2972 seconds\n",
      "Memo: f(35) = 9227465 computed in 0.0000 seconds\n",
      "lru memo: f(35) = 9227465 computed in 0.000025 seconds\n",
      "Iterative f(35) = 9227465 computed in 0.000020 seconds\n"
     ]
    }
   ],
   "source": [
    "n = 35 \n",
    "\n",
    "# Niave: \n",
    "start_time = time.time()\n",
    "result = fib_naive(n)\n",
    "end_time = time.time()\n",
    "print(f\"Niave f({n}) = {result} computed in {end_time - start_time:.4f} seconds\")\n",
    "\n",
    "# Memo: \n",
    "start_time = time.time()\n",
    "result = fib_memo(n)\n",
    "end_time = time.time()\n",
    "print(f\"Memo: f({n}) = {result} computed in {end_time - start_time:.4f} seconds\")\n",
    "\n",
    "# lru memo\n",
    "\n",
    "start_time = time.time()\n",
    "result = fib_lru(n)\n",
    "end_time = time.time()\n",
    "print(f\"lru memo: f({n}) = {result} computed in {end_time - start_time:.6f} seconds\")\n",
    "\n",
    "\n",
    "# Iterative\n",
    "\n",
    "start_time = time.time()\n",
    "result = fib_iterative(n)\n",
    "end_time = time.time()\n",
    "print(f\"Iterative f({n}) = {result} computed in {end_time - start_time:.6f} seconds\")"
   ]
  },
  {
   "cell_type": "markdown",
   "id": "4fd531e1",
   "metadata": {},
   "source": [
    "## Applying DP to Shortest Paths \n",
    "\n",
    "* Remember that we tried to find optimal paths between nodes.\n",
    "\n",
    "* If a graph is a Directed Acyclic Graph (DAG), we can find the shortest path with Dynammic Programming. \n",
    "\n",
    "<!-- ![DAGs_DCGs](https://www.researchgate.net/publication/343260292/figure/fig1/AS:11431281122877966@1677581182297/The-difference-between-a-directed-cyclic-graph-and-a-directed-acyclic-graph.jpg) -->\n",
    "\n",
    "* For the given source and target, (A -> E), we could form subproblems, what is D->E, and then A->D\n",
    "\n",
    "* ..."
   ]
  },
  {
   "cell_type": "markdown",
   "id": "0d79129a",
   "metadata": {},
   "source": [
    "## Topological Sort (DFS)\n",
    "\n",
    "* Topological Sort orders vertices so that each node/vertex appears only after all the nodes pointing to it have appeared. \n",
    "\n",
    "* Topological Sort does not consider edge weights - just connections.\n",
    "\n",
    "* Topological Sort is simply a modification of DFS. Topological sort simply involves running DFS on an entire graph and adding each node to the global ordering of nodes, but only after all of a node's children are visited. \n",
    "\n",
    "* This ensures that parent nodes will be ordered before their child nodes, and honors the forward direction of edges in the ordering.\n",
    "\n",
    "Example: For a graph with 4 nodes and these relations: \n",
    "```\n",
    "a->b\n",
    "a->c \n",
    "b->d \n",
    "c->d \n",
    "```\n",
    "There are two acceptable topological sorts: \n",
    "`a, b, c, d` \n",
    "and `a, c, b, d`\n",
    "\n",
    "<img src=\"https://i.imgur.com/Q3MA6dZ.png\" alt=\"MST\" width=\"850\">  "
   ]
  },
  {
   "cell_type": "markdown",
   "id": "3c330826",
   "metadata": {},
   "source": [
    "## Top Sort \n",
    "\n",
    "<img src=\"https://miro.medium.com/v2/resize:fit:1400/format:webp/1*0jRSNI2zo30sENk2qlqEvw.png\" alt=\"DAG_Topological_Sort\" width=\"550\">  "
   ]
  },
  {
   "cell_type": "markdown",
   "id": "d3957b93",
   "metadata": {},
   "source": [
    "## Indegrees and Outdegrees \n",
    "\n",
    "* Indegree: the number of edges coming to the vertex\n",
    "\n",
    "* Outdegree: the number of edges coming out the vertex\n",
    "\n",
    "<img src=\"https://miro.medium.com/v2/resize:fit:1400/format:webp/1*C-aiojwAJBzzn8Jdw-xUwg.png\" alt=\"indegree\" width=\"650\">  "
   ]
  },
  {
   "cell_type": "code",
   "execution_count": null,
   "id": "2d894ace",
   "metadata": {},
   "outputs": [],
   "source": [
    "def shortest_path_dag(vertices, edges, source):\n",
    "    from collections import defaultdict, deque\n",
    "\n",
    "    # Adjacency list and indegree calculation for topological sort\n",
    "    graph = defaultdict(list)\n",
    "    indegree = {v: 0 for v in vertices}\n",
    "\n",
    "    for u, v, w in edges:\n",
    "        graph[u].append((v, w))\n",
    "        indegree[v] += 1\n",
    "\n",
    "    # Topological sort\n",
    "    queue = deque([v for v in vertices if indegree[v] == 0])\n",
    "    top_order = []\n",
    "\n",
    "    while queue:\n",
    "        u = queue.popleft()\n",
    "        top_order.append(u)\n",
    "        for v, _ in graph[u]:\n",
    "            indegree[v] -= 1\n",
    "            if indegree[v] == 0:\n",
    "                queue.append(v)\n",
    "\n",
    "    # Initialize DP array\n",
    "    dp = {v: float(\"inf\") for v in vertices}\n",
    "    dp[source] = 0\n",
    "\n",
    "    # Relax edges in topological order\n",
    "    for u in top_order:\n",
    "        for v, w in graph[u]:\n",
    "            if dp[u] + w < dp[v]:\n",
    "                dp[v] = dp[u] + w\n",
    "\n",
    "    return dp"
   ]
  },
  {
   "cell_type": "markdown",
   "id": "540812b0",
   "metadata": {},
   "source": [
    "## Floyd Warshall - All Pairs \n",
    "\n",
    "* All-pairs shortest paths $O(|V|^3)$\n",
    "\n",
    "* "
   ]
  },
  {
   "cell_type": "code",
   "execution_count": null,
   "id": "c1495e4c",
   "metadata": {},
   "outputs": [],
   "source": [
    "def floyd_warshall(vertices, edges):\n",
    "    # Initialize the DP table\n",
    "    dp = {v: {u: float(\"inf\") for u in vertices} for v in vertices}\n",
    "    for v in vertices:\n",
    "        dp[v][v] = 0\n",
    "\n",
    "    for u, v, w in edges:\n",
    "        dp[u][v] = w\n",
    "\n",
    "    # Dynamic programming\n",
    "    for k in vertices:\n",
    "        for i in vertices:\n",
    "            for j in vertices:\n",
    "                dp[i][j] = min(dp[i][j], dp[i][k] + dp[k][j])\n",
    "\n",
    "    return dp"
   ]
  },
  {
   "cell_type": "markdown",
   "id": "f00ae2b1",
   "metadata": {},
   "source": [
    "## Bellman-Ford algorithm\n",
    "\n",
    "* a\n",
    "\n",
    "* a"
   ]
  },
  {
   "cell_type": "code",
   "execution_count": null,
   "id": "5a388b3d",
   "metadata": {},
   "outputs": [],
   "source": [
    "def bellman_ford(vertices, edges, source):\n",
    "    # Initialize distances\n",
    "    dp = {v: float(\"inf\") for v in vertices}\n",
    "    dp[source] = 0\n",
    "\n",
    "    # Relax edges |V| - 1 times\n",
    "    for _ in range(len(vertices) - 1):\n",
    "        for u, v, w in edges:\n",
    "            if dp[u] != float(\"inf\") and dp[u] + w < dp[v]:\n",
    "                dp[v] = dp[u] + w\n",
    "\n",
    "    # Check for negative-weight cycles\n",
    "    for u, v, w in edges:\n",
    "        if dp[u] != float(\"inf\") and dp[u] + w < dp[v]:\n",
    "            raise ValueError(\"Graph contains a negative-weight cycle\")\n",
    "\n",
    "    return dp"
   ]
  },
  {
   "cell_type": "markdown",
   "id": "58f9b956",
   "metadata": {},
   "source": [
    "## Applying DP to a directed network:\n",
    "\n",
    "Some problems can be solved by drawing a directed network showing the possible decisions at each  stage. You start at $S$ and can make one of several decisions. Depending upon which one you take, you  can then take more decisions and so on, until you eventually reach $T$. \n",
    "\n",
    "The easiest problems are about minimising the cost or time. This is, of course, the same as finding the  shortest path from $S$ to $T$. \n",
    "\n",
    "If the shortest/longest path from $S$ to $T$ is $SABCT$, \n",
    "* then: the shortest/longest path from $S$ to $C$ is $SABC$, \n",
    "* the shortest/longest path from $S$ to $B$ is $SAB$,  \n",
    "* the shortest/longest path from $S$ to $A$ is $SA$,  \n",
    "* and the shortest/longest path from $A$ to $C$ is $ABC$. \n",
    "\n",
    "Pearson Edexcel AS and A level Further Mathematics Decision Mathematics 2 Textbook + e-book (A level Maths and Further Maths 2017) (p. 152). Pearson Education."
   ]
  },
  {
   "cell_type": "markdown",
   "id": "c7d0c9b8",
   "metadata": {},
   "source": [
    "Use the following terminology for dynamic programming problems presented in network  form:  \n",
    "\n",
    "* `Stage` - The route from the initial stage (`S` say) to the final state (`T` say) is made up of a sequence of moves. Each move is a stage / a time interval or an option being considered. \n",
    "\n",
    "* `State` - Vertex you are considering / the value of a resource from a previous stage.\n",
    "\n",
    "* `Action` - This is the directed arc from one state to the next. In selecting an arc you are  considering what happens if you do that action. / The amount of the resource used in the current stage.\n",
    "\n",
    "* `Destination` This is the vertex you arrive at having taken the action. / The value of the resource passed to the next stage.   \n",
    "\n",
    "* `Value` This is the sum of the weights on the arcs used in a sequence of actions. / This is the sum of the weights on the arcs used in a sequence of actions. \n",
    "\n",
    "Pearson Edexcel AS and A level Further Mathematics Decision Mathematics 2 Textbook + e-book (A level Maths and Further Maths 2017) (p. 178). Pearson Education. Kindle Edition. "
   ]
  },
  {
   "cell_type": "markdown",
   "id": "7ff546a5",
   "metadata": {},
   "source": [
    "## Network Flow \n",
    "\n",
    "* The flow in a network of nodes can also be modelled via a directed graph.\n",
    "\n",
    "* Examples include: \n",
    "    * Natural energy: (water, gas, electricity etc) as it flows from source to destination. \n",
    "    * Transport (roads, trains, and even areoplanes)\n",
    "    * Devices that communicate by sending packets of data across a network.\n",
    "\n",
    "* Furthermore, we'll see that dynamic programming can be applied to network flow applications to calculate the maximum and minimum flows, and also optimise path finding.\n",
    "\n",
    "* <b>The fundamental difference between graphs and networks, is that graphs focus on the distance, but networks focus on capacity (think volume) of flow between nodes/vertices.</b>"
   ]
  },
  {
   "cell_type": "markdown",
   "id": "44950576",
   "metadata": {},
   "source": [
    "## Traffic flow example\n",
    "\n",
    "* Road works (or engineering works that close railway lines!) are frustrating to travellers but essential for repair and maintenance. \n",
    "\n",
    "* This impacts the flow of traffic in a network, so we can model this real-life phenomenon with network flow. \n",
    "\n",
    "<img src=\"https://wealthandtax.co.uk/wp-content/uploads/2020/04/shutterstock_631880864-scaled.jpg\" alt=\"roadworks\" width=\"850\">  "
   ]
  },
  {
   "cell_type": "code",
   "execution_count": null,
   "id": "821be2ad",
   "metadata": {},
   "outputs": [],
   "source": [
    "import networkx as nx\n",
    "import matplotlib.pyplot as plt\n",
    "\n",
    "# Create a directed graph\n",
    "G = nx.DiGraph()\n",
    "\n",
    "# Add edges along with their capacities\n",
    "G.add_edge('A', 'B', capacity=10)\n",
    "G.add_edge('A', 'C', capacity=15)\n",
    "G.add_edge('B', 'D', capacity=10)\n",
    "G.add_edge('C', 'D', capacity=10)\n",
    "G.add_edge('B', 'E', capacity=5)\n",
    "G.add_edge('D', 'E', capacity=10)\n"
   ]
  },
  {
   "cell_type": "code",
   "execution_count": null,
   "id": "ac0860be",
   "metadata": {},
   "outputs": [
    {
     "data": {
      "image/png": "[encoded data removed]",
      "text/plain": [
       "<Figure size 800x600 with 1 Axes>"
      ]
     },
     "metadata": {},
     "output_type": "display_data"
    }
   ],
   "source": [
    "import matplotlib.pyplot as plt\n",
    "\n",
    "def visualize_flow(G, flow_dict, title):\n",
    "    pos = nx.spring_layout(G)\n",
    "    edge_labels = {}\n",
    "    for u in flow_dict:\n",
    "        for v in flow_dict[u]:\n",
    "            if flow_dict[u][v] > 0:\n",
    "                edge_labels[(u, v)] = flow_dict[u][v]\n",
    "    \n",
    "    plt.figure(figsize=(8,6))\n",
    "    nx.draw(G, pos, with_labels=True, node_color='lightblue', node_size=2000, arrows=True)\n",
    "    nx.draw_networkx_edge_labels(G, pos, edge_labels=edge_labels)\n",
    "    plt.title(title)\n",
    "    plt.show()\n",
    "\n",
    "# Visualize initial flow\n",
    "visualize_flow(G, initial_flow_dict, \"Flow Distribution Before Roadworks\")"
   ]
  },
  {
   "cell_type": "markdown",
   "id": "aa31398a",
   "metadata": {},
   "source": [
    "## Maximum Flow via Edmonds-Karp vs Ford-Fulkerson\n",
    "\n",
    "* The Edmonds-Karp algorithm is a specific implementation of the Ford-Fulkerson method \n",
    "\n",
    "* Edmonds-Karp employs Breadth-First Search (BFS) to find the shortest augmenting paths, thereby ensuring polynomial time complexity. $O(n^k)$\n",
    "\n",
    "* Ford-Fulkerson Method:\n",
    "    * A general algorithm to compute the maximum flow in a flow network.\n",
    "\t* It works by repeatedly finding augmenting paths from the source to the sink and increasing the flow until no more augmenting paths exist.\n",
    "\t* The method’s performance depends on how the augmenting paths are selected. Without a specific strategy, its time complexity can be unbounded, especially with irrational capacities.\n",
    "\n",
    "* Edmonds-Karp Algorithm:\n",
    "\t* A specific implementation of the Ford-Fulkerson method.\n",
    "\t* It uses BFS to find the shortest (in terms of the number of edges) augmenting path in each iteration.\n",
    "\t* Guarantees a time complexity of  $O(V \\times E^2)$  where  V  is the number of vertices and  E  is the number of edges.\n",
    "\n",
    "* In summary, Edmonds-Karp is essentially Ford-Fulkerson with a specific path selection strategy (BFS), making it more efficient and predictable.\n"
   ]
  },
  {
   "cell_type": "code",
   "execution_count": null,
   "id": "78f55e89",
   "metadata": {},
   "outputs": [],
   "source": [
    "def compute_max_flow(G, source, sink):\n",
    "    # Compute the maximum flow using the Edmonds-Karp algorithm\n",
    "    flow_value, flow_dict = nx.maximum_flow(G, source, sink, flow_func=nx.algorithms.flow.edmonds_karp)\n",
    "    \n",
    "    print(f\"Maximum flow from {source} to {sink}: {flow_value} vehicles/hour\")\n",
    "    print(\"Flow distribution:\")\n",
    "    for u in flow_dict:\n",
    "        for v in flow_dict[u]:\n",
    "            if flow_dict[u][v] > 0:\n",
    "                print(f\"  {u} -> {v}: {flow_dict[u][v]} vehicles/hour\")\n",
    "    print(\"\\n\")\n",
    "    return flow_value, flow_dict"
   ]
  },
  {
   "cell_type": "code",
   "execution_count": null,
   "id": "582b0695",
   "metadata": {},
   "outputs": [
    {
     "name": "stdout",
     "output_type": "stream",
     "text": [
      "=== Initial Scenario ===\n",
      "Maximum flow from A to E: 15 vehicles/hour\n",
      "Flow distribution:\n",
      "  A -> B: 10 vehicles/hour\n",
      "  A -> C: 5 vehicles/hour\n",
      "  B -> D: 5 vehicles/hour\n",
      "  B -> E: 5 vehicles/hour\n",
      "  C -> D: 5 vehicles/hour\n",
      "  D -> E: 10 vehicles/hour\n",
      "\n",
      "\n"
     ]
    }
   ],
   "source": [
    "print(\"=== Initial Scenario ===\")\n",
    "initial_flow, initial_flow_dict = compute_max_flow(G, source, sink)"
   ]
  },
  {
   "cell_type": "code",
   "execution_count": null,
   "id": "8de37086",
   "metadata": {},
   "outputs": [
    {
     "name": "stdout",
     "output_type": "stream",
     "text": [
      "=== After Roadworks on C -> D ===\n",
      "Maximum flow from A to E: 15 vehicles/hour\n",
      "Flow distribution:\n",
      "  A -> B: 10 vehicles/hour\n",
      "  A -> C: 5 vehicles/hour\n",
      "  B -> D: 5 vehicles/hour\n",
      "  B -> E: 5 vehicles/hour\n",
      "  C -> D: 5 vehicles/hour\n",
      "  D -> E: 10 vehicles/hour\n",
      "\n",
      "\n"
     ]
    }
   ],
   "source": [
    "# Simulate roadworks: reduce capacity of C -> D from 10 to 5\n",
    "G['C']['D']['capacity'] = 5\n",
    "\n",
    "print(\"=== After Roadworks on C -> D ===\")\n",
    "new_flow, new_flow_dict = compute_max_flow(G, source, sink)"
   ]
  },
  {
   "cell_type": "code",
   "execution_count": null,
   "id": "8ac36a97",
   "metadata": {},
   "outputs": [
    {
     "data": {
      "image/png": "[encoded data removed]",
      "text/plain": [
       "<Figure size 800x600 with 1 Axes>"
      ]
     },
     "metadata": {},
     "output_type": "display_data"
    },
    {
     "data": {
      "image/png": "[encoded data removed]",
      "text/plain": [
       "<Figure size 800x600 with 1 Axes>"
      ]
     },
     "metadata": {},
     "output_type": "display_data"
    }
   ],
   "source": [
    "import matplotlib.pyplot as plt\n",
    "\n",
    "def visualize_flow(G, flow_dict, title):\n",
    "    pos = nx.spring_layout(G)\n",
    "    edge_labels = {}\n",
    "    for u in flow_dict:\n",
    "        for v in flow_dict[u]:\n",
    "            if flow_dict[u][v] > 0:\n",
    "                edge_labels[(u, v)] = flow_dict[u][v]\n",
    "    \n",
    "    plt.figure(figsize=(8,6))\n",
    "    nx.draw(G, pos, with_labels=True, node_color='lightblue', node_size=2000, arrows=True)\n",
    "    nx.draw_networkx_edge_labels(G, pos, edge_labels=edge_labels)\n",
    "    plt.title(title)\n",
    "    plt.show()\n",
    "\n",
    "# Visualize initial flow\n",
    "visualize_flow(G, initial_flow_dict, \"Flow Distribution Before Roadworks\")\n",
    "\n",
    "# Visualize flow after roadworks\n",
    "visualize_flow(G, new_flow_dict, \"Flow Distribution After Roadworks on C -> D\")"
   ]
  },
  {
   "cell_type": "markdown",
   "id": "c6b11c93",
   "metadata": {},
   "source": [
    "## minimax and maximin\n",
    "\n",
    "* minimax route is one in which the maximum value of the individual arcs (edges) used is as small  as possible.\n",
    "\n",
    "* A maximin route is one in which the minimum value of the individual arcs (edges) used is as large  as possible. \n"
   ]
  },
  {
   "cell_type": "markdown",
   "id": "6b558abc",
   "metadata": {},
   "source": [
    "What is Minimax?\n",
    "\n",
    "* Minimax is a recursive decision-making algorithm used in adversarial environments, like two-player games. \n",
    "\n",
    "* The algorithm aims to:\n",
    "\t1.\tMinimize the possible loss for the player if the opponent plays optimally.\n",
    "\t2.\tSimultaneously maximize the possible gain by assuming both players act rationally.\n",
    "\n",
    "* The process involves exploring all possible game states and choosing moves that optimize the worst-case scenario."
   ]
  },
  {
   "cell_type": "markdown",
   "id": "0ba43fff",
   "metadata": {},
   "source": [
    "## Applying Dynamic Programming to network flows\n",
    "\n",
    "* Maximin - Maximize the minimum capacity along a path\n",
    "\n",
    "    * Optimising the most constrained link (bottleneck)\n",
    "\n",
    "* Minimax - Minimize the maximum capacity (or other metric) along a path\n",
    "\n",
    "    * Reduce the most overloaded / costly link"
   ]
  },
  {
   "cell_type": "markdown",
   "id": "ba14fb3b",
   "metadata": {},
   "source": [
    "## Revisiting the traffic flow example: \n",
    "\n",
    "Initial Scenario:\n",
    "* Path Identified: A → C → D → E\n",
    "* Minimum Capacity: 10 vehicles/hour\n",
    "* Interpretation: This path has a bottleneck capacity of 10 vehicles/hour, which is the smallest capacity along the path.\n",
    "\t\n",
    "After Roadworks on C → D:\n",
    "* Capacity Reduced: C → D from 10 to 5 vehicles/hour\n",
    "* New Path Identified: A → B → D → E\n",
    "* Minimum Capacity: 5 vehicles/hour\n",
    "* Interpretation: Due to the roadworks reducing the capacity of C → D, the Maximin path shifts to A → B → D → E with a reduced minimum capacity of 5 vehicles/hour.\n",
    "\n",
    "Advantages of the Maximin Approach\n",
    "\n",
    "* Identifies Critical Paths: Highlights the most constrained paths in the network.\n",
    "* Enhances Reliability: By focusing on maximizing the minimum capacity, it ensures that the weakest links are optimized.\n",
    "* Facilitates Decision-Making: Helps in prioritizing infrastructure improvements or reallocating resources to critical sections.\n"
   ]
  },
  {
   "cell_type": "code",
   "execution_count": 1,
   "id": "b75ec92d",
   "metadata": {},
   "outputs": [],
   "source": [
    "import networkx as nx\n",
    "import matplotlib.pyplot as plt\n",
    "\n",
    "# Create a directed graph\n",
    "G = nx.DiGraph()\n",
    "\n",
    "# Add edges along with their capacities\n",
    "G.add_edge('A', 'B', capacity=10)\n",
    "G.add_edge('A', 'C', capacity=15)\n",
    "G.add_edge('B', 'D', capacity=10)\n",
    "G.add_edge('C', 'D', capacity=10)\n",
    "G.add_edge('B', 'E', capacity=5)\n",
    "G.add_edge('D', 'E', capacity=10)"
   ]
  },
  {
   "cell_type": "code",
   "execution_count": 2,
   "id": "68ede98b",
   "metadata": {},
   "outputs": [],
   "source": [
    "source = 'A'\n",
    "sink = 'E'"
   ]
  },
  {
   "cell_type": "code",
   "execution_count": 5,
   "id": "947df5a3",
   "metadata": {},
   "outputs": [],
   "source": [
    "def visualize_path(G, path, title):\n",
    "    pos = nx.spring_layout(G)\n",
    "    plt.figure(figsize=(8,6))\n",
    "    \n",
    "    # Draw all nodes and edges\n",
    "    nx.draw_networkx_nodes(G, pos, node_color='lightblue', node_size=2000)\n",
    "    nx.draw_networkx_edges(G, pos, edge_color='gray', arrows=True)\n",
    "    nx.draw_networkx_labels(G, pos, font_size=12, font_weight='bold')\n",
    "    \n",
    "    # Highlight the path\n",
    "    if path:\n",
    "        # Create a list of edge tuples in the path\n",
    "        path_edges = list(zip(path, path[1:]))\n",
    "        nx.draw_networkx_edges(G, pos, edgelist=path_edges, edge_color='red', width=2, arrows=True)\n",
    "        edge_labels = {(u, v): G[u][v]['capacity'] for u, v in path_edges}\n",
    "        nx.draw_networkx_edge_labels(G, pos, edge_labels=edge_labels, font_color='red')\n",
    "    \n",
    "    plt.title(title)\n",
    "    plt.axis('off')\n",
    "    plt.show()"
   ]
  },
  {
   "cell_type": "code",
   "execution_count": 3,
   "id": "4ff71c5b",
   "metadata": {},
   "outputs": [],
   "source": [
    "def maximin_path(G, source, sink):\n",
    "    \"\"\"\n",
    "    Finds the path from source to sink with the maximum minimum capacity.\n",
    "    \"\"\"\n",
    "    import heapq\n",
    "\n",
    "    # Initialize capacities to negative infinity\n",
    "    max_min_capacity = {node: float('-inf') for node in G.nodes}\n",
    "    max_min_capacity[source] = float('inf')\n",
    "\n",
    "    # Priority queue: (current max min capacity, node, path)\n",
    "    heap = [(-max_min_capacity[source], source, [])]\n",
    "\n",
    "    visited = set()\n",
    "\n",
    "    while heap:\n",
    "        # Get the node with the current highest min capacity\n",
    "        current_capacity, u, path = heapq.heappop(heap)\n",
    "        current_capacity = -current_capacity\n",
    "\n",
    "        if u in visited:\n",
    "            continue\n",
    "        visited.add(u)\n",
    "        path = path + [u]\n",
    "\n",
    "        if u == sink:\n",
    "            return current_capacity, path\n",
    "\n",
    "        for v in G.neighbors(u):\n",
    "            if v not in visited:\n",
    "                edge_capacity = G[u][v]['capacity']\n",
    "                # The minimal capacity along the path is the min of current path and this edge\n",
    "                min_capacity = min(current_capacity, edge_capacity)\n",
    "                if min_capacity > max_min_capacity[v]:\n",
    "                    max_min_capacity[v] = min_capacity\n",
    "                    heapq.heappush(heap, (-max_min_capacity[v], v, path))\n",
    "    \n",
    "    return None, None  # No path found"
   ]
  },
  {
   "cell_type": "code",
   "execution_count": 6,
   "id": "995efa96",
   "metadata": {},
   "outputs": [
    {
     "name": "stdout",
     "output_type": "stream",
     "text": [
      "=== Initial Maximin Path ===\n",
      "Path: A -> C -> D -> E\n",
      "Minimum capacity along this path: 10 vehicles/hour\n",
      "\n"
     ]
    },
    {
     "data": {
      "image/png": "[encoded data removed]",
      "text/plain": [
       "<Figure size 800x600 with 1 Axes>"
      ]
     },
     "metadata": {},
     "output_type": "display_data"
    }
   ],
   "source": [
    "# Find the maximin path\n",
    "capacity, path = maximin_path(G, source, sink)\n",
    "\n",
    "print(\"=== Initial Maximin Path ===\")\n",
    "print(f\"Path: {' -> '.join(path)}\")\n",
    "print(f\"Minimum capacity along this path: {capacity} vehicles/hour\\n\")\n",
    "\n",
    "# Visualize the path\n",
    "visualize_path(G, path, \"Maximin Path Before Roadworks\")"
   ]
  },
  {
   "cell_type": "markdown",
   "id": "88efa7ea",
   "metadata": {},
   "source": [
    "## Simulate Roadworks"
   ]
  },
  {
   "cell_type": "code",
   "execution_count": 7,
   "id": "b6bca432",
   "metadata": {},
   "outputs": [],
   "source": [
    "def simulate_roadworks(G, road, new_capacity):\n",
    "    \"\"\"\n",
    "    Simulates roadworks by reducing the capacity of a specified road.\n",
    "    \"\"\"\n",
    "    u, v = road\n",
    "    if G.has_edge(u, v):\n",
    "        G[u][v]['capacity'] = new_capacity\n",
    "        print(f\"Roadworks: Capacity of {u} -> {v} reduced to {new_capacity} vehicles/hour.\\n\")\n",
    "    else:\n",
    "        print(f\"Error: Road {u} -> {v} does not exist in the network.\\n\")"
   ]
  },
  {
   "cell_type": "code",
   "execution_count": 8,
   "id": "f60ea3e0",
   "metadata": {},
   "outputs": [
    {
     "name": "stdout",
     "output_type": "stream",
     "text": [
      "=== Maximin Path After Roadworks on C -> D ===\n",
      "Path: A -> C -> D -> E\n",
      "Minimum capacity along this path: 10 vehicles/hour\n",
      "\n"
     ]
    },
    {
     "data": {
      "image/png": "[encoded data removed]",
      "text/plain": [
       "<Figure size 800x600 with 1 Axes>"
      ]
     },
     "metadata": {},
     "output_type": "display_data"
    }
   ],
   "source": [
    "# Recompute the maximin path after roadworks\n",
    "new_capacity, new_path = maximin_path(G, source, sink)\n",
    "\n",
    "print(\"=== Maximin Path After Roadworks on C -> D ===\")\n",
    "print(f\"Path: {' -> '.join(new_path)}\")\n",
    "print(f\"Minimum capacity along this path: {new_capacity} vehicles/hour\\n\")\n",
    "\n",
    "# Visualize the new path\n",
    "visualize_path(G, new_path, \"Maximin Path After Roadworks on C -> D\")"
   ]
  },
  {
   "cell_type": "markdown",
   "id": "291da68a",
   "metadata": {},
   "source": [
    "## Summary \n",
    "\n",
    "* The style of Dynamic Programming - reusing solutions to subproblems - was first proposed by Richard Bellman. \n",
    "\n",
    "* <b>Top-down approach</b> (Memoization with recursion)\n",
    "   \n",
    "* <b>Bottom-down approach</b>: (Tabulation with iteration)\n",
    "\n",
    "* Shortest paths - topological sort \n",
    "\n",
    "* Network flows - minimax can be DP-ified! "
   ]
  },
  {
   "cell_type": "markdown",
   "id": "ff29b4f5",
   "metadata": {},
   "source": [
    "## Exercise \n",
    "\n",
    "You are given a rod of length $n$ and a table of prices that includes the selling price for rods of length  $1, 2, ..., n$. \n",
    "\n",
    "Your task is to determine the maximum revenue that can be obtained by cutting the rod into smaller pieces and selling them. You can make as many cuts as you want, and the order of the pieces doesn’t matter.\n",
    "\n",
    "Input:\n",
    "Rod length  $n = 8$ , prices = `[1, 5, 8, 9, 10, 17, 17, 20]`.\n",
    "\n",
    "Output:\n",
    "Maximum revenue = 22.\n",
    "(One possible way to achieve this: cut the rod into two pieces of lengths  2  and  6 , with prices  5 + 17 = 22 )."
   ]
  },
  {
   "cell_type": "code",
   "execution_count": 13,
   "id": "616c4bf5",
   "metadata": {},
   "outputs": [],
   "source": [
    "def rod_cutting(n, prices):\n",
    "    ..."
   ]
  },
  {
   "cell_type": "code",
   "execution_count": 12,
   "id": "b78d6803",
   "metadata": {},
   "outputs": [
    {
     "name": "stdout",
     "output_type": "stream",
     "text": [
      "Maximum Revenue: 22\n"
     ]
    }
   ],
   "source": [
    "n = 8\n",
    "prices = [1, 5, 8, 9, 10, 17, 17, 20]\n",
    "print(\"Maximum Revenue:\", rod_cutting(n, prices))  "
   ]
  },
  {
   "cell_type": "markdown",
   "id": "ec8b0a33",
   "metadata": {},
   "source": [
    "## Exercise \n",
    "\n",
    "Given the maximum weight that a knapsack (or rucksack / backpack) can hold, write a function which will determin the most valuable subset of items that can be included in the rucksack without exceeding its weight limit. \n",
    "\n",
    "Inputs will be: \n",
    "*   $W$ (the max weight the rucksack can hold)\n",
    "*   $n$ (number of items)\n",
    "*   The weights and values of the items (as a list)\n",
    "\n",
    "Input:\n",
    "* n = 4 ,  W = 7 ,\n",
    "* weights = [1, 3, 4, 5] ,\n",
    "* values = [1, 4, 5, 7] .\n",
    "\n",
    "Output:\n",
    "Maximum Value =  9 .\n"
   ]
  },
  {
   "cell_type": "code",
   "execution_count": null,
   "id": "cc8e66bb",
   "metadata": {},
   "outputs": [],
   "source": [
    "def knapsack(n, W, weights, values):\n",
    "    ..."
   ]
  },
  {
   "cell_type": "code",
   "execution_count": null,
   "id": "8c818b80",
   "metadata": {},
   "outputs": [
    {
     "name": "stdout",
     "output_type": "stream",
     "text": [
      "Maximum Value: 9\n"
     ]
    }
   ],
   "source": [
    "n = 4\n",
    "W = 7\n",
    "weights = [1, 3, 4, 5]\n",
    "values = [1, 4, 5, 7]\n",
    "\n",
    "print(\"Maximum Value:\", knapsack(n, W, weights, values))  # Output: 9"
   ]
  },
  {
   "cell_type": "markdown",
   "id": "5c8ea0c6",
   "metadata": {},
   "source": [
    "Extension on the knapsack exercise: now code your function to return the items which constitute the maximum value. "
   ]
  },
  {
   "cell_type": "code",
   "execution_count": null,
   "id": "108a881e",
   "metadata": {},
   "outputs": [],
   "source": [
    "# Amend the knapsack function above."
   ]
  },
  {
   "cell_type": "markdown",
   "id": "8660f435",
   "metadata": {},
   "source": [
    "## Exercise\n",
    "\n",
    "Remember that function you wrote in the first notebook to check if a given string is a palindrome (same word forwards as backwards)? Examples of palindromes include 'eve', 'madam', 'racecar' etc.\n",
    "\n",
    "If you didn't write this function, then now is your chance to solve this! \n",
    "\n",
    "If you did write a function in the first week then here's your chance to extend this with dynamic programming: Given a string `s`, find the longest contiguous substring of `s` that is a palindrome.\n",
    "\n",
    "\n"
   ]
  },
  {
   "cell_type": "code",
   "execution_count": null,
   "id": "0fd52420",
   "metadata": {},
   "outputs": [],
   "source": [
    "def longest_palindromic_substring(s):\n",
    "    ..."
   ]
  },
  {
   "cell_type": "code",
   "execution_count": 2,
   "id": "7acd1ade",
   "metadata": {},
   "outputs": [
    {
     "name": "stdout",
     "output_type": "stream",
     "text": [
      "aba\n"
     ]
    }
   ],
   "source": [
    "s = \"babad\"\n",
    "print(longest_palindromic_substring(s))\n"
   ]
  },
  {
   "cell_type": "code",
   "execution_count": 4,
   "id": "13de548c",
   "metadata": {},
   "outputs": [
    {
     "name": "stdout",
     "output_type": "stream",
     "text": [
      "eve\n"
     ]
    }
   ],
   "source": [
    "s = \"esthereven\"\n",
    "print(longest_palindromic_substring(s))"
   ]
  },
  {
   "cell_type": "code",
   "execution_count": 5,
   "id": "25389e9b",
   "metadata": {},
   "outputs": [
    {
     "name": "stdout",
     "output_type": "stream",
     "text": [
      "racecar\n"
     ]
    }
   ],
   "source": [
    "s = \"racecar\"\n",
    "print(longest_palindromic_substring(s))"
   ]
  },
  {
   "cell_type": "markdown",
   "id": "09bb7118",
   "metadata": {},
   "source": [
    "## Exercise\n",
    "\n",
    "Given two sequences, use dynamic programming to find the length of the longest common subsequences (LCS) present in both of them. \n",
    "\n",
    "For example:   \n",
    "`x = \"AGGTAB\"`  \n",
    "`y = \"GXTXAYB\"`\n",
    "\n",
    "Length of `LCS = 4`  \n",
    "(The LCS is `\"GTAB\"`.)\n"
   ]
  },
  {
   "cell_type": "code",
   "execution_count": null,
   "id": "50d71d94",
   "metadata": {},
   "outputs": [],
   "source": [
    "def longest_common_subsequence(X, Y):\n",
    "    ...\n"
   ]
  },
  {
   "cell_type": "code",
   "execution_count": 9,
   "id": "22ea0f89",
   "metadata": {},
   "outputs": [
    {
     "name": "stdout",
     "output_type": "stream",
     "text": [
      "Length of LCS: 4\n"
     ]
    }
   ],
   "source": [
    "X = \"AGGTZABA\"\n",
    "Y = \"GXRTXAYBT\"\n",
    "print(\"Length of LCS:\", longest_common_subsequence(X, Y))"
   ]
  },
  {
   "cell_type": "markdown",
   "id": "a4d7a164",
   "metadata": {},
   "source": [
    "## Exercise\n",
    "\n",
    "Given a positive integer $n$, determine the number of ways to partition $n$ as a sum of positive integers. Each partition is a unique way of expressing $n$ as a sum where the order of addends does not matter.\n",
    "\n",
    "Input:\n",
    "n = 5 \n",
    "\n",
    "Output:\n",
    "7\n",
    "\n",
    "The partitions of 5 are:\n",
    "1.\t $5$ \n",
    "2.\t $4 + 1$ \n",
    "3.\t $3 + 2$ \n",
    "4.\t $3 + 1 + 1$ \n",
    "5.\t $2 + 2 + 1$ \n",
    "6.\t $2 + 1 + 1 + 1$ \n",
    "7.\t $1 + 1 + 1 + 1 + 1$ \n"
   ]
  },
  {
   "cell_type": "code",
   "execution_count": null,
   "id": "2fb5480b",
   "metadata": {},
   "outputs": [],
   "source": [
    "def partition_count(n):\n",
    "    ...\n"
   ]
  },
  {
   "cell_type": "code",
   "execution_count": 17,
   "id": "11205d7f",
   "metadata": {},
   "outputs": [
    {
     "name": "stdout",
     "output_type": "stream",
     "text": [
      "Number of partitions: 7\n"
     ]
    }
   ],
   "source": [
    "n = 5\n",
    "print(\"Number of partitions:\", partition_count(n))  # Output: 7"
   ]
  },
  {
   "cell_type": "markdown",
   "id": "78bb9dd8",
   "metadata": {},
   "source": [
    "Extension: If you used a 2D DP Table for your answer above, now write the solution as a 1D DP array. "
   ]
  },
  {
   "cell_type": "code",
   "execution_count": null,
   "id": "4ad938ff",
   "metadata": {},
   "outputs": [],
   "source": [
    "# Make a copy of your function here and optimise this. "
   ]
  },
  {
   "cell_type": "markdown",
   "id": "9d70cf7e",
   "metadata": {},
   "source": [
    "## Exercise \n",
    "\n",
    "Given a directed graph $G$ with $n$ nodes and $m$ edges, each edge $(u, v)$ has a capacity $c(u, v)$. Determine the maximum possible flow from a source $s$ to a sink $t$, such that the maximum flow through any single edge is minimized.\n",
    "\n",
    "This problem minimizes the “bottleneck” of the network, ensuring that no single edge carries an excessive amount of the flow."
   ]
  },
  {
   "cell_type": "code",
   "execution_count": null,
   "id": "b9e342f7",
   "metadata": {},
   "outputs": [],
   "source": []
  },
  {
   "cell_type": "markdown",
   "id": "1869abe2",
   "metadata": {},
   "source": [
    "## Exericse\n",
    "\n",
    "Given a flow network, find a path from $s$ to $t$ such that the minimum edge capacity along the path is maximized.\n",
    "\n",
    "Given a directed graph $G$ with $n$ nodes and $m$ edges, find the maximum flow $F$ from source $s$ to sink $t$, such that the minimum flow through any edge in the solution is maximized.\n",
    "\n",
    "Extension: This problem maximizes the smallest amount of flow on any edge used in the final flow, ensuring a “balanced” distribution of flow across the network."
   ]
  },
  {
   "cell_type": "markdown",
   "id": "01807dbd",
   "metadata": {},
   "source": []
  },
  {
   "cell_type": "markdown",
   "id": "d0854592",
   "metadata": {},
   "source": [
    "## Exercise (Towers of Hanoi)\n",
    "\n",
    "Towers of Hanoi is a mathematical puzzle consisting of three rods and a number of disks of different sizes. The puzzle starts with the disks neatly stacked in ascending order of size on one rod, the smallest at the top, making a conical shape. The objective is to move the entire stack to another rod, following these simple rules:\n",
    "\n",
    "1.\tOnly one disk can be moved at a time.\n",
    "\n",
    "2.\tEach move consists of taking the upper disk from one of the stacks and placing it on top of another stack or on an empty rod.\n",
    "\n",
    "3.\tNo larger disk may be placed on top of a smaller disk.\n",
    "\n",
    "![towers_3_gif](https://www.tutorialspoint.com/data_structures_algorithms/images/tower_of_hanoi.gif)\n",
    "\n",
    "Task: First write a recursive algorithm to solve the Towers of Hanoi for $n$ disks. Then compare this recursive solution to an iterative algorithm that it will also work for $n$ disks. What do you notice? Which is more efficient as $n$ grows?\n",
    "\n",
    "Extension: Is it possible to apply dynamic programming principles to write a more efficient solution? If is not possible, explain why.\n"
   ]
  },
  {
   "cell_type": "code",
   "execution_count": null,
   "id": "b189b863",
   "metadata": {},
   "outputs": [],
   "source": []
  },
  {
   "cell_type": "markdown",
   "id": "2955784e",
   "metadata": {},
   "source": [
    "## Floyd-Warshall Algorithm - all pairs shortest paths\n",
    "\n"
   ]
  },
  {
   "cell_type": "markdown",
   "id": "6027b14f",
   "metadata": {},
   "source": [
    "Floyd Warshall algorithm - all-pairs shortest paths\n",
    "* This is a dynamic programming approach to build up the solution for the shortest paths step by step. \n",
    "* It considers each pair of vertices and iteratively improves the path between them by considering each possible intermediate vertex.\n",
    "*\n",
    "* Step 1. Initialization: \n",
    "*   Create a 2D array dist where dist[i][j] represents the shortest distance from vertex i to vertex j. \n",
    "*   Initialize dist[i][j] to the weight of the edge from i to j if it exists, otherwise to infinity. \n",
    "*   Set dist[i][i] = 0 for all vertices i.\n",
    "*\n",
    "* Step 2. Dynamic Programming:  \n",
    "*   Update the distance array dist by considering each vertex as an intermediate vertex and \n",
    "*   updating the shortest paths accordingly. For each pair of vertices (i, j), update dist[i][j].\n",
    "*\n",
    "* Step 3. Result: \n",
    "*   After considering all vertices as intermediate vertices, the dist array contains the \n",
    "*   shortest paths between all pairs of vertices.\n",
    "*\n",
    "*\n",
    "*/\n"
   ]
  }
 ],
 "metadata": {
  "colab": {
   "provenance": []
  },
  "kernelspec": {
   "display_name": "Python 3",
   "language": "python",
   "name": "python3"
  },
  "language_info": {
   "codemirror_mode": {
    "name": "ipython",
    "version": 3
   },
   "file_extension": ".py",
   "mimetype": "text/x-python",
   "name": "python",
   "nbconvert_exporter": "python",
   "pygments_lexer": "ipython3",
   "version": "3.9.6"
  }
 },
 "nbformat": 4,
 "nbformat_minor": 5
}
