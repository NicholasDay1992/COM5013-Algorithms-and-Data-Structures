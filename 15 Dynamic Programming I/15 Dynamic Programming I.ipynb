{
  "cells": [
    {
      "cell_type": "markdown",
      "id": "1eba3b72",
      "metadata": {
        "id": "1eba3b72"
      },
      "source": [
        "# 15 Dynamic Programming I"
      ]
    },
    {
      "cell_type": "markdown",
      "id": "57bc8bf6",
      "metadata": {},
      "source": [
        "## Plan for the Lecture\n",
        "\n",
        "1. Origins of DP - Richard Bellman's principle of optimality\n",
        "\n",
        "2. DP optimisation strategies - Memoization vs tabulation / bottom-up vs top-down\n",
        "\n",
        "3. Fibonacci exercise "
      ]
    },
    {
      "cell_type": "markdown",
      "id": "01da05d5",
      "metadata": {},
      "source": [
        "## Introduction to Dynamic Programming \n",
        "\n",
        "* Dynamic programming is a technique for solving multi-stage decision-making problems. \n",
        "\n",
        "* It involves  a sequence of decisions, the object of which is to optimise time, profit, cost, or resources by taking the  correct decision at each stage. \n",
        "\n",
        "* It was first developed by Richard Bellman and others in the 1950s as a management tool. \n",
        "\n",
        "* it has since been applied to production planning, machine scheduling, stock control,  allocation of resources, maintenance and replacement of equipment, investment planning and process design, amongst others. \n"
      ]
    },
    {
      "cell_type": "markdown",
      "id": "c97c979b",
      "metadata": {},
      "source": [
        "## Richard Bellman's Principle of Optimality\n",
        "\n",
        "* Richard Bellman (1920 - 1984) was an American Mathematician who first proposed The Theory of Dynamic Programming in the 1950s (when programming was in its infancy - long before C, C++, C#, Java, Python).\n",
        "\n",
        "* Bellman coined the term 'Curse of Dimensionality' (exponential increase in volume from adding more dimensions to a mathematical space - think of 1D, 2D, 3D). \n",
        "\n",
        "* Alongside Lester Ford Jr, he also published the 'Bellman-Ford Algorithm' for shortest path analysis of graphs - which unlike Edsgar Dijkstra's algorithm - can handle negative weights. Dijkstra's was only engineered to handle non-negative (positive) weights.\n",
        "\n",
        "![Rich_E_Bellman](https://upload.wikimedia.org/wikipedia/en/7/7a/Richard_Ernest_Bellman.jpg)\n",
        "\n",
        "![Theory_of_Dyn_Prog](https://miro.medium.com/v2/resize:fit:1400/format:webp/1*u9pGurRcoGhvgFFs2XEUww.png)"
      ]
    },
    {
      "cell_type": "markdown",
      "id": "694e97ed",
      "metadata": {},
      "source": [
        "## The principle of optimality: \n",
        "\n",
        "> “In any optimal sequence of decisions or actions, whatever the initial decision or action may be, the remaining decisions or actions must constitute an optimal sequence with regard to the state resulting from the first decision.”\n",
        "> - Richard Bellman "
      ]
    },
    {
      "cell_type": "markdown",
      "id": "876f0281",
      "metadata": {},
      "source": [
        "Dynamic programming that is used to solve optimisation problems by dividing the problems into smaller subproblems.\n",
        "\n",
        "\n",
        "The principle relies on the idea that optimal solutions to complex problems can be constructed from optimal solutions to their subproblems. This recursive nature allows for breaking down large problems into manageable parts.\n",
        "\n"
      ]
    },
    {
      "cell_type": "markdown",
      "id": "05fb9691",
      "metadata": {},
      "source": [
        "## DP in memoization \n",
        "\n",
        "* Dynamic programming that is used to solve optimisation problems by dividing the problems into smaller subproblems.\n",
        "\n",
        "* The idea is to solve subproblems once and then store solutions to subproblems in memory. \n",
        "\n",
        "* This then allows the algorithm avoid redundant operations (to re-solve that subproblem) and optimise overall efficiency. \n"
      ]
    },
    {
      "cell_type": "markdown",
      "id": "0907f759",
      "metadata": {},
      "source": [
        "## Top-down vs Bottom-up approaches to Dynamic Programming: \n",
        "\n",
        "* Top-down approach: <b>Memoization with recursion </b>\n",
        "   * Stores solved problems in memory (hence the memo-) like caching. Can then retrieve previously solved problems. Often used in a recursive function.\n",
        "   \n",
        "* Bottom-down approach: <b>Tabulation with iteration </b>\n",
        "  * Starts with smallest subproblem and solves in a predefined order – from smallest to largest. Stores solutions in a table (hence the tablu- prefix) and then uses them to solve larger subproblems. This map avoids the function call overhead and stack limitations of recursion. \n"
      ]
    },
    {
      "cell_type": "markdown",
      "id": "768e765d",
      "metadata": {},
      "source": [
        "## What is memoization? \n",
        "\n",
        "* Memo pad - to write down solutions (think 'notepad')\n",
        "\n",
        "* To remember\n",
        "\n",
        "* Recycle previously stored problems \n",
        "\n",
        "<img src=\"https://www.choicewholesale.co.uk/cdn/shop/products/2imgmzuxgrz.jpg?v=1671883077\" alt=\"memo_pad\" width=\"150\"> "
      ]
    },
    {
      "cell_type": "markdown",
      "id": "3ff910da",
      "metadata": {},
      "source": [
        "## Fibonnacci numbers\n",
        "\n",
        "$F(n) = F(n-1) + F(n-2)$    for $n >=2 $ \n",
        "\n",
        "Below is a niave recursive solution: "
      ]
    },
    {
      "cell_type": "code",
      "execution_count": 25,
      "id": "9b1c80f2",
      "metadata": {},
      "outputs": [],
      "source": [
        "fib_naive_count = 0\n",
        "\n",
        "def fib_naive(n):\n",
        "    global fib_naive_count\n",
        "    fib_naive_count += 1 \n",
        "    \n",
        "    if n == 0: \n",
        "        return 0;     #base case F(0) = 0\n",
        "    if n == 1: \n",
        "        return 1;     #base case F(1) = 0\n",
        "    return fib_naive(n - 1) + fib_naive(n - 2);     #recursive call"
      ]
    },
    {
      "cell_type": "code",
      "execution_count": 26,
      "id": "6c4039de",
      "metadata": {},
      "outputs": [
        {
          "name": "stdout",
          "output_type": "stream",
          "text": [
            "f(0) = 0\n",
            "f(1) = 1\n",
            "f(2) = 1\n",
            "f(3) = 2\n",
            "f(4) = 3\n",
            "f(5) = 5\n",
            "f(6) = 8\n",
            "f(7) = 13\n",
            "f(8) = 21\n",
            "f(9) = 34\n",
            "f(10) = 55\n",
            "f(11) = 89\n",
            "f(12) = 144\n",
            "f(13) = 233\n",
            "f(14) = 377\n"
          ]
        }
      ],
      "source": [
        "for i in range (0,15):\n",
        "    print(\"f(\" + str(i) + \") = \" + str( fib_naive(i)))"
      ]
    },
    {
      "cell_type": "code",
      "execution_count": 27,
      "id": "04ad28c0",
      "metadata": {},
      "outputs": [
        {
          "name": "stdout",
          "output_type": "stream",
          "text": [
            "f(0) = 0 - took 1 operations to compute\n",
            "f(1) = 1 - took 1 operations to compute\n",
            "f(2) = 1 - took 3 operations to compute\n",
            "f(3) = 2 - took 5 operations to compute\n",
            "f(4) = 3 - took 9 operations to compute\n",
            "f(5) = 5 - took 15 operations to compute\n",
            "f(6) = 8 - took 25 operations to compute\n",
            "f(7) = 13 - took 41 operations to compute\n",
            "f(8) = 21 - took 67 operations to compute\n",
            "f(9) = 34 - took 109 operations to compute\n",
            "f(10) = 55 - took 177 operations to compute\n",
            "f(11) = 89 - took 287 operations to compute\n",
            "f(12) = 144 - took 465 operations to compute\n",
            "f(13) = 233 - took 753 operations to compute\n",
            "f(14) = 377 - took 1219 operations to compute\n"
          ]
        }
      ],
      "source": [
        "for i in range (0,15):\n",
        "    fib_naive_count = 0\n",
        "    print(\"f(\" + str(i) + \") = \" + str( fib_naive(i))+ \" - took \" + str(fib_naive_count) + \" operations to compute\")"
      ]
    },
    {
      "cell_type": "markdown",
      "id": "f85a04be",
      "metadata": {},
      "source": [
        "The time complexity of this original solution is exponential $O(2^n)$. For each Fibonacci number computed, two recursive calls are made (except for the base cases where $n <= 1$ ), leading to a binary tree of recursive calls with a height of $n$.\n",
        "\n",
        "![Recursive_fib_tree](https://i.sstatic.net/8O0eb.jpg)"
      ]
    },
    {
      "cell_type": "markdown",
      "id": "26157b13",
      "metadata": {},
      "source": [
        "## Top-down: Recursion with a memo"
      ]
    },
    {
      "cell_type": "code",
      "execution_count": 28,
      "id": "7571d20f",
      "metadata": {},
      "outputs": [],
      "source": [
        "fib_memo_count = 0\n",
        "\n",
        "def fib_memo(n, memo=None):\n",
        "    global fib_memo_count\n",
        "    fib_memo_count += 1 \n",
        "    \n",
        "    if memo is None:\n",
        "        memo = {}\n",
        "    if n in memo:\n",
        "        return memo[n]\n",
        "    if n <= 0:\n",
        "        return 0\n",
        "    elif n == 1:\n",
        "        return 1\n",
        "    memo[n] = fib_memo(n-1, memo) + fib_memo(n-2, memo)\n",
        "    return memo[n]"
      ]
    },
    {
      "cell_type": "code",
      "execution_count": 30,
      "id": "a79f1aa4",
      "metadata": {},
      "outputs": [
        {
          "name": "stdout",
          "output_type": "stream",
          "text": [
            "f(0) = 0 - took 1 operations to compute\n",
            "f(1) = 1 - took 1 operations to compute\n",
            "f(2) = 1 - took 3 operations to compute\n",
            "f(3) = 2 - took 5 operations to compute\n",
            "f(4) = 3 - took 7 operations to compute\n",
            "f(5) = 5 - took 9 operations to compute\n",
            "f(6) = 8 - took 11 operations to compute\n",
            "f(7) = 13 - took 13 operations to compute\n",
            "f(8) = 21 - took 15 operations to compute\n",
            "f(9) = 34 - took 17 operations to compute\n",
            "f(10) = 55 - took 19 operations to compute\n",
            "f(11) = 89 - took 21 operations to compute\n",
            "f(12) = 144 - took 23 operations to compute\n",
            "f(13) = 233 - took 25 operations to compute\n",
            "f(14) = 377 - took 27 operations to compute\n"
          ]
        }
      ],
      "source": [
        "test_values = range(0,15)\n",
        "\n",
        "for i in test_values:\n",
        "    fib_memo_count = 0\n",
        "    print(\"f(\" + str(i) + \") = \" + str( fib_memo(i))+ \" - took \" + str(fib_memo_count) + \" operations to compute\")"
      ]
    },
    {
      "cell_type": "markdown",
      "id": "dad90440",
      "metadata": {},
      "source": [
        "## Recursion optimised with `lru_cache` Decorator!"
      ]
    },
    {
      "cell_type": "code",
      "execution_count": 40,
      "id": "68b01704",
      "metadata": {},
      "outputs": [],
      "source": [
        "from functools import lru_cache\n",
        "\n",
        "fib_lru_count = 0 \n",
        "\n",
        "@lru_cache(maxsize=None)\n",
        "def fib_lru(n):\n",
        "    global fib_lru_count\n",
        "    fib_lru_count += 1 \n",
        "    #if n < 0:\n",
        "    #    raise ValueError(\"Fibonacci number is not defined for negative integers.\")\n",
        "    if n == 0:\n",
        "        return 0\n",
        "    if n == 1:\n",
        "        return 1\n",
        "    return fib_lru(n-1) + fib_lru(n-2)"
      ]
    },
    {
      "cell_type": "code",
      "execution_count": 35,
      "id": "fd3b9429",
      "metadata": {},
      "outputs": [
        {
          "name": "stdout",
          "output_type": "stream",
          "text": [
            "f(35) = 9227465\n"
          ]
        }
      ],
      "source": [
        "n = 35\n",
        "print(f\"f({n}) = {fib_lru(n)}\")"
      ]
    },
    {
      "cell_type": "code",
      "execution_count": 41,
      "id": "6b2451a6",
      "metadata": {},
      "outputs": [
        {
          "name": "stdout",
          "output_type": "stream",
          "text": [
            "f(0) = 0 - took 1 operations to compute\n",
            "f(1) = 1 - took 1 operations to compute\n",
            "f(2) = 1 - took 1 operations to compute\n",
            "f(3) = 2 - took 1 operations to compute\n",
            "f(4) = 3 - took 1 operations to compute\n",
            "f(5) = 5 - took 1 operations to compute\n",
            "f(6) = 8 - took 1 operations to compute\n",
            "f(7) = 13 - took 1 operations to compute\n",
            "f(8) = 21 - took 1 operations to compute\n",
            "f(9) = 34 - took 1 operations to compute\n",
            "f(10) = 55 - took 1 operations to compute\n",
            "f(11) = 89 - took 1 operations to compute\n",
            "f(12) = 144 - took 1 operations to compute\n",
            "f(13) = 233 - took 1 operations to compute\n",
            "f(14) = 377 - took 1 operations to compute\n"
          ]
        }
      ],
      "source": [
        "\n",
        "for i in test_values:\n",
        "    fib_lru_count = 0\n",
        "    print(\"f(\" + str(i) + \") = \" + str( fib_lru(i))+ \" - took \" + str(fib_lru_count) + \" operations to compute\")"
      ]
    },
    {
      "cell_type": "code",
      "execution_count": 45,
      "id": "346f0d09",
      "metadata": {},
      "outputs": [],
      "source": [
        "fib_iterative_count = 0 \n",
        "def fib_iterative(n):\n",
        "    #if n < 0:\n",
        "    #    raise ValueError(\"Fibonacci number is not defined for negative integers.\")\n",
        "    global fib_iterative_count\n",
        "    if n == 0:\n",
        "        return 0\n",
        "    if n == 1:\n",
        "        return 1\n",
        "    prev, curr = 0, 1\n",
        "    for _ in range(2, n+1):\n",
        "        fib_iterative_count += 1 \n",
        "        prev, curr = curr, prev + curr\n",
        "    return curr"
      ]
    },
    {
      "cell_type": "code",
      "execution_count": 39,
      "id": "e0e5f5b7",
      "metadata": {},
      "outputs": [
        {
          "name": "stdout",
          "output_type": "stream",
          "text": [
            "f(35) = 9227465\n"
          ]
        }
      ],
      "source": [
        "n = 35\n",
        "operation_count = 0 \n",
        "print(f\"f({n}) = {fib_iterative(n)}\")"
      ]
    },
    {
      "cell_type": "code",
      "execution_count": 46,
      "id": "043e4317",
      "metadata": {},
      "outputs": [
        {
          "name": "stdout",
          "output_type": "stream",
          "text": [
            "f(0) = 0 - took 0 operations to compute\n",
            "f(1) = 1 - took 0 operations to compute\n",
            "f(2) = 1 - took 1 operations to compute\n",
            "f(3) = 2 - took 2 operations to compute\n",
            "f(4) = 3 - took 3 operations to compute\n",
            "f(5) = 5 - took 4 operations to compute\n",
            "f(6) = 8 - took 5 operations to compute\n",
            "f(7) = 13 - took 6 operations to compute\n",
            "f(8) = 21 - took 7 operations to compute\n",
            "f(9) = 34 - took 8 operations to compute\n",
            "f(10) = 55 - took 9 operations to compute\n",
            "f(11) = 89 - took 10 operations to compute\n",
            "f(12) = 144 - took 11 operations to compute\n",
            "f(13) = 233 - took 12 operations to compute\n",
            "f(14) = 377 - took 13 operations to compute\n"
          ]
        }
      ],
      "source": [
        "\n",
        "for i in test_values:\n",
        "    fib_iterative_count = 0\n",
        "    print(\"f(\" + str(i) + \") = \" + str( fib_iterative(i))+ \" - took \" + str(fib_iterative_count) + \" operations to compute\")"
      ]
    },
    {
      "cell_type": "markdown",
      "id": "c42c44bb",
      "metadata": {},
      "source": [
        "## Time comparison"
      ]
    },
    {
      "cell_type": "markdown",
      "id": "2181899b",
      "metadata": {},
      "source": [
        "### Niave - no optimisation"
      ]
    },
    {
      "cell_type": "code",
      "execution_count": 23,
      "id": "1c14c665",
      "metadata": {},
      "outputs": [],
      "source": [
        "import time"
      ]
    },
    {
      "cell_type": "code",
      "execution_count": 31,
      "id": "77ce729a",
      "metadata": {},
      "outputs": [
        {
          "name": "stdout",
          "output_type": "stream",
          "text": [
            "f(35) = 9227465 computed in 3.2962 seconds\n"
          ]
        }
      ],
      "source": [
        "n = 35\n",
        "start_time = time.time()\n",
        "result = fib_naive(n)\n",
        "end_time = time.time()\n",
        "print(f\"f({n}) = {result} computed in {end_time - start_time:.4f} seconds\")"
      ]
    },
    {
      "cell_type": "markdown",
      "id": "449c536e",
      "metadata": {},
      "source": [
        "### With our own memo explicitly defined"
      ]
    },
    {
      "cell_type": "code",
      "execution_count": 33,
      "id": "7f4f4431",
      "metadata": {},
      "outputs": [
        {
          "name": "stdout",
          "output_type": "stream",
          "text": [
            "f(35) = 9227465 computed in 0.0001 seconds\n"
          ]
        }
      ],
      "source": [
        "n = 35\n",
        "start_time = time.time()\n",
        "result = fib_memo(n)\n",
        "end_time = time.time()\n",
        "print(f\"f({n}) = {result} computed in {end_time - start_time:.4f} seconds\")"
      ]
    },
    {
      "cell_type": "markdown",
      "id": "431c3d92",
      "metadata": {},
      "source": [
        "### Recursion with `lru_cache` decorator"
      ]
    },
    {
      "cell_type": "code",
      "execution_count": 46,
      "id": "570aa22e",
      "metadata": {},
      "outputs": [
        {
          "name": "stdout",
          "output_type": "stream",
          "text": [
            "f(35) = 9227465 computed in 0.000031 seconds\n"
          ]
        }
      ],
      "source": [
        "n = 35\n",
        "start_time = time.time()\n",
        "result = fib_lru(n)\n",
        "end_time = time.time()\n",
        "print(f\"f({n}) = {result} computed in {end_time - start_time:.6f} seconds\")"
      ]
    },
    {
      "cell_type": "markdown",
      "id": "f942a08f",
      "metadata": {},
      "source": [
        "### Fib with Iteration "
      ]
    },
    {
      "cell_type": "code",
      "execution_count": 47,
      "id": "7cd96fdf",
      "metadata": {},
      "outputs": [
        {
          "name": "stdout",
          "output_type": "stream",
          "text": [
            "f(35) = 9227465 computed in 0.000039 seconds\n"
          ]
        }
      ],
      "source": [
        "n = 35\n",
        "start_time = time.time()\n",
        "result = fib_iterative(n)\n",
        "end_time = time.time()\n",
        "print(f\"f({n}) = {result} computed in {end_time - start_time:.6f} seconds\")"
      ]
    },
    {
      "cell_type": "code",
      "execution_count": 48,
      "id": "e7ef17b4",
      "metadata": {},
      "outputs": [
        {
          "name": "stdout",
          "output_type": "stream",
          "text": [
            "Niave f(35) = 9227465 computed in 3.2972 seconds\n",
            "Memo: f(35) = 9227465 computed in 0.0000 seconds\n",
            "lru memo: f(35) = 9227465 computed in 0.000025 seconds\n",
            "Iterative f(35) = 9227465 computed in 0.000020 seconds\n"
          ]
        }
      ],
      "source": [
        "n = 35 \n",
        "\n",
        "# Niave: \n",
        "start_time = time.time()\n",
        "result = fib_naive(n)\n",
        "end_time = time.time()\n",
        "print(f\"Niave f({n}) = {result} computed in {end_time - start_time:.4f} seconds\")\n",
        "\n",
        "# Memo: \n",
        "start_time = time.time()\n",
        "result = fib_memo(n)\n",
        "end_time = time.time()\n",
        "print(f\"Memo: f({n}) = {result} computed in {end_time - start_time:.4f} seconds\")\n",
        "\n",
        "# lru memo\n",
        "\n",
        "start_time = time.time()\n",
        "result = fib_lru(n)\n",
        "end_time = time.time()\n",
        "print(f\"lru memo: f({n}) = {result} computed in {end_time - start_time:.6f} seconds\")\n",
        "\n",
        "\n",
        "# Iterative\n",
        "\n",
        "start_time = time.time()\n",
        "result = fib_iterative(n)\n",
        "end_time = time.time()\n",
        "print(f\"Iterative f({n}) = {result} computed in {end_time - start_time:.6f} seconds\")"
      ]
    },
    {
      "cell_type": "markdown",
      "id": "d0854592",
      "metadata": {},
      "source": [
        "## Exercise (Towers of Hanoi)\n",
        "\n",
        "![towers_3_gif](https://www.tutorialspoint.com/data_structures_algorithms/images/tower_of_hanoi.gif)\n",
        "\n",
        "Task: First write a recursive algorithm to solve the Towers of Hanoi for $n$ disks. Then compare this recursive solution to an iterative algorithm that it will also work for $n$ disks. What do you notice? Which is more efficient as $n$ grows?\n",
        "\n",
        "Extension: Is it possible to apply dynamic programming principles to write a more efficient solution? If not possible, explain why? \n"
      ]
    },
    {
      "cell_type": "code",
      "execution_count": null,
      "id": "b189b863",
      "metadata": {},
      "outputs": [],
      "source": []
    },
    {
      "cell_type": "markdown",
      "id": "09bb7118",
      "metadata": {},
      "source": [
        "## Longest Common Subsequence\n",
        "\n"
      ]
    },
    {
      "cell_type": "markdown",
      "id": "d2d9e254",
      "metadata": {},
      "source": [
        "* Exercise 2: Longest Common Subsequence (LCS)\n",
        "*\n",
        "* Given two sequences, find the length of the longest subsequence present in both of them. \n",
        "*\n",
        "* Step 1. Define a 2D dynamic programming table\n",
        "* Step 2. Initialise the base cases.\n",
        "* Step 3. Fill the table using the recurrence relation:\n",
        "*               If the characters of both sequences match:\n",
        "*                   dp[i][j] = dp[i-1][j-1] + 1\n",
        "*               else \n",
        "*                   dp[i][j] = max(dp[i-1][j], dp[i][j-1])\n",
        "* Step 4. The length of the LCS is in dp[m][n] where m and n are the lengths of the two sequences.\n",
        "*"
      ]
    },
    {
      "cell_type": "markdown",
      "id": "ec8b0a33",
      "metadata": {},
      "source": [
        "## Knapsack / Rucksack problem \n",
        "\n"
      ]
    },
    {
      "cell_type": "markdown",
      "id": "c60c0801",
      "metadata": {},
      "source": [
        "Exercise 3: Rucksack (knapsack) problem\n",
        "* Given a maximum weight that a rucksack (knapsack) can hold, write a function which will\n",
        "* determine the most valuable subset of items that can be included in the rucksack without exceeding its weight limit.\n",
        "* \n",
        "* Inputs will be: \n",
        "*   W (the max weight the rucksack can hold)\n",
        "*   n (number of items)\n",
        "*   The weights and values of the items\n",
        "* \n",
        "* To go about this problem, start by defining a table where rows represent items\n",
        "* and columns represent possible weight capacities. \n",
        "*/\n"
      ]
    },
    {
      "cell_type": "markdown",
      "id": "2955784e",
      "metadata": {},
      "source": [
        "## Floyd-Warshall Algorithm - all pairs shortest paths\n",
        "\n"
      ]
    },
    {
      "cell_type": "markdown",
      "id": "6027b14f",
      "metadata": {},
      "source": [
        "Floyd Warshall algorithm - all-pairs shortest paths\n",
        "* This is a dynamic programming approach to build up the solution for the shortest paths step by step. \n",
        "* It considers each pair of vertices and iteratively improves the path between them by considering each possible intermediate vertex.\n",
        "*\n",
        "* Step 1. Initialization: \n",
        "*   Create a 2D array dist where dist[i][j] represents the shortest distance from vertex i to vertex j. \n",
        "*   Initialize dist[i][j] to the weight of the edge from i to j if it exists, otherwise to infinity. \n",
        "*   Set dist[i][i] = 0 for all vertices i.\n",
        "*\n",
        "* Step 2. Dynamic Programming:  \n",
        "*   Update the distance array dist by considering each vertex as an intermediate vertex and \n",
        "*   updating the shortest paths accordingly. For each pair of vertices (i, j), update dist[i][j].\n",
        "*\n",
        "* Step 3. Result: \n",
        "*   After considering all vertices as intermediate vertices, the dist array contains the \n",
        "*   shortest paths between all pairs of vertices.\n",
        "*\n",
        "*\n",
        "*/\n"
      ]
    },
    {
      "cell_type": "markdown",
      "id": "d85a3c05",
      "metadata": {},
      "source": [
        "## Bellman-Ford Algorithm \n",
        "\n",
        "Belmman-Ford is good for reporting negative cycles - edges that sum to negative values.\n",
        "\n",
        "![Bellman_ford_algo](https://upload.wikimedia.org/wikipedia/commons/thumb/7/77/Bellman–Ford_algorithm_example.gif/440px-Bellman–Ford_algorithm_example.gif)"
      ]
    },
    {
      "cell_type": "markdown",
      "id": "58f9b956",
      "metadata": {},
      "source": [
        "## Applying DP to a directed network:\n",
        "\n",
        "Some problems can be solved by drawing a directed network showing the possible decisions at each  stage. You start at $S$ and can make one of several decisions. Depending upon which one you take, you  can then take more decisions and so on, until you eventually reach $T$. \n",
        "\n",
        "The easiest problems are about minimising the cost or time. This is, of course, the same as finding the  shortest path from $S$ to $T$. \n",
        "\n",
        "If the shortest/longest path from $S$ to $T$ is $SABCT$, \n",
        "* then: the shortest/longest path from $S$ to $C$ is $SABC$, \n",
        "* the shortest/longest path from $S$ to $B$ is $SAB$,  \n",
        "* the shortest/longest path from $S$ to $A$ is $SA$,  \n",
        "* and the shortest/longest path from $A$ to $C$ is $ABC$. \n",
        "\n",
        "Pearson Edexcel AS and A level Further Mathematics Decision Mathematics 2 Textbook + e-book (A level Maths and Further Maths 2017) (p. 152). Pearson Education."
      ]
    },
    {
      "cell_type": "markdown",
      "id": "c7d0c9b8",
      "metadata": {},
      "source": [
        "Use the following terminology for dynamic programming problems presented in network  form:  \n",
        "\n",
        "* `Stage` - The route from the initial stage (`S` say) to the final state (`T` say) is made up of a sequence of moves. Each move is a stage / a time interval or an option being considered. \n",
        "\n",
        "* `State` - Vertex you are considering / the value of a resource from a previous stage.\n",
        "\n",
        "* `Action` - This is the directed arc from one state to the next. In selecting an arc you are  considering what happens if you do that action. / The amount of the resource used in the current stage.\n",
        "\n",
        "* `Destination` This is the vertex you arrive at having taken the action. / The value of the resource passed to the next stage.   \n",
        "\n",
        "* `Value` This is the sum of the weights on the arcs used in a sequence of actions. / This is the sum of the weights on the arcs used in a sequence of actions. \n",
        "\n",
        "Pearson Edexcel AS and A level Further Mathematics Decision Mathematics 2 Textbook + e-book (A level Maths and Further Maths 2017) (p. 178). Pearson Education. Kindle Edition. "
      ]
    },
    {
      "cell_type": "markdown",
      "id": "c6b11c93",
      "metadata": {},
      "source": [
        "## minimax and maximin\n",
        "\n",
        "* minimax route is one in which the maximum value of the individual arcs (edges) used is as small  as possible.\n",
        "\n",
        "* A maximin route is one in which the minimum value of the individual arcs (edges) used is as large  as possible. \n"
      ]
    },
    {
      "cell_type": "markdown",
      "id": "0ba43fff",
      "metadata": {},
      "source": [
        "## Applying Dynamic Programming to network flows\n",
        "\n",
        "* Maximin - Maximize the minimum capacity along a path\n",
        "\n",
        "    * Optimising the most constrained link (bottleneck)\n",
        "\n",
        "* Minimax - Minimize the maximum capacity (or other metric) along a path\n",
        "\n",
        "    * Reduce the most overloaded / costly link"
      ]
    },
    {
      "cell_type": "markdown",
      "id": "ba14fb3b",
      "metadata": {},
      "source": [
        "## Revisiting the traffic flow example: \n",
        "\n",
        "Initial Scenario:\n",
        "* Path Identified: A → C → D → E\n",
        "* Minimum Capacity: 10 vehicles/hour\n",
        "* Interpretation: This path has a bottleneck capacity of 10 vehicles/hour, which is the smallest capacity along the path.\n",
        "\t\n",
        "After Roadworks on C → D:\n",
        "* Capacity Reduced: C → D from 10 to 5 vehicles/hour\n",
        "* New Path Identified: A → B → D → E\n",
        "* Minimum Capacity: 5 vehicles/hour\n",
        "* Interpretation: Due to the roadworks reducing the capacity of C → D, the Maximin path shifts to A → B → D → E with a reduced minimum capacity of 5 vehicles/hour.\n",
        "\n",
        "Advantages of the Maximin Approach\n",
        "\n",
        "* Identifies Critical Paths: Highlights the most constrained paths in the network.\n",
        "* Enhances Reliability: By focusing on maximizing the minimum capacity, it ensures that the weakest links are optimized.\n",
        "* Facilitates Decision-Making: Helps in prioritizing infrastructure improvements or reallocating resources to critical sections.\n"
      ]
    },
    {
      "cell_type": "code",
      "execution_count": 1,
      "id": "b75ec92d",
      "metadata": {},
      "outputs": [],
      "source": [
        "import networkx as nx\n",
        "import matplotlib.pyplot as plt\n",
        "\n",
        "# Create a directed graph\n",
        "G = nx.DiGraph()\n",
        "\n",
        "# Add edges along with their capacities\n",
        "G.add_edge('A', 'B', capacity=10)\n",
        "G.add_edge('A', 'C', capacity=15)\n",
        "G.add_edge('B', 'D', capacity=10)\n",
        "G.add_edge('C', 'D', capacity=10)\n",
        "G.add_edge('B', 'E', capacity=5)\n",
        "G.add_edge('D', 'E', capacity=10)"
      ]
    },
    {
      "cell_type": "code",
      "execution_count": 2,
      "id": "68ede98b",
      "metadata": {},
      "outputs": [],
      "source": [
        "source = 'A'\n",
        "sink = 'E'"
      ]
    },
    {
      "cell_type": "code",
      "execution_count": 5,
      "id": "947df5a3",
      "metadata": {},
      "outputs": [],
      "source": [
        "def visualize_path(G, path, title):\n",
        "    pos = nx.spring_layout(G)\n",
        "    plt.figure(figsize=(8,6))\n",
        "    \n",
        "    # Draw all nodes and edges\n",
        "    nx.draw_networkx_nodes(G, pos, node_color='lightblue', node_size=2000)\n",
        "    nx.draw_networkx_edges(G, pos, edge_color='gray', arrows=True)\n",
        "    nx.draw_networkx_labels(G, pos, font_size=12, font_weight='bold')\n",
        "    \n",
        "    # Highlight the path\n",
        "    if path:\n",
        "        # Create a list of edge tuples in the path\n",
        "        path_edges = list(zip(path, path[1:]))\n",
        "        nx.draw_networkx_edges(G, pos, edgelist=path_edges, edge_color='red', width=2, arrows=True)\n",
        "        edge_labels = {(u, v): G[u][v]['capacity'] for u, v in path_edges}\n",
        "        nx.draw_networkx_edge_labels(G, pos, edge_labels=edge_labels, font_color='red')\n",
        "    \n",
        "    plt.title(title)\n",
        "    plt.axis('off')\n",
        "    plt.show()"
      ]
    },
    {
      "cell_type": "code",
      "execution_count": 3,
      "id": "4ff71c5b",
      "metadata": {},
      "outputs": [],
      "source": [
        "def maximin_path(G, source, sink):\n",
        "    \"\"\"\n",
        "    Finds the path from source to sink with the maximum minimum capacity.\n",
        "    \"\"\"\n",
        "    import heapq\n",
        "\n",
        "    # Initialize capacities to negative infinity\n",
        "    max_min_capacity = {node: float('-inf') for node in G.nodes}\n",
        "    max_min_capacity[source] = float('inf')\n",
        "\n",
        "    # Priority queue: (current max min capacity, node, path)\n",
        "    heap = [(-max_min_capacity[source], source, [])]\n",
        "\n",
        "    visited = set()\n",
        "\n",
        "    while heap:\n",
        "        # Get the node with the current highest min capacity\n",
        "        current_capacity, u, path = heapq.heappop(heap)\n",
        "        current_capacity = -current_capacity\n",
        "\n",
        "        if u in visited:\n",
        "            continue\n",
        "        visited.add(u)\n",
        "        path = path + [u]\n",
        "\n",
        "        if u == sink:\n",
        "            return current_capacity, path\n",
        "\n",
        "        for v in G.neighbors(u):\n",
        "            if v not in visited:\n",
        "                edge_capacity = G[u][v]['capacity']\n",
        "                # The minimal capacity along the path is the min of current path and this edge\n",
        "                min_capacity = min(current_capacity, edge_capacity)\n",
        "                if min_capacity > max_min_capacity[v]:\n",
        "                    max_min_capacity[v] = min_capacity\n",
        "                    heapq.heappush(heap, (-max_min_capacity[v], v, path))\n",
        "    \n",
        "    return None, None  # No path found"
      ]
    },
    {
      "cell_type": "code",
      "execution_count": 6,
      "id": "995efa96",
      "metadata": {},
      "outputs": [
        {
          "name": "stdout",
          "output_type": "stream",
          "text": [
            "=== Initial Maximin Path ===\n",
            "Path: A -> C -> D -> E\n",
            "Minimum capacity along this path: 10 vehicles/hour\n",
            "\n"
          ]
        },
        {
          "data": {
            "image/png": "[encoded data removed]",
            "text/plain": [
              "<Figure size 800x600 with 1 Axes>"
            ]
          },
          "metadata": {},
          "output_type": "display_data"
        }
      ],
      "source": [
        "# Find the maximin path\n",
        "capacity, path = maximin_path(G, source, sink)\n",
        "\n",
        "print(\"=== Initial Maximin Path ===\")\n",
        "print(f\"Path: {' -> '.join(path)}\")\n",
        "print(f\"Minimum capacity along this path: {capacity} vehicles/hour\\n\")\n",
        "\n",
        "# Visualize the path\n",
        "visualize_path(G, path, \"Maximin Path Before Roadworks\")"
      ]
    },
    {
      "cell_type": "markdown",
      "id": "88efa7ea",
      "metadata": {},
      "source": [
        "## Simulate Roadworks"
      ]
    },
    {
      "cell_type": "code",
      "execution_count": 7,
      "id": "b6bca432",
      "metadata": {},
      "outputs": [],
      "source": [
        "def simulate_roadworks(G, road, new_capacity):\n",
        "    \"\"\"\n",
        "    Simulates roadworks by reducing the capacity of a specified road.\n",
        "    \"\"\"\n",
        "    u, v = road\n",
        "    if G.has_edge(u, v):\n",
        "        G[u][v]['capacity'] = new_capacity\n",
        "        print(f\"Roadworks: Capacity of {u} -> {v} reduced to {new_capacity} vehicles/hour.\\n\")\n",
        "    else:\n",
        "        print(f\"Error: Road {u} -> {v} does not exist in the network.\\n\")"
      ]
    },
    {
      "cell_type": "code",
      "execution_count": 8,
      "id": "f60ea3e0",
      "metadata": {},
      "outputs": [
        {
          "name": "stdout",
          "output_type": "stream",
          "text": [
            "=== Maximin Path After Roadworks on C -> D ===\n",
            "Path: A -> C -> D -> E\n",
            "Minimum capacity along this path: 10 vehicles/hour\n",
            "\n"
          ]
        },
        {
          "data": {
            "image/png": "[encoded data removed]",
            "text/plain": [
              "<Figure size 800x600 with 1 Axes>"
            ]
          },
          "metadata": {},
          "output_type": "display_data"
        }
      ],
      "source": [
        "# Recompute the maximin path after roadworks\n",
        "new_capacity, new_path = maximin_path(G, source, sink)\n",
        "\n",
        "print(\"=== Maximin Path After Roadworks on C -> D ===\")\n",
        "print(f\"Path: {' -> '.join(new_path)}\")\n",
        "print(f\"Minimum capacity along this path: {new_capacity} vehicles/hour\\n\")\n",
        "\n",
        "# Visualize the new path\n",
        "visualize_path(G, new_path, \"Maximin Path After Roadworks on C -> D\")"
      ]
    },
    {
      "cell_type": "markdown",
      "id": "001ae1d4",
      "metadata": {},
      "source": [
        "## Exercise: \n",
        "\n",
        "Without using any functions provided by libraries (e.g. `reverse()`), implement a function that will reverse the contents of a string. "
      ]
    },
    {
      "cell_type": "code",
      "execution_count": null,
      "id": "5922c579",
      "metadata": {},
      "outputs": [],
      "source": [
        "# Write your solution here or in a dedicated py file.\n"
      ]
    },
    {
      "cell_type": "markdown",
      "id": "8660f435",
      "metadata": {},
      "source": [
        "## Exercise: \n",
        "\n",
        "Write a function that checks if a given string is a palindrome (same word forwards as backwards). Examples of palindromes include 'eve', 'madam', 'racecar' etc.\n"
      ]
    },
    {
      "cell_type": "code",
      "execution_count": null,
      "id": "7acd1ade",
      "metadata": {},
      "outputs": [],
      "source": [
        "# Write your solution here or in a dedicated py file.\n"
      ]
    },
    {
      "cell_type": "markdown",
      "id": "74540fe3",
      "metadata": {},
      "source": [
        "## Exercise:\n",
        "Write a function to determine if a string has all unique characters. Return `True` or `False` respectively."
      ]
    },
    {
      "cell_type": "code",
      "execution_count": null,
      "id": "d4cf9d17",
      "metadata": {},
      "outputs": [],
      "source": [
        "# Write your solution here or in a dedicated py file.\n"
      ]
    },
    {
      "cell_type": "markdown",
      "id": "a203dabe",
      "metadata": {},
      "source": [
        "## Exercise:\n",
        "\n",
        "Write a function that will replace all spaces in a string with \"%20\". This is the hexedecimal encoding that is used to replace spaces in URLs (which cannot contain spaces). "
      ]
    },
    {
      "cell_type": "code",
      "execution_count": null,
      "id": "d53fbd47",
      "metadata": {},
      "outputs": [],
      "source": [
        "# Write your solution here or in a dedicated py file.\n"
      ]
    },
    {
      "cell_type": "markdown",
      "id": "baf9c196",
      "metadata": {},
      "source": [
        "## Exercise: \n",
        "\n",
        "Write a function that checks whether two given strings are anagrams of each other.\n",
        "Definition of an anagram is being able to make another word from the same characters: 'mood' and 'doom', 'listen' and 'silent' "
      ]
    },
    {
      "cell_type": "code",
      "execution_count": null,
      "id": "14476b80",
      "metadata": {},
      "outputs": [],
      "source": [
        "# Write your solution here or in a dedicated py file.\n"
      ]
    },
    {
      "cell_type": "markdown",
      "id": "127c7ad2",
      "metadata": {},
      "source": [
        "## Exercise: \n",
        "\n",
        "Write a function that will replace all spaces in a string with \"%20\". This is the hexedecimal encoding that is used to replace spaces in URLs (which cannot contain spaces). "
      ]
    },
    {
      "cell_type": "code",
      "execution_count": null,
      "id": "160357a0",
      "metadata": {},
      "outputs": [],
      "source": [
        "# Write your solution here or in a dedicated py file.\n"
      ]
    },
    {
      "cell_type": "markdown",
      "id": "fb89e781",
      "metadata": {},
      "source": [
        "## Additional Exercises - Maths"
      ]
    },
    {
      "cell_type": "markdown",
      "id": "83a7315f",
      "metadata": {},
      "source": [
        "## Exercise \n",
        "\n",
        "Write to function which will evaluate whether a number passed in is prime (divisible by itself and 1) or not. Return `True` if the number is prime, and return `False` if the number is not. Test this with a range of positive integers. "
      ]
    },
    {
      "cell_type": "code",
      "execution_count": null,
      "id": "a82c1502",
      "metadata": {},
      "outputs": [],
      "source": [
        "# Write your solution here or in a dedicated py file.\n"
      ]
    },
    {
      "cell_type": "markdown",
      "id": "a3598ca9",
      "metadata": {},
      "source": [
        "## Exercise \n",
        "\n",
        "Generate three side lengths of a triangle (positive integers). Write a function that will determine whether these form a right-angled triangle using Pythagoras’ theorem.\n",
        "\n",
        "As a reminder, Pythagoras' theorem is: $a^2 + b^2 = c^2$\n"
      ]
    },
    {
      "cell_type": "code",
      "execution_count": null,
      "id": "c43fb371",
      "metadata": {},
      "outputs": [],
      "source": [
        "# Write your solution here or in a dedicated py file.\n"
      ]
    },
    {
      "cell_type": "markdown",
      "id": "9eeff6fa",
      "metadata": {},
      "source": [
        "## Exercise \n",
        "Calculate the distance between two points $(x_1, y_1)$ and $(x_2, y_2)$ in a 2D plane using Pythagoras’ theorem.\n",
        "\n",
        "Hint: To calculate distance (denoted as $d$) applying the following formula:   \n",
        "$d = \\sqrt{(x_2 - x_1)^2 + (y_2 - y_1)^2}$ \n",
        "\n",
        "Extension: import matplotlib and draw these points and the line between them on a 2D plot."
      ]
    },
    {
      "cell_type": "code",
      "execution_count": null,
      "id": "6d37577e",
      "metadata": {},
      "outputs": [],
      "source": [
        "# Write your solution here or in a dedicated py file.\n"
      ]
    },
    {
      "cell_type": "markdown",
      "id": "981726bc",
      "metadata": {},
      "source": [
        "## Exercise \n",
        "\n",
        "Now, write a function which will output all prime numbers up to $N$ (which you pass in).\n",
        "If you get stuck, research the 'Sieve of Eratosthenes` and implement this algorithm to output the prime numbers in sequence up until the upper bound $N$ as specified."
      ]
    },
    {
      "cell_type": "code",
      "execution_count": null,
      "id": "6e629cb4",
      "metadata": {},
      "outputs": [],
      "source": [
        "# Write your solution here or in a dedicated py file.\n"
      ]
    },
    {
      "cell_type": "markdown",
      "id": "adfae9e9",
      "metadata": {},
      "source": [
        "## Additional OOP Exercises!"
      ]
    },
    {
      "cell_type": "markdown",
      "id": "91696723",
      "metadata": {},
      "source": [
        "## Exercise 1: \n",
        "\n",
        "Design the data structures for a generic deck of cards. Explain how you would subclass the data structures to implement blackjack (21). "
      ]
    },
    {
      "cell_type": "code",
      "execution_count": null,
      "id": "d398f704",
      "metadata": {},
      "outputs": [],
      "source": [
        "# Write your solution here or in a dedicated py file.\n"
      ]
    },
    {
      "cell_type": "markdown",
      "id": "8712ca5d",
      "metadata": {},
      "source": [
        "## Exercise 2: \n",
        "\n",
        "Imagine you have a call centre with three levels of employees: respondent, manager and director. An incoming telephone call must be first allocated to a respondent who is free. If a respondent can't handle the call, they must escalate the call to the manager. If the manager is not free or not able to handle it, then the call should be escalated to a director. Design classes and data structures for this problem. Implement a function `dispatch_call()` which assigns the call to the first available employee. "
      ]
    },
    {
      "cell_type": "code",
      "execution_count": null,
      "id": "b5a355fd",
      "metadata": {},
      "outputs": [],
      "source": [
        "# Write your solution here or in a dedicated py file.\n"
      ]
    },
    {
      "cell_type": "markdown",
      "id": "c5438444",
      "metadata": {},
      "source": [
        "## Exercise 3: \n",
        "\n",
        "Implement a jigsaw puzzle. Design the data structures and explain an algorithm to solve the puzzle. You can assume that you have a `fits_with()` function, which when passed two puzzle pieces, returns `True` if the pieces fit together. "
      ]
    },
    {
      "cell_type": "code",
      "execution_count": null,
      "id": "535aa15a",
      "metadata": {},
      "outputs": [],
      "source": [
        "# Write your solution here or in a dedicated py file.\n"
      ]
    }
  ],
  "metadata": {
    "colab": {
      "provenance": []
    },
    "kernelspec": {
      "display_name": "Python 3 (ipykernel)",
      "language": "python",
      "name": "python3"
    },
    "language_info": {
      "codemirror_mode": {
        "name": "ipython",
        "version": 3
      },
      "file_extension": ".py",
      "mimetype": "text/x-python",
      "name": "python",
      "nbconvert_exporter": "python",
      "pygments_lexer": "ipython3",
      "version": "3.9.6"
    }
  },
  "nbformat": 4,
  "nbformat_minor": 5
}
