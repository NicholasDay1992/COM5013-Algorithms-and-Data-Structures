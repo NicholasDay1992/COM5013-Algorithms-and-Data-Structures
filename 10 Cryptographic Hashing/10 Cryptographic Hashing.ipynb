{
 "cells": [
  {
   "cell_type": "markdown",
   "metadata": {},
   "source": [
    "<!--![pythonLogo.png](https://www.python.org/static/community_logos/python-powered-w-200x80.png) -->\n",
    "\n",
    "# 10 Cryptography and Hashing #\n"
   ]
  },
  {
   "cell_type": "markdown",
   "metadata": {},
   "source": [
    "## Plan for the lecture \n",
    "\n",
    "* Recap on Hashing and collision resolution \n",
    "\n",
    "* Encryption \n",
    "\n",
    "* Cryptographic hashing algorithms - SHA256"
   ]
  },
  {
   "cell_type": "markdown",
   "metadata": {},
   "source": [
    "## Recap on Hashing\n",
    "\n",
    "* Hash Maps allow users to search a data structure via characters instead of integer index positions. The characters (string) are converted to integers by a process of 'hashing'.\n",
    "\n",
    "* This hashing function will look up the ASCII value of each character. Each integer value is then multiplied by its position in the string to achieve a unique number. These are added together to create a large number. \n",
    "\n",
    "* To prevent having to allocate a large number of elements, the modulo sign (%) calculates a smaller number to reduce the size of elements.\n",
    "\n",
    "\n",
    "\n",
    "![hash](https://d18l82el6cdm1i.cloudfront.net/uploads/34EvJ7agjl-hash_table.gif)"
   ]
  },
  {
   "cell_type": "markdown",
   "metadata": {},
   "source": [
    "## Recap on Collision resolution\n",
    "\n",
    "With a reduced number of spaces available, hashing methods will return the same remainder for some modulus operations. This means that two (or more) items will be competing for the same element in the data structure.\n",
    "\n",
    "There are regarded to be two approaches to resolving collisions: \n",
    "\n",
    "* <b>Open Addressing</b> - e.g. An alternate address within the structure\n",
    "\n",
    "* <b>Separate Chaining</b> - e.g. A Linked List that extends out of an element with colliding values."
   ]
  },
  {
   "cell_type": "markdown",
   "metadata": {},
   "source": [
    "## Cryptography and Hashing"
   ]
  },
  {
   "cell_type": "markdown",
   "metadata": {},
   "source": [
    "## Python's hash library and SHA256\n",
    "\n",
    "Secure Hash Algorithm 256 bits (32 bytes) is a cryptographic hash function that produces a fixed-size 256-bit (32-byte) hash value from an input of any size. It is part of the SHA-2 family, which was designed by the National Security Agency (NSA) and published by the National Institute of Standards and Technology (NIST) in 2001."
   ]
  },
  {
   "cell_type": "markdown",
   "metadata": {},
   "source": [
    "## Secure Hashing Algorithm (SHA)\n",
    "\n",
    "* Secure Hashing Algorithm is a family of Hashing functions (one way), whereas encryption will need to be two-way (encrypt and decrypt)\n",
    "\n",
    "* SHA-1 can produce a hash up to 160 bits in length (20 bytes)\n",
    "\n",
    "* SHA-256 can produce a hash up to 256 bits in length (32 bytes)\n",
    "\n",
    "* SHA-256 provides significantly more combinations than SHA-1, approximately  $2^{96}$  times more possibilities, or about  $10^{29}$  times more.\n",
    "\n",
    "* This difference makes SHA-256 much more secure, as it provides a vastly larger space of possible outputs, reducing the risk of collisions (two different inputs producing the same hash). This is why SHA-256 is preferred for modern cryptographic applications"
   ]
  },
  {
   "cell_type": "markdown",
   "metadata": {},
   "source": [
    "<img src=\"https://nordvpn.com/wp-content/uploads/blog-infographic-sha-256-1.svg\" alt=\"sha256nordvpn\" width=\"650\"> "
   ]
  },
  {
   "cell_type": "code",
   "execution_count": 22,
   "metadata": {},
   "outputs": [],
   "source": [
    "import hashlib\n",
    "import json\n",
    "import time"
   ]
  },
  {
   "cell_type": "markdown",
   "metadata": {},
   "source": [
    "SHA-1"
   ]
  },
  {
   "cell_type": "code",
   "execution_count": 60,
   "metadata": {},
   "outputs": [
    {
     "name": "stdout",
     "output_type": "stream",
     "text": [
      "Original message: Hello, World!\n",
      "Hashed value: 0a0a9f2a6772942557ab5355d76af442f8f65e01\n"
     ]
    }
   ],
   "source": [
    "message = \"Hello, World!\"\n",
    "hash_object = hashlib.sha1(message.encode())\n",
    "hash_hex = hash_object.hexdigest()\n",
    "\n",
    "print(\"Original message:\", message)\n",
    "print(\"Hashed value:\", hash_hex)"
   ]
  },
  {
   "cell_type": "code",
   "execution_count": 61,
   "metadata": {},
   "outputs": [
    {
     "data": {
      "text/plain": [
       "20.0"
      ]
     },
     "execution_count": 61,
     "metadata": {},
     "output_type": "execute_result"
    }
   ],
   "source": [
    "l = []\n",
    "l = str(hash_hex)\n",
    "len(l) / 2  # divide by 2 due to hex codes '0a' is one hex"
   ]
  },
  {
   "cell_type": "code",
   "execution_count": 12,
   "metadata": {},
   "outputs": [
    {
     "data": {
      "text/plain": [
       "1.461501637330903e+48"
      ]
     },
     "execution_count": 12,
     "metadata": {},
     "output_type": "execute_result"
    }
   ],
   "source": [
    "import math\n",
    "math.pow(2, 160)"
   ]
  },
  {
   "cell_type": "code",
   "execution_count": 8,
   "metadata": {},
   "outputs": [
    {
     "name": "stdout",
     "output_type": "stream",
     "text": [
      "2^ 0 = 1.0\n",
      "2^ 1 = 2.0\n",
      "2^ 2 = 4.0\n",
      "2^ 3 = 8.0\n",
      "2^ 4 = 16.0\n",
      "2^ 5 = 32.0\n",
      "2^ 6 = 64.0\n",
      "2^ 7 = 128.0\n",
      "2^ 8 = 256.0\n",
      "2^ 9 = 512.0\n",
      "2^ 10 = 1024.0\n",
      "2^ 11 = 2048.0\n",
      "2^ 12 = 4096.0\n",
      "2^ 13 = 8192.0\n",
      "2^ 14 = 16384.0\n",
      "2^ 15 = 32768.0\n",
      "2^ 16 = 65536.0\n",
      "2^ 17 = 131072.0\n",
      "2^ 18 = 262144.0\n",
      "2^ 19 = 524288.0\n",
      "2^ 20 = 1048576.0\n",
      "2^ 21 = 2097152.0\n",
      "2^ 22 = 4194304.0\n",
      "2^ 23 = 8388608.0\n",
      "2^ 24 = 16777216.0\n",
      "2^ 25 = 33554432.0\n",
      "2^ 26 = 67108864.0\n",
      "2^ 27 = 134217728.0\n",
      "2^ 28 = 268435456.0\n",
      "2^ 29 = 536870912.0\n",
      "2^ 30 = 1073741824.0\n",
      "2^ 31 = 2147483648.0\n",
      "2^ 32 = 4294967296.0\n",
      "2^ 33 = 8589934592.0\n",
      "2^ 34 = 17179869184.0\n",
      "2^ 35 = 34359738368.0\n",
      "2^ 36 = 68719476736.0\n",
      "2^ 37 = 137438953472.0\n",
      "2^ 38 = 274877906944.0\n",
      "2^ 39 = 549755813888.0\n",
      "2^ 40 = 1099511627776.0\n",
      "2^ 41 = 2199023255552.0\n",
      "2^ 42 = 4398046511104.0\n",
      "2^ 43 = 8796093022208.0\n",
      "2^ 44 = 17592186044416.0\n",
      "2^ 45 = 35184372088832.0\n",
      "2^ 46 = 70368744177664.0\n",
      "2^ 47 = 140737488355328.0\n",
      "2^ 48 = 281474976710656.0\n",
      "2^ 49 = 562949953421312.0\n",
      "2^ 50 = 1125899906842624.0\n",
      "2^ 51 = 2251799813685248.0\n",
      "2^ 52 = 4503599627370496.0\n",
      "2^ 53 = 9007199254740992.0\n",
      "2^ 54 = 1.8014398509481984e+16\n",
      "2^ 55 = 3.602879701896397e+16\n",
      "2^ 56 = 7.205759403792794e+16\n",
      "2^ 57 = 1.4411518807585587e+17\n",
      "2^ 58 = 2.8823037615171174e+17\n",
      "2^ 59 = 5.764607523034235e+17\n",
      "2^ 60 = 1.152921504606847e+18\n",
      "2^ 61 = 2.305843009213694e+18\n",
      "2^ 62 = 4.611686018427388e+18\n",
      "2^ 63 = 9.223372036854776e+18\n",
      "2^ 64 = 1.8446744073709552e+19\n",
      "2^ 65 = 3.6893488147419103e+19\n",
      "2^ 66 = 7.378697629483821e+19\n",
      "2^ 67 = 1.4757395258967641e+20\n",
      "2^ 68 = 2.9514790517935283e+20\n",
      "2^ 69 = 5.902958103587057e+20\n",
      "2^ 70 = 1.1805916207174113e+21\n",
      "2^ 71 = 2.3611832414348226e+21\n",
      "2^ 72 = 4.722366482869645e+21\n",
      "2^ 73 = 9.44473296573929e+21\n",
      "2^ 74 = 1.888946593147858e+22\n",
      "2^ 75 = 3.777893186295716e+22\n",
      "2^ 76 = 7.555786372591432e+22\n",
      "2^ 77 = 1.5111572745182865e+23\n",
      "2^ 78 = 3.022314549036573e+23\n",
      "2^ 79 = 6.044629098073146e+23\n",
      "2^ 80 = 1.2089258196146292e+24\n",
      "2^ 81 = 2.4178516392292583e+24\n",
      "2^ 82 = 4.835703278458517e+24\n",
      "2^ 83 = 9.671406556917033e+24\n",
      "2^ 84 = 1.9342813113834067e+25\n",
      "2^ 85 = 3.8685626227668134e+25\n",
      "2^ 86 = 7.737125245533627e+25\n",
      "2^ 87 = 1.5474250491067253e+26\n",
      "2^ 88 = 3.094850098213451e+26\n",
      "2^ 89 = 6.189700196426902e+26\n",
      "2^ 90 = 1.2379400392853803e+27\n",
      "2^ 91 = 2.4758800785707605e+27\n",
      "2^ 92 = 4.951760157141521e+27\n",
      "2^ 93 = 9.903520314283042e+27\n",
      "2^ 94 = 1.9807040628566084e+28\n",
      "2^ 95 = 3.961408125713217e+28\n",
      "2^ 96 = 7.922816251426434e+28\n",
      "2^ 97 = 1.5845632502852868e+29\n",
      "2^ 98 = 3.1691265005705735e+29\n",
      "2^ 99 = 6.338253001141147e+29\n",
      "2^ 100 = 1.2676506002282294e+30\n",
      "2^ 101 = 2.535301200456459e+30\n",
      "2^ 102 = 5.070602400912918e+30\n",
      "2^ 103 = 1.0141204801825835e+31\n",
      "2^ 104 = 2.028240960365167e+31\n",
      "2^ 105 = 4.056481920730334e+31\n",
      "2^ 106 = 8.112963841460668e+31\n",
      "2^ 107 = 1.6225927682921336e+32\n",
      "2^ 108 = 3.2451855365842673e+32\n",
      "2^ 109 = 6.490371073168535e+32\n",
      "2^ 110 = 1.298074214633707e+33\n",
      "2^ 111 = 2.596148429267414e+33\n",
      "2^ 112 = 5.192296858534828e+33\n",
      "2^ 113 = 1.0384593717069655e+34\n",
      "2^ 114 = 2.076918743413931e+34\n",
      "2^ 115 = 4.153837486827862e+34\n",
      "2^ 116 = 8.307674973655724e+34\n",
      "2^ 117 = 1.661534994731145e+35\n",
      "2^ 118 = 3.32306998946229e+35\n",
      "2^ 119 = 6.64613997892458e+35\n",
      "2^ 120 = 1.329227995784916e+36\n",
      "2^ 121 = 2.658455991569832e+36\n",
      "2^ 122 = 5.316911983139664e+36\n",
      "2^ 123 = 1.0633823966279327e+37\n",
      "2^ 124 = 2.1267647932558654e+37\n",
      "2^ 125 = 4.253529586511731e+37\n",
      "2^ 126 = 8.507059173023462e+37\n",
      "2^ 127 = 1.7014118346046923e+38\n",
      "2^ 128 = 3.402823669209385e+38\n",
      "2^ 129 = 6.80564733841877e+38\n",
      "2^ 130 = 1.361129467683754e+39\n",
      "2^ 131 = 2.722258935367508e+39\n",
      "2^ 132 = 5.444517870735016e+39\n",
      "2^ 133 = 1.0889035741470031e+40\n",
      "2^ 134 = 2.1778071482940062e+40\n",
      "2^ 135 = 4.3556142965880123e+40\n",
      "2^ 136 = 8.711228593176025e+40\n",
      "2^ 137 = 1.742245718635205e+41\n",
      "2^ 138 = 3.48449143727041e+41\n",
      "2^ 139 = 6.96898287454082e+41\n",
      "2^ 140 = 1.393796574908164e+42\n",
      "2^ 141 = 2.787593149816328e+42\n",
      "2^ 142 = 5.575186299632656e+42\n",
      "2^ 143 = 1.1150372599265312e+43\n",
      "2^ 144 = 2.2300745198530623e+43\n",
      "2^ 145 = 4.460149039706125e+43\n",
      "2^ 146 = 8.92029807941225e+43\n",
      "2^ 147 = 1.78405961588245e+44\n",
      "2^ 148 = 3.5681192317649e+44\n",
      "2^ 149 = 7.1362384635298e+44\n",
      "2^ 150 = 1.42724769270596e+45\n",
      "2^ 151 = 2.85449538541192e+45\n",
      "2^ 152 = 5.70899077082384e+45\n",
      "2^ 153 = 1.141798154164768e+46\n",
      "2^ 154 = 2.283596308329536e+46\n",
      "2^ 155 = 4.567192616659072e+46\n",
      "2^ 156 = 9.134385233318143e+46\n",
      "2^ 157 = 1.8268770466636286e+47\n",
      "2^ 158 = 3.6537540933272573e+47\n",
      "2^ 159 = 7.307508186654515e+47\n",
      "2^ 160 = 1.461501637330903e+48\n"
     ]
    }
   ],
   "source": [
    "import math\n",
    "\n",
    "for i in range (0,161):\n",
    "    print(\"2^\", i, \"=\", str(math.pow(2, i)))"
   ]
  },
  {
   "cell_type": "markdown",
   "metadata": {},
   "source": [
    "SHA-256"
   ]
  },
  {
   "cell_type": "code",
   "execution_count": 62,
   "metadata": {},
   "outputs": [
    {
     "name": "stdout",
     "output_type": "stream",
     "text": [
      "Original message: Hello, World!\n",
      "Hashed value: dffd6021bb2bd5b0af676290809ec3a53191dd81c7f70a4b28688a362182986f\n"
     ]
    }
   ],
   "source": [
    "message = \"Hello, World!\"\n",
    "hash_object = hashlib.sha256(message.encode())\n",
    "hash_hex = hash_object.hexdigest()\n",
    "\n",
    "print(\"Original message:\", message)\n",
    "print(\"Hashed value:\", hash_hex)"
   ]
  },
  {
   "cell_type": "code",
   "execution_count": 63,
   "metadata": {},
   "outputs": [
    {
     "data": {
      "text/plain": [
       "32.0"
      ]
     },
     "execution_count": 63,
     "metadata": {},
     "output_type": "execute_result"
    }
   ],
   "source": [
    "l = []\n",
    "l = str(hash_hex)\n",
    "len(l) / 2 # divide by 2 due to hex codes 'df' is one hex"
   ]
  },
  {
   "cell_type": "code",
   "execution_count": 10,
   "metadata": {},
   "outputs": [
    {
     "data": {
      "text/plain": [
       "1.157920892373162e+77"
      ]
     },
     "execution_count": 10,
     "metadata": {},
     "output_type": "execute_result"
    }
   ],
   "source": [
    "math.pow(2, 256)"
   ]
  },
  {
   "cell_type": "code",
   "execution_count": 9,
   "metadata": {},
   "outputs": [
    {
     "name": "stdout",
     "output_type": "stream",
     "text": [
      "2^ 0 = 1.0\n",
      "2^ 1 = 2.0\n",
      "2^ 2 = 4.0\n",
      "2^ 3 = 8.0\n",
      "2^ 4 = 16.0\n",
      "2^ 5 = 32.0\n",
      "2^ 6 = 64.0\n",
      "2^ 7 = 128.0\n",
      "2^ 8 = 256.0\n",
      "2^ 9 = 512.0\n",
      "2^ 10 = 1024.0\n",
      "2^ 11 = 2048.0\n",
      "2^ 12 = 4096.0\n",
      "2^ 13 = 8192.0\n",
      "2^ 14 = 16384.0\n",
      "2^ 15 = 32768.0\n",
      "2^ 16 = 65536.0\n",
      "2^ 17 = 131072.0\n",
      "2^ 18 = 262144.0\n",
      "2^ 19 = 524288.0\n",
      "2^ 20 = 1048576.0\n",
      "2^ 21 = 2097152.0\n",
      "2^ 22 = 4194304.0\n",
      "2^ 23 = 8388608.0\n",
      "2^ 24 = 16777216.0\n",
      "2^ 25 = 33554432.0\n",
      "2^ 26 = 67108864.0\n",
      "2^ 27 = 134217728.0\n",
      "2^ 28 = 268435456.0\n",
      "2^ 29 = 536870912.0\n",
      "2^ 30 = 1073741824.0\n",
      "2^ 31 = 2147483648.0\n",
      "2^ 32 = 4294967296.0\n",
      "2^ 33 = 8589934592.0\n",
      "2^ 34 = 17179869184.0\n",
      "2^ 35 = 34359738368.0\n",
      "2^ 36 = 68719476736.0\n",
      "2^ 37 = 137438953472.0\n",
      "2^ 38 = 274877906944.0\n",
      "2^ 39 = 549755813888.0\n",
      "2^ 40 = 1099511627776.0\n",
      "2^ 41 = 2199023255552.0\n",
      "2^ 42 = 4398046511104.0\n",
      "2^ 43 = 8796093022208.0\n",
      "2^ 44 = 17592186044416.0\n",
      "2^ 45 = 35184372088832.0\n",
      "2^ 46 = 70368744177664.0\n",
      "2^ 47 = 140737488355328.0\n",
      "2^ 48 = 281474976710656.0\n",
      "2^ 49 = 562949953421312.0\n",
      "2^ 50 = 1125899906842624.0\n",
      "2^ 51 = 2251799813685248.0\n",
      "2^ 52 = 4503599627370496.0\n",
      "2^ 53 = 9007199254740992.0\n",
      "2^ 54 = 1.8014398509481984e+16\n",
      "2^ 55 = 3.602879701896397e+16\n",
      "2^ 56 = 7.205759403792794e+16\n",
      "2^ 57 = 1.4411518807585587e+17\n",
      "2^ 58 = 2.8823037615171174e+17\n",
      "2^ 59 = 5.764607523034235e+17\n",
      "2^ 60 = 1.152921504606847e+18\n",
      "2^ 61 = 2.305843009213694e+18\n",
      "2^ 62 = 4.611686018427388e+18\n",
      "2^ 63 = 9.223372036854776e+18\n",
      "2^ 64 = 1.8446744073709552e+19\n",
      "2^ 65 = 3.6893488147419103e+19\n",
      "2^ 66 = 7.378697629483821e+19\n",
      "2^ 67 = 1.4757395258967641e+20\n",
      "2^ 68 = 2.9514790517935283e+20\n",
      "2^ 69 = 5.902958103587057e+20\n",
      "2^ 70 = 1.1805916207174113e+21\n",
      "2^ 71 = 2.3611832414348226e+21\n",
      "2^ 72 = 4.722366482869645e+21\n",
      "2^ 73 = 9.44473296573929e+21\n",
      "2^ 74 = 1.888946593147858e+22\n",
      "2^ 75 = 3.777893186295716e+22\n",
      "2^ 76 = 7.555786372591432e+22\n",
      "2^ 77 = 1.5111572745182865e+23\n",
      "2^ 78 = 3.022314549036573e+23\n",
      "2^ 79 = 6.044629098073146e+23\n",
      "2^ 80 = 1.2089258196146292e+24\n",
      "2^ 81 = 2.4178516392292583e+24\n",
      "2^ 82 = 4.835703278458517e+24\n",
      "2^ 83 = 9.671406556917033e+24\n",
      "2^ 84 = 1.9342813113834067e+25\n",
      "2^ 85 = 3.8685626227668134e+25\n",
      "2^ 86 = 7.737125245533627e+25\n",
      "2^ 87 = 1.5474250491067253e+26\n",
      "2^ 88 = 3.094850098213451e+26\n",
      "2^ 89 = 6.189700196426902e+26\n",
      "2^ 90 = 1.2379400392853803e+27\n",
      "2^ 91 = 2.4758800785707605e+27\n",
      "2^ 92 = 4.951760157141521e+27\n",
      "2^ 93 = 9.903520314283042e+27\n",
      "2^ 94 = 1.9807040628566084e+28\n",
      "2^ 95 = 3.961408125713217e+28\n",
      "2^ 96 = 7.922816251426434e+28\n",
      "2^ 97 = 1.5845632502852868e+29\n",
      "2^ 98 = 3.1691265005705735e+29\n",
      "2^ 99 = 6.338253001141147e+29\n",
      "2^ 100 = 1.2676506002282294e+30\n",
      "2^ 101 = 2.535301200456459e+30\n",
      "2^ 102 = 5.070602400912918e+30\n",
      "2^ 103 = 1.0141204801825835e+31\n",
      "2^ 104 = 2.028240960365167e+31\n",
      "2^ 105 = 4.056481920730334e+31\n",
      "2^ 106 = 8.112963841460668e+31\n",
      "2^ 107 = 1.6225927682921336e+32\n",
      "2^ 108 = 3.2451855365842673e+32\n",
      "2^ 109 = 6.490371073168535e+32\n",
      "2^ 110 = 1.298074214633707e+33\n",
      "2^ 111 = 2.596148429267414e+33\n",
      "2^ 112 = 5.192296858534828e+33\n",
      "2^ 113 = 1.0384593717069655e+34\n",
      "2^ 114 = 2.076918743413931e+34\n",
      "2^ 115 = 4.153837486827862e+34\n",
      "2^ 116 = 8.307674973655724e+34\n",
      "2^ 117 = 1.661534994731145e+35\n",
      "2^ 118 = 3.32306998946229e+35\n",
      "2^ 119 = 6.64613997892458e+35\n",
      "2^ 120 = 1.329227995784916e+36\n",
      "2^ 121 = 2.658455991569832e+36\n",
      "2^ 122 = 5.316911983139664e+36\n",
      "2^ 123 = 1.0633823966279327e+37\n",
      "2^ 124 = 2.1267647932558654e+37\n",
      "2^ 125 = 4.253529586511731e+37\n",
      "2^ 126 = 8.507059173023462e+37\n",
      "2^ 127 = 1.7014118346046923e+38\n",
      "2^ 128 = 3.402823669209385e+38\n",
      "2^ 129 = 6.80564733841877e+38\n",
      "2^ 130 = 1.361129467683754e+39\n",
      "2^ 131 = 2.722258935367508e+39\n",
      "2^ 132 = 5.444517870735016e+39\n",
      "2^ 133 = 1.0889035741470031e+40\n",
      "2^ 134 = 2.1778071482940062e+40\n",
      "2^ 135 = 4.3556142965880123e+40\n",
      "2^ 136 = 8.711228593176025e+40\n",
      "2^ 137 = 1.742245718635205e+41\n",
      "2^ 138 = 3.48449143727041e+41\n",
      "2^ 139 = 6.96898287454082e+41\n",
      "2^ 140 = 1.393796574908164e+42\n",
      "2^ 141 = 2.787593149816328e+42\n",
      "2^ 142 = 5.575186299632656e+42\n",
      "2^ 143 = 1.1150372599265312e+43\n",
      "2^ 144 = 2.2300745198530623e+43\n",
      "2^ 145 = 4.460149039706125e+43\n",
      "2^ 146 = 8.92029807941225e+43\n",
      "2^ 147 = 1.78405961588245e+44\n",
      "2^ 148 = 3.5681192317649e+44\n",
      "2^ 149 = 7.1362384635298e+44\n",
      "2^ 150 = 1.42724769270596e+45\n",
      "2^ 151 = 2.85449538541192e+45\n",
      "2^ 152 = 5.70899077082384e+45\n",
      "2^ 153 = 1.141798154164768e+46\n",
      "2^ 154 = 2.283596308329536e+46\n",
      "2^ 155 = 4.567192616659072e+46\n",
      "2^ 156 = 9.134385233318143e+46\n",
      "2^ 157 = 1.8268770466636286e+47\n",
      "2^ 158 = 3.6537540933272573e+47\n",
      "2^ 159 = 7.307508186654515e+47\n",
      "2^ 160 = 1.461501637330903e+48\n",
      "2^ 161 = 2.923003274661806e+48\n",
      "2^ 162 = 5.846006549323612e+48\n",
      "2^ 163 = 1.1692013098647223e+49\n",
      "2^ 164 = 2.3384026197294447e+49\n",
      "2^ 165 = 4.6768052394588893e+49\n",
      "2^ 166 = 9.353610478917779e+49\n",
      "2^ 167 = 1.8707220957835557e+50\n",
      "2^ 168 = 3.7414441915671115e+50\n",
      "2^ 169 = 7.482888383134223e+50\n",
      "2^ 170 = 1.4965776766268446e+51\n",
      "2^ 171 = 2.9931553532536892e+51\n",
      "2^ 172 = 5.986310706507379e+51\n",
      "2^ 173 = 1.1972621413014757e+52\n",
      "2^ 174 = 2.3945242826029513e+52\n",
      "2^ 175 = 4.789048565205903e+52\n",
      "2^ 176 = 9.578097130411805e+52\n",
      "2^ 177 = 1.915619426082361e+53\n",
      "2^ 178 = 3.831238852164722e+53\n",
      "2^ 179 = 7.662477704329444e+53\n",
      "2^ 180 = 1.532495540865889e+54\n",
      "2^ 181 = 3.064991081731778e+54\n",
      "2^ 182 = 6.129982163463556e+54\n",
      "2^ 183 = 1.2259964326927111e+55\n",
      "2^ 184 = 2.4519928653854222e+55\n",
      "2^ 185 = 4.9039857307708443e+55\n",
      "2^ 186 = 9.807971461541689e+55\n",
      "2^ 187 = 1.9615942923083377e+56\n",
      "2^ 188 = 3.9231885846166755e+56\n",
      "2^ 189 = 7.846377169233351e+56\n",
      "2^ 190 = 1.5692754338466702e+57\n",
      "2^ 191 = 3.1385508676933404e+57\n",
      "2^ 192 = 6.277101735386681e+57\n",
      "2^ 193 = 1.2554203470773362e+58\n",
      "2^ 194 = 2.5108406941546723e+58\n",
      "2^ 195 = 5.021681388309345e+58\n",
      "2^ 196 = 1.004336277661869e+59\n",
      "2^ 197 = 2.008672555323738e+59\n",
      "2^ 198 = 4.017345110647476e+59\n",
      "2^ 199 = 8.034690221294951e+59\n",
      "2^ 200 = 1.6069380442589903e+60\n",
      "2^ 201 = 3.2138760885179806e+60\n",
      "2^ 202 = 6.427752177035961e+60\n",
      "2^ 203 = 1.2855504354071922e+61\n",
      "2^ 204 = 2.5711008708143844e+61\n",
      "2^ 205 = 5.142201741628769e+61\n",
      "2^ 206 = 1.0284403483257538e+62\n",
      "2^ 207 = 2.0568806966515076e+62\n",
      "2^ 208 = 4.113761393303015e+62\n",
      "2^ 209 = 8.22752278660603e+62\n",
      "2^ 210 = 1.645504557321206e+63\n",
      "2^ 211 = 3.291009114642412e+63\n",
      "2^ 212 = 6.582018229284824e+63\n",
      "2^ 213 = 1.3164036458569648e+64\n",
      "2^ 214 = 2.6328072917139297e+64\n",
      "2^ 215 = 5.2656145834278593e+64\n",
      "2^ 216 = 1.0531229166855719e+65\n",
      "2^ 217 = 2.1062458333711437e+65\n",
      "2^ 218 = 4.2124916667422875e+65\n",
      "2^ 219 = 8.424983333484575e+65\n",
      "2^ 220 = 1.684996666696915e+66\n",
      "2^ 221 = 3.36999333339383e+66\n",
      "2^ 222 = 6.73998666678766e+66\n",
      "2^ 223 = 1.347997333357532e+67\n",
      "2^ 224 = 2.695994666715064e+67\n",
      "2^ 225 = 5.391989333430128e+67\n",
      "2^ 226 = 1.0783978666860256e+68\n",
      "2^ 227 = 2.1567957333720512e+68\n",
      "2^ 228 = 4.3135914667441024e+68\n",
      "2^ 229 = 8.627182933488205e+68\n",
      "2^ 230 = 1.725436586697641e+69\n",
      "2^ 231 = 3.450873173395282e+69\n",
      "2^ 232 = 6.901746346790564e+69\n",
      "2^ 233 = 1.3803492693581128e+70\n",
      "2^ 234 = 2.7606985387162255e+70\n",
      "2^ 235 = 5.521397077432451e+70\n",
      "2^ 236 = 1.1042794154864902e+71\n",
      "2^ 237 = 2.2085588309729804e+71\n",
      "2^ 238 = 4.417117661945961e+71\n",
      "2^ 239 = 8.834235323891922e+71\n",
      "2^ 240 = 1.7668470647783843e+72\n",
      "2^ 241 = 3.533694129556769e+72\n",
      "2^ 242 = 7.067388259113537e+72\n",
      "2^ 243 = 1.4134776518227075e+73\n",
      "2^ 244 = 2.826955303645415e+73\n",
      "2^ 245 = 5.65391060729083e+73\n",
      "2^ 246 = 1.130782121458166e+74\n",
      "2^ 247 = 2.261564242916332e+74\n",
      "2^ 248 = 4.523128485832664e+74\n",
      "2^ 249 = 9.046256971665328e+74\n",
      "2^ 250 = 1.8092513943330656e+75\n",
      "2^ 251 = 3.618502788666131e+75\n",
      "2^ 252 = 7.237005577332262e+75\n",
      "2^ 253 = 1.4474011154664524e+76\n",
      "2^ 254 = 2.894802230932905e+76\n",
      "2^ 255 = 5.78960446186581e+76\n",
      "2^ 256 = 1.157920892373162e+77\n"
     ]
    }
   ],
   "source": [
    "import math\n",
    "\n",
    "for i in range (0,257):\n",
    "    print(\"2^\", i, \"=\", str(math.pow(2, i)))"
   ]
  },
  {
   "cell_type": "markdown",
   "metadata": {},
   "source": [
    "## Blockchain and Cryptocurrency uses SHA-256\n",
    "\n",
    "* Each block contains a cryptographic hash of the previous block, a timestamp, and transaction data.\n",
    "\n",
    "* These blocks are 'linked' ('chained') together by cryptography (hash codes). \n",
    "\n",
    "* Each block has a hash of the previous block, creating a secure and verifiable chain of data.\n",
    "\n",
    "* Unlike a linked list though, you're not able to delete blocks in the blockchain, otherwise this would violate the integrity of the ledger of transactions. "
   ]
  },
  {
   "cell_type": "markdown",
   "metadata": {},
   "source": [
    "![blockchain1](https://miro.medium.com/v2/resize:fit:977/1*mNdCyhj2WRSzmgTOVztaUg.png)"
   ]
  },
  {
   "cell_type": "code",
   "execution_count": 14,
   "metadata": {},
   "outputs": [
    {
     "name": "stdout",
     "output_type": "stream",
     "text": [
      "transaction string: b'{\"amount\": 50, \"receiver\": \"Bob\", \"sender\": \"Alice\"}'\n",
      "transaction hash: fd2aff1bbd25dca7091cbc385ccd82fc933a0f775d359ad067f46d4371bac73f\n"
     ]
    }
   ],
   "source": [
    "\n",
    "transaction = {\n",
    "    'sender': \"Alice\",\n",
    "    'receiver': \"Bob\",\n",
    "    'amount': 50\n",
    "}\n",
    "transaction_string = json.dumps(transaction, sort_keys=True).encode()\n",
    "transaction_hash = hashlib.sha256(transaction_string).hexdigest()\n",
    "\n",
    "print(\"transaction string:\",transaction_string)\n",
    "print(\"transaction hash:\",transaction_hash)"
   ]
  },
  {
   "cell_type": "markdown",
   "metadata": {},
   "source": [
    "## Blockchain of transactions"
   ]
  },
  {
   "cell_type": "code",
   "execution_count": 24,
   "metadata": {},
   "outputs": [],
   "source": [
    "class Block:\n",
    "    def __init__(self, index, previous_hash, timestamp, data, nonce=0):\n",
    "        self.index = index\n",
    "        self.previous_hash = previous_hash\n",
    "        self.timestamp = timestamp\n",
    "        self.data = data\n",
    "        self.nonce = nonce\n",
    "        self.hash = self.calculate_hash()\n",
    "\n",
    "    def calculate_hash(self):\n",
    "        block_string = f\"{self.index}{self.previous_hash}{self.timestamp}{self.data}{self.nonce}\"\n",
    "        return hashlib.sha256(block_string.encode()).hexdigest()"
   ]
  },
  {
   "cell_type": "code",
   "execution_count": 25,
   "metadata": {},
   "outputs": [],
   "source": [
    "class Blockchain:\n",
    "    def __init__(self):\n",
    "        self.chain = [self.create_genesis_block()]\n",
    "        self.difficulty = 4\n",
    "\n",
    "    def create_genesis_block(self):\n",
    "        return Block(0, \"0\", int(time.time()), \"Genesis Block\")\n",
    "\n",
    "    def get_latest_block(self):\n",
    "        return self.chain[-1]\n",
    "\n",
    "    def add_block(self, new_block):\n",
    "        new_block.previous_hash = self.get_latest_block().hash\n",
    "        new_block.hash = new_block.calculate_hash()\n",
    "        self.mine_block(new_block)\n",
    "        self.chain.append(new_block)\n",
    "\n",
    "    def mine_block(self, block):\n",
    "        target = \"0\" * self.difficulty\n",
    "        while block.hash[:self.difficulty] != target:\n",
    "            block.nonce += 1\n",
    "            block.hash = block.calculate_hash()\n",
    "        print(f\"Block mined: {block.hash}\")\n",
    "\n",
    "    def is_chain_valid(self):\n",
    "        for i in range(1, len(self.chain)):\n",
    "            current_block = self.chain[i]\n",
    "            previous_block = self.chain[i-1]\n",
    "\n",
    "            if current_block.hash != current_block.calculate_hash():\n",
    "                return False\n",
    "\n",
    "            if current_block.previous_hash != previous_block.hash:\n",
    "                return False\n",
    "\n",
    "        return True"
   ]
  },
  {
   "cell_type": "code",
   "execution_count": 26,
   "metadata": {},
   "outputs": [
    {
     "name": "stdout",
     "output_type": "stream",
     "text": [
      "Mining block 1...\n",
      "Block mined: 000079aed2f4915b195b241ead3265a2ee762791b7d0047f060b9e530a167ba4\n",
      "Mining block 2...\n",
      "Block mined: 00004e987cc3d0d974d9b3cb00e1d4b000d88940760e6315fa0e3018771f72e0\n",
      "Is blockchain valid? True\n",
      "Is blockchain valid after tampering? False\n"
     ]
    }
   ],
   "source": [
    "# Usage example\n",
    "blockchain = Blockchain()\n",
    "\n",
    "print(\"Mining block 1...\")\n",
    "blockchain.add_block(Block(1, \"\", int(time.time()), {\"amount\": 4}))\n",
    "\n",
    "print(\"Mining block 2...\")\n",
    "blockchain.add_block(Block(2, \"\", int(time.time()), {\"amount\": 10}))\n",
    "\n",
    "print(f\"Is blockchain valid? {blockchain.is_chain_valid()}\")\n",
    "\n",
    "# Tamper with the blockchain\n",
    "blockchain.chain[1].data = {\"amount\": 100}\n",
    "print(f\"Is blockchain valid after tampering? {blockchain.is_chain_valid()}\")"
   ]
  },
  {
   "cell_type": "code",
   "execution_count": 14,
   "metadata": {},
   "outputs": [
    {
     "name": "stdout",
     "output_type": "stream",
     "text": [
      "e559fcdcaf32a8778ee5811a131c563c3fbb1459805e78a6401c8b15a6f93875\n"
     ]
    }
   ],
   "source": [
    "import hashlib\n",
    "\n",
    "def hash_block(transactions, previous_hash, nonce):\n",
    "    block_content = f\"{transactions}-{previous_hash}-{nonce}\"\n",
    "    return hashlib.sha256(block_content.encode()).hexdigest()\n",
    "\n",
    "transactions = \"Alice pays Bob 10 BTC\"\n",
    "previous_hash = \"0000000000000000\"\n",
    "nonce = 0\n",
    "current_hash = hash_block(transactions, previous_hash, nonce)\n",
    "print(current_hash)"
   ]
  },
  {
   "cell_type": "code",
   "execution_count": 15,
   "metadata": {},
   "outputs": [],
   "source": [
    "import hashlib\n",
    "from typing import List\n",
    "\n",
    "class MerkleTree:\n",
    "    def __init__(self, data: List[str]):\n",
    "        # Initial list of hashed leaves (each data element hashed)\n",
    "        self.leaves = [self.hash_data(item) for item in data]\n",
    "        self.root = self.build_merkle_tree(self.leaves)\n",
    "\n",
    "    def hash_data(self, data: str) -> str:\n",
    "        # Hashes the data using SHA-256\n",
    "        return hashlib.sha256(data.encode()).hexdigest()\n",
    "\n",
    "    def build_merkle_tree(self, leaves: List[str]) -> str:\n",
    "        # Recursively builds the Merkle tree and returns the root\n",
    "        if len(leaves) == 1:\n",
    "            return leaves[0]\n",
    "\n",
    "        # If odd number of leaves, duplicate the last leaf to make pairs\n",
    "        if len(leaves) % 2 == 1:\n",
    "            leaves.append(leaves[-1])\n",
    "\n",
    "        # Hash pairs of leaves to create parent nodes\n",
    "        parent_nodes = []\n",
    "        for i in range(0, len(leaves), 2):\n",
    "            combined_hash = self.hash_data(leaves[i] + leaves[i+1])\n",
    "            parent_nodes.append(combined_hash)\n",
    "\n",
    "        # Recursively build tree until one root remains\n",
    "        return self.build_merkle_tree(parent_nodes)\n",
    "\n",
    "    def get_root(self) -> str:\n",
    "        return self.root"
   ]
  },
  {
   "cell_type": "code",
   "execution_count": 16,
   "metadata": {},
   "outputs": [
    {
     "name": "stdout",
     "output_type": "stream",
     "text": [
      "Merkle Root: 0cf77e26eb4a27047852cf39e3868c7a69ff1109acb9e799ba422d3ac350fb97\n"
     ]
    }
   ],
   "source": [
    "data = [\"transaction1\", \"transaction2\", \"transaction3\", \"transaction4\"]\n",
    "merkle_tree = MerkleTree(data)\n",
    "print(\"Merkle Root:\", merkle_tree.get_root())"
   ]
  },
  {
   "cell_type": "markdown",
   "metadata": {},
   "source": [
    "## Passwords\n",
    "\n",
    "* We don't want to store user's passwords as text below, as this is vulnerable to interception:\n"
   ]
  },
  {
   "cell_type": "code",
   "execution_count": 1,
   "metadata": {},
   "outputs": [
    {
     "name": "stdout",
     "output_type": "stream",
     "text": [
      "You've logged in\n"
     ]
    }
   ],
   "source": [
    "password = \"mypassword123\"\n",
    "\n",
    "if (password == \"mypassword123\"):\n",
    "    print(\"You've logged in\")"
   ]
  },
  {
   "cell_type": "markdown",
   "metadata": {},
   "source": [
    "* But we do need to compare the entered data with something, to tell whether the password has been entered correctly! \n",
    "\n",
    "* Therefore we would store the hash of the password - which is much longer in length "
   ]
  },
  {
   "cell_type": "code",
   "execution_count": 7,
   "metadata": {},
   "outputs": [
    {
     "name": "stdout",
     "output_type": "stream",
     "text": [
      "Stored hash: 6e659deaa85842cdabb5c6305fcc40033ba43772ec00d45c2a3c921741a5e377\n"
     ]
    }
   ],
   "source": [
    "password = \"mypassword123\"\n",
    "hashed_password = hashlib.sha256(password.encode()).hexdigest()\n",
    "print(\"Stored hash:\", hashed_password)"
   ]
  },
  {
   "cell_type": "markdown",
   "metadata": {},
   "source": [
    "* Hashing is <b>one way</b> - we can create a hash of a password for storage in a database and for comparison, but we can't then get back to the string password from this unique hash. "
   ]
  },
  {
   "cell_type": "markdown",
   "metadata": {},
   "source": [
    "## This looks impressive, but... \n",
    "\n",
    "* Attackers can leverage the speed of SHA-256 to try billions of password guesses per second in a brute-force or dictionary attack.\n",
    "\n",
    "* SHA-256 does not natively include salting, a technique where a random value (the salt) is added to the password before hashing to make the hash unique for each user. Without salt, two users with the same password will have the same hash, making attacks easier.\n",
    "\n",
    "* SHA-256 does not support key stretching, which is a method to make the hashing process slower and more resistant to brute-force attacks. For password hashing, you want a function that intentionally takes time to compute (e.g., several milliseconds per hash) to slow down attackers.\n"
   ]
  },
  {
   "cell_type": "markdown",
   "metadata": {},
   "source": [
    "` pip install bcrypt `\n",
    "\n",
    "`python3 -m pip install -U bcrypt --user`"
   ]
  },
  {
   "cell_type": "code",
   "execution_count": 10,
   "metadata": {},
   "outputs": [],
   "source": [
    "import bcrypt"
   ]
  },
  {
   "cell_type": "code",
   "execution_count": 11,
   "metadata": {},
   "outputs": [
    {
     "name": "stdout",
     "output_type": "stream",
     "text": [
      "Hashed password: b'$2b$12$QEX0gKMfmI1JJb5KMND3WOqdriS62T1hdX6KkXUfjYe8YoUV0lfue'\n",
      "Password is correct!\n"
     ]
    }
   ],
   "source": [
    "\n",
    "# Step 1: Generate a salt and hash the password\n",
    "password = \"mypassword123\".encode()  # Convert password to bytes\n",
    "salt = bcrypt.gensalt()  # Generate a random salt\n",
    "hashed_password = bcrypt.hashpw(password, salt)  # Hash the password with the salt\n",
    "\n",
    "# Step 2: Store the hashed password (and salt is embedded in the hash)\n",
    "print(f\"Hashed password: {hashed_password}\")\n",
    "\n",
    "# Step 3: To verify a password during login\n",
    "entered_password = \"mypassword123\".encode()\n",
    "if bcrypt.checkpw(entered_password, hashed_password):\n",
    "    print(\"Password is correct!\")\n",
    "else:\n",
    "    print(\"Password is incorrect.\")"
   ]
  },
  {
   "cell_type": "code",
   "execution_count": 13,
   "metadata": {},
   "outputs": [],
   "source": [
    "import hashlib\n",
    "import os\n",
    "\n",
    "def hash_password(password):\n",
    "    salt = os.urandom(16)  # generate a random salt\n",
    "    hashed = hashlib.sha256(salt + password.encode()).hexdigest()\n",
    "    return salt, hashed"
   ]
  },
  {
   "cell_type": "markdown",
   "metadata": {},
   "source": [
    "## Hashing with a key (HMAC)\n",
    "\n",
    "HMAC (Hash-based Message Authentication Code):"
   ]
  },
  {
   "cell_type": "code",
   "execution_count": 8,
   "metadata": {},
   "outputs": [
    {
     "name": "stdout",
     "output_type": "stream",
     "text": [
      "HMAC: d0e72e3ebca850380c42bc96009638375860cb5c330048588d3298f02e740065\n"
     ]
    }
   ],
   "source": [
    "import hmac\n",
    "\n",
    "key = b'secret_key'\n",
    "message = b'Hello, World!'\n",
    "\n",
    "hmac_hash = hmac.new(key, message, hashlib.sha256).hexdigest()\n",
    "print(\"HMAC:\", hmac_hash)"
   ]
  },
  {
   "cell_type": "markdown",
   "metadata": {},
   "source": [
    "## Encryption\n",
    "\n",
    "* <b>Symmetric Encryption</b> (AES): To encrypt the actual messages using a secret key that only the sender and recipient know.\n",
    "\n",
    "* <b>Asymmetric Encryption</b> (RSA): To securely exchange the secret keys between the sender and recipient."
   ]
  },
  {
   "cell_type": "markdown",
   "metadata": {},
   "source": [
    "## Prime numbers as building blocks for Cryptography\n",
    "\n",
    "* Mathematical definition: a prime number is a number greater than one (1), which is only divisable by itself and 1. \n",
    "\n",
    "* e.g. $15 = 5 \\times 3$ - NOT prime\n",
    "\n",
    "* e.g. $7 = 7 \\times 1$ - prime\n",
    "\n",
    "* Applied in cryptography to disguise the original data.\n",
    "\n",
    "<img src=\"https://media.geeksforgeeks.org/wp-content/uploads/20240912153108/Prime-Numbers.png\" alt=\"prime_numbers\" width=\"650\"> "
   ]
  },
  {
   "cell_type": "code",
   "execution_count": 3,
   "metadata": {},
   "outputs": [],
   "source": [
    "def is_prime(n):\n",
    "    \"\"\"Check if a number is prime.\"\"\"\n",
    "    if n <= 1:\n",
    "        return False\n",
    "    if n <= 3:\n",
    "        return True\n",
    "    if n % 2 == 0 or n % 3 == 0:\n",
    "        return False\n",
    "    i = 5\n",
    "    while i * i <= n:\n",
    "        if n % i == 0 or n % (i + 2) == 0:\n",
    "            return False\n",
    "        i += 6\n",
    "    return True"
   ]
  },
  {
   "cell_type": "code",
   "execution_count": 4,
   "metadata": {},
   "outputs": [],
   "source": [
    "def generate_primes(limit):\n",
    "    \"\"\"Generate prime numbers up to a given limit.\"\"\"\n",
    "    primes = []\n",
    "    for num in range(2, limit + 1):\n",
    "        if is_prime(num):\n",
    "            primes.append(num)\n",
    "    return primes"
   ]
  },
  {
   "cell_type": "code",
   "execution_count": 5,
   "metadata": {},
   "outputs": [
    {
     "name": "stdout",
     "output_type": "stream",
     "text": [
      "Prime numbers up to 50: [2, 3, 5, 7, 11, 13, 17, 19, 23, 29, 31, 37, 41, 43, 47]\n"
     ]
    }
   ],
   "source": [
    "prime_numbers = generate_primes(50)\n",
    "print(\"Prime numbers up to 50:\", prime_numbers)"
   ]
  },
  {
   "cell_type": "markdown",
   "metadata": {},
   "source": [
    "## So what do prime numbers mean for cryptography? \n",
    "\n",
    "* Ancient greek mathemeticians proposed that every whole number greater than one can be written as a product of primes: \n",
    "\n",
    "    * e.g. $135 = 3 \\times 3 \\times 3 \\times 5$\n",
    "\n",
    "    * e.g. $250 = 3 \\times 5 \\times 5 \\times 5$\n",
    "\n",
    "* Therefore, the end result (the hashed value) is knowable if we know the constitute parts (primes).\n",
    "\n",
    "* As we saw with password encryption and credit card encryption, the original data is hashed, so that the original data can be disguised, and the disguised value can still be compared. \n",
    "\n",
    "* Therefore, it is possible to decrypt a hashed value, by understanding the prime factors. \n"
   ]
  },
  {
   "cell_type": "markdown",
   "metadata": {},
   "source": [
    "Let's scale this up - \n",
    "\n",
    "* Question: what are the prime factors that can be multiplied together to get `449623`?"
   ]
  },
  {
   "cell_type": "code",
   "execution_count": 1,
   "metadata": {},
   "outputs": [
    {
     "data": {
      "text/plain": [
       "449623"
      ]
     },
     "execution_count": 1,
     "metadata": {},
     "output_type": "execute_result"
    }
   ],
   "source": [
    "449623"
   ]
  },
  {
   "cell_type": "markdown",
   "metadata": {},
   "source": [
    "I'm sure you can work this out in your heads, but let's write a Python script that can identify prime factors that multiply together. "
   ]
  },
  {
   "cell_type": "code",
   "execution_count": 15,
   "metadata": {},
   "outputs": [],
   "source": [
    "def prime_factors(n):\n",
    "    factors = []\n",
    "    # Divide by 2 until n is odd\n",
    "    while n % 2 == 0:\n",
    "        factors.append(2)\n",
    "        n //= 2\n",
    "\n",
    "    # Now n is odd, we can start from 3 and go up by 2 (checking only odd divisors)\n",
    "    factor = 3\n",
    "    while factor * factor <= n:\n",
    "        while n % factor == 0:\n",
    "            factors.append(factor)\n",
    "            n //= factor\n",
    "        factor += 2\n",
    "\n",
    "    # If n is still greater than 2, it must be prime\n",
    "    if n > 2:\n",
    "        factors.append(n)\n",
    "\n",
    "    return factors"
   ]
  },
  {
   "cell_type": "code",
   "execution_count": 16,
   "metadata": {},
   "outputs": [
    {
     "name": "stdout",
     "output_type": "stream",
     "text": [
      "Prime factors of 449623 are: [521, 863]\n"
     ]
    }
   ],
   "source": [
    "number = 449623\n",
    "print(\"Prime factors of\", number, \"are:\", prime_factors(number))"
   ]
  },
  {
   "cell_type": "code",
   "execution_count": 17,
   "metadata": {},
   "outputs": [
    {
     "data": {
      "text/plain": [
       "449623"
      ]
     },
     "execution_count": 17,
     "metadata": {},
     "output_type": "execute_result"
    }
   ],
   "source": [
    "521 * 863"
   ]
  },
  {
   "cell_type": "markdown",
   "metadata": {},
   "source": [
    "* Now, this is harder for us as humans to work out in our heads, but for computers, it's much easier given modern compute power.\n",
    "\n",
    "* Therefore, this is why encrypted values are seriously large! To make it much harder for brute force attacks to work. \n",
    "\n",
    "* We saw 160 bits and 256 bit lengths earlier, but modern day RSA values are 2048 bit to 4096 bit values! \n",
    "\n",
    "* 2^4096 creates some large hash values!"
   ]
  },
  {
   "cell_type": "code",
   "execution_count": 18,
   "metadata": {},
   "outputs": [
    {
     "name": "stdout",
     "output_type": "stream",
     "text": [
      "4096-bit Encrypted Hexadecimal Value: 07b1d14e81c592c5397d2e092454ce348c6a4310dcf6a033565de1a4b386fb425a616df2a373e9bffbe8f51d70b459c6deaf7bf444d030ddd2038027f3a0eefbbee215f5bf47ed3beeb8dc03f462c1a7f6ae37fccaffa55007f0d32a0dfe7e8165685627abcdc21024dd915c938fc2765feae3fd5d2b996c12f0485cc6125603385f7825261e62eae9a6fd9d4da70491b0c0fd86a8cba8915dca18ad9bd9f88dc7905892c55128d5c9fef6458422328223d00bb97b7d7386614ce82b49678cff41fcca79e0b33b8da1e4ce74248f7339fcd3b3ffefc8806aa4470e3d78fe353ef03e4e96070ad19f1682317b71ab4a58c70090996f799f7418c5eb45b0758e6406701df90083d4fdcd0a7311a183fed2e6a3421e551d4f4e4c0903e4d941bc061bf8c29a0582c5943b5a602541e7542e4c3bb2a9b4c3665af17029bd8770e892457fd9c6b86a6483268b84ec7dba4d7980ce3114c9054be6d8d769359a24362d59bac8362d1d2e19b24c3aab83a0fb5f8955f2955411db4343166d479ae845d8a39dcb72ceff70ccecde1b961b198cea6a80b1cf07d9d08f9cb8574f63e4ddc3fc69e458fb4544be65e76e4b57272199f1409110f4dcfe143b3e09f2e9c34423b09e066416a8998f3aff845c89ca95b8885324bd4b3f6aacf94c9637d44948286524cf8d7b9b2a45f83c92d0cc88666cad66fc432a2623bf7ba8b1f4f4dc7511\n"
     ]
    }
   ],
   "source": [
    "from cryptography.hazmat.primitives.asymmetric import rsa, padding\n",
    "from cryptography.hazmat.primitives import hashes\n",
    "from cryptography.hazmat.backends import default_backend\n",
    "import binascii\n",
    "\n",
    "def generate_rsa_keys():\n",
    "    # Generate a 4096-bit RSA private key\n",
    "    private_key = rsa.generate_private_key(\n",
    "        public_exponent=65537,\n",
    "        key_size=4096,\n",
    "        backend=default_backend()\n",
    "    )\n",
    "    public_key = private_key.public_key()\n",
    "    return private_key, public_key\n",
    "\n",
    "def encrypt_message(public_key, message):\n",
    "    # Encrypt the message using the public key and OAEP padding\n",
    "    ciphertext = public_key.encrypt(\n",
    "        message.encode(),\n",
    "        padding.OAEP(\n",
    "            mgf=padding.MGF1(algorithm=hashes.SHA256()),\n",
    "            algorithm=hashes.SHA256(),\n",
    "            label=None\n",
    "        )\n",
    "    )\n",
    "    # Convert to hexadecimal for easy readability\n",
    "    return binascii.hexlify(ciphertext).decode()\n",
    "\n",
    "# Generate the RSA keys\n",
    "private_key, public_key = generate_rsa_keys()\n",
    "\n",
    "# Encrypt a sample message\n",
    "message = \"This is a secret message\"\n",
    "encrypted_hex = encrypt_message(public_key, message)\n",
    "\n",
    "print(\"4096-bit Encrypted Hexadecimal Value:\", encrypted_hex)"
   ]
  },
  {
   "cell_type": "markdown",
   "metadata": {},
   "source": [
    "And with new lines..."
   ]
  },
  {
   "cell_type": "code",
   "execution_count": 19,
   "metadata": {},
   "outputs": [],
   "source": [
    "inp = encrypted_hex\n",
    "new_input = \"\"\n",
    "for i, letter in enumerate(inp):\n",
    "    if i % 80 == 0:\n",
    "        new_input += '\\n'\n",
    "    new_input += letter\n",
    "\n",
    "# this is just because at the beginning too a `\\n` character gets added\n",
    "new_input = new_input[1:] "
   ]
  },
  {
   "cell_type": "code",
   "execution_count": 20,
   "metadata": {},
   "outputs": [
    {
     "name": "stdout",
     "output_type": "stream",
     "text": [
      "07b1d14e81c592c5397d2e092454ce348c6a4310dcf6a033565de1a4b386fb425a616df2a373e9bf\n",
      "fbe8f51d70b459c6deaf7bf444d030ddd2038027f3a0eefbbee215f5bf47ed3beeb8dc03f462c1a7\n",
      "f6ae37fccaffa55007f0d32a0dfe7e8165685627abcdc21024dd915c938fc2765feae3fd5d2b996c\n",
      "12f0485cc6125603385f7825261e62eae9a6fd9d4da70491b0c0fd86a8cba8915dca18ad9bd9f88d\n",
      "c7905892c55128d5c9fef6458422328223d00bb97b7d7386614ce82b49678cff41fcca79e0b33b8d\n",
      "a1e4ce74248f7339fcd3b3ffefc8806aa4470e3d78fe353ef03e4e96070ad19f1682317b71ab4a58\n",
      "c70090996f799f7418c5eb45b0758e6406701df90083d4fdcd0a7311a183fed2e6a3421e551d4f4e\n",
      "4c0903e4d941bc061bf8c29a0582c5943b5a602541e7542e4c3bb2a9b4c3665af17029bd8770e892\n",
      "457fd9c6b86a6483268b84ec7dba4d7980ce3114c9054be6d8d769359a24362d59bac8362d1d2e19\n",
      "b24c3aab83a0fb5f8955f2955411db4343166d479ae845d8a39dcb72ceff70ccecde1b961b198cea\n",
      "6a80b1cf07d9d08f9cb8574f63e4ddc3fc69e458fb4544be65e76e4b57272199f1409110f4dcfe14\n",
      "3b3e09f2e9c34423b09e066416a8998f3aff845c89ca95b8885324bd4b3f6aacf94c9637d4494828\n",
      "6524cf8d7b9b2a45f83c92d0cc88666cad66fc432a2623bf7ba8b1f4f4dc7511\n"
     ]
    }
   ],
   "source": [
    "print(new_input)"
   ]
  },
  {
   "cell_type": "markdown",
   "metadata": {},
   "source": [
    "...yeah... this is a long string (encrypted value)..."
   ]
  },
  {
   "cell_type": "markdown",
   "metadata": {},
   "source": [
    "## RSA (Rivest–Shamir–Adleman) \n",
    "\n",
    "* RSA was proposed by MIT professors Ron Rivest, Adi Shamir and Leonard Adleman, who publicly described the algorithm in 1977.\n",
    "\n",
    "* RSA (Rivest–Shamir–Adleman) is a widely used asymmetric encryption algorithm that relies heavily on the properties of prime numbers for its security. The role of primes in RSA can be understood through the following stages:\n",
    "\n",
    "1. RSA begins by selecting two large, distinct prime numbers, typically denoted as $p$ and $q$.\n",
    "\n",
    "2. Euler’s Totient Function\n",
    "\n",
    "3. Selecting the Public and Private Keys\n",
    "\n",
    "\t* A public exponent $e$ is chosen such that  1 < $e$ < $\\phi(n)$  and  $e$  is coprime with  $\\phi(n)$ . This ensures that  $e$  has an inverse modulo  $\\phi(n)$ , which is crucial for decryption.\n",
    "\t* The private key  $d$  is calculated as the modular multiplicative inverse of  e  mod  $\\phi(n)$ . In other words,  d  is the number that satisfies the equation \\( $e \\cdot d \\equiv 1 \\pmod{\\phi(n)}$ \\).\n",
    "\n",
    "4. Encryption and Decryption\n",
    "\n",
    "\t* The message (or plaintext) is encrypted using the formula: \\( \\text{ciphertext} = \\text{message}^e \\mod n \\).\n",
    "\t* Decryption is achieved by reversing this operation: \\( \\text{message} = \\text{ciphertext}^d \\mod n \\).\n",
    "\t* The use of the prime-generated values  $p$  and  $q$  ensures that only someone with knowledge of $\\phi(n)$  can calculate  $d$  and thus decrypt the message, as knowing  $\\phi(n)$  requires knowing the factorization of $n$ into $p$ and $q$.\n",
    "\n"
   ]
  },
  {
   "cell_type": "code",
   "execution_count": null,
   "metadata": {},
   "outputs": [],
   "source": []
  },
  {
   "cell_type": "markdown",
   "metadata": {},
   "source": [
    "`pip install sympy`\n",
    "\n",
    "`python3 -m pip install -U sympy --user`"
   ]
  },
  {
   "cell_type": "code",
   "execution_count": 8,
   "metadata": {},
   "outputs": [
    {
     "ename": "ModuleNotFoundError",
     "evalue": "No module named 'sympy'",
     "output_type": "error",
     "traceback": [
      "\u001b[0;31m---------------------------------------------------------------------------\u001b[0m",
      "\u001b[0;31mModuleNotFoundError\u001b[0m                       Traceback (most recent call last)",
      "Cell \u001b[0;32mIn [8], line 2\u001b[0m\n\u001b[1;32m      1\u001b[0m \u001b[38;5;28;01mimport\u001b[39;00m \u001b[38;5;21;01mrandom\u001b[39;00m\n\u001b[0;32m----> 2\u001b[0m \u001b[38;5;28;01mfrom\u001b[39;00m \u001b[38;5;21;01msympy\u001b[39;00m \u001b[38;5;28;01mimport\u001b[39;00m isprime, mod_inverse\n",
      "\u001b[0;31mModuleNotFoundError\u001b[0m: No module named 'sympy'"
     ]
    }
   ],
   "source": [
    "import random\n",
    "from sympy import isprime, mod_inverse"
   ]
  },
  {
   "cell_type": "code",
   "execution_count": 9,
   "metadata": {},
   "outputs": [
    {
     "ename": "ModuleNotFoundError",
     "evalue": "No module named 'sympy'",
     "output_type": "error",
     "traceback": [
      "\u001b[0;31m---------------------------------------------------------------------------\u001b[0m",
      "\u001b[0;31mModuleNotFoundError\u001b[0m                       Traceback (most recent call last)",
      "Cell \u001b[0;32mIn [9], line 1\u001b[0m\n\u001b[0;32m----> 1\u001b[0m \u001b[38;5;28;01mfrom\u001b[39;00m \u001b[38;5;21;01msympy\u001b[39;00m \u001b[38;5;28;01mimport\u001b[39;00m \u001b[38;5;241m*\u001b[39m\n",
      "\u001b[0;31mModuleNotFoundError\u001b[0m: No module named 'sympy'"
     ]
    }
   ],
   "source": [
    "from sympy import *"
   ]
  },
  {
   "cell_type": "code",
   "execution_count": null,
   "metadata": {},
   "outputs": [],
   "source": [
    "def generate_large_prime(bits=512):\n",
    "    \"\"\"Generate a large prime number with the specified bit length.\"\"\"\n",
    "    prime_candidate = random.getrandbits(bits)\n",
    "    while not isprime(prime_candidate):\n",
    "        prime_candidate = random.getrandbits(bits)\n",
    "    return prime_candidate\n",
    "\n",
    "def generate_rsa_keys(bits=512):\n",
    "    \"\"\"Generate RSA public and private keys.\"\"\"\n",
    "    # Step 1: Generate two large prime numbers\n",
    "    p = generate_large_prime(bits)\n",
    "    q = generate_large_prime(bits)\n",
    "    while p == q:  # Ensure p and q are different\n",
    "        q = generate_large_prime(bits)\n",
    "    \n",
    "    # Step 2: Calculate n and φ(n)\n",
    "    n = p * q\n",
    "    phi_n = (p - 1) * (q - 1)\n",
    "    \n",
    "    # Step 3: Choose a public exponent e\n",
    "    e = 65537  # Commonly used public exponent\n",
    "    if not (1 < e < phi_n and isprime(e) and phi_n % e != 0):\n",
    "        raise ValueError(\"Invalid exponent 'e'. Choose a different e.\")\n",
    "    \n",
    "    # Step 4: Compute private exponent d\n",
    "    d = mod_inverse(e, phi_n)\n",
    "    \n",
    "    # The public key is (n, e) and the private key is (n, d)\n",
    "    return (n, e), (n, d)"
   ]
  },
  {
   "cell_type": "code",
   "execution_count": null,
   "metadata": {},
   "outputs": [],
   "source": [
    "public_key, private_key = generate_rsa_keys(512)\n",
    "print(\"Public Key:\", public_key)\n",
    "print(\"Private Key:\", private_key)"
   ]
  },
  {
   "cell_type": "markdown",
   "metadata": {},
   "source": [
    "WhatsApp uses end-to-end encryption, which is different from HMAC. Specifically, it relies on the Signal Protocol, which employs a combination of:\n",
    "\n",
    "* Symmetric Encryption (AES): To encrypt the actual messages using a secret key that only the sender and recipient know.\n",
    "\n",
    "* Asymmetric Encryption (RSA, Curve25519): To securely exchange the secret keys between the sender and recipient.\n",
    "\n",
    "* Message Authentication Codes (MAC): Used for verifying the integrity and authenticity of messages, but this is separate from encryption."
   ]
  },
  {
   "cell_type": "code",
   "execution_count": null,
   "metadata": {},
   "outputs": [],
   "source": []
  },
  {
   "cell_type": "markdown",
   "metadata": {},
   "source": [
    "## AES (Advanced Encryption Standard)\n",
    "\n",
    "* Advanced Encryption Standard (AES) is a symmetric block cipher that the U.S. government selects to protect classified data. AES-256 encryption uses the 256-bit key length to encrypt as well as decrypt a block of messages.\n",
    "\n",
    "* As we've seen, hashing for one-way - for storing data in a unique position within a structure. We have to match hash codes to get to the right data. \n",
    "\n",
    "* Encryption is two-way (encrypt and decrypt), as messages need to be encrypted before they are sent, and then decrypted (only) by the receiver."
   ]
  },
  {
   "cell_type": "markdown",
   "metadata": {},
   "source": [
    "` pip install cryptography `\n",
    "\n",
    "`python3 -m pip install -U cryptography --user`\n"
   ]
  },
  {
   "cell_type": "code",
   "execution_count": 18,
   "metadata": {},
   "outputs": [],
   "source": [
    "from cryptography.hazmat.primitives.ciphers import Cipher, algorithms, modes\n",
    "from cryptography.hazmat.backends import default_backend\n",
    "from cryptography.hazmat.primitives import padding\n",
    "import os"
   ]
  },
  {
   "cell_type": "code",
   "execution_count": 19,
   "metadata": {},
   "outputs": [],
   "source": [
    "# Function to encrypt plaintext using AES\n",
    "def encrypt_aes(key, plaintext):\n",
    "    # Generate a random 16-byte IV (Initialization Vector)\n",
    "    iv = os.urandom(16)\n",
    "    \n",
    "    # Create the cipher using AES and CBC mode with the IV\n",
    "    cipher = Cipher(algorithms.AES(key), modes.CBC(iv), backend=default_backend())\n",
    "    \n",
    "    # Encryptor object\n",
    "    encryptor = cipher.encryptor()\n",
    "    \n",
    "    # Padding the plaintext to be a multiple of block size (16 bytes)\n",
    "    padder = padding.PKCS7(algorithms.AES.block_size).padder()\n",
    "    padded_data = padder.update(plaintext) + padder.finalize()\n",
    "    \n",
    "    # Encrypt the padded plaintext\n",
    "    ciphertext = encryptor.update(padded_data) + encryptor.finalize()\n",
    "    \n",
    "    # Return both the IV and ciphertext (IV is needed for decryption)\n",
    "    return iv, ciphertext\n"
   ]
  },
  {
   "cell_type": "code",
   "execution_count": 20,
   "metadata": {},
   "outputs": [],
   "source": [
    "# Function to decrypt ciphertext using AES\n",
    "def decrypt_aes(key, iv, ciphertext):\n",
    "    # Create the cipher using AES and CBC mode with the provided IV\n",
    "    cipher = Cipher(algorithms.AES(key), modes.CBC(iv), backend=default_backend())\n",
    "    \n",
    "    # Decryptor object\n",
    "    decryptor = cipher.decryptor()\n",
    "    \n",
    "    # Decrypt the ciphertext\n",
    "    padded_plaintext = decryptor.update(ciphertext) + decryptor.finalize()\n",
    "    \n",
    "    # Unpad the plaintext\n",
    "    unpadder = padding.PKCS7(algorithms.AES.block_size).unpadder()\n",
    "    plaintext = unpadder.update(padded_plaintext) + unpadder.finalize()\n",
    "    \n",
    "    return plaintext"
   ]
  },
  {
   "cell_type": "code",
   "execution_count": 21,
   "metadata": {},
   "outputs": [
    {
     "name": "stdout",
     "output_type": "stream",
     "text": [
      "Original plaintext: b'Hello, this is a secret message!'\n",
      "Encrypted ciphertext: 622ed0e6a9d572368e68b2d4453d152b8667e6e01f8d59db8158c26a1d8c77df264cb492c1986f4ca2687093610c6ec1\n",
      "Initialization Vector (IV): e3a96a5ee014529f1ba62e8d9395fb3d\n",
      "Decrypted plaintext: b'Hello, this is a secret message!'\n"
     ]
    }
   ],
   "source": [
    "# Demo: Encrypt and decrypt a message using AES-256\n",
    "def demo_aes():\n",
    "    # Key must be either 16, 24, or 32 bytes long (AES-128, AES-192, AES-256 respectively)\n",
    "    key = os.urandom(32)  # AES-256 key (32 bytes)\n",
    "    \n",
    "    # Example plaintext message\n",
    "    plaintext = b\"Hello, this is a secret message!\"\n",
    "    print(f\"Original plaintext: {plaintext}\")\n",
    "    \n",
    "    # Encrypt the message\n",
    "    iv, ciphertext = encrypt_aes(key, plaintext)\n",
    "    print(f\"Encrypted ciphertext: {ciphertext.hex()}\")\n",
    "    print(f\"Initialization Vector (IV): {iv.hex()}\")\n",
    "    \n",
    "    # Decrypt the message\n",
    "    decrypted_plaintext = decrypt_aes(key, iv, ciphertext)\n",
    "    print(f\"Decrypted plaintext: {decrypted_plaintext}\")\n",
    "\n",
    "# Run the AES encryption/decryption demo\n",
    "demo_aes()"
   ]
  },
  {
   "cell_type": "markdown",
   "metadata": {},
   "source": [
    "1.\tInitialization Vector (IV): Each encryption operation generates a new 16-byte IV, which is prepended to the ciphertext.\n",
    "\n",
    "2.\tPadding: The plaintext is padded to be compatible with AES’s block size.\n",
    "\n",
    "3.\tEncryption and Decryption: AES-CBC mode encrypts with the key and IV, and decrypts using the same parameters."
   ]
  },
  {
   "cell_type": "code",
   "execution_count": 17,
   "metadata": {},
   "outputs": [],
   "source": [
    "from cryptography.hazmat.primitives.ciphers import Cipher, algorithms, modes\n",
    "from cryptography.hazmat.backends import default_backend\n",
    "from cryptography.hazmat.primitives import padding\n",
    "import os\n",
    "\n",
    "class AESCipher:\n",
    "    def __init__(self, key: bytes):\n",
    "        self.key = key\n",
    "        self.backend = default_backend()\n",
    "\n",
    "    def encrypt(self, plaintext: str) -> bytes:\n",
    "        # Generate a random 16-byte IV for AES-CBC mode\n",
    "        iv = os.urandom(16)\n",
    "        cipher = Cipher(algorithms.AES(self.key), modes.CBC(iv), backend=self.backend)\n",
    "        encryptor = cipher.encryptor()\n",
    "\n",
    "        # Pad plaintext to be a multiple of AES block size (128 bits)\n",
    "        padder = padding.PKCS7(algorithms.AES.block_size).padder()\n",
    "        padded_data = padder.update(plaintext.encode()) + padder.finalize()\n",
    "\n",
    "        # Encrypt the padded plaintext\n",
    "        ciphertext = encryptor.update(padded_data) + encryptor.finalize()\n",
    "\n",
    "        # Return the IV and ciphertext (IV is needed for decryption)\n",
    "        return iv + ciphertext\n",
    "\n",
    "    def decrypt(self, iv_and_ciphertext: bytes) -> str:\n",
    "        # Extract the IV from the first 16 bytes\n",
    "        iv = iv_and_ciphertext[:16]\n",
    "        ciphertext = iv_and_ciphertext[16:]\n",
    "\n",
    "        cipher = Cipher(algorithms.AES(self.key), modes.CBC(iv), backend=self.backend)\n",
    "        decryptor = cipher.decryptor()\n",
    "\n",
    "        # Decrypt the ciphertext\n",
    "        padded_plaintext = decryptor.update(ciphertext) + decryptor.finalize()\n",
    "\n",
    "        # Remove padding from plaintext\n",
    "        unpadder = padding.PKCS7(algorithms.AES.block_size).unpadder()\n",
    "        plaintext = unpadder.update(padded_plaintext) + unpadder.finalize()\n",
    "\n",
    "        return plaintext.decode()\n"
   ]
  },
  {
   "cell_type": "code",
   "execution_count": 18,
   "metadata": {},
   "outputs": [
    {
     "name": "stdout",
     "output_type": "stream",
     "text": [
      "Encrypted: b'\\x1b\\xe4\\xe0\\xf3\\xf8\\xe5\\xcb\\r\\x99u\\xf9<\\x90>\\xa0x\\xa1F\\xaa\\x02\\xaem\\x03\\x9d\\xc7\\xf1\\xfd4\\ta6\\xd5\\xf4$\\x0f\\xf0\\x1c\\r\\xcd\\xfd\\xd2\\x142\\x03\\xe4\\xfbX\\x82\\xfe\\xbbF\\xb7\\xec!\\xa4\\x9c\\x9c\\xfe\"m1\\xfew\\x83'\n",
      "Decrypted: Hello, this is a secret message!\n"
     ]
    }
   ],
   "source": [
    "key = os.urandom(32)  # AES-256 key (32 bytes)\n",
    "aes_cipher = AESCipher(key)\n",
    "plaintext = \"Hello, this is a secret message!\"\n",
    "\n",
    "# Encrypt\n",
    "encrypted_data = aes_cipher.encrypt(plaintext)\n",
    "print(\"Encrypted:\", encrypted_data)\n",
    "\n",
    "# Decrypt\n",
    "decrypted_data = aes_cipher.decrypt(encrypted_data)\n",
    "print(\"Decrypted:\", decrypted_data)"
   ]
  },
  {
   "cell_type": "markdown",
   "metadata": {},
   "source": [
    "WhatsApp uses both encryption (for confidentiality) and message authentication (for integrity and authenticity):\n",
    "\n",
    "* The actual content of your messages is encrypted using symmetric encryption (AES-256).\n",
    "\n",
    "* After encryption, an HMAC or similar message authentication method is used to ensure that the encrypted message hasn’t been altered during transmission."
   ]
  },
  {
   "cell_type": "markdown",
   "metadata": {},
   "source": [
    "## PBKDF2 (Password-Based Key Derivation Function 2):\n",
    "\n",
    "* An older but still widely used algorithm.\n",
    "\n",
    "* Uses a combination of a salt and key stretching (by iterating the hash many times) to make brute-force attacks more difficult.\n",
    "\n",
    "* Typically slower than SHA-256, which is good for password hashing."
   ]
  },
  {
   "cell_type": "markdown",
   "metadata": {},
   "source": [
    "## Public key vs private key"
   ]
  },
  {
   "cell_type": "code",
   "execution_count": null,
   "metadata": {},
   "outputs": [],
   "source": []
  },
  {
   "cell_type": "markdown",
   "metadata": {},
   "source": [
    "## Application of Cryptography"
   ]
  },
  {
   "cell_type": "code",
   "execution_count": 1,
   "metadata": {},
   "outputs": [
    {
     "name": "stdout",
     "output_type": "stream",
     "text": [
      "Original: Hello, World!\n",
      "Encrypted: Khoor, Zruog!\n",
      "Decrypted: Hello, World!\n"
     ]
    }
   ],
   "source": [
    "def simple_substitution_encrypt(plaintext, key):\n",
    "    ciphertext = \"\"\n",
    "    for char in plaintext:\n",
    "        if char.isalpha():\n",
    "            shift = ord(key.upper()) - ord('A')\n",
    "            if char.isupper():\n",
    "                ciphertext += chr((ord(char) - ord('A') + shift) % 26 + ord('A'))\n",
    "            else:\n",
    "                ciphertext += chr((ord(char) - ord('a') + shift) % 26 + ord('a'))\n",
    "        else:\n",
    "            ciphertext += char\n",
    "    return ciphertext\n",
    "\n",
    "def simple_substitution_decrypt(ciphertext, key):\n",
    "    plaintext = \"\"\n",
    "    for char in ciphertext:\n",
    "        if char.isalpha():\n",
    "            shift = ord(key.upper()) - ord('A')\n",
    "            if char.isupper():\n",
    "                plaintext += chr((ord(char) - ord('A') - shift) % 26 + ord('A'))\n",
    "            else:\n",
    "                plaintext += chr((ord(char) - ord('a') - shift) % 26 + ord('a'))\n",
    "        else:\n",
    "            plaintext += char\n",
    "    return plaintext\n",
    "\n",
    "# Usage\n",
    "message = \"Hello, World!\"\n",
    "key = \"D\"\n",
    "encrypted = simple_substitution_encrypt(message, key)\n",
    "decrypted = simple_substitution_decrypt(encrypted, key)\n",
    "\n",
    "print(f\"Original: {message}\")\n",
    "print(f\"Encrypted: {encrypted}\")\n",
    "print(f\"Decrypted: {decrypted}\")"
   ]
  },
  {
   "cell_type": "code",
   "execution_count": 2,
   "metadata": {},
   "outputs": [
    {
     "name": "stdout",
     "output_type": "stream",
     "text": [
      "Original: b'Hello, World!'\n",
      "Encrypted: b'\\x1b />*xs\\x12, )0r'\n",
      "Decrypted: b'Hello, World!'\n"
     ]
    }
   ],
   "source": [
    "def xor_cipher(data, key):\n",
    "    return bytes([b ^ ord(key[i % len(key)]) for i, b in enumerate(data)])\n",
    "\n",
    "# Usage\n",
    "message = b\"Hello, World!\"\n",
    "key = \"SECRET\"\n",
    "encrypted = xor_cipher(message, key)\n",
    "decrypted = xor_cipher(encrypted, key)\n",
    "\n",
    "print(f\"Original: {message}\")\n",
    "print(f\"Encrypted: {encrypted}\")\n",
    "print(f\"Decrypted: {decrypted}\")"
   ]
  },
  {
   "cell_type": "markdown",
   "metadata": {},
   "source": [
    "## Python's Cryptography library \n",
    "\n",
    "You may need to install Python's cryptography library via the installer if you haven't already... \n",
    "Copy and paste one of the following into a VSC terminal or your OS terminal/command line\n",
    "\n",
    "` python3 -m pip install cryptography `\n",
    "\n",
    "` pip install cryptography `\n"
   ]
  },
  {
   "cell_type": "code",
   "execution_count": 6,
   "metadata": {},
   "outputs": [
    {
     "name": "stdout",
     "output_type": "stream",
     "text": [
      "Original: b'Hello, World!'\n",
      "Encrypted: b'gAAAAABmwbADb7KI98b7A3W5q_d_YTv_Gm9veKn2HYYu7PZfEamhiy00SZ1ci4P8hEU3zUDHOVH3CRvOVzPWtBcWY_xb-opwEw=='\n",
      "Decrypted: b'Hello, World!'\n"
     ]
    }
   ],
   "source": [
    "from cryptography.fernet import Fernet\n",
    "\n",
    "# Generate a random key\n",
    "key = Fernet.generate_key()\n",
    "f = Fernet(key)\n",
    "\n",
    "# Encrypt a message\n",
    "message = b\"Hello, World!\"\n",
    "encrypted = f.encrypt(message)\n",
    "\n",
    "# Decrypt the message\n",
    "decrypted = f.decrypt(encrypted)\n",
    "\n",
    "print(f\"Original: {message}\")\n",
    "print(f\"Encrypted: {encrypted}\")\n",
    "print(f\"Decrypted: {decrypted}\")"
   ]
  },
  {
   "cell_type": "markdown",
   "metadata": {
    "slideshow": {
     "slide_type": "slide"
    }
   },
   "source": [
    "## Formative Exercises ##\n",
    "\n",
    "Insert a 'code' cell below. In this do the following:\n",
    "\n",
    "* Exercise 1: \n",
    "* Exercise 2: \n",
    "* Exercise 3: How would you implement end to end encryption for sending messages between devices? \n",
    "* Exercise 4: Create a simple Blockchain example that enables two terminals to encrypt and decrypt transactions \n",
    "* Exercise 5:\n"
   ]
  },
  {
   "cell_type": "markdown",
   "metadata": {},
   "source": [
    "## Exercise 1: "
   ]
  },
  {
   "cell_type": "code",
   "execution_count": null,
   "metadata": {},
   "outputs": [],
   "source": [
    "# Write your solution here."
   ]
  },
  {
   "cell_type": "markdown",
   "metadata": {},
   "source": [
    "## Exercise 2: "
   ]
  },
  {
   "cell_type": "code",
   "execution_count": null,
   "metadata": {},
   "outputs": [],
   "source": [
    "# Write your solution here. "
   ]
  },
  {
   "cell_type": "markdown",
   "metadata": {},
   "source": [
    "## Exercise 3: "
   ]
  },
  {
   "cell_type": "code",
   "execution_count": null,
   "metadata": {},
   "outputs": [],
   "source": [
    "# Write your solution here. "
   ]
  },
  {
   "cell_type": "markdown",
   "metadata": {},
   "source": [
    "## Exercise 4:"
   ]
  },
  {
   "cell_type": "code",
   "execution_count": null,
   "metadata": {},
   "outputs": [],
   "source": [
    "# Write your solution here."
   ]
  },
  {
   "cell_type": "markdown",
   "metadata": {},
   "source": [
    "## Exercise 5:"
   ]
  },
  {
   "cell_type": "code",
   "execution_count": null,
   "metadata": {},
   "outputs": [],
   "source": [
    "# Write your solution here. "
   ]
  }
 ],
 "metadata": {
  "celltoolbar": "Slideshow",
  "kernelspec": {
   "display_name": "Python 3",
   "language": "python",
   "name": "python3"
  },
  "language_info": {
   "codemirror_mode": {
    "name": "ipython",
    "version": 3
   },
   "file_extension": ".py",
   "mimetype": "text/x-python",
   "name": "python",
   "nbconvert_exporter": "python",
   "pygments_lexer": "ipython3",
   "version": "3.9.6"
  }
 },
 "nbformat": 4,
 "nbformat_minor": 4
}
