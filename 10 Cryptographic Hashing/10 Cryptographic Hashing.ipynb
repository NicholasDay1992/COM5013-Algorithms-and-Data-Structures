{
 "cells": [
  {
   "cell_type": "markdown",
   "metadata": {},
   "source": [
    "![pythonLogo.png](https://www.python.org/static/community_logos/python-powered-w-200x80.png)\n",
    "\n",
    "# Cryptography and Hashing #\n"
   ]
  },
  {
   "cell_type": "markdown",
   "metadata": {},
   "source": [
    "# Recap on Hashing\n",
    "\n",
    "Hash Maps allow users to search a data structure via characters instead of integer index positions. The characters (string) are converted to integers by a process of 'hashing'. This hashing function will look up the ASCII value of each character. Each integer value is then multiplied by its position in the string to achieve a unique number. These are added together to create a large number. To prevent having to allocate a large number of elements, the modulo sign (%) calculates a smaller number to reduce the size of elements.\n",
    "\n",
    "\n",
    "\n",
    "![hash](https://d18l82el6cdm1i.cloudfront.net/uploads/34EvJ7agjl-hash_table.gif)"
   ]
  },
  {
   "cell_type": "markdown",
   "metadata": {},
   "source": [
    "## Collision resolution\n",
    "With a reduced number of spaces available, hashing methods will return the same remainder for some modulus operations. This means that two (or more) items will be competing for the same element in the data structure.\n",
    "\n",
    "There are regarded to be two approaches to resolving collisions: \n",
    "- Open Addressing - e.g. An alternate address within the structure\n",
    "- Separate Chaining - e.g. A Linked List that extends out of an element with colliding values."
   ]
  },
  {
   "cell_type": "markdown",
   "metadata": {},
   "source": [
    "## Cryptography and Hashing"
   ]
  },
  {
   "cell_type": "markdown",
   "metadata": {},
   "source": [
    "## Python's hash library and SHA256\n",
    "\n",
    "Secure Hash Algorithm 256 bits (32 bytes) is a cryptographic hash function that produces a fixed-size 256-bit (32-byte) hash value from an input of any size. It is part of the SHA-2 family, which was designed by the National Security Agency (NSA) and published by the National Institute of Standards and Technology (NIST) in 2001."
   ]
  },
  {
   "cell_type": "markdown",
   "metadata": {},
   "source": [
    "## Secure Hashing Algorithm (SHA)\n",
    "\n",
    "* Secure Hashing Algorithm is a family of Hashing functions (one way), whereas encryption will need to be two-way (encrypt and decrypt)\n",
    "\n",
    "* SHA-1 can produce a hash up to 160 bits in length (20 bytes)\n",
    "\n",
    "* SHA-256 can produce a hash up to 256 bits in length (32 bytes)\n",
    "\n",
    "* SHA-256 provides significantly more combinations than SHA-1, approximately  $2^{96}$  times more possibilities, or about  $10^{29}$  times more.\n",
    "\n",
    "* This difference makes SHA-256 much more secure, as it provides a vastly larger space of possible outputs, reducing the risk of collisions (two different inputs producing the same hash). This is why SHA-256 is preferred for modern cryptographic applications"
   ]
  },
  {
   "cell_type": "markdown",
   "metadata": {},
   "source": [
    "![sha256nordvpn](https://nordvpn.com/wp-content/uploads/blog-infographic-sha-256-1.svg)"
   ]
  },
  {
   "cell_type": "code",
   "execution_count": 22,
   "metadata": {},
   "outputs": [],
   "source": [
    "import hashlib\n",
    "import json\n",
    "import time"
   ]
  },
  {
   "cell_type": "markdown",
   "metadata": {},
   "source": [
    "SHA-1"
   ]
  },
  {
   "cell_type": "code",
   "execution_count": 60,
   "metadata": {},
   "outputs": [
    {
     "name": "stdout",
     "output_type": "stream",
     "text": [
      "Original message: Hello, World!\n",
      "Hashed value: 0a0a9f2a6772942557ab5355d76af442f8f65e01\n"
     ]
    }
   ],
   "source": [
    "message = \"Hello, World!\"\n",
    "hash_object = hashlib.sha1(message.encode())\n",
    "hash_hex = hash_object.hexdigest()\n",
    "\n",
    "print(\"Original message:\", message)\n",
    "print(\"Hashed value:\", hash_hex)"
   ]
  },
  {
   "cell_type": "code",
   "execution_count": 61,
   "metadata": {},
   "outputs": [
    {
     "data": {
      "text/plain": [
       "20.0"
      ]
     },
     "execution_count": 61,
     "metadata": {},
     "output_type": "execute_result"
    }
   ],
   "source": [
    "l = []\n",
    "l = str(hash_hex)\n",
    "len(l) / 2  # divide by 2 due to hex codes '0a' is one hex"
   ]
  },
  {
   "cell_type": "markdown",
   "metadata": {},
   "source": [
    "SHA-256"
   ]
  },
  {
   "cell_type": "code",
   "execution_count": 62,
   "metadata": {},
   "outputs": [
    {
     "name": "stdout",
     "output_type": "stream",
     "text": [
      "Original message: Hello, World!\n",
      "Hashed value: dffd6021bb2bd5b0af676290809ec3a53191dd81c7f70a4b28688a362182986f\n"
     ]
    }
   ],
   "source": [
    "message = \"Hello, World!\"\n",
    "hash_object = hashlib.sha256(message.encode())\n",
    "hash_hex = hash_object.hexdigest()\n",
    "\n",
    "print(\"Original message:\", message)\n",
    "print(\"Hashed value:\", hash_hex)"
   ]
  },
  {
   "cell_type": "code",
   "execution_count": 63,
   "metadata": {},
   "outputs": [
    {
     "data": {
      "text/plain": [
       "32.0"
      ]
     },
     "execution_count": 63,
     "metadata": {},
     "output_type": "execute_result"
    }
   ],
   "source": [
    "l = []\n",
    "l = str(hash_hex)\n",
    "len(l) / 2 # divide by 2 due to hex codes 'df' is one hex"
   ]
  },
  {
   "cell_type": "markdown",
   "metadata": {},
   "source": [
    "## Blockchain and Cryptocurrency uses SHA-256\n",
    "\n",
    "* Each block contains a cryptographic hash of the previous block, a timestamp, and transaction data.\n",
    "\n",
    "* These blocks are 'linked' ('chained') together by cryptography (hash codes). \n",
    "\n",
    "* Each block has a hash of the previous block, creating a secure and verifiable chain of data.\n",
    "\n",
    "* Unlike a linked list though, you're not able to delete blocks in the blockchain, otherwise this would violate the integrity of the ledger of transactions. "
   ]
  },
  {
   "cell_type": "markdown",
   "metadata": {},
   "source": [
    "![blockchain1](https://miro.medium.com/v2/resize:fit:977/1*mNdCyhj2WRSzmgTOVztaUg.png)"
   ]
  },
  {
   "cell_type": "code",
   "execution_count": 14,
   "metadata": {},
   "outputs": [
    {
     "name": "stdout",
     "output_type": "stream",
     "text": [
      "transaction string: b'{\"amount\": 50, \"receiver\": \"Bob\", \"sender\": \"Alice\"}'\n",
      "transaction hash: fd2aff1bbd25dca7091cbc385ccd82fc933a0f775d359ad067f46d4371bac73f\n"
     ]
    }
   ],
   "source": [
    "\n",
    "transaction = {\n",
    "    'sender': \"Alice\",\n",
    "    'receiver': \"Bob\",\n",
    "    'amount': 50\n",
    "}\n",
    "transaction_string = json.dumps(transaction, sort_keys=True).encode()\n",
    "transaction_hash = hashlib.sha256(transaction_string).hexdigest()\n",
    "\n",
    "print(\"transaction string:\",transaction_string)\n",
    "print(\"transaction hash:\",transaction_hash)"
   ]
  },
  {
   "cell_type": "markdown",
   "metadata": {},
   "source": [
    "## Blockchain of transactions"
   ]
  },
  {
   "cell_type": "code",
   "execution_count": 24,
   "metadata": {},
   "outputs": [],
   "source": [
    "class Block:\n",
    "    def __init__(self, index, previous_hash, timestamp, data, nonce=0):\n",
    "        self.index = index\n",
    "        self.previous_hash = previous_hash\n",
    "        self.timestamp = timestamp\n",
    "        self.data = data\n",
    "        self.nonce = nonce\n",
    "        self.hash = self.calculate_hash()\n",
    "\n",
    "    def calculate_hash(self):\n",
    "        block_string = f\"{self.index}{self.previous_hash}{self.timestamp}{self.data}{self.nonce}\"\n",
    "        return hashlib.sha256(block_string.encode()).hexdigest()"
   ]
  },
  {
   "cell_type": "code",
   "execution_count": 25,
   "metadata": {},
   "outputs": [],
   "source": [
    "class Blockchain:\n",
    "    def __init__(self):\n",
    "        self.chain = [self.create_genesis_block()]\n",
    "        self.difficulty = 4\n",
    "\n",
    "    def create_genesis_block(self):\n",
    "        return Block(0, \"0\", int(time.time()), \"Genesis Block\")\n",
    "\n",
    "    def get_latest_block(self):\n",
    "        return self.chain[-1]\n",
    "\n",
    "    def add_block(self, new_block):\n",
    "        new_block.previous_hash = self.get_latest_block().hash\n",
    "        new_block.hash = new_block.calculate_hash()\n",
    "        self.mine_block(new_block)\n",
    "        self.chain.append(new_block)\n",
    "\n",
    "    def mine_block(self, block):\n",
    "        target = \"0\" * self.difficulty\n",
    "        while block.hash[:self.difficulty] != target:\n",
    "            block.nonce += 1\n",
    "            block.hash = block.calculate_hash()\n",
    "        print(f\"Block mined: {block.hash}\")\n",
    "\n",
    "    def is_chain_valid(self):\n",
    "        for i in range(1, len(self.chain)):\n",
    "            current_block = self.chain[i]\n",
    "            previous_block = self.chain[i-1]\n",
    "\n",
    "            if current_block.hash != current_block.calculate_hash():\n",
    "                return False\n",
    "\n",
    "            if current_block.previous_hash != previous_block.hash:\n",
    "                return False\n",
    "\n",
    "        return True"
   ]
  },
  {
   "cell_type": "code",
   "execution_count": 26,
   "metadata": {},
   "outputs": [
    {
     "name": "stdout",
     "output_type": "stream",
     "text": [
      "Mining block 1...\n",
      "Block mined: 000079aed2f4915b195b241ead3265a2ee762791b7d0047f060b9e530a167ba4\n",
      "Mining block 2...\n",
      "Block mined: 00004e987cc3d0d974d9b3cb00e1d4b000d88940760e6315fa0e3018771f72e0\n",
      "Is blockchain valid? True\n",
      "Is blockchain valid after tampering? False\n"
     ]
    }
   ],
   "source": [
    "# Usage example\n",
    "blockchain = Blockchain()\n",
    "\n",
    "print(\"Mining block 1...\")\n",
    "blockchain.add_block(Block(1, \"\", int(time.time()), {\"amount\": 4}))\n",
    "\n",
    "print(\"Mining block 2...\")\n",
    "blockchain.add_block(Block(2, \"\", int(time.time()), {\"amount\": 10}))\n",
    "\n",
    "print(f\"Is blockchain valid? {blockchain.is_chain_valid()}\")\n",
    "\n",
    "# Tamper with the blockchain\n",
    "blockchain.chain[1].data = {\"amount\": 100}\n",
    "print(f\"Is blockchain valid after tampering? {blockchain.is_chain_valid()}\")"
   ]
  },
  {
   "cell_type": "markdown",
   "metadata": {},
   "source": [
    "## Passwords"
   ]
  },
  {
   "cell_type": "code",
   "execution_count": 7,
   "metadata": {},
   "outputs": [
    {
     "name": "stdout",
     "output_type": "stream",
     "text": [
      "Stored hash: 6e659deaa85842cdabb5c6305fcc40033ba43772ec00d45c2a3c921741a5e377\n"
     ]
    }
   ],
   "source": [
    "password = \"mypassword123\"\n",
    "hashed_password = hashlib.sha256(password.encode()).hexdigest()\n",
    "print(\"Stored hash:\", hashed_password)"
   ]
  },
  {
   "cell_type": "markdown",
   "metadata": {},
   "source": [
    "## This looks impressive, but... \n",
    "\n",
    "* Attackers can leverage the speed of SHA-256 to try billions of password guesses per second in a brute-force or dictionary attack.\n",
    "\n",
    "* SHA-256 does not natively include salting, a technique where a random value (the salt) is added to the password before hashing to make the hash unique for each user. Without salt, two users with the same password will have the same hash, making attacks easier.\n",
    "\n",
    "* SHA-256 does not support key stretching, which is a method to make the hashing process slower and more resistant to brute-force attacks. For password hashing, you want a function that intentionally takes time to compute (e.g., several milliseconds per hash) to slow down attackers.\n"
   ]
  },
  {
   "cell_type": "markdown",
   "metadata": {},
   "source": [
    "` pip install bcrypt `\n",
    "\n",
    "`python3 -m pip install -U bcrypt --user`"
   ]
  },
  {
   "cell_type": "code",
   "execution_count": 10,
   "metadata": {},
   "outputs": [],
   "source": [
    "import bcrypt"
   ]
  },
  {
   "cell_type": "code",
   "execution_count": 11,
   "metadata": {},
   "outputs": [
    {
     "name": "stdout",
     "output_type": "stream",
     "text": [
      "Hashed password: b'$2b$12$QEX0gKMfmI1JJb5KMND3WOqdriS62T1hdX6KkXUfjYe8YoUV0lfue'\n",
      "Password is correct!\n"
     ]
    }
   ],
   "source": [
    "\n",
    "# Step 1: Generate a salt and hash the password\n",
    "password = \"mypassword123\".encode()  # Convert password to bytes\n",
    "salt = bcrypt.gensalt()  # Generate a random salt\n",
    "hashed_password = bcrypt.hashpw(password, salt)  # Hash the password with the salt\n",
    "\n",
    "# Step 2: Store the hashed password (and salt is embedded in the hash)\n",
    "print(f\"Hashed password: {hashed_password}\")\n",
    "\n",
    "# Step 3: To verify a password during login\n",
    "entered_password = \"mypassword123\".encode()\n",
    "if bcrypt.checkpw(entered_password, hashed_password):\n",
    "    print(\"Password is correct!\")\n",
    "else:\n",
    "    print(\"Password is incorrect.\")"
   ]
  },
  {
   "cell_type": "markdown",
   "metadata": {},
   "source": [
    "## Hashing with a key (HMAC)\n",
    "\n",
    "HMAC (Hash-based Message Authentication Code):"
   ]
  },
  {
   "cell_type": "code",
   "execution_count": 8,
   "metadata": {},
   "outputs": [
    {
     "name": "stdout",
     "output_type": "stream",
     "text": [
      "HMAC: d0e72e3ebca850380c42bc96009638375860cb5c330048588d3298f02e740065\n"
     ]
    }
   ],
   "source": [
    "import hmac\n",
    "\n",
    "key = b'secret_key'\n",
    "message = b'Hello, World!'\n",
    "\n",
    "hmac_hash = hmac.new(key, message, hashlib.sha256).hexdigest()\n",
    "print(\"HMAC:\", hmac_hash)"
   ]
  },
  {
   "cell_type": "markdown",
   "metadata": {},
   "source": [
    "## Encryption\n",
    "\n",
    "WhatsApp uses end-to-end encryption, which is different from HMAC. Specifically, it relies on the Signal Protocol, which employs a combination of:\n",
    "\n",
    "* Symmetric Encryption (AES): To encrypt the actual messages using a secret key that only the sender and recipient know.\n",
    "\n",
    "* Asymmetric Encryption (RSA, Curve25519): To securely exchange the secret keys between the sender and recipient.\n",
    "\n",
    "* Message Authentication Codes (MAC): Used for verifying the integrity and authenticity of messages, but this is separate from encryption."
   ]
  },
  {
   "cell_type": "markdown",
   "metadata": {},
   "source": [
    "## AES (Advanced Encryption Standard)\n",
    "\n",
    "* Advanced Encryption Standard (AES) is a symmetric block cipher that the U.S. government selects to protect classified data. AES-256 encryption uses the 256-bit key length to encrypt as well as decrypt a block of messages.\n",
    "\n",
    "* As we've seen, hashing for one-way - for storing data in a unique position within a structure. We have to match hash codes to get to the right data. \n",
    "\n",
    "* Encryption is two-way (encrypt and decrypt), as messages need to be encrypted before they are sent, and then decrypted (only) by the receiver."
   ]
  },
  {
   "cell_type": "markdown",
   "metadata": {},
   "source": [
    "` pip install cryptography `\n",
    "\n",
    "`python3 -m pip install -U cryptography --user`\n"
   ]
  },
  {
   "cell_type": "code",
   "execution_count": 18,
   "metadata": {},
   "outputs": [],
   "source": [
    "from cryptography.hazmat.primitives.ciphers import Cipher, algorithms, modes\n",
    "from cryptography.hazmat.backends import default_backend\n",
    "from cryptography.hazmat.primitives import padding\n",
    "import os"
   ]
  },
  {
   "cell_type": "code",
   "execution_count": 19,
   "metadata": {},
   "outputs": [],
   "source": [
    "# Function to encrypt plaintext using AES\n",
    "def encrypt_aes(key, plaintext):\n",
    "    # Generate a random 16-byte IV (Initialization Vector)\n",
    "    iv = os.urandom(16)\n",
    "    \n",
    "    # Create the cipher using AES and CBC mode with the IV\n",
    "    cipher = Cipher(algorithms.AES(key), modes.CBC(iv), backend=default_backend())\n",
    "    \n",
    "    # Encryptor object\n",
    "    encryptor = cipher.encryptor()\n",
    "    \n",
    "    # Padding the plaintext to be a multiple of block size (16 bytes)\n",
    "    padder = padding.PKCS7(algorithms.AES.block_size).padder()\n",
    "    padded_data = padder.update(plaintext) + padder.finalize()\n",
    "    \n",
    "    # Encrypt the padded plaintext\n",
    "    ciphertext = encryptor.update(padded_data) + encryptor.finalize()\n",
    "    \n",
    "    # Return both the IV and ciphertext (IV is needed for decryption)\n",
    "    return iv, ciphertext\n"
   ]
  },
  {
   "cell_type": "code",
   "execution_count": 20,
   "metadata": {},
   "outputs": [],
   "source": [
    "# Function to decrypt ciphertext using AES\n",
    "def decrypt_aes(key, iv, ciphertext):\n",
    "    # Create the cipher using AES and CBC mode with the provided IV\n",
    "    cipher = Cipher(algorithms.AES(key), modes.CBC(iv), backend=default_backend())\n",
    "    \n",
    "    # Decryptor object\n",
    "    decryptor = cipher.decryptor()\n",
    "    \n",
    "    # Decrypt the ciphertext\n",
    "    padded_plaintext = decryptor.update(ciphertext) + decryptor.finalize()\n",
    "    \n",
    "    # Unpad the plaintext\n",
    "    unpadder = padding.PKCS7(algorithms.AES.block_size).unpadder()\n",
    "    plaintext = unpadder.update(padded_plaintext) + unpadder.finalize()\n",
    "    \n",
    "    return plaintext"
   ]
  },
  {
   "cell_type": "code",
   "execution_count": 21,
   "metadata": {},
   "outputs": [
    {
     "name": "stdout",
     "output_type": "stream",
     "text": [
      "Original plaintext: b'Hello, this is a secret message!'\n",
      "Encrypted ciphertext: 622ed0e6a9d572368e68b2d4453d152b8667e6e01f8d59db8158c26a1d8c77df264cb492c1986f4ca2687093610c6ec1\n",
      "Initialization Vector (IV): e3a96a5ee014529f1ba62e8d9395fb3d\n",
      "Decrypted plaintext: b'Hello, this is a secret message!'\n"
     ]
    }
   ],
   "source": [
    "# Demo: Encrypt and decrypt a message using AES-256\n",
    "def demo_aes():\n",
    "    # Key must be either 16, 24, or 32 bytes long (AES-128, AES-192, AES-256 respectively)\n",
    "    key = os.urandom(32)  # AES-256 key (32 bytes)\n",
    "    \n",
    "    # Example plaintext message\n",
    "    plaintext = b\"Hello, this is a secret message!\"\n",
    "    print(f\"Original plaintext: {plaintext}\")\n",
    "    \n",
    "    # Encrypt the message\n",
    "    iv, ciphertext = encrypt_aes(key, plaintext)\n",
    "    print(f\"Encrypted ciphertext: {ciphertext.hex()}\")\n",
    "    print(f\"Initialization Vector (IV): {iv.hex()}\")\n",
    "    \n",
    "    # Decrypt the message\n",
    "    decrypted_plaintext = decrypt_aes(key, iv, ciphertext)\n",
    "    print(f\"Decrypted plaintext: {decrypted_plaintext}\")\n",
    "\n",
    "# Run the AES encryption/decryption demo\n",
    "demo_aes()"
   ]
  },
  {
   "cell_type": "markdown",
   "metadata": {},
   "source": [
    "WhatsApp uses both encryption (for confidentiality) and message authentication (for integrity and authenticity):\n",
    "\n",
    "* The actual content of your messages is encrypted using symmetric encryption (AES-256).\n",
    "\n",
    "* After encryption, an HMAC or similar message authentication method is used to ensure that the encrypted message hasn’t been altered during transmission."
   ]
  },
  {
   "cell_type": "markdown",
   "metadata": {},
   "source": [
    "## PBKDF2 (Password-Based Key Derivation Function 2):\n",
    "\n",
    "* An older but still widely used algorithm.\n",
    "\n",
    "* Uses a combination of a salt and key stretching (by iterating the hash many times) to make brute-force attacks more difficult.\n",
    "\n",
    "* Typically slower than SHA-256, which is good for password hashing."
   ]
  },
  {
   "cell_type": "markdown",
   "metadata": {},
   "source": [
    "## Public key vs private key"
   ]
  },
  {
   "cell_type": "code",
   "execution_count": null,
   "metadata": {},
   "outputs": [],
   "source": []
  },
  {
   "cell_type": "markdown",
   "metadata": {},
   "source": [
    "## Application of Cryptography"
   ]
  },
  {
   "cell_type": "code",
   "execution_count": 1,
   "metadata": {},
   "outputs": [
    {
     "name": "stdout",
     "output_type": "stream",
     "text": [
      "Original: Hello, World!\n",
      "Encrypted: Khoor, Zruog!\n",
      "Decrypted: Hello, World!\n"
     ]
    }
   ],
   "source": [
    "def simple_substitution_encrypt(plaintext, key):\n",
    "    ciphertext = \"\"\n",
    "    for char in plaintext:\n",
    "        if char.isalpha():\n",
    "            shift = ord(key.upper()) - ord('A')\n",
    "            if char.isupper():\n",
    "                ciphertext += chr((ord(char) - ord('A') + shift) % 26 + ord('A'))\n",
    "            else:\n",
    "                ciphertext += chr((ord(char) - ord('a') + shift) % 26 + ord('a'))\n",
    "        else:\n",
    "            ciphertext += char\n",
    "    return ciphertext\n",
    "\n",
    "def simple_substitution_decrypt(ciphertext, key):\n",
    "    plaintext = \"\"\n",
    "    for char in ciphertext:\n",
    "        if char.isalpha():\n",
    "            shift = ord(key.upper()) - ord('A')\n",
    "            if char.isupper():\n",
    "                plaintext += chr((ord(char) - ord('A') - shift) % 26 + ord('A'))\n",
    "            else:\n",
    "                plaintext += chr((ord(char) - ord('a') - shift) % 26 + ord('a'))\n",
    "        else:\n",
    "            plaintext += char\n",
    "    return plaintext\n",
    "\n",
    "# Usage\n",
    "message = \"Hello, World!\"\n",
    "key = \"D\"\n",
    "encrypted = simple_substitution_encrypt(message, key)\n",
    "decrypted = simple_substitution_decrypt(encrypted, key)\n",
    "\n",
    "print(f\"Original: {message}\")\n",
    "print(f\"Encrypted: {encrypted}\")\n",
    "print(f\"Decrypted: {decrypted}\")"
   ]
  },
  {
   "cell_type": "code",
   "execution_count": 2,
   "metadata": {},
   "outputs": [
    {
     "name": "stdout",
     "output_type": "stream",
     "text": [
      "Original: b'Hello, World!'\n",
      "Encrypted: b'\\x1b />*xs\\x12, )0r'\n",
      "Decrypted: b'Hello, World!'\n"
     ]
    }
   ],
   "source": [
    "def xor_cipher(data, key):\n",
    "    return bytes([b ^ ord(key[i % len(key)]) for i, b in enumerate(data)])\n",
    "\n",
    "# Usage\n",
    "message = b\"Hello, World!\"\n",
    "key = \"SECRET\"\n",
    "encrypted = xor_cipher(message, key)\n",
    "decrypted = xor_cipher(encrypted, key)\n",
    "\n",
    "print(f\"Original: {message}\")\n",
    "print(f\"Encrypted: {encrypted}\")\n",
    "print(f\"Decrypted: {decrypted}\")"
   ]
  },
  {
   "cell_type": "markdown",
   "metadata": {},
   "source": [
    "## Python's Cryptography library \n",
    "\n",
    "You may need to install Python's cryptography library via the installer if you haven't already... \n",
    "Copy and paste one of the following into a VSC terminal or your OS terminal/command line\n",
    "\n",
    "` python3 -m pip install cryptography `\n",
    "\n",
    "` pip install cryptography `\n"
   ]
  },
  {
   "cell_type": "code",
   "execution_count": 6,
   "metadata": {},
   "outputs": [
    {
     "name": "stdout",
     "output_type": "stream",
     "text": [
      "Original: b'Hello, World!'\n",
      "Encrypted: b'gAAAAABmwbADb7KI98b7A3W5q_d_YTv_Gm9veKn2HYYu7PZfEamhiy00SZ1ci4P8hEU3zUDHOVH3CRvOVzPWtBcWY_xb-opwEw=='\n",
      "Decrypted: b'Hello, World!'\n"
     ]
    }
   ],
   "source": [
    "from cryptography.fernet import Fernet\n",
    "\n",
    "# Generate a random key\n",
    "key = Fernet.generate_key()\n",
    "f = Fernet(key)\n",
    "\n",
    "# Encrypt a message\n",
    "message = b\"Hello, World!\"\n",
    "encrypted = f.encrypt(message)\n",
    "\n",
    "# Decrypt the message\n",
    "decrypted = f.decrypt(encrypted)\n",
    "\n",
    "print(f\"Original: {message}\")\n",
    "print(f\"Encrypted: {encrypted}\")\n",
    "print(f\"Decrypted: {decrypted}\")"
   ]
  },
  {
   "cell_type": "markdown",
   "metadata": {
    "slideshow": {
     "slide_type": "slide"
    }
   },
   "source": [
    "## Formative Exercises ##\n",
    "\n",
    "Insert a 'code' cell below. In this do the following:\n",
    "\n",
    "* Exercise 1: \n",
    "* Exercise 2: \n",
    "* Exercise 3: How would you implement end to end encryption for sending messages between devices? \n",
    "* Exercise 4: Create a simple Blockchain example that enables two terminals to encrypt and decrypt transactions \n",
    "* Exercise 5:\n"
   ]
  },
  {
   "cell_type": "markdown",
   "metadata": {},
   "source": [
    "## Exercise 1: "
   ]
  },
  {
   "cell_type": "code",
   "execution_count": null,
   "metadata": {},
   "outputs": [],
   "source": [
    "# Write your solution here."
   ]
  },
  {
   "cell_type": "markdown",
   "metadata": {},
   "source": [
    "## Exercise 2: "
   ]
  },
  {
   "cell_type": "code",
   "execution_count": null,
   "metadata": {},
   "outputs": [],
   "source": [
    "# Write your solution here. "
   ]
  },
  {
   "cell_type": "markdown",
   "metadata": {},
   "source": [
    "## Exercise 3: "
   ]
  },
  {
   "cell_type": "code",
   "execution_count": null,
   "metadata": {},
   "outputs": [],
   "source": [
    "# Write your solution here. "
   ]
  },
  {
   "cell_type": "markdown",
   "metadata": {},
   "source": [
    "## Exercise 4:"
   ]
  },
  {
   "cell_type": "code",
   "execution_count": null,
   "metadata": {},
   "outputs": [],
   "source": [
    "# Write your solution here."
   ]
  },
  {
   "cell_type": "markdown",
   "metadata": {},
   "source": [
    "## Exercise 5:"
   ]
  },
  {
   "cell_type": "code",
   "execution_count": null,
   "metadata": {},
   "outputs": [],
   "source": [
    "# Write your solution here. "
   ]
  }
 ],
 "metadata": {
  "celltoolbar": "Slideshow",
  "kernelspec": {
   "display_name": "Python 3 (ipykernel)",
   "language": "python",
   "name": "python3"
  },
  "language_info": {
   "codemirror_mode": {
    "name": "ipython",
    "version": 3
   },
   "file_extension": ".py",
   "mimetype": "text/x-python",
   "name": "python",
   "nbconvert_exporter": "python",
   "pygments_lexer": "ipython3",
   "version": "3.9.6"
  },
  "vscode": {
   "interpreter": {
    "hash": "c24ecc2928a1df641fb89905a028e959d05eac4f79c1af53f0bb766b01409011"
   }
  }
 },
 "nbformat": 4,
 "nbformat_minor": 4
}
