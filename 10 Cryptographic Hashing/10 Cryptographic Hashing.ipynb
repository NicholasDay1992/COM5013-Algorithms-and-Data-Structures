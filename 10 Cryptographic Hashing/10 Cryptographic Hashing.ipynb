{
 "cells": [
  {
   "cell_type": "markdown",
   "metadata": {},
   "source": [
    "<!--![pythonLogo.png](https://www.python.org/static/community_logos/python-powered-w-200x80.png) -->\n",
    "\n",
    "# 10 Cryptographic Hashing\n"
   ]
  },
  {
   "cell_type": "markdown",
   "metadata": {},
   "source": [
    "## Plan for the lecture \n",
    "\n",
    "* Recap on Hashing and collision resolution \n",
    "\n",
    "* Cryptographic Hashing Algorithms \n",
    "\n",
    "* Encryption and Decryption \n"
   ]
  },
  {
   "cell_type": "markdown",
   "metadata": {},
   "source": [
    "## Recap on Hashing\n",
    "\n",
    "* Hash Maps allow users to search a data structure via characters instead of integer index positions. The characters (string) are converted to integers by a process of 'hashing'.\n",
    "\n",
    "* This hashing function will look up the ASCII value of each character. Each integer value is then multiplied by its position in the string to achieve a unique number. These are added together to create a large number. \n",
    "\n",
    "* To prevent having to allocate a large number of elements, the modulo sign (%) calculates a smaller number to reduce the size of elements.\n",
    "\n",
    "\n",
    "\n",
    "![hash](https://d18l82el6cdm1i.cloudfront.net/uploads/34EvJ7agjl-hash_table.gif)"
   ]
  },
  {
   "cell_type": "markdown",
   "metadata": {},
   "source": [
    "## Recap on Collision resolution\n",
    "\n",
    "With a reduced number of spaces available, hashing methods will return the same remainder for some modulus operations. This means that two (or more) items will be competing for the same element in the data structure.\n",
    "\n",
    "There are regarded to be two approaches to resolving collisions: \n",
    "\n",
    "* <b>Separate Chaining</b> - e.g. A Linked List that extends out of an element with colliding values.\n",
    "\n",
    "* <b>Open Addressing</b> - e.g. An alternate address within the structure\n",
    "\n",
    "    * Linear Probing \n",
    "    * Quadratic Probing \n",
    "    * Double Hashing \n",
    "\n"
   ]
  },
  {
   "cell_type": "markdown",
   "metadata": {},
   "source": [
    "## Secure Hashing Algorithm (SHA)\n",
    "\n",
    "* SHA designed by the National Security Agency (NSA) and published by the National Institute of Standards and Technology (NIST) in 2001.\n",
    "\n",
    "* SHA-1 can produce a hash up to 160 bits in length (20 bytes)\n",
    "\n",
    "* SHA-256 can produce a hash up to 256 bits in length (32 bytes)\n",
    "\n",
    "* SHA-256 provides significantly more combinations than SHA-1, approximately  $2^{96}$  times more possibilities, or about  $10^{29}$  times more.\n",
    "\n",
    "* This difference makes SHA-256 much more secure, as it provides a vastly larger space of possible outputs, reducing the risk of collisions (two different inputs producing the same hash). This is why SHA-256 is preferred for modern cryptographic applications\n",
    "\n",
    "* SHA is a family of Hashing functions (one way), whereas encryption will need to be two-way (encrypt and decrypt)\n",
    "\n"
   ]
  },
  {
   "cell_type": "markdown",
   "metadata": {},
   "source": [
    "![nordvpn](https://nordvpn.com/wp-content/uploads/blog-infographic-sha-256-1.svg)\n",
    "<!--\n",
    "<img src=\"https://nordvpn.com/wp-content/uploads/blog-infographic-sha-256-1.svg\" alt=\"sha256nordvpn\" width=\"650\"> \n",
    "-->"
   ]
  },
  {
   "cell_type": "code",
   "execution_count": 1,
   "metadata": {},
   "outputs": [],
   "source": [
    "import hashlib\n",
    "import json\n",
    "import time"
   ]
  },
  {
   "cell_type": "code",
   "execution_count": 2,
   "metadata": {},
   "outputs": [
    {
     "name": "stdout",
     "output_type": "stream",
     "text": [
      "H : 72\n",
      "e : 101\n",
      "l : 108\n",
      "l : 108\n",
      "o : 111\n",
      ", : 44\n",
      "  : 32\n",
      "W : 87\n",
      "o : 111\n",
      "r : 114\n",
      "l : 108\n",
      "d : 100\n",
      "ASCII sum for Hello, World = 1096\n"
     ]
    }
   ],
   "source": [
    "message = 'Hello, World'\n",
    "sum = 0\n",
    "for char in message: \n",
    "    print(char, \":\", ord(char))\n",
    "    sum += ord(char)\n",
    "print(\"ASCII sum for\", message, \"=\", sum)"
   ]
  },
  {
   "cell_type": "markdown",
   "metadata": {},
   "source": [
    "SHA-1"
   ]
  },
  {
   "cell_type": "code",
   "execution_count": 5,
   "metadata": {},
   "outputs": [
    {
     "name": "stdout",
     "output_type": "stream",
     "text": [
      "Original message: Hello, World!\n",
      "Hashed value: 0a0a9f2a6772942557ab5355d76af442f8f65e01\n"
     ]
    }
   ],
   "source": [
    "message = \"Hello, World!\"\n",
    "hash_object = hashlib.sha1(message.encode())\n",
    "hash_hex = hash_object.hexdigest()\n",
    "\n",
    "print(\"Original message:\", message)\n",
    "print(\"Hashed value:\", hash_hex)"
   ]
  },
  {
   "cell_type": "markdown",
   "metadata": {},
   "source": [
    "* Deterministic - always gives the same hash"
   ]
  },
  {
   "cell_type": "code",
   "execution_count": 11,
   "metadata": {},
   "outputs": [
    {
     "name": "stdout",
     "output_type": "stream",
     "text": [
      "Original message: password\n",
      "Hashed value: 5baa61e4c9b93f3f0682250b6cf8331b7ee68fd8\n"
     ]
    }
   ],
   "source": [
    "message = \"password\"\n",
    "hash_object = hashlib.sha1(message.encode())\n",
    "hash_hex = hash_object.hexdigest()\n",
    "\n",
    "print(\"Original message:\", message)\n",
    "print(\"Hashed value:\", hash_hex)"
   ]
  },
  {
   "cell_type": "code",
   "execution_count": 12,
   "metadata": {},
   "outputs": [
    {
     "data": {
      "text/plain": [
       "20.0"
      ]
     },
     "execution_count": 12,
     "metadata": {},
     "output_type": "execute_result"
    }
   ],
   "source": [
    "l = []\n",
    "l = str(hash_hex)\n",
    "len(l) / 2  # divide by 2 due to hex codes '0a' is one hex"
   ]
  },
  {
   "cell_type": "code",
   "execution_count": 9,
   "metadata": {},
   "outputs": [
    {
     "data": {
      "text/plain": [
       "1.461501637330903e+48"
      ]
     },
     "execution_count": 9,
     "metadata": {},
     "output_type": "execute_result"
    }
   ],
   "source": [
    "import math\n",
    "math.pow(2, 160)"
   ]
  },
  {
   "cell_type": "code",
   "execution_count": 13,
   "metadata": {},
   "outputs": [
    {
     "data": {
      "text/plain": [
       "1461501637330902918203684832716283019655932542976"
      ]
     },
     "execution_count": 13,
     "metadata": {},
     "output_type": "execute_result"
    }
   ],
   "source": [
    "2**160"
   ]
  },
  {
   "cell_type": "code",
   "execution_count": 14,
   "metadata": {},
   "outputs": [
    {
     "name": "stdout",
     "output_type": "stream",
     "text": [
      "2^ 0 = 1.0\n",
      "2^ 1 = 2.0\n",
      "2^ 2 = 4.0\n",
      "2^ 3 = 8.0\n",
      "2^ 4 = 16.0\n",
      "2^ 5 = 32.0\n",
      "2^ 6 = 64.0\n",
      "2^ 7 = 128.0\n",
      "2^ 8 = 256.0\n",
      "2^ 9 = 512.0\n",
      "2^ 10 = 1024.0\n",
      "2^ 11 = 2048.0\n",
      "2^ 12 = 4096.0\n",
      "2^ 13 = 8192.0\n",
      "2^ 14 = 16384.0\n",
      "2^ 15 = 32768.0\n",
      "2^ 16 = 65536.0\n",
      "2^ 17 = 131072.0\n",
      "2^ 18 = 262144.0\n",
      "2^ 19 = 524288.0\n",
      "2^ 20 = 1048576.0\n",
      "2^ 21 = 2097152.0\n",
      "2^ 22 = 4194304.0\n",
      "2^ 23 = 8388608.0\n",
      "2^ 24 = 16777216.0\n",
      "2^ 25 = 33554432.0\n",
      "2^ 26 = 67108864.0\n",
      "2^ 27 = 134217728.0\n",
      "2^ 28 = 268435456.0\n",
      "2^ 29 = 536870912.0\n",
      "2^ 30 = 1073741824.0\n",
      "2^ 31 = 2147483648.0\n",
      "2^ 32 = 4294967296.0\n",
      "2^ 33 = 8589934592.0\n",
      "2^ 34 = 17179869184.0\n",
      "2^ 35 = 34359738368.0\n",
      "2^ 36 = 68719476736.0\n",
      "2^ 37 = 137438953472.0\n",
      "2^ 38 = 274877906944.0\n",
      "2^ 39 = 549755813888.0\n",
      "2^ 40 = 1099511627776.0\n",
      "2^ 41 = 2199023255552.0\n",
      "2^ 42 = 4398046511104.0\n",
      "2^ 43 = 8796093022208.0\n",
      "2^ 44 = 17592186044416.0\n",
      "2^ 45 = 35184372088832.0\n",
      "2^ 46 = 70368744177664.0\n",
      "2^ 47 = 140737488355328.0\n",
      "2^ 48 = 281474976710656.0\n",
      "2^ 49 = 562949953421312.0\n",
      "2^ 50 = 1125899906842624.0\n",
      "2^ 51 = 2251799813685248.0\n",
      "2^ 52 = 4503599627370496.0\n",
      "2^ 53 = 9007199254740992.0\n",
      "2^ 54 = 1.8014398509481984e+16\n",
      "2^ 55 = 3.602879701896397e+16\n",
      "2^ 56 = 7.205759403792794e+16\n",
      "2^ 57 = 1.4411518807585587e+17\n",
      "2^ 58 = 2.8823037615171174e+17\n",
      "2^ 59 = 5.764607523034235e+17\n",
      "2^ 60 = 1.152921504606847e+18\n",
      "2^ 61 = 2.305843009213694e+18\n",
      "2^ 62 = 4.611686018427388e+18\n",
      "2^ 63 = 9.223372036854776e+18\n",
      "2^ 64 = 1.8446744073709552e+19\n",
      "2^ 65 = 3.6893488147419103e+19\n",
      "2^ 66 = 7.378697629483821e+19\n",
      "2^ 67 = 1.4757395258967641e+20\n",
      "2^ 68 = 2.9514790517935283e+20\n",
      "2^ 69 = 5.902958103587057e+20\n",
      "2^ 70 = 1.1805916207174113e+21\n",
      "2^ 71 = 2.3611832414348226e+21\n",
      "2^ 72 = 4.722366482869645e+21\n",
      "2^ 73 = 9.44473296573929e+21\n",
      "2^ 74 = 1.888946593147858e+22\n",
      "2^ 75 = 3.777893186295716e+22\n",
      "2^ 76 = 7.555786372591432e+22\n",
      "2^ 77 = 1.5111572745182865e+23\n",
      "2^ 78 = 3.022314549036573e+23\n",
      "2^ 79 = 6.044629098073146e+23\n",
      "2^ 80 = 1.2089258196146292e+24\n",
      "2^ 81 = 2.4178516392292583e+24\n",
      "2^ 82 = 4.835703278458517e+24\n",
      "2^ 83 = 9.671406556917033e+24\n",
      "2^ 84 = 1.9342813113834067e+25\n",
      "2^ 85 = 3.8685626227668134e+25\n",
      "2^ 86 = 7.737125245533627e+25\n",
      "2^ 87 = 1.5474250491067253e+26\n",
      "2^ 88 = 3.094850098213451e+26\n",
      "2^ 89 = 6.189700196426902e+26\n",
      "2^ 90 = 1.2379400392853803e+27\n",
      "2^ 91 = 2.4758800785707605e+27\n",
      "2^ 92 = 4.951760157141521e+27\n",
      "2^ 93 = 9.903520314283042e+27\n",
      "2^ 94 = 1.9807040628566084e+28\n",
      "2^ 95 = 3.961408125713217e+28\n",
      "2^ 96 = 7.922816251426434e+28\n",
      "2^ 97 = 1.5845632502852868e+29\n",
      "2^ 98 = 3.1691265005705735e+29\n",
      "2^ 99 = 6.338253001141147e+29\n",
      "2^ 100 = 1.2676506002282294e+30\n",
      "2^ 101 = 2.535301200456459e+30\n",
      "2^ 102 = 5.070602400912918e+30\n",
      "2^ 103 = 1.0141204801825835e+31\n",
      "2^ 104 = 2.028240960365167e+31\n",
      "2^ 105 = 4.056481920730334e+31\n",
      "2^ 106 = 8.112963841460668e+31\n",
      "2^ 107 = 1.6225927682921336e+32\n",
      "2^ 108 = 3.2451855365842673e+32\n",
      "2^ 109 = 6.490371073168535e+32\n",
      "2^ 110 = 1.298074214633707e+33\n",
      "2^ 111 = 2.596148429267414e+33\n",
      "2^ 112 = 5.192296858534828e+33\n",
      "2^ 113 = 1.0384593717069655e+34\n",
      "2^ 114 = 2.076918743413931e+34\n",
      "2^ 115 = 4.153837486827862e+34\n",
      "2^ 116 = 8.307674973655724e+34\n",
      "2^ 117 = 1.661534994731145e+35\n",
      "2^ 118 = 3.32306998946229e+35\n",
      "2^ 119 = 6.64613997892458e+35\n",
      "2^ 120 = 1.329227995784916e+36\n",
      "2^ 121 = 2.658455991569832e+36\n",
      "2^ 122 = 5.316911983139664e+36\n",
      "2^ 123 = 1.0633823966279327e+37\n",
      "2^ 124 = 2.1267647932558654e+37\n",
      "2^ 125 = 4.253529586511731e+37\n",
      "2^ 126 = 8.507059173023462e+37\n",
      "2^ 127 = 1.7014118346046923e+38\n",
      "2^ 128 = 3.402823669209385e+38\n",
      "2^ 129 = 6.80564733841877e+38\n",
      "2^ 130 = 1.361129467683754e+39\n",
      "2^ 131 = 2.722258935367508e+39\n",
      "2^ 132 = 5.444517870735016e+39\n",
      "2^ 133 = 1.0889035741470031e+40\n",
      "2^ 134 = 2.1778071482940062e+40\n",
      "2^ 135 = 4.3556142965880123e+40\n",
      "2^ 136 = 8.711228593176025e+40\n",
      "2^ 137 = 1.742245718635205e+41\n",
      "2^ 138 = 3.48449143727041e+41\n",
      "2^ 139 = 6.96898287454082e+41\n",
      "2^ 140 = 1.393796574908164e+42\n",
      "2^ 141 = 2.787593149816328e+42\n",
      "2^ 142 = 5.575186299632656e+42\n",
      "2^ 143 = 1.1150372599265312e+43\n",
      "2^ 144 = 2.2300745198530623e+43\n",
      "2^ 145 = 4.460149039706125e+43\n",
      "2^ 146 = 8.92029807941225e+43\n",
      "2^ 147 = 1.78405961588245e+44\n",
      "2^ 148 = 3.5681192317649e+44\n",
      "2^ 149 = 7.1362384635298e+44\n",
      "2^ 150 = 1.42724769270596e+45\n",
      "2^ 151 = 2.85449538541192e+45\n",
      "2^ 152 = 5.70899077082384e+45\n",
      "2^ 153 = 1.141798154164768e+46\n",
      "2^ 154 = 2.283596308329536e+46\n",
      "2^ 155 = 4.567192616659072e+46\n",
      "2^ 156 = 9.134385233318143e+46\n",
      "2^ 157 = 1.8268770466636286e+47\n",
      "2^ 158 = 3.6537540933272573e+47\n",
      "2^ 159 = 7.307508186654515e+47\n",
      "2^ 160 = 1.461501637330903e+48\n"
     ]
    }
   ],
   "source": [
    "import math\n",
    "\n",
    "for i in range (0,161):\n",
    "    print(\"2^\", i, \"=\", str(math.pow(2, i)))"
   ]
  },
  {
   "cell_type": "markdown",
   "metadata": {},
   "source": [
    "SHA-256"
   ]
  },
  {
   "cell_type": "code",
   "execution_count": 15,
   "metadata": {},
   "outputs": [
    {
     "name": "stdout",
     "output_type": "stream",
     "text": [
      "Original message: Hello, World!\n",
      "Hashed value: dffd6021bb2bd5b0af676290809ec3a53191dd81c7f70a4b28688a362182986f\n"
     ]
    }
   ],
   "source": [
    "message = \"Hello, World!\"\n",
    "hash_object = hashlib.sha256(message.encode())\n",
    "hash_hex = hash_object.hexdigest()\n",
    "\n",
    "print(\"Original message:\", message)\n",
    "print(\"Hashed value:\", hash_hex)"
   ]
  },
  {
   "cell_type": "code",
   "execution_count": 16,
   "metadata": {},
   "outputs": [
    {
     "name": "stdout",
     "output_type": "stream",
     "text": [
      "Original message: password\n",
      "Hashed value: 5e884898da28047151d0e56f8dc6292773603d0d6aabbdd62a11ef721d1542d8\n"
     ]
    }
   ],
   "source": [
    "message = \"password\"\n",
    "hash_object = hashlib.sha256(message.encode())\n",
    "hash_hex = hash_object.hexdigest()\n",
    "\n",
    "print(\"Original message:\", message)\n",
    "print(\"Hashed value:\", hash_hex)"
   ]
  },
  {
   "cell_type": "code",
   "execution_count": 19,
   "metadata": {},
   "outputs": [
    {
     "data": {
      "text/plain": [
       "32.0"
      ]
     },
     "execution_count": 19,
     "metadata": {},
     "output_type": "execute_result"
    }
   ],
   "source": [
    "l = []\n",
    "l = str(hash_hex)\n",
    "len(l) / 2 # divide by 2 due to hex codes 'df' is one hex"
   ]
  },
  {
   "cell_type": "code",
   "execution_count": 20,
   "metadata": {},
   "outputs": [
    {
     "data": {
      "text/plain": [
       "'1.157920892373162e+77'"
      ]
     },
     "execution_count": 20,
     "metadata": {},
     "output_type": "execute_result"
    }
   ],
   "source": [
    "str(math.pow(2, 256))"
   ]
  },
  {
   "cell_type": "code",
   "execution_count": 17,
   "metadata": {},
   "outputs": [
    {
     "data": {
      "text/plain": [
       "115792089237316195423570985008687907853269984665640564039457584007913129639936"
      ]
     },
     "execution_count": 17,
     "metadata": {},
     "output_type": "execute_result"
    }
   ],
   "source": [
    "2**256"
   ]
  },
  {
   "cell_type": "markdown",
   "metadata": {},
   "source": [
    "## Passwords\n",
    "\n",
    "* We don't want to store user's passwords as text below, as this is vulnerable to interception:\n"
   ]
  },
  {
   "cell_type": "code",
   "execution_count": 18,
   "metadata": {},
   "outputs": [
    {
     "name": "stdout",
     "output_type": "stream",
     "text": [
      "You've logged in\n"
     ]
    }
   ],
   "source": [
    "password = \"mypassword123\"\n",
    "\n",
    "if (password == \"mypassword123\"):\n",
    "    print(\"You've logged in\")"
   ]
  },
  {
   "cell_type": "markdown",
   "metadata": {},
   "source": [
    "* But we do need to compare the entered data with something, to tell whether the password has been entered correctly! \n",
    "\n",
    "* Therefore we would store the hash of the password - which is much longer in length "
   ]
  },
  {
   "cell_type": "code",
   "execution_count": 19,
   "metadata": {},
   "outputs": [
    {
     "name": "stdout",
     "output_type": "stream",
     "text": [
      "Stored hash: 6e659deaa85842cdabb5c6305fcc40033ba43772ec00d45c2a3c921741a5e377\n"
     ]
    }
   ],
   "source": [
    "password = \"mypassword123\"\n",
    "hashed_password = hashlib.sha256(password.encode()).hexdigest()\n",
    "print(\"Stored hash:\", hashed_password)"
   ]
  },
  {
   "cell_type": "markdown",
   "metadata": {},
   "source": [
    "* Hashing is <b>one way</b> - we can create a hash of a password for storage in a database and for comparison, but we can't then get back to the string password from this unique hash. "
   ]
  },
  {
   "cell_type": "markdown",
   "metadata": {},
   "source": [
    "## This looks impressive, but... \n",
    "\n",
    "* Attackers can leverage the speed of SHA-256 to try billions of password guesses per second in a brute-force or dictionary attack.\n",
    "\n",
    "* SHA-256 does not natively include salting, a technique where a random value (the salt) is added to the password before hashing to make the hash unique for each user. Without salt, two users with the same password will have the same hash, making attacks easier.\n",
    "\n",
    "* SHA-256 does not support key stretching, which is a method to make the hashing process slower and more resistant to brute-force attacks. For password hashing, you want a function that intentionally takes time to compute (e.g., several milliseconds per hash) to slow down attackers.\n"
   ]
  },
  {
   "cell_type": "markdown",
   "metadata": {},
   "source": [
    "` pip install bcrypt `\n",
    "\n",
    "`python3 -m pip install -U bcrypt --user`"
   ]
  },
  {
   "cell_type": "code",
   "execution_count": 20,
   "metadata": {},
   "outputs": [],
   "source": [
    "import bcrypt"
   ]
  },
  {
   "cell_type": "code",
   "execution_count": 21,
   "metadata": {},
   "outputs": [
    {
     "name": "stdout",
     "output_type": "stream",
     "text": [
      "salt: b'$2b$12$vdD9WqDFE8Bs7qjjHDrYy.'\n",
      "Hashed password: b'$2b$12$vdD9WqDFE8Bs7qjjHDrYy..vCZO0XnQx50yaGZezo./hFx.IlEzfC'\n",
      "Password is correct!\n"
     ]
    }
   ],
   "source": [
    "\n",
    "# Step 1: Generate a salt and hash the password\n",
    "password = \"mypassword123\".encode()  # Convert password to bytes\n",
    "salt = bcrypt.gensalt()  # Generate a random salt\n",
    "print(\"salt:\", salt)\n",
    "hashed_password = bcrypt.hashpw(password, salt)  # Hash the password with the salt\n",
    "\n",
    "# Step 2: Store the hashed password (and salt is embedded in the hash)\n",
    "print(f\"Hashed password: {hashed_password}\")\n",
    "\n",
    "# Step 3: To verify a password during login\n",
    "entered_password = \"mypassword123\".encode()\n",
    "if bcrypt.checkpw(entered_password, hashed_password):\n",
    "    print(\"Password is correct!\")\n",
    "else:\n",
    "    print(\"Password is incorrect.\")"
   ]
  },
  {
   "cell_type": "code",
   "execution_count": 76,
   "metadata": {},
   "outputs": [],
   "source": [
    "import hashlib\n",
    "import os\n",
    "\n",
    "def hash_password(password):\n",
    "    salt = os.urandom(16)  # generate a random salt\n",
    "    hashed = hashlib.sha256(salt + password.encode()).hexdigest()\n",
    "    print(salt)\n",
    "    print(password)\n",
    "    print(hashed)\n",
    "    return salt, hashed"
   ]
  },
  {
   "cell_type": "code",
   "execution_count": 85,
   "metadata": {},
   "outputs": [
    {
     "name": "stdout",
     "output_type": "stream",
     "text": [
      "b'o\\xe1\\xa8\\xa9\\xe7\\xaa\\r3\\xefD\\x94u\\x9ep\\xb84'\n",
      "mypassword123\n",
      "2f44560fa5614c550acef6247f48cadbcc7d684026975ed2df38b5d8b7e73cca\n"
     ]
    },
    {
     "data": {
      "text/plain": [
       "(b'o\\xe1\\xa8\\xa9\\xe7\\xaa\\r3\\xefD\\x94u\\x9ep\\xb84',\n",
       " '2f44560fa5614c550acef6247f48cadbcc7d684026975ed2df38b5d8b7e73cca')"
      ]
     },
     "execution_count": 85,
     "metadata": {},
     "output_type": "execute_result"
    }
   ],
   "source": [
    "hash_password(\"mypassword123\")"
   ]
  },
  {
   "cell_type": "markdown",
   "metadata": {},
   "source": [
    "## Blockchain and Cryptocurrency uses SHA-256\n",
    "\n",
    "* Each block contains a cryptographic hash of the previous block, a timestamp, and transaction data.\n",
    "\n",
    "* These blocks are 'linked' ('chained') together by cryptography (hash codes). \n",
    "\n",
    "* Each block has a hash of the previous block, creating a secure and verifiable chain of data.\n",
    "\n",
    "* Unlike a linked list though, you're not able to delete blocks in the blockchain, otherwise this would violate the integrity of the ledger of transactions. "
   ]
  },
  {
   "cell_type": "markdown",
   "metadata": {},
   "source": [
    "![blockchain1](https://miro.medium.com/v2/resize:fit:977/1*mNdCyhj2WRSzmgTOVztaUg.png)"
   ]
  },
  {
   "cell_type": "code",
   "execution_count": 72,
   "metadata": {},
   "outputs": [
    {
     "name": "stdout",
     "output_type": "stream",
     "text": [
      "transaction string: b'{\"amount\": 50, \"receiver\": \"Bob\", \"sender\": \"Alice\"}'\n",
      "transaction hash: fd2aff1bbd25dca7091cbc385ccd82fc933a0f775d359ad067f46d4371bac73f\n"
     ]
    }
   ],
   "source": [
    "\n",
    "transaction = {\n",
    "    'sender': \"Alice\",\n",
    "    'receiver': \"Bob\",\n",
    "    'amount': 50\n",
    "}\n",
    "transaction_string = json.dumps(transaction, sort_keys=True).encode()\n",
    "transaction_hash = hashlib.sha256(transaction_string).hexdigest()\n",
    "\n",
    "print(\"transaction string:\",transaction_string)\n",
    "print(\"transaction hash:\",transaction_hash)"
   ]
  },
  {
   "cell_type": "markdown",
   "metadata": {},
   "source": [
    "## Blockchain of transactions"
   ]
  },
  {
   "cell_type": "code",
   "execution_count": 65,
   "metadata": {},
   "outputs": [],
   "source": [
    "class Block:\n",
    "    def __init__(self, index, previous_hash, timestamp, data, nonce=0):\n",
    "        self.index = index\n",
    "        self.previous_hash = previous_hash\n",
    "        self.timestamp = timestamp\n",
    "        self.data = data\n",
    "        self.nonce = nonce\n",
    "        self.hash = self.calculate_hash()\n",
    "\n",
    "    def calculate_hash(self):\n",
    "        block_string = f\"{self.index}{self.previous_hash}{self.timestamp}{self.data}{self.nonce}\"\n",
    "        return hashlib.sha256(block_string.encode()).hexdigest()"
   ]
  },
  {
   "cell_type": "code",
   "execution_count": 66,
   "metadata": {},
   "outputs": [],
   "source": [
    "class Blockchain:\n",
    "    def __init__(self):\n",
    "        self.chain = [self.create_genesis_block()]\n",
    "        self.difficulty = 4\n",
    "\n",
    "    def create_genesis_block(self):\n",
    "        return Block(0, \"0\", int(time.time()), \"Genesis Block\")\n",
    "\n",
    "    def get_latest_block(self):\n",
    "        return self.chain[-1]\n",
    "\n",
    "    def add_block(self, new_block):\n",
    "        new_block.previous_hash = self.get_latest_block().hash\n",
    "        new_block.hash = new_block.calculate_hash()\n",
    "        self.mine_block(new_block)\n",
    "        self.chain.append(new_block)\n",
    "\n",
    "    def mine_block(self, block):\n",
    "        target = \"0\" * self.difficulty\n",
    "        while block.hash[:self.difficulty] != target:\n",
    "            block.nonce += 1\n",
    "            block.hash = block.calculate_hash()\n",
    "        print(f\"Block mined: {block.hash}\")\n",
    "\n",
    "    def is_chain_valid(self):\n",
    "        for i in range(1, len(self.chain)):\n",
    "            current_block = self.chain[i]\n",
    "            previous_block = self.chain[i-1]\n",
    "\n",
    "            if current_block.hash != current_block.calculate_hash():\n",
    "                return False\n",
    "\n",
    "            if current_block.previous_hash != previous_block.hash:\n",
    "                return False\n",
    "\n",
    "        return True"
   ]
  },
  {
   "cell_type": "code",
   "execution_count": 73,
   "metadata": {},
   "outputs": [
    {
     "name": "stdout",
     "output_type": "stream",
     "text": [
      "Mining block 1...\n",
      "Block mined: 0000f2ad02b527aa860a03fc1012fded03abd8bab88f870b14c188c311142146\n",
      "Mining block 2...\n",
      "Block mined: 0000f688d3b585508c8f47e7b11e1f07601136608656b0ac4264f88faf6a2ffd\n",
      "Is blockchain valid? True\n",
      "Is blockchain valid after tampering? False\n"
     ]
    }
   ],
   "source": [
    "blockchain = Blockchain()\n",
    "\n",
    "print(\"Mining block 1...\")\n",
    "blockchain.add_block(Block(1, \"\", int(time.time()), {\"amount\": 4}))\n",
    "\n",
    "print(\"Mining block 2...\")\n",
    "blockchain.add_block(Block(2, \"\", int(time.time()), {\"amount\": 10}))\n",
    "\n",
    "print(f\"Is blockchain valid? {blockchain.is_chain_valid()}\")\n",
    "\n",
    "# Tamper with the blockchain\n",
    "blockchain.chain[1].data = {\"amount\": 100}\n",
    "print(f\"Is blockchain valid after tampering? {blockchain.is_chain_valid()}\")"
   ]
  },
  {
   "cell_type": "code",
   "execution_count": 75,
   "metadata": {},
   "outputs": [
    {
     "name": "stdout",
     "output_type": "stream",
     "text": [
      "e559fcdcaf32a8778ee5811a131c563c3fbb1459805e78a6401c8b15a6f93875\n"
     ]
    }
   ],
   "source": [
    "import hashlib\n",
    "\n",
    "def hash_block(transactions, previous_hash, nonce):\n",
    "    block_content = f\"{transactions}-{previous_hash}-{nonce}\"\n",
    "    return hashlib.sha256(block_content.encode()).hexdigest()\n",
    "\n",
    "transactions = \"Alice pays Bob 10 BTC\"\n",
    "previous_hash = \"0000000000000000\"\n",
    "nonce = 0\n",
    "current_hash = hash_block(transactions, previous_hash, nonce)\n",
    "print(current_hash)"
   ]
  },
  {
   "cell_type": "code",
   "execution_count": 34,
   "metadata": {},
   "outputs": [],
   "source": [
    "import hashlib\n",
    "from typing import List\n",
    "\n",
    "class MerkleTree:\n",
    "    def __init__(self, data: List[str]):\n",
    "        # Initial list of hashed leaves (each data element hashed)\n",
    "        self.leaves = [self.hash_data(item) for item in data]\n",
    "        self.root = self.build_merkle_tree(self.leaves)\n",
    "\n",
    "    def hash_data(self, data: str) -> str:\n",
    "        # Hashes the data using SHA-256\n",
    "        return hashlib.sha256(data.encode()).hexdigest()\n",
    "\n",
    "    def build_merkle_tree(self, leaves: List[str]) -> str:\n",
    "        # Recursively builds the Merkle tree and returns the root\n",
    "        if len(leaves) == 1:\n",
    "            return leaves[0]\n",
    "\n",
    "        # If odd number of leaves, duplicate the last leaf to make pairs\n",
    "        if len(leaves) % 2 == 1:\n",
    "            leaves.append(leaves[-1])\n",
    "\n",
    "        # Hash pairs of leaves to create parent nodes\n",
    "        parent_nodes = []\n",
    "        for i in range(0, len(leaves), 2):\n",
    "            combined_hash = self.hash_data(leaves[i] + leaves[i+1])\n",
    "            parent_nodes.append(combined_hash)\n",
    "\n",
    "        # Recursively build tree until one root remains\n",
    "        return self.build_merkle_tree(parent_nodes)\n",
    "\n",
    "    def get_root(self) -> str:\n",
    "        return self.root"
   ]
  },
  {
   "cell_type": "code",
   "execution_count": 35,
   "metadata": {},
   "outputs": [
    {
     "name": "stdout",
     "output_type": "stream",
     "text": [
      "Merkle Root: 0cf77e26eb4a27047852cf39e3868c7a69ff1109acb9e799ba422d3ac350fb97\n"
     ]
    }
   ],
   "source": [
    "data = [\"transaction1\", \"transaction2\", \"transaction3\", \"transaction4\"]\n",
    "merkle_tree = MerkleTree(data)\n",
    "print(\"Merkle Root:\", merkle_tree.get_root())"
   ]
  },
  {
   "cell_type": "markdown",
   "metadata": {},
   "source": [
    "## Encryption and Decryption \n",
    "\n",
    "* We've seen that hashing is one-way - we cannot get back to the original value from the hashed value. We have to match the hashed values. \n",
    "\n",
    "* However encryption and decryption is two-way. We disguise the original data for transmission, but enable the recipient to decrypt for reading.\n",
    "\n",
    "* Let's look at a simple substitution example using the Ceaser Cipher of shifting the elements: \n"
   ]
  },
  {
   "cell_type": "markdown",
   "metadata": {},
   "source": [
    "## Caeser Cipher: \n",
    "\n",
    "* Shift the letters by a constant number of positions. \n",
    "\n",
    "* For example, with a left shift of 3, D would be replaced by A, E would become B, and so on.\n",
    "\n",
    "![caeser](https://upload.wikimedia.org/wikipedia/commons/thumb/4/4a/Caesar_cipher_left_shift_of_3.svg/440px-Caesar_cipher_left_shift_of_3.svg.png)"
   ]
  },
  {
   "cell_type": "code",
   "execution_count": 86,
   "metadata": {},
   "outputs": [
    {
     "data": {
      "text/plain": [
       "3"
      ]
     },
     "execution_count": 86,
     "metadata": {},
     "output_type": "execute_result"
    }
   ],
   "source": [
    "key = \"D\" \n",
    "shift = ord(key.upper()) - ord('A')\n",
    "shift"
   ]
  },
  {
   "cell_type": "code",
   "execution_count": 88,
   "metadata": {},
   "outputs": [
    {
     "data": {
      "text/plain": [
       "23"
      ]
     },
     "execution_count": 88,
     "metadata": {},
     "output_type": "execute_result"
    }
   ],
   "source": [
    "key = \"X\" \n",
    "shift = ord(key.upper()) - ord('A')\n",
    "shift"
   ]
  },
  {
   "cell_type": "code",
   "execution_count": 94,
   "metadata": {},
   "outputs": [
    {
     "name": "stdout",
     "output_type": "stream",
     "text": [
      "Original: Hello, World!\n",
      "Encrypted: Khoor, Zruog!\n",
      "Decrypted: Hello, World!\n"
     ]
    }
   ],
   "source": [
    "def simple_substitution_encrypt(plaintext, key):\n",
    "    ciphertext = \"\"\n",
    "    for char in plaintext:\n",
    "        if char.isalpha():\n",
    "            shift = ord(key.upper()) - ord('A')\n",
    "            if char.isupper():\n",
    "                ciphertext += chr((ord(char) - ord('A') + shift) % 26 + ord('A'))\n",
    "            else:\n",
    "                ciphertext += chr((ord(char) - ord('a') + shift) % 26 + ord('a'))\n",
    "        else:\n",
    "            ciphertext += char\n",
    "    return ciphertext\n",
    "\n",
    "def simple_substitution_decrypt(ciphertext, key):\n",
    "    plaintext = \"\"\n",
    "    for char in ciphertext:\n",
    "        if char.isalpha():\n",
    "            shift = ord(key.upper()) - ord('A')\n",
    "            if char.isupper():\n",
    "                plaintext += chr((ord(char) - ord('A') - shift) % 26 + ord('A'))\n",
    "            else:\n",
    "                plaintext += chr((ord(char) - ord('a') - shift) % 26 + ord('a'))\n",
    "        else:\n",
    "            plaintext += char\n",
    "    return plaintext\n",
    "\n",
    "# Usage\n",
    "message = \"Hello, World!\"\n",
    "key = \"D\"\n",
    "encrypted = simple_substitution_encrypt(message, key)\n",
    "decrypted = simple_substitution_decrypt(encrypted, key)\n",
    "\n",
    "print(f\"Original: {message}\")\n",
    "print(f\"Encrypted: {encrypted}\")\n",
    "print(f\"Decrypted: {decrypted}\")"
   ]
  },
  {
   "cell_type": "markdown",
   "metadata": {},
   "source": [
    "## XOR Cipher: \n",
    "\n",
    "* The XOR cipher is more sophisticated - it involves bitwise XOR operations on binary representations of the characters in plaintext and key\n",
    "\n",
    "* 0 XOR 0 = 0\n",
    "\n",
    "* 1 XOR 0 = 1\n",
    "\n",
    "* 0 XOR 1 = 1\n",
    "\n",
    "* 1 XOR 1 = 0\n",
    "\n"
   ]
  },
  {
   "cell_type": "code",
   "execution_count": 95,
   "metadata": {},
   "outputs": [],
   "source": [
    "def xor_cipher(data, key):\n",
    "    return bytes([b ^ ord(key[i % len(key)]) for i, b in enumerate(data)])"
   ]
  },
  {
   "cell_type": "code",
   "execution_count": 100,
   "metadata": {},
   "outputs": [
    {
     "name": "stdout",
     "output_type": "stream",
     "text": [
      "Original: b'Hello, World!'\n",
      "Encrypted: b'\\x1b />*xs\\x12, )0r'\n",
      "Decrypted: b'Hello, World!'\n"
     ]
    }
   ],
   "source": [
    "message = b\"Hello, World!\"\n",
    "key = \"SECRET\"\n",
    "encrypted = xor_cipher(message, key)\n",
    "decrypted = xor_cipher(encrypted, key)\n",
    "\n",
    "print(f\"Original: {message}\")\n",
    "print(f\"Encrypted: {encrypted}\")\n",
    "print(f\"Decrypted: {decrypted}\")"
   ]
  },
  {
   "cell_type": "markdown",
   "metadata": {},
   "source": [
    "## Python's Cryptography library \n",
    "\n",
    "You may need to install Python's cryptography library via the installer if you haven't already... \n",
    "Copy and paste one of the following into a VSC terminal or your OS terminal/command line\n",
    "\n",
    "` python3 -m pip install cryptography `\n",
    "\n",
    "` pip install cryptography `\n"
   ]
  },
  {
   "cell_type": "markdown",
   "metadata": {},
   "source": [
    "## Fernet's Cipher\n",
    "\n",
    "* The Fernet cipher in Python’s cryptography library is a symmetric encryption algorithm.\n",
    "\n",
    "* It's based on the Advanced Encryption Standard (AES) in Cipher Block Chaining (CBC) mode with a 128-bit initialization vector (IV). \n",
    "\n",
    "* It uses AES-128 under the hood but provides additional features and protections:"
   ]
  },
  {
   "cell_type": "code",
   "execution_count": 123,
   "metadata": {},
   "outputs": [
    {
     "name": "stdout",
     "output_type": "stream",
     "text": [
      "<cryptography.fernet.Fernet object at 0x103b450a0>\n",
      "b'MyYQFF5RCrkZNc0GcWjCX-zcEZ6JRDBYIAoIb0EMFiY='\n",
      "Original: b'Hello, World!'\n",
      "Encrypted: b'gAAAAABnLhYW-tNH3PZgxg1WMKhbbCn7qffDIeLlS7wBTCelP2_mMbNjnnpU84bgojdO6F5LbilBVBjh44LdwHN7uSgn4gKuHA=='\n",
      "Decrypted: b'Hello, World!'\n"
     ]
    }
   ],
   "source": [
    "from cryptography.fernet import Fernet\n",
    "\n",
    "# Generate a random key\n",
    "key = Fernet.generate_key()\n",
    "f = Fernet(key)\n",
    "print(f)\n",
    "print(key)\n",
    "\n",
    "# Encrypt a message\n",
    "message = b\"Hello, World!\"\n",
    "encrypted = f.encrypt(message)\n",
    "\n",
    "# Decrypt the message\n",
    "decrypted = f.decrypt(encrypted)\n",
    "\n",
    "print(f\"Original: {message}\")\n",
    "print(f\"Encrypted: {encrypted}\")\n",
    "print(f\"Decrypted: {decrypted}\")"
   ]
  },
  {
   "cell_type": "markdown",
   "metadata": {},
   "source": [
    "## Encryption Algorithms\n",
    "\n",
    "* <b>RSA</b> is an <b>asymmetric</b> encryption algorithm: \n",
    "\n",
    "    * RSA uses a <b>pair of keys: a public key for encryption and a private key for decryption</b>. This type of encryption is often used for secure data exchange where two parties may not have a shared secret.\n",
    "\n",
    "* <b>AES</b> is a <b>symmetric</b> encryption algorithm: \n",
    "\n",
    "    * AES uses <b>a single key for both encryption and decryption</b>. AES is often used for encrypting large amounts of data quickly because it is more computationally efficient than RSA."
   ]
  },
  {
   "cell_type": "markdown",
   "metadata": {},
   "source": [
    "## Prime numbers as building blocks for Cryptography\n",
    "\n",
    "* Mathematical definition: a prime number is a number greater than one (1), which is only divisable by itself and 1. \n",
    "\n",
    "* e.g. $15 = 5 \\times 3$ - NOT prime\n",
    "\n",
    "* e.g. $7 = 7 \\times 1$ - prime\n",
    "\n",
    "* Applied in cryptography to disguise the original data.\n",
    "\n",
    "<img src=\"https://media.geeksforgeeks.org/wp-content/uploads/20240912153108/Prime-Numbers.png\" alt=\"prime_numbers\" width=\"650\"> "
   ]
  },
  {
   "cell_type": "code",
   "execution_count": 124,
   "metadata": {},
   "outputs": [],
   "source": [
    "def is_prime(n):\n",
    "    \"\"\"Check if a number is prime.\"\"\"\n",
    "    if n <= 1:\n",
    "        return False\n",
    "    if n <= 3:\n",
    "        return True\n",
    "    if n % 2 == 0 or n % 3 == 0:\n",
    "        return False\n",
    "    i = 5\n",
    "    while i * i <= n:\n",
    "        if n % i == 0 or n % (i + 2) == 0:\n",
    "            return False\n",
    "        i += 6\n",
    "    return True"
   ]
  },
  {
   "cell_type": "code",
   "execution_count": 125,
   "metadata": {},
   "outputs": [],
   "source": [
    "def generate_primes(limit):\n",
    "    \"\"\"Generate prime numbers up to a given limit.\"\"\"\n",
    "    primes = []\n",
    "    for num in range(2, limit + 1):\n",
    "        if is_prime(num):\n",
    "            primes.append(num)\n",
    "    return primes"
   ]
  },
  {
   "cell_type": "code",
   "execution_count": 126,
   "metadata": {},
   "outputs": [
    {
     "name": "stdout",
     "output_type": "stream",
     "text": [
      "Prime numbers up to 50: [2, 3, 5, 7, 11, 13, 17, 19, 23, 29, 31, 37, 41, 43, 47]\n"
     ]
    }
   ],
   "source": [
    "prime_numbers = generate_primes(50)\n",
    "print(\"Prime numbers up to 50:\", prime_numbers)"
   ]
  },
  {
   "cell_type": "markdown",
   "metadata": {},
   "source": [
    "## So what do prime numbers mean for cryptography? \n",
    "\n",
    "* Ancient greek mathemeticians proposed that every whole number greater than one can be written as a product of primes: \n",
    "\n",
    "    * e.g. $135 = 3 \\times 3 \\times 3 \\times 5$\n",
    "\n",
    "    * e.g. $250 = 3 \\times 5 \\times 5 \\times 5$\n",
    "\n",
    "* Therefore, the end result (the hashed value) is knowable if we know the constitute parts (primes).\n",
    "\n",
    "* As we saw with password encryption and credit card encryption, the original data is hashed, so that the original data can be disguised, and the disguised value can still be compared. \n",
    "\n",
    "* Therefore, it is possible to decrypt a hashed value, by understanding the prime factors. \n"
   ]
  },
  {
   "cell_type": "markdown",
   "metadata": {},
   "source": [
    "Let's scale this up - \n",
    "\n",
    "* Question: what are the prime factors that can be multiplied together to get `449623`?"
   ]
  },
  {
   "cell_type": "code",
   "execution_count": 127,
   "metadata": {},
   "outputs": [
    {
     "data": {
      "text/plain": [
       "449623"
      ]
     },
     "execution_count": 127,
     "metadata": {},
     "output_type": "execute_result"
    }
   ],
   "source": [
    "449623"
   ]
  },
  {
   "cell_type": "markdown",
   "metadata": {},
   "source": [
    "I'm sure you can work this out in your heads, but let's write a Python script that can identify prime factors that multiply together. "
   ]
  },
  {
   "cell_type": "code",
   "execution_count": 128,
   "metadata": {},
   "outputs": [],
   "source": [
    "def prime_factors(n):\n",
    "    factors = []\n",
    "    # Divide by 2 until n is odd\n",
    "    while n % 2 == 0:\n",
    "        factors.append(2)\n",
    "        n //= 2\n",
    "\n",
    "    # Now n is odd, we can start from 3 and go up by 2 (checking only odd divisors)\n",
    "    factor = 3\n",
    "    while factor * factor <= n:\n",
    "        while n % factor == 0:\n",
    "            factors.append(factor)\n",
    "            n //= factor\n",
    "        factor += 2\n",
    "\n",
    "    # If n is still greater than 2, it must be prime\n",
    "    if n > 2:\n",
    "        factors.append(n)\n",
    "\n",
    "    return factors"
   ]
  },
  {
   "cell_type": "code",
   "execution_count": 129,
   "metadata": {},
   "outputs": [
    {
     "name": "stdout",
     "output_type": "stream",
     "text": [
      "Prime factors of 449623 are: [521, 863]\n"
     ]
    }
   ],
   "source": [
    "number = 449623\n",
    "print(\"Prime factors of\", number, \"are:\", prime_factors(number))"
   ]
  },
  {
   "cell_type": "code",
   "execution_count": 131,
   "metadata": {},
   "outputs": [
    {
     "data": {
      "text/plain": [
       "449623"
      ]
     },
     "execution_count": 131,
     "metadata": {},
     "output_type": "execute_result"
    }
   ],
   "source": [
    "521 * 863"
   ]
  },
  {
   "cell_type": "markdown",
   "metadata": {},
   "source": [
    "* Now, this is harder for us as humans to work out in our heads, but for computers, it's much easier given modern compute power.\n",
    "\n",
    "* Therefore, this is why encrypted values are seriously large! To make it much harder for brute force attacks to work. \n",
    "\n",
    "* We saw 160 bits and 256 bit lengths earlier, but modern day RSA values are 2048 bit to 4096 bit values! \n",
    "\n",
    "* 2^4096 creates some large hash values!"
   ]
  },
  {
   "cell_type": "code",
   "execution_count": 133,
   "metadata": {},
   "outputs": [
    {
     "name": "stdout",
     "output_type": "stream",
     "text": [
      "4096-bit Encrypted Hexadecimal Value: 18ad0a2787bb049843c88cc2a0b42e44ca6255b6e48e611a7848ed29b67a0f2b55a8b853e1768514554cfd83e3d1987278ec9b013ad7ef8eeebd0e8f5164a157a3e94779a5845a20c853a337ec855566a22333f75390a23be2960d69dd20dcc7652461c1e7091e2bfe44f82afbfbf821db23a6110b1287be7ab14b492f38850194d50e7be16ab178db4f33ceeccf648bf2598245954df79936f48678cf3652f764216893f32da2f6d7a2f22aca68e30842a7dbec051dbd6d5348602d93f07dac749362c29eb433cc33b03071ec1fa6e8ca51be2530a76ac47cfaccef927fe4a93d76e4938cac9c7ce616e0d1dd0f4f8e48bae1b5cff5ac8584ab94f8d3c51e2af1839a5f5cacd2e1ab1abc18611c01cf670a1ebc93cd6cf1029f37fdc5162bd6eac83fd800e333e13fd09a0ac977bb656bdc82b4394d033d40b833ccdb99b132287b11b65a9971ae2f59274513e60c8601254855f1cfbdc7a004836a88b62142a0a411454b1b7554214b08b1b0ef42e6ac10124acfe5104117429d45e2644df783c374a5f5d4bb1c5ae06a682b83c008ffc7218fa6a08fcec10aa08517a1520db973aba843ccf563c8dfb59fde48e57c9f0b06e0f1ee3599e5d7b4f20adc0df26c2bb5f0d973cfa8a369b017e803cd78c8cfa8cbb9dfa02b625df235907eb098feecc893e7905e2610b683c65795984e49734c21d46cf0c3c3fe6f0106230b1e\n"
     ]
    }
   ],
   "source": [
    "from cryptography.hazmat.primitives.asymmetric import rsa, padding\n",
    "from cryptography.hazmat.primitives import hashes\n",
    "from cryptography.hazmat.backends import default_backend\n",
    "import binascii\n",
    "\n",
    "def generate_rsa_keys():\n",
    "    # Generate a 4096-bit RSA private key\n",
    "    private_key = rsa.generate_private_key(\n",
    "        public_exponent=65537,\n",
    "        key_size=4096,\n",
    "        backend=default_backend()\n",
    "    )\n",
    "    public_key = private_key.public_key()\n",
    "    return private_key, public_key\n",
    "\n",
    "def encrypt_message(public_key, message):\n",
    "    # Encrypt the message using the public key and OAEP padding\n",
    "    ciphertext = public_key.encrypt(\n",
    "        message.encode(),\n",
    "        padding.OAEP(\n",
    "            mgf=padding.MGF1(algorithm=hashes.SHA256()),\n",
    "            algorithm=hashes.SHA256(),\n",
    "            label=None\n",
    "        )\n",
    "    )\n",
    "    # Convert to hexadecimal for easy readability\n",
    "    return binascii.hexlify(ciphertext).decode()\n",
    "\n",
    "# Generate the RSA keys\n",
    "private_key, public_key = generate_rsa_keys()\n",
    "\n",
    "# Encrypt a sample message\n",
    "message = \"This is a secret message\"\n",
    "encrypted_hex = encrypt_message(public_key, message)\n",
    "\n",
    "print(\"4096-bit Encrypted Hexadecimal Value:\", encrypted_hex)"
   ]
  },
  {
   "cell_type": "markdown",
   "metadata": {},
   "source": [
    "And with new lines..."
   ]
  },
  {
   "cell_type": "code",
   "execution_count": 137,
   "metadata": {},
   "outputs": [],
   "source": [
    "inp = encrypted_hex\n",
    "new_input = \"\"\n",
    "for i, letter in enumerate(inp):\n",
    "    if i % 80 == 0:\n",
    "        new_input += '\\n'\n",
    "    new_input += letter\n",
    "\n",
    "# this is just because at the beginning too a `\\n` character gets added\n",
    "new_input = new_input[1:] "
   ]
  },
  {
   "cell_type": "code",
   "execution_count": 138,
   "metadata": {},
   "outputs": [
    {
     "name": "stdout",
     "output_type": "stream",
     "text": [
      "18ad0a2787bb049843c88cc2a0b42e44ca6255b6e48e611a7848ed29b67a0f2b55a8b853e1768514\n",
      "554cfd83e3d1987278ec9b013ad7ef8eeebd0e8f5164a157a3e94779a5845a20c853a337ec855566\n",
      "a22333f75390a23be2960d69dd20dcc7652461c1e7091e2bfe44f82afbfbf821db23a6110b1287be\n",
      "7ab14b492f38850194d50e7be16ab178db4f33ceeccf648bf2598245954df79936f48678cf3652f7\n",
      "64216893f32da2f6d7a2f22aca68e30842a7dbec051dbd6d5348602d93f07dac749362c29eb433cc\n",
      "33b03071ec1fa6e8ca51be2530a76ac47cfaccef927fe4a93d76e4938cac9c7ce616e0d1dd0f4f8e\n",
      "48bae1b5cff5ac8584ab94f8d3c51e2af1839a5f5cacd2e1ab1abc18611c01cf670a1ebc93cd6cf1\n",
      "029f37fdc5162bd6eac83fd800e333e13fd09a0ac977bb656bdc82b4394d033d40b833ccdb99b132\n",
      "287b11b65a9971ae2f59274513e60c8601254855f1cfbdc7a004836a88b62142a0a411454b1b7554\n",
      "214b08b1b0ef42e6ac10124acfe5104117429d45e2644df783c374a5f5d4bb1c5ae06a682b83c008\n",
      "ffc7218fa6a08fcec10aa08517a1520db973aba843ccf563c8dfb59fde48e57c9f0b06e0f1ee3599\n",
      "e5d7b4f20adc0df26c2bb5f0d973cfa8a369b017e803cd78c8cfa8cbb9dfa02b625df235907eb098\n",
      "feecc893e7905e2610b683c65795984e49734c21d46cf0c3c3fe6f0106230b1e\n"
     ]
    }
   ],
   "source": [
    "print(new_input)"
   ]
  },
  {
   "cell_type": "markdown",
   "metadata": {},
   "source": [
    "...yeah... this is a long string (encrypted value)..."
   ]
  },
  {
   "cell_type": "markdown",
   "metadata": {},
   "source": [
    "## RSA (Rivest–Shamir–Adleman) \n",
    "\n",
    "* RSA was proposed by MIT professors Ron Rivest, Adi Shamir and Leonard Adleman, who publicly described the algorithm in 1977.\n",
    "\n",
    "* RSA (Rivest–Shamir–Adleman) is a widely used asymmetric encryption algorithm that relies heavily on the properties of <b>prime numbers</b> for its security.\n",
    "\n",
    "* The security of RSA relies on the fact that while $n$ (product of two large prime numbers) is shared openly, it is computationally difficult to factor $n$ back into its prime factors without knowing them.\n",
    "\n",
    "* The private key also consists of two values: $n$ (the same modulus as in the public key) and $d$ (the private exponent).\n",
    "\n",
    "* The private exponent $d$ is derived from e and the totient of $n$ (computed as $(p-1)(q-1)$ where $p$ and $q$ are the prime factors of $n$), making it hard for someone without $d$ to decrypt messages, even if they know $e$ and $n$.\n",
    "\n"
   ]
  },
  {
   "cell_type": "markdown",
   "metadata": {},
   "source": [
    "## RSA Steps \n",
    " \n",
    "1. RSA begins by selecting two large, distinct prime numbers, typically denoted as $p$ and $q$.\n",
    "\n",
    "2. Euler’s Totient Function\n",
    "\n",
    "\t* $\\phi(n) = (p-1) * (q-1)$\n",
    "\n",
    "\t* Greek letter phi $\\phi$ (φ) is used to represent the <b>golden ratio</b>, a mathematical constant that is approximately equal to <b>1.618</b>\n",
    "\n",
    "3. Selecting the Public and Private Keys\n",
    "\n",
    "\t* A public exponent $e$ is chosen such that  1 < $e$ < $\\phi(n)$  and  $e$  is coprime with  $\\phi(n)$ . This ensures that  $e$  has an inverse modulo  $\\phi(n)$ , which is crucial for decryption.\n",
    "\t* The private key  $d$  is calculated as the modular multiplicative inverse of  e  mod  $\\phi(n)$ . In other words,  d  is the number that satisfies the equation \\( $e \\cdot d \\equiv 1 \\pmod{\\phi(n)}$ \\).\n",
    "\n",
    "4. Encryption and Decryption\n",
    "\n",
    "\t* The message (or plaintext) is encrypted using the formula: \\( $\\text{ciphertext} = \\text{message}^e \\mod n $\\).\n",
    "\t* Decryption is achieved by reversing this operation: \\( $\\text{message} = \\text{ciphertext}^d \\mod n $\\).\n",
    "\t* The use of the prime-generated values  $p$  and  $q$  ensures that only someone with knowledge of $\\phi(n)$  can calculate  $d$  and thus decrypt the message, as knowing  $\\phi(n)$  requires knowing the factorization of $n$ into $p$ and $q$.\n"
   ]
  },
  {
   "cell_type": "code",
   "execution_count": 139,
   "metadata": {},
   "outputs": [],
   "source": [
    "import random\n",
    "from math import gcd\n",
    "\n",
    "# Helper function to check if a number is prime\n",
    "def is_prime(n):\n",
    "    if n <= 1:\n",
    "        return False\n",
    "    for i in range(2, int(n ** 0.5) + 1):\n",
    "        if n % i == 0:\n",
    "            return False\n",
    "    return True\n",
    "\n",
    "# Function to generate a random prime number within a range\n",
    "def generate_prime(start=50, end=100):\n",
    "    while True:\n",
    "        p = random.randint(start, end)\n",
    "        if is_prime(p):\n",
    "            return p\n",
    "\n",
    "# Generate RSA keys\n",
    "def generate_rsa_keys():\n",
    "    # Step 1: Choose two distinct prime numbers, p and q\n",
    "    p = generate_prime()\n",
    "    q = generate_prime()\n",
    "    while q == p:  # Ensure q is different from p\n",
    "        q = generate_prime()\n",
    "\n",
    "    # Step 2: Compute n = p * q\n",
    "    n = p * q\n",
    "\n",
    "    # Step 3: Compute the totient function phi(n) = (p-1) * (q-1)\n",
    "    phi_n = (p - 1) * (q - 1)\n",
    "\n",
    "    # Step 4: Choose e such that 1 < e < phi(n) and gcd(e, phi(n)) = 1\n",
    "    e = 3\n",
    "    while gcd(e, phi_n) != 1:\n",
    "        e += 2  # Increment e by 2 to keep it odd\n",
    "\n",
    "    # Step 5: Calculate d, the modular multiplicative inverse of e mod phi(n)\n",
    "    d = pow(e, -1, phi_n)\n",
    "\n",
    "    # Public and private keys\n",
    "    public_key = (e, n)\n",
    "    private_key = (d, n)\n",
    "    return public_key, private_key\n",
    "\n",
    "# Encryption function\n",
    "def encrypt(message, public_key):\n",
    "    e, n = public_key\n",
    "    # Encrypt each character and return as list of integers\n",
    "    encrypted_message = [(ord(char) ** e) % n for char in message]\n",
    "    return encrypted_message\n",
    "\n",
    "# Decryption function\n",
    "def decrypt(encrypted_message, private_key):\n",
    "    d, n = private_key\n",
    "    # Decrypt each integer and convert back to character\n",
    "    decrypted_message = ''.join([chr((char ** d) % n) for char in encrypted_message])\n",
    "    return decrypted_message\n"
   ]
  },
  {
   "cell_type": "code",
   "execution_count": 152,
   "metadata": {},
   "outputs": [
    {
     "name": "stdout",
     "output_type": "stream",
     "text": [
      "Public Key: (7, 5063)\n",
      "Private Key: (703, 5063)\n",
      "Encrypted Message: [233, 4547, 4963, 4963, 3536]\n",
      "Decrypted Message: HELLO\n"
     ]
    }
   ],
   "source": [
    "public_key, private_key = generate_rsa_keys()\n",
    "print(\"Public Key:\", public_key)\n",
    "print(\"Private Key:\", private_key)\n",
    "\n",
    "# Encrypt and decrypt a message\n",
    "message = \"HELLO\"\n",
    "encrypted_msg = encrypt(message, public_key)\n",
    "print(\"Encrypted Message:\", encrypted_msg)\n",
    "\n",
    "decrypted_msg = decrypt(encrypted_msg, private_key)\n",
    "print(\"Decrypted Message:\", decrypted_msg)"
   ]
  },
  {
   "cell_type": "markdown",
   "metadata": {},
   "source": [
    "`pip install sympy`\n",
    "\n",
    "`python3 -m pip install -U sympy --user`"
   ]
  },
  {
   "cell_type": "code",
   "execution_count": 153,
   "metadata": {},
   "outputs": [],
   "source": [
    "import random\n",
    "from sympy import isprime, mod_inverse"
   ]
  },
  {
   "cell_type": "code",
   "execution_count": 154,
   "metadata": {},
   "outputs": [],
   "source": [
    "def generate_large_prime(bits=512):\n",
    "    \"\"\"Generate a large prime number with the specified bit length.\"\"\"\n",
    "    prime_candidate = random.getrandbits(bits)\n",
    "    while not isprime(prime_candidate):\n",
    "        prime_candidate = random.getrandbits(bits)\n",
    "    return prime_candidate\n",
    "\n",
    "def generate_rsa_keys(bits=512):\n",
    "    \"\"\"Generate RSA public and private keys.\"\"\"\n",
    "    # Step 1: Generate two large prime numbers\n",
    "    p = generate_large_prime(bits)\n",
    "    q = generate_large_prime(bits)\n",
    "    while p == q:  # Ensure p and q are different\n",
    "        q = generate_large_prime(bits)\n",
    "    \n",
    "    # Step 2: Calculate n and φ(n)\n",
    "    n = p * q\n",
    "    phi_n = (p - 1) * (q - 1)\n",
    "    \n",
    "    # Step 3: Choose a public exponent e\n",
    "    e = 65537  # Commonly used public exponent\n",
    "    if not (1 < e < phi_n and isprime(e) and phi_n % e != 0):\n",
    "        raise ValueError(\"Invalid exponent 'e'. Choose a different e.\")\n",
    "    \n",
    "    # Step 4: Compute private exponent d\n",
    "    d = mod_inverse(e, phi_n)\n",
    "    \n",
    "    # The public key is (n, e) and the private key is (n, d)\n",
    "    return (n, e), (n, d)"
   ]
  },
  {
   "cell_type": "code",
   "execution_count": 171,
   "metadata": {},
   "outputs": [
    {
     "name": "stdout",
     "output_type": "stream",
     "text": [
      "Public Key: (56440753624057014319679888689579665592601285738408321472473805842254121340200028419314885973445278200479521432639122963450219228341122533244136496396256892952521271212008053309199817536527243034568065102450369566575066408356657486740696683414035555848906940611298281479636926889518452365437581683056542677437, 65537)\n",
      "Private Key: (56440753624057014319679888689579665592601285738408321472473805842254121340200028419314885973445278200479521432639122963450219228341122533244136496396256892952521271212008053309199817536527243034568065102450369566575066408356657486740696683414035555848906940611298281479636926889518452365437581683056542677437, 34641947518618389627372682950674306856621247826837888997516804858395593800594261915665063830841147986851530427512835821059631482369068677231874980050039411465139154219586900506875582357928645254203391573660646822197690455864069811257955424382487697107241125142229323444101897531799370233664092464712614158973)\n"
     ]
    }
   ],
   "source": [
    "public_key, private_key = generate_rsa_keys(512)\n",
    "print(\"Public Key:\", public_key)\n",
    "print(\"Private Key:\", private_key)"
   ]
  },
  {
   "cell_type": "markdown",
   "metadata": {},
   "source": [
    "## Credit Cards \n",
    "\n",
    "* Credit card numbers follow a structured format called the ISO/IEC 7812 standard.\n",
    "\n",
    "* The card number is divided into specific sections to convey information about the card issuer, the individual account, and include a checksum to validate the number.\n",
    "\n",
    "1. The first 6 digits identify the institution that issued the card (e.g., a bank or financial institution). This section includes the <b>Major Industry Identifier (MII)</b>\n",
    "    * <b>3</b>: Travel and entertainment (e.g., American Express)\n",
    "    \n",
    "    * <b>4-5</b>: Banking and financial institutions (e.g., Visa, Mastercard)\n",
    "\n",
    "2. The following digits (up to 12-15, depending on the card issuer) represent the individual account number assigned by the issuer. This part of the card number is unique to each cardholder.\n",
    "\n",
    "3. The last digit is a check digit calculated using the Luhn algorithm, a simple checksum formula used to validate the card number. This ensures that common errors (like mistyping a digit) can be detected."
   ]
  },
  {
   "cell_type": "code",
   "execution_count": 172,
   "metadata": {},
   "outputs": [],
   "source": [
    "def luhn_algorithm(card_number):\n",
    "    # Reverse the card number to process from the right side\n",
    "    card_digits = [int(digit) for digit in str(card_number)][::-1]\n",
    "    total_sum = 0\n",
    "\n",
    "    for i, digit in enumerate(card_digits):\n",
    "        if i % 2 == 1:  # Double every second digit from the right\n",
    "            doubled = digit * 2\n",
    "            # If doubling results in a number greater than 9, subtract 9\n",
    "            if doubled > 9:\n",
    "                doubled -= 9\n",
    "            total_sum += doubled\n",
    "        else:\n",
    "            total_sum += digit\n",
    "\n",
    "    # If the total sum is divisible by 10, the card number is valid\n",
    "    return total_sum % 10 == 0"
   ]
  },
  {
   "cell_type": "code",
   "execution_count": 176,
   "metadata": {},
   "outputs": [
    {
     "name": "stdout",
     "output_type": "stream",
     "text": [
      "The card number 4532015112830366 is valid.\n"
     ]
    }
   ],
   "source": [
    "card_number = 4532015112830366  # Replace with a test card number\n",
    "\n",
    "if luhn_algorithm(card_number):\n",
    "    print(f\"The card number {card_number} is valid.\")\n",
    "else:\n",
    "    print(f\"The card number {card_number} is invalid.\")"
   ]
  },
  {
   "cell_type": "code",
   "execution_count": 177,
   "metadata": {},
   "outputs": [],
   "source": [
    "import hashlib\n",
    "import os\n",
    "\n",
    "def hash_credit_card(card_number):\n",
    "    # Generate a random salt\n",
    "    salt = os.urandom(16)\n",
    "    # Combine the salt with the card number and hash it\n",
    "    hash_object = hashlib.sha256(salt + card_number.encode())\n",
    "    return salt, hash_object.hexdigest()\n",
    "    "
   ]
  },
  {
   "cell_type": "code",
   "execution_count": 185,
   "metadata": {},
   "outputs": [
    {
     "name": "stdout",
     "output_type": "stream",
     "text": [
      "Salt: db74d107b4e4d739d7fe020400852ebc\n",
      "Hashed Card Number: 563d6196db0b6bc0e2f56b9303a823b90bcb34a39fd19a243188ff75e50fbd82\n"
     ]
    }
   ],
   "source": [
    "# Example usage:\n",
    "card_number = \"4532015112830366\"  # Replace with the actual card number\n",
    "salt, hashed_card = hash_credit_card(card_number)\n",
    "print(f\"Salt: {salt.hex()}\")\n",
    "print(f\"Hashed Card Number: {hashed_card}\")"
   ]
  },
  {
   "cell_type": "markdown",
   "metadata": {},
   "source": [
    "## Encryption with AES (For Reversible Storage)\n",
    "\n",
    "* Advanced Encryption Standard (AES) is a symmetric block cipher that the U.S. government selects to protect classified data. AES-256 encryption uses the 256-bit key length to encrypt as well as decrypt a block of messages.\n",
    "\n",
    "* When the card number needs to be decrypted later (e.g., during a transaction), AES encryption (Advanced Encryption Standard) is commonly used. AES is symmetric, meaning the <b>same key</b> is used for both encryption and decryption.\n",
    "\n",
    "* Here’s an example using Python’s cryptography library with AES encryption:"
   ]
  },
  {
   "cell_type": "code",
   "execution_count": 187,
   "metadata": {},
   "outputs": [],
   "source": [
    "from cryptography.hazmat.primitives.ciphers import Cipher, algorithms, modes\n",
    "from cryptography.hazmat.primitives.kdf.pbkdf2 import PBKDF2HMAC\n",
    "from cryptography.hazmat.backends import default_backend\n",
    "from cryptography.hazmat.primitives import hashes\n",
    "import os\n",
    "\n",
    "def encrypt_credit_card(card_number, password):\n",
    "    # Generate a random salt and IV (Initialization Vector)\n",
    "    salt = os.urandom(16)\n",
    "    iv = os.urandom(16)\n",
    "\n",
    "    # Derive a key from the password\n",
    "    kdf = PBKDF2HMAC(\n",
    "        algorithm=hashes.SHA256(),\n",
    "        length=32,\n",
    "        salt=salt,\n",
    "        iterations=100000,\n",
    "        backend=default_backend()\n",
    "    )\n",
    "    key = kdf.derive(password.encode())\n",
    "\n",
    "    # Encrypt the card number\n",
    "    cipher = Cipher(algorithms.AES(key), modes.CFB(iv), backend=default_backend())\n",
    "    encryptor = cipher.encryptor()\n",
    "    encrypted_card = encryptor.update(card_number.encode()) + encryptor.finalize()\n",
    "\n",
    "    return salt, iv, encrypted_card"
   ]
  },
  {
   "cell_type": "code",
   "execution_count": 189,
   "metadata": {},
   "outputs": [
    {
     "name": "stdout",
     "output_type": "stream",
     "text": [
      "Salt: 4f9318bf43d59dc29217c4074f808820\n",
      "Initialisation Vector (IV): 44371488b84b71d91f841666df67c7b9\n",
      "Encrypted Card Number: fc4442bd9f9bb9a4c11890c7b7200a8b\n"
     ]
    }
   ],
   "source": [
    "# Example usage\n",
    "card_number = \"4532015112830366\"  # Replace with the actual card number\n",
    "password = \"securepassword\"  # Use a secure password\n",
    "salt, iv, encrypted_card = encrypt_credit_card(card_number, password)\n",
    "print(f\"Salt: {salt.hex()}\")\n",
    "print(f\"Initialisation Vector (IV): {iv.hex()}\")\n",
    "print(f\"Encrypted Card Number: {encrypted_card.hex()}\")"
   ]
  },
  {
   "cell_type": "markdown",
   "metadata": {},
   "source": [
    "## Decryption "
   ]
  },
  {
   "cell_type": "code",
   "execution_count": 191,
   "metadata": {},
   "outputs": [
    {
     "name": "stdout",
     "output_type": "stream",
     "text": [
      "Decrypted Card Number: 4532015112830366\n"
     ]
    }
   ],
   "source": [
    "from cryptography.hazmat.primitives.ciphers import Cipher, algorithms, modes\n",
    "from cryptography.hazmat.primitives.kdf.pbkdf2 import PBKDF2HMAC\n",
    "from cryptography.hazmat.backends import default_backend\n",
    "from cryptography.hazmat.primitives import hashes\n",
    "import os\n",
    "\n",
    "def decrypt_credit_card(encrypted_card, password, salt, iv):\n",
    "    # Derive the same key from the password and salt\n",
    "    kdf = PBKDF2HMAC(\n",
    "        algorithm=hashes.SHA256(),\n",
    "        length=32,\n",
    "        salt=salt,\n",
    "        iterations=100000,\n",
    "        backend=default_backend()\n",
    "    )\n",
    "    key = kdf.derive(password.encode())\n",
    "\n",
    "    # Decrypt the encrypted credit card number\n",
    "    cipher = Cipher(algorithms.AES(key), modes.CFB(iv), backend=default_backend())\n",
    "    decryptor = cipher.decryptor()\n",
    "    decrypted_card = decryptor.update(encrypted_card) + decryptor.finalize()\n",
    "\n",
    "    return decrypted_card.decode()\n",
    "\n",
    "# Example usage with the encrypted card, salt, and IV\n",
    "password = \"securepassword\"  # Must be the same password used for encryption\n",
    "decrypted_card_number = decrypt_credit_card(encrypted_card, password, salt, iv)\n",
    "print(f\"Decrypted Card Number: {decrypted_card_number}\")"
   ]
  },
  {
   "cell_type": "markdown",
   "metadata": {},
   "source": [
    "## PBKDF2 (Password-Based Key Derivation Function 2):\n",
    "\n",
    "* An older but still widely used algorithm.\n",
    "\n",
    "* Uses a combination of a salt and key stretching (by iterating the hash many times) to make brute-force attacks more difficult.\n",
    "\n",
    "* Typically slower than SHA-256, which is good for password hashing."
   ]
  },
  {
   "cell_type": "code",
   "execution_count": 192,
   "metadata": {},
   "outputs": [],
   "source": [
    "from cryptography.hazmat.primitives.ciphers import Cipher, algorithms, modes\n",
    "from cryptography.hazmat.backends import default_backend\n",
    "from cryptography.hazmat.primitives import padding\n",
    "import os"
   ]
  },
  {
   "cell_type": "code",
   "execution_count": 193,
   "metadata": {},
   "outputs": [],
   "source": [
    "# Function to encrypt plaintext using AES\n",
    "def encrypt_aes(key, plaintext):\n",
    "    # Generate a random 16-byte IV (Initialization Vector)\n",
    "    iv = os.urandom(16)\n",
    "    \n",
    "    # Create the cipher using AES and CBC mode with the IV\n",
    "    cipher = Cipher(algorithms.AES(key), modes.CBC(iv), backend=default_backend())\n",
    "    \n",
    "    # Encryptor object\n",
    "    encryptor = cipher.encryptor()\n",
    "    \n",
    "    # Padding the plaintext to be a multiple of block size (16 bytes)\n",
    "    padder = padding.PKCS7(algorithms.AES.block_size).padder()\n",
    "    padded_data = padder.update(plaintext) + padder.finalize()\n",
    "    \n",
    "    # Encrypt the padded plaintext\n",
    "    ciphertext = encryptor.update(padded_data) + encryptor.finalize()\n",
    "    \n",
    "    # Return both the IV and ciphertext (IV is needed for decryption)\n",
    "    return iv, ciphertext\n"
   ]
  },
  {
   "cell_type": "code",
   "execution_count": 194,
   "metadata": {},
   "outputs": [],
   "source": [
    "# Function to decrypt ciphertext using AES\n",
    "def decrypt_aes(key, iv, ciphertext):\n",
    "    # Create the cipher using AES and CBC mode with the provided IV\n",
    "    cipher = Cipher(algorithms.AES(key), modes.CBC(iv), backend=default_backend())\n",
    "    \n",
    "    # Decryptor object\n",
    "    decryptor = cipher.decryptor()\n",
    "    \n",
    "    # Decrypt the ciphertext\n",
    "    padded_plaintext = decryptor.update(ciphertext) + decryptor.finalize()\n",
    "    \n",
    "    # Unpad the plaintext\n",
    "    unpadder = padding.PKCS7(algorithms.AES.block_size).unpadder()\n",
    "    plaintext = unpadder.update(padded_plaintext) + unpadder.finalize()\n",
    "    \n",
    "    return plaintext"
   ]
  },
  {
   "cell_type": "code",
   "execution_count": 195,
   "metadata": {},
   "outputs": [
    {
     "name": "stdout",
     "output_type": "stream",
     "text": [
      "Original plaintext: b'Hello, this is a secret message!'\n",
      "Encrypted ciphertext: 9a72cd892f8eb5eb7379de9fc8b84f5440553ef92787ee1e665ea0b2bb4de3caf7527db5c07abe42fee9b128657bae39\n",
      "Initialization Vector (IV): d76e1b346c5a716f2678bf8625c5a7af\n",
      "Decrypted plaintext: b'Hello, this is a secret message!'\n"
     ]
    }
   ],
   "source": [
    "# Demo: Encrypt and decrypt a message using AES-256\n",
    "def demo_aes():\n",
    "    # Key must be either 16, 24, or 32 bytes long (AES-128, AES-192, AES-256 respectively)\n",
    "    key = os.urandom(32)  # AES-256 key (32 bytes)\n",
    "    \n",
    "    # Example plaintext message\n",
    "    plaintext = b\"Hello, this is a secret message!\"\n",
    "    print(f\"Original plaintext: {plaintext}\")\n",
    "    \n",
    "    # Encrypt the message\n",
    "    iv, ciphertext = encrypt_aes(key, plaintext)\n",
    "    print(f\"Encrypted ciphertext: {ciphertext.hex()}\")\n",
    "    print(f\"Initialization Vector (IV): {iv.hex()}\")\n",
    "    \n",
    "    # Decrypt the message\n",
    "    decrypted_plaintext = decrypt_aes(key, iv, ciphertext)\n",
    "    print(f\"Decrypted plaintext: {decrypted_plaintext}\")\n",
    "\n",
    "# Run the AES encryption/decryption demo\n",
    "demo_aes()"
   ]
  },
  {
   "cell_type": "markdown",
   "metadata": {},
   "source": [
    "1.\tInitialization Vector (IV): Each encryption operation generates a new 16-byte IV, which is prepended to the ciphertext.\n",
    "\n",
    "2.\tPadding: The plaintext is padded to be compatible with AES’s block size.\n",
    "\n",
    "3.\tEncryption and Decryption: AES-CBC mode encrypts with the key and IV, and decrypts using the same parameters."
   ]
  },
  {
   "cell_type": "code",
   "execution_count": 196,
   "metadata": {},
   "outputs": [],
   "source": [
    "from cryptography.hazmat.primitives.ciphers import Cipher, algorithms, modes\n",
    "from cryptography.hazmat.backends import default_backend\n",
    "from cryptography.hazmat.primitives import padding\n",
    "import os\n",
    "\n",
    "class AESCipher:\n",
    "    def __init__(self, key: bytes):\n",
    "        self.key = key\n",
    "        self.backend = default_backend()\n",
    "\n",
    "    def encrypt(self, plaintext: str) -> bytes:\n",
    "        # Generate a random 16-byte IV for AES-CBC mode\n",
    "        iv = os.urandom(16)\n",
    "        cipher = Cipher(algorithms.AES(self.key), modes.CBC(iv), backend=self.backend)\n",
    "        encryptor = cipher.encryptor()\n",
    "\n",
    "        # Pad plaintext to be a multiple of AES block size (128 bits)\n",
    "        padder = padding.PKCS7(algorithms.AES.block_size).padder()\n",
    "        padded_data = padder.update(plaintext.encode()) + padder.finalize()\n",
    "\n",
    "        # Encrypt the padded plaintext\n",
    "        ciphertext = encryptor.update(padded_data) + encryptor.finalize()\n",
    "\n",
    "        # Return the IV and ciphertext (IV is needed for decryption)\n",
    "        return iv + ciphertext\n",
    "\n",
    "    def decrypt(self, iv_and_ciphertext: bytes) -> str:\n",
    "        # Extract the IV from the first 16 bytes\n",
    "        iv = iv_and_ciphertext[:16]\n",
    "        ciphertext = iv_and_ciphertext[16:]\n",
    "\n",
    "        cipher = Cipher(algorithms.AES(self.key), modes.CBC(iv), backend=self.backend)\n",
    "        decryptor = cipher.decryptor()\n",
    "\n",
    "        # Decrypt the ciphertext\n",
    "        padded_plaintext = decryptor.update(ciphertext) + decryptor.finalize()\n",
    "\n",
    "        # Remove padding from plaintext\n",
    "        unpadder = padding.PKCS7(algorithms.AES.block_size).unpadder()\n",
    "        plaintext = unpadder.update(padded_plaintext) + unpadder.finalize()\n",
    "\n",
    "        return plaintext.decode()\n"
   ]
  },
  {
   "cell_type": "code",
   "execution_count": 197,
   "metadata": {},
   "outputs": [
    {
     "name": "stdout",
     "output_type": "stream",
     "text": [
      "Encrypted: b'\\xa8\\xee\\xe7\\x95Z:\\x95\\xd2\\x02\\x8b\\xbe?\\x92K\\xe8\\xb4\\xb2\\x9e9\\xe9\\xeaa\\x88Q+\\xf8\\xbb\\xc3\\xc4`\\x06\\xda,\\x92\\xff\\xbc\\x8c2\\xf6\\xca\\x8e\\xc1\\xc4\\xe9F\\x11\\x9b7\\xef\\x1f$j\\xf6J\\xc1\\xe8\\x90S?\\x8dK\\x88\\x12\\x07'\n",
      "Decrypted: Hello, this is a secret message!\n"
     ]
    }
   ],
   "source": [
    "key = os.urandom(32)  # AES-256 key (32 bytes)\n",
    "aes_cipher = AESCipher(key)\n",
    "plaintext = \"Hello, this is a secret message!\"\n",
    "\n",
    "# Encrypt\n",
    "encrypted_data = aes_cipher.encrypt(plaintext)\n",
    "print(\"Encrypted:\", encrypted_data)\n",
    "\n",
    "# Decrypt\n",
    "decrypted_data = aes_cipher.decrypt(encrypted_data)\n",
    "print(\"Decrypted:\", decrypted_data)"
   ]
  },
  {
   "cell_type": "markdown",
   "metadata": {},
   "source": [
    "## Summary: \n",
    "\n",
    "* Hashing is one-way \n",
    "\n",
    "* Encryption and decryption is two-way \n",
    "\n",
    "* SHA-256 (Secure Hashing Algorithm) - 256 bits standard for blockchain -> 2048 bits and 4096 bits for higher security.\n",
    "\n",
    "* RSA (Rivest–Shamir–Adleman) - public key and private key (based on primes)\n",
    "\n",
    "* AES (Advanced Encryption Standard) is a symmetric block cipher - Same key for public and private."
   ]
  },
  {
   "cell_type": "markdown",
   "metadata": {},
   "source": [
    "## Exercise \n",
    "\n",
    "Write functions to encrypt and decrypt a string (`str`) message using the Caeser Cipher.\n",
    " "
   ]
  },
  {
   "cell_type": "code",
   "execution_count": null,
   "metadata": {},
   "outputs": [],
   "source": [
    "# Write your solution here."
   ]
  },
  {
   "cell_type": "markdown",
   "metadata": {},
   "source": [
    "## Exercise: \n",
    "\n",
    "Implement the SHA-256 algorithm for a string, e.g. a password.\n",
    "\n",
    "How would you check whether the password entered is correct?\n",
    "\n",
    "Extension: add the process of 'salting' to this algorithm. "
   ]
  },
  {
   "cell_type": "code",
   "execution_count": null,
   "metadata": {},
   "outputs": [],
   "source": [
    "# Write your solution here."
   ]
  },
  {
   "cell_type": "markdown",
   "metadata": {},
   "source": [
    "## Exercise \n",
    "\n",
    "Write a function to work out whether a number passed in is prime. "
   ]
  },
  {
   "cell_type": "code",
   "execution_count": null,
   "metadata": {},
   "outputs": [],
   "source": [
    "# Write your solution here."
   ]
  },
  {
   "cell_type": "markdown",
   "metadata": {},
   "source": [
    "## Exercise \n",
    "\n",
    "Write a function which will will determine the prime factors of an integer passed in. \n"
   ]
  },
  {
   "cell_type": "code",
   "execution_count": null,
   "metadata": {},
   "outputs": [],
   "source": [
    "# Write your solution here."
   ]
  },
  {
   "cell_type": "markdown",
   "metadata": {},
   "source": [
    "## Exercise:\n",
    "\n",
    "Implement AES"
   ]
  },
  {
   "cell_type": "code",
   "execution_count": null,
   "metadata": {},
   "outputs": [],
   "source": [
    "# Write your solution here. "
   ]
  },
  {
   "cell_type": "markdown",
   "metadata": {},
   "source": [
    "## Exercise:\n",
    "\n",
    "Implement RSA algorithm that has both a private and public key. Feel free to make use of the `hashlib` and/or the `cryptography` library. "
   ]
  },
  {
   "cell_type": "code",
   "execution_count": null,
   "metadata": {},
   "outputs": [],
   "source": [
    "# Write your solution here. "
   ]
  },
  {
   "cell_type": "markdown",
   "metadata": {},
   "source": [
    "## Exercise:\n",
    "\n",
    "Implement a simple blockchain as visualised below. Use the SHA-256 algorithm to hash the data for each `Block` object - which is likely to include attributes such as `data`, `timestamp`, and a SHA-256 hash of the `previous` block. Then link the blocks together by including the hash of the previous block in the new block’s data.\n",
    "\n",
    "Also write functions to add new blocks and to verify the blockchain by checking the chain of hashes."
   ]
  },
  {
   "cell_type": "code",
   "execution_count": null,
   "metadata": {},
   "outputs": [],
   "source": [
    "# Write your solution here."
   ]
  },
  {
   "cell_type": "markdown",
   "metadata": {},
   "source": [
    "## Scenario Exercise - WhatsApp IM!\n",
    "\n",
    "Simulate the exchange of messages modelling encryption and decryption protocols. Ensure that the messages sent between sender and receipent are encrypted so they cannot be read by anyone else. \n",
    "\n",
    "![whatsapp](https://www.wati.io/wp-content/uploads/2023/09/English-Understanding-WhatsApp-Data-Security-Understand-End-to-End-Encryption-and-Backups-–-2-1024x512.png)"
   ]
  },
  {
   "cell_type": "code",
   "execution_count": null,
   "metadata": {},
   "outputs": [],
   "source": [
    "# Write your solution here. "
   ]
  }
 ],
 "metadata": {
  "celltoolbar": "Slideshow",
  "kernelspec": {
   "display_name": "Python 3",
   "language": "python",
   "name": "python3"
  },
  "language_info": {
   "codemirror_mode": {
    "name": "ipython",
    "version": 3
   },
   "file_extension": ".py",
   "mimetype": "text/x-python",
   "name": "python",
   "nbconvert_exporter": "python",
   "pygments_lexer": "ipython3",
   "version": "3.9.6"
  }
 },
 "nbformat": 4,
 "nbformat_minor": 4
}
