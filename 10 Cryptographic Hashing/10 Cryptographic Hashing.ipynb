{
 "cells": [
  {
   "cell_type": "markdown",
   "metadata": {},
   "source": [
    "![pythonLogo.png](attachment:pythonLogo.png)\n",
    "\n",
    "# Cryptography and Hashing #\n"
   ]
  },
  {
   "cell_type": "markdown",
   "metadata": {},
   "source": [
    "# Recap on Hashing\n",
    "\n",
    "Hash Maps allow users to search a data structure via characters instead of integer index positions. The characters (string) are converted to integers by a process of 'hashing'. This hashing function will look up the ASCII value of each character. Each integer value is then multiplied by its position in the string to achieve a unique number. These are added together to create a large number. To prevent having to allocate a large number of elements, the modulo sign (%) calculates a smaller number to reduce the size of elements.\n",
    "\n",
    "\n",
    "\n",
    "![hash](https://d18l82el6cdm1i.cloudfront.net/uploads/34EvJ7agjl-hash_table.gif)"
   ]
  },
  {
   "cell_type": "markdown",
   "metadata": {},
   "source": [
    "## Collision resolution\n",
    "With a reduced number of spaces available, hashing methods will return the same remainder for some modulus operations. This means that two (or more) items will be competing for the same element in the data structure.\n",
    "\n",
    "There are regarded to be two approaches to resolving collisions: \n",
    "- Open Addressing \n",
    "- Separate Chaining"
   ]
  },
  {
   "cell_type": "markdown",
   "metadata": {},
   "source": [
    "## Cryptography and Hashing"
   ]
  },
  {
   "cell_type": "markdown",
   "metadata": {},
   "source": [
    "## Secure Hashing Algorithm (SHA)\n",
    "\n",
    "* SHA-1\n",
    "* SHA-256 "
   ]
  },
  {
   "cell_type": "code",
   "execution_count": 4,
   "metadata": {},
   "outputs": [],
   "source": [
    "import hashlib\n",
    "import json"
   ]
  },
  {
   "cell_type": "code",
   "execution_count": 6,
   "metadata": {},
   "outputs": [
    {
     "name": "stdout",
     "output_type": "stream",
     "text": [
      "Original message: Hello, World!\n",
      "Hashed value: 0a0a9f2a6772942557ab5355d76af442f8f65e01\n"
     ]
    }
   ],
   "source": [
    "message = \"Hello, World!\"\n",
    "hash_object = hashlib.sha1(message.encode())\n",
    "hash_hex = hash_object.hexdigest()\n",
    "\n",
    "print(\"Original message:\", message)\n",
    "print(\"Hashed value:\", hash_hex)"
   ]
  },
  {
   "cell_type": "code",
   "execution_count": 3,
   "metadata": {},
   "outputs": [
    {
     "name": "stdout",
     "output_type": "stream",
     "text": [
      "Original message: Hello, World!\n",
      "Hashed value: dffd6021bb2bd5b0af676290809ec3a53191dd81c7f70a4b28688a362182986f\n"
     ]
    }
   ],
   "source": [
    "message = \"Hello, World!\"\n",
    "hash_object = hashlib.sha256(message.encode())\n",
    "hash_hex = hash_object.hexdigest()\n",
    "\n",
    "print(\"Original message:\", message)\n",
    "print(\"Hashed value:\", hash_hex)"
   ]
  },
  {
   "cell_type": "code",
   "execution_count": 2,
   "metadata": {},
   "outputs": [],
   "source": []
  },
  {
   "cell_type": "code",
   "execution_count": 7,
   "metadata": {},
   "outputs": [
    {
     "name": "stdout",
     "output_type": "stream",
     "text": [
      "Stored hash: 6e659deaa85842cdabb5c6305fcc40033ba43772ec00d45c2a3c921741a5e377\n"
     ]
    }
   ],
   "source": [
    "password = \"mypassword123\"\n",
    "hashed_password = hashlib.sha256(password.encode()).hexdigest()\n",
    "print(\"Stored hash:\", hashed_password)"
   ]
  },
  {
   "cell_type": "markdown",
   "metadata": {},
   "source": [
    "## Blockchain and Cryptocurrency uses SHA-256"
   ]
  },
  {
   "cell_type": "code",
   "execution_count": null,
   "metadata": {},
   "outputs": [],
   "source": [
    "(\"Alice\", \"Bob\", 50)\n",
    "\n",
    "transaction = {\n",
    "    'sender': sender,\n",
    "    'receiver': receiver,\n",
    "    'amount': amount\n",
    "}\n",
    "transaction_string = json.dumps(transaction, sort_keys=True).encode()\n",
    "transaction_hash = hashlib.sha256(transaction_string).hexdigest()\n"
   ]
  },
  {
   "cell_type": "markdown",
   "metadata": {},
   "source": [
    "## Hashing with a key (HMAC)\n",
    "\n",
    "HMAC (Hash-based Message Authentication Code):"
   ]
  },
  {
   "cell_type": "code",
   "execution_count": 8,
   "metadata": {},
   "outputs": [
    {
     "name": "stdout",
     "output_type": "stream",
     "text": [
      "HMAC: d0e72e3ebca850380c42bc96009638375860cb5c330048588d3298f02e740065\n"
     ]
    }
   ],
   "source": [
    "import hmac\n",
    "\n",
    "key = b'secret_key'\n",
    "message = b'Hello, World!'\n",
    "\n",
    "hmac_hash = hmac.new(key, message, hashlib.sha256).hexdigest()\n",
    "print(\"HMAC:\", hmac_hash)"
   ]
  },
  {
   "cell_type": "markdown",
   "metadata": {},
   "source": [
    "## Encryption\n",
    "\n",
    "WhatsApp uses end-to-end encryption, which is different from HMAC. Specifically, it relies on the Signal Protocol, which employs a combination of:\n",
    "\n",
    "* Symmetric Encryption (AES): To encrypt the actual messages using a secret key that only the sender and recipient know.\n",
    "* Asymmetric Encryption (RSA, Curve25519): To securely exchange the secret keys between the sender and recipient.\n",
    "* Message Authentication Codes (MAC): Used for verifying the integrity and authenticity of messages, but this is separate from encryption."
   ]
  },
  {
   "cell_type": "markdown",
   "metadata": {},
   "source": [
    "WhatsApp uses both encryption (for confidentiality) and message authentication (for integrity and authenticity):\n",
    "\n",
    "* The actual content of your messages is encrypted using symmetric encryption (AES-256).\n",
    "* After encryption, an HMAC or similar message authentication method is used to ensure that the encrypted message hasn’t been altered during transmission."
   ]
  },
  {
   "cell_type": "markdown",
   "metadata": {},
   "source": [
    "## Public key vs private key"
   ]
  },
  {
   "cell_type": "markdown",
   "metadata": {},
   "source": [
    "` pip install cryptography `\n",
    "\n"
   ]
  },
  {
   "cell_type": "code",
   "execution_count": null,
   "metadata": {},
   "outputs": [],
   "source": []
  },
  {
   "cell_type": "markdown",
   "metadata": {},
   "source": [
    "# Handling Collisions - Open Addressing\n",
    "\n",
    "With a reduced number of spaces available, hashing methods will return the same remainder for some modulus operations. This means that two (or more) items will be competing for the same element in the data structure.\n",
    "\n",
    "There are regarded to be two approaches to resolving collisions: \n",
    "- Open Addressing \n",
    "- Separate Chaining\n",
    "\n",
    "The Open Addressing technique works by finding an available space in the data structrue and placing the colliding element in this available space."
   ]
  },
  {
   "cell_type": "code",
   "execution_count": null,
   "metadata": {},
   "outputs": [],
   "source": [
    "class HashMap:\n",
    "  def __init__(self, array_size):\n",
    "    self.array_size = array_size\n",
    "    self.array = [None for item in range(array_size)]\n",
    "\n",
    "  def hash(self, key, count_collisions=0):\n",
    "    key_bytes = key.encode()\n",
    "    hash_code = sum(key_bytes)\n",
    "    return hash_code + count_collisions\n",
    "\n",
    "  def compressor(self, hash_code):\n",
    "    return hash_code % self.array_size\n",
    "\n",
    "  def assign(self, key, value):\n",
    "    array_index = self.compressor(self.hash(key))\n",
    "    current_array_value = self.array[array_index]\n",
    "\n",
    "    if current_array_value is None:\n",
    "      self.array[array_index] = [key, value]\n",
    "      return\n",
    "\n",
    "    if current_array_value[0] == key:\n",
    "      self.array[array_index] = [key, value]\n",
    "      return\n",
    "\n",
    "    # Collision!\n",
    "\n",
    "    number_collisions = 1\n",
    "\n",
    "    while(current_array_value[0] != key):\n",
    "      new_hash_code = self.hash(key, number_collisions)\n",
    "      new_array_index = self.compressor(new_hash_code)\n",
    "      current_array_value = self.array[new_array_index]\n",
    "\n",
    "      if current_array_value is None:\n",
    "        self.array[new_array_index] = [key, value]\n",
    "        return\n",
    "\n",
    "      if current_array_value[0] == key:\n",
    "        self.array[new_array_index] = [key, value]\n",
    "        return\n",
    "\n",
    "      number_collisions += 1\n",
    "\n",
    "    return\n",
    "\n",
    "  def retrieve(self, key):\n",
    "    array_index = self.compressor(self.hash(key))\n",
    "    possible_return_value = self.array[array_index]\n",
    "\n",
    "    if possible_return_value is None:\n",
    "      return None\n",
    "\n",
    "    if possible_return_value[0] == key:\n",
    "      return possible_return_value[1]\n",
    "\n",
    "    retrieval_collisions = 1\n",
    "\n",
    "    while (possible_return_value != key):\n",
    "      new_hash_code = self.hash(key, retrieval_collisions)\n",
    "      retrieving_array_index = self.compressor(new_hash_code)\n",
    "      possible_return_value = self.array[retrieving_array_index]\n",
    "\n",
    "      if possible_return_value is None:\n",
    "        return None\n",
    "\n",
    "      if possible_return_value[0] == key:\n",
    "        return possible_return_value[1]\n",
    "\n",
    "      number_collisions += 1\n",
    "\n",
    "    return\n",
    "\n",
    "hash_map = HashMap(15)\n",
    "hash_map.assign('gabbro', 'igneous')\n",
    "hash_map.assign('sandstone', 'sedimentary')\n",
    "hash_map.assign('gneiss', 'metamorphic')\n",
    "print(hash_map.retrieve('gabbro'))\n",
    "print(hash_map.retrieve('sandstone'))\n",
    "print(hash_map.retrieve('gneiss'))"
   ]
  },
  {
   "cell_type": "markdown",
   "metadata": {},
   "source": [
    "## Application of Cryptography"
   ]
  },
  {
   "cell_type": "code",
   "execution_count": 1,
   "metadata": {},
   "outputs": [
    {
     "name": "stdout",
     "output_type": "stream",
     "text": [
      "Original: Hello, World!\n",
      "Encrypted: Khoor, Zruog!\n",
      "Decrypted: Hello, World!\n"
     ]
    }
   ],
   "source": [
    "def simple_substitution_encrypt(plaintext, key):\n",
    "    ciphertext = \"\"\n",
    "    for char in plaintext:\n",
    "        if char.isalpha():\n",
    "            shift = ord(key.upper()) - ord('A')\n",
    "            if char.isupper():\n",
    "                ciphertext += chr((ord(char) - ord('A') + shift) % 26 + ord('A'))\n",
    "            else:\n",
    "                ciphertext += chr((ord(char) - ord('a') + shift) % 26 + ord('a'))\n",
    "        else:\n",
    "            ciphertext += char\n",
    "    return ciphertext\n",
    "\n",
    "def simple_substitution_decrypt(ciphertext, key):\n",
    "    plaintext = \"\"\n",
    "    for char in ciphertext:\n",
    "        if char.isalpha():\n",
    "            shift = ord(key.upper()) - ord('A')\n",
    "            if char.isupper():\n",
    "                plaintext += chr((ord(char) - ord('A') - shift) % 26 + ord('A'))\n",
    "            else:\n",
    "                plaintext += chr((ord(char) - ord('a') - shift) % 26 + ord('a'))\n",
    "        else:\n",
    "            plaintext += char\n",
    "    return plaintext\n",
    "\n",
    "# Usage\n",
    "message = \"Hello, World!\"\n",
    "key = \"D\"\n",
    "encrypted = simple_substitution_encrypt(message, key)\n",
    "decrypted = simple_substitution_decrypt(encrypted, key)\n",
    "\n",
    "print(f\"Original: {message}\")\n",
    "print(f\"Encrypted: {encrypted}\")\n",
    "print(f\"Decrypted: {decrypted}\")"
   ]
  },
  {
   "cell_type": "code",
   "execution_count": 2,
   "metadata": {},
   "outputs": [
    {
     "name": "stdout",
     "output_type": "stream",
     "text": [
      "Original: b'Hello, World!'\n",
      "Encrypted: b'\\x1b />*xs\\x12, )0r'\n",
      "Decrypted: b'Hello, World!'\n"
     ]
    }
   ],
   "source": [
    "def xor_cipher(data, key):\n",
    "    return bytes([b ^ ord(key[i % len(key)]) for i, b in enumerate(data)])\n",
    "\n",
    "# Usage\n",
    "message = b\"Hello, World!\"\n",
    "key = \"SECRET\"\n",
    "encrypted = xor_cipher(message, key)\n",
    "decrypted = xor_cipher(encrypted, key)\n",
    "\n",
    "print(f\"Original: {message}\")\n",
    "print(f\"Encrypted: {encrypted}\")\n",
    "print(f\"Decrypted: {decrypted}\")"
   ]
  },
  {
   "cell_type": "markdown",
   "metadata": {},
   "source": [
    "## Python's Cryptography library \n",
    "\n",
    "You may need to install Python's cryptography library via the installer if you haven't already... \n",
    "Copy and paste one of the following into a VSC terminal or your OS terminal/command line\n",
    "\n",
    "` python3 -m pip install cryptography `\n",
    "\n",
    "` pip install cryptography `\n"
   ]
  },
  {
   "cell_type": "code",
   "execution_count": 6,
   "metadata": {},
   "outputs": [
    {
     "name": "stdout",
     "output_type": "stream",
     "text": [
      "Original: b'Hello, World!'\n",
      "Encrypted: b'gAAAAABmwbADb7KI98b7A3W5q_d_YTv_Gm9veKn2HYYu7PZfEamhiy00SZ1ci4P8hEU3zUDHOVH3CRvOVzPWtBcWY_xb-opwEw=='\n",
      "Decrypted: b'Hello, World!'\n"
     ]
    }
   ],
   "source": [
    "from cryptography.fernet import Fernet\n",
    "\n",
    "# Generate a random key\n",
    "key = Fernet.generate_key()\n",
    "f = Fernet(key)\n",
    "\n",
    "# Encrypt a message\n",
    "message = b\"Hello, World!\"\n",
    "encrypted = f.encrypt(message)\n",
    "\n",
    "# Decrypt the message\n",
    "decrypted = f.decrypt(encrypted)\n",
    "\n",
    "print(f\"Original: {message}\")\n",
    "print(f\"Encrypted: {encrypted}\")\n",
    "print(f\"Decrypted: {decrypted}\")"
   ]
  },
  {
   "cell_type": "markdown",
   "metadata": {},
   "source": [
    "# Python's hash library and SHA256\n",
    "\n",
    "Secure Hash Algorithm 256 bits (32 bytes) is a cryptographic hash function that produces a fixed-size 256-bit (32-byte) hash value from an input of any size. It is part of the SHA-2 family, which was designed by the National Security Agency (NSA) and published by the National Institute of Standards and Technology (NIST) in 2001."
   ]
  },
  {
   "cell_type": "code",
   "execution_count": 4,
   "metadata": {},
   "outputs": [
    {
     "name": "stdout",
     "output_type": "stream",
     "text": [
      "Message: b'Hello, World!'\n",
      "SHA-256 Hash: dffd6021bb2bd5b0af676290809ec3a53191dd81c7f70a4b28688a362182986f\n"
     ]
    }
   ],
   "source": [
    "import hashlib\n",
    "\n",
    "# Create a SHA-256 hash object\n",
    "sha256 = hashlib.sha256()\n",
    "\n",
    "# Update the hash object with the message\n",
    "message = b\"Hello, World!\"\n",
    "sha256.update(message)\n",
    "\n",
    "# Get the hexadecimal representation of the hash\n",
    "hash_value = sha256.hexdigest()\n",
    "\n",
    "print(f\"Message: {message}\")\n",
    "print(f\"SHA-256 Hash: {hash_value}\")"
   ]
  },
  {
   "cell_type": "markdown",
   "metadata": {},
   "source": [
    "# Example of the Blockchain"
   ]
  },
  {
   "cell_type": "code",
   "execution_count": 5,
   "metadata": {},
   "outputs": [
    {
     "name": "stdout",
     "output_type": "stream",
     "text": [
      "Mining block 1...\n",
      "Block mined: 00001e367eaa42dab3cc5f0edd13a2e334caa016fa4fd2a42d2639cd7782b740\n",
      "Mining block 2...\n",
      "Block mined: 00007350a9ab3739ee5cb00f3345a0fe123dfe5fc57933509292364c1f4b1f6f\n",
      "Is blockchain valid? True\n",
      "Is blockchain valid after tampering? False\n"
     ]
    }
   ],
   "source": [
    "import hashlib\n",
    "import time\n",
    "\n",
    "class Block:\n",
    "    def __init__(self, index, previous_hash, timestamp, data, nonce=0):\n",
    "        self.index = index\n",
    "        self.previous_hash = previous_hash\n",
    "        self.timestamp = timestamp\n",
    "        self.data = data\n",
    "        self.nonce = nonce\n",
    "        self.hash = self.calculate_hash()\n",
    "\n",
    "    def calculate_hash(self):\n",
    "        block_string = f\"{self.index}{self.previous_hash}{self.timestamp}{self.data}{self.nonce}\"\n",
    "        return hashlib.sha256(block_string.encode()).hexdigest()\n",
    "\n",
    "class Blockchain:\n",
    "    def __init__(self):\n",
    "        self.chain = [self.create_genesis_block()]\n",
    "        self.difficulty = 4\n",
    "\n",
    "    def create_genesis_block(self):\n",
    "        return Block(0, \"0\", int(time.time()), \"Genesis Block\")\n",
    "\n",
    "    def get_latest_block(self):\n",
    "        return self.chain[-1]\n",
    "\n",
    "    def add_block(self, new_block):\n",
    "        new_block.previous_hash = self.get_latest_block().hash\n",
    "        new_block.hash = new_block.calculate_hash()\n",
    "        self.mine_block(new_block)\n",
    "        self.chain.append(new_block)\n",
    "\n",
    "    def mine_block(self, block):\n",
    "        target = \"0\" * self.difficulty\n",
    "        while block.hash[:self.difficulty] != target:\n",
    "            block.nonce += 1\n",
    "            block.hash = block.calculate_hash()\n",
    "        print(f\"Block mined: {block.hash}\")\n",
    "\n",
    "    def is_chain_valid(self):\n",
    "        for i in range(1, len(self.chain)):\n",
    "            current_block = self.chain[i]\n",
    "            previous_block = self.chain[i-1]\n",
    "\n",
    "            if current_block.hash != current_block.calculate_hash():\n",
    "                return False\n",
    "\n",
    "            if current_block.previous_hash != previous_block.hash:\n",
    "                return False\n",
    "\n",
    "        return True\n",
    "\n",
    "# Usage example\n",
    "blockchain = Blockchain()\n",
    "\n",
    "print(\"Mining block 1...\")\n",
    "blockchain.add_block(Block(1, \"\", int(time.time()), {\"amount\": 4}))\n",
    "\n",
    "print(\"Mining block 2...\")\n",
    "blockchain.add_block(Block(2, \"\", int(time.time()), {\"amount\": 10}))\n",
    "\n",
    "print(f\"Is blockchain valid? {blockchain.is_chain_valid()}\")\n",
    "\n",
    "# Tamper with the blockchain\n",
    "blockchain.chain[1].data = {\"amount\": 100}\n",
    "print(f\"Is blockchain valid after tampering? {blockchain.is_chain_valid()}\")"
   ]
  },
  {
   "cell_type": "markdown",
   "metadata": {
    "slideshow": {
     "slide_type": "slide"
    }
   },
   "source": [
    "## Formative Exercises ##\n",
    "\n",
    "Insert a 'code' cell below. In this do the following:\n",
    "\n",
    "* Exercise 1: \n",
    "* Exercise 2: \n",
    "* Exercise 3: How would you implement end to end encryption for sending messages between devices? \n",
    "* Exercise 4: Create a simple Blockchain example that enables two terminals to encrypt and decrypt transactions \n",
    "* Exercise 5:\n"
   ]
  },
  {
   "cell_type": "markdown",
   "metadata": {},
   "source": [
    "## Exercise 1: "
   ]
  },
  {
   "cell_type": "code",
   "execution_count": null,
   "metadata": {},
   "outputs": [],
   "source": [
    "# Write your solution here."
   ]
  },
  {
   "cell_type": "markdown",
   "metadata": {},
   "source": [
    "## Exercise 2: "
   ]
  },
  {
   "cell_type": "code",
   "execution_count": null,
   "metadata": {},
   "outputs": [],
   "source": [
    "# Write your solution here. "
   ]
  },
  {
   "cell_type": "markdown",
   "metadata": {},
   "source": [
    "## Exercise 3: "
   ]
  },
  {
   "cell_type": "code",
   "execution_count": null,
   "metadata": {},
   "outputs": [],
   "source": [
    "# Write your solution here. "
   ]
  },
  {
   "cell_type": "markdown",
   "metadata": {},
   "source": [
    "## Exercise 4:"
   ]
  },
  {
   "cell_type": "code",
   "execution_count": null,
   "metadata": {},
   "outputs": [],
   "source": [
    "# Write your solution here."
   ]
  },
  {
   "cell_type": "markdown",
   "metadata": {},
   "source": [
    "## Exercise 5:"
   ]
  },
  {
   "cell_type": "code",
   "execution_count": null,
   "metadata": {},
   "outputs": [],
   "source": [
    "# Write your solution here. "
   ]
  }
 ],
 "metadata": {
  "celltoolbar": "Slideshow",
  "kernelspec": {
   "display_name": "Python 3 (ipykernel)",
   "language": "python",
   "name": "python3"
  },
  "language_info": {
   "codemirror_mode": {
    "name": "ipython",
    "version": 3
   },
   "file_extension": ".py",
   "mimetype": "text/x-python",
   "name": "python",
   "nbconvert_exporter": "python",
   "pygments_lexer": "ipython3",
   "version": "3.9.6"
  },
  "vscode": {
   "interpreter": {
    "hash": "c24ecc2928a1df641fb89905a028e959d05eac4f79c1af53f0bb766b01409011"
   }
  }
 },
 "nbformat": 4,
 "nbformat_minor": 4
}
