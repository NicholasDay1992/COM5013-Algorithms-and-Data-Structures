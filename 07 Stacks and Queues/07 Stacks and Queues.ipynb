{
 "cells": [
  {
   "cell_type": "markdown",
   "metadata": {},
   "source": [
    "<!-- ![pythonLogo.png](https://www.python.org/static/community_logos/python-powered-w-200x80.png) -->\n",
    "\n",
    "# 07 Stacks and Queues"
   ]
  },
  {
   "cell_type": "markdown",
   "metadata": {},
   "source": [
    "## Plan for the lecture \n",
    "\n",
    "* Stack (LIFO)\n",
    "\n",
    "* Queue (FIFO)\n",
    "\n",
    "* Queue Theory "
   ]
  },
  {
   "cell_type": "markdown",
   "metadata": {},
   "source": [
    "## Memory Stack \n",
    "\n",
    "* Stack is generally a smaller memory store \n",
    "\n",
    "* You may store pointers/memory references to the larger data items (objects/arrays) which are stored on the heap.\n",
    "\n",
    "* Generally stores smaller pieces of memory (storing function calls, local variables, and return addresses)\n"
   ]
  },
  {
   "cell_type": "markdown",
   "metadata": {},
   "source": [
    "<img src=\"https://unicminds.com/wp-content/uploads/2022/09/StackvsHeap-Expalined-for-Kids.png\" alt=\"stack_heap\" width=\"650\"> \n"
   ]
  },
  {
   "cell_type": "markdown",
   "metadata": {},
   "source": [
    "## Generic Stack arrangement of data\n",
    "\n",
    "* Add to the top of the stack\n",
    "\n",
    "* Remove from the top of the stack \n",
    "\n",
    "* Therefore, the last item (Last In) is removed first (First Out) = Last In First Out (LIFO)\n",
    "\n",
    "![stack_of_boxes](https://t3.ftcdn.net/jpg/06/36/27/88/360_F_636278879_ABH6wcGSl8B1RuvTMrMpv7D88SHLflXk.jpg)"
   ]
  },
  {
   "cell_type": "markdown",
   "metadata": {},
   "source": [
    "![stack_courier](https://media.istockphoto.com/id/1432735210/photo/smiling-courier-loading-hand-truck-stacking-packages.jpg?s=612x612&w=0&k=20&c=IfF-7zoYl6f5P598avTbOBARLy57AXuOHfXvZsjQFqY=)"
   ]
  },
  {
   "cell_type": "markdown",
   "metadata": {},
   "source": [
    "# Stack\n",
    "\n",
    "* A stack operates on a <b>Last In First Out (LIFO) </b> principle. \n",
    "\n",
    "* If we stack up plates after a meal, then it is much easier to wash up the plate on the top of the stack as it is most accessible. \n",
    "\n",
    "* If we attempt to draw from the bottom of the stack of plates then we risk toppling the plates stacked on top of the bottom one. This principle is modelled in a stack of data. \n",
    "\n",
    "\n",
    "<img src=\"https://scaler.com/topics/images/working-of-stack-in-java.gif\" alt=\"stack_gif\" width=\"650\"> "
   ]
  },
  {
   "cell_type": "code",
   "execution_count": 1,
   "metadata": {},
   "outputs": [],
   "source": [
    "class Node:\n",
    "  def __init__(self, value, next_node=None):\n",
    "    self.value = value\n",
    "    self.next_node = next_node\n",
    "    \n",
    "  def get_value(self):\n",
    "    return self.value\n",
    "  \n",
    "  def get_next_node(self):\n",
    "    return self.next_node\n",
    "  \n",
    "  def set_next_node(self, next_node):\n",
    "    self.next_node = next_node\n",
    "    "
   ]
  },
  {
   "cell_type": "code",
   "execution_count": 2,
   "metadata": {},
   "outputs": [],
   "source": [
    "class Stack:\n",
    "  def __init__(self, limit=1000):\n",
    "    self.top_item = None\n",
    "    self.size = 0\n",
    "    self.limit = limit\n",
    "  \n",
    "  def push(self, value):\n",
    "    if self.has_space():\n",
    "      item = Node(value)\n",
    "      item.set_next_node(self.top_item)\n",
    "      self.top_item = item\n",
    "      self.size += 1\n",
    "      print(\"Adding {} to the pizza stack!\".format(value))\n",
    "    else:\n",
    "      print(\"No room for {}!\".format(value))\n",
    "\n",
    "  def pop(self):\n",
    "    if not self.is_empty():\n",
    "      item_to_remove = self.top_item\n",
    "      self.top_item = item_to_remove.get_next_node()\n",
    "      self.size -= 1\n",
    "      print(\"Delivering \" + item_to_remove.get_value())\n",
    "      return item_to_remove.get_value()\n",
    "    print(\"All out of pizza.\")\n",
    "\n",
    "  def peek(self):\n",
    "    if not self.is_empty():\n",
    "      return self.top_item.get_value()\n",
    "    print(\"Nothing to see here!\")\n",
    "\n",
    "  def has_space(self):\n",
    "    return self.limit > self.size\n",
    "\n",
    "  def is_empty(self):\n",
    "    return self.size == 0\n"
   ]
  },
  {
   "cell_type": "code",
   "execution_count": 3,
   "metadata": {},
   "outputs": [
    {
     "name": "stdout",
     "output_type": "stream",
     "text": [
      "Adding pizza #1 to the pizza stack!\n",
      "Adding pizza #2 to the pizza stack!\n",
      "Adding pizza #3 to the pizza stack!\n",
      "Adding pizza #4 to the pizza stack!\n",
      "Adding pizza #5 to the pizza stack!\n",
      "Adding pizza #6 to the pizza stack!\n",
      "No room for pizza #7!\n",
      "The first pizza to deliver is pizza #6\n",
      "Delivering pizza #6\n",
      "Delivering pizza #5\n",
      "Delivering pizza #4\n",
      "Delivering pizza #3\n",
      "Delivering pizza #2\n",
      "Delivering pizza #1\n",
      "All out of pizza.\n"
     ]
    }
   ],
   "source": [
    "  # Defining an empty pizza stack\n",
    "pizza_stack = Stack(6)\n",
    "# Adding pizzas as they are ready until we have \n",
    "pizza_stack.push(\"pizza #1\")\n",
    "pizza_stack.push(\"pizza #2\")\n",
    "pizza_stack.push(\"pizza #3\")\n",
    "pizza_stack.push(\"pizza #4\")\n",
    "pizza_stack.push(\"pizza #5\")\n",
    "pizza_stack.push(\"pizza #6\")\n",
    "\n",
    "# Uncomment the push() statement below:\n",
    "pizza_stack.push(\"pizza #7\")\n",
    "\n",
    "# Delivering pizzas from the top of the stack down\n",
    "print(\"The first pizza to deliver is \" + pizza_stack.peek())\n",
    "pizza_stack.pop()\n",
    "pizza_stack.pop()\n",
    "pizza_stack.pop()\n",
    "pizza_stack.pop()\n",
    "pizza_stack.pop()\n",
    "pizza_stack.pop()\n",
    "\n",
    "# Uncomment the pop() statement below:\n",
    "pizza_stack.pop()"
   ]
  },
  {
   "cell_type": "markdown",
   "metadata": {},
   "source": [
    "## Email Stack!\n",
    "\n",
    "<img src=\"https://media.gettyimages.com/id/123215429/photo/stack-of-envelopes.jpg?s=612x612&w=gi&k=20&c=AMRO6FW4MSmTOoUwgvPaJsElVuBaqBTizRaGhJECmWc=\" alt=\"queue_gif\" width=\"400\"> "
   ]
  },
  {
   "cell_type": "markdown",
   "metadata": {},
   "source": [
    "## Python's stack class\n"
   ]
  },
  {
   "cell_type": "code",
   "execution_count": 5,
   "metadata": {},
   "outputs": [
    {
     "ename": "ModuleNotFoundError",
     "evalue": "No module named 'deque'",
     "output_type": "error",
     "traceback": [
      "\u001b[0;31m---------------------------------------------------------------------------\u001b[0m",
      "\u001b[0;31mModuleNotFoundError\u001b[0m                       Traceback (most recent call last)",
      "Cell \u001b[0;32mIn [5], line 1\u001b[0m\n\u001b[0;32m----> 1\u001b[0m \u001b[38;5;28;01mimport\u001b[39;00m \u001b[38;5;21;01mdeque\u001b[39;00m\n",
      "\u001b[0;31mModuleNotFoundError\u001b[0m: No module named 'deque'"
     ]
    }
   ],
   "source": [
    "import deque"
   ]
  },
  {
   "cell_type": "code",
   "execution_count": null,
   "metadata": {},
   "outputs": [],
   "source": [
    "dir(deque)"
   ]
  },
  {
   "cell_type": "markdown",
   "metadata": {},
   "source": [
    "## Queue\n",
    "\n",
    "* A queue operates on First In First Out (FIFO) principle. \n",
    "\n",
    "* This follows the natural process of queuing up as human beings to be served - either to get on a train, to buy coffee, purchase food in a supermarket etc. \n",
    "* The first item added the queue (enqueued) is the first to be removed (dequeued).\n",
    "\n",
    "<img src=\"https://miro.medium.com/max/1196/1*PMYRFmVecFT61P4aAh0g1g.png\" alt=\"queue_gif\" width=\"650\"> \n"
   ]
  },
  {
   "cell_type": "markdown",
   "metadata": {},
   "source": [
    "# Enqueue - Add items to a queue"
   ]
  },
  {
   "cell_type": "code",
   "execution_count": 4,
   "metadata": {},
   "outputs": [],
   "source": [
    "class Node:\n",
    "  def __init__(self, value, next_node=None):\n",
    "    self.value = value\n",
    "    self.next_node = next_node\n",
    "    \n",
    "  def get_value(self):\n",
    "    return self.value\n",
    "  \n",
    "  def get_next_node(self):\n",
    "    return self.next_node\n",
    "  \n",
    "  def set_next_node(self, next_node):\n",
    "    self.next_node = next_node"
   ]
  },
  {
   "cell_type": "code",
   "execution_count": 5,
   "metadata": {},
   "outputs": [],
   "source": [
    "class Queue:\n",
    "  def __init__(self, max_size=None):\n",
    "    self.head = None\n",
    "    self.tail = None\n",
    "    self.max_size = max_size\n",
    "    self.size = 0\n",
    "    \n",
    "  def enqueue(self, value):\n",
    "    if self.has_space():\n",
    "      item_to_add = Node(value)\n",
    "      print(\"Adding \" + str(item_to_add.get_value()) + \" to the queue!\")\n",
    "      if self.is_empty():\n",
    "        self.head = item_to_add\n",
    "        self.tail = item_to_add\n",
    "      else:\n",
    "        self.tail.set_next_node(item_to_add)\n",
    "        self.tail = item_to_add\n",
    "      self.size += 1\n",
    "    else:\n",
    "      print(\"Sorry, no more room!\")\n",
    "    \n",
    "  def peek(self):\n",
    "    if self.is_empty():\n",
    "      print(\"Nothing to see here!\")\n",
    "    else:\n",
    "      return self.head.get_value()\n",
    "  \n",
    "  def get_size(self):\n",
    "    return self.size\n",
    "  \n",
    "  def has_space(self):\n",
    "    if self.max_size == None:\n",
    "      return True\n",
    "    else:\n",
    "      return self.max_size > self.get_size()\n",
    "    \n",
    "  def is_empty(self):\n",
    "    return self.size == 0\n"
   ]
  },
  {
   "cell_type": "code",
   "execution_count": null,
   "metadata": {},
   "outputs": [],
   "source": [
    "q = Queue()\n",
    "q.enqueue(\"all the fluffy kitties\")"
   ]
  },
  {
   "cell_type": "markdown",
   "metadata": {},
   "source": [
    "# Dequeue - removal from the Queue"
   ]
  },
  {
   "cell_type": "code",
   "execution_count": 6,
   "metadata": {},
   "outputs": [],
   "source": [
    "class Queue:\n",
    "  def __init__(self, max_size=None):\n",
    "    self.head = None\n",
    "    self.tail = None\n",
    "    self.max_size = max_size\n",
    "    self.size = 0\n",
    "    \n",
    "  def enqueue(self, value):\n",
    "    if self.has_space():\n",
    "      item_to_add = Node(value)\n",
    "      print(\"Adding \" + str(item_to_add.get_value()) + \" to the queue!\")\n",
    "      if self.is_empty():\n",
    "        self.head = item_to_add\n",
    "        self.tail = item_to_add\n",
    "      else:\n",
    "        self.tail.set_next_node(item_to_add)\n",
    "        self.tail = item_to_add\n",
    "      self.size += 1\n",
    "    else:\n",
    "      print(\"Sorry, no more room!\")\n",
    "      \n",
    "  def dequeue(self):\n",
    "    if self.get_size() > 0:\n",
    "      item_to_remove = self.head\n",
    "      print(\"Removing \" + str(item_to_remove.get_value()) + \" from the queue!\")\n",
    "      if self.get_size() == 1:\n",
    "        self.head = None\n",
    "        self.tail = None\n",
    "      else:\n",
    "        self.head = self.head.get_next_node()\n",
    "      self.size -= 1\n",
    "      return item_to_remove.get_value()\n",
    "    else:\n",
    "      print(\"This queue is totally empty!\")\n",
    "  \n",
    "  def peek(self):\n",
    "    if self.is_empty():\n",
    "      print(\"Nothing to see here!\")\n",
    "    else:\n",
    "      return self.head.get_value()\n",
    "  \n",
    "  def get_size(self):\n",
    "    return self.size\n",
    "  \n",
    "  def has_space(self):\n",
    "    if self.max_size == None:\n",
    "      return True\n",
    "    else:\n",
    "      return self.max_size > self.get_size()\n",
    "    \n",
    "  def is_empty(self):\n",
    "    return self.size == 0\n",
    "\n"
   ]
  },
  {
   "cell_type": "code",
   "execution_count": 7,
   "metadata": {},
   "outputs": [
    {
     "name": "stdout",
     "output_type": "stream",
     "text": [
      "Adding some guy with a mustache to the queue!\n",
      "Removing some guy with a mustache from the queue!\n"
     ]
    },
    {
     "data": {
      "text/plain": [
       "'some guy with a mustache'"
      ]
     },
     "execution_count": 7,
     "metadata": {},
     "output_type": "execute_result"
    }
   ],
   "source": [
    "q = Queue()\n",
    "q.enqueue(\"some guy with a mustache\")\n",
    "q.dequeue()\n"
   ]
  },
  {
   "cell_type": "markdown",
   "metadata": {},
   "source": [
    "# Queue example"
   ]
  },
  {
   "cell_type": "code",
   "execution_count": 11,
   "metadata": {},
   "outputs": [],
   "source": [
    "\n",
    "class Queue:\n",
    "  def __init__(self, max_size=None):\n",
    "    self.head = None\n",
    "    self.tail = None\n",
    "    self.max_size = max_size\n",
    "    self.size = 0\n",
    "    \n",
    "  def enqueue(self, value):\n",
    "    if self.has_space():\n",
    "      item_to_add = Node(value)\n",
    "      print(\"Adding \" + str(item_to_add.get_value()) + \" to the queue!\")\n",
    "      if self.is_empty():\n",
    "        self.head = item_to_add\n",
    "        self.tail = item_to_add\n",
    "      else:\n",
    "        self.tail.set_next_node(item_to_add)\n",
    "        self.tail = item_to_add\n",
    "      self.size += 1\n",
    "    else:\n",
    "      print(\"Sorry, no more room!\")\n",
    "         \n",
    "  def dequeue(self):\n",
    "    if self.get_size() > 0:\n",
    "      item_to_remove = self.head\n",
    "      print(str(item_to_remove.get_value()) + \" is served!\")\n",
    "      if self.get_size() == 1:\n",
    "        self.head = None\n",
    "        self.tail = None\n",
    "      else:\n",
    "        self.head = self.head.get_next_node()\n",
    "      self.size -= 1\n",
    "      return item_to_remove.get_value()\n",
    "    else:\n",
    "      print(\"The queue is totally empty!\")\n",
    "  \n",
    "  def peek(self):\n",
    "    if self.is_empty():\n",
    "      print(\"Nothing to see here!\")\n",
    "    else:\n",
    "      return self.head.get_value()\n",
    "  \n",
    "  def get_size(self):\n",
    "    return self.size\n",
    "  \n",
    "  def has_space(self):\n",
    "    if self.max_size == None:\n",
    "      return True\n",
    "    else:\n",
    "      return self.max_size > self.get_size()\n",
    "    \n",
    "  def is_empty(self):\n",
    "    return self.size == 0\n",
    "\n"
   ]
  },
  {
   "cell_type": "code",
   "execution_count": 10,
   "metadata": {},
   "outputs": [
    {
     "name": "stdout",
     "output_type": "stream",
     "text": [
      "Creating a deli line with up to 10 orders...\n",
      "------------\n",
      "Adding orders to our deli line...\n",
      "------------\n",
      "Adding egg and cheese on a roll to the queue!\n",
      "Adding bacon, egg, and cheese on a roll to the queue!\n",
      "Adding toasted sesame bagel with butter and jelly to the queue!\n",
      "Adding toasted roll with butter to the queue!\n",
      "Adding bacon, egg, and cheese on a plain bagel to the queue!\n",
      "Adding two fried eggs with home fries and ketchup to the queue!\n",
      "Adding egg and cheese on a roll with jalapeos to the queue!\n",
      "Adding plain bagel with plain cream cheese to the queue!\n",
      "Adding blueberry muffin toasted with butter to the queue!\n",
      "Adding bacon, egg, and cheese on a roll to the queue!\n",
      "Sorry, no more room!\n",
      "------------\n",
      "Our first order will be egg and cheese on a roll\n",
      "------------\n",
      "Now serving...\n",
      "------------\n",
      "egg and cheese on a roll is served!\n",
      "bacon, egg, and cheese on a roll is served!\n",
      "toasted sesame bagel with butter and jelly is served!\n",
      "toasted roll with butter is served!\n",
      "bacon, egg, and cheese on a plain bagel is served!\n",
      "two fried eggs with home fries and ketchup is served!\n",
      "egg and cheese on a roll with jalapeos is served!\n",
      "plain bagel with plain cream cheese is served!\n",
      "blueberry muffin toasted with butter is served!\n",
      "bacon, egg, and cheese on a roll is served!\n",
      "The queue is totally empty!\n"
     ]
    }
   ],
   "source": [
    "print(\"Creating a deli line with up to 10 orders...\\n------------\")\n",
    "deli_line = Queue(10)\n",
    "\n",
    "print(\"Adding orders to our deli line...\\n------------\")\n",
    "deli_line.enqueue(\"egg and cheese on a roll\")\n",
    "deli_line.enqueue(\"bacon, egg, and cheese on a roll\")\n",
    "deli_line.enqueue(\"toasted sesame bagel with butter and jelly\")\n",
    "deli_line.enqueue(\"toasted roll with butter\")\n",
    "deli_line.enqueue(\"bacon, egg, and cheese on a plain bagel\")\n",
    "deli_line.enqueue(\"two fried eggs with home fries and ketchup\")\n",
    "deli_line.enqueue(\"egg and cheese on a roll with jalapeos\")\n",
    "deli_line.enqueue(\"plain bagel with plain cream cheese\")\n",
    "deli_line.enqueue(\"blueberry muffin toasted with butter\")\n",
    "deli_line.enqueue(\"bacon, egg, and cheese on a roll\")\n",
    "deli_line.enqueue(\"western omelet with home fries\")\n",
    "\n",
    "print(\"------------\\nOur first order will be \" + deli_line.peek())\n",
    "print(\"------------\\nNow serving...\\n------------\")\n",
    "deli_line.dequeue()\n",
    "deli_line.dequeue()\n",
    "deli_line.dequeue()\n",
    "deli_line.dequeue()\n",
    "deli_line.dequeue()\n",
    "deli_line.dequeue()\n",
    "deli_line.dequeue()\n",
    "deli_line.dequeue()\n",
    "deli_line.dequeue()\n",
    "deli_line.dequeue()\n",
    "\n",
    "deli_line.dequeue()\n"
   ]
  },
  {
   "cell_type": "markdown",
   "metadata": {},
   "source": [
    "## Python's own deque library"
   ]
  },
  {
   "cell_type": "code",
   "execution_count": 1,
   "metadata": {},
   "outputs": [],
   "source": [
    "import queue"
   ]
  },
  {
   "cell_type": "code",
   "execution_count": 2,
   "metadata": {},
   "outputs": [
    {
     "data": {
      "text/plain": [
       "['Empty',\n",
       " 'Full',\n",
       " 'LifoQueue',\n",
       " 'PriorityQueue',\n",
       " 'Queue',\n",
       " 'SimpleQueue',\n",
       " '_PySimpleQueue',\n",
       " '__all__',\n",
       " '__builtins__',\n",
       " '__cached__',\n",
       " '__doc__',\n",
       " '__file__',\n",
       " '__loader__',\n",
       " '__name__',\n",
       " '__package__',\n",
       " '__spec__',\n",
       " 'deque',\n",
       " 'heappop',\n",
       " 'heappush',\n",
       " 'threading',\n",
       " 'time',\n",
       " 'types']"
      ]
     },
     "execution_count": 2,
     "metadata": {},
     "output_type": "execute_result"
    }
   ],
   "source": [
    "dir(queue)"
   ]
  },
  {
   "cell_type": "markdown",
   "metadata": {},
   "source": [
    "## Optimal Queue Theory"
   ]
  },
  {
   "cell_type": "code",
   "execution_count": null,
   "metadata": {},
   "outputs": [],
   "source": []
  },
  {
   "cell_type": "markdown",
   "metadata": {},
   "source": [
    "## Exercise\n",
    "\n",
    "Insert a 'code' cell below. In this do the following:\n",
    "\n",
    "- 1 - Instantiate the Queue class - check that you can successfully insert (enqueue), and remove (dequeue) items. Also check the order of the removal (dequeue). Is the First In First Out principle implemented correctly.\n",
    "- 2 - Now do the same for the Queue - create a LinkedQueue class that will be a queue of separate linkedlist objects. Each object is a linkedlist, and can enqueued and dequeued as any other object would.\n",
    "\n",
    "C++ EXERCISES to ADAPT\n",
    "\n",
    "/*\n",
    "* Exercise 3: Create a Queue that uses an Array \n",
    "* Using an integer array, complete the class outline below to be able to 'enqueue' and 'dequeue' integer values. \n",
    "* The enqueue function should add data to the 'rear' of the queue. \n",
    "* The dequeue function should remove data to the 'front' of the queue.\n",
    "*  \n",
    "* Extension 1: Add front and rear 'pointers' so fixed size arrays can be treated as 'circular queue'.\n",
    "* Extension 2: Add code to the 'enqueue' function so items are sorted via 'priority'.   \n",
    "*/\n",
    "\n",
    "/*\n",
    "* Exercise 4: Linked Queue \n",
    "* Now amend your Queue class and its logic to work a linked list of nodes/links (pointers to objects of any class)\n",
    "* You may want to make this a template class so it can handle pointers to objects of any class structure. \n",
    "* \n",
    "* Extension: If you completed the 'Contacts' class from 04 Hashing, you could model/simulate a 'queue' of customers. \n",
    "*            (Think trying to phone an energy company!)  \n",
    "*            Generate some customer nodes and add them to a queue (enqueue them).\n",
    "*            You could 'dequeue' customers after they have been served (you could simulate this by generating random lengths of conversation).\n",
    "*            Track a given caller's position in the queue (and this should update regularly as customers ahead in the queue are served and exit the queue).\n",
    "*/\n",
    "\n"
   ]
  },
  {
   "cell_type": "markdown",
   "metadata": {},
   "source": [
    "## Exercise 1: Queue using a Python list [ ]"
   ]
  },
  {
   "cell_type": "code",
   "execution_count": null,
   "metadata": {},
   "outputs": [],
   "source": [
    "# Write your solution here. "
   ]
  },
  {
   "cell_type": "markdown",
   "metadata": {},
   "source": [
    "## Exercise 2: Queue using a Numpy Array"
   ]
  },
  {
   "cell_type": "code",
   "execution_count": null,
   "metadata": {},
   "outputs": [],
   "source": [
    "# Write your solution here."
   ]
  },
  {
   "cell_type": "markdown",
   "metadata": {},
   "source": [
    "## Exercise 3: Queue using a Linked List (Linked Queue)"
   ]
  },
  {
   "cell_type": "code",
   "execution_count": null,
   "metadata": {},
   "outputs": [],
   "source": [
    "# Write your solution here."
   ]
  },
  {
   "cell_type": "markdown",
   "metadata": {},
   "source": [
    "## Exercise 4: Priority Queue"
   ]
  },
  {
   "cell_type": "code",
   "execution_count": null,
   "metadata": {},
   "outputs": [],
   "source": [
    "# Write your solution here."
   ]
  },
  {
   "cell_type": "markdown",
   "metadata": {},
   "source": [
    "## Exercise 5: Circular Queue for fixed sized data structures (Numpy Array)"
   ]
  },
  {
   "cell_type": "code",
   "execution_count": null,
   "metadata": {},
   "outputs": [],
   "source": [
    "# Write your solution here. "
   ]
  },
  {
   "cell_type": "markdown",
   "metadata": {},
   "source": [
    "## Scenario Exercise - Queue Theory \n",
    "\n",
    "Humans queue for everything - traffic / transport, food/drink, sport - you name it! \n",
    "\n",
    "If a queue is too long, customers are likely to try another queue / provider, which may result in lost business (or bad reviews/complaints). To reduce queue length, more staff are required but this costs the business more in salaries. Therefore, businesses try to balance demand with cost. Furthermore, demand fluctuates throughout the day and during different seasons. \n",
    "\n",
    "Let's simulate a simple scenario. Simulate a queue that starts as a single line. Once the number of people in the queue exceeds a predefined threshold, the queue splits into two separate lines. \n",
    "\n",
    "Assume there is a: \n",
    "* `arrival_rate`\n",
    "* `service_rate`\n",
    "* `split_threshold`\n",
    "\n",
    "You could also add a `simulation_time`. \n",
    "\n",
    "Utilise your queue code from above in this simulation. \n",
    "\n",
    "Extension: scale this now so that more than queues can be created if the demand was to increase.\n"
   ]
  },
  {
   "cell_type": "code",
   "execution_count": null,
   "metadata": {},
   "outputs": [],
   "source": []
  },
  {
   "cell_type": "markdown",
   "metadata": {},
   "source": [
    "# Scenario exercise - Model a Queue of people \n",
    "Queues are everywhere in our social world - humans need to queue to enter venues or get access to services! \n",
    "\n",
    "Start by modelling a call centre which handles incoming calls. Usually callers are put into a queue and told which position they are in. \n",
    "\n",
    "Start by creating a simple queue system where objects of a class (e.g. Person, or Contact) are added to the queue. \n",
    "\n",
    "Use random number generators to simulate the time it takes to be served (between say 1 - 10 minutes).\n",
    "\n",
    "Extension: in the case of larger capacity venues such as football matches or airport security, these require people to be filtered into multiple separate queues to ensure the crowd keep moving. So model a larger capacity data set (you can generate at random), and decide how many queues would be optimal to keep people moving, perhaps up to a fixed capacity. \n",
    "\n",
    "Remember that large capacity venues also halt queues periodically to give the people ahead the chance to be served. "
   ]
  },
  {
   "cell_type": "markdown",
   "metadata": {},
   "source": [
    "Extension: If you completed the 'Contacts' class from 04 Hashing, you could model/simulate a 'queue' of customers. \n",
    "* Think trying to phone an energy company!  \n",
    "* Generate some customer nodes and add them to a queue (enqueue them).\n",
    "* You could 'dequeue' customers after they have been served (you could simulate this by generating random lengths of conversation).\n",
    "* Track a given caller's position in the queue (and this should update regularly as customers ahead in the queue are served and exit the queue)."
   ]
  },
  {
   "cell_type": "code",
   "execution_count": null,
   "metadata": {},
   "outputs": [],
   "source": [
    "# Write your solution here."
   ]
  },
  {
   "cell_type": "code",
   "execution_count": null,
   "metadata": {},
   "outputs": [],
   "source": []
  },
  {
   "cell_type": "markdown",
   "metadata": {
    "slideshow": {
     "slide_type": "slide"
    }
   },
   "source": [
    "## Exercises\n",
    "\n",
    "Insert a 'code' cell below. In this do the following:\n",
    "\n",
    "- 1 - Instantiate the Stack class (copy from above). Push five integer values onto the stack object. Check that you can also 'Pop' these items off the stack and display their values to screen. What do you notice about the order of the items?\n",
    "- 2 - Create a new class called LinkedStack. This class should be able to merge the functionality of the original LinkedList class and Stack class. Each object added to the LinkedStack, should be a separate linkedlist object. When one linkedlist object is 'popped' from the stack, you can also print the entire list from this object returned from the stack.\n",
    "\n",
    "\n",
    "C++ EXERCISES to ADAPT\n",
    "\n",
    "In this week, we'll look at Stacks (based on the LIFO principle) and Queues (FIFO principle).  \n",
    "*  We'll set up classes to represent these using arrays, vectors and linked lists. \n",
    "*  We'll also review the STL stack and queue classes and compare them with ours for good measure!\n",
    "*  Like before, I've included the exercise function declarations for you to complete the definition for. \n",
    "*/\n",
    "\n",
    "/*\n",
    "* Exercise 1: Create a Stack class that uses an Array \n",
    "* Complete the Stack class below, which has functionality to 'peek', 'pop', and 'push' data.\n",
    "* The push function should add new data to the top of the stack \n",
    "* The pop function should remove data from the top of the stack\n",
    "* The peek function should return the top of the stack (but not delete)\n",
    "* \n",
    "* We'll start by representing the stack as an integer array. \n",
    "* In main above, populate the stack with random integer values. \n",
    "* \n",
    "* Extension 1: Either create a new class or amend the Stack class to use a vector rather than an array.\n",
    "* Extension 2: Either create a new class or amend the Stack class to be a template class, which can create the stack \n",
    "*              of a data type specified when the template class is instantiated.\n",
    "*/\n",
    "\n",
    "\n",
    "/*\n",
    "* Exercise 2: Create a Stack that uses a Linked List \n",
    "* Now complete the 'LinkedStack' class below, using similar logic to the 'Stack' class above.\n",
    "* However, this time, the pointers to an object of a class will be stacked (pushed) on top of previously added pointers.\n",
    "* Code this to be a template class which store objects to pointers of any class. \n",
    "* \n",
    "* Extension: Function calls and user actions are often stacked on top of each other, often for the purposes of going back/undoing actions. \n",
    "*            Furthermore, We'll see that the Depth-First Search algorithm stacks nodes on top of each other (and Breadth-First Search algorithm uses queues).            \n",
    "*            For now, simulate a scenario which requires items to be stacked on top of each other. You could add pointers to either functions or objects to this LinkedStack template you've created.\n",
    "*/\n",
    "\n"
   ]
  },
  {
   "cell_type": "markdown",
   "metadata": {},
   "source": [
    "## Exercise 1 - Stack that uses a Python List"
   ]
  },
  {
   "cell_type": "code",
   "execution_count": null,
   "metadata": {},
   "outputs": [],
   "source": [
    "# Write your solution here."
   ]
  },
  {
   "cell_type": "markdown",
   "metadata": {},
   "source": [
    "## Exercise 2 - Stack that uses a Numpy Array"
   ]
  },
  {
   "cell_type": "code",
   "execution_count": null,
   "metadata": {},
   "outputs": [],
   "source": [
    "# Write your solution here."
   ]
  },
  {
   "cell_type": "markdown",
   "metadata": {},
   "source": [
    "## Exercise 3 - Stack that uses a Linked List"
   ]
  },
  {
   "cell_type": "code",
   "execution_count": 2,
   "metadata": {},
   "outputs": [],
   "source": [
    "# Write your solution here."
   ]
  },
  {
   "cell_type": "markdown",
   "metadata": {},
   "source": [
    "## Exercise 4 - Template behaviour?"
   ]
  },
  {
   "cell_type": "code",
   "execution_count": null,
   "metadata": {},
   "outputs": [],
   "source": [
    "# Write your solution here."
   ]
  },
  {
   "cell_type": "markdown",
   "metadata": {},
   "source": [
    "## Exercise 5 - "
   ]
  },
  {
   "cell_type": "code",
   "execution_count": null,
   "metadata": {},
   "outputs": [],
   "source": [
    "# Write your solution here."
   ]
  },
  {
   "cell_type": "markdown",
   "metadata": {},
   "source": [
    "## Scenario Exercise - Emulate a GUI showing a stack of emails! \n",
    "\n",
    "Emails are always added to the top of the GUI stack... however, they may not always be removed from the top of the stack... modify the behaviour of the stack so you can remove from the middle if needed!"
   ]
  },
  {
   "cell_type": "code",
   "execution_count": null,
   "metadata": {},
   "outputs": [],
   "source": [
    "# Write your solution here. "
   ]
  },
  {
   "cell_type": "code",
   "execution_count": null,
   "metadata": {},
   "outputs": [],
   "source": []
  }
 ],
 "metadata": {
  "celltoolbar": "Slideshow",
  "kernelspec": {
   "display_name": "Python 3",
   "language": "python",
   "name": "python3"
  },
  "language_info": {
   "codemirror_mode": {
    "name": "ipython",
    "version": 3
   },
   "file_extension": ".py",
   "mimetype": "text/x-python",
   "name": "python",
   "nbconvert_exporter": "python",
   "pygments_lexer": "ipython3",
   "version": "3.9.6"
  }
 },
 "nbformat": 4,
 "nbformat_minor": 4
}
